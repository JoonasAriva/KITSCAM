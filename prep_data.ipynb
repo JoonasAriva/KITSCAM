{
 "cells": [
  {
   "cell_type": "code",
   "execution_count": 1,
   "id": "c5ae2b43",
   "metadata": {},
   "outputs": [],
   "source": [
    "import numpy as np\n",
    "import os"
   ]
  },
  {
   "cell_type": "code",
   "execution_count": 2,
   "id": "2162a4e6",
   "metadata": {},
   "outputs": [
    {
     "name": "stdout",
     "output_type": "stream",
     "text": [
      "2D_slice_classifier.ipynb  core.141733\tcore.18666\t resnet.png\r\n",
      "Score-CAM\t\t   core.149578\tcore.65332\t test_model\r\n",
      "Score-CAM test .ipynb\t   core.167730\tprep_data.ipynb\r\n"
     ]
    }
   ],
   "source": [
    "!ls"
   ]
  },
  {
   "cell_type": "code",
   "execution_count": 3,
   "id": "179b1e66",
   "metadata": {},
   "outputs": [
    {
     "data": {
      "text/plain": [
       "'/gpfs/space/home/joonas97/kitscam'"
      ]
     },
     "execution_count": 3,
     "metadata": {},
     "output_type": "execute_result"
    }
   ],
   "source": [
    "os.getcwd()"
   ]
  },
  {
   "cell_type": "code",
   "execution_count": 4,
   "id": "d42b7e3c",
   "metadata": {},
   "outputs": [],
   "source": [
    "os.chdir('/gpfs/space/home/joonas97/data/kits21/2dslices/')"
   ]
  },
  {
   "cell_type": "code",
   "execution_count": 5,
   "id": "7af7490b",
   "metadata": {},
   "outputs": [],
   "source": [
    "train_kidney = np.load('val/val_kidney_slices_segmentation_maps.npy') "
   ]
  },
  {
   "cell_type": "code",
   "execution_count": 6,
   "id": "af266f5d",
   "metadata": {},
   "outputs": [],
   "source": [
    "train_no_kidney = np.load('val/val_no_kidney_slices_segmentation_maps.npy')"
   ]
  },
  {
   "cell_type": "code",
   "execution_count": 7,
   "id": "cedaa9a9",
   "metadata": {},
   "outputs": [
    {
     "data": {
      "text/plain": [
       "(764, 512, 512)"
      ]
     },
     "execution_count": 7,
     "metadata": {},
     "output_type": "execute_result"
    }
   ],
   "source": [
    "train_kidney.shape"
   ]
  },
  {
   "cell_type": "code",
   "execution_count": 8,
   "id": "ab10ee41",
   "metadata": {},
   "outputs": [
    {
     "data": {
      "text/plain": [
       "array([[0., 0., 0., ..., 0., 0., 0.],\n",
       "       [0., 0., 0., ..., 0., 0., 0.],\n",
       "       [0., 0., 0., ..., 0., 0., 0.],\n",
       "       ...,\n",
       "       [0., 0., 0., ..., 0., 0., 0.],\n",
       "       [0., 0., 0., ..., 0., 0., 0.],\n",
       "       [0., 0., 0., ..., 0., 0., 0.]])"
      ]
     },
     "execution_count": 8,
     "metadata": {},
     "output_type": "execute_result"
    }
   ],
   "source": [
    "train_kidney[0,:50]"
   ]
  },
  {
   "cell_type": "code",
   "execution_count": 10,
   "id": "cf0b2eeb",
   "metadata": {},
   "outputs": [
    {
     "data": {
      "text/plain": [
       "(1473, 512, 512)"
      ]
     },
     "execution_count": 10,
     "metadata": {},
     "output_type": "execute_result"
    }
   ],
   "source": [
    "train_no_kidney.shape"
   ]
  },
  {
   "cell_type": "code",
   "execution_count": 11,
   "id": "8c2f094d",
   "metadata": {},
   "outputs": [],
   "source": [
    "train_mixed = np.concatenate((train_kidney, train_no_kidney[:train_kidney.shape[0],:]))"
   ]
  },
  {
   "cell_type": "code",
   "execution_count": 12,
   "id": "919c2945",
   "metadata": {},
   "outputs": [
    {
     "data": {
      "text/plain": [
       "(1528, 512, 512)"
      ]
     },
     "execution_count": 12,
     "metadata": {},
     "output_type": "execute_result"
    }
   ],
   "source": [
    "train_mixed.shape"
   ]
  },
  {
   "cell_type": "code",
   "execution_count": 11,
   "id": "cee8026c",
   "metadata": {},
   "outputs": [],
   "source": [
    "labels = np.concatenate((np.ones(train_kidney.shape[0]), np.zeros(train_kidney.shape[0])))"
   ]
  },
  {
   "cell_type": "code",
   "execution_count": 12,
   "id": "6fc137d3",
   "metadata": {},
   "outputs": [
    {
     "data": {
      "text/plain": [
       "(1528,)"
      ]
     },
     "execution_count": 12,
     "metadata": {},
     "output_type": "execute_result"
    }
   ],
   "source": [
    "labels.shape"
   ]
  },
  {
   "cell_type": "code",
   "execution_count": 13,
   "id": "d3ffe9f7",
   "metadata": {},
   "outputs": [],
   "source": [
    "np.save('val_data_segmentation_maps', train_mixed)"
   ]
  },
  {
   "cell_type": "code",
   "execution_count": 14,
   "id": "9be77f20",
   "metadata": {},
   "outputs": [],
   "source": [
    "np.save('val_labels', labels)"
   ]
  },
  {
   "cell_type": "code",
   "execution_count": null,
   "id": "3f5c7ecb",
   "metadata": {},
   "outputs": [],
   "source": []
  }
 ],
 "metadata": {
  "kernelspec": {
   "display_name": "Python 3 (ipykernel)",
   "language": "python",
   "name": "python3"
  },
  "language_info": {
   "codemirror_mode": {
    "name": "ipython",
    "version": 3
   },
   "file_extension": ".py",
   "mimetype": "text/x-python",
   "name": "python",
   "nbconvert_exporter": "python",
   "pygments_lexer": "ipython3",
   "version": "3.10.6"
  }
 },
 "nbformat": 4,
 "nbformat_minor": 5
}

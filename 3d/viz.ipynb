{
 "cells": [
  {
   "cell_type": "code",
   "execution_count": 1,
   "metadata": {},
   "outputs": [],
   "source": [
    "import os\n",
    "\n",
    "import matplotlib.animation as animation\n",
    "import matplotlib.pyplot as plt\n",
    "import numpy as np\n",
    "import torch\n",
    "from IPython.display import HTML"
   ]
  },
  {
   "cell_type": "code",
   "execution_count": 2,
   "metadata": {},
   "outputs": [
    {
     "data": {
      "text/plain": [
       "'/gpfs/space/home/joonas97'"
      ]
     },
     "execution_count": 2,
     "metadata": {},
     "output_type": "execute_result"
    }
   ],
   "source": [
    "os.chdir('/gpfs/space/home/joonas97/')\n",
    "os.getcwd()"
   ]
  },
  {
   "cell_type": "code",
   "execution_count": 3,
   "metadata": {},
   "outputs": [],
   "source": [
    "cams = np.load(\"./KITSCAM/3d/results/scorecam_3d_artifacts/2022-12-12/15-12-48/cams.npy\", allow_pickle=True)"
   ]
  },
  {
   "cell_type": "code",
   "execution_count": 4,
   "metadata": {},
   "outputs": [
    {
     "data": {
      "text/plain": [
       "(60,)"
      ]
     },
     "execution_count": 4,
     "metadata": {},
     "output_type": "execute_result"
    }
   ],
   "source": [
    "cams.shape"
   ]
  },
  {
   "cell_type": "code",
   "execution_count": 5,
   "metadata": {},
   "outputs": [],
   "source": [
    "\n",
    "images = np.load(\"./KITSCAM/3d/results/scorecam_3d_artifacts/2022-12-12/15-12-48/inputs.npy\", allow_pickle=True)\n",
    "labels = np.load(\"./KITSCAM/3d/results/scorecam_3d_artifacts/2022-12-12/15-12-48/labels.npy\", allow_pickle=True)"
   ]
  },
  {
   "cell_type": "code",
   "execution_count": 6,
   "metadata": {},
   "outputs": [],
   "source": [
    "cams_block4 = np.load(\"./KITSCAM/3d/results/scorecam_3d_artifacts/2022-12-13/11-59-16/cams.npy\", allow_pickle=True)"
   ]
  },
  {
   "cell_type": "code",
   "execution_count": 40,
   "metadata": {},
   "outputs": [],
   "source": [
    "cams_block3 = np.load(\"./KITSCAM/3d/results/scorecam_3d_artifacts/2022-12-13/13-10-05/cams.npy\", allow_pickle=True)\n",
    "cams_block2 = np.load(\"./KITSCAM/3d/results/scorecam_3d_artifacts/2022-12-13/13-20-34/cams.npy\", allow_pickle=True)"
   ]
  },
  {
   "cell_type": "code",
   "execution_count": 86,
   "metadata": {},
   "outputs": [],
   "source": [
    "cams_block1 = np.load(\"./KITSCAM/3d/results/scorecam_3d_artifacts/2022-12-13/13-46-25/cams.npy\", allow_pickle=True)"
   ]
  },
  {
   "cell_type": "code",
   "execution_count": 87,
   "metadata": {},
   "outputs": [],
   "source": [
    "cams_block0 = np.load(\"./KITSCAM/3d/results/scorecam_3d_artifacts/2022-12-13/13-49-19/cams.npy\", allow_pickle=True)"
   ]
  },
  {
   "cell_type": "code",
   "execution_count": 92,
   "metadata": {},
   "outputs": [],
   "source": [
    "def get_relevant_metadata(image):\n",
    "    path = image.meta[\"filename_or_obj\"][0]\n",
    "    #print(path)\n",
    "    splitted_path = path.split(\"/\")\n",
    "    #slice_indxs = splitted_path[-1]\n",
    "    #first, second = slice_indxs.strip(\".npy\").split(\"_\")\n",
    "    #print(splitted_path)\n",
    "    patient_id = splitted_path[-1].strip(\".npy\")\n",
    "    return patient_id  #int(first), int(second)\n",
    "\n",
    "\n",
    "def get_animation(volume):\n",
    "    fig = plt.figure()\n",
    "\n",
    "    ims = []\n",
    "    for image in range(0, volume.shape[0]):\n",
    "        im = plt.imshow(volume[image, :, :],\n",
    "                        animated=True, cmap=plt.cm.bone)\n",
    "\n",
    "        plt.axis(\"off\")\n",
    "        ims.append([im])\n",
    "\n",
    "    ani = animation.ArtistAnimation(fig, ims, interval=100, blit=False,\n",
    "                                    repeat_delay=1000)\n",
    "\n",
    "    plt.close()\n",
    "    return ani\n",
    "\n",
    "\n",
    "def get_full_animation(volume, cams, cams_meta):\n",
    "    fig = plt.figure()\n",
    "\n",
    "    nr_of_rows = 1\n",
    "    nr_of_cols = len(cams) + 1\n",
    "    if len(cams) > 3:\n",
    "        nr_of_rows = 2\n",
    "        nr_of_cols = nr_of_cols // 2 + 1\n",
    "\n",
    "    fig, (ax, ax2) = plt.subplots(nr_of_rows, nr_of_cols, figsize=(14, 7))\n",
    "    fig.delaxes(ax2[3])\n",
    "    ims = []\n",
    "    slices = []\n",
    "    for image in range(0, volume.shape[0]):\n",
    "\n",
    "        slices = []\n",
    "        im1 = ax[0].imshow(volume[image, :, :],\n",
    "                           animated=True, cmap=plt.cm.bone)\n",
    "        ax[0].set_title(\"Input image\")\n",
    "        #plt.axis(\"off\")\n",
    "        slices.append(im1)\n",
    "\n",
    "        for i, cam in enumerate(cams):\n",
    "            current_ax = (ax if i + 1 < nr_of_cols else ax2)\n",
    "            current_index = (i + 1 if i + 1 < nr_of_cols else i + 1 - nr_of_cols)\n",
    "\n",
    "            im = current_ax[current_index].imshow(cam[image, :, :],\n",
    "                                                  animated=True, cmap=plt.cm.bone)\n",
    "            current_ax[current_index].set_title(cams_meta[i])\n",
    "            current_ax[current_index].axis('off')\n",
    "            slices.append(im)\n",
    "\n",
    "        ims.append(slices)\n",
    "\n",
    "    #plt.axis(\"off\")  \n",
    "    ani = animation.ArtistAnimation(fig, ims, interval=100, blit=False,\n",
    "                                    repeat_delay=1000)\n",
    "    plt.close()\n",
    "    return ani"
   ]
  },
  {
   "cell_type": "code",
   "execution_count": 94,
   "metadata": {},
   "outputs": [],
   "source": [
    "import matplotlib\n",
    "\n",
    "matplotlib.rcParams['animation.embed_limit'] = 2 ** 128"
   ]
  },
  {
   "cell_type": "code",
   "execution_count": null,
   "metadata": {
    "scrolled": false
   },
   "outputs": [
    {
     "name": "stdout",
     "output_type": "stream",
     "text": [
      "--------------------------------------------------\n",
      "Animation nr:  0\n",
      "2022-12-13 14:28:05,079 - Animation.save using <class 'matplotlib.animation.HTMLWriter'>\n"
     ]
    }
   ],
   "source": [
    "animations = []\n",
    "for i in range(30):\n",
    "    patient_id = get_relevant_metadata(images[i])\n",
    "    #path = '/gpfs/space/home/joonas97/data/kits21/kits21/data/' + patient_id + '/aggregated_MAJ_seg.nii.gz'\n",
    "    #seg = nib.load(path).get_fdata()[start:stop]\n",
    "    print(\"-----\" * 10)\n",
    "    print(\"Animation nr: \", i)\n",
    "    inp = torch.squeeze(images[i].as_tensor())\n",
    "    cam1 = torch.squeeze(cams[i].as_tensor())\n",
    "    cam2 = torch.squeeze(cams_block4[i].as_tensor())\n",
    "    cam3 = torch.squeeze(cams_block3[i].as_tensor())\n",
    "    cam4 = torch.squeeze(cams_block2[i].as_tensor())\n",
    "    cam5 = torch.squeeze(cams_block1[i].as_tensor())\n",
    "    cam6 = torch.squeeze(cams_block0[i].as_tensor())\n",
    "    cams_meta = [\"320 6x16x16 block6\",\n",
    "                 \"112 12x32x32 block4\",\n",
    "                 \"80 12x32x32 block3\",\n",
    "                 \"40 40x25x64x64 block2\",\n",
    "                 \"24 50x128x128 block1\",\n",
    "                 \"16 100x256x256 block0\"]\n",
    "    ani = get_full_animation(inp, [cam1, cam2, cam3, cam4, cam5, cam6], cams_meta)\n",
    "    animations.append(ani)\n",
    "    display(HTML(ani.to_jshtml()))"
   ]
  },
  {
   "cell_type": "code",
   "execution_count": null,
   "metadata": {
    "scrolled": false,
    "pycharm": {
     "is_executing": true
    }
   },
   "outputs": [],
   "source": [
    "for i in range(7, 15):\n",
    "    patient_id = get_relevant_metadata(images[i])\n",
    "    #path = '/gpfs/space/home/joonas97/data/kits21/kits21/data/' + patient_id + '/aggregated_MAJ_seg.nii.gz'\n",
    "    #seg = nib.load(path).get_fdata()[start:stop]\n",
    "\n",
    "    inp = torch.squeeze(images[i].as_tensor())\n",
    "    cam1 = torch.squeeze(cams[i].as_tensor())\n",
    "    cam2 = torch.squeeze(cams_block4[i].as_tensor())\n",
    "\n",
    "    seg_ani = get_double_animation(inp, )\n",
    "    display(HTML(seg_ani.to_jshtml()))"
   ]
  },
  {
   "cell_type": "code",
   "execution_count": null,
   "metadata": {
    "pycharm": {
     "is_executing": true
    },
    "scrolled": false
   },
   "outputs": [],
   "source": [
    "for i in range(4):\n",
    "    patient_id = get_relevant_metadata(images[i])\n",
    "    #path = '/gpfs/space/home/joonas97/data/kits21/kits21/data/' + patient_id + '/aggregated_MAJ_seg.nii.gz'\n",
    "    #seg = nib.load(path).get_fdata()[start:stop]\n",
    "\n",
    "    inp = torch.squeeze(images[i].as_tensor())\n",
    "    cam1 = torch.squeeze(cams[i].as_tensor())\n",
    "    cam2 = torch.squeeze(cams_block4[i].as_tensor())\n",
    "\n",
    "    seg_ani = get_double_animation(inp, cam1, cam2)\n",
    "    display(HTML(seg_ani.to_jshtml()))\n"
   ]
  },
  {
   "cell_type": "code",
   "execution_count": null,
   "metadata": {
    "scrolled": false,
    "pycharm": {
     "is_executing": true
    }
   },
   "outputs": [],
   "source": [
    "for i in range(5, 10):\n",
    "    patient_id = get_relevant_metadata(images[i])\n",
    "    #path = '/gpfs/space/home/joonas97/data/kits21/kits21/data/' + patient_id + '/aggregated_MAJ_seg.nii.gz'\n",
    "    #seg = nib.load(path).get_fdata()[start:stop]\n",
    "\n",
    "    inp = torch.squeeze(images[i].as_tensor())\n",
    "    current_cam = torch.squeeze(cams[i].as_tensor())\n",
    "    seg_ani = get_double_animation(inp, current_cam)\n",
    "    display(HTML(seg_ani.to_jshtml()))"
   ]
  },
  {
   "cell_type": "code",
   "execution_count": null,
   "metadata": {},
   "outputs": [],
   "source": []
  }
 ],
 "metadata": {
  "kernelspec": {
   "display_name": "Python 3 (ipykernel)",
   "language": "python",
   "name": "python3"
  },
  "language_info": {
   "codemirror_mode": {
    "name": "ipython",
    "version": 3
   },
   "file_extension": ".py",
   "mimetype": "text/x-python",
   "name": "python",
   "nbconvert_exporter": "python",
   "pygments_lexer": "ipython3",
   "version": "3.8.5"
  }
 },
 "nbformat": 4,
 "nbformat_minor": 1
}

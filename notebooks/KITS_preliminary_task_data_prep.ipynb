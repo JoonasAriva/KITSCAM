{
 "cells": [
  {
   "cell_type": "code",
   "execution_count": 1,
   "outputs": [],
   "source": [
    "import os\n",
    "import nibabel as nib\n",
    "import numpy as np\n",
    "import glob"
   ],
   "metadata": {
    "collapsed": false
   }
  },
  {
   "cell_type": "code",
   "execution_count": 22,
   "metadata": {},
   "outputs": [],
   "source": [
    "os.chdir('/gpfs/space/home/joonas97/data/kits21/kits21/data/')"
   ]
  },
  {
   "cell_type": "code",
   "execution_count": 23,
   "metadata": {},
   "outputs": [
    {
     "data": {
      "text/plain": "'/gpfs/space/home/joonas97/data/kits21/kits21/data'"
     },
     "execution_count": 23,
     "metadata": {},
     "output_type": "execute_result"
    }
   ],
   "source": [
    "os.getcwd()"
   ]
  },
  {
   "cell_type": "code",
   "execution_count": 2,
   "metadata": {},
   "outputs": [],
   "source": [
    "def classify_slices(segmentation):\n",
    "    # give me slice indexes where label 1 (kidney) is present and where the area of kidney is bigger than 1000 pixels\n",
    "    # currently applying this 1000 pixel filter because im not sure if model can detect very small slices of kidneys\n",
    "    kidney_slice_indexes = [slice_nr for slice_nr,i in enumerate(segmentation) if 1 in i and np.unique(i, return_counts=True)[1][1] > 1000]\n",
    "    no_kidney_slice_indexes = [slice_nr for slice_nr,i in enumerate(segmentation) if 1 not in i]\n",
    "    return kidney_slice_indexes, no_kidney_slice_indexes"
   ]
  },
  {
   "cell_type": "code",
   "execution_count": 24,
   "metadata": {},
   "outputs": [],
   "source": [
    "segmentations = []\n",
    "for filename in glob.glob('*/aggregated_MAJ_seg.nii.gz'):\n",
    "    segmentations.append(filename)"
   ]
  },
  {
   "cell_type": "code",
   "execution_count": 26,
   "outputs": [],
   "source": [
    "segmentations = []\n",
    "for filename in glob.glob('/kits21/data/*/aggregated_MAJ_seg.nii.gz'):\n",
    "    segmentations.append(filename)"
   ],
   "metadata": {
    "collapsed": false
   }
  },
  {
   "cell_type": "code",
   "execution_count": 27,
   "outputs": [
    {
     "data": {
      "text/plain": "[]"
     },
     "execution_count": 27,
     "metadata": {},
     "output_type": "execute_result"
    }
   ],
   "source": [
    "300/3"
   ],
   "metadata": {
    "collapsed": false
   }
  },
  {
   "cell_type": "code",
   "execution_count": 10,
   "metadata": {},
   "outputs": [
    {
     "name": "stdout",
     "output_type": "stream",
     "text": [
      "0\n",
      "5\n",
      "10\n",
      "15\n",
      "20\n",
      "25\n",
      "30\n",
      "35\n",
      "40\n",
      "45\n"
     ]
    }
   ],
   "source": [
    "organized_slices = {}\n",
    "for i, file in enumerate(segmentations[:50]):\n",
    "\n",
    "    if i % 5 == 0:\n",
    "        print(i)\n",
    "    case_id = file.split('/')[0]\n",
    "    segmentation = nib.load(file).get_fdata()\n",
    "    kidney_slices, no_kidney_slices =classify_slices(segmentation)\n",
    "    organized_slices[case_id] = [kidney_slices, no_kidney_slices]"
   ]
  },
  {
   "cell_type": "code",
   "execution_count": 44,
   "outputs": [
    {
     "name": "stdout",
     "output_type": "stream",
     "text": [
      "fsdfs1234and  55\n"
     ]
    }
   ],
   "source": [
    "print(\"fsdfs{0}and  {1}\".format(1234,55))"
   ],
   "metadata": {
    "collapsed": false
   }
  },
  {
   "cell_type": "code",
   "execution_count": 12,
   "outputs": [],
   "source": [
    "test = nib.load('case_00250/aggregated_MAJ_seg.nii.gz').get_fdata()"
   ],
   "metadata": {
    "collapsed": false
   }
  },
  {
   "cell_type": "code",
   "execution_count": 14,
   "outputs": [
    {
     "data": {
      "text/plain": "numpy.ndarray"
     },
     "execution_count": 14,
     "metadata": {},
     "output_type": "execute_result"
    }
   ],
   "source": [
    "type(test)"
   ],
   "metadata": {
    "collapsed": false
   }
  },
  {
   "cell_type": "code",
   "execution_count": 11,
   "metadata": {},
   "outputs": [
    {
     "data": {
      "text/plain": [
       "50"
      ]
     },
     "execution_count": 11,
     "metadata": {},
     "output_type": "execute_result"
    }
   ],
   "source": [
    "len(organized_slices)"
   ]
  },
  {
   "cell_type": "code",
   "execution_count": 12,
   "metadata": {},
   "outputs": [
    {
     "name": "stdout",
     "output_type": "stream",
     "text": [
      "0\n",
      "5\n"
     ]
    },
    {
     "ename": "MemoryError",
     "evalue": "",
     "output_type": "error",
     "traceback": [
      "\u001B[0;31m---------------------------------------------------------------------------\u001B[0m",
      "\u001B[0;31mMemoryError\u001B[0m                               Traceback (most recent call last)",
      "Input \u001B[0;32mIn [12]\u001B[0m, in \u001B[0;36m<cell line: 2>\u001B[0;34m()\u001B[0m\n\u001B[1;32m      1\u001B[0m firstiter \u001B[38;5;241m=\u001B[39m \u001B[38;5;28;01mTrue\u001B[39;00m\n\u001B[1;32m      2\u001B[0m \u001B[38;5;28;01mfor\u001B[39;00m i, (keys, values) \u001B[38;5;129;01min\u001B[39;00m \u001B[38;5;28menumerate\u001B[39m(organized_slices\u001B[38;5;241m.\u001B[39mitems()):\n\u001B[0;32m----> 3\u001B[0m     ct_scan \u001B[38;5;241m=\u001B[39m \u001B[43mnib\u001B[49m\u001B[38;5;241;43m.\u001B[39;49m\u001B[43mload\u001B[49m\u001B[43m(\u001B[49m\u001B[43mkeys\u001B[49m\u001B[38;5;241;43m+\u001B[39;49m\u001B[38;5;124;43m'\u001B[39;49m\u001B[38;5;124;43m/imaging.nii.gz\u001B[39;49m\u001B[38;5;124;43m'\u001B[39;49m\u001B[43m)\u001B[49m\u001B[38;5;241;43m.\u001B[39;49m\u001B[43mget_fdata\u001B[49m\u001B[43m(\u001B[49m\u001B[43m)\u001B[49m\n\u001B[1;32m      4\u001B[0m     \u001B[38;5;28;01mif\u001B[39;00m i \u001B[38;5;241m%\u001B[39m \u001B[38;5;241m5\u001B[39m \u001B[38;5;241m==\u001B[39m \u001B[38;5;241m0\u001B[39m:\n\u001B[1;32m      5\u001B[0m         \u001B[38;5;28mprint\u001B[39m(i)\n",
      "File \u001B[0;32m~/.conda/envs/KITSCAM/lib/python3.10/site-packages/nibabel/dataobj_images.py:355\u001B[0m, in \u001B[0;36mDataobjImage.get_fdata\u001B[0;34m(self, caching, dtype)\u001B[0m\n\u001B[1;32m    351\u001B[0m         \u001B[38;5;28;01mreturn\u001B[39;00m \u001B[38;5;28mself\u001B[39m\u001B[38;5;241m.\u001B[39m_fdata_cache\n\u001B[1;32m    352\u001B[0m \u001B[38;5;66;03m# Always return requested data type\u001B[39;00m\n\u001B[1;32m    353\u001B[0m \u001B[38;5;66;03m# For array proxies, will attempt to confine data array to dtype\u001B[39;00m\n\u001B[1;32m    354\u001B[0m \u001B[38;5;66;03m# during scaling\u001B[39;00m\n\u001B[0;32m--> 355\u001B[0m data \u001B[38;5;241m=\u001B[39m \u001B[43mnp\u001B[49m\u001B[38;5;241;43m.\u001B[39;49m\u001B[43masanyarray\u001B[49m\u001B[43m(\u001B[49m\u001B[38;5;28;43mself\u001B[39;49m\u001B[38;5;241;43m.\u001B[39;49m\u001B[43m_dataobj\u001B[49m\u001B[43m,\u001B[49m\u001B[43m \u001B[49m\u001B[43mdtype\u001B[49m\u001B[38;5;241;43m=\u001B[39;49m\u001B[43mdtype\u001B[49m\u001B[43m)\u001B[49m\n\u001B[1;32m    356\u001B[0m \u001B[38;5;28;01mif\u001B[39;00m caching \u001B[38;5;241m==\u001B[39m \u001B[38;5;124m'\u001B[39m\u001B[38;5;124mfill\u001B[39m\u001B[38;5;124m'\u001B[39m:\n\u001B[1;32m    357\u001B[0m     \u001B[38;5;28mself\u001B[39m\u001B[38;5;241m.\u001B[39m_fdata_cache \u001B[38;5;241m=\u001B[39m data\n",
      "File \u001B[0;32m~/.conda/envs/KITSCAM/lib/python3.10/site-packages/nibabel/arrayproxy.py:370\u001B[0m, in \u001B[0;36mArrayProxy.__array__\u001B[0;34m(self, dtype)\u001B[0m\n\u001B[1;32m    349\u001B[0m \u001B[38;5;28;01mdef\u001B[39;00m \u001B[38;5;21m__array__\u001B[39m(\u001B[38;5;28mself\u001B[39m, dtype\u001B[38;5;241m=\u001B[39m\u001B[38;5;28;01mNone\u001B[39;00m):\n\u001B[1;32m    350\u001B[0m     \u001B[38;5;124;03m\"\"\" Read data from file and apply scaling, casting to ``dtype``\u001B[39;00m\n\u001B[1;32m    351\u001B[0m \n\u001B[1;32m    352\u001B[0m \u001B[38;5;124;03m    If ``dtype`` is unspecified, the dtype of the returned array is the\u001B[39;00m\n\u001B[0;32m   (...)\u001B[0m\n\u001B[1;32m    368\u001B[0m \u001B[38;5;124;03m        Scaled image data with type `dtype`.\u001B[39;00m\n\u001B[1;32m    369\u001B[0m \u001B[38;5;124;03m    \"\"\"\u001B[39;00m\n\u001B[0;32m--> 370\u001B[0m     arr \u001B[38;5;241m=\u001B[39m \u001B[38;5;28;43mself\u001B[39;49m\u001B[38;5;241;43m.\u001B[39;49m\u001B[43m_get_scaled\u001B[49m\u001B[43m(\u001B[49m\u001B[43mdtype\u001B[49m\u001B[38;5;241;43m=\u001B[39;49m\u001B[43mdtype\u001B[49m\u001B[43m,\u001B[49m\u001B[43m \u001B[49m\u001B[43mslicer\u001B[49m\u001B[38;5;241;43m=\u001B[39;49m\u001B[43m(\u001B[49m\u001B[43m)\u001B[49m\u001B[43m)\u001B[49m\n\u001B[1;32m    371\u001B[0m     \u001B[38;5;28;01mif\u001B[39;00m dtype \u001B[38;5;129;01mis\u001B[39;00m \u001B[38;5;129;01mnot\u001B[39;00m \u001B[38;5;28;01mNone\u001B[39;00m:\n\u001B[1;32m    372\u001B[0m         arr \u001B[38;5;241m=\u001B[39m arr\u001B[38;5;241m.\u001B[39mastype(dtype, copy\u001B[38;5;241m=\u001B[39m\u001B[38;5;28;01mFalse\u001B[39;00m)\n",
      "File \u001B[0;32m~/.conda/envs/KITSCAM/lib/python3.10/site-packages/nibabel/arrayproxy.py:337\u001B[0m, in \u001B[0;36mArrayProxy._get_scaled\u001B[0;34m(self, dtype, slicer)\u001B[0m\n\u001B[1;32m    335\u001B[0m     scl_inter \u001B[38;5;241m=\u001B[39m scl_inter\u001B[38;5;241m.\u001B[39mastype(use_dtype)\n\u001B[1;32m    336\u001B[0m \u001B[38;5;66;03m# Read array and upcast as necessary for big slopes, intercepts\u001B[39;00m\n\u001B[0;32m--> 337\u001B[0m scaled \u001B[38;5;241m=\u001B[39m apply_read_scaling(\u001B[38;5;28;43mself\u001B[39;49m\u001B[38;5;241;43m.\u001B[39;49m\u001B[43m_get_unscaled\u001B[49m\u001B[43m(\u001B[49m\u001B[43mslicer\u001B[49m\u001B[38;5;241;43m=\u001B[39;49m\u001B[43mslicer\u001B[49m\u001B[43m)\u001B[49m, scl_slope, scl_inter)\n\u001B[1;32m    338\u001B[0m \u001B[38;5;28;01mif\u001B[39;00m dtype \u001B[38;5;129;01mis\u001B[39;00m \u001B[38;5;129;01mnot\u001B[39;00m \u001B[38;5;28;01mNone\u001B[39;00m:\n\u001B[1;32m    339\u001B[0m     scaled \u001B[38;5;241m=\u001B[39m scaled\u001B[38;5;241m.\u001B[39mastype(np\u001B[38;5;241m.\u001B[39mpromote_types(scaled\u001B[38;5;241m.\u001B[39mdtype, dtype), copy\u001B[38;5;241m=\u001B[39m\u001B[38;5;28;01mFalse\u001B[39;00m)\n",
      "File \u001B[0;32m~/.conda/envs/KITSCAM/lib/python3.10/site-packages/nibabel/arrayproxy.py:311\u001B[0m, in \u001B[0;36mArrayProxy._get_unscaled\u001B[0;34m(self, slicer)\u001B[0m\n\u001B[1;32m    308\u001B[0m \u001B[38;5;28;01mif\u001B[39;00m canonical_slicers(slicer, \u001B[38;5;28mself\u001B[39m\u001B[38;5;241m.\u001B[39m_shape, \u001B[38;5;28;01mFalse\u001B[39;00m) \u001B[38;5;241m==\u001B[39m \\\n\u001B[1;32m    309\u001B[0m         canonical_slicers((), \u001B[38;5;28mself\u001B[39m\u001B[38;5;241m.\u001B[39m_shape, \u001B[38;5;28;01mFalse\u001B[39;00m):\n\u001B[1;32m    310\u001B[0m     \u001B[38;5;28;01mwith\u001B[39;00m \u001B[38;5;28mself\u001B[39m\u001B[38;5;241m.\u001B[39m_get_fileobj() \u001B[38;5;28;01mas\u001B[39;00m fileobj, \u001B[38;5;28mself\u001B[39m\u001B[38;5;241m.\u001B[39m_lock:\n\u001B[0;32m--> 311\u001B[0m         \u001B[38;5;28;01mreturn\u001B[39;00m \u001B[43marray_from_file\u001B[49m\u001B[43m(\u001B[49m\u001B[38;5;28;43mself\u001B[39;49m\u001B[38;5;241;43m.\u001B[39;49m\u001B[43m_shape\u001B[49m\u001B[43m,\u001B[49m\n\u001B[1;32m    312\u001B[0m \u001B[43m                               \u001B[49m\u001B[38;5;28;43mself\u001B[39;49m\u001B[38;5;241;43m.\u001B[39;49m\u001B[43m_dtype\u001B[49m\u001B[43m,\u001B[49m\n\u001B[1;32m    313\u001B[0m \u001B[43m                               \u001B[49m\u001B[43mfileobj\u001B[49m\u001B[43m,\u001B[49m\n\u001B[1;32m    314\u001B[0m \u001B[43m                               \u001B[49m\u001B[43moffset\u001B[49m\u001B[38;5;241;43m=\u001B[39;49m\u001B[38;5;28;43mself\u001B[39;49m\u001B[38;5;241;43m.\u001B[39;49m\u001B[43m_offset\u001B[49m\u001B[43m,\u001B[49m\n\u001B[1;32m    315\u001B[0m \u001B[43m                               \u001B[49m\u001B[43morder\u001B[49m\u001B[38;5;241;43m=\u001B[39;49m\u001B[38;5;28;43mself\u001B[39;49m\u001B[38;5;241;43m.\u001B[39;49m\u001B[43morder\u001B[49m\u001B[43m,\u001B[49m\n\u001B[1;32m    316\u001B[0m \u001B[43m                               \u001B[49m\u001B[43mmmap\u001B[49m\u001B[38;5;241;43m=\u001B[39;49m\u001B[38;5;28;43mself\u001B[39;49m\u001B[38;5;241;43m.\u001B[39;49m\u001B[43m_mmap\u001B[49m\u001B[43m)\u001B[49m\n\u001B[1;32m    317\u001B[0m \u001B[38;5;28;01mwith\u001B[39;00m \u001B[38;5;28mself\u001B[39m\u001B[38;5;241m.\u001B[39m_get_fileobj() \u001B[38;5;28;01mas\u001B[39;00m fileobj:\n\u001B[1;32m    318\u001B[0m     \u001B[38;5;28;01mreturn\u001B[39;00m fileslice(fileobj,\n\u001B[1;32m    319\u001B[0m                      slicer,\n\u001B[1;32m    320\u001B[0m                      \u001B[38;5;28mself\u001B[39m\u001B[38;5;241m.\u001B[39m_shape,\n\u001B[0;32m   (...)\u001B[0m\n\u001B[1;32m    323\u001B[0m                      order\u001B[38;5;241m=\u001B[39m\u001B[38;5;28mself\u001B[39m\u001B[38;5;241m.\u001B[39morder,\n\u001B[1;32m    324\u001B[0m                      lock\u001B[38;5;241m=\u001B[39m\u001B[38;5;28mself\u001B[39m\u001B[38;5;241m.\u001B[39m_lock)\n",
      "File \u001B[0;32m~/.conda/envs/KITSCAM/lib/python3.10/site-packages/nibabel/volumeutils.py:461\u001B[0m, in \u001B[0;36marray_from_file\u001B[0;34m(shape, in_dtype, infile, offset, order, mmap)\u001B[0m\n\u001B[1;32m    459\u001B[0m \u001B[38;5;28;01mif\u001B[39;00m \u001B[38;5;28mhasattr\u001B[39m(infile, \u001B[38;5;124m'\u001B[39m\u001B[38;5;124mreadinto\u001B[39m\u001B[38;5;124m'\u001B[39m):\n\u001B[1;32m    460\u001B[0m     data_bytes \u001B[38;5;241m=\u001B[39m \u001B[38;5;28mbytearray\u001B[39m(n_bytes)\n\u001B[0;32m--> 461\u001B[0m     n_read \u001B[38;5;241m=\u001B[39m \u001B[43minfile\u001B[49m\u001B[38;5;241;43m.\u001B[39;49m\u001B[43mreadinto\u001B[49m\u001B[43m(\u001B[49m\u001B[43mdata_bytes\u001B[49m\u001B[43m)\u001B[49m\n\u001B[1;32m    462\u001B[0m     needs_copy \u001B[38;5;241m=\u001B[39m \u001B[38;5;28;01mFalse\u001B[39;00m\n\u001B[1;32m    463\u001B[0m \u001B[38;5;28;01melse\u001B[39;00m:\n",
      "File \u001B[0;32m~/.conda/envs/KITSCAM/lib/python3.10/gzip.py:301\u001B[0m, in \u001B[0;36mGzipFile.read\u001B[0;34m(self, size)\u001B[0m\n\u001B[1;32m    299\u001B[0m     \u001B[38;5;28;01mimport\u001B[39;00m \u001B[38;5;21;01merrno\u001B[39;00m\n\u001B[1;32m    300\u001B[0m     \u001B[38;5;28;01mraise\u001B[39;00m \u001B[38;5;167;01mOSError\u001B[39;00m(errno\u001B[38;5;241m.\u001B[39mEBADF, \u001B[38;5;124m\"\u001B[39m\u001B[38;5;124mread() on write-only GzipFile object\u001B[39m\u001B[38;5;124m\"\u001B[39m)\n\u001B[0;32m--> 301\u001B[0m \u001B[38;5;28;01mreturn\u001B[39;00m \u001B[38;5;28;43mself\u001B[39;49m\u001B[38;5;241;43m.\u001B[39;49m\u001B[43m_buffer\u001B[49m\u001B[38;5;241;43m.\u001B[39;49m\u001B[43mread\u001B[49m\u001B[43m(\u001B[49m\u001B[43msize\u001B[49m\u001B[43m)\u001B[49m\n",
      "\u001B[0;31mMemoryError\u001B[0m: "
     ]
    }
   ],
   "source": [
    "firstiter = True\n",
    "for i, (keys, values) in enumerate(organized_slices.items()):\n",
    "    ct_scan = nib.load(keys+'/imaging.nii.gz').get_fdata()\n",
    "    if i % 5 == 0:\n",
    "        print(i)\n",
    "    if firstiter:\n",
    "        all_kidney_slices = ct_scan[values[0]]\n",
    "        all_no_kidney_slices = ct_scan[values[1]]\n",
    "        firstiter = False\n",
    "    else:\n",
    "        new_kidney_slices = ct_scan[values[0]]\n",
    "        new_no_kidney_slices = ct_scan[values[1]]\n",
    "        all_kidney_slices = np.concatenate((all_kidney_slices, new_kidney_slices), axis = 0)\n",
    "        all_no_kidney_slices = np.concatenate((all_no_kidney_slices, new_no_kidney_slices), axis = 0)"
   ]
  },
  {
   "cell_type": "code",
   "execution_count": null,
   "metadata": {},
   "outputs": [],
   "source": [
    "all_kidney_slices.shape"
   ]
  },
  {
   "cell_type": "code",
   "execution_count": 10,
   "metadata": {},
   "outputs": [
    {
     "data": {
      "text/plain": [
       "(7038, 512, 512)"
      ]
     },
     "execution_count": 10,
     "metadata": {},
     "output_type": "execute_result"
    }
   ],
   "source": [
    "all_no_kidney_slices.shape"
   ]
  },
  {
   "cell_type": "code",
   "execution_count": 11,
   "metadata": {},
   "outputs": [],
   "source": [
    "np.save('kidney_slices',all_kidney_slices)\n",
    "np.save('no_kidney_slices', all_no_kidney_slices)"
   ]
  },
  {
   "cell_type": "code",
   "execution_count": 12,
   "metadata": {},
   "outputs": [],
   "source": [
    "test = np.load('kidney_slices.npy')"
   ]
  },
  {
   "cell_type": "code",
   "execution_count": 13,
   "metadata": {},
   "outputs": [
    {
     "data": {
      "text/plain": [
       "(3463, 512, 512)"
      ]
     },
     "execution_count": 13,
     "metadata": {},
     "output_type": "execute_result"
    }
   ],
   "source": [
    "test.shape"
   ]
  },
  {
   "cell_type": "code",
   "execution_count": 39,
   "metadata": {},
   "outputs": [
    {
     "data": {
      "text/plain": "array([262, 114, 165, 278, 293, 169,  11, 235, 240, 206, 194, 223,  52,\n       167,  30, 150,  31,  75, 148,  94, 188, 124,  82, 159,  29, 137,\n       151, 265,  80,  19, 266, 127, 185, 144, 296,  22,  89, 251,  35,\n        41,  71,  54, 138,  42,  95, 284, 288, 285,  72, 234,  26, 270,\n       249,  20, 281, 289,  81, 256, 191,  24, 210, 102, 197,  53, 105,\n       136, 221, 292,  61, 173,  36, 143,  21, 181, 155, 107,   5, 207,\n       277, 259,   7, 267, 174,  90, 260, 222, 196, 195, 160, 263, 246,\n       125, 258, 241,  37,  34,  55,  91,  23, 238, 132, 128, 152,  10,\n       283,  28,  79, 115, 161,  33, 142,  66, 216, 248, 162, 112,  69,\n         4, 100, 120, 215, 231, 232, 269, 190,  85,  78, 200, 147, 204,\n       257, 245, 122, 298, 131,  92,  62, 286, 239, 187, 192, 130, 247,\n        50,  97, 170, 297, 218, 166, 237,  13, 171, 294, 268, 184, 264,\n       274, 134,   8,  77,  58, 175, 243, 119, 164, 276,  63, 108, 156,\n       141,  88, 179, 236,  44, 226, 201,  65,  60,  93, 273, 261, 279,\n       250, 157, 163,   0, 229,  45, 153,  40,  59,  15,  46, 228, 109,\n       104, 133,  16, 275, 193, 202, 116, 272,  74, 110, 189, 145,  38,\n        27, 252, 140, 198, 121, 211,  14,  87,   9,   6, 220, 291, 227,\n       299, 254, 217, 149, 139,  67,   3,  86, 177, 219, 242,  48, 233,\n       117, 172,  51,   1, 209,  18,  12,  49,  56, 212, 178,  25, 183,\n       101, 186,  43, 129, 199, 182, 203, 103, 244, 255, 280, 154,  70,\n       271, 158, 282, 146, 205,  64, 295, 168,  76, 118, 213, 180,  99,\n       135, 176, 287,  84,  39,   2,  68, 208, 290, 253, 111, 224,  32,\n        73,  47, 126, 113,  96, 225, 214,  57, 123, 106,  83,  17, 230,\n        98])"
     },
     "execution_count": 39,
     "metadata": {},
     "output_type": "execute_result"
    }
   ],
   "source": [
    "np.random.seed(123)\n",
    "arr = np.arange(300)\n",
    "np.random.shuffle(arr)\n",
    "arr"
   ]
  },
  {
   "cell_type": "code",
   "execution_count": 38,
   "outputs": [],
   "source": [
    "from tqdm import tqdm"
   ],
   "metadata": {
    "collapsed": false
   }
  },
  {
   "cell_type": "code",
   "execution_count": 23,
   "outputs": [
    {
     "name": "stderr",
     "output_type": "stream",
     "text": [
      "100%|██████████| 1000/1000 [00:00<00:00, 739084.41it/s]\n"
     ]
    }
   ],
   "source": [
    "for i in tqdm(range(1000)):\n",
    "    a = 1\n",
    "    a = a + 1\n",
    "    c = a**2"
   ],
   "metadata": {
    "collapsed": false
   }
  },
  {
   "cell_type": "markdown",
   "source": [],
   "metadata": {
    "collapsed": false
   }
  },
  {
   "cell_type": "code",
   "execution_count": 40,
   "outputs": [],
   "source": [
    "import json"
   ],
   "metadata": {
    "collapsed": false
   }
  },
  {
   "cell_type": "code",
   "execution_count": 41,
   "outputs": [],
   "source": [
    "dictionary ={\n",
    "  \"id\": \"04\",\n",
    "  \"name\": \"sunil\",\n",
    "  \"department\": \"HR\"\n",
    "}"
   ],
   "metadata": {
    "collapsed": false
   }
  },
  {
   "cell_type": "code",
   "execution_count": 46,
   "outputs": [
    {
     "name": "stdout",
     "output_type": "stream",
     "text": [
      "{\n",
      "    \"id\": \"04\",\n",
      "    \"name\": \"sunil\",\n",
      "    \"department\": \"HR\"\n",
      "}\n"
     ]
    }
   ],
   "source": [
    "json_object = json.dumps(dictionary, indent = 4)\n",
    "print(json_object)"
   ],
   "metadata": {
    "collapsed": false
   }
  },
  {
   "cell_type": "code",
   "execution_count": 45,
   "outputs": [
    {
     "data": {
      "text/plain": "'/gpfs/space/home/joonas97/KITSCAM'"
     },
     "execution_count": 45,
     "metadata": {},
     "output_type": "execute_result"
    }
   ],
   "source": [
    "os.getcwd()"
   ],
   "metadata": {
    "collapsed": false
   }
  },
  {
   "cell_type": "code",
   "execution_count": 44,
   "outputs": [],
   "source": [
    "os.chdir('/gpfs/space/home/joonas97/KITSCAM')"
   ],
   "metadata": {
    "collapsed": false
   }
  },
  {
   "cell_type": "code",
   "execution_count": 81,
   "outputs": [
    {
     "ename": "TypeError",
     "evalue": "'slice' object is not callable",
     "output_type": "error",
     "traceback": [
      "\u001B[0;31m---------------------------------------------------------------------------\u001B[0m",
      "\u001B[0;31mTypeError\u001B[0m                                 Traceback (most recent call last)",
      "Input \u001B[0;32mIn [81]\u001B[0m, in \u001B[0;36m<cell line: 1>\u001B[0;34m()\u001B[0m\n\u001B[0;32m----> 1\u001B[0m np\u001B[38;5;241m.\u001B[39marange(\u001B[38;5;241m10\u001B[39m)[\u001B[38;5;28;43mslice\u001B[39;49m\u001B[43m(\u001B[49m\u001B[38;5;241;43m2\u001B[39;49m\u001B[43m,\u001B[49m\u001B[38;5;241;43m5\u001B[39;49m\u001B[43m)\u001B[49m]\n",
      "\u001B[0;31mTypeError\u001B[0m: 'slice' object is not callable"
     ]
    }
   ],
   "source": [
    "import json\n",
    "\n",
    "# Data to be written\n",
    "dictionary ={\n",
    "\t\"name\" : \"sathiyajith\",\n",
    "\t\"rollno\" : 56,\n",
    "\t\"cgpa\" : 8.6,\n",
    "\t\"phonenumber\" : \"9976770500\"\n",
    "}\n",
    "\n",
    "with open(\"sample.json\", \"w\") as outfile:\n",
    "\tjson.dump(dictionary, outfile)\n",
    "\n"
   ],
   "metadata": {
    "collapsed": false
   }
  },
  {
   "cell_type": "code",
   "execution_count": 3,
   "outputs": [
    {
     "data": {
      "text/plain": "array([2, 3, 4])"
     },
     "execution_count": 3,
     "metadata": {},
     "output_type": "execute_result"
    }
   ],
   "source": [
    "np.arange(10)[slice(2,5)]"
   ],
   "metadata": {
    "collapsed": false
   }
  },
  {
   "cell_type": "code",
   "execution_count": 4,
   "outputs": [
    {
     "name": "stdout",
     "output_type": "stream",
     "text": [
      "1\n"
     ]
    }
   ],
   "source": [
    "print(1)"
   ],
   "metadata": {
    "collapsed": false
   }
  },
  {
   "cell_type": "code",
   "execution_count": 5,
   "outputs": [
    {
     "name": "stdout",
     "output_type": "stream",
     "text": [
      "FFC\t\t  data\t\t jupyter-log-34861231.txt\r\n",
      "KITSCAM\t\t  ffc\t\t nb.sh\r\n",
      "ask_resources.sh  gpu_nb.sbatch  noise2same.pytorch\r\n"
     ]
    }
   ],
   "source": [
    "!ls"
   ],
   "metadata": {
    "collapsed": false
   }
  },
  {
   "cell_type": "code",
   "execution_count": 6,
   "outputs": [
    {
     "name": "stdout",
     "output_type": "stream",
     "text": [
      "2\n"
     ]
    }
   ],
   "source": [
    "s = None\n",
    "if s:\n",
    "    print(1)\n",
    "else:\n",
    "    print(2)"
   ],
   "metadata": {
    "collapsed": false
   }
  },
  {
   "cell_type": "code",
   "execution_count": 39,
   "outputs": [
    {
     "name": "stderr",
     "output_type": "stream",
     "text": [
      "WARNING:root:Something unexpected but not important happend.\n",
      "ERROR:root:Something unexpected and important happened.\n",
      "CRITICAL:root:OMG!!! A critical error happend and the code cannot run!\n"
     ]
    }
   ],
   "source": [
    "\n",
    "import logging\n",
    "myFormat= \"%(asctime)-15s %(clientip)s %(user)-8s %(message)s\"\n",
    "logger = logging.getLogger()\n",
    "\n",
    "\n",
    "fhandler = logging.FileHandler(filename='mylog.log', mode='a')\n",
    "formatter = logging.Formatter('%(asctime)s - %(name)s - %(levelname)s - %(message)s')\n",
    "fhandler.setFormatter(formatter)\n",
    "logger.addHandler(fhandler)\n",
    "logger.setLevel(logging.WARNING)\n",
    "\n",
    "logging.debug('Here you have some information for debugging.')\n",
    "logging.info('Everything is normal. Relax!')\n",
    "logging.warning('Something unexpected but not important happend.')\n",
    "logging.error('Something unexpected and important happened.')\n",
    "logging.critical('OMG!!! A critical error happend and the code cannot run!')"
   ],
   "metadata": {
    "collapsed": false
   }
  },
  {
   "cell_type": "code",
   "execution_count": null,
   "outputs": [],
   "source": [],
   "metadata": {
    "collapsed": false,
    "pycharm": {
     "is_executing": true
    }
   }
  },
  {
   "cell_type": "code",
   "execution_count": 30,
   "outputs": [],
   "source": [],
   "metadata": {
    "collapsed": false
   }
  }
 ],
 "metadata": {
  "kernelspec": {
   "display_name": "Python 3 (ipykernel)",
   "language": "python",
   "name": "python3"
  },
  "language_info": {
   "codemirror_mode": {
    "name": "ipython",
    "version": 3
   },
   "file_extension": ".py",
   "mimetype": "text/x-python",
   "name": "python",
   "nbconvert_exporter": "python",
   "pygments_lexer": "ipython3",
   "version": "3.10.6"
  }
 },
 "nbformat": 4,
 "nbformat_minor": 1
}

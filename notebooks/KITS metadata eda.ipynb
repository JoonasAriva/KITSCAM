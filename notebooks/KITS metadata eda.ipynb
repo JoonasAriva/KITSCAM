{
 "cells": [
  {
   "cell_type": "code",
   "execution_count": 1,
   "metadata": {
    "collapsed": true
   },
   "outputs": [
    {
     "name": "stdout",
     "output_type": "stream",
     "text": [
      "Collecting plotly\r\n",
      "  Downloading plotly-5.10.0-py2.py3-none-any.whl (15.2 MB)\r\n",
      "\u001B[2K     \u001B[90m━━━━━━━━━━━━━━━━━━━━━━━━━━━━━━━━━━━━━━━━\u001B[0m \u001B[32m15.2/15.2 MB\u001B[0m \u001B[31m26.5 MB/s\u001B[0m eta \u001B[36m0:00:00\u001B[0m00:01\u001B[0m00:01\u001B[0m\r\n",
      "\u001B[?25hCollecting tenacity>=6.2.0\r\n",
      "  Downloading tenacity-8.1.0-py3-none-any.whl (23 kB)\r\n",
      "Installing collected packages: tenacity, plotly\r\n",
      "Successfully installed plotly-5.10.0 tenacity-8.1.0\r\n"
     ]
    }
   ],
   "source": [
    "!pip install plotly"
   ]
  },
  {
   "cell_type": "code",
   "execution_count": 2,
   "outputs": [],
   "source": [
    "import json"
   ],
   "metadata": {
    "collapsed": false
   }
  },
  {
   "cell_type": "code",
   "execution_count": 8,
   "outputs": [],
   "source": [
    "file = '/Users/joonasariva/Documents/PHD/kits21/kits21/data/kits.json'"
   ],
   "metadata": {
    "collapsed": false
   }
  },
  {
   "cell_type": "code",
   "execution_count": 18,
   "outputs": [],
   "source": [
    "with open(file, 'r') as j:\n",
    "     contents = json.loads(j.read())"
   ],
   "metadata": {
    "collapsed": false
   }
  },
  {
   "cell_type": "code",
   "execution_count": 19,
   "outputs": [
    {
     "data": {
      "text/plain": "[{'case_id': 'case_00000',\n  'age_at_nephrectomy': 49,\n  'gender': 'male',\n  'body_mass_index': 29.47,\n  'comorbidities': {'myocardial_infarction': False,\n   'congestive_heart_failure': False,\n   'peripheral_vascular_disease': False,\n   'cerebrovascular_disease': False,\n   'dementia': False,\n   'copd': False,\n   'connective_tissue_disease': False,\n   'peptic_ulcer_disease': False,\n   'uncomplicated_diabetes_mellitus': False,\n   'diabetes_mellitus_with_end_organ_damage': False,\n   'chronic_kidney_disease': False,\n   'hemiplegia_from_stroke': False,\n   'leukemia': False,\n   'malignant_lymphoma': False,\n   'localized_solid_tumor': False,\n   'metastatic_solid_tumor': False,\n   'mild_liver_disease': False,\n   'moderate_to_severe_liver_disease': False,\n   'aids': False},\n  'smoking_history': 'never_smoked',\n  'age_when_quit_smoking': 'not_applicable',\n  'pack_years': 0,\n  'chewing_tobacco_use': 'never_or_not_in_last_3mo',\n  'alcohol_use': 'two_or_less_daily',\n  'intraoperative_complications': {'blood_transfusion': False,\n   'injury_to_surrounding_organ': False,\n   'cardiac_event': False},\n  'hospitalization': 2,\n  'ischemia_time': 20,\n  'radiographic_size': 2.4,\n  'pathologic_size': 2.1,\n  'malignant': True,\n  'pathology_t_stage': '1a',\n  'pathology_n_stage': '0',\n  'pathology_m_stage': '0',\n  'tumor_histologic_subtype': 'clear_cell_rcc',\n  'tumor_necrosis': False,\n  'tumor_isup_grade': 3,\n  'clavien_surgical_complications': '0',\n  'er_visit': False,\n  'readmission': False,\n  'estimated_blood_loss': 400,\n  'surgery_type': 'robotic',\n  'surgical_procedure': 'partial_nephrectomy',\n  'surgical_approach': 'Transperitoneal',\n  'operative_time': 324,\n  'cytoreductive': False,\n  'positive_resection_margins': False,\n  'last_preop_egfr': {'value': 77.0, 'days_before_nephrectomy': 54},\n  'first_postop_egfr': {'value': 76.0, 'days_before_nephrectomy': 184},\n  'last_postop_egfr': {'value': '>=90', 'days_before_nephrectomy': 1420},\n  'vital_status': 'censored',\n  'vital_days_after_surgery': 1420,\n  'voxel_spacing': {'x_spacing': 0.919921875,\n   'y_spacing': 0.919921875,\n   'z_spacing': 0.5}},\n {'case_id': 'case_00001',\n  'age_at_nephrectomy': 50,\n  'gender': 'male',\n  'body_mass_index': 33.71,\n  'comorbidities': {'myocardial_infarction': False,\n   'congestive_heart_failure': False,\n   'peripheral_vascular_disease': False,\n   'cerebrovascular_disease': False,\n   'dementia': False,\n   'copd': False,\n   'connective_tissue_disease': False,\n   'peptic_ulcer_disease': False,\n   'uncomplicated_diabetes_mellitus': False,\n   'diabetes_mellitus_with_end_organ_damage': False,\n   'chronic_kidney_disease': False,\n   'hemiplegia_from_stroke': False,\n   'leukemia': False,\n   'malignant_lymphoma': False,\n   'localized_solid_tumor': False,\n   'metastatic_solid_tumor': False,\n   'mild_liver_disease': False,\n   'moderate_to_severe_liver_disease': False,\n   'aids': False},\n  'smoking_history': 'previous_smoker',\n  'age_when_quit_smoking': '33',\n  'pack_years': '7',\n  'chewing_tobacco_use': 'never_or_not_in_last_3mo',\n  'alcohol_use': 'two_or_less_daily',\n  'intraoperative_complications': {'blood_transfusion': False,\n   'injury_to_surrounding_organ': False,\n   'cardiac_event': False},\n  'hospitalization': 6,\n  'ischemia_time': 13,\n  'radiographic_size': 2.2,\n  'pathologic_size': 2.4,\n  'malignant': True,\n  'pathology_t_stage': '1a',\n  'pathology_n_stage': 'X',\n  'pathology_m_stage': 'X',\n  'tumor_histologic_subtype': 'papillary',\n  'tumor_necrosis': False,\n  'tumor_isup_grade': 2,\n  'clavien_surgical_complications': '1',\n  'er_visit': True,\n  'readmission': False,\n  'estimated_blood_loss': 1100,\n  'surgery_type': 'open',\n  'surgical_procedure': 'partial_nephrectomy',\n  'surgical_approach': 'Retroperitoneal',\n  'operative_time': 293,\n  'cytoreductive': False,\n  'positive_resection_margins': False,\n  'last_preop_egfr': {'value': 67.0, 'days_before_nephrectomy': 1},\n  'first_postop_egfr': {'value': 58.0, 'days_before_nephrectomy': 117},\n  'last_postop_egfr': {'value': 56.0, 'days_before_nephrectomy': 1401},\n  'vital_status': 'censored',\n  'vital_days_after_surgery': 1401,\n  'voxel_spacing': {'x_spacing': 0.798828125,\n   'y_spacing': 0.798828125,\n   'z_spacing': 0.5}},\n {'case_id': 'case_00002',\n  'age_at_nephrectomy': 74,\n  'gender': 'male',\n  'body_mass_index': 28.13,\n  'comorbidities': {'myocardial_infarction': False,\n   'congestive_heart_failure': False,\n   'peripheral_vascular_disease': False,\n   'cerebrovascular_disease': False,\n   'dementia': False,\n   'copd': True,\n   'connective_tissue_disease': False,\n   'peptic_ulcer_disease': False,\n   'uncomplicated_diabetes_mellitus': True,\n   'diabetes_mellitus_with_end_organ_damage': False,\n   'chronic_kidney_disease': True,\n   'hemiplegia_from_stroke': False,\n   'leukemia': False,\n   'malignant_lymphoma': False,\n   'localized_solid_tumor': False,\n   'metastatic_solid_tumor': False,\n   'mild_liver_disease': False,\n   'moderate_to_severe_liver_disease': False,\n   'aids': False},\n  'smoking_history': 'current_smoker',\n  'age_when_quit_smoking': 'not_applicable',\n  'pack_years': '50',\n  'chewing_tobacco_use': 'never_or_not_in_last_3mo',\n  'alcohol_use': 'never_or_not_in_last_3mo',\n  'intraoperative_complications': {'blood_transfusion': False,\n   'injury_to_surrounding_organ': False,\n   'cardiac_event': False},\n  'hospitalization': 1,\n  'ischemia_time': 18,\n  'radiographic_size': 4.5,\n  'pathologic_size': 5.4,\n  'malignant': True,\n  'pathology_t_stage': '3',\n  'pathology_n_stage': '0',\n  'pathology_m_stage': '0',\n  'tumor_histologic_subtype': 'papillary',\n  'tumor_necrosis': False,\n  'tumor_isup_grade': 2,\n  'clavien_surgical_complications': '0',\n  'er_visit': False,\n  'readmission': False,\n  'estimated_blood_loss': 200,\n  'surgery_type': 'robotic',\n  'surgical_procedure': 'partial_nephrectomy',\n  'surgical_approach': 'Transperitoneal',\n  'operative_time': 229,\n  'cytoreductive': False,\n  'positive_resection_margins': False,\n  'last_preop_egfr': {'value': None, 'days_before_nephrectomy': None},\n  'first_postop_egfr': {'value': 85.0, 'days_before_nephrectomy': 76},\n  'last_postop_egfr': {'value': 83.0, 'days_before_nephrectomy': 1185},\n  'vital_status': 'censored',\n  'vital_days_after_surgery': 1185,\n  'voxel_spacing': {'x_spacing': 0.939453125,\n   'y_spacing': 0.939453125,\n   'z_spacing': 1.0}},\n {'case_id': 'case_00003',\n  'age_at_nephrectomy': 44,\n  'gender': 'female',\n  'body_mass_index': 38.69,\n  'comorbidities': {'myocardial_infarction': False,\n   'congestive_heart_failure': False,\n   'peripheral_vascular_disease': False,\n   'cerebrovascular_disease': False,\n   'dementia': False,\n   'copd': False,\n   'connective_tissue_disease': False,\n   'peptic_ulcer_disease': False,\n   'uncomplicated_diabetes_mellitus': False,\n   'diabetes_mellitus_with_end_organ_damage': False,\n   'chronic_kidney_disease': False,\n   'hemiplegia_from_stroke': False,\n   'leukemia': False,\n   'malignant_lymphoma': False,\n   'localized_solid_tumor': False,\n   'metastatic_solid_tumor': False,\n   'mild_liver_disease': False,\n   'moderate_to_severe_liver_disease': False,\n   'aids': False},\n  'smoking_history': 'previous_smoker',\n  'age_when_quit_smoking': None,\n  'pack_years': None,\n  'chewing_tobacco_use': 'never_or_not_in_last_3mo',\n  'alcohol_use': 'two_or_less_daily',\n  'intraoperative_complications': {'blood_transfusion': False,\n   'injury_to_surrounding_organ': False,\n   'cardiac_event': False},\n  'hospitalization': 0,\n  'ischemia_time': 15,\n  'radiographic_size': 3.0,\n  'pathologic_size': 2.9,\n  'malignant': True,\n  'pathology_t_stage': '1a',\n  'pathology_n_stage': '0',\n  'pathology_m_stage': '0',\n  'tumor_histologic_subtype': 'chromophobe',\n  'tumor_necrosis': False,\n  'tumor_isup_grade': None,\n  'clavien_surgical_complications': '1',\n  'er_visit': False,\n  'readmission': False,\n  'estimated_blood_loss': 100,\n  'surgery_type': 'robotic',\n  'surgical_procedure': 'partial_nephrectomy',\n  'surgical_approach': 'Transperitoneal',\n  'operative_time': 180,\n  'cytoreductive': False,\n  'positive_resection_margins': False,\n  'last_preop_egfr': {'value': 86.0, 'days_before_nephrectomy': 61},\n  'first_postop_egfr': {'value': 80.0, 'days_before_nephrectomy': 114},\n  'last_postop_egfr': {'value': 80.0, 'days_before_nephrectomy': 114},\n  'vital_status': 'censored',\n  'vital_days_after_surgery': 114,\n  'voxel_spacing': {'x_spacing': 0.85546875,\n   'y_spacing': 0.85546875,\n   'z_spacing': 1.0}},\n {'case_id': 'case_00004',\n  'age_at_nephrectomy': 73,\n  'gender': 'male',\n  'body_mass_index': 28.59,\n  'comorbidities': {'myocardial_infarction': False,\n   'congestive_heart_failure': False,\n   'peripheral_vascular_disease': False,\n   'cerebrovascular_disease': False,\n   'dementia': False,\n   'copd': False,\n   'connective_tissue_disease': False,\n   'peptic_ulcer_disease': False,\n   'uncomplicated_diabetes_mellitus': True,\n   'diabetes_mellitus_with_end_organ_damage': False,\n   'chronic_kidney_disease': False,\n   'hemiplegia_from_stroke': False,\n   'leukemia': False,\n   'malignant_lymphoma': False,\n   'localized_solid_tumor': False,\n   'metastatic_solid_tumor': False,\n   'mild_liver_disease': False,\n   'moderate_to_severe_liver_disease': False,\n   'aids': False},\n  'smoking_history': 'previous_smoker',\n  'age_when_quit_smoking': '55',\n  'pack_years': None,\n  'chewing_tobacco_use': 'never_or_not_in_last_3mo',\n  'alcohol_use': 'never_or_not_in_last_3mo',\n  'intraoperative_complications': {'blood_transfusion': False,\n   'injury_to_surrounding_organ': False,\n   'cardiac_event': False},\n  'hospitalization': 2,\n  'ischemia_time': 17,\n  'radiographic_size': 3.0,\n  'pathologic_size': 3.4,\n  'malignant': True,\n  'pathology_t_stage': '1a',\n  'pathology_n_stage': 'X',\n  'pathology_m_stage': 'X',\n  'tumor_histologic_subtype': 'clear_cell_rcc',\n  'tumor_necrosis': False,\n  'tumor_isup_grade': 2,\n  'clavien_surgical_complications': '0',\n  'er_visit': False,\n  'readmission': False,\n  'estimated_blood_loss': 130,\n  'surgery_type': 'robotic',\n  'surgical_procedure': 'partial_nephrectomy',\n  'surgical_approach': 'Transperitoneal',\n  'operative_time': 123,\n  'cytoreductive': False,\n  'positive_resection_margins': False,\n  'last_preop_egfr': {'value': None, 'days_before_nephrectomy': None},\n  'first_postop_egfr': {'value': 45.0, 'days_before_nephrectomy': 500},\n  'last_postop_egfr': {'value': 45.0, 'days_before_nephrectomy': 500},\n  'vital_status': 'censored',\n  'vital_days_after_surgery': 500,\n  'voxel_spacing': {'x_spacing': 0.9765625,\n   'y_spacing': 0.9765625,\n   'z_spacing': 4.0}},\n {'case_id': 'case_00005',\n  'age_at_nephrectomy': 35,\n  'gender': 'male',\n  'body_mass_index': 35.96,\n  'comorbidities': {'myocardial_infarction': False,\n   'congestive_heart_failure': False,\n   'peripheral_vascular_disease': False,\n   'cerebrovascular_disease': False,\n   'dementia': False,\n   'copd': False,\n   'connective_tissue_disease': False,\n   'peptic_ulcer_disease': False,\n   'uncomplicated_diabetes_mellitus': True,\n   'diabetes_mellitus_with_end_organ_damage': False,\n   'chronic_kidney_disease': False,\n   'hemiplegia_from_stroke': False,\n   'leukemia': False,\n   'malignant_lymphoma': False,\n   'localized_solid_tumor': False,\n   'metastatic_solid_tumor': False,\n   'mild_liver_disease': False,\n   'moderate_to_severe_liver_disease': False,\n   'aids': False},\n  'smoking_history': 'current_smoker',\n  'age_when_quit_smoking': 'not_applicable',\n  'pack_years': None,\n  'chewing_tobacco_use': 'never_or_not_in_last_3mo',\n  'alcohol_use': 'never_or_not_in_last_3mo',\n  'intraoperative_complications': {'blood_transfusion': False,\n   'injury_to_surrounding_organ': False,\n   'cardiac_event': False},\n  'hospitalization': 3,\n  'ischemia_time': 19,\n  'radiographic_size': 4.9,\n  'pathologic_size': 5.4,\n  'malignant': True,\n  'pathology_t_stage': '3',\n  'pathology_n_stage': 'X',\n  'pathology_m_stage': 'X',\n  'tumor_histologic_subtype': 'clear_cell_rcc',\n  'tumor_necrosis': False,\n  'tumor_isup_grade': 2,\n  'clavien_surgical_complications': '2',\n  'er_visit': False,\n  'readmission': False,\n  'estimated_blood_loss': 200,\n  'surgery_type': 'robotic',\n  'surgical_procedure': 'partial_nephrectomy',\n  'surgical_approach': 'Transperitoneal',\n  'operative_time': 258,\n  'cytoreductive': False,\n  'positive_resection_margins': False,\n  'last_preop_egfr': {'value': '>=90', 'days_before_nephrectomy': 7},\n  'first_postop_egfr': {'value': None, 'days_before_nephrectomy': None},\n  'last_postop_egfr': {'value': None, 'days_before_nephrectomy': None},\n  'vital_status': 'censored',\n  'vital_days_after_surgery': 30,\n  'voxel_spacing': {'x_spacing': 0.9765625,\n   'y_spacing': 0.9765625,\n   'z_spacing': 0.5}},\n {'case_id': 'case_00006',\n  'age_at_nephrectomy': 69,\n  'gender': 'male',\n  'body_mass_index': 24.42,\n  'comorbidities': {'myocardial_infarction': False,\n   'congestive_heart_failure': False,\n   'peripheral_vascular_disease': False,\n   'cerebrovascular_disease': False,\n   'dementia': False,\n   'copd': False,\n   'connective_tissue_disease': False,\n   'peptic_ulcer_disease': False,\n   'uncomplicated_diabetes_mellitus': False,\n   'diabetes_mellitus_with_end_organ_damage': False,\n   'chronic_kidney_disease': False,\n   'hemiplegia_from_stroke': False,\n   'leukemia': False,\n   'malignant_lymphoma': False,\n   'localized_solid_tumor': False,\n   'metastatic_solid_tumor': False,\n   'mild_liver_disease': False,\n   'moderate_to_severe_liver_disease': False,\n   'aids': False},\n  'smoking_history': 'previous_smoker',\n  'age_when_quit_smoking': '25',\n  'pack_years': None,\n  'chewing_tobacco_use': 'never_or_not_in_last_3mo',\n  'alcohol_use': 'two_or_less_daily',\n  'intraoperative_complications': {'blood_transfusion': False,\n   'injury_to_surrounding_organ': False,\n   'cardiac_event': False},\n  'hospitalization': 2,\n  'ischemia_time': 15,\n  'radiographic_size': 3.0,\n  'pathologic_size': 2.6,\n  'malignant': True,\n  'pathology_t_stage': '1a',\n  'pathology_n_stage': 'X',\n  'pathology_m_stage': 'X',\n  'tumor_histologic_subtype': 'clear_cell_rcc',\n  'tumor_necrosis': False,\n  'tumor_isup_grade': 2,\n  'clavien_surgical_complications': '0',\n  'er_visit': False,\n  'readmission': False,\n  'estimated_blood_loss': 300,\n  'surgery_type': 'robotic',\n  'surgical_procedure': 'partial_nephrectomy',\n  'surgical_approach': 'Transperitoneal',\n  'operative_time': 246,\n  'cytoreductive': False,\n  'positive_resection_margins': False,\n  'last_preop_egfr': {'value': 60.0, 'days_before_nephrectomy': 27},\n  'first_postop_egfr': {'value': 74.0, 'days_before_nephrectomy': 117},\n  'last_postop_egfr': {'value': 69.0, 'days_before_nephrectomy': 1112},\n  'vital_status': 'censored',\n  'vital_days_after_surgery': 1219,\n  'voxel_spacing': {'x_spacing': 0.7421875,\n   'y_spacing': 0.7421875,\n   'z_spacing': 3.0}},\n {'case_id': 'case_00007',\n  'age_at_nephrectomy': 59,\n  'gender': 'male',\n  'body_mass_index': 37.01,\n  'comorbidities': {'myocardial_infarction': False,\n   'congestive_heart_failure': False,\n   'peripheral_vascular_disease': False,\n   'cerebrovascular_disease': False,\n   'dementia': False,\n   'copd': False,\n   'connective_tissue_disease': False,\n   'peptic_ulcer_disease': False,\n   'uncomplicated_diabetes_mellitus': True,\n   'diabetes_mellitus_with_end_organ_damage': False,\n   'chronic_kidney_disease': False,\n   'hemiplegia_from_stroke': False,\n   'leukemia': False,\n   'malignant_lymphoma': False,\n   'localized_solid_tumor': False,\n   'metastatic_solid_tumor': False,\n   'mild_liver_disease': False,\n   'moderate_to_severe_liver_disease': False,\n   'aids': False},\n  'smoking_history': 'previous_smoker',\n  'age_when_quit_smoking': '56',\n  'pack_years': '6',\n  'chewing_tobacco_use': 'never_or_not_in_last_3mo',\n  'alcohol_use': 'never_or_not_in_last_3mo',\n  'intraoperative_complications': {'blood_transfusion': False,\n   'injury_to_surrounding_organ': False,\n   'cardiac_event': False},\n  'hospitalization': 2,\n  'ischemia_time': 12,\n  'radiographic_size': 3.8,\n  'pathologic_size': 3.7,\n  'malignant': True,\n  'pathology_t_stage': '1a',\n  'pathology_n_stage': 'X',\n  'pathology_m_stage': 'X',\n  'tumor_histologic_subtype': 'clear_cell_rcc',\n  'tumor_necrosis': False,\n  'tumor_isup_grade': 2,\n  'clavien_surgical_complications': '0',\n  'er_visit': False,\n  'readmission': False,\n  'estimated_blood_loss': 150,\n  'surgery_type': 'robotic',\n  'surgical_procedure': 'partial_nephrectomy',\n  'surgical_approach': 'Transperitoneal',\n  'operative_time': 248,\n  'cytoreductive': False,\n  'positive_resection_margins': False,\n  'last_preop_egfr': {'value': 87.0, 'days_before_nephrectomy': 75},\n  'first_postop_egfr': {'value': 83.0, 'days_before_nephrectomy': 1424},\n  'last_postop_egfr': {'value': 83.0, 'days_before_nephrectomy': 1424},\n  'vital_status': 'censored',\n  'vital_days_after_surgery': 1438,\n  'voxel_spacing': {'x_spacing': 0.939453125,\n   'y_spacing': 0.939453125,\n   'z_spacing': 3.0}},\n {'case_id': 'case_00008',\n  'age_at_nephrectomy': 68,\n  'gender': 'male',\n  'body_mass_index': 26.82,\n  'comorbidities': {'myocardial_infarction': False,\n   'congestive_heart_failure': False,\n   'peripheral_vascular_disease': False,\n   'cerebrovascular_disease': False,\n   'dementia': False,\n   'copd': False,\n   'connective_tissue_disease': False,\n   'peptic_ulcer_disease': False,\n   'uncomplicated_diabetes_mellitus': False,\n   'diabetes_mellitus_with_end_organ_damage': False,\n   'chronic_kidney_disease': False,\n   'hemiplegia_from_stroke': False,\n   'leukemia': False,\n   'malignant_lymphoma': False,\n   'localized_solid_tumor': False,\n   'metastatic_solid_tumor': False,\n   'mild_liver_disease': False,\n   'moderate_to_severe_liver_disease': False,\n   'aids': False},\n  'smoking_history': 'previous_smoker',\n  'age_when_quit_smoking': None,\n  'pack_years': '15',\n  'chewing_tobacco_use': 'never_or_not_in_last_3mo',\n  'alcohol_use': 'two_or_less_daily',\n  'intraoperative_complications': {'blood_transfusion': False,\n   'injury_to_surrounding_organ': False,\n   'cardiac_event': False},\n  'hospitalization': 2,\n  'ischemia_time': 'not_applicable',\n  'radiographic_size': 10.6,\n  'pathologic_size': 13.0,\n  'malignant': True,\n  'pathology_t_stage': '3',\n  'pathology_n_stage': 'X',\n  'pathology_m_stage': '1',\n  'tumor_histologic_subtype': 'clear_cell_rcc',\n  'tumor_necrosis': True,\n  'tumor_isup_grade': 3,\n  'clavien_surgical_complications': '0',\n  'er_visit': False,\n  'readmission': False,\n  'estimated_blood_loss': 350,\n  'surgery_type': 'robotic',\n  'surgical_procedure': 'radical_nephrectomy',\n  'surgical_approach': 'Transperitoneal',\n  'operative_time': 149,\n  'cytoreductive': True,\n  'positive_resection_margins': False,\n  'last_preop_egfr': {'value': 67.0, 'days_before_nephrectomy': 4},\n  'first_postop_egfr': {'value': 30.0, 'days_before_nephrectomy': 126},\n  'last_postop_egfr': {'value': 40.0, 'days_before_nephrectomy': 1289},\n  'vital_status': 'censored',\n  'vital_days_after_surgery': 1289,\n  'voxel_spacing': {'x_spacing': 0.81640625,\n   'y_spacing': 0.81640625,\n   'z_spacing': 3.0}},\n {'case_id': 'case_00009',\n  'age_at_nephrectomy': 73,\n  'gender': 'female',\n  'body_mass_index': 22.9,\n  'comorbidities': {'myocardial_infarction': False,\n   'congestive_heart_failure': False,\n   'peripheral_vascular_disease': False,\n   'cerebrovascular_disease': False,\n   'dementia': False,\n   'copd': False,\n   'connective_tissue_disease': False,\n   'peptic_ulcer_disease': False,\n   'uncomplicated_diabetes_mellitus': True,\n   'diabetes_mellitus_with_end_organ_damage': False,\n   'chronic_kidney_disease': False,\n   'hemiplegia_from_stroke': False,\n   'leukemia': False,\n   'malignant_lymphoma': False,\n   'localized_solid_tumor': False,\n   'metastatic_solid_tumor': False,\n   'mild_liver_disease': False,\n   'moderate_to_severe_liver_disease': False,\n   'aids': False},\n  'smoking_history': 'never_smoked',\n  'age_when_quit_smoking': 'not_applicable',\n  'pack_years': 0,\n  'chewing_tobacco_use': 'never_or_not_in_last_3mo',\n  'alcohol_use': 'two_or_less_daily',\n  'intraoperative_complications': {'blood_transfusion': False,\n   'injury_to_surrounding_organ': False,\n   'cardiac_event': False},\n  'hospitalization': 1,\n  'ischemia_time': 25,\n  'radiographic_size': 2.7,\n  'pathologic_size': 3.0,\n  'malignant': True,\n  'pathology_t_stage': '1a',\n  'pathology_n_stage': 'X',\n  'pathology_m_stage': 'X',\n  'tumor_histologic_subtype': 'chromophobe',\n  'tumor_necrosis': False,\n  'tumor_isup_grade': None,\n  'clavien_surgical_complications': '0',\n  'er_visit': False,\n  'readmission': False,\n  'estimated_blood_loss': 35,\n  'surgery_type': 'robotic',\n  'surgical_procedure': 'partial_nephrectomy',\n  'surgical_approach': 'Retroperitoneal',\n  'operative_time': 105,\n  'cytoreductive': False,\n  'positive_resection_margins': False,\n  'last_preop_egfr': {'value': 84.0, 'days_before_nephrectomy': 1},\n  'first_postop_egfr': {'value': None, 'days_before_nephrectomy': None},\n  'last_postop_egfr': {'value': None, 'days_before_nephrectomy': None},\n  'vital_status': 'censored',\n  'vital_days_after_surgery': 26,\n  'voxel_spacing': {'x_spacing': 0.80859375,\n   'y_spacing': 0.80859375,\n   'z_spacing': 3.0}},\n {'case_id': 'case_00010',\n  'age_at_nephrectomy': 71,\n  'gender': 'female',\n  'body_mass_index': 33.13,\n  'comorbidities': {'myocardial_infarction': False,\n   'congestive_heart_failure': False,\n   'peripheral_vascular_disease': False,\n   'cerebrovascular_disease': False,\n   'dementia': False,\n   'copd': False,\n   'connective_tissue_disease': False,\n   'peptic_ulcer_disease': False,\n   'uncomplicated_diabetes_mellitus': False,\n   'diabetes_mellitus_with_end_organ_damage': False,\n   'chronic_kidney_disease': False,\n   'hemiplegia_from_stroke': False,\n   'leukemia': False,\n   'malignant_lymphoma': False,\n   'localized_solid_tumor': False,\n   'metastatic_solid_tumor': False,\n   'mild_liver_disease': False,\n   'moderate_to_severe_liver_disease': False,\n   'aids': False},\n  'smoking_history': 'never_smoked',\n  'age_when_quit_smoking': 'not_applicable',\n  'pack_years': 0,\n  'chewing_tobacco_use': 'never_or_not_in_last_3mo',\n  'alcohol_use': 'never_or_not_in_last_3mo',\n  'intraoperative_complications': {'blood_transfusion': False,\n   'injury_to_surrounding_organ': False,\n   'cardiac_event': False},\n  'hospitalization': 1,\n  'ischemia_time': 19,\n  'radiographic_size': 3.5,\n  'pathologic_size': 4.0,\n  'malignant': True,\n  'pathology_t_stage': '1a',\n  'pathology_n_stage': '0',\n  'pathology_m_stage': '0',\n  'tumor_histologic_subtype': 'chromophobe',\n  'tumor_necrosis': False,\n  'tumor_isup_grade': None,\n  'clavien_surgical_complications': '0',\n  'er_visit': False,\n  'readmission': False,\n  'estimated_blood_loss': 50,\n  'surgery_type': 'robotic',\n  'surgical_procedure': 'partial_nephrectomy',\n  'surgical_approach': 'Transperitoneal',\n  'operative_time': 227,\n  'cytoreductive': False,\n  'positive_resection_margins': True,\n  'last_preop_egfr': {'value': 66.0, 'days_before_nephrectomy': 40},\n  'first_postop_egfr': {'value': 71.0, 'days_before_nephrectomy': 107},\n  'last_postop_egfr': {'value': 49.0, 'days_before_nephrectomy': 513},\n  'vital_status': 'censored',\n  'vital_days_after_surgery': 943,\n  'voxel_spacing': {'x_spacing': 0.7578125,\n   'y_spacing': 0.7578125,\n   'z_spacing': 3.0}},\n {'case_id': 'case_00011',\n  'age_at_nephrectomy': 65,\n  'gender': 'female',\n  'body_mass_index': 31.47,\n  'comorbidities': {'myocardial_infarction': False,\n   'congestive_heart_failure': False,\n   'peripheral_vascular_disease': False,\n   'cerebrovascular_disease': False,\n   'dementia': False,\n   'copd': False,\n   'connective_tissue_disease': False,\n   'peptic_ulcer_disease': False,\n   'uncomplicated_diabetes_mellitus': False,\n   'diabetes_mellitus_with_end_organ_damage': False,\n   'chronic_kidney_disease': False,\n   'hemiplegia_from_stroke': False,\n   'leukemia': False,\n   'malignant_lymphoma': False,\n   'localized_solid_tumor': False,\n   'metastatic_solid_tumor': False,\n   'mild_liver_disease': False,\n   'moderate_to_severe_liver_disease': False,\n   'aids': False},\n  'smoking_history': 'previous_smoker',\n  'age_when_quit_smoking': '59',\n  'pack_years': '30',\n  'chewing_tobacco_use': 'never_or_not_in_last_3mo',\n  'alcohol_use': 'two_or_less_daily',\n  'intraoperative_complications': {'blood_transfusion': False,\n   'injury_to_surrounding_organ': False,\n   'cardiac_event': False},\n  'hospitalization': 4,\n  'ischemia_time': 45,\n  'radiographic_size': 4.6,\n  'pathologic_size': 4.5,\n  'malignant': True,\n  'pathology_t_stage': '1b',\n  'pathology_n_stage': 'X',\n  'pathology_m_stage': '0',\n  'tumor_histologic_subtype': 'clear_cell_rcc',\n  'tumor_necrosis': False,\n  'tumor_isup_grade': 1,\n  'clavien_surgical_complications': '0',\n  'er_visit': False,\n  'readmission': False,\n  'estimated_blood_loss': 50,\n  'surgery_type': 'open',\n  'surgical_procedure': 'partial_nephrectomy',\n  'surgical_approach': 'Retroperitoneal',\n  'operative_time': 157,\n  'cytoreductive': False,\n  'positive_resection_margins': False,\n  'last_preop_egfr': {'value': 71.0, 'days_before_nephrectomy': 1},\n  'first_postop_egfr': {'value': 50.0, 'days_before_nephrectomy': 128},\n  'last_postop_egfr': {'value': 48.0, 'days_before_nephrectomy': 309},\n  'vital_status': 'censored',\n  'vital_days_after_surgery': 317,\n  'voxel_spacing': {'x_spacing': 0.703125,\n   'y_spacing': 0.703125,\n   'z_spacing': 5.0}},\n {'case_id': 'case_00012',\n  'age_at_nephrectomy': 62,\n  'gender': 'female',\n  'body_mass_index': 30.92,\n  'comorbidities': {'myocardial_infarction': False,\n   'congestive_heart_failure': False,\n   'peripheral_vascular_disease': False,\n   'cerebrovascular_disease': False,\n   'dementia': False,\n   'copd': False,\n   'connective_tissue_disease': False,\n   'peptic_ulcer_disease': False,\n   'uncomplicated_diabetes_mellitus': False,\n   'diabetes_mellitus_with_end_organ_damage': False,\n   'chronic_kidney_disease': True,\n   'hemiplegia_from_stroke': False,\n   'leukemia': False,\n   'malignant_lymphoma': False,\n   'localized_solid_tumor': True,\n   'metastatic_solid_tumor': True,\n   'mild_liver_disease': False,\n   'moderate_to_severe_liver_disease': False,\n   'aids': False},\n  'smoking_history': 'never_smoked',\n  'age_when_quit_smoking': 'not_applicable',\n  'pack_years': 0,\n  'chewing_tobacco_use': 'never_or_not_in_last_3mo',\n  'alcohol_use': 'two_or_less_daily',\n  'intraoperative_complications': {'blood_transfusion': False,\n   'injury_to_surrounding_organ': False,\n   'cardiac_event': False},\n  'hospitalization': 4,\n  'ischemia_time': 'not_applicable',\n  'radiographic_size': 9.59,\n  'pathologic_size': 6.3,\n  'malignant': True,\n  'pathology_t_stage': '3',\n  'pathology_n_stage': 'X',\n  'pathology_m_stage': '1',\n  'tumor_histologic_subtype': 'clear_cell_rcc',\n  'tumor_necrosis': True,\n  'tumor_isup_grade': 3,\n  'clavien_surgical_complications': '0',\n  'er_visit': False,\n  'readmission': False,\n  'estimated_blood_loss': 150,\n  'surgery_type': 'open',\n  'surgical_procedure': 'radical_nephrectomy',\n  'surgical_approach': 'Transperitoneal',\n  'operative_time': 169,\n  'cytoreductive': True,\n  'positive_resection_margins': False,\n  'last_preop_egfr': {'value': 42.0, 'days_before_nephrectomy': 5},\n  'first_postop_egfr': {'value': 28.0, 'days_before_nephrectomy': 79},\n  'last_postop_egfr': {'value': 44.0, 'days_before_nephrectomy': 2604},\n  'vital_status': 'censored',\n  'vital_days_after_surgery': 2607,\n  'voxel_spacing': {'x_spacing': 0.751953125,\n   'y_spacing': 0.751953125,\n   'z_spacing': 5.0}},\n {'case_id': 'case_00013',\n  'age_at_nephrectomy': 83,\n  'gender': 'female',\n  'body_mass_index': 22.86,\n  'comorbidities': {'myocardial_infarction': False,\n   'congestive_heart_failure': False,\n   'peripheral_vascular_disease': False,\n   'cerebrovascular_disease': False,\n   'dementia': False,\n   'copd': False,\n   'connective_tissue_disease': False,\n   'peptic_ulcer_disease': False,\n   'uncomplicated_diabetes_mellitus': False,\n   'diabetes_mellitus_with_end_organ_damage': False,\n   'chronic_kidney_disease': True,\n   'hemiplegia_from_stroke': False,\n   'leukemia': False,\n   'malignant_lymphoma': False,\n   'localized_solid_tumor': False,\n   'metastatic_solid_tumor': False,\n   'mild_liver_disease': False,\n   'moderate_to_severe_liver_disease': False,\n   'aids': False},\n  'smoking_history': 'never_smoked',\n  'age_when_quit_smoking': 'not_applicable',\n  'pack_years': 0,\n  'chewing_tobacco_use': 'never_or_not_in_last_3mo',\n  'alcohol_use': 'never_or_not_in_last_3mo',\n  'intraoperative_complications': {'blood_transfusion': False,\n   'injury_to_surrounding_organ': False,\n   'cardiac_event': False},\n  'hospitalization': 4,\n  'ischemia_time': 13,\n  'radiographic_size': 4.2,\n  'pathologic_size': 4.3,\n  'malignant': True,\n  'pathology_t_stage': '1b',\n  'pathology_n_stage': '0',\n  'pathology_m_stage': '0',\n  'tumor_histologic_subtype': 'chromophobe',\n  'tumor_necrosis': False,\n  'tumor_isup_grade': None,\n  'clavien_surgical_complications': '0',\n  'er_visit': False,\n  'readmission': False,\n  'estimated_blood_loss': 300,\n  'surgery_type': 'open',\n  'surgical_procedure': 'partial_nephrectomy',\n  'surgical_approach': 'Retroperitoneal',\n  'operative_time': 143,\n  'cytoreductive': False,\n  'positive_resection_margins': False,\n  'last_preop_egfr': {'value': None, 'days_before_nephrectomy': None},\n  'first_postop_egfr': {'value': 53.0, 'days_before_nephrectomy': 212},\n  'last_postop_egfr': {'value': 53.0, 'days_before_nephrectomy': 212},\n  'vital_status': 'censored',\n  'vital_days_after_surgery': 212,\n  'voxel_spacing': {'x_spacing': 0.68359375,\n   'y_spacing': 0.68359375,\n   'z_spacing': 3.0}},\n {'case_id': 'case_00014',\n  'age_at_nephrectomy': 67,\n  'gender': 'female',\n  'body_mass_index': 29.43,\n  'comorbidities': {'myocardial_infarction': False,\n   'congestive_heart_failure': False,\n   'peripheral_vascular_disease': False,\n   'cerebrovascular_disease': False,\n   'dementia': False,\n   'copd': False,\n   'connective_tissue_disease': False,\n   'peptic_ulcer_disease': False,\n   'uncomplicated_diabetes_mellitus': True,\n   'diabetes_mellitus_with_end_organ_damage': False,\n   'chronic_kidney_disease': False,\n   'hemiplegia_from_stroke': False,\n   'leukemia': False,\n   'malignant_lymphoma': False,\n   'localized_solid_tumor': True,\n   'metastatic_solid_tumor': False,\n   'mild_liver_disease': False,\n   'moderate_to_severe_liver_disease': False,\n   'aids': False},\n  'smoking_history': 'never_smoked',\n  'age_when_quit_smoking': 'not_applicable',\n  'pack_years': 0,\n  'chewing_tobacco_use': 'never_or_not_in_last_3mo',\n  'alcohol_use': 'two_or_less_daily',\n  'intraoperative_complications': {'blood_transfusion': False,\n   'injury_to_surrounding_organ': False,\n   'cardiac_event': False},\n  'hospitalization': 1,\n  'ischemia_time': 22,\n  'radiographic_size': 2.1,\n  'pathologic_size': 2.0,\n  'malignant': True,\n  'pathology_t_stage': '1a',\n  'pathology_n_stage': 'X',\n  'pathology_m_stage': 'X',\n  'tumor_histologic_subtype': 'clear_cell_rcc',\n  'tumor_necrosis': False,\n  'tumor_isup_grade': 2,\n  'clavien_surgical_complications': '0',\n  'er_visit': False,\n  'readmission': False,\n  'estimated_blood_loss': 10,\n  'surgery_type': 'robotic',\n  'surgical_procedure': 'partial_nephrectomy',\n  'surgical_approach': 'Transperitoneal',\n  'operative_time': 153,\n  'cytoreductive': False,\n  'positive_resection_margins': False,\n  'last_preop_egfr': {'value': 80.0, 'days_before_nephrectomy': 1},\n  'first_postop_egfr': {'value': 77.0, 'days_before_nephrectomy': 173},\n  'last_postop_egfr': {'value': 69.0, 'days_before_nephrectomy': 512},\n  'vital_status': 'censored',\n  'vital_days_after_surgery': 640,\n  'voxel_spacing': {'x_spacing': 0.849609375,\n   'y_spacing': 0.849609375,\n   'z_spacing': 1.0}},\n {'case_id': 'case_00015',\n  'age_at_nephrectomy': 59,\n  'gender': 'male',\n  'body_mass_index': 24.29,\n  'comorbidities': {'myocardial_infarction': False,\n   'congestive_heart_failure': False,\n   'peripheral_vascular_disease': False,\n   'cerebrovascular_disease': False,\n   'dementia': False,\n   'copd': False,\n   'connective_tissue_disease': False,\n   'peptic_ulcer_disease': False,\n   'uncomplicated_diabetes_mellitus': False,\n   'diabetes_mellitus_with_end_organ_damage': False,\n   'chronic_kidney_disease': False,\n   'hemiplegia_from_stroke': False,\n   'leukemia': False,\n   'malignant_lymphoma': False,\n   'localized_solid_tumor': False,\n   'metastatic_solid_tumor': False,\n   'mild_liver_disease': False,\n   'moderate_to_severe_liver_disease': False,\n   'aids': False},\n  'smoking_history': 'previous_smoker',\n  'age_when_quit_smoking': '57',\n  'pack_years': '30',\n  'chewing_tobacco_use': 'never_or_not_in_last_3mo',\n  'alcohol_use': 'two_or_less_daily',\n  'intraoperative_complications': {'blood_transfusion': False,\n   'injury_to_surrounding_organ': False,\n   'cardiac_event': False},\n  'hospitalization': 1,\n  'ischemia_time': 14,\n  'radiographic_size': 3.4,\n  'pathologic_size': 3.2,\n  'malignant': True,\n  'pathology_t_stage': '1a',\n  'pathology_n_stage': '0',\n  'pathology_m_stage': '0',\n  'tumor_histologic_subtype': 'clear_cell_rcc',\n  'tumor_necrosis': False,\n  'tumor_isup_grade': 2,\n  'clavien_surgical_complications': '0',\n  'er_visit': False,\n  'readmission': False,\n  'estimated_blood_loss': 50,\n  'surgery_type': 'robotic',\n  'surgical_procedure': 'partial_nephrectomy',\n  'surgical_approach': 'Transperitoneal',\n  'operative_time': 119,\n  'cytoreductive': False,\n  'positive_resection_margins': False,\n  'last_preop_egfr': {'value': None, 'days_before_nephrectomy': None},\n  'first_postop_egfr': {'value': '>=90', 'days_before_nephrectomy': 618},\n  'last_postop_egfr': {'value': '>=90', 'days_before_nephrectomy': 618},\n  'vital_status': 'censored',\n  'vital_days_after_surgery': 617,\n  'voxel_spacing': {'x_spacing': 0.705078125,\n   'y_spacing': 0.705078125,\n   'z_spacing': 3.0}},\n {'case_id': 'case_00016',\n  'age_at_nephrectomy': 53,\n  'gender': 'female',\n  'body_mass_index': 31.61,\n  'comorbidities': {'myocardial_infarction': False,\n   'congestive_heart_failure': False,\n   'peripheral_vascular_disease': False,\n   'cerebrovascular_disease': False,\n   'dementia': False,\n   'copd': False,\n   'connective_tissue_disease': False,\n   'peptic_ulcer_disease': False,\n   'uncomplicated_diabetes_mellitus': False,\n   'diabetes_mellitus_with_end_organ_damage': False,\n   'chronic_kidney_disease': False,\n   'hemiplegia_from_stroke': False,\n   'leukemia': False,\n   'malignant_lymphoma': False,\n   'localized_solid_tumor': False,\n   'metastatic_solid_tumor': False,\n   'mild_liver_disease': False,\n   'moderate_to_severe_liver_disease': False,\n   'aids': False},\n  'smoking_history': 'never_smoked',\n  'age_when_quit_smoking': 'not_applicable',\n  'pack_years': 0,\n  'chewing_tobacco_use': 'never_or_not_in_last_3mo',\n  'alcohol_use': 'two_or_less_daily',\n  'intraoperative_complications': {'blood_transfusion': False,\n   'injury_to_surrounding_organ': False,\n   'cardiac_event': False},\n  'hospitalization': 3,\n  'ischemia_time': 21,\n  'radiographic_size': 5.0,\n  'pathologic_size': 3.9,\n  'malignant': True,\n  'pathology_t_stage': '1b',\n  'pathology_n_stage': '0',\n  'pathology_m_stage': '0',\n  'tumor_histologic_subtype': 'clear_cell_rcc',\n  'tumor_necrosis': False,\n  'tumor_isup_grade': 3,\n  'clavien_surgical_complications': '1',\n  'er_visit': False,\n  'readmission': False,\n  'estimated_blood_loss': 50,\n  'surgery_type': 'robotic',\n  'surgical_procedure': 'partial_nephrectomy',\n  'surgical_approach': 'Transperitoneal',\n  'operative_time': 151,\n  'cytoreductive': False,\n  'positive_resection_margins': False,\n  'last_preop_egfr': {'value': None, 'days_before_nephrectomy': None},\n  'first_postop_egfr': {'value': '>=90', 'days_before_nephrectomy': 132},\n  'last_postop_egfr': {'value': '>=90', 'days_before_nephrectomy': 132},\n  'vital_status': 'censored',\n  'vital_days_after_surgery': 2060,\n  'voxel_spacing': {'x_spacing': 0.650390625,\n   'y_spacing': 0.650390625,\n   'z_spacing': 2.5}},\n {'case_id': 'case_00017',\n  'age_at_nephrectomy': 44,\n  'gender': 'female',\n  'body_mass_index': 31.67,\n  'comorbidities': {'myocardial_infarction': False,\n   'congestive_heart_failure': False,\n   'peripheral_vascular_disease': False,\n   'cerebrovascular_disease': False,\n   'dementia': False,\n   'copd': False,\n   'connective_tissue_disease': False,\n   'peptic_ulcer_disease': False,\n   'uncomplicated_diabetes_mellitus': False,\n   'diabetes_mellitus_with_end_organ_damage': False,\n   'chronic_kidney_disease': False,\n   'hemiplegia_from_stroke': False,\n   'leukemia': False,\n   'malignant_lymphoma': False,\n   'localized_solid_tumor': False,\n   'metastatic_solid_tumor': False,\n   'mild_liver_disease': False,\n   'moderate_to_severe_liver_disease': False,\n   'aids': False},\n  'smoking_history': 'previous_smoker',\n  'age_when_quit_smoking': None,\n  'pack_years': None,\n  'chewing_tobacco_use': 'never_or_not_in_last_3mo',\n  'alcohol_use': 'never_or_not_in_last_3mo',\n  'intraoperative_complications': {'blood_transfusion': False,\n   'injury_to_surrounding_organ': False,\n   'cardiac_event': False},\n  'hospitalization': 2,\n  'ischemia_time': None,\n  'radiographic_size': 2.3,\n  'pathologic_size': 1.7,\n  'malignant': False,\n  'pathology_t_stage': '0',\n  'pathology_n_stage': '0',\n  'pathology_m_stage': '0',\n  'tumor_histologic_subtype': 'angiomyolipoma',\n  'tumor_necrosis': None,\n  'tumor_isup_grade': None,\n  'clavien_surgical_complications': '2',\n  'er_visit': True,\n  'readmission': False,\n  'estimated_blood_loss': 100,\n  'surgery_type': 'robotic',\n  'surgical_procedure': 'partial_nephrectomy',\n  'surgical_approach': 'Transperitoneal',\n  'operative_time': 117,\n  'cytoreductive': False,\n  'positive_resection_margins': False,\n  'last_preop_egfr': {'value': None, 'days_before_nephrectomy': None},\n  'first_postop_egfr': {'value': None, 'days_before_nephrectomy': None},\n  'last_postop_egfr': {'value': None, 'days_before_nephrectomy': None},\n  'vital_status': 'censored',\n  'vital_days_after_surgery': 2327,\n  'voxel_spacing': {'x_spacing': 0.6640625,\n   'y_spacing': 0.6640625,\n   'z_spacing': 5.0}},\n {'case_id': 'case_00018',\n  'age_at_nephrectomy': 58,\n  'gender': 'male',\n  'body_mass_index': 35.65,\n  'comorbidities': {'myocardial_infarction': False,\n   'congestive_heart_failure': False,\n   'peripheral_vascular_disease': False,\n   'cerebrovascular_disease': False,\n   'dementia': False,\n   'copd': False,\n   'connective_tissue_disease': False,\n   'peptic_ulcer_disease': False,\n   'uncomplicated_diabetes_mellitus': False,\n   'diabetes_mellitus_with_end_organ_damage': False,\n   'chronic_kidney_disease': False,\n   'hemiplegia_from_stroke': False,\n   'leukemia': False,\n   'malignant_lymphoma': False,\n   'localized_solid_tumor': False,\n   'metastatic_solid_tumor': False,\n   'mild_liver_disease': False,\n   'moderate_to_severe_liver_disease': False,\n   'aids': False},\n  'smoking_history': 'never_smoked',\n  'age_when_quit_smoking': 'not_applicable',\n  'pack_years': 0,\n  'chewing_tobacco_use': 'never_or_not_in_last_3mo',\n  'alcohol_use': 'two_or_less_daily',\n  'intraoperative_complications': {'blood_transfusion': False,\n   'injury_to_surrounding_organ': False,\n   'cardiac_event': False},\n  'hospitalization': 6,\n  'ischemia_time': 4,\n  'radiographic_size': 2.5,\n  'pathologic_size': 3.0,\n  'malignant': True,\n  'pathology_t_stage': '1a',\n  'pathology_n_stage': 'X',\n  'pathology_m_stage': 'X',\n  'tumor_histologic_subtype': 'rcc_unclassified',\n  'tumor_necrosis': False,\n  'tumor_isup_grade': 2,\n  'clavien_surgical_complications': '0',\n  'er_visit': False,\n  'readmission': False,\n  'estimated_blood_loss': 350,\n  'surgery_type': 'open',\n  'surgical_procedure': 'partial_nephrectomy',\n  'surgical_approach': 'Retroperitoneal',\n  'operative_time': 293,\n  'cytoreductive': False,\n  'positive_resection_margins': False,\n  'last_preop_egfr': {'value': 90.0, 'days_before_nephrectomy': 14},\n  'first_postop_egfr': {'value': 77.0, 'days_before_nephrectomy': 185},\n  'last_postop_egfr': {'value': 62.0, 'days_before_nephrectomy': 724},\n  'vital_status': 'censored',\n  'vital_days_after_surgery': 724,\n  'voxel_spacing': {'x_spacing': 0.8613280057907104,\n   'y_spacing': 0.8613280057907104,\n   'z_spacing': 2.5}},\n {'case_id': 'case_00019',\n  'age_at_nephrectomy': 58,\n  'gender': 'male',\n  'body_mass_index': 36.4,\n  'comorbidities': {'myocardial_infarction': False,\n   'congestive_heart_failure': False,\n   'peripheral_vascular_disease': False,\n   'cerebrovascular_disease': False,\n   'dementia': False,\n   'copd': False,\n   'connective_tissue_disease': False,\n   'peptic_ulcer_disease': False,\n   'uncomplicated_diabetes_mellitus': False,\n   'diabetes_mellitus_with_end_organ_damage': False,\n   'chronic_kidney_disease': False,\n   'hemiplegia_from_stroke': False,\n   'leukemia': False,\n   'malignant_lymphoma': False,\n   'localized_solid_tumor': False,\n   'metastatic_solid_tumor': False,\n   'mild_liver_disease': False,\n   'moderate_to_severe_liver_disease': False,\n   'aids': False},\n  'smoking_history': 'never_smoked',\n  'age_when_quit_smoking': 'not_applicable',\n  'pack_years': 0,\n  'chewing_tobacco_use': 'never_or_not_in_last_3mo',\n  'alcohol_use': 'two_or_less_daily',\n  'intraoperative_complications': {'blood_transfusion': False,\n   'injury_to_surrounding_organ': False,\n   'cardiac_event': False},\n  'hospitalization': 2,\n  'ischemia_time': 0,\n  'radiographic_size': 1.2,\n  'pathologic_size': 1.4,\n  'malignant': False,\n  'pathology_t_stage': '0',\n  'pathology_n_stage': 'X',\n  'pathology_m_stage': 'X',\n  'tumor_histologic_subtype': 'oncocytoma',\n  'tumor_necrosis': None,\n  'tumor_isup_grade': None,\n  'clavien_surgical_complications': '0',\n  'er_visit': False,\n  'readmission': False,\n  'estimated_blood_loss': 400,\n  'surgery_type': 'robotic',\n  'surgical_procedure': 'partial_nephrectomy',\n  'surgical_approach': 'Transperitoneal',\n  'operative_time': 164,\n  'cytoreductive': False,\n  'positive_resection_margins': False,\n  'last_preop_egfr': {'value': 71.0, 'days_before_nephrectomy': 2},\n  'first_postop_egfr': {'value': 69.0, 'days_before_nephrectomy': 125},\n  'last_postop_egfr': {'value': 72.0, 'days_before_nephrectomy': 713},\n  'vital_status': 'censored',\n  'vital_days_after_surgery': 713,\n  'voxel_spacing': {'x_spacing': 0.9375,\n   'y_spacing': 0.9375,\n   'z_spacing': 3.75}},\n {'case_id': 'case_00020',\n  'age_at_nephrectomy': 66,\n  'gender': 'male',\n  'body_mass_index': 28.34,\n  'comorbidities': {'myocardial_infarction': False,\n   'congestive_heart_failure': False,\n   'peripheral_vascular_disease': False,\n   'cerebrovascular_disease': False,\n   'dementia': False,\n   'copd': False,\n   'connective_tissue_disease': False,\n   'peptic_ulcer_disease': False,\n   'uncomplicated_diabetes_mellitus': False,\n   'diabetes_mellitus_with_end_organ_damage': False,\n   'chronic_kidney_disease': False,\n   'hemiplegia_from_stroke': False,\n   'leukemia': False,\n   'malignant_lymphoma': False,\n   'localized_solid_tumor': False,\n   'metastatic_solid_tumor': False,\n   'mild_liver_disease': False,\n   'moderate_to_severe_liver_disease': False,\n   'aids': False},\n  'smoking_history': 'never_smoked',\n  'age_when_quit_smoking': 'not_applicable',\n  'pack_years': 0,\n  'chewing_tobacco_use': 'never_or_not_in_last_3mo',\n  'alcohol_use': 'never_or_not_in_last_3mo',\n  'intraoperative_complications': {'blood_transfusion': False,\n   'injury_to_surrounding_organ': False,\n   'cardiac_event': False},\n  'hospitalization': 1,\n  'ischemia_time': 18,\n  'radiographic_size': 2.5,\n  'pathologic_size': 2.5,\n  'malignant': False,\n  'pathology_t_stage': '0',\n  'pathology_n_stage': '0',\n  'pathology_m_stage': '0',\n  'tumor_histologic_subtype': 'oncocytoma',\n  'tumor_necrosis': None,\n  'tumor_isup_grade': None,\n  'clavien_surgical_complications': '0',\n  'er_visit': False,\n  'readmission': False,\n  'estimated_blood_loss': 30,\n  'surgery_type': 'robotic',\n  'surgical_procedure': 'partial_nephrectomy',\n  'surgical_approach': 'Retroperitoneal',\n  'operative_time': 146,\n  'cytoreductive': False,\n  'positive_resection_margins': False,\n  'last_preop_egfr': {'value': 73.0, 'days_before_nephrectomy': 2},\n  'first_postop_egfr': {'value': 82.0, 'days_before_nephrectomy': 112},\n  'last_postop_egfr': {'value': 74.0, 'days_before_nephrectomy': 518},\n  'vital_status': 'censored',\n  'vital_days_after_surgery': 735,\n  'voxel_spacing': {'x_spacing': 0.83984375,\n   'y_spacing': 0.83984375,\n   'z_spacing': 5.0}},\n {'case_id': 'case_00021',\n  'age_at_nephrectomy': 73,\n  'gender': 'female',\n  'body_mass_index': 36.29,\n  'comorbidities': {'myocardial_infarction': False,\n   'congestive_heart_failure': False,\n   'peripheral_vascular_disease': False,\n   'cerebrovascular_disease': False,\n   'dementia': False,\n   'copd': False,\n   'connective_tissue_disease': False,\n   'peptic_ulcer_disease': False,\n   'uncomplicated_diabetes_mellitus': False,\n   'diabetes_mellitus_with_end_organ_damage': False,\n   'chronic_kidney_disease': True,\n   'hemiplegia_from_stroke': False,\n   'leukemia': False,\n   'malignant_lymphoma': False,\n   'localized_solid_tumor': False,\n   'metastatic_solid_tumor': False,\n   'mild_liver_disease': False,\n   'moderate_to_severe_liver_disease': False,\n   'aids': False},\n  'smoking_history': 'previous_smoker',\n  'age_when_quit_smoking': '43',\n  'pack_years': None,\n  'chewing_tobacco_use': 'never_or_not_in_last_3mo',\n  'alcohol_use': 'two_or_less_daily',\n  'intraoperative_complications': {'blood_transfusion': False,\n   'injury_to_surrounding_organ': False,\n   'cardiac_event': False},\n  'hospitalization': 5,\n  'ischemia_time': 36,\n  'radiographic_size': 4.0,\n  'pathologic_size': 3.9,\n  'malignant': True,\n  'pathology_t_stage': '1a',\n  'pathology_n_stage': '0',\n  'pathology_m_stage': '0',\n  'tumor_histologic_subtype': 'papillary',\n  'tumor_necrosis': False,\n  'tumor_isup_grade': 2,\n  'clavien_surgical_complications': '0',\n  'er_visit': False,\n  'readmission': False,\n  'estimated_blood_loss': 250,\n  'surgery_type': 'open',\n  'surgical_procedure': 'partial_nephrectomy',\n  'surgical_approach': 'Transperitoneal',\n  'operative_time': 248,\n  'cytoreductive': False,\n  'positive_resection_margins': False,\n  'last_preop_egfr': {'value': 55.0, 'days_before_nephrectomy': 4},\n  'first_postop_egfr': {'value': 40.0, 'days_before_nephrectomy': 401},\n  'last_postop_egfr': {'value': 40.0, 'days_before_nephrectomy': 401},\n  'vital_status': 'censored',\n  'vital_days_after_surgery': 851,\n  'voxel_spacing': {'x_spacing': 0.822265625,\n   'y_spacing': 0.822265625,\n   'z_spacing': 5.0}},\n {'case_id': 'case_00022',\n  'age_at_nephrectomy': 66,\n  'gender': 'female',\n  'body_mass_index': 30.69,\n  'comorbidities': {'myocardial_infarction': False,\n   'congestive_heart_failure': False,\n   'peripheral_vascular_disease': False,\n   'cerebrovascular_disease': False,\n   'dementia': False,\n   'copd': False,\n   'connective_tissue_disease': False,\n   'peptic_ulcer_disease': False,\n   'uncomplicated_diabetes_mellitus': False,\n   'diabetes_mellitus_with_end_organ_damage': False,\n   'chronic_kidney_disease': False,\n   'hemiplegia_from_stroke': False,\n   'leukemia': False,\n   'malignant_lymphoma': False,\n   'localized_solid_tumor': False,\n   'metastatic_solid_tumor': False,\n   'mild_liver_disease': False,\n   'moderate_to_severe_liver_disease': False,\n   'aids': False},\n  'smoking_history': 'never_smoked',\n  'age_when_quit_smoking': 'not_applicable',\n  'pack_years': 0,\n  'chewing_tobacco_use': 'never_or_not_in_last_3mo',\n  'alcohol_use': 'more_than_two_daily',\n  'intraoperative_complications': {'blood_transfusion': False,\n   'injury_to_surrounding_organ': False,\n   'cardiac_event': False},\n  'hospitalization': 1,\n  'ischemia_time': 17,\n  'radiographic_size': 2.3,\n  'pathologic_size': 2.3,\n  'malignant': True,\n  'pathology_t_stage': '1a',\n  'pathology_n_stage': '0',\n  'pathology_m_stage': '0',\n  'tumor_histologic_subtype': 'clear_cell_rcc',\n  'tumor_necrosis': False,\n  'tumor_isup_grade': 1,\n  'clavien_surgical_complications': '0',\n  'er_visit': False,\n  'readmission': False,\n  'estimated_blood_loss': 100,\n  'surgery_type': 'robotic',\n  'surgical_procedure': 'partial_nephrectomy',\n  'surgical_approach': 'Transperitoneal',\n  'operative_time': 366,\n  'cytoreductive': False,\n  'positive_resection_margins': False,\n  'last_preop_egfr': {'value': 80.0, 'days_before_nephrectomy': 7},\n  'first_postop_egfr': {'value': 67.0, 'days_before_nephrectomy': 149},\n  'last_postop_egfr': {'value': 67.0, 'days_before_nephrectomy': 149},\n  'vital_status': 'censored',\n  'vital_days_after_surgery': 177,\n  'voxel_spacing': {'x_spacing': 0.833984375,\n   'y_spacing': 0.833984375,\n   'z_spacing': 0.5}},\n {'case_id': 'case_00023',\n  'age_at_nephrectomy': 49,\n  'gender': 'male',\n  'body_mass_index': 34.53,\n  'comorbidities': {'myocardial_infarction': False,\n   'congestive_heart_failure': False,\n   'peripheral_vascular_disease': False,\n   'cerebrovascular_disease': False,\n   'dementia': False,\n   'copd': False,\n   'connective_tissue_disease': False,\n   'peptic_ulcer_disease': False,\n   'uncomplicated_diabetes_mellitus': False,\n   'diabetes_mellitus_with_end_organ_damage': False,\n   'chronic_kidney_disease': False,\n   'hemiplegia_from_stroke': False,\n   'leukemia': False,\n   'malignant_lymphoma': False,\n   'localized_solid_tumor': False,\n   'metastatic_solid_tumor': False,\n   'mild_liver_disease': False,\n   'moderate_to_severe_liver_disease': False,\n   'aids': False},\n  'smoking_history': 'never_smoked',\n  'age_when_quit_smoking': 'not_applicable',\n  'pack_years': 0,\n  'chewing_tobacco_use': 'never_or_not_in_last_3mo',\n  'alcohol_use': 'never_or_not_in_last_3mo',\n  'intraoperative_complications': {'blood_transfusion': False,\n   'injury_to_surrounding_organ': False,\n   'cardiac_event': False},\n  'hospitalization': 'died_before_discharge',\n  'ischemia_time': 21,\n  'radiographic_size': 2.3,\n  'pathologic_size': 2.0,\n  'malignant': True,\n  'pathology_t_stage': '1a',\n  'pathology_n_stage': '0',\n  'pathology_m_stage': '0',\n  'tumor_histologic_subtype': 'clear_cell_rcc',\n  'tumor_necrosis': False,\n  'tumor_isup_grade': 1,\n  'clavien_surgical_complications': '5',\n  'er_visit': None,\n  'readmission': None,\n  'estimated_blood_loss': 700,\n  'surgery_type': 'open',\n  'surgical_procedure': 'partial_nephrectomy',\n  'surgical_approach': 'Transperitoneal',\n  'operative_time': 302,\n  'cytoreductive': False,\n  'positive_resection_margins': False,\n  'last_preop_egfr': {'value': '>=90', 'days_before_nephrectomy': 47},\n  'first_postop_egfr': {'value': None, 'days_before_nephrectomy': None},\n  'last_postop_egfr': {'value': None, 'days_before_nephrectomy': None},\n  'vital_status': 'dead',\n  'vital_days_after_surgery': 2,\n  'voxel_spacing': {'x_spacing': 0.7820000052452087,\n   'y_spacing': 0.7820000052452087,\n   'z_spacing': 3.0}},\n {'case_id': 'case_00024',\n  'age_at_nephrectomy': 21,\n  'gender': 'female',\n  'body_mass_index': 32.21,\n  'comorbidities': {'myocardial_infarction': False,\n   'congestive_heart_failure': False,\n   'peripheral_vascular_disease': False,\n   'cerebrovascular_disease': False,\n   'dementia': False,\n   'copd': False,\n   'connective_tissue_disease': False,\n   'peptic_ulcer_disease': False,\n   'uncomplicated_diabetes_mellitus': False,\n   'diabetes_mellitus_with_end_organ_damage': False,\n   'chronic_kidney_disease': False,\n   'hemiplegia_from_stroke': False,\n   'leukemia': False,\n   'malignant_lymphoma': False,\n   'localized_solid_tumor': False,\n   'metastatic_solid_tumor': False,\n   'mild_liver_disease': False,\n   'moderate_to_severe_liver_disease': False,\n   'aids': False},\n  'smoking_history': 'never_smoked',\n  'age_when_quit_smoking': 'not_applicable',\n  'pack_years': 0,\n  'chewing_tobacco_use': 'never_or_not_in_last_3mo',\n  'alcohol_use': 'never_or_not_in_last_3mo',\n  'intraoperative_complications': {'blood_transfusion': False,\n   'injury_to_surrounding_organ': False,\n   'cardiac_event': False},\n  'hospitalization': 5,\n  'ischemia_time': None,\n  'radiographic_size': 5.7,\n  'pathologic_size': 6.6,\n  'malignant': True,\n  'pathology_t_stage': '1b',\n  'pathology_n_stage': '0',\n  'pathology_m_stage': '0',\n  'tumor_histologic_subtype': 'chromophobe',\n  'tumor_necrosis': False,\n  'tumor_isup_grade': None,\n  'clavien_surgical_complications': '2',\n  'er_visit': False,\n  'readmission': False,\n  'estimated_blood_loss': 1000,\n  'surgery_type': 'robotic',\n  'surgical_procedure': 'partial_nephrectomy',\n  'surgical_approach': 'Transperitoneal',\n  'operative_time': 311,\n  'cytoreductive': False,\n  'positive_resection_margins': True,\n  'last_preop_egfr': {'value': '>=90', 'days_before_nephrectomy': 33},\n  'first_postop_egfr': {'value': '>=90', 'days_before_nephrectomy': 111},\n  'last_postop_egfr': {'value': '>=90', 'days_before_nephrectomy': 1847},\n  'vital_status': 'censored',\n  'vital_days_after_surgery': 1962,\n  'voxel_spacing': {'x_spacing': 0.6640625,\n   'y_spacing': 0.6640625,\n   'z_spacing': 5.0}},\n {'case_id': 'case_00025',\n  'age_at_nephrectomy': 51,\n  'gender': 'female',\n  'body_mass_index': 33.5,\n  'comorbidities': {'myocardial_infarction': False,\n   'congestive_heart_failure': False,\n   'peripheral_vascular_disease': False,\n   'cerebrovascular_disease': False,\n   'dementia': False,\n   'copd': False,\n   'connective_tissue_disease': False,\n   'peptic_ulcer_disease': False,\n   'uncomplicated_diabetes_mellitus': False,\n   'diabetes_mellitus_with_end_organ_damage': False,\n   'chronic_kidney_disease': False,\n   'hemiplegia_from_stroke': False,\n   'leukemia': False,\n   'malignant_lymphoma': False,\n   'localized_solid_tumor': False,\n   'metastatic_solid_tumor': False,\n   'mild_liver_disease': False,\n   'moderate_to_severe_liver_disease': False,\n   'aids': False},\n  'smoking_history': 'never_smoked',\n  'age_when_quit_smoking': 'not_applicable',\n  'pack_years': 0,\n  'chewing_tobacco_use': 'never_or_not_in_last_3mo',\n  'alcohol_use': 'two_or_less_daily',\n  'intraoperative_complications': {'blood_transfusion': False,\n   'injury_to_surrounding_organ': False,\n   'cardiac_event': False},\n  'hospitalization': 3,\n  'ischemia_time': 'not_applicable',\n  'radiographic_size': 10.4,\n  'pathologic_size': 10.5,\n  'malignant': True,\n  'pathology_t_stage': '2b',\n  'pathology_n_stage': 'X',\n  'pathology_m_stage': 'X',\n  'tumor_histologic_subtype': 'chromophobe',\n  'tumor_necrosis': False,\n  'tumor_isup_grade': None,\n  'clavien_surgical_complications': '0',\n  'er_visit': False,\n  'readmission': False,\n  'estimated_blood_loss': 300,\n  'surgery_type': 'open',\n  'surgical_procedure': 'radical_nephrectomy',\n  'surgical_approach': 'Transperitoneal',\n  'operative_time': 124,\n  'cytoreductive': False,\n  'positive_resection_margins': False,\n  'last_preop_egfr': {'value': None, 'days_before_nephrectomy': None},\n  'first_postop_egfr': {'value': None, 'days_before_nephrectomy': None},\n  'last_postop_egfr': {'value': None, 'days_before_nephrectomy': None},\n  'vital_status': 'censored',\n  'vital_days_after_surgery': 0,\n  'voxel_spacing': {'x_spacing': 0.7363280057907104,\n   'y_spacing': 0.7363280057907104,\n   'z_spacing': 2.5}},\n {'case_id': 'case_00026',\n  'age_at_nephrectomy': 56,\n  'gender': 'male',\n  'body_mass_index': 29.47,\n  'comorbidities': {'myocardial_infarction': False,\n   'congestive_heart_failure': False,\n   'peripheral_vascular_disease': False,\n   'cerebrovascular_disease': False,\n   'dementia': False,\n   'copd': False,\n   'connective_tissue_disease': False,\n   'peptic_ulcer_disease': False,\n   'uncomplicated_diabetes_mellitus': False,\n   'diabetes_mellitus_with_end_organ_damage': False,\n   'chronic_kidney_disease': False,\n   'hemiplegia_from_stroke': False,\n   'leukemia': False,\n   'malignant_lymphoma': False,\n   'localized_solid_tumor': False,\n   'metastatic_solid_tumor': False,\n   'mild_liver_disease': False,\n   'moderate_to_severe_liver_disease': False,\n   'aids': False},\n  'smoking_history': 'never_smoked',\n  'age_when_quit_smoking': 'not_applicable',\n  'pack_years': 0,\n  'chewing_tobacco_use': 'never_or_not_in_last_3mo',\n  'alcohol_use': 'never_or_not_in_last_3mo',\n  'intraoperative_complications': {'blood_transfusion': False,\n   'injury_to_surrounding_organ': False,\n   'cardiac_event': False},\n  'hospitalization': 3,\n  'ischemia_time': 'not_applicable',\n  'radiographic_size': 9.2,\n  'pathologic_size': 7.9,\n  'malignant': True,\n  'pathology_t_stage': '2a',\n  'pathology_n_stage': '0',\n  'pathology_m_stage': '0',\n  'tumor_histologic_subtype': 'clear_cell_rcc',\n  'tumor_necrosis': True,\n  'tumor_isup_grade': 3,\n  'clavien_surgical_complications': '0',\n  'er_visit': False,\n  'readmission': False,\n  'estimated_blood_loss': 150,\n  'surgery_type': 'robotic',\n  'surgical_procedure': 'radical_nephrectomy',\n  'surgical_approach': 'Transperitoneal',\n  'operative_time': 269,\n  'cytoreductive': False,\n  'positive_resection_margins': False,\n  'last_preop_egfr': {'value': None, 'days_before_nephrectomy': None},\n  'first_postop_egfr': {'value': 48.0, 'days_before_nephrectomy': 183},\n  'last_postop_egfr': {'value': 48.0, 'days_before_nephrectomy': 183},\n  'vital_status': 'censored',\n  'vital_days_after_surgery': 183,\n  'voxel_spacing': {'x_spacing': 0.875, 'y_spacing': 0.875, 'z_spacing': 2.5}},\n {'case_id': 'case_00027',\n  'age_at_nephrectomy': 50,\n  'gender': 'male',\n  'body_mass_index': 37.4,\n  'comorbidities': {'myocardial_infarction': False,\n   'congestive_heart_failure': False,\n   'peripheral_vascular_disease': False,\n   'cerebrovascular_disease': False,\n   'dementia': False,\n   'copd': False,\n   'connective_tissue_disease': False,\n   'peptic_ulcer_disease': False,\n   'uncomplicated_diabetes_mellitus': False,\n   'diabetes_mellitus_with_end_organ_damage': False,\n   'chronic_kidney_disease': False,\n   'hemiplegia_from_stroke': False,\n   'leukemia': False,\n   'malignant_lymphoma': False,\n   'localized_solid_tumor': False,\n   'metastatic_solid_tumor': False,\n   'mild_liver_disease': False,\n   'moderate_to_severe_liver_disease': False,\n   'aids': False},\n  'smoking_history': 'never_smoked',\n  'age_when_quit_smoking': 'not_applicable',\n  'pack_years': 0,\n  'chewing_tobacco_use': 'never_or_not_in_last_3mo',\n  'alcohol_use': 'two_or_less_daily',\n  'intraoperative_complications': {'blood_transfusion': False,\n   'injury_to_surrounding_organ': False,\n   'cardiac_event': False},\n  'hospitalization': 5,\n  'ischemia_time': 17,\n  'radiographic_size': 1.8,\n  'pathologic_size': 2.0,\n  'malignant': True,\n  'pathology_t_stage': '1a',\n  'pathology_n_stage': 'X',\n  'pathology_m_stage': 'X',\n  'tumor_histologic_subtype': 'clear_cell_rcc',\n  'tumor_necrosis': False,\n  'tumor_isup_grade': 1,\n  'clavien_surgical_complications': '2',\n  'er_visit': False,\n  'readmission': False,\n  'estimated_blood_loss': 200,\n  'surgery_type': 'robotic',\n  'surgical_procedure': 'partial_nephrectomy',\n  'surgical_approach': 'Transperitoneal',\n  'operative_time': 265,\n  'cytoreductive': False,\n  'positive_resection_margins': False,\n  'last_preop_egfr': {'value': 71.0, 'days_before_nephrectomy': 26},\n  'first_postop_egfr': {'value': 64.0, 'days_before_nephrectomy': 177},\n  'last_postop_egfr': {'value': 70.0, 'days_before_nephrectomy': 1430},\n  'vital_status': 'censored',\n  'vital_days_after_surgery': 1430,\n  'voxel_spacing': {'x_spacing': 0.89453125,\n   'y_spacing': 0.89453125,\n   'z_spacing': 0.5}},\n {'case_id': 'case_00028',\n  'age_at_nephrectomy': 75,\n  'gender': 'male',\n  'body_mass_index': 27.1,\n  'comorbidities': {'myocardial_infarction': False,\n   'congestive_heart_failure': False,\n   'peripheral_vascular_disease': False,\n   'cerebrovascular_disease': False,\n   'dementia': False,\n   'copd': False,\n   'connective_tissue_disease': False,\n   'peptic_ulcer_disease': False,\n   'uncomplicated_diabetes_mellitus': False,\n   'diabetes_mellitus_with_end_organ_damage': False,\n   'chronic_kidney_disease': False,\n   'hemiplegia_from_stroke': False,\n   'leukemia': False,\n   'malignant_lymphoma': False,\n   'localized_solid_tumor': False,\n   'metastatic_solid_tumor': False,\n   'mild_liver_disease': False,\n   'moderate_to_severe_liver_disease': False,\n   'aids': False},\n  'smoking_history': 'previous_smoker',\n  'age_when_quit_smoking': None,\n  'pack_years': None,\n  'chewing_tobacco_use': 'never_or_not_in_last_3mo',\n  'alcohol_use': 'two_or_less_daily',\n  'intraoperative_complications': {'blood_transfusion': False,\n   'injury_to_surrounding_organ': False,\n   'cardiac_event': False},\n  'hospitalization': 3,\n  'ischemia_time': 'not_applicable',\n  'radiographic_size': 9.19,\n  'pathologic_size': 7.6,\n  'malignant': True,\n  'pathology_t_stage': '2a',\n  'pathology_n_stage': 'X',\n  'pathology_m_stage': '0',\n  'tumor_histologic_subtype': 'papillary',\n  'tumor_necrosis': True,\n  'tumor_isup_grade': 1,\n  'clavien_surgical_complications': '0',\n  'er_visit': False,\n  'readmission': False,\n  'estimated_blood_loss': 100,\n  'surgery_type': 'laparoscopic',\n  'surgical_procedure': 'radical_nephrectomy',\n  'surgical_approach': 'Transperitoneal',\n  'operative_time': 163,\n  'cytoreductive': False,\n  'positive_resection_margins': False,\n  'last_preop_egfr': {'value': 72.0, 'days_before_nephrectomy': 12},\n  'first_postop_egfr': {'value': None, 'days_before_nephrectomy': None},\n  'last_postop_egfr': {'value': None, 'days_before_nephrectomy': None},\n  'vital_status': 'censored',\n  'vital_days_after_surgery': 16,\n  'voxel_spacing': {'x_spacing': 0.83984375,\n   'y_spacing': 0.83984375,\n   'z_spacing': 5.0}},\n {'case_id': 'case_00029',\n  'age_at_nephrectomy': 68,\n  'gender': 'female',\n  'body_mass_index': 23.4,\n  'comorbidities': {'myocardial_infarction': False,\n   'congestive_heart_failure': False,\n   'peripheral_vascular_disease': False,\n   'cerebrovascular_disease': True,\n   'dementia': False,\n   'copd': False,\n   'connective_tissue_disease': False,\n   'peptic_ulcer_disease': False,\n   'uncomplicated_diabetes_mellitus': True,\n   'diabetes_mellitus_with_end_organ_damage': False,\n   'chronic_kidney_disease': False,\n   'hemiplegia_from_stroke': False,\n   'leukemia': False,\n   'malignant_lymphoma': False,\n   'localized_solid_tumor': False,\n   'metastatic_solid_tumor': False,\n   'mild_liver_disease': False,\n   'moderate_to_severe_liver_disease': False,\n   'aids': False},\n  'smoking_history': 'current_smoker',\n  'age_when_quit_smoking': 'not_applicable',\n  'pack_years': None,\n  'chewing_tobacco_use': 'never_or_not_in_last_3mo',\n  'alcohol_use': 'two_or_less_daily',\n  'intraoperative_complications': {'blood_transfusion': False,\n   'injury_to_surrounding_organ': False,\n   'cardiac_event': False},\n  'hospitalization': 2,\n  'ischemia_time': 'not_applicable',\n  'radiographic_size': 5.4,\n  'pathologic_size': 5.6,\n  'malignant': True,\n  'pathology_t_stage': '1b',\n  'pathology_n_stage': 'X',\n  'pathology_m_stage': 'X',\n  'tumor_histologic_subtype': 'clear_cell_rcc',\n  'tumor_necrosis': False,\n  'tumor_isup_grade': 3,\n  'clavien_surgical_complications': '0',\n  'er_visit': True,\n  'readmission': False,\n  'estimated_blood_loss': 5,\n  'surgery_type': 'laparoscopic',\n  'surgical_procedure': 'radical_nephrectomy',\n  'surgical_approach': 'Transperitoneal',\n  'operative_time': 105,\n  'cytoreductive': False,\n  'positive_resection_margins': False,\n  'last_preop_egfr': {'value': 82.0, 'days_before_nephrectomy': 36},\n  'first_postop_egfr': {'value': 50.0, 'days_before_nephrectomy': 85},\n  'last_postop_egfr': {'value': 53.0, 'days_before_nephrectomy': 811},\n  'vital_status': 'censored',\n  'vital_days_after_surgery': 833,\n  'voxel_spacing': {'x_spacing': 0.75390625,\n   'y_spacing': 0.75390625,\n   'z_spacing': 5.0}},\n {'case_id': 'case_00030',\n  'age_at_nephrectomy': 64,\n  'gender': 'female',\n  'body_mass_index': 28.86,\n  'comorbidities': {'myocardial_infarction': False,\n   'congestive_heart_failure': False,\n   'peripheral_vascular_disease': False,\n   'cerebrovascular_disease': False,\n   'dementia': False,\n   'copd': False,\n   'connective_tissue_disease': False,\n   'peptic_ulcer_disease': False,\n   'uncomplicated_diabetes_mellitus': False,\n   'diabetes_mellitus_with_end_organ_damage': False,\n   'chronic_kidney_disease': False,\n   'hemiplegia_from_stroke': False,\n   'leukemia': False,\n   'malignant_lymphoma': False,\n   'localized_solid_tumor': False,\n   'metastatic_solid_tumor': False,\n   'mild_liver_disease': False,\n   'moderate_to_severe_liver_disease': False,\n   'aids': False},\n  'smoking_history': 'previous_smoker',\n  'age_when_quit_smoking': '34',\n  'pack_years': None,\n  'chewing_tobacco_use': 'never_or_not_in_last_3mo',\n  'alcohol_use': 'two_or_less_daily',\n  'intraoperative_complications': {'blood_transfusion': True,\n   'injury_to_surrounding_organ': False,\n   'cardiac_event': False},\n  'hospitalization': 6,\n  'ischemia_time': 'not_applicable',\n  'radiographic_size': 15.0,\n  'pathologic_size': 15.0,\n  'malignant': True,\n  'pathology_t_stage': '3',\n  'pathology_n_stage': 'X',\n  'pathology_m_stage': '1',\n  'tumor_histologic_subtype': 'clear_cell_rcc',\n  'tumor_necrosis': False,\n  'tumor_isup_grade': 3,\n  'clavien_surgical_complications': '3b',\n  'er_visit': False,\n  'readmission': False,\n  'estimated_blood_loss': 1000,\n  'surgery_type': 'open',\n  'surgical_procedure': 'radical_nephrectomy',\n  'surgical_approach': 'Transperitoneal',\n  'operative_time': 592,\n  'cytoreductive': True,\n  'positive_resection_margins': False,\n  'last_preop_egfr': {'value': 38.0, 'days_before_nephrectomy': 8},\n  'first_postop_egfr': {'value': 48.0, 'days_before_nephrectomy': 76},\n  'last_postop_egfr': {'value': 38.0, 'days_before_nephrectomy': 2287},\n  'vital_status': 'censored',\n  'vital_days_after_surgery': 2287,\n  'voxel_spacing': {'x_spacing': 0.73046875,\n   'y_spacing': 0.73046875,\n   'z_spacing': 5.0}},\n {'case_id': 'case_00031',\n  'age_at_nephrectomy': 12,\n  'gender': 'female',\n  'body_mass_index': 21.87,\n  'comorbidities': {'myocardial_infarction': False,\n   'congestive_heart_failure': False,\n   'peripheral_vascular_disease': False,\n   'cerebrovascular_disease': False,\n   'dementia': False,\n   'copd': False,\n   'connective_tissue_disease': False,\n   'peptic_ulcer_disease': False,\n   'uncomplicated_diabetes_mellitus': False,\n   'diabetes_mellitus_with_end_organ_damage': False,\n   'chronic_kidney_disease': False,\n   'hemiplegia_from_stroke': False,\n   'leukemia': False,\n   'malignant_lymphoma': False,\n   'localized_solid_tumor': False,\n   'metastatic_solid_tumor': False,\n   'mild_liver_disease': False,\n   'moderate_to_severe_liver_disease': False,\n   'aids': False},\n  'smoking_history': 'never_smoked',\n  'age_when_quit_smoking': 'not_applicable',\n  'pack_years': 0,\n  'chewing_tobacco_use': 'never_or_not_in_last_3mo',\n  'alcohol_use': 'never_or_not_in_last_3mo',\n  'intraoperative_complications': {'blood_transfusion': False,\n   'injury_to_surrounding_organ': False,\n   'cardiac_event': False},\n  'hospitalization': 5,\n  'ischemia_time': 'not_applicable',\n  'radiographic_size': 3.5,\n  'pathologic_size': 3.5,\n  'malignant': False,\n  'pathology_t_stage': '0',\n  'pathology_n_stage': '0',\n  'pathology_m_stage': '0',\n  'tumor_histologic_subtype': 'spindle_cell_neoplasm',\n  'tumor_necrosis': None,\n  'tumor_isup_grade': None,\n  'clavien_surgical_complications': '0',\n  'er_visit': False,\n  'readmission': False,\n  'estimated_blood_loss': 50,\n  'surgery_type': 'open',\n  'surgical_procedure': 'radical_nephrectomy',\n  'surgical_approach': 'Transperitoneal',\n  'operative_time': 275,\n  'cytoreductive': False,\n  'positive_resection_margins': False,\n  'last_preop_egfr': {'value': None, 'days_before_nephrectomy': None},\n  'first_postop_egfr': {'value': None, 'days_before_nephrectomy': None},\n  'last_postop_egfr': {'value': None, 'days_before_nephrectomy': None},\n  'vital_status': 'censored',\n  'vital_days_after_surgery': 2328,\n  'voxel_spacing': {'x_spacing': 0.5180000066757202,\n   'y_spacing': 0.5180000066757202,\n   'z_spacing': 3.0}},\n {'case_id': 'case_00032',\n  'age_at_nephrectomy': 35,\n  'gender': 'female',\n  'body_mass_index': 32.61,\n  'comorbidities': {'myocardial_infarction': False,\n   'congestive_heart_failure': False,\n   'peripheral_vascular_disease': False,\n   'cerebrovascular_disease': False,\n   'dementia': False,\n   'copd': False,\n   'connective_tissue_disease': False,\n   'peptic_ulcer_disease': False,\n   'uncomplicated_diabetes_mellitus': False,\n   'diabetes_mellitus_with_end_organ_damage': False,\n   'chronic_kidney_disease': False,\n   'hemiplegia_from_stroke': False,\n   'leukemia': False,\n   'malignant_lymphoma': False,\n   'localized_solid_tumor': False,\n   'metastatic_solid_tumor': False,\n   'mild_liver_disease': False,\n   'moderate_to_severe_liver_disease': False,\n   'aids': False},\n  'smoking_history': 'never_smoked',\n  'age_when_quit_smoking': 'not_applicable',\n  'pack_years': 0,\n  'chewing_tobacco_use': 'never_or_not_in_last_3mo',\n  'alcohol_use': 'two_or_less_daily',\n  'intraoperative_complications': {'blood_transfusion': False,\n   'injury_to_surrounding_organ': False,\n   'cardiac_event': False},\n  'hospitalization': 3,\n  'ischemia_time': 26,\n  'radiographic_size': 2.6,\n  'pathologic_size': 2.3,\n  'malignant': True,\n  'pathology_t_stage': '1a',\n  'pathology_n_stage': 'X',\n  'pathology_m_stage': 'X',\n  'tumor_histologic_subtype': 'clear_cell_rcc',\n  'tumor_necrosis': False,\n  'tumor_isup_grade': 2,\n  'clavien_surgical_complications': '0',\n  'er_visit': False,\n  'readmission': False,\n  'estimated_blood_loss': 100,\n  'surgery_type': 'robotic',\n  'surgical_procedure': 'partial_nephrectomy',\n  'surgical_approach': 'Transperitoneal',\n  'operative_time': 192,\n  'cytoreductive': False,\n  'positive_resection_margins': False,\n  'last_preop_egfr': {'value': 69.0, 'days_before_nephrectomy': 26},\n  'first_postop_egfr': {'value': 48.0, 'days_before_nephrectomy': 198},\n  'last_postop_egfr': {'value': 48.0, 'days_before_nephrectomy': 198},\n  'vital_status': 'censored',\n  'vital_days_after_surgery': 958,\n  'voxel_spacing': {'x_spacing': 0.7792969942092896,\n   'y_spacing': 0.7792969942092896,\n   'z_spacing': 2.5}},\n {'case_id': 'case_00033',\n  'age_at_nephrectomy': 69,\n  'gender': 'female',\n  'body_mass_index': 29.53,\n  'comorbidities': {'myocardial_infarction': False,\n   'congestive_heart_failure': False,\n   'peripheral_vascular_disease': False,\n   'cerebrovascular_disease': False,\n   'dementia': False,\n   'copd': False,\n   'connective_tissue_disease': False,\n   'peptic_ulcer_disease': False,\n   'uncomplicated_diabetes_mellitus': False,\n   'diabetes_mellitus_with_end_organ_damage': False,\n   'chronic_kidney_disease': False,\n   'hemiplegia_from_stroke': False,\n   'leukemia': False,\n   'malignant_lymphoma': False,\n   'localized_solid_tumor': True,\n   'metastatic_solid_tumor': False,\n   'mild_liver_disease': False,\n   'moderate_to_severe_liver_disease': False,\n   'aids': False},\n  'smoking_history': 'never_smoked',\n  'age_when_quit_smoking': 'not_applicable',\n  'pack_years': 0,\n  'chewing_tobacco_use': 'never_or_not_in_last_3mo',\n  'alcohol_use': 'never_or_not_in_last_3mo',\n  'intraoperative_complications': {'blood_transfusion': False,\n   'injury_to_surrounding_organ': False,\n   'cardiac_event': False},\n  'hospitalization': 2,\n  'ischemia_time': 15,\n  'radiographic_size': 2.4,\n  'pathologic_size': 1.5,\n  'malignant': True,\n  'pathology_t_stage': '1a',\n  'pathology_n_stage': '0',\n  'pathology_m_stage': '0',\n  'tumor_histologic_subtype': 'clear_cell_rcc',\n  'tumor_necrosis': False,\n  'tumor_isup_grade': 2,\n  'clavien_surgical_complications': '0',\n  'er_visit': False,\n  'readmission': False,\n  'estimated_blood_loss': 50,\n  'surgery_type': 'robotic',\n  'surgical_procedure': 'partial_nephrectomy',\n  'surgical_approach': 'Transperitoneal',\n  'operative_time': 155,\n  'cytoreductive': False,\n  'positive_resection_margins': False,\n  'last_preop_egfr': {'value': '>=90', 'days_before_nephrectomy': 15},\n  'first_postop_egfr': {'value': 89.0, 'days_before_nephrectomy': 699},\n  'last_postop_egfr': {'value': 89.0, 'days_before_nephrectomy': 699},\n  'vital_status': 'censored',\n  'vital_days_after_surgery': 720,\n  'voxel_spacing': {'x_spacing': 0.80859375,\n   'y_spacing': 0.80859375,\n   'z_spacing': 1.0}},\n {'case_id': 'case_00034',\n  'age_at_nephrectomy': 49,\n  'gender': 'male',\n  'body_mass_index': 39.68,\n  'comorbidities': {'myocardial_infarction': False,\n   'congestive_heart_failure': False,\n   'peripheral_vascular_disease': False,\n   'cerebrovascular_disease': False,\n   'dementia': False,\n   'copd': False,\n   'connective_tissue_disease': False,\n   'peptic_ulcer_disease': False,\n   'uncomplicated_diabetes_mellitus': False,\n   'diabetes_mellitus_with_end_organ_damage': False,\n   'chronic_kidney_disease': False,\n   'hemiplegia_from_stroke': False,\n   'leukemia': False,\n   'malignant_lymphoma': False,\n   'localized_solid_tumor': False,\n   'metastatic_solid_tumor': False,\n   'mild_liver_disease': False,\n   'moderate_to_severe_liver_disease': False,\n   'aids': False},\n  'smoking_history': 'previous_smoker',\n  'age_when_quit_smoking': '49',\n  'pack_years': '35',\n  'chewing_tobacco_use': 'never_or_not_in_last_3mo',\n  'alcohol_use': 'two_or_less_daily',\n  'intraoperative_complications': {'blood_transfusion': False,\n   'injury_to_surrounding_organ': False,\n   'cardiac_event': False},\n  'hospitalization': 2,\n  'ischemia_time': 22,\n  'radiographic_size': 4.8,\n  'pathologic_size': 4.2,\n  'malignant': True,\n  'pathology_t_stage': '1b',\n  'pathology_n_stage': 'X',\n  'pathology_m_stage': '0',\n  'tumor_histologic_subtype': 'clear_cell_rcc',\n  'tumor_necrosis': False,\n  'tumor_isup_grade': 1,\n  'clavien_surgical_complications': '0',\n  'er_visit': False,\n  'readmission': False,\n  'estimated_blood_loss': 1000,\n  'surgery_type': 'open',\n  'surgical_procedure': 'partial_nephrectomy',\n  'surgical_approach': 'Retroperitoneal',\n  'operative_time': 404,\n  'cytoreductive': False,\n  'positive_resection_margins': False,\n  'last_preop_egfr': {'value': '>=90', 'days_before_nephrectomy': 12},\n  'first_postop_egfr': {'value': '>=90', 'days_before_nephrectomy': 2473},\n  'last_postop_egfr': {'value': '>=90', 'days_before_nephrectomy': 2473},\n  'vital_status': 'censored',\n  'vital_days_after_surgery': 2473,\n  'voxel_spacing': {'x_spacing': 0.8359375,\n   'y_spacing': 0.8359375,\n   'z_spacing': 5.0}},\n {'case_id': 'case_00035',\n  'age_at_nephrectomy': 71,\n  'gender': 'male',\n  'body_mass_index': 31.39,\n  'comorbidities': {'myocardial_infarction': True,\n   'congestive_heart_failure': True,\n   'peripheral_vascular_disease': False,\n   'cerebrovascular_disease': False,\n   'dementia': False,\n   'copd': False,\n   'connective_tissue_disease': False,\n   'peptic_ulcer_disease': False,\n   'uncomplicated_diabetes_mellitus': True,\n   'diabetes_mellitus_with_end_organ_damage': False,\n   'chronic_kidney_disease': False,\n   'hemiplegia_from_stroke': False,\n   'leukemia': False,\n   'malignant_lymphoma': False,\n   'localized_solid_tumor': False,\n   'metastatic_solid_tumor': False,\n   'mild_liver_disease': False,\n   'moderate_to_severe_liver_disease': False,\n   'aids': False},\n  'smoking_history': 'previous_smoker',\n  'age_when_quit_smoking': '60',\n  'pack_years': None,\n  'chewing_tobacco_use': 'never_or_not_in_last_3mo',\n  'alcohol_use': 'two_or_less_daily',\n  'intraoperative_complications': {'blood_transfusion': False,\n   'injury_to_surrounding_organ': False,\n   'cardiac_event': False},\n  'hospitalization': 1,\n  'ischemia_time': 27,\n  'radiographic_size': 3.4,\n  'pathologic_size': 2.9,\n  'malignant': True,\n  'pathology_t_stage': '1a',\n  'pathology_n_stage': '0',\n  'pathology_m_stage': '0',\n  'tumor_histologic_subtype': 'clear_cell_rcc',\n  'tumor_necrosis': False,\n  'tumor_isup_grade': 3,\n  'clavien_surgical_complications': '1',\n  'er_visit': True,\n  'readmission': False,\n  'estimated_blood_loss': 400,\n  'surgery_type': 'robotic',\n  'surgical_procedure': 'partial_nephrectomy',\n  'surgical_approach': 'Transperitoneal',\n  'operative_time': 240,\n  'cytoreductive': False,\n  'positive_resection_margins': False,\n  'last_preop_egfr': {'value': 87.0, 'days_before_nephrectomy': 60},\n  'first_postop_egfr': {'value': 84.0, 'days_before_nephrectomy': 128},\n  'last_postop_egfr': {'value': 51.0, 'days_before_nephrectomy': 1519},\n  'vital_status': 'censored',\n  'vital_days_after_surgery': 1519,\n  'voxel_spacing': {'x_spacing': 0.96484375,\n   'y_spacing': 0.96484375,\n   'z_spacing': 5.0}},\n {'case_id': 'case_00036',\n  'age_at_nephrectomy': 51,\n  'gender': 'male',\n  'body_mass_index': 29.05,\n  'comorbidities': {'myocardial_infarction': False,\n   'congestive_heart_failure': False,\n   'peripheral_vascular_disease': False,\n   'cerebrovascular_disease': False,\n   'dementia': False,\n   'copd': False,\n   'connective_tissue_disease': False,\n   'peptic_ulcer_disease': False,\n   'uncomplicated_diabetes_mellitus': False,\n   'diabetes_mellitus_with_end_organ_damage': False,\n   'chronic_kidney_disease': False,\n   'hemiplegia_from_stroke': False,\n   'leukemia': False,\n   'malignant_lymphoma': False,\n   'localized_solid_tumor': False,\n   'metastatic_solid_tumor': False,\n   'mild_liver_disease': False,\n   'moderate_to_severe_liver_disease': False,\n   'aids': False},\n  'smoking_history': 'current_smoker',\n  'age_when_quit_smoking': 'not_applicable',\n  'pack_years': None,\n  'chewing_tobacco_use': 'quit_in_last_3mo',\n  'alcohol_use': 'two_or_less_daily',\n  'intraoperative_complications': {'blood_transfusion': False,\n   'injury_to_surrounding_organ': False,\n   'cardiac_event': False},\n  'hospitalization': 1,\n  'ischemia_time': 'not_applicable',\n  'radiographic_size': 5.9,\n  'pathologic_size': 4.6,\n  'malignant': True,\n  'pathology_t_stage': '3',\n  'pathology_n_stage': 'X',\n  'pathology_m_stage': 'X',\n  'tumor_histologic_subtype': 'clear_cell_rcc',\n  'tumor_necrosis': False,\n  'tumor_isup_grade': 3,\n  'clavien_surgical_complications': '0',\n  'er_visit': False,\n  'readmission': False,\n  'estimated_blood_loss': 1200,\n  'surgery_type': 'robotic',\n  'surgical_procedure': 'radical_nephrectomy',\n  'surgical_approach': 'Transperitoneal',\n  'operative_time': 208,\n  'cytoreductive': False,\n  'positive_resection_margins': False,\n  'last_preop_egfr': {'value': 87.0, 'days_before_nephrectomy': 25},\n  'first_postop_egfr': {'value': 58.0, 'days_before_nephrectomy': 93},\n  'last_postop_egfr': {'value': 77.0, 'days_before_nephrectomy': 737},\n  'vital_status': 'censored',\n  'vital_days_after_surgery': 737,\n  'voxel_spacing': {'x_spacing': 0.798828125,\n   'y_spacing': 0.798828125,\n   'z_spacing': 3.0}},\n {'case_id': 'case_00037',\n  'age_at_nephrectomy': 69,\n  'gender': 'male',\n  'body_mass_index': 31.7,\n  'comorbidities': {'myocardial_infarction': True,\n   'congestive_heart_failure': False,\n   'peripheral_vascular_disease': False,\n   'cerebrovascular_disease': True,\n   'dementia': False,\n   'copd': True,\n   'connective_tissue_disease': False,\n   'peptic_ulcer_disease': False,\n   'uncomplicated_diabetes_mellitus': False,\n   'diabetes_mellitus_with_end_organ_damage': False,\n   'chronic_kidney_disease': True,\n   'hemiplegia_from_stroke': False,\n   'leukemia': False,\n   'malignant_lymphoma': False,\n   'localized_solid_tumor': False,\n   'metastatic_solid_tumor': False,\n   'mild_liver_disease': False,\n   'moderate_to_severe_liver_disease': False,\n   'aids': False},\n  'smoking_history': 'previous_smoker',\n  'age_when_quit_smoking': None,\n  'pack_years': None,\n  'chewing_tobacco_use': 'never_or_not_in_last_3mo',\n  'alcohol_use': 'never_or_not_in_last_3mo',\n  'intraoperative_complications': {'blood_transfusion': False,\n   'injury_to_surrounding_organ': False,\n   'cardiac_event': False},\n  'hospitalization': 6,\n  'ischemia_time': 'not_applicable',\n  'radiographic_size': 10.1,\n  'pathologic_size': 10.0,\n  'malignant': True,\n  'pathology_t_stage': '2a',\n  'pathology_n_stage': 'X',\n  'pathology_m_stage': '0',\n  'tumor_histologic_subtype': 'clear_cell_rcc',\n  'tumor_necrosis': True,\n  'tumor_isup_grade': 2,\n  'clavien_surgical_complications': '3b',\n  'er_visit': False,\n  'readmission': False,\n  'estimated_blood_loss': 100,\n  'surgery_type': 'laparoscopic',\n  'surgical_procedure': 'radical_nephrectomy',\n  'surgical_approach': 'Transperitoneal',\n  'operative_time': 243,\n  'cytoreductive': False,\n  'positive_resection_margins': False,\n  'last_preop_egfr': {'value': None, 'days_before_nephrectomy': None},\n  'first_postop_egfr': {'value': 41.0, 'days_before_nephrectomy': 567},\n  'last_postop_egfr': {'value': 41.0, 'days_before_nephrectomy': 567},\n  'vital_status': 'dead',\n  'vital_days_after_surgery': 645,\n  'voxel_spacing': {'x_spacing': 0.9375,\n   'y_spacing': 0.9375,\n   'z_spacing': 5.0}},\n {'case_id': 'case_00038',\n  'age_at_nephrectomy': 51,\n  'gender': 'male',\n  'body_mass_index': 23.69,\n  'comorbidities': {'myocardial_infarction': False,\n   'congestive_heart_failure': False,\n   'peripheral_vascular_disease': False,\n   'cerebrovascular_disease': False,\n   'dementia': False,\n   'copd': False,\n   'connective_tissue_disease': False,\n   'peptic_ulcer_disease': False,\n   'uncomplicated_diabetes_mellitus': False,\n   'diabetes_mellitus_with_end_organ_damage': False,\n   'chronic_kidney_disease': False,\n   'hemiplegia_from_stroke': False,\n   'leukemia': False,\n   'malignant_lymphoma': False,\n   'localized_solid_tumor': False,\n   'metastatic_solid_tumor': False,\n   'mild_liver_disease': False,\n   'moderate_to_severe_liver_disease': False,\n   'aids': False},\n  'smoking_history': 'previous_smoker',\n  'age_when_quit_smoking': '51',\n  'pack_years': '20',\n  'chewing_tobacco_use': 'never_or_not_in_last_3mo',\n  'alcohol_use': 'never_or_not_in_last_3mo',\n  'intraoperative_complications': {'blood_transfusion': False,\n   'injury_to_surrounding_organ': False,\n   'cardiac_event': False},\n  'hospitalization': 8,\n  'ischemia_time': 'not_applicable',\n  'radiographic_size': 5.5,\n  'pathologic_size': 4.5,\n  'malignant': True,\n  'pathology_t_stage': '1b',\n  'pathology_n_stage': '0',\n  'pathology_m_stage': '0',\n  'tumor_histologic_subtype': 'clear_cell_rcc',\n  'tumor_necrosis': False,\n  'tumor_isup_grade': 2,\n  'clavien_surgical_complications': '0',\n  'er_visit': False,\n  'readmission': False,\n  'estimated_blood_loss': 50,\n  'surgery_type': 'laparoscopic',\n  'surgical_procedure': 'radical_nephrectomy',\n  'surgical_approach': 'Transperitoneal',\n  'operative_time': 309,\n  'cytoreductive': False,\n  'positive_resection_margins': False,\n  'last_preop_egfr': {'value': None, 'days_before_nephrectomy': None},\n  'first_postop_egfr': {'value': 68.0, 'days_before_nephrectomy': 155},\n  'last_postop_egfr': {'value': '>=90', 'days_before_nephrectomy': 1318},\n  'vital_status': 'censored',\n  'vital_days_after_surgery': 1655,\n  'voxel_spacing': {'x_spacing': 0.779296875,\n   'y_spacing': 0.779296875,\n   'z_spacing': 5.0}},\n {'case_id': 'case_00039',\n  'age_at_nephrectomy': 38,\n  'gender': 'female',\n  'body_mass_index': 23.26,\n  'comorbidities': {'myocardial_infarction': False,\n   'congestive_heart_failure': False,\n   'peripheral_vascular_disease': False,\n   'cerebrovascular_disease': False,\n   'dementia': False,\n   'copd': False,\n   'connective_tissue_disease': False,\n   'peptic_ulcer_disease': False,\n   'uncomplicated_diabetes_mellitus': False,\n   'diabetes_mellitus_with_end_organ_damage': False,\n   'chronic_kidney_disease': False,\n   'hemiplegia_from_stroke': False,\n   'leukemia': False,\n   'malignant_lymphoma': False,\n   'localized_solid_tumor': False,\n   'metastatic_solid_tumor': False,\n   'mild_liver_disease': False,\n   'moderate_to_severe_liver_disease': False,\n   'aids': False},\n  'smoking_history': 'current_smoker',\n  'age_when_quit_smoking': 'not_applicable',\n  'pack_years': None,\n  'chewing_tobacco_use': 'never_or_not_in_last_3mo',\n  'alcohol_use': 'two_or_less_daily',\n  'intraoperative_complications': {'blood_transfusion': False,\n   'injury_to_surrounding_organ': False,\n   'cardiac_event': False},\n  'hospitalization': 2,\n  'ischemia_time': 0,\n  'radiographic_size': 1.6,\n  'pathologic_size': 2.3,\n  'malignant': True,\n  'pathology_t_stage': '1a',\n  'pathology_n_stage': '0',\n  'pathology_m_stage': '0',\n  'tumor_histologic_subtype': 'papillary',\n  'tumor_necrosis': False,\n  'tumor_isup_grade': 2,\n  'clavien_surgical_complications': '0',\n  'er_visit': False,\n  'readmission': False,\n  'estimated_blood_loss': 25,\n  'surgery_type': 'laparoscopic',\n  'surgical_procedure': 'partial_nephrectomy',\n  'surgical_approach': 'Transperitoneal',\n  'operative_time': 162,\n  'cytoreductive': False,\n  'positive_resection_margins': False,\n  'last_preop_egfr': {'value': 75.0, 'days_before_nephrectomy': 3},\n  'first_postop_egfr': {'value': 75.0, 'days_before_nephrectomy': 502},\n  'last_postop_egfr': {'value': 75.0, 'days_before_nephrectomy': 502},\n  'vital_status': 'censored',\n  'vital_days_after_surgery': 721,\n  'voxel_spacing': {'x_spacing': 0.703125,\n   'y_spacing': 0.703125,\n   'z_spacing': 5.0}},\n {'case_id': 'case_00040',\n  'age_at_nephrectomy': 50,\n  'gender': 'female',\n  'body_mass_index': 24.3,\n  'comorbidities': {'myocardial_infarction': False,\n   'congestive_heart_failure': False,\n   'peripheral_vascular_disease': False,\n   'cerebrovascular_disease': False,\n   'dementia': False,\n   'copd': False,\n   'connective_tissue_disease': False,\n   'peptic_ulcer_disease': False,\n   'uncomplicated_diabetes_mellitus': False,\n   'diabetes_mellitus_with_end_organ_damage': False,\n   'chronic_kidney_disease': False,\n   'hemiplegia_from_stroke': False,\n   'leukemia': False,\n   'malignant_lymphoma': False,\n   'localized_solid_tumor': False,\n   'metastatic_solid_tumor': False,\n   'mild_liver_disease': False,\n   'moderate_to_severe_liver_disease': False,\n   'aids': False},\n  'smoking_history': 'never_smoked',\n  'age_when_quit_smoking': 'not_applicable',\n  'pack_years': 0,\n  'chewing_tobacco_use': 'never_or_not_in_last_3mo',\n  'alcohol_use': 'never_or_not_in_last_3mo',\n  'intraoperative_complications': {'blood_transfusion': False,\n   'injury_to_surrounding_organ': False,\n   'cardiac_event': False},\n  'hospitalization': 8,\n  'ischemia_time': 0,\n  'radiographic_size': 2.3,\n  'pathologic_size': 2.5,\n  'malignant': True,\n  'pathology_t_stage': '1a',\n  'pathology_n_stage': 'X',\n  'pathology_m_stage': 'X',\n  'tumor_histologic_subtype': 'chromophobe',\n  'tumor_necrosis': False,\n  'tumor_isup_grade': None,\n  'clavien_surgical_complications': '2',\n  'er_visit': True,\n  'readmission': False,\n  'estimated_blood_loss': 300,\n  'surgery_type': 'open',\n  'surgical_procedure': 'partial_nephrectomy',\n  'surgical_approach': 'Retroperitoneal',\n  'operative_time': 171,\n  'cytoreductive': False,\n  'positive_resection_margins': False,\n  'last_preop_egfr': {'value': None, 'days_before_nephrectomy': None},\n  'first_postop_egfr': {'value': '>=90', 'days_before_nephrectomy': 276},\n  'last_postop_egfr': {'value': '>=90', 'days_before_nephrectomy': 276},\n  'vital_status': 'censored',\n  'vital_days_after_surgery': 731,\n  'voxel_spacing': {'x_spacing': 0.7409999966621399,\n   'y_spacing': 0.7409999966621399,\n   'z_spacing': 2.0}},\n {'case_id': 'case_00041',\n  'age_at_nephrectomy': 46,\n  'gender': 'female',\n  'body_mass_index': 26.14,\n  'comorbidities': {'myocardial_infarction': False,\n   'congestive_heart_failure': False,\n   'peripheral_vascular_disease': False,\n   'cerebrovascular_disease': False,\n   'dementia': False,\n   'copd': False,\n   'connective_tissue_disease': False,\n   'peptic_ulcer_disease': False,\n   'uncomplicated_diabetes_mellitus': False,\n   'diabetes_mellitus_with_end_organ_damage': False,\n   'chronic_kidney_disease': False,\n   'hemiplegia_from_stroke': False,\n   'leukemia': False,\n   'malignant_lymphoma': False,\n   'localized_solid_tumor': False,\n   'metastatic_solid_tumor': False,\n   'mild_liver_disease': False,\n   'moderate_to_severe_liver_disease': False,\n   'aids': False},\n  'smoking_history': 'never_smoked',\n  'age_when_quit_smoking': 'not_applicable',\n  'pack_years': 0,\n  'chewing_tobacco_use': 'never_or_not_in_last_3mo',\n  'alcohol_use': 'never_or_not_in_last_3mo',\n  'intraoperative_complications': {'blood_transfusion': False,\n   'injury_to_surrounding_organ': True,\n   'cardiac_event': False},\n  'hospitalization': 6,\n  'ischemia_time': 28,\n  'radiographic_size': 2.5,\n  'pathologic_size': 2.9,\n  'malignant': True,\n  'pathology_t_stage': '1a',\n  'pathology_n_stage': 'X',\n  'pathology_m_stage': 'X',\n  'tumor_histologic_subtype': 'clear_cell_rcc',\n  'tumor_necrosis': False,\n  'tumor_isup_grade': 2,\n  'clavien_surgical_complications': '2',\n  'er_visit': False,\n  'readmission': True,\n  'estimated_blood_loss': 1800,\n  'surgery_type': 'robotic',\n  'surgical_procedure': 'partial_nephrectomy',\n  'surgical_approach': 'Transperitoneal',\n  'operative_time': 178,\n  'cytoreductive': False,\n  'positive_resection_margins': False,\n  'last_preop_egfr': {'value': 89.0, 'days_before_nephrectomy': 4},\n  'first_postop_egfr': {'value': 60.0, 'days_before_nephrectomy': 150},\n  'last_postop_egfr': {'value': 60.0, 'days_before_nephrectomy': 150},\n  'vital_status': 'censored',\n  'vital_days_after_surgery': 1541,\n  'voxel_spacing': {'x_spacing': 0.677734375,\n   'y_spacing': 0.677734375,\n   'z_spacing': 3.0}},\n {'case_id': 'case_00042',\n  'age_at_nephrectomy': 38,\n  'gender': 'female',\n  'body_mass_index': 44.78,\n  'comorbidities': {'myocardial_infarction': False,\n   'congestive_heart_failure': False,\n   'peripheral_vascular_disease': False,\n   'cerebrovascular_disease': False,\n   'dementia': False,\n   'copd': False,\n   'connective_tissue_disease': False,\n   'peptic_ulcer_disease': False,\n   'uncomplicated_diabetes_mellitus': False,\n   'diabetes_mellitus_with_end_organ_damage': False,\n   'chronic_kidney_disease': False,\n   'hemiplegia_from_stroke': False,\n   'leukemia': False,\n   'malignant_lymphoma': False,\n   'localized_solid_tumor': False,\n   'metastatic_solid_tumor': False,\n   'mild_liver_disease': False,\n   'moderate_to_severe_liver_disease': False,\n   'aids': False},\n  'smoking_history': 'current_smoker',\n  'age_when_quit_smoking': 'not_applicable',\n  'pack_years': None,\n  'chewing_tobacco_use': 'never_or_not_in_last_3mo',\n  'alcohol_use': 'never_or_not_in_last_3mo',\n  'intraoperative_complications': {'blood_transfusion': False,\n   'injury_to_surrounding_organ': False,\n   'cardiac_event': False},\n  'hospitalization': 2,\n  'ischemia_time': 'not_applicable',\n  'radiographic_size': 14.1,\n  'pathologic_size': 15.0,\n  'malignant': False,\n  'pathology_t_stage': '0',\n  'pathology_n_stage': '0',\n  'pathology_m_stage': '0',\n  'tumor_histologic_subtype': 'mest',\n  'tumor_necrosis': None,\n  'tumor_isup_grade': None,\n  'clavien_surgical_complications': '1',\n  'er_visit': True,\n  'readmission': False,\n  'estimated_blood_loss': 300,\n  'surgery_type': 'open',\n  'surgical_procedure': 'radical_nephrectomy',\n  'surgical_approach': 'Retroperitoneal',\n  'operative_time': 44,\n  'cytoreductive': False,\n  'positive_resection_margins': False,\n  'last_preop_egfr': {'value': 76.0, 'days_before_nephrectomy': 19},\n  'first_postop_egfr': {'value': 56.0, 'days_before_nephrectomy': 177},\n  'last_postop_egfr': {'value': 56.0, 'days_before_nephrectomy': 177},\n  'vital_status': 'censored',\n  'vital_days_after_surgery': 177,\n  'voxel_spacing': {'x_spacing': 0.859375,\n   'y_spacing': 0.859375,\n   'z_spacing': 1.0}},\n {'case_id': 'case_00043',\n  'age_at_nephrectomy': 62,\n  'gender': 'male',\n  'body_mass_index': 24.39,\n  'comorbidities': {'myocardial_infarction': False,\n   'congestive_heart_failure': False,\n   'peripheral_vascular_disease': False,\n   'cerebrovascular_disease': False,\n   'dementia': False,\n   'copd': False,\n   'connective_tissue_disease': False,\n   'peptic_ulcer_disease': False,\n   'uncomplicated_diabetes_mellitus': False,\n   'diabetes_mellitus_with_end_organ_damage': False,\n   'chronic_kidney_disease': False,\n   'hemiplegia_from_stroke': False,\n   'leukemia': False,\n   'malignant_lymphoma': False,\n   'localized_solid_tumor': False,\n   'metastatic_solid_tumor': False,\n   'mild_liver_disease': False,\n   'moderate_to_severe_liver_disease': False,\n   'aids': False},\n  'smoking_history': 'never_smoked',\n  'age_when_quit_smoking': 'not_applicable',\n  'pack_years': 0,\n  'chewing_tobacco_use': 'never_or_not_in_last_3mo',\n  'alcohol_use': 'never_or_not_in_last_3mo',\n  'intraoperative_complications': {'blood_transfusion': False,\n   'injury_to_surrounding_organ': True,\n   'cardiac_event': False},\n  'hospitalization': 2,\n  'ischemia_time': 16,\n  'radiographic_size': 3.0,\n  'pathologic_size': 3.5,\n  'malignant': False,\n  'pathology_t_stage': '0',\n  'pathology_n_stage': 'X',\n  'pathology_m_stage': 'X',\n  'tumor_histologic_subtype': 'angiomyolipoma',\n  'tumor_necrosis': None,\n  'tumor_isup_grade': None,\n  'clavien_surgical_complications': '0',\n  'er_visit': False,\n  'readmission': False,\n  'estimated_blood_loss': 100,\n  'surgery_type': 'robotic',\n  'surgical_procedure': 'partial_nephrectomy',\n  'surgical_approach': 'Transperitoneal',\n  'operative_time': 200,\n  'cytoreductive': False,\n  'positive_resection_margins': True,\n  'last_preop_egfr': {'value': None, 'days_before_nephrectomy': None},\n  'first_postop_egfr': {'value': None, 'days_before_nephrectomy': None},\n  'last_postop_egfr': {'value': None, 'days_before_nephrectomy': None},\n  'vital_status': 'censored',\n  'vital_days_after_surgery': 256,\n  'voxel_spacing': {'x_spacing': 0.7379999756813049,\n   'y_spacing': 0.7379999756813049,\n   'z_spacing': 3.0}},\n {'case_id': 'case_00044',\n  'age_at_nephrectomy': 66,\n  'gender': 'male',\n  'body_mass_index': 28.0,\n  'comorbidities': {'myocardial_infarction': False,\n   'congestive_heart_failure': False,\n   'peripheral_vascular_disease': False,\n   'cerebrovascular_disease': False,\n   'dementia': False,\n   'copd': False,\n   'connective_tissue_disease': False,\n   'peptic_ulcer_disease': False,\n   'uncomplicated_diabetes_mellitus': False,\n   'diabetes_mellitus_with_end_organ_damage': False,\n   'chronic_kidney_disease': False,\n   'hemiplegia_from_stroke': False,\n   'leukemia': False,\n   'malignant_lymphoma': False,\n   'localized_solid_tumor': False,\n   'metastatic_solid_tumor': True,\n   'mild_liver_disease': False,\n   'moderate_to_severe_liver_disease': False,\n   'aids': False},\n  'smoking_history': 'never_smoked',\n  'age_when_quit_smoking': 'not_applicable',\n  'pack_years': 0,\n  'chewing_tobacco_use': 'never_or_not_in_last_3mo',\n  'alcohol_use': 'never_or_not_in_last_3mo',\n  'intraoperative_complications': {'blood_transfusion': False,\n   'injury_to_surrounding_organ': False,\n   'cardiac_event': False},\n  'hospitalization': 7,\n  'ischemia_time': 'not_applicable',\n  'radiographic_size': 7.2,\n  'pathologic_size': 7.5,\n  'malignant': True,\n  'pathology_t_stage': '3',\n  'pathology_n_stage': 'X',\n  'pathology_m_stage': '1',\n  'tumor_histologic_subtype': 'papillary',\n  'tumor_necrosis': True,\n  'tumor_isup_grade': 4,\n  'clavien_surgical_complications': '3a',\n  'er_visit': False,\n  'readmission': True,\n  'estimated_blood_loss': 750,\n  'surgery_type': 'laparoscopic',\n  'surgical_procedure': 'radical_nephrectomy',\n  'surgical_approach': 'Transperitoneal',\n  'operative_time': 138,\n  'cytoreductive': True,\n  'positive_resection_margins': False,\n  'last_preop_egfr': {'value': None, 'days_before_nephrectomy': None},\n  'first_postop_egfr': {'value': None, 'days_before_nephrectomy': None},\n  'last_postop_egfr': {'value': None, 'days_before_nephrectomy': None},\n  'vital_status': 'dead',\n  'vital_days_after_surgery': 99,\n  'voxel_spacing': {'x_spacing': 0.966796875,\n   'y_spacing': 0.966796875,\n   'z_spacing': 5.0}},\n {'case_id': 'case_00045',\n  'age_at_nephrectomy': 61,\n  'gender': 'female',\n  'body_mass_index': 25.87,\n  'comorbidities': {'myocardial_infarction': True,\n   'congestive_heart_failure': False,\n   'peripheral_vascular_disease': False,\n   'cerebrovascular_disease': False,\n   'dementia': False,\n   'copd': True,\n   'connective_tissue_disease': False,\n   'peptic_ulcer_disease': False,\n   'uncomplicated_diabetes_mellitus': True,\n   'diabetes_mellitus_with_end_organ_damage': False,\n   'chronic_kidney_disease': True,\n   'hemiplegia_from_stroke': False,\n   'leukemia': False,\n   'malignant_lymphoma': False,\n   'localized_solid_tumor': False,\n   'metastatic_solid_tumor': False,\n   'mild_liver_disease': False,\n   'moderate_to_severe_liver_disease': False,\n   'aids': False},\n  'smoking_history': 'previous_smoker',\n  'age_when_quit_smoking': '50',\n  'pack_years': None,\n  'chewing_tobacco_use': 'never_or_not_in_last_3mo',\n  'alcohol_use': 'never_or_not_in_last_3mo',\n  'intraoperative_complications': {'blood_transfusion': False,\n   'injury_to_surrounding_organ': False,\n   'cardiac_event': False},\n  'hospitalization': 5,\n  'ischemia_time': 'not_applicable',\n  'radiographic_size': 5.4,\n  'pathologic_size': 5.1,\n  'malignant': True,\n  'pathology_t_stage': '1b',\n  'pathology_n_stage': 'X',\n  'pathology_m_stage': 'X',\n  'tumor_histologic_subtype': 'clear_cell_rcc',\n  'tumor_necrosis': None,\n  'tumor_isup_grade': 2,\n  'clavien_surgical_complications': '0',\n  'er_visit': False,\n  'readmission': False,\n  'estimated_blood_loss': 100,\n  'surgery_type': 'robotic',\n  'surgical_procedure': 'radical_nephrectomy',\n  'surgical_approach': 'Transperitoneal',\n  'operative_time': 177,\n  'cytoreductive': False,\n  'positive_resection_margins': False,\n  'last_preop_egfr': {'value': None, 'days_before_nephrectomy': None},\n  'first_postop_egfr': {'value': 9.0, 'days_before_nephrectomy': 402},\n  'last_postop_egfr': {'value': 9.0, 'days_before_nephrectomy': 402},\n  'vital_status': 'censored',\n  'vital_days_after_surgery': 402,\n  'voxel_spacing': {'x_spacing': 0.7409999966621399,\n   'y_spacing': 0.7409999966621399,\n   'z_spacing': 3.0}},\n {'case_id': 'case_00046',\n  'age_at_nephrectomy': 38,\n  'gender': 'male',\n  'body_mass_index': 37.21,\n  'comorbidities': {'myocardial_infarction': False,\n   'congestive_heart_failure': False,\n   'peripheral_vascular_disease': False,\n   'cerebrovascular_disease': False,\n   'dementia': False,\n   'copd': False,\n   'connective_tissue_disease': False,\n   'peptic_ulcer_disease': False,\n   'uncomplicated_diabetes_mellitus': False,\n   'diabetes_mellitus_with_end_organ_damage': False,\n   'chronic_kidney_disease': False,\n   'hemiplegia_from_stroke': False,\n   'leukemia': False,\n   'malignant_lymphoma': False,\n   'localized_solid_tumor': False,\n   'metastatic_solid_tumor': False,\n   'mild_liver_disease': False,\n   'moderate_to_severe_liver_disease': False,\n   'aids': False},\n  'smoking_history': 'previous_smoker',\n  'age_when_quit_smoking': '29',\n  'pack_years': None,\n  'chewing_tobacco_use': 'never_or_not_in_last_3mo',\n  'alcohol_use': 'two_or_less_daily',\n  'intraoperative_complications': {'blood_transfusion': False,\n   'injury_to_surrounding_organ': False,\n   'cardiac_event': False},\n  'hospitalization': 5,\n  'ischemia_time': 17,\n  'radiographic_size': 5.0,\n  'pathologic_size': 4.7,\n  'malignant': True,\n  'pathology_t_stage': '1b',\n  'pathology_n_stage': 'X',\n  'pathology_m_stage': 'X',\n  'tumor_histologic_subtype': 'clear_cell_rcc',\n  'tumor_necrosis': False,\n  'tumor_isup_grade': 2,\n  'clavien_surgical_complications': '0',\n  'er_visit': False,\n  'readmission': False,\n  'estimated_blood_loss': 1000,\n  'surgery_type': 'open',\n  'surgical_procedure': 'partial_nephrectomy',\n  'surgical_approach': 'Transperitoneal',\n  'operative_time': 372,\n  'cytoreductive': False,\n  'positive_resection_margins': False,\n  'last_preop_egfr': {'value': 68.0, 'days_before_nephrectomy': 21},\n  'first_postop_egfr': {'value': None, 'days_before_nephrectomy': None},\n  'last_postop_egfr': {'value': None, 'days_before_nephrectomy': None},\n  'vital_status': 'censored',\n  'vital_days_after_surgery': 22,\n  'voxel_spacing': {'x_spacing': 0.9765625,\n   'y_spacing': 0.9765625,\n   'z_spacing': 3.0}},\n {'case_id': 'case_00047',\n  'age_at_nephrectomy': 74,\n  'gender': 'male',\n  'body_mass_index': 30.96,\n  'comorbidities': {'myocardial_infarction': False,\n   'congestive_heart_failure': False,\n   'peripheral_vascular_disease': False,\n   'cerebrovascular_disease': False,\n   'dementia': False,\n   'copd': False,\n   'connective_tissue_disease': False,\n   'peptic_ulcer_disease': False,\n   'uncomplicated_diabetes_mellitus': False,\n   'diabetes_mellitus_with_end_organ_damage': False,\n   'chronic_kidney_disease': False,\n   'hemiplegia_from_stroke': False,\n   'leukemia': False,\n   'malignant_lymphoma': False,\n   'localized_solid_tumor': False,\n   'metastatic_solid_tumor': True,\n   'mild_liver_disease': False,\n   'moderate_to_severe_liver_disease': False,\n   'aids': False},\n  'smoking_history': 'previous_smoker',\n  'age_when_quit_smoking': '36',\n  'pack_years': None,\n  'chewing_tobacco_use': 'never_or_not_in_last_3mo',\n  'alcohol_use': 'two_or_less_daily',\n  'intraoperative_complications': {'blood_transfusion': False,\n   'injury_to_surrounding_organ': False,\n   'cardiac_event': False},\n  'hospitalization': 2,\n  'ischemia_time': 'not_applicable',\n  'radiographic_size': 7.8,\n  'pathologic_size': 6.9,\n  'malignant': True,\n  'pathology_t_stage': '3',\n  'pathology_n_stage': 'X',\n  'pathology_m_stage': 'X',\n  'tumor_histologic_subtype': 'clear_cell_rcc',\n  'tumor_necrosis': False,\n  'tumor_isup_grade': 3,\n  'clavien_surgical_complications': '0',\n  'er_visit': False,\n  'readmission': False,\n  'estimated_blood_loss': 100,\n  'surgery_type': 'laparoscopic',\n  'surgical_procedure': 'radical_nephrectomy',\n  'surgical_approach': 'Transperitoneal',\n  'operative_time': 204,\n  'cytoreductive': False,\n  'positive_resection_margins': False,\n  'last_preop_egfr': {'value': 87.0, 'days_before_nephrectomy': 16},\n  'first_postop_egfr': {'value': 42.0, 'days_before_nephrectomy': 125},\n  'last_postop_egfr': {'value': 49.0, 'days_before_nephrectomy': 2419},\n  'vital_status': 'censored',\n  'vital_days_after_surgery': 2451,\n  'voxel_spacing': {'x_spacing': 0.85546875,\n   'y_spacing': 0.85546875,\n   'z_spacing': 5.0}},\n {'case_id': 'case_00048',\n  'age_at_nephrectomy': 66,\n  'gender': 'female',\n  'body_mass_index': 39.28,\n  'comorbidities': {'myocardial_infarction': False,\n   'congestive_heart_failure': True,\n   'peripheral_vascular_disease': False,\n   'cerebrovascular_disease': False,\n   'dementia': False,\n   'copd': True,\n   'connective_tissue_disease': False,\n   'peptic_ulcer_disease': False,\n   'uncomplicated_diabetes_mellitus': True,\n   'diabetes_mellitus_with_end_organ_damage': False,\n   'chronic_kidney_disease': False,\n   'hemiplegia_from_stroke': False,\n   'leukemia': False,\n   'malignant_lymphoma': False,\n   'localized_solid_tumor': False,\n   'metastatic_solid_tumor': False,\n   'mild_liver_disease': False,\n   'moderate_to_severe_liver_disease': False,\n   'aids': False},\n  'smoking_history': 'previous_smoker',\n  'age_when_quit_smoking': '64',\n  'pack_years': None,\n  'chewing_tobacco_use': 'never_or_not_in_last_3mo',\n  'alcohol_use': 'two_or_less_daily',\n  'intraoperative_complications': {'blood_transfusion': False,\n   'injury_to_surrounding_organ': False,\n   'cardiac_event': False},\n  'hospitalization': 2,\n  'ischemia_time': 28,\n  'radiographic_size': 4.3,\n  'pathologic_size': 4.6,\n  'malignant': True,\n  'pathology_t_stage': '1b',\n  'pathology_n_stage': '0',\n  'pathology_m_stage': 'X',\n  'tumor_histologic_subtype': 'clear_cell_rcc',\n  'tumor_necrosis': None,\n  'tumor_isup_grade': 2,\n  'clavien_surgical_complications': '1',\n  'er_visit': False,\n  'readmission': False,\n  'estimated_blood_loss': 100,\n  'surgery_type': 'robotic',\n  'surgical_procedure': 'partial_nephrectomy',\n  'surgical_approach': 'Transperitoneal',\n  'operative_time': 264,\n  'cytoreductive': False,\n  'positive_resection_margins': False,\n  'last_preop_egfr': {'value': 67.0, 'days_before_nephrectomy': 90},\n  'first_postop_egfr': {'value': 89.0, 'days_before_nephrectomy': 162},\n  'last_postop_egfr': {'value': 89.0, 'days_before_nephrectomy': 162},\n  'vital_status': 'dead',\n  'vital_days_after_surgery': 215,\n  'voxel_spacing': {'x_spacing': 1.0410000085830688,\n   'y_spacing': 1.0410000085830688,\n   'z_spacing': 5.0}},\n {'case_id': 'case_00049',\n  'age_at_nephrectomy': 72,\n  'gender': 'male',\n  'body_mass_index': 32.92,\n  'comorbidities': {'myocardial_infarction': False,\n   'congestive_heart_failure': False,\n   'peripheral_vascular_disease': False,\n   'cerebrovascular_disease': False,\n   'dementia': False,\n   'copd': False,\n   'connective_tissue_disease': False,\n   'peptic_ulcer_disease': False,\n   'uncomplicated_diabetes_mellitus': False,\n   'diabetes_mellitus_with_end_organ_damage': False,\n   'chronic_kidney_disease': False,\n   'hemiplegia_from_stroke': False,\n   'leukemia': False,\n   'malignant_lymphoma': False,\n   'localized_solid_tumor': True,\n   'metastatic_solid_tumor': False,\n   'mild_liver_disease': False,\n   'moderate_to_severe_liver_disease': False,\n   'aids': False},\n  'smoking_history': 'never_smoked',\n  'age_when_quit_smoking': 'not_applicable',\n  'pack_years': 0,\n  'chewing_tobacco_use': 'never_or_not_in_last_3mo',\n  'alcohol_use': 'two_or_less_daily',\n  'intraoperative_complications': {'blood_transfusion': False,\n   'injury_to_surrounding_organ': False,\n   'cardiac_event': False},\n  'hospitalization': 2,\n  'ischemia_time': 11,\n  'radiographic_size': 2.6,\n  'pathologic_size': 1.8,\n  'malignant': True,\n  'pathology_t_stage': '1a',\n  'pathology_n_stage': 'X',\n  'pathology_m_stage': 'X',\n  'tumor_histologic_subtype': 'clear_cell_rcc',\n  'tumor_necrosis': False,\n  'tumor_isup_grade': 2,\n  'clavien_surgical_complications': '0',\n  'er_visit': False,\n  'readmission': False,\n  'estimated_blood_loss': 150,\n  'surgery_type': 'robotic',\n  'surgical_procedure': 'partial_nephrectomy',\n  'surgical_approach': 'Transperitoneal',\n  'operative_time': 368,\n  'cytoreductive': False,\n  'positive_resection_margins': False,\n  'last_preop_egfr': {'value': 88.0, 'days_before_nephrectomy': 8},\n  'first_postop_egfr': {'value': 69.0, 'days_before_nephrectomy': 104},\n  'last_postop_egfr': {'value': 57.0, 'days_before_nephrectomy': 1526},\n  'vital_status': 'censored',\n  'vital_days_after_surgery': 1707,\n  'voxel_spacing': {'x_spacing': 0.861328125,\n   'y_spacing': 0.861328125,\n   'z_spacing': 0.5}},\n {'case_id': 'case_00050',\n  'age_at_nephrectomy': 58,\n  'gender': 'female',\n  'body_mass_index': 25.32,\n  'comorbidities': {'myocardial_infarction': False,\n   'congestive_heart_failure': False,\n   'peripheral_vascular_disease': True,\n   'cerebrovascular_disease': False,\n   'dementia': False,\n   'copd': False,\n   'connective_tissue_disease': False,\n   'peptic_ulcer_disease': False,\n   'uncomplicated_diabetes_mellitus': False,\n   'diabetes_mellitus_with_end_organ_damage': False,\n   'chronic_kidney_disease': False,\n   'hemiplegia_from_stroke': False,\n   'leukemia': False,\n   'malignant_lymphoma': False,\n   'localized_solid_tumor': False,\n   'metastatic_solid_tumor': False,\n   'mild_liver_disease': False,\n   'moderate_to_severe_liver_disease': False,\n   'aids': False},\n  'smoking_history': 'current_smoker',\n  'age_when_quit_smoking': 'not_applicable',\n  'pack_years': None,\n  'chewing_tobacco_use': 'never_or_not_in_last_3mo',\n  'alcohol_use': 'never_or_not_in_last_3mo',\n  'intraoperative_complications': {'blood_transfusion': False,\n   'injury_to_surrounding_organ': False,\n   'cardiac_event': False},\n  'hospitalization': 3,\n  'ischemia_time': 15,\n  'radiographic_size': 1.5,\n  'pathologic_size': 1.0,\n  'malignant': True,\n  'pathology_t_stage': '1a',\n  'pathology_n_stage': 'X',\n  'pathology_m_stage': 'X',\n  'tumor_histologic_subtype': 'papillary',\n  'tumor_necrosis': False,\n  'tumor_isup_grade': 1,\n  'clavien_surgical_complications': '1',\n  'er_visit': False,\n  'readmission': False,\n  'estimated_blood_loss': 35,\n  'surgery_type': 'robotic',\n  'surgical_procedure': 'partial_nephrectomy',\n  'surgical_approach': 'Transperitoneal',\n  'operative_time': 145,\n  'cytoreductive': False,\n  'positive_resection_margins': False,\n  'last_preop_egfr': {'value': None, 'days_before_nephrectomy': None},\n  'first_postop_egfr': {'value': None, 'days_before_nephrectomy': None},\n  'last_postop_egfr': {'value': None, 'days_before_nephrectomy': None},\n  'vital_status': 'censored',\n  'vital_days_after_surgery': 959,\n  'voxel_spacing': {'x_spacing': 0.6894530057907104,\n   'y_spacing': 0.6894530057907104,\n   'z_spacing': 2.5}},\n {'case_id': 'case_00051',\n  'age_at_nephrectomy': 73,\n  'gender': 'male',\n  'body_mass_index': 33.28,\n  'comorbidities': {'myocardial_infarction': False,\n   'congestive_heart_failure': False,\n   'peripheral_vascular_disease': False,\n   'cerebrovascular_disease': False,\n   'dementia': False,\n   'copd': False,\n   'connective_tissue_disease': False,\n   'peptic_ulcer_disease': False,\n   'uncomplicated_diabetes_mellitus': True,\n   'diabetes_mellitus_with_end_organ_damage': False,\n   'chronic_kidney_disease': False,\n   'hemiplegia_from_stroke': False,\n   'leukemia': False,\n   'malignant_lymphoma': False,\n   'localized_solid_tumor': True,\n   'metastatic_solid_tumor': False,\n   'mild_liver_disease': False,\n   'moderate_to_severe_liver_disease': False,\n   'aids': False},\n  'smoking_history': 'previous_smoker',\n  'age_when_quit_smoking': '22',\n  'pack_years': None,\n  'chewing_tobacco_use': 'never_or_not_in_last_3mo',\n  'alcohol_use': 'two_or_less_daily',\n  'intraoperative_complications': {'blood_transfusion': False,\n   'injury_to_surrounding_organ': False,\n   'cardiac_event': False},\n  'hospitalization': 4,\n  'ischemia_time': 'not_applicable',\n  'radiographic_size': 4.4,\n  'pathologic_size': 4.3,\n  'malignant': True,\n  'pathology_t_stage': '1b',\n  'pathology_n_stage': '0',\n  'pathology_m_stage': '0',\n  'tumor_histologic_subtype': 'clear_cell_rcc',\n  'tumor_necrosis': True,\n  'tumor_isup_grade': 2,\n  'clavien_surgical_complications': '0',\n  'er_visit': False,\n  'readmission': False,\n  'estimated_blood_loss': 700,\n  'surgery_type': 'robotic',\n  'surgical_procedure': 'radical_nephrectomy',\n  'surgical_approach': 'Transperitoneal',\n  'operative_time': 218,\n  'cytoreductive': False,\n  'positive_resection_margins': False,\n  'last_preop_egfr': {'value': 60.0, 'days_before_nephrectomy': 27},\n  'first_postop_egfr': {'value': 29.0, 'days_before_nephrectomy': 134},\n  'last_postop_egfr': {'value': 30.0, 'days_before_nephrectomy': 2024},\n  'vital_status': 'censored',\n  'vital_days_after_surgery': 2414,\n  'voxel_spacing': {'x_spacing': 0.9609375,\n   'y_spacing': 0.9609375,\n   'z_spacing': 2.5}},\n {'case_id': 'case_00052',\n  'age_at_nephrectomy': 58,\n  'gender': 'female',\n  'body_mass_index': 40.6,\n  'comorbidities': {'myocardial_infarction': False,\n   'congestive_heart_failure': False,\n   'peripheral_vascular_disease': False,\n   'cerebrovascular_disease': False,\n   'dementia': False,\n   'copd': False,\n   'connective_tissue_disease': False,\n   'peptic_ulcer_disease': False,\n   'uncomplicated_diabetes_mellitus': True,\n   'diabetes_mellitus_with_end_organ_damage': False,\n   'chronic_kidney_disease': False,\n   'hemiplegia_from_stroke': False,\n   'leukemia': False,\n   'malignant_lymphoma': False,\n   'localized_solid_tumor': True,\n   'metastatic_solid_tumor': False,\n   'mild_liver_disease': False,\n   'moderate_to_severe_liver_disease': False,\n   'aids': False},\n  'smoking_history': 'previous_smoker',\n  'age_when_quit_smoking': None,\n  'pack_years': None,\n  'chewing_tobacco_use': 'never_or_not_in_last_3mo',\n  'alcohol_use': 'never_or_not_in_last_3mo',\n  'intraoperative_complications': {'blood_transfusion': False,\n   'injury_to_surrounding_organ': False,\n   'cardiac_event': False},\n  'hospitalization': 5,\n  'ischemia_time': 13,\n  'radiographic_size': 3.4,\n  'pathologic_size': 2.6,\n  'malignant': True,\n  'pathology_t_stage': '1a',\n  'pathology_n_stage': 'X',\n  'pathology_m_stage': 'X',\n  'tumor_histologic_subtype': 'clear_cell_rcc',\n  'tumor_necrosis': False,\n  'tumor_isup_grade': 2,\n  'clavien_surgical_complications': '0',\n  'er_visit': False,\n  'readmission': False,\n  'estimated_blood_loss': 300,\n  'surgery_type': 'open',\n  'surgical_procedure': 'partial_nephrectomy',\n  'surgical_approach': 'Transperitoneal',\n  'operative_time': 377,\n  'cytoreductive': False,\n  'positive_resection_margins': False,\n  'last_preop_egfr': {'value': '>=90', 'days_before_nephrectomy': 38},\n  'first_postop_egfr': {'value': 85.0, 'days_before_nephrectomy': 1838},\n  'last_postop_egfr': {'value': 85.0, 'days_before_nephrectomy': 1838},\n  'vital_status': 'censored',\n  'vital_days_after_surgery': 1924,\n  'voxel_spacing': {'x_spacing': 0.95703125,\n   'y_spacing': 0.95703125,\n   'z_spacing': 0.5}},\n {'case_id': 'case_00053',\n  'age_at_nephrectomy': 73,\n  'gender': 'male',\n  'body_mass_index': 29.7,\n  'comorbidities': {'myocardial_infarction': False,\n   'congestive_heart_failure': False,\n   'peripheral_vascular_disease': True,\n   'cerebrovascular_disease': False,\n   'dementia': False,\n   'copd': False,\n   'connective_tissue_disease': False,\n   'peptic_ulcer_disease': False,\n   'uncomplicated_diabetes_mellitus': True,\n   'diabetes_mellitus_with_end_organ_damage': False,\n   'chronic_kidney_disease': False,\n   'hemiplegia_from_stroke': False,\n   'leukemia': False,\n   'malignant_lymphoma': False,\n   'localized_solid_tumor': False,\n   'metastatic_solid_tumor': False,\n   'mild_liver_disease': False,\n   'moderate_to_severe_liver_disease': False,\n   'aids': False},\n  'smoking_history': 'previous_smoker',\n  'age_when_quit_smoking': '45',\n  'pack_years': None,\n  'chewing_tobacco_use': 'never_or_not_in_last_3mo',\n  'alcohol_use': 'never_or_not_in_last_3mo',\n  'intraoperative_complications': {'blood_transfusion': False,\n   'injury_to_surrounding_organ': False,\n   'cardiac_event': False},\n  'hospitalization': 2,\n  'ischemia_time': 18,\n  'radiographic_size': 4.2,\n  'pathologic_size': 4.8,\n  'malignant': True,\n  'pathology_t_stage': '1b',\n  'pathology_n_stage': 'X',\n  'pathology_m_stage': 'X',\n  'tumor_histologic_subtype': 'clear_cell_rcc',\n  'tumor_necrosis': False,\n  'tumor_isup_grade': 3,\n  'clavien_surgical_complications': '0',\n  'er_visit': False,\n  'readmission': False,\n  'estimated_blood_loss': 50,\n  'surgery_type': 'robotic',\n  'surgical_procedure': 'partial_nephrectomy',\n  'surgical_approach': 'Transperitoneal',\n  'operative_time': 311,\n  'cytoreductive': False,\n  'positive_resection_margins': False,\n  'last_preop_egfr': {'value': 61.0, 'days_before_nephrectomy': 55},\n  'first_postop_egfr': {'value': 43.0, 'days_before_nephrectomy': 2270},\n  'last_postop_egfr': {'value': 43.0, 'days_before_nephrectomy': 2270},\n  'vital_status': 'censored',\n  'vital_days_after_surgery': 2330,\n  'voxel_spacing': {'x_spacing': 0.7734375,\n   'y_spacing': 0.7734375,\n   'z_spacing': 0.5}},\n {'case_id': 'case_00054',\n  'age_at_nephrectomy': 55,\n  'gender': 'male',\n  'body_mass_index': 37.84,\n  'comorbidities': {'myocardial_infarction': False,\n   'congestive_heart_failure': False,\n   'peripheral_vascular_disease': False,\n   'cerebrovascular_disease': False,\n   'dementia': False,\n   'copd': False,\n   'connective_tissue_disease': False,\n   'peptic_ulcer_disease': False,\n   'uncomplicated_diabetes_mellitus': False,\n   'diabetes_mellitus_with_end_organ_damage': False,\n   'chronic_kidney_disease': False,\n   'hemiplegia_from_stroke': False,\n   'leukemia': False,\n   'malignant_lymphoma': False,\n   'localized_solid_tumor': False,\n   'metastatic_solid_tumor': False,\n   'mild_liver_disease': False,\n   'moderate_to_severe_liver_disease': False,\n   'aids': False},\n  'smoking_history': 'never_smoked',\n  'age_when_quit_smoking': 'not_applicable',\n  'pack_years': 0,\n  'chewing_tobacco_use': 'never_or_not_in_last_3mo',\n  'alcohol_use': 'two_or_less_daily',\n  'intraoperative_complications': {'blood_transfusion': False,\n   'injury_to_surrounding_organ': False,\n   'cardiac_event': False},\n  'hospitalization': 5,\n  'ischemia_time': 18,\n  'radiographic_size': 2.0,\n  'pathologic_size': 2.8,\n  'malignant': True,\n  'pathology_t_stage': '1a',\n  'pathology_n_stage': 'X',\n  'pathology_m_stage': 'X',\n  'tumor_histologic_subtype': 'clear_cell_rcc',\n  'tumor_necrosis': False,\n  'tumor_isup_grade': 2,\n  'clavien_surgical_complications': '1',\n  'er_visit': True,\n  'readmission': False,\n  'estimated_blood_loss': 1300,\n  'surgery_type': 'robotic',\n  'surgical_procedure': 'partial_nephrectomy',\n  'surgical_approach': 'Retroperitoneal',\n  'operative_time': 274,\n  'cytoreductive': False,\n  'positive_resection_margins': False,\n  'last_preop_egfr': {'value': None, 'days_before_nephrectomy': None},\n  'first_postop_egfr': {'value': 88.0, 'days_before_nephrectomy': 201},\n  'last_postop_egfr': {'value': 88.0, 'days_before_nephrectomy': 201},\n  'vital_status': 'censored',\n  'vital_days_after_surgery': 202,\n  'voxel_spacing': {'x_spacing': 0.9765625,\n   'y_spacing': 0.9765625,\n   'z_spacing': 5.0}},\n {'case_id': 'case_00055',\n  'age_at_nephrectomy': 53,\n  'gender': 'male',\n  'body_mass_index': 29.53,\n  'comorbidities': {'myocardial_infarction': False,\n   'congestive_heart_failure': False,\n   'peripheral_vascular_disease': False,\n   'cerebrovascular_disease': False,\n   'dementia': False,\n   'copd': False,\n   'connective_tissue_disease': False,\n   'peptic_ulcer_disease': False,\n   'uncomplicated_diabetes_mellitus': False,\n   'diabetes_mellitus_with_end_organ_damage': False,\n   'chronic_kidney_disease': False,\n   'hemiplegia_from_stroke': False,\n   'leukemia': False,\n   'malignant_lymphoma': False,\n   'localized_solid_tumor': True,\n   'metastatic_solid_tumor': False,\n   'mild_liver_disease': False,\n   'moderate_to_severe_liver_disease': False,\n   'aids': False},\n  'smoking_history': 'never_smoked',\n  'age_when_quit_smoking': 'not_applicable',\n  'pack_years': 0,\n  'chewing_tobacco_use': 'never_or_not_in_last_3mo',\n  'alcohol_use': 'never_or_not_in_last_3mo',\n  'intraoperative_complications': {'blood_transfusion': False,\n   'injury_to_surrounding_organ': False,\n   'cardiac_event': False},\n  'hospitalization': 3,\n  'ischemia_time': 'not_applicable',\n  'radiographic_size': 10.1,\n  'pathologic_size': 10.2,\n  'malignant': True,\n  'pathology_t_stage': '3',\n  'pathology_n_stage': 'X',\n  'pathology_m_stage': 'X',\n  'tumor_histologic_subtype': 'clear_cell_rcc',\n  'tumor_necrosis': True,\n  'tumor_isup_grade': 3,\n  'clavien_surgical_complications': '0',\n  'er_visit': False,\n  'readmission': False,\n  'estimated_blood_loss': 1000,\n  'surgery_type': 'open',\n  'surgical_procedure': 'radical_nephrectomy',\n  'surgical_approach': 'Transperitoneal',\n  'operative_time': 382,\n  'cytoreductive': False,\n  'positive_resection_margins': False,\n  'last_preop_egfr': {'value': 75.0, 'days_before_nephrectomy': 12},\n  'first_postop_egfr': {'value': 58.0, 'days_before_nephrectomy': 81},\n  'last_postop_egfr': {'value': 69.0, 'days_before_nephrectomy': 1674},\n  'vital_status': 'censored',\n  'vital_days_after_surgery': 1681,\n  'voxel_spacing': {'x_spacing': 0.87890625,\n   'y_spacing': 0.87890625,\n   'z_spacing': 5.0}},\n {'case_id': 'case_00056',\n  'age_at_nephrectomy': 53,\n  'gender': 'female',\n  'body_mass_index': 48.42,\n  'comorbidities': {'myocardial_infarction': False,\n   'congestive_heart_failure': False,\n   'peripheral_vascular_disease': False,\n   'cerebrovascular_disease': False,\n   'dementia': False,\n   'copd': False,\n   'connective_tissue_disease': False,\n   'peptic_ulcer_disease': False,\n   'uncomplicated_diabetes_mellitus': False,\n   'diabetes_mellitus_with_end_organ_damage': False,\n   'chronic_kidney_disease': False,\n   'hemiplegia_from_stroke': False,\n   'leukemia': False,\n   'malignant_lymphoma': False,\n   'localized_solid_tumor': False,\n   'metastatic_solid_tumor': False,\n   'mild_liver_disease': False,\n   'moderate_to_severe_liver_disease': False,\n   'aids': False},\n  'smoking_history': 'previous_smoker',\n  'age_when_quit_smoking': None,\n  'pack_years': '210',\n  'chewing_tobacco_use': 'never_or_not_in_last_3mo',\n  'alcohol_use': 'never_or_not_in_last_3mo',\n  'intraoperative_complications': {'blood_transfusion': False,\n   'injury_to_surrounding_organ': False,\n   'cardiac_event': False},\n  'hospitalization': 4,\n  'ischemia_time': 'not_applicable',\n  'radiographic_size': 13.1,\n  'pathologic_size': 10.2,\n  'malignant': True,\n  'pathology_t_stage': '2b',\n  'pathology_n_stage': 'X',\n  'pathology_m_stage': 'X',\n  'tumor_histologic_subtype': 'clear_cell_papillary_rcc',\n  'tumor_necrosis': False,\n  'tumor_isup_grade': 2,\n  'clavien_surgical_complications': '1',\n  'er_visit': False,\n  'readmission': False,\n  'estimated_blood_loss': 675,\n  'surgery_type': 'open',\n  'surgical_procedure': 'radical_nephrectomy',\n  'surgical_approach': 'Transperitoneal',\n  'operative_time': 373,\n  'cytoreductive': False,\n  'positive_resection_margins': False,\n  'last_preop_egfr': {'value': None, 'days_before_nephrectomy': None},\n  'first_postop_egfr': {'value': 87.0, 'days_before_nephrectomy': 105},\n  'last_postop_egfr': {'value': 77.0, 'days_before_nephrectomy': 1048},\n  'vital_status': 'censored',\n  'vital_days_after_surgery': 1052,\n  'voxel_spacing': {'x_spacing': 0.78125,\n   'y_spacing': 0.78125,\n   'z_spacing': 5.0}},\n {'case_id': 'case_00057',\n  'age_at_nephrectomy': 70,\n  'gender': 'male',\n  'body_mass_index': 26.19,\n  'comorbidities': {'myocardial_infarction': False,\n   'congestive_heart_failure': False,\n   'peripheral_vascular_disease': False,\n   'cerebrovascular_disease': False,\n   'dementia': False,\n   'copd': False,\n   'connective_tissue_disease': False,\n   'peptic_ulcer_disease': False,\n   'uncomplicated_diabetes_mellitus': False,\n   'diabetes_mellitus_with_end_organ_damage': False,\n   'chronic_kidney_disease': True,\n   'hemiplegia_from_stroke': False,\n   'leukemia': False,\n   'malignant_lymphoma': False,\n   'localized_solid_tumor': False,\n   'metastatic_solid_tumor': False,\n   'mild_liver_disease': False,\n   'moderate_to_severe_liver_disease': False,\n   'aids': False},\n  'smoking_history': 'previous_smoker',\n  'age_when_quit_smoking': '38',\n  'pack_years': None,\n  'chewing_tobacco_use': 'never_or_not_in_last_3mo',\n  'alcohol_use': 'never_or_not_in_last_3mo',\n  'intraoperative_complications': {'blood_transfusion': False,\n   'injury_to_surrounding_organ': False,\n   'cardiac_event': False},\n  'hospitalization': 1,\n  'ischemia_time': 'not_applicable',\n  'radiographic_size': 5.5,\n  'pathologic_size': 7.2,\n  'malignant': True,\n  'pathology_t_stage': '3',\n  'pathology_n_stage': 'X',\n  'pathology_m_stage': 'X',\n  'tumor_histologic_subtype': 'clear_cell_rcc',\n  'tumor_necrosis': False,\n  'tumor_isup_grade': 3,\n  'clavien_surgical_complications': '0',\n  'er_visit': False,\n  'readmission': False,\n  'estimated_blood_loss': 50,\n  'surgery_type': 'robotic',\n  'surgical_procedure': 'radical_nephrectomy',\n  'surgical_approach': 'Transperitoneal',\n  'operative_time': 193,\n  'cytoreductive': False,\n  'positive_resection_margins': False,\n  'last_preop_egfr': {'value': 41.0, 'days_before_nephrectomy': 26},\n  'first_postop_egfr': {'value': 30.0, 'days_before_nephrectomy': 79},\n  'last_postop_egfr': {'value': 38.0, 'days_before_nephrectomy': 980},\n  'vital_status': 'censored',\n  'vital_days_after_surgery': 980,\n  'voxel_spacing': {'x_spacing': 0.822265625,\n   'y_spacing': 0.822265625,\n   'z_spacing': 3.0}},\n {'case_id': 'case_00058',\n  'age_at_nephrectomy': 71,\n  'gender': 'male',\n  'body_mass_index': 37.34,\n  'comorbidities': {'myocardial_infarction': False,\n   'congestive_heart_failure': False,\n   'peripheral_vascular_disease': False,\n   'cerebrovascular_disease': False,\n   'dementia': False,\n   'copd': False,\n   'connective_tissue_disease': False,\n   'peptic_ulcer_disease': False,\n   'uncomplicated_diabetes_mellitus': False,\n   'diabetes_mellitus_with_end_organ_damage': False,\n   'chronic_kidney_disease': False,\n   'hemiplegia_from_stroke': False,\n   'leukemia': False,\n   'malignant_lymphoma': False,\n   'localized_solid_tumor': False,\n   'metastatic_solid_tumor': False,\n   'mild_liver_disease': False,\n   'moderate_to_severe_liver_disease': False,\n   'aids': False},\n  'smoking_history': 'previous_smoker',\n  'age_when_quit_smoking': '24',\n  'pack_years': None,\n  'chewing_tobacco_use': 'never_or_not_in_last_3mo',\n  'alcohol_use': 'two_or_less_daily',\n  'intraoperative_complications': {'blood_transfusion': False,\n   'injury_to_surrounding_organ': False,\n   'cardiac_event': False},\n  'hospitalization': 2,\n  'ischemia_time': 22,\n  'radiographic_size': 6.4,\n  'pathologic_size': 6.0,\n  'malignant': True,\n  'pathology_t_stage': '3',\n  'pathology_n_stage': '0',\n  'pathology_m_stage': 'X',\n  'tumor_histologic_subtype': 'clear_cell_rcc',\n  'tumor_necrosis': True,\n  'tumor_isup_grade': 3,\n  'clavien_surgical_complications': '0',\n  'er_visit': False,\n  'readmission': False,\n  'estimated_blood_loss': 1000,\n  'surgery_type': 'robotic',\n  'surgical_procedure': 'partial_nephrectomy',\n  'surgical_approach': 'Transperitoneal',\n  'operative_time': 213,\n  'cytoreductive': False,\n  'positive_resection_margins': False,\n  'last_preop_egfr': {'value': None, 'days_before_nephrectomy': None},\n  'first_postop_egfr': {'value': None, 'days_before_nephrectomy': None},\n  'last_postop_egfr': {'value': None, 'days_before_nephrectomy': None},\n  'vital_status': 'censored',\n  'vital_days_after_surgery': 19,\n  'voxel_spacing': {'x_spacing': 0.951171875,\n   'y_spacing': 0.951171875,\n   'z_spacing': 5.0}},\n {'case_id': 'case_00059',\n  'age_at_nephrectomy': 36,\n  'gender': 'female',\n  'body_mass_index': 37.86,\n  'comorbidities': {'myocardial_infarction': False,\n   'congestive_heart_failure': False,\n   'peripheral_vascular_disease': False,\n   'cerebrovascular_disease': False,\n   'dementia': False,\n   'copd': False,\n   'connective_tissue_disease': False,\n   'peptic_ulcer_disease': False,\n   'uncomplicated_diabetes_mellitus': False,\n   'diabetes_mellitus_with_end_organ_damage': False,\n   'chronic_kidney_disease': False,\n   'hemiplegia_from_stroke': False,\n   'leukemia': False,\n   'malignant_lymphoma': False,\n   'localized_solid_tumor': False,\n   'metastatic_solid_tumor': False,\n   'mild_liver_disease': False,\n   'moderate_to_severe_liver_disease': False,\n   'aids': False},\n  'smoking_history': 'never_smoked',\n  'age_when_quit_smoking': 'not_applicable',\n  'pack_years': 0,\n  'chewing_tobacco_use': 'never_or_not_in_last_3mo',\n  'alcohol_use': 'two_or_less_daily',\n  'intraoperative_complications': {'blood_transfusion': False,\n   'injury_to_surrounding_organ': False,\n   'cardiac_event': False},\n  'hospitalization': 3,\n  'ischemia_time': 22,\n  'radiographic_size': 3.0,\n  'pathologic_size': 2.6,\n  'malignant': True,\n  'pathology_t_stage': '1a',\n  'pathology_n_stage': '0',\n  'pathology_m_stage': '0',\n  'tumor_histologic_subtype': 'clear_cell_rcc',\n  'tumor_necrosis': False,\n  'tumor_isup_grade': 2,\n  'clavien_surgical_complications': '1',\n  'er_visit': False,\n  'readmission': True,\n  'estimated_blood_loss': 50,\n  'surgery_type': 'robotic',\n  'surgical_procedure': 'partial_nephrectomy',\n  'surgical_approach': 'Transperitoneal',\n  'operative_time': 331,\n  'cytoreductive': False,\n  'positive_resection_margins': False,\n  'last_preop_egfr': {'value': '>=90', 'days_before_nephrectomy': 34},\n  'first_postop_egfr': {'value': 70.0, 'days_before_nephrectomy': 2036},\n  'last_postop_egfr': {'value': 70.0, 'days_before_nephrectomy': 2036},\n  'vital_status': 'censored',\n  'vital_days_after_surgery': 2036,\n  'voxel_spacing': {'x_spacing': 0.7890625,\n   'y_spacing': 0.7890625,\n   'z_spacing': 0.5}},\n {'case_id': 'case_00060',\n  'age_at_nephrectomy': 77,\n  'gender': 'female',\n  'body_mass_index': 31.64,\n  'comorbidities': {'myocardial_infarction': False,\n   'congestive_heart_failure': False,\n   'peripheral_vascular_disease': False,\n   'cerebrovascular_disease': False,\n   'dementia': False,\n   'copd': False,\n   'connective_tissue_disease': False,\n   'peptic_ulcer_disease': False,\n   'uncomplicated_diabetes_mellitus': True,\n   'diabetes_mellitus_with_end_organ_damage': False,\n   'chronic_kidney_disease': False,\n   'hemiplegia_from_stroke': False,\n   'leukemia': False,\n   'malignant_lymphoma': False,\n   'localized_solid_tumor': False,\n   'metastatic_solid_tumor': False,\n   'mild_liver_disease': False,\n   'moderate_to_severe_liver_disease': False,\n   'aids': False},\n  'smoking_history': 'never_smoked',\n  'age_when_quit_smoking': 'not_applicable',\n  'pack_years': 0,\n  'chewing_tobacco_use': 'never_or_not_in_last_3mo',\n  'alcohol_use': 'two_or_less_daily',\n  'intraoperative_complications': {'blood_transfusion': False,\n   'injury_to_surrounding_organ': False,\n   'cardiac_event': False},\n  'hospitalization': 2,\n  'ischemia_time': 21,\n  'radiographic_size': 4.3,\n  'pathologic_size': 4.4,\n  'malignant': True,\n  'pathology_t_stage': '1b',\n  'pathology_n_stage': 'X',\n  'pathology_m_stage': 'X',\n  'tumor_histologic_subtype': 'clear_cell_rcc',\n  'tumor_necrosis': False,\n  'tumor_isup_grade': 1,\n  'clavien_surgical_complications': '0',\n  'er_visit': False,\n  'readmission': False,\n  'estimated_blood_loss': 180,\n  'surgery_type': 'robotic',\n  'surgical_procedure': 'partial_nephrectomy',\n  'surgical_approach': 'Transperitoneal',\n  'operative_time': 138,\n  'cytoreductive': False,\n  'positive_resection_margins': False,\n  'last_preop_egfr': {'value': None, 'days_before_nephrectomy': None},\n  'first_postop_egfr': {'value': None, 'days_before_nephrectomy': None},\n  'last_postop_egfr': {'value': None, 'days_before_nephrectomy': None},\n  'vital_status': 'censored',\n  'vital_days_after_surgery': 394,\n  'voxel_spacing': {'x_spacing': 0.833984375,\n   'y_spacing': 0.833984375,\n   'z_spacing': 3.0}},\n {'case_id': 'case_00061',\n  'age_at_nephrectomy': 46,\n  'gender': 'male',\n  'body_mass_index': 39.15,\n  'comorbidities': {'myocardial_infarction': False,\n   'congestive_heart_failure': False,\n   'peripheral_vascular_disease': False,\n   'cerebrovascular_disease': False,\n   'dementia': False,\n   'copd': False,\n   'connective_tissue_disease': False,\n   'peptic_ulcer_disease': False,\n   'uncomplicated_diabetes_mellitus': False,\n   'diabetes_mellitus_with_end_organ_damage': False,\n   'chronic_kidney_disease': False,\n   'hemiplegia_from_stroke': False,\n   'leukemia': False,\n   'malignant_lymphoma': False,\n   'localized_solid_tumor': False,\n   'metastatic_solid_tumor': False,\n   'mild_liver_disease': False,\n   'moderate_to_severe_liver_disease': False,\n   'aids': False},\n  'smoking_history': 'never_smoked',\n  'age_when_quit_smoking': 'not_applicable',\n  'pack_years': 0,\n  'chewing_tobacco_use': 'never_or_not_in_last_3mo',\n  'alcohol_use': 'two_or_less_daily',\n  'intraoperative_complications': {'blood_transfusion': False,\n   'injury_to_surrounding_organ': False,\n   'cardiac_event': False},\n  'hospitalization': 3,\n  'ischemia_time': 35,\n  'radiographic_size': 7.07,\n  'pathologic_size': 6.3,\n  'malignant': True,\n  'pathology_t_stage': '1b',\n  'pathology_n_stage': 'X',\n  'pathology_m_stage': 'X',\n  'tumor_histologic_subtype': 'clear_cell_rcc',\n  'tumor_necrosis': False,\n  'tumor_isup_grade': 2,\n  'clavien_surgical_complications': '0',\n  'er_visit': False,\n  'readmission': False,\n  'estimated_blood_loss': 400,\n  'surgery_type': 'open',\n  'surgical_procedure': 'partial_nephrectomy',\n  'surgical_approach': 'Transperitoneal',\n  'operative_time': 259,\n  'cytoreductive': False,\n  'positive_resection_margins': False,\n  'last_preop_egfr': {'value': None, 'days_before_nephrectomy': None},\n  'first_postop_egfr': {'value': None, 'days_before_nephrectomy': None},\n  'last_postop_egfr': {'value': None, 'days_before_nephrectomy': None},\n  'vital_status': 'censored',\n  'vital_days_after_surgery': 21,\n  'voxel_spacing': {'x_spacing': 0.9765620231628418,\n   'y_spacing': 0.9765620231628418,\n   'z_spacing': 5.0}},\n {'case_id': 'case_00062',\n  'age_at_nephrectomy': 55,\n  'gender': 'female',\n  'body_mass_index': 45.18,\n  'comorbidities': {'myocardial_infarction': False,\n   'congestive_heart_failure': False,\n   'peripheral_vascular_disease': False,\n   'cerebrovascular_disease': False,\n   'dementia': False,\n   'copd': False,\n   'connective_tissue_disease': False,\n   'peptic_ulcer_disease': False,\n   'uncomplicated_diabetes_mellitus': False,\n   'diabetes_mellitus_with_end_organ_damage': False,\n   'chronic_kidney_disease': False,\n   'hemiplegia_from_stroke': False,\n   'leukemia': False,\n   'malignant_lymphoma': False,\n   'localized_solid_tumor': False,\n   'metastatic_solid_tumor': False,\n   'mild_liver_disease': False,\n   'moderate_to_severe_liver_disease': False,\n   'aids': False},\n  'smoking_history': 'current_smoker',\n  'age_when_quit_smoking': 'not_applicable',\n  'pack_years': '30',\n  'chewing_tobacco_use': 'never_or_not_in_last_3mo',\n  'alcohol_use': 'never_or_not_in_last_3mo',\n  'intraoperative_complications': {'blood_transfusion': False,\n   'injury_to_surrounding_organ': False,\n   'cardiac_event': False},\n  'hospitalization': 2,\n  'ischemia_time': 39,\n  'radiographic_size': 2.0,\n  'pathologic_size': 3.2,\n  'malignant': True,\n  'pathology_t_stage': '1a',\n  'pathology_n_stage': 'X',\n  'pathology_m_stage': 'X',\n  'tumor_histologic_subtype': 'chromophobe',\n  'tumor_necrosis': False,\n  'tumor_isup_grade': None,\n  'clavien_surgical_complications': '0',\n  'er_visit': False,\n  'readmission': False,\n  'estimated_blood_loss': 25,\n  'surgery_type': 'robotic',\n  'surgical_procedure': 'partial_nephrectomy',\n  'surgical_approach': 'Transperitoneal',\n  'operative_time': 220,\n  'cytoreductive': False,\n  'positive_resection_margins': False,\n  'last_preop_egfr': {'value': None, 'days_before_nephrectomy': None},\n  'first_postop_egfr': {'value': '>=90', 'days_before_nephrectomy': 197},\n  'last_postop_egfr': {'value': 87.0, 'days_before_nephrectomy': 1178},\n  'vital_status': 'censored',\n  'vital_days_after_surgery': 1304,\n  'voxel_spacing': {'x_spacing': 0.9765625,\n   'y_spacing': 0.9765625,\n   'z_spacing': 5.0}},\n {'case_id': 'case_00063',\n  'age_at_nephrectomy': 62,\n  'gender': 'male',\n  'body_mass_index': 35.84,\n  'comorbidities': {'myocardial_infarction': False,\n   'congestive_heart_failure': False,\n   'peripheral_vascular_disease': False,\n   'cerebrovascular_disease': False,\n   'dementia': False,\n   'copd': False,\n   'connective_tissue_disease': False,\n   'peptic_ulcer_disease': False,\n   'uncomplicated_diabetes_mellitus': False,\n   'diabetes_mellitus_with_end_organ_damage': False,\n   'chronic_kidney_disease': True,\n   'hemiplegia_from_stroke': False,\n   'leukemia': False,\n   'malignant_lymphoma': False,\n   'localized_solid_tumor': False,\n   'metastatic_solid_tumor': False,\n   'mild_liver_disease': False,\n   'moderate_to_severe_liver_disease': False,\n   'aids': False},\n  'smoking_history': 'previous_smoker',\n  'age_when_quit_smoking': '52',\n  'pack_years': None,\n  'chewing_tobacco_use': 'never_or_not_in_last_3mo',\n  'alcohol_use': 'two_or_less_daily',\n  'intraoperative_complications': {'blood_transfusion': False,\n   'injury_to_surrounding_organ': False,\n   'cardiac_event': False},\n  'hospitalization': 2,\n  'ischemia_time': 'not_applicable',\n  'radiographic_size': 2.6,\n  'pathologic_size': 2.5,\n  'malignant': True,\n  'pathology_t_stage': '3',\n  'pathology_n_stage': 'X',\n  'pathology_m_stage': 'X',\n  'tumor_histologic_subtype': 'clear_cell_rcc',\n  'tumor_necrosis': False,\n  'tumor_isup_grade': 2,\n  'clavien_surgical_complications': '3b',\n  'er_visit': False,\n  'readmission': False,\n  'estimated_blood_loss': 50,\n  'surgery_type': 'laparoscopic',\n  'surgical_procedure': 'radical_nephrectomy',\n  'surgical_approach': 'Transperitoneal',\n  'operative_time': 245,\n  'cytoreductive': False,\n  'positive_resection_margins': False,\n  'last_preop_egfr': {'value': None, 'days_before_nephrectomy': None},\n  'first_postop_egfr': {'value': 56.0, 'days_before_nephrectomy': 978},\n  'last_postop_egfr': {'value': 56.0, 'days_before_nephrectomy': 978},\n  'vital_status': 'censored',\n  'vital_days_after_surgery': 1016,\n  'voxel_spacing': {'x_spacing': 0.859375,\n   'y_spacing': 0.859375,\n   'z_spacing': 0.5}},\n {'case_id': 'case_00064',\n  'age_at_nephrectomy': 62,\n  'gender': 'female',\n  'body_mass_index': 28.19,\n  'comorbidities': {'myocardial_infarction': False,\n   'congestive_heart_failure': False,\n   'peripheral_vascular_disease': False,\n   'cerebrovascular_disease': False,\n   'dementia': False,\n   'copd': False,\n   'connective_tissue_disease': False,\n   'peptic_ulcer_disease': False,\n   'uncomplicated_diabetes_mellitus': False,\n   'diabetes_mellitus_with_end_organ_damage': False,\n   'chronic_kidney_disease': False,\n   'hemiplegia_from_stroke': False,\n   'leukemia': False,\n   'malignant_lymphoma': False,\n   'localized_solid_tumor': False,\n   'metastatic_solid_tumor': False,\n   'mild_liver_disease': False,\n   'moderate_to_severe_liver_disease': False,\n   'aids': False},\n  'smoking_history': 'never_smoked',\n  'age_when_quit_smoking': 'not_applicable',\n  'pack_years': 0,\n  'chewing_tobacco_use': 'never_or_not_in_last_3mo',\n  'alcohol_use': 'two_or_less_daily',\n  'intraoperative_complications': {'blood_transfusion': False,\n   'injury_to_surrounding_organ': False,\n   'cardiac_event': False},\n  'hospitalization': 2,\n  'ischemia_time': 24,\n  'radiographic_size': 2.4,\n  'pathologic_size': 2.4,\n  'malignant': True,\n  'pathology_t_stage': '1a',\n  'pathology_n_stage': 'X',\n  'pathology_m_stage': 'X',\n  'tumor_histologic_subtype': 'papillary',\n  'tumor_necrosis': True,\n  'tumor_isup_grade': 2,\n  'clavien_surgical_complications': '0',\n  'er_visit': False,\n  'readmission': False,\n  'estimated_blood_loss': 100,\n  'surgery_type': 'robotic',\n  'surgical_procedure': 'partial_nephrectomy',\n  'surgical_approach': 'Transperitoneal',\n  'operative_time': 155,\n  'cytoreductive': False,\n  'positive_resection_margins': False,\n  'last_preop_egfr': {'value': 63.0, 'days_before_nephrectomy': 7},\n  'first_postop_egfr': {'value': 73.0, 'days_before_nephrectomy': 145},\n  'last_postop_egfr': {'value': 73.0, 'days_before_nephrectomy': 145},\n  'vital_status': 'censored',\n  'vital_days_after_surgery': 145,\n  'voxel_spacing': {'x_spacing': 0.703125,\n   'y_spacing': 0.703125,\n   'z_spacing': 5.0}},\n {'case_id': 'case_00065',\n  'age_at_nephrectomy': 67,\n  'gender': 'male',\n  'body_mass_index': 28.88,\n  'comorbidities': {'myocardial_infarction': True,\n   'congestive_heart_failure': False,\n   'peripheral_vascular_disease': False,\n   'cerebrovascular_disease': False,\n   'dementia': False,\n   'copd': False,\n   'connective_tissue_disease': False,\n   'peptic_ulcer_disease': False,\n   'uncomplicated_diabetes_mellitus': False,\n   'diabetes_mellitus_with_end_organ_damage': False,\n   'chronic_kidney_disease': False,\n   'hemiplegia_from_stroke': False,\n   'leukemia': False,\n   'malignant_lymphoma': False,\n   'localized_solid_tumor': False,\n   'metastatic_solid_tumor': False,\n   'mild_liver_disease': False,\n   'moderate_to_severe_liver_disease': False,\n   'aids': False},\n  'smoking_history': 'previous_smoker',\n  'age_when_quit_smoking': '49',\n  'pack_years': '30',\n  'chewing_tobacco_use': 'never_or_not_in_last_3mo',\n  'alcohol_use': 'two_or_less_daily',\n  'intraoperative_complications': {'blood_transfusion': False,\n   'injury_to_surrounding_organ': False,\n   'cardiac_event': False},\n  'hospitalization': 7,\n  'ischemia_time': 38,\n  'radiographic_size': 3.0,\n  'pathologic_size': 2.0,\n  'malignant': True,\n  'pathology_t_stage': '1a',\n  'pathology_n_stage': 'X',\n  'pathology_m_stage': 'X',\n  'tumor_histologic_subtype': 'clear_cell_rcc',\n  'tumor_necrosis': False,\n  'tumor_isup_grade': 1,\n  'clavien_surgical_complications': '1',\n  'er_visit': False,\n  'readmission': True,\n  'estimated_blood_loss': 1000,\n  'surgery_type': 'open',\n  'surgical_procedure': 'partial_nephrectomy',\n  'surgical_approach': 'Retroperitoneal',\n  'operative_time': 443,\n  'cytoreductive': False,\n  'positive_resection_margins': False,\n  'last_preop_egfr': {'value': 84.0, 'days_before_nephrectomy': 26},\n  'first_postop_egfr': {'value': '>=90', 'days_before_nephrectomy': 2473},\n  'last_postop_egfr': {'value': '>=90', 'days_before_nephrectomy': 2473},\n  'vital_status': 'censored',\n  'vital_days_after_surgery': 2473,\n  'voxel_spacing': {'x_spacing': 0.8203120231628418,\n   'y_spacing': 0.8203120231628418,\n   'z_spacing': 2.5}},\n {'case_id': 'case_00066',\n  'age_at_nephrectomy': 57,\n  'gender': 'male',\n  'body_mass_index': 35.34,\n  'comorbidities': {'myocardial_infarction': False,\n   'congestive_heart_failure': False,\n   'peripheral_vascular_disease': False,\n   'cerebrovascular_disease': False,\n   'dementia': False,\n   'copd': False,\n   'connective_tissue_disease': False,\n   'peptic_ulcer_disease': False,\n   'uncomplicated_diabetes_mellitus': True,\n   'diabetes_mellitus_with_end_organ_damage': False,\n   'chronic_kidney_disease': False,\n   'hemiplegia_from_stroke': False,\n   'leukemia': False,\n   'malignant_lymphoma': False,\n   'localized_solid_tumor': False,\n   'metastatic_solid_tumor': False,\n   'mild_liver_disease': False,\n   'moderate_to_severe_liver_disease': False,\n   'aids': False},\n  'smoking_history': 'previous_smoker',\n  'age_when_quit_smoking': '39',\n  'pack_years': None,\n  'chewing_tobacco_use': 'never_or_not_in_last_3mo',\n  'alcohol_use': 'never_or_not_in_last_3mo',\n  'intraoperative_complications': {'blood_transfusion': False,\n   'injury_to_surrounding_organ': False,\n   'cardiac_event': False},\n  'hospitalization': 7,\n  'ischemia_time': 'not_applicable',\n  'radiographic_size': 4.9,\n  'pathologic_size': 4.0,\n  'malignant': True,\n  'pathology_t_stage': '3',\n  'pathology_n_stage': 'X',\n  'pathology_m_stage': 'X',\n  'tumor_histologic_subtype': 'clear_cell_rcc',\n  'tumor_necrosis': True,\n  'tumor_isup_grade': 2,\n  'clavien_surgical_complications': '0',\n  'er_visit': False,\n  'readmission': False,\n  'estimated_blood_loss': None,\n  'surgery_type': 'robotic',\n  'surgical_procedure': 'radical_nephrectomy',\n  'surgical_approach': 'Transperitoneal',\n  'operative_time': 269,\n  'cytoreductive': False,\n  'positive_resection_margins': True,\n  'last_preop_egfr': {'value': 62.0, 'days_before_nephrectomy': 20},\n  'first_postop_egfr': {'value': 42.0, 'days_before_nephrectomy': 114},\n  'last_postop_egfr': {'value': 44.0, 'days_before_nephrectomy': 1013},\n  'vital_status': 'censored',\n  'vital_days_after_surgery': 1013,\n  'voxel_spacing': {'x_spacing': 0.8632810115814209,\n   'y_spacing': 0.8632810115814209,\n   'z_spacing': 1.25}},\n {'case_id': 'case_00067',\n  'age_at_nephrectomy': 56,\n  'gender': 'female',\n  'body_mass_index': 34.01,\n  'comorbidities': {'myocardial_infarction': False,\n   'congestive_heart_failure': False,\n   'peripheral_vascular_disease': False,\n   'cerebrovascular_disease': False,\n   'dementia': False,\n   'copd': False,\n   'connective_tissue_disease': False,\n   'peptic_ulcer_disease': False,\n   'uncomplicated_diabetes_mellitus': False,\n   'diabetes_mellitus_with_end_organ_damage': False,\n   'chronic_kidney_disease': False,\n   'hemiplegia_from_stroke': False,\n   'leukemia': False,\n   'malignant_lymphoma': False,\n   'localized_solid_tumor': False,\n   'metastatic_solid_tumor': False,\n   'mild_liver_disease': False,\n   'moderate_to_severe_liver_disease': False,\n   'aids': False},\n  'smoking_history': 'never_smoked',\n  'age_when_quit_smoking': 'not_applicable',\n  'pack_years': 0,\n  'chewing_tobacco_use': 'never_or_not_in_last_3mo',\n  'alcohol_use': 'two_or_less_daily',\n  'intraoperative_complications': {'blood_transfusion': False,\n   'injury_to_surrounding_organ': False,\n   'cardiac_event': False},\n  'hospitalization': 4,\n  'ischemia_time': 'not_applicable',\n  'radiographic_size': 13.9,\n  'pathologic_size': 22.5,\n  'malignant': True,\n  'pathology_t_stage': '3',\n  'pathology_n_stage': '0',\n  'pathology_m_stage': '1',\n  'tumor_histologic_subtype': 'clear_cell_rcc',\n  'tumor_necrosis': False,\n  'tumor_isup_grade': 3,\n  'clavien_surgical_complications': '0',\n  'er_visit': False,\n  'readmission': False,\n  'estimated_blood_loss': 500,\n  'surgery_type': 'open',\n  'surgical_procedure': 'radical_nephrectomy',\n  'surgical_approach': 'Transperitoneal',\n  'operative_time': 299,\n  'cytoreductive': True,\n  'positive_resection_margins': False,\n  'last_preop_egfr': {'value': 65.0, 'days_before_nephrectomy': 5},\n  'first_postop_egfr': {'value': 48.0, 'days_before_nephrectomy': 154},\n  'last_postop_egfr': {'value': 71.0, 'days_before_nephrectomy': 2050},\n  'vital_status': 'censored',\n  'vital_days_after_surgery': 2298,\n  'voxel_spacing': {'x_spacing': 0.76171875,\n   'y_spacing': 0.76171875,\n   'z_spacing': 1.0}},\n {'case_id': 'case_00068',\n  'age_at_nephrectomy': 52,\n  'gender': 'male',\n  'body_mass_index': 31.7,\n  'comorbidities': {'myocardial_infarction': False,\n   'congestive_heart_failure': False,\n   'peripheral_vascular_disease': False,\n   'cerebrovascular_disease': False,\n   'dementia': False,\n   'copd': False,\n   'connective_tissue_disease': False,\n   'peptic_ulcer_disease': False,\n   'uncomplicated_diabetes_mellitus': False,\n   'diabetes_mellitus_with_end_organ_damage': False,\n   'chronic_kidney_disease': False,\n   'hemiplegia_from_stroke': False,\n   'leukemia': False,\n   'malignant_lymphoma': False,\n   'localized_solid_tumor': False,\n   'metastatic_solid_tumor': False,\n   'mild_liver_disease': False,\n   'moderate_to_severe_liver_disease': False,\n   'aids': False},\n  'smoking_history': 'never_smoked',\n  'age_when_quit_smoking': 'not_applicable',\n  'pack_years': 0,\n  'chewing_tobacco_use': 'never_or_not_in_last_3mo',\n  'alcohol_use': 'two_or_less_daily',\n  'intraoperative_complications': {'blood_transfusion': False,\n   'injury_to_surrounding_organ': False,\n   'cardiac_event': False},\n  'hospitalization': 1,\n  'ischemia_time': 25,\n  'radiographic_size': 3.3,\n  'pathologic_size': 5.1,\n  'malignant': True,\n  'pathology_t_stage': '1b',\n  'pathology_n_stage': 'X',\n  'pathology_m_stage': 'X',\n  'tumor_histologic_subtype': 'papillary',\n  'tumor_necrosis': False,\n  'tumor_isup_grade': 1,\n  'clavien_surgical_complications': '0',\n  'er_visit': False,\n  'readmission': False,\n  'estimated_blood_loss': 500,\n  'surgery_type': 'robotic',\n  'surgical_procedure': 'partial_nephrectomy',\n  'surgical_approach': 'Transperitoneal',\n  'operative_time': 347,\n  'cytoreductive': False,\n  'positive_resection_margins': False,\n  'last_preop_egfr': {'value': 48.0, 'days_before_nephrectomy': 9},\n  'first_postop_egfr': {'value': 36.0, 'days_before_nephrectomy': 1133},\n  'last_postop_egfr': {'value': 36.0, 'days_before_nephrectomy': 1133},\n  'vital_status': 'censored',\n  'vital_days_after_surgery': 1176,\n  'voxel_spacing': {'x_spacing': 0.703125,\n   'y_spacing': 0.703125,\n   'z_spacing': 0.5}},\n {'case_id': 'case_00069',\n  'age_at_nephrectomy': 67,\n  'gender': 'male',\n  'body_mass_index': 28.3,\n  'comorbidities': {'myocardial_infarction': True,\n   'congestive_heart_failure': False,\n   'peripheral_vascular_disease': True,\n   'cerebrovascular_disease': False,\n   'dementia': False,\n   'copd': False,\n   'connective_tissue_disease': False,\n   'peptic_ulcer_disease': False,\n   'uncomplicated_diabetes_mellitus': False,\n   'diabetes_mellitus_with_end_organ_damage': False,\n   'chronic_kidney_disease': False,\n   'hemiplegia_from_stroke': False,\n   'leukemia': False,\n   'malignant_lymphoma': False,\n   'localized_solid_tumor': False,\n   'metastatic_solid_tumor': False,\n   'mild_liver_disease': False,\n   'moderate_to_severe_liver_disease': False,\n   'aids': False},\n  'smoking_history': 'previous_smoker',\n  'age_when_quit_smoking': '39',\n  'pack_years': None,\n  'chewing_tobacco_use': 'never_or_not_in_last_3mo',\n  'alcohol_use': 'more_than_two_daily',\n  'intraoperative_complications': {'blood_transfusion': False,\n   'injury_to_surrounding_organ': False,\n   'cardiac_event': False},\n  'hospitalization': 2,\n  'ischemia_time': 'not_applicable',\n  'radiographic_size': 4.7,\n  'pathologic_size': 3.6,\n  'malignant': True,\n  'pathology_t_stage': '1a',\n  'pathology_n_stage': 'X',\n  'pathology_m_stage': 'X',\n  'tumor_histologic_subtype': 'clear_cell_rcc',\n  'tumor_necrosis': False,\n  'tumor_isup_grade': 2,\n  'clavien_surgical_complications': '0',\n  'er_visit': False,\n  'readmission': False,\n  'estimated_blood_loss': 200,\n  'surgery_type': 'robotic',\n  'surgical_procedure': 'radical_nephrectomy',\n  'surgical_approach': 'Transperitoneal',\n  'operative_time': 313,\n  'cytoreductive': False,\n  'positive_resection_margins': False,\n  'last_preop_egfr': {'value': None, 'days_before_nephrectomy': None},\n  'first_postop_egfr': {'value': None, 'days_before_nephrectomy': None},\n  'last_postop_egfr': {'value': None, 'days_before_nephrectomy': None},\n  'vital_status': 'censored',\n  'vital_days_after_surgery': 420,\n  'voxel_spacing': {'x_spacing': 0.68359375,\n   'y_spacing': 0.68359375,\n   'z_spacing': 5.0}},\n {'case_id': 'case_00070',\n  'age_at_nephrectomy': 55,\n  'gender': 'male',\n  'body_mass_index': 28.43,\n  'comorbidities': {'myocardial_infarction': False,\n   'congestive_heart_failure': False,\n   'peripheral_vascular_disease': False,\n   'cerebrovascular_disease': False,\n   'dementia': False,\n   'copd': False,\n   'connective_tissue_disease': False,\n   'peptic_ulcer_disease': False,\n   'uncomplicated_diabetes_mellitus': False,\n   'diabetes_mellitus_with_end_organ_damage': False,\n   'chronic_kidney_disease': False,\n   'hemiplegia_from_stroke': False,\n   'leukemia': False,\n   'malignant_lymphoma': False,\n   'localized_solid_tumor': False,\n   'metastatic_solid_tumor': True,\n   'mild_liver_disease': False,\n   'moderate_to_severe_liver_disease': False,\n   'aids': False},\n  'smoking_history': 'previous_smoker',\n  'age_when_quit_smoking': '24',\n  'pack_years': '7',\n  'chewing_tobacco_use': 'never_or_not_in_last_3mo',\n  'alcohol_use': 'never_or_not_in_last_3mo',\n  'intraoperative_complications': {'blood_transfusion': False,\n   'injury_to_surrounding_organ': False,\n   'cardiac_event': False},\n  'hospitalization': 5,\n  'ischemia_time': 'not_applicable',\n  'radiographic_size': 9.8,\n  'pathologic_size': 12.9,\n  'malignant': True,\n  'pathology_t_stage': '3',\n  'pathology_n_stage': '1',\n  'pathology_m_stage': '1',\n  'tumor_histologic_subtype': 'clear_cell_rcc',\n  'tumor_necrosis': True,\n  'tumor_isup_grade': 3,\n  'clavien_surgical_complications': '0',\n  'er_visit': False,\n  'readmission': False,\n  'estimated_blood_loss': 200,\n  'surgery_type': 'open',\n  'surgical_procedure': 'radical_nephrectomy',\n  'surgical_approach': 'Transperitoneal',\n  'operative_time': 309,\n  'cytoreductive': True,\n  'positive_resection_margins': False,\n  'last_preop_egfr': {'value': 70.0, 'days_before_nephrectomy': 26},\n  'first_postop_egfr': {'value': 46.0, 'days_before_nephrectomy': 93},\n  'last_postop_egfr': {'value': 46.0, 'days_before_nephrectomy': 93},\n  'vital_status': 'dead',\n  'vital_days_after_surgery': 203,\n  'voxel_spacing': {'x_spacing': 0.732421875,\n   'y_spacing': 0.732421875,\n   'z_spacing': 5.0}},\n {'case_id': 'case_00071',\n  'age_at_nephrectomy': 33,\n  'gender': 'female',\n  'body_mass_index': 26.38,\n  'comorbidities': {'myocardial_infarction': False,\n   'congestive_heart_failure': False,\n   'peripheral_vascular_disease': False,\n   'cerebrovascular_disease': False,\n   'dementia': False,\n   'copd': False,\n   'connective_tissue_disease': False,\n   'peptic_ulcer_disease': False,\n   'uncomplicated_diabetes_mellitus': False,\n   'diabetes_mellitus_with_end_organ_damage': False,\n   'chronic_kidney_disease': False,\n   'hemiplegia_from_stroke': False,\n   'leukemia': False,\n   'malignant_lymphoma': False,\n   'localized_solid_tumor': False,\n   'metastatic_solid_tumor': False,\n   'mild_liver_disease': False,\n   'moderate_to_severe_liver_disease': False,\n   'aids': False},\n  'smoking_history': 'current_smoker',\n  'age_when_quit_smoking': 'not_applicable',\n  'pack_years': None,\n  'chewing_tobacco_use': 'never_or_not_in_last_3mo',\n  'alcohol_use': 'never_or_not_in_last_3mo',\n  'intraoperative_complications': {'blood_transfusion': False,\n   'injury_to_surrounding_organ': False,\n   'cardiac_event': False},\n  'hospitalization': 3,\n  'ischemia_time': 27,\n  'radiographic_size': 2.4,\n  'pathologic_size': 2.5,\n  'malignant': True,\n  'pathology_t_stage': '1a',\n  'pathology_n_stage': 'X',\n  'pathology_m_stage': 'X',\n  'tumor_histologic_subtype': 'clear_cell_rcc',\n  'tumor_necrosis': False,\n  'tumor_isup_grade': 2,\n  'clavien_surgical_complications': '0',\n  'er_visit': False,\n  'readmission': False,\n  'estimated_blood_loss': 20,\n  'surgery_type': 'robotic',\n  'surgical_procedure': 'partial_nephrectomy',\n  'surgical_approach': 'Transperitoneal',\n  'operative_time': 266,\n  'cytoreductive': False,\n  'positive_resection_margins': False,\n  'last_preop_egfr': {'value': '>=90', 'days_before_nephrectomy': 48},\n  'first_postop_egfr': {'value': None, 'days_before_nephrectomy': None},\n  'last_postop_egfr': {'value': None, 'days_before_nephrectomy': None},\n  'vital_status': 'censored',\n  'vital_days_after_surgery': 29,\n  'voxel_spacing': {'x_spacing': 0.703125,\n   'y_spacing': 0.703125,\n   'z_spacing': 0.5}},\n {'case_id': 'case_00072',\n  'age_at_nephrectomy': 38,\n  'gender': 'female',\n  'body_mass_index': 29.83,\n  'comorbidities': {'myocardial_infarction': False,\n   'congestive_heart_failure': False,\n   'peripheral_vascular_disease': False,\n   'cerebrovascular_disease': False,\n   'dementia': False,\n   'copd': False,\n   'connective_tissue_disease': False,\n   'peptic_ulcer_disease': False,\n   'uncomplicated_diabetes_mellitus': False,\n   'diabetes_mellitus_with_end_organ_damage': False,\n   'chronic_kidney_disease': False,\n   'hemiplegia_from_stroke': False,\n   'leukemia': False,\n   'malignant_lymphoma': False,\n   'localized_solid_tumor': False,\n   'metastatic_solid_tumor': False,\n   'mild_liver_disease': False,\n   'moderate_to_severe_liver_disease': False,\n   'aids': False},\n  'smoking_history': 'current_smoker',\n  'age_when_quit_smoking': 'not_applicable',\n  'pack_years': None,\n  'chewing_tobacco_use': 'never_or_not_in_last_3mo',\n  'alcohol_use': 'never_or_not_in_last_3mo',\n  'intraoperative_complications': {'blood_transfusion': False,\n   'injury_to_surrounding_organ': False,\n   'cardiac_event': False},\n  'hospitalization': 4,\n  'ischemia_time': 20,\n  'radiographic_size': 2.0,\n  'pathologic_size': 1.5,\n  'malignant': True,\n  'pathology_t_stage': '1a',\n  'pathology_n_stage': 'X',\n  'pathology_m_stage': '0',\n  'tumor_histologic_subtype': 'clear_cell_rcc',\n  'tumor_necrosis': False,\n  'tumor_isup_grade': 2,\n  'clavien_surgical_complications': '2',\n  'er_visit': False,\n  'readmission': True,\n  'estimated_blood_loss': 200,\n  'surgery_type': 'robotic',\n  'surgical_procedure': 'partial_nephrectomy',\n  'surgical_approach': 'Transperitoneal',\n  'operative_time': 300,\n  'cytoreductive': False,\n  'positive_resection_margins': False,\n  'last_preop_egfr': {'value': '>=90', 'days_before_nephrectomy': 48},\n  'first_postop_egfr': {'value': None, 'days_before_nephrectomy': None},\n  'last_postop_egfr': {'value': None, 'days_before_nephrectomy': None},\n  'vital_status': 'censored',\n  'vital_days_after_surgery': 113,\n  'voxel_spacing': {'x_spacing': 0.6640625,\n   'y_spacing': 0.6640625,\n   'z_spacing': 2.5}},\n {'case_id': 'case_00073',\n  'age_at_nephrectomy': 55,\n  'gender': 'male',\n  'body_mass_index': 28.13,\n  'comorbidities': {'myocardial_infarction': False,\n   'congestive_heart_failure': False,\n   'peripheral_vascular_disease': False,\n   'cerebrovascular_disease': False,\n   'dementia': False,\n   'copd': False,\n   'connective_tissue_disease': False,\n   'peptic_ulcer_disease': False,\n   'uncomplicated_diabetes_mellitus': False,\n   'diabetes_mellitus_with_end_organ_damage': False,\n   'chronic_kidney_disease': False,\n   'hemiplegia_from_stroke': False,\n   'leukemia': False,\n   'malignant_lymphoma': False,\n   'localized_solid_tumor': False,\n   'metastatic_solid_tumor': False,\n   'mild_liver_disease': False,\n   'moderate_to_severe_liver_disease': False,\n   'aids': False},\n  'smoking_history': 'never_smoked',\n  'age_when_quit_smoking': 'not_applicable',\n  'pack_years': 0,\n  'chewing_tobacco_use': 'never_or_not_in_last_3mo',\n  'alcohol_use': 'never_or_not_in_last_3mo',\n  'intraoperative_complications': {'blood_transfusion': False,\n   'injury_to_surrounding_organ': False,\n   'cardiac_event': False},\n  'hospitalization': 3,\n  'ischemia_time': 48,\n  'radiographic_size': 11.4,\n  'pathologic_size': 10.2,\n  'malignant': True,\n  'pathology_t_stage': '3',\n  'pathology_n_stage': '0',\n  'pathology_m_stage': '0',\n  'tumor_histologic_subtype': 'chromophobe',\n  'tumor_necrosis': False,\n  'tumor_isup_grade': None,\n  'clavien_surgical_complications': '3b',\n  'er_visit': False,\n  'readmission': True,\n  'estimated_blood_loss': 800,\n  'surgery_type': 'robotic',\n  'surgical_procedure': 'partial_nephrectomy',\n  'surgical_approach': 'Transperitoneal',\n  'operative_time': 269,\n  'cytoreductive': False,\n  'positive_resection_margins': False,\n  'last_preop_egfr': {'value': 78.0, 'days_before_nephrectomy': 15},\n  'first_postop_egfr': {'value': 61.0, 'days_before_nephrectomy': 81},\n  'last_postop_egfr': {'value': 57.0, 'days_before_nephrectomy': 784},\n  'vital_status': 'censored',\n  'vital_days_after_surgery': 838,\n  'voxel_spacing': {'x_spacing': 0.859375,\n   'y_spacing': 0.859375,\n   'z_spacing': 5.0}},\n {'case_id': 'case_00074',\n  'age_at_nephrectomy': 69,\n  'gender': 'female',\n  'body_mass_index': 18.92,\n  'comorbidities': {'myocardial_infarction': False,\n   'congestive_heart_failure': False,\n   'peripheral_vascular_disease': False,\n   'cerebrovascular_disease': False,\n   'dementia': False,\n   'copd': False,\n   'connective_tissue_disease': False,\n   'peptic_ulcer_disease': False,\n   'uncomplicated_diabetes_mellitus': False,\n   'diabetes_mellitus_with_end_organ_damage': False,\n   'chronic_kidney_disease': False,\n   'hemiplegia_from_stroke': False,\n   'leukemia': False,\n   'malignant_lymphoma': False,\n   'localized_solid_tumor': False,\n   'metastatic_solid_tumor': False,\n   'mild_liver_disease': False,\n   'moderate_to_severe_liver_disease': False,\n   'aids': False},\n  'smoking_history': 'current_smoker',\n  'age_when_quit_smoking': 'not_applicable',\n  'pack_years': None,\n  'chewing_tobacco_use': 'never_or_not_in_last_3mo',\n  'alcohol_use': 'never_or_not_in_last_3mo',\n  'intraoperative_complications': {'blood_transfusion': False,\n   'injury_to_surrounding_organ': False,\n   'cardiac_event': False},\n  'hospitalization': 3,\n  'ischemia_time': 'not_applicable',\n  'radiographic_size': 3.2,\n  'pathologic_size': 3.5,\n  'malignant': True,\n  'pathology_t_stage': '3',\n  'pathology_n_stage': 'X',\n  'pathology_m_stage': 'X',\n  'tumor_histologic_subtype': 'clear_cell_rcc',\n  'tumor_necrosis': True,\n  'tumor_isup_grade': 3,\n  'clavien_surgical_complications': '0',\n  'er_visit': False,\n  'readmission': False,\n  'estimated_blood_loss': 450,\n  'surgery_type': 'open',\n  'surgical_procedure': 'radical_nephrectomy',\n  'surgical_approach': 'Transperitoneal',\n  'operative_time': 326,\n  'cytoreductive': False,\n  'positive_resection_margins': False,\n  'last_preop_egfr': {'value': None, 'days_before_nephrectomy': None},\n  'first_postop_egfr': {'value': 53.0, 'days_before_nephrectomy': 79},\n  'last_postop_egfr': {'value': 65.0, 'days_before_nephrectomy': 1446},\n  'vital_status': 'censored',\n  'vital_days_after_surgery': 1612,\n  'voxel_spacing': {'x_spacing': 0.6484375,\n   'y_spacing': 0.6484375,\n   'z_spacing': 5.0}},\n {'case_id': 'case_00075',\n  'age_at_nephrectomy': 65,\n  'gender': 'female',\n  'body_mass_index': 24.17,\n  'comorbidities': {'myocardial_infarction': False,\n   'congestive_heart_failure': False,\n   'peripheral_vascular_disease': False,\n   'cerebrovascular_disease': False,\n   'dementia': False,\n   'copd': False,\n   'connective_tissue_disease': False,\n   'peptic_ulcer_disease': False,\n   'uncomplicated_diabetes_mellitus': False,\n   'diabetes_mellitus_with_end_organ_damage': False,\n   'chronic_kidney_disease': False,\n   'hemiplegia_from_stroke': False,\n   'leukemia': False,\n   'malignant_lymphoma': False,\n   'localized_solid_tumor': False,\n   'metastatic_solid_tumor': False,\n   'mild_liver_disease': False,\n   'moderate_to_severe_liver_disease': False,\n   'aids': False},\n  'smoking_history': 'previous_smoker',\n  'age_when_quit_smoking': None,\n  'pack_years': None,\n  'chewing_tobacco_use': 'never_or_not_in_last_3mo',\n  'alcohol_use': 'two_or_less_daily',\n  'intraoperative_complications': {'blood_transfusion': False,\n   'injury_to_surrounding_organ': False,\n   'cardiac_event': False},\n  'hospitalization': 6,\n  'ischemia_time': 0,\n  'radiographic_size': 1.8,\n  'pathologic_size': 1.9,\n  'malignant': True,\n  'pathology_t_stage': '1a',\n  'pathology_n_stage': '0',\n  'pathology_m_stage': '0',\n  'tumor_histologic_subtype': 'clear_cell_rcc',\n  'tumor_necrosis': False,\n  'tumor_isup_grade': 1,\n  'clavien_surgical_complications': '3b',\n  'er_visit': False,\n  'readmission': True,\n  'estimated_blood_loss': 250,\n  'surgery_type': 'robotic',\n  'surgical_procedure': 'partial_nephrectomy',\n  'surgical_approach': 'Retroperitoneal',\n  'operative_time': 292,\n  'cytoreductive': False,\n  'positive_resection_margins': False,\n  'last_preop_egfr': {'value': '>=90', 'days_before_nephrectomy': 44},\n  'first_postop_egfr': {'value': '>=90', 'days_before_nephrectomy': 100},\n  'last_postop_egfr': {'value': 78.0, 'days_before_nephrectomy': 2044},\n  'vital_status': 'censored',\n  'vital_days_after_surgery': 2044,\n  'voxel_spacing': {'x_spacing': 0.70703125,\n   'y_spacing': 0.70703125,\n   'z_spacing': 5.0}},\n {'case_id': 'case_00076',\n  'age_at_nephrectomy': 47,\n  'gender': 'male',\n  'body_mass_index': 24.12,\n  'comorbidities': {'myocardial_infarction': False,\n   'congestive_heart_failure': False,\n   'peripheral_vascular_disease': False,\n   'cerebrovascular_disease': False,\n   'dementia': False,\n   'copd': False,\n   'connective_tissue_disease': False,\n   'peptic_ulcer_disease': False,\n   'uncomplicated_diabetes_mellitus': False,\n   'diabetes_mellitus_with_end_organ_damage': False,\n   'chronic_kidney_disease': False,\n   'hemiplegia_from_stroke': False,\n   'leukemia': False,\n   'malignant_lymphoma': False,\n   'localized_solid_tumor': False,\n   'metastatic_solid_tumor': False,\n   'mild_liver_disease': False,\n   'moderate_to_severe_liver_disease': False,\n   'aids': False},\n  'smoking_history': 'current_smoker',\n  'age_when_quit_smoking': 'not_applicable',\n  'pack_years': '15',\n  'chewing_tobacco_use': 'never_or_not_in_last_3mo',\n  'alcohol_use': 'never_or_not_in_last_3mo',\n  'intraoperative_complications': {'blood_transfusion': False,\n   'injury_to_surrounding_organ': False,\n   'cardiac_event': False},\n  'hospitalization': 4,\n  'ischemia_time': 20,\n  'radiographic_size': 2.1,\n  'pathologic_size': 2.1,\n  'malignant': True,\n  'pathology_t_stage': '1a',\n  'pathology_n_stage': 'X',\n  'pathology_m_stage': 'X',\n  'tumor_histologic_subtype': 'clear_cell_rcc',\n  'tumor_necrosis': None,\n  'tumor_isup_grade': 2,\n  'clavien_surgical_complications': '0',\n  'er_visit': False,\n  'readmission': False,\n  'estimated_blood_loss': 250,\n  'surgery_type': 'robotic',\n  'surgical_procedure': 'partial_nephrectomy',\n  'surgical_approach': 'Transperitoneal',\n  'operative_time': 207,\n  'cytoreductive': False,\n  'positive_resection_margins': False,\n  'last_preop_egfr': {'value': None, 'days_before_nephrectomy': None},\n  'first_postop_egfr': {'value': 77.0, 'days_before_nephrectomy': 442},\n  'last_postop_egfr': {'value': 77.0, 'days_before_nephrectomy': 442},\n  'vital_status': 'censored',\n  'vital_days_after_surgery': 442,\n  'voxel_spacing': {'x_spacing': 0.677734375,\n   'y_spacing': 0.677734375,\n   'z_spacing': 5.0}},\n {'case_id': 'case_00077',\n  'age_at_nephrectomy': 61,\n  'gender': 'female',\n  'body_mass_index': 24.53,\n  'comorbidities': {'myocardial_infarction': False,\n   'congestive_heart_failure': False,\n   'peripheral_vascular_disease': False,\n   'cerebrovascular_disease': False,\n   'dementia': False,\n   'copd': False,\n   'connective_tissue_disease': False,\n   'peptic_ulcer_disease': False,\n   'uncomplicated_diabetes_mellitus': False,\n   'diabetes_mellitus_with_end_organ_damage': False,\n   'chronic_kidney_disease': False,\n   'hemiplegia_from_stroke': False,\n   'leukemia': False,\n   'malignant_lymphoma': False,\n   'localized_solid_tumor': False,\n   'metastatic_solid_tumor': False,\n   'mild_liver_disease': False,\n   'moderate_to_severe_liver_disease': False,\n   'aids': False},\n  'smoking_history': 'previous_smoker',\n  'age_when_quit_smoking': '26',\n  'pack_years': '6',\n  'chewing_tobacco_use': 'never_or_not_in_last_3mo',\n  'alcohol_use': 'never_or_not_in_last_3mo',\n  'intraoperative_complications': {'blood_transfusion': False,\n   'injury_to_surrounding_organ': False,\n   'cardiac_event': False},\n  'hospitalization': 2,\n  'ischemia_time': 16,\n  'radiographic_size': 1.9,\n  'pathologic_size': 2.0,\n  'malignant': False,\n  'pathology_t_stage': '0',\n  'pathology_n_stage': 'X',\n  'pathology_m_stage': 'X',\n  'tumor_histologic_subtype': 'oncocytoma',\n  'tumor_necrosis': None,\n  'tumor_isup_grade': None,\n  'clavien_surgical_complications': '3a',\n  'er_visit': False,\n  'readmission': True,\n  'estimated_blood_loss': 250,\n  'surgery_type': 'robotic',\n  'surgical_procedure': 'partial_nephrectomy',\n  'surgical_approach': 'Transperitoneal',\n  'operative_time': 208,\n  'cytoreductive': False,\n  'positive_resection_margins': False,\n  'last_preop_egfr': {'value': 77.0, 'days_before_nephrectomy': 59},\n  'first_postop_egfr': {'value': 64.0, 'days_before_nephrectomy': 154},\n  'last_postop_egfr': {'value': 64.0, 'days_before_nephrectomy': 154},\n  'vital_status': 'censored',\n  'vital_days_after_surgery': 570,\n  'voxel_spacing': {'x_spacing': 0.705078125,\n   'y_spacing': 0.705078125,\n   'z_spacing': 5.0}},\n {'case_id': 'case_00078',\n  'age_at_nephrectomy': 69,\n  'gender': 'male',\n  'body_mass_index': 35.2,\n  'comorbidities': {'myocardial_infarction': False,\n   'congestive_heart_failure': True,\n   'peripheral_vascular_disease': False,\n   'cerebrovascular_disease': False,\n   'dementia': False,\n   'copd': False,\n   'connective_tissue_disease': False,\n   'peptic_ulcer_disease': False,\n   'uncomplicated_diabetes_mellitus': False,\n   'diabetes_mellitus_with_end_organ_damage': False,\n   'chronic_kidney_disease': False,\n   'hemiplegia_from_stroke': False,\n   'leukemia': False,\n   'malignant_lymphoma': False,\n   'localized_solid_tumor': False,\n   'metastatic_solid_tumor': False,\n   'mild_liver_disease': False,\n   'moderate_to_severe_liver_disease': False,\n   'aids': False},\n  'smoking_history': 'never_smoked',\n  'age_when_quit_smoking': 'not_applicable',\n  'pack_years': 0,\n  'chewing_tobacco_use': 'never_or_not_in_last_3mo',\n  'alcohol_use': 'two_or_less_daily',\n  'intraoperative_complications': {'blood_transfusion': False,\n   'injury_to_surrounding_organ': False,\n   'cardiac_event': False},\n  'hospitalization': 4,\n  'ischemia_time': 'not_applicable',\n  'radiographic_size': 13.2,\n  'pathologic_size': 10.8,\n  'malignant': True,\n  'pathology_t_stage': '3',\n  'pathology_n_stage': '0',\n  'pathology_m_stage': '0',\n  'tumor_histologic_subtype': 'clear_cell_rcc',\n  'tumor_necrosis': False,\n  'tumor_isup_grade': 2,\n  'clavien_surgical_complications': '0',\n  'er_visit': False,\n  'readmission': False,\n  'estimated_blood_loss': 300,\n  'surgery_type': 'open',\n  'surgical_procedure': 'radical_nephrectomy',\n  'surgical_approach': 'Retroperitoneal',\n  'operative_time': 291,\n  'cytoreductive': False,\n  'positive_resection_margins': False,\n  'last_preop_egfr': {'value': '>=90', 'days_before_nephrectomy': 2},\n  'first_postop_egfr': {'value': 55.0, 'days_before_nephrectomy': 78},\n  'last_postop_egfr': {'value': 59.0, 'days_before_nephrectomy': 1755},\n  'vital_status': 'censored',\n  'vital_days_after_surgery': 1902,\n  'voxel_spacing': {'x_spacing': 0.962890625,\n   'y_spacing': 0.962890625,\n   'z_spacing': 1.0}},\n {'case_id': 'case_00079',\n  'age_at_nephrectomy': 73,\n  'gender': 'female',\n  'body_mass_index': 21.98,\n  'comorbidities': {'myocardial_infarction': False,\n   'congestive_heart_failure': False,\n   'peripheral_vascular_disease': True,\n   'cerebrovascular_disease': False,\n   'dementia': False,\n   'copd': False,\n   'connective_tissue_disease': False,\n   'peptic_ulcer_disease': False,\n   'uncomplicated_diabetes_mellitus': False,\n   'diabetes_mellitus_with_end_organ_damage': False,\n   'chronic_kidney_disease': False,\n   'hemiplegia_from_stroke': False,\n   'leukemia': False,\n   'malignant_lymphoma': False,\n   'localized_solid_tumor': False,\n   'metastatic_solid_tumor': False,\n   'mild_liver_disease': False,\n   'moderate_to_severe_liver_disease': False,\n   'aids': False},\n  'smoking_history': 'previous_smoker',\n  'age_when_quit_smoking': '73',\n  'pack_years': None,\n  'chewing_tobacco_use': 'never_or_not_in_last_3mo',\n  'alcohol_use': 'never_or_not_in_last_3mo',\n  'intraoperative_complications': {'blood_transfusion': False,\n   'injury_to_surrounding_organ': False,\n   'cardiac_event': False},\n  'hospitalization': 4,\n  'ischemia_time': 'not_applicable',\n  'radiographic_size': 9.4,\n  'pathologic_size': 9.0,\n  'malignant': True,\n  'pathology_t_stage': '3',\n  'pathology_n_stage': '0',\n  'pathology_m_stage': '0',\n  'tumor_histologic_subtype': 'clear_cell_rcc',\n  'tumor_necrosis': True,\n  'tumor_isup_grade': 4,\n  'clavien_surgical_complications': '0',\n  'er_visit': False,\n  'readmission': False,\n  'estimated_blood_loss': 100,\n  'surgery_type': 'laparoscopic',\n  'surgical_procedure': 'radical_nephrectomy',\n  'surgical_approach': 'Transperitoneal',\n  'operative_time': 430,\n  'cytoreductive': False,\n  'positive_resection_margins': False,\n  'last_preop_egfr': {'value': 55.0, 'days_before_nephrectomy': 7},\n  'first_postop_egfr': {'value': 43.0, 'days_before_nephrectomy': 77},\n  'last_postop_egfr': {'value': 49.0, 'days_before_nephrectomy': 643},\n  'vital_status': 'dead',\n  'vital_days_after_surgery': 688,\n  'voxel_spacing': {'x_spacing': 0.64453125,\n   'y_spacing': 0.64453125,\n   'z_spacing': 5.0}},\n {'case_id': 'case_00080',\n  'age_at_nephrectomy': 36,\n  'gender': 'male',\n  'body_mass_index': 29.86,\n  'comorbidities': {'myocardial_infarction': False,\n   'congestive_heart_failure': False,\n   'peripheral_vascular_disease': False,\n   'cerebrovascular_disease': False,\n   'dementia': False,\n   'copd': False,\n   'connective_tissue_disease': False,\n   'peptic_ulcer_disease': False,\n   'uncomplicated_diabetes_mellitus': False,\n   'diabetes_mellitus_with_end_organ_damage': False,\n   'chronic_kidney_disease': False,\n   'hemiplegia_from_stroke': False,\n   'leukemia': False,\n   'malignant_lymphoma': False,\n   'localized_solid_tumor': False,\n   'metastatic_solid_tumor': False,\n   'mild_liver_disease': False,\n   'moderate_to_severe_liver_disease': False,\n   'aids': False},\n  'smoking_history': 'never_smoked',\n  'age_when_quit_smoking': 'not_applicable',\n  'pack_years': 0,\n  'chewing_tobacco_use': 'never_or_not_in_last_3mo',\n  'alcohol_use': 'two_or_less_daily',\n  'intraoperative_complications': {'blood_transfusion': False,\n   'injury_to_surrounding_organ': False,\n   'cardiac_event': False},\n  'hospitalization': 5,\n  'ischemia_time': 0,\n  'radiographic_size': 4.0,\n  'pathologic_size': 4.5,\n  'malignant': True,\n  'pathology_t_stage': '3',\n  'pathology_n_stage': 'X',\n  'pathology_m_stage': 'X',\n  'tumor_histologic_subtype': 'chromophobe',\n  'tumor_necrosis': False,\n  'tumor_isup_grade': None,\n  'clavien_surgical_complications': '0',\n  'er_visit': False,\n  'readmission': False,\n  'estimated_blood_loss': 1300,\n  'surgery_type': 'open',\n  'surgical_procedure': 'partial_nephrectomy',\n  'surgical_approach': 'Transperitoneal',\n  'operative_time': 202,\n  'cytoreductive': False,\n  'positive_resection_margins': False,\n  'last_preop_egfr': {'value': 77.0, 'days_before_nephrectomy': 6},\n  'first_postop_egfr': {'value': 57.0, 'days_before_nephrectomy': 196},\n  'last_postop_egfr': {'value': 59.0, 'days_before_nephrectomy': 658},\n  'vital_status': 'censored',\n  'vital_days_after_surgery': 791,\n  'voxel_spacing': {'x_spacing': 0.72265625,\n   'y_spacing': 0.72265625,\n   'z_spacing': 5.0}},\n {'case_id': 'case_00081',\n  'age_at_nephrectomy': 55,\n  'gender': 'male',\n  'body_mass_index': 41.23,\n  'comorbidities': {'myocardial_infarction': False,\n   'congestive_heart_failure': False,\n   'peripheral_vascular_disease': False,\n   'cerebrovascular_disease': False,\n   'dementia': False,\n   'copd': True,\n   'connective_tissue_disease': False,\n   'peptic_ulcer_disease': False,\n   'uncomplicated_diabetes_mellitus': False,\n   'diabetes_mellitus_with_end_organ_damage': False,\n   'chronic_kidney_disease': False,\n   'hemiplegia_from_stroke': False,\n   'leukemia': False,\n   'malignant_lymphoma': False,\n   'localized_solid_tumor': False,\n   'metastatic_solid_tumor': True,\n   'mild_liver_disease': False,\n   'moderate_to_severe_liver_disease': False,\n   'aids': False},\n  'smoking_history': 'previous_smoker',\n  'age_when_quit_smoking': '53',\n  'pack_years': None,\n  'chewing_tobacco_use': 'never_or_not_in_last_3mo',\n  'alcohol_use': 'more_than_two_daily',\n  'intraoperative_complications': {'blood_transfusion': False,\n   'injury_to_surrounding_organ': False,\n   'cardiac_event': False},\n  'hospitalization': 4,\n  'ischemia_time': 17,\n  'radiographic_size': 2.0,\n  'pathologic_size': 3.7,\n  'malignant': True,\n  'pathology_t_stage': '1a',\n  'pathology_n_stage': '0',\n  'pathology_m_stage': '0',\n  'tumor_histologic_subtype': 'clear_cell_rcc',\n  'tumor_necrosis': False,\n  'tumor_isup_grade': 3,\n  'clavien_surgical_complications': '0',\n  'er_visit': False,\n  'readmission': False,\n  'estimated_blood_loss': 50,\n  'surgery_type': 'robotic',\n  'surgical_procedure': 'partial_nephrectomy',\n  'surgical_approach': 'Transperitoneal',\n  'operative_time': 218,\n  'cytoreductive': False,\n  'positive_resection_margins': True,\n  'last_preop_egfr': {'value': None, 'days_before_nephrectomy': None},\n  'first_postop_egfr': {'value': None, 'days_before_nephrectomy': None},\n  'last_postop_egfr': {'value': None, 'days_before_nephrectomy': None},\n  'vital_status': 'censored',\n  'vital_days_after_surgery': 45,\n  'voxel_spacing': {'x_spacing': 0.984000027179718,\n   'y_spacing': 0.984000027179718,\n   'z_spacing': 3.0}},\n {'case_id': 'case_00082',\n  'age_at_nephrectomy': 77,\n  'gender': 'female',\n  'body_mass_index': 25.13,\n  'comorbidities': {'myocardial_infarction': False,\n   'congestive_heart_failure': False,\n   'peripheral_vascular_disease': False,\n   'cerebrovascular_disease': False,\n   'dementia': False,\n   'copd': False,\n   'connective_tissue_disease': False,\n   'peptic_ulcer_disease': False,\n   'uncomplicated_diabetes_mellitus': False,\n   'diabetes_mellitus_with_end_organ_damage': False,\n   'chronic_kidney_disease': False,\n   'hemiplegia_from_stroke': False,\n   'leukemia': False,\n   'malignant_lymphoma': False,\n   'localized_solid_tumor': True,\n   'metastatic_solid_tumor': False,\n   'mild_liver_disease': False,\n   'moderate_to_severe_liver_disease': False,\n   'aids': False},\n  'smoking_history': 'never_smoked',\n  'age_when_quit_smoking': 'not_applicable',\n  'pack_years': 0,\n  'chewing_tobacco_use': 'never_or_not_in_last_3mo',\n  'alcohol_use': 'two_or_less_daily',\n  'intraoperative_complications': {'blood_transfusion': False,\n   'injury_to_surrounding_organ': False,\n   'cardiac_event': False},\n  'hospitalization': 2,\n  'ischemia_time': 12,\n  'radiographic_size': 2.2,\n  'pathologic_size': 2.2,\n  'malignant': False,\n  'pathology_t_stage': '0',\n  'pathology_n_stage': '0',\n  'pathology_m_stage': '0',\n  'tumor_histologic_subtype': 'oncocytoma',\n  'tumor_necrosis': None,\n  'tumor_isup_grade': None,\n  'clavien_surgical_complications': '0',\n  'er_visit': False,\n  'readmission': False,\n  'estimated_blood_loss': 30,\n  'surgery_type': 'robotic',\n  'surgical_procedure': 'partial_nephrectomy',\n  'surgical_approach': 'Transperitoneal',\n  'operative_time': 124,\n  'cytoreductive': False,\n  'positive_resection_margins': True,\n  'last_preop_egfr': {'value': 78.0, 'days_before_nephrectomy': 8},\n  'first_postop_egfr': {'value': 72.0, 'days_before_nephrectomy': 100},\n  'last_postop_egfr': {'value': 73.0, 'days_before_nephrectomy': 2029},\n  'vital_status': 'censored',\n  'vital_days_after_surgery': 2038,\n  'voxel_spacing': {'x_spacing': 0.779296875,\n   'y_spacing': 0.779296875,\n   'z_spacing': 3.0}},\n {'case_id': 'case_00083',\n  'age_at_nephrectomy': 63,\n  'gender': 'male',\n  'body_mass_index': 41.33,\n  'comorbidities': {'myocardial_infarction': False,\n   'congestive_heart_failure': False,\n   'peripheral_vascular_disease': False,\n   'cerebrovascular_disease': False,\n   'dementia': False,\n   'copd': False,\n   'connective_tissue_disease': False,\n   'peptic_ulcer_disease': False,\n   'uncomplicated_diabetes_mellitus': False,\n   'diabetes_mellitus_with_end_organ_damage': False,\n   'chronic_kidney_disease': False,\n   'hemiplegia_from_stroke': False,\n   'leukemia': False,\n   'malignant_lymphoma': False,\n   'localized_solid_tumor': False,\n   'metastatic_solid_tumor': False,\n   'mild_liver_disease': False,\n   'moderate_to_severe_liver_disease': False,\n   'aids': False},\n  'smoking_history': 'never_smoked',\n  'age_when_quit_smoking': 'not_applicable',\n  'pack_years': 0,\n  'chewing_tobacco_use': 'never_or_not_in_last_3mo',\n  'alcohol_use': 'never_or_not_in_last_3mo',\n  'intraoperative_complications': {'blood_transfusion': False,\n   'injury_to_surrounding_organ': False,\n   'cardiac_event': False},\n  'hospitalization': 1,\n  'ischemia_time': 20,\n  'radiographic_size': 3.6,\n  'pathologic_size': 4.0,\n  'malignant': True,\n  'pathology_t_stage': '1a',\n  'pathology_n_stage': 'X',\n  'pathology_m_stage': 'X',\n  'tumor_histologic_subtype': 'clear_cell_rcc',\n  'tumor_necrosis': False,\n  'tumor_isup_grade': 3,\n  'clavien_surgical_complications': '0',\n  'er_visit': False,\n  'readmission': False,\n  'estimated_blood_loss': 270,\n  'surgery_type': 'robotic',\n  'surgical_procedure': 'partial_nephrectomy',\n  'surgical_approach': 'Transperitoneal',\n  'operative_time': 167,\n  'cytoreductive': False,\n  'positive_resection_margins': False,\n  'last_preop_egfr': {'value': None, 'days_before_nephrectomy': None},\n  'first_postop_egfr': {'value': None, 'days_before_nephrectomy': None},\n  'last_postop_egfr': {'value': None, 'days_before_nephrectomy': None},\n  'vital_status': 'censored',\n  'vital_days_after_surgery': 22,\n  'voxel_spacing': {'x_spacing': 0.9765625,\n   'y_spacing': 0.9765625,\n   'z_spacing': 3.0}},\n {'case_id': 'case_00084',\n  'age_at_nephrectomy': 61,\n  'gender': 'male',\n  'body_mass_index': 40.03,\n  'comorbidities': {'myocardial_infarction': False,\n   'congestive_heart_failure': False,\n   'peripheral_vascular_disease': False,\n   'cerebrovascular_disease': False,\n   'dementia': False,\n   'copd': False,\n   'connective_tissue_disease': False,\n   'peptic_ulcer_disease': False,\n   'uncomplicated_diabetes_mellitus': True,\n   'diabetes_mellitus_with_end_organ_damage': False,\n   'chronic_kidney_disease': False,\n   'hemiplegia_from_stroke': False,\n   'leukemia': False,\n   'malignant_lymphoma': False,\n   'localized_solid_tumor': False,\n   'metastatic_solid_tumor': False,\n   'mild_liver_disease': False,\n   'moderate_to_severe_liver_disease': False,\n   'aids': False},\n  'smoking_history': 'previous_smoker',\n  'age_when_quit_smoking': '58',\n  'pack_years': '20',\n  'chewing_tobacco_use': 'never_or_not_in_last_3mo',\n  'alcohol_use': 'two_or_less_daily',\n  'intraoperative_complications': {'blood_transfusion': False,\n   'injury_to_surrounding_organ': False,\n   'cardiac_event': False},\n  'hospitalization': 2,\n  'ischemia_time': 'not_applicable',\n  'radiographic_size': 6.1,\n  'pathologic_size': 6.0,\n  'malignant': True,\n  'pathology_t_stage': '3',\n  'pathology_n_stage': 'X',\n  'pathology_m_stage': 'X',\n  'tumor_histologic_subtype': 'clear_cell_rcc',\n  'tumor_necrosis': True,\n  'tumor_isup_grade': 3,\n  'clavien_surgical_complications': '0',\n  'er_visit': False,\n  'readmission': False,\n  'estimated_blood_loss': 650,\n  'surgery_type': 'robotic',\n  'surgical_procedure': 'radical_nephrectomy',\n  'surgical_approach': 'Transperitoneal',\n  'operative_time': 47,\n  'cytoreductive': False,\n  'positive_resection_margins': False,\n  'last_preop_egfr': {'value': 85.0, 'days_before_nephrectomy': 14},\n  'first_postop_egfr': {'value': 57.0, 'days_before_nephrectomy': 111},\n  'last_postop_egfr': {'value': 61.0, 'days_before_nephrectomy': 948},\n  'vital_status': 'censored',\n  'vital_days_after_surgery': 948,\n  'voxel_spacing': {'x_spacing': 0.9765625,\n   'y_spacing': 0.9765625,\n   'z_spacing': 2.0}},\n {'case_id': 'case_00085',\n  'age_at_nephrectomy': 56,\n  'gender': 'male',\n  'body_mass_index': 31.32,\n  'comorbidities': {'myocardial_infarction': False,\n   'congestive_heart_failure': False,\n   'peripheral_vascular_disease': False,\n   'cerebrovascular_disease': False,\n   'dementia': False,\n   'copd': False,\n   'connective_tissue_disease': False,\n   'peptic_ulcer_disease': False,\n   'uncomplicated_diabetes_mellitus': True,\n   'diabetes_mellitus_with_end_organ_damage': False,\n   'chronic_kidney_disease': False,\n   'hemiplegia_from_stroke': False,\n   'leukemia': False,\n   'malignant_lymphoma': False,\n   'localized_solid_tumor': True,\n   'metastatic_solid_tumor': False,\n   'mild_liver_disease': False,\n   'moderate_to_severe_liver_disease': False,\n   'aids': False},\n  'smoking_history': 'previous_smoker',\n  'age_when_quit_smoking': '49',\n  'pack_years': None,\n  'chewing_tobacco_use': 'never_or_not_in_last_3mo',\n  'alcohol_use': 'more_than_two_daily',\n  'intraoperative_complications': {'blood_transfusion': False,\n   'injury_to_surrounding_organ': False,\n   'cardiac_event': False},\n  'hospitalization': 2,\n  'ischemia_time': 17,\n  'radiographic_size': 2.2,\n  'pathologic_size': 2.2,\n  'malignant': True,\n  'pathology_t_stage': '1a',\n  'pathology_n_stage': '0',\n  'pathology_m_stage': '0',\n  'tumor_histologic_subtype': 'clear_cell_rcc',\n  'tumor_necrosis': False,\n  'tumor_isup_grade': 2,\n  'clavien_surgical_complications': '1',\n  'er_visit': False,\n  'readmission': False,\n  'estimated_blood_loss': 150,\n  'surgery_type': 'robotic',\n  'surgical_procedure': 'partial_nephrectomy',\n  'surgical_approach': 'Transperitoneal',\n  'operative_time': 239,\n  'cytoreductive': False,\n  'positive_resection_margins': False,\n  'last_preop_egfr': {'value': None, 'days_before_nephrectomy': None},\n  'first_postop_egfr': {'value': None, 'days_before_nephrectomy': None},\n  'last_postop_egfr': {'value': None, 'days_before_nephrectomy': None},\n  'vital_status': 'censored',\n  'vital_days_after_surgery': 24,\n  'voxel_spacing': {'x_spacing': 0.8119999766349792,\n   'y_spacing': 0.8119999766349792,\n   'z_spacing': 5.0}},\n {'case_id': 'case_00086',\n  'age_at_nephrectomy': 26,\n  'gender': 'male',\n  'body_mass_index': 29.25,\n  'comorbidities': {'myocardial_infarction': False,\n   'congestive_heart_failure': False,\n   'peripheral_vascular_disease': False,\n   'cerebrovascular_disease': False,\n   'dementia': False,\n   'copd': False,\n   'connective_tissue_disease': False,\n   'peptic_ulcer_disease': False,\n   'uncomplicated_diabetes_mellitus': False,\n   'diabetes_mellitus_with_end_organ_damage': False,\n   'chronic_kidney_disease': False,\n   'hemiplegia_from_stroke': False,\n   'leukemia': False,\n   'malignant_lymphoma': False,\n   'localized_solid_tumor': False,\n   'metastatic_solid_tumor': False,\n   'mild_liver_disease': False,\n   'moderate_to_severe_liver_disease': False,\n   'aids': False},\n  'smoking_history': 'never_smoked',\n  'age_when_quit_smoking': 'not_applicable',\n  'pack_years': 0,\n  'chewing_tobacco_use': 'never_or_not_in_last_3mo',\n  'alcohol_use': 'two_or_less_daily',\n  'intraoperative_complications': {'blood_transfusion': False,\n   'injury_to_surrounding_organ': False,\n   'cardiac_event': False},\n  'hospitalization': 3,\n  'ischemia_time': 19,\n  'radiographic_size': 3.3,\n  'pathologic_size': 3.3,\n  'malignant': True,\n  'pathology_t_stage': '1a',\n  'pathology_n_stage': 'X',\n  'pathology_m_stage': 'X',\n  'tumor_histologic_subtype': 'clear_cell_rcc',\n  'tumor_necrosis': False,\n  'tumor_isup_grade': 2,\n  'clavien_surgical_complications': '0',\n  'er_visit': False,\n  'readmission': False,\n  'estimated_blood_loss': 50,\n  'surgery_type': 'robotic',\n  'surgical_procedure': 'partial_nephrectomy',\n  'surgical_approach': 'Transperitoneal',\n  'operative_time': 300,\n  'cytoreductive': False,\n  'positive_resection_margins': False,\n  'last_preop_egfr': {'value': '>=90', 'days_before_nephrectomy': 35},\n  'first_postop_egfr': {'value': None, 'days_before_nephrectomy': None},\n  'last_postop_egfr': {'value': None, 'days_before_nephrectomy': None},\n  'vital_status': 'censored',\n  'vital_days_after_surgery': 2045,\n  'voxel_spacing': {'x_spacing': 0.7890620231628418,\n   'y_spacing': 0.7890620231628418,\n   'z_spacing': 2.5}},\n {'case_id': 'case_00087',\n  'age_at_nephrectomy': 57,\n  'gender': 'male',\n  'body_mass_index': 27.76,\n  'comorbidities': {'myocardial_infarction': False,\n   'congestive_heart_failure': False,\n   'peripheral_vascular_disease': False,\n   'cerebrovascular_disease': False,\n   'dementia': False,\n   'copd': False,\n   'connective_tissue_disease': False,\n   'peptic_ulcer_disease': False,\n   'uncomplicated_diabetes_mellitus': False,\n   'diabetes_mellitus_with_end_organ_damage': False,\n   'chronic_kidney_disease': False,\n   'hemiplegia_from_stroke': False,\n   'leukemia': False,\n   'malignant_lymphoma': False,\n   'localized_solid_tumor': False,\n   'metastatic_solid_tumor': False,\n   'mild_liver_disease': False,\n   'moderate_to_severe_liver_disease': False,\n   'aids': False},\n  'smoking_history': 'current_smoker',\n  'age_when_quit_smoking': 'not_applicable',\n  'pack_years': None,\n  'chewing_tobacco_use': 'never_or_not_in_last_3mo',\n  'alcohol_use': 'never_or_not_in_last_3mo',\n  'intraoperative_complications': {'blood_transfusion': False,\n   'injury_to_surrounding_organ': False,\n   'cardiac_event': False},\n  'hospitalization': 2,\n  'ischemia_time': 'not_applicable',\n  'radiographic_size': 4.4,\n  'pathologic_size': 3.3,\n  'malignant': True,\n  'pathology_t_stage': '1a',\n  'pathology_n_stage': '0',\n  'pathology_m_stage': '0',\n  'tumor_histologic_subtype': 'clear_cell_rcc',\n  'tumor_necrosis': False,\n  'tumor_isup_grade': 2,\n  'clavien_surgical_complications': '0',\n  'er_visit': False,\n  'readmission': False,\n  'estimated_blood_loss': 50,\n  'surgery_type': 'laparoscopic',\n  'surgical_procedure': 'radical_nephrectomy',\n  'surgical_approach': 'Transperitoneal',\n  'operative_time': 154,\n  'cytoreductive': False,\n  'positive_resection_margins': False,\n  'last_preop_egfr': {'value': 80.0, 'days_before_nephrectomy': 67},\n  'first_postop_egfr': {'value': 57.0, 'days_before_nephrectomy': 83},\n  'last_postop_egfr': {'value': 60.0, 'days_before_nephrectomy': 1757},\n  'vital_status': 'censored',\n  'vital_days_after_surgery': 1757,\n  'voxel_spacing': {'x_spacing': 0.69140625,\n   'y_spacing': 0.69140625,\n   'z_spacing': 5.0}},\n {'case_id': 'case_00088',\n  'age_at_nephrectomy': 1,\n  'gender': 'male',\n  'body_mass_index': 19.96,\n  'comorbidities': {'myocardial_infarction': False,\n   'congestive_heart_failure': False,\n   'peripheral_vascular_disease': False,\n   'cerebrovascular_disease': False,\n   'dementia': False,\n   'copd': False,\n   'connective_tissue_disease': False,\n   'peptic_ulcer_disease': False,\n   'uncomplicated_diabetes_mellitus': False,\n   'diabetes_mellitus_with_end_organ_damage': False,\n   'chronic_kidney_disease': False,\n   'hemiplegia_from_stroke': False,\n   'leukemia': False,\n   'malignant_lymphoma': False,\n   'localized_solid_tumor': False,\n   'metastatic_solid_tumor': False,\n   'mild_liver_disease': False,\n   'moderate_to_severe_liver_disease': False,\n   'aids': False},\n  'smoking_history': 'never_smoked',\n  'age_when_quit_smoking': 'not_applicable',\n  'pack_years': 0,\n  'chewing_tobacco_use': 'never_or_not_in_last_3mo',\n  'alcohol_use': 'never_or_not_in_last_3mo',\n  'intraoperative_complications': {'blood_transfusion': False,\n   'injury_to_surrounding_organ': False,\n   'cardiac_event': False},\n  'hospitalization': 3,\n  'ischemia_time': 'not_applicable',\n  'radiographic_size': 7.4,\n  'pathologic_size': 7.5,\n  'malignant': True,\n  'pathology_t_stage': '2a',\n  'pathology_n_stage': '0',\n  'pathology_m_stage': 'X',\n  'tumor_histologic_subtype': 'wilms',\n  'tumor_necrosis': False,\n  'tumor_isup_grade': None,\n  'clavien_surgical_complications': '0',\n  'er_visit': False,\n  'readmission': True,\n  'estimated_blood_loss': 100,\n  'surgery_type': 'open',\n  'surgical_procedure': 'radical_nephrectomy',\n  'surgical_approach': 'Transperitoneal',\n  'operative_time': 127,\n  'cytoreductive': False,\n  'positive_resection_margins': False,\n  'last_preop_egfr': {'value': None, 'days_before_nephrectomy': None},\n  'first_postop_egfr': {'value': 'age<16', 'days_before_nephrectomy': 94},\n  'last_postop_egfr': {'value': 'age<16', 'days_before_nephrectomy': 762},\n  'vital_status': 'censored',\n  'vital_days_after_surgery': 762,\n  'voxel_spacing': {'x_spacing': 0.4375,\n   'y_spacing': 0.4375,\n   'z_spacing': 3.0}},\n {'case_id': 'case_00089',\n  'age_at_nephrectomy': 54,\n  'gender': 'female',\n  'body_mass_index': 46.62,\n  'comorbidities': {'myocardial_infarction': False,\n   'congestive_heart_failure': False,\n   'peripheral_vascular_disease': False,\n   'cerebrovascular_disease': False,\n   'dementia': False,\n   'copd': False,\n   'connective_tissue_disease': False,\n   'peptic_ulcer_disease': False,\n   'uncomplicated_diabetes_mellitus': False,\n   'diabetes_mellitus_with_end_organ_damage': False,\n   'chronic_kidney_disease': False,\n   'hemiplegia_from_stroke': False,\n   'leukemia': False,\n   'malignant_lymphoma': False,\n   'localized_solid_tumor': True,\n   'metastatic_solid_tumor': False,\n   'mild_liver_disease': False,\n   'moderate_to_severe_liver_disease': False,\n   'aids': False},\n  'smoking_history': 'previous_smoker',\n  'age_when_quit_smoking': '22',\n  'pack_years': None,\n  'chewing_tobacco_use': 'never_or_not_in_last_3mo',\n  'alcohol_use': 'never_or_not_in_last_3mo',\n  'intraoperative_complications': {'blood_transfusion': False,\n   'injury_to_surrounding_organ': False,\n   'cardiac_event': False},\n  'hospitalization': 2,\n  'ischemia_time': 'not_applicable',\n  'radiographic_size': 5.5,\n  'pathologic_size': 6.0,\n  'malignant': True,\n  'pathology_t_stage': '1b',\n  'pathology_n_stage': '0',\n  'pathology_m_stage': '0',\n  'tumor_histologic_subtype': 'chromophobe',\n  'tumor_necrosis': False,\n  'tumor_isup_grade': None,\n  'clavien_surgical_complications': '0',\n  'er_visit': False,\n  'readmission': False,\n  'estimated_blood_loss': 350,\n  'surgery_type': 'laparoscopic',\n  'surgical_procedure': 'radical_nephrectomy',\n  'surgical_approach': 'Transperitoneal',\n  'operative_time': 220,\n  'cytoreductive': False,\n  'positive_resection_margins': False,\n  'last_preop_egfr': {'value': 86.0, 'days_before_nephrectomy': 34},\n  'first_postop_egfr': {'value': 65.0, 'days_before_nephrectomy': 2248},\n  'last_postop_egfr': {'value': 65.0, 'days_before_nephrectomy': 2248},\n  'vital_status': 'censored',\n  'vital_days_after_surgery': 2248,\n  'voxel_spacing': {'x_spacing': 0.908203125,\n   'y_spacing': 0.908203125,\n   'z_spacing': 5.0}},\n {'case_id': 'case_00090',\n  'age_at_nephrectomy': 90,\n  'gender': 'female',\n  'body_mass_index': 25.98,\n  'comorbidities': {'myocardial_infarction': False,\n   'congestive_heart_failure': False,\n   'peripheral_vascular_disease': False,\n   'cerebrovascular_disease': False,\n   'dementia': False,\n   'copd': False,\n   'connective_tissue_disease': False,\n   'peptic_ulcer_disease': False,\n   'uncomplicated_diabetes_mellitus': False,\n   'diabetes_mellitus_with_end_organ_damage': False,\n   'chronic_kidney_disease': False,\n   'hemiplegia_from_stroke': False,\n   'leukemia': False,\n   'malignant_lymphoma': False,\n   'localized_solid_tumor': True,\n   'metastatic_solid_tumor': False,\n   'mild_liver_disease': False,\n   'moderate_to_severe_liver_disease': False,\n   'aids': False},\n  'smoking_history': 'previous_smoker',\n  'age_when_quit_smoking': None,\n  'pack_years': '30',\n  'chewing_tobacco_use': 'never_or_not_in_last_3mo',\n  'alcohol_use': 'two_or_less_daily',\n  'intraoperative_complications': {'blood_transfusion': False,\n   'injury_to_surrounding_organ': False,\n   'cardiac_event': False},\n  'hospitalization': 3,\n  'ischemia_time': 'not_applicable',\n  'radiographic_size': 7.4,\n  'pathologic_size': 5.5,\n  'malignant': True,\n  'pathology_t_stage': '4',\n  'pathology_n_stage': 'X',\n  'pathology_m_stage': 'X',\n  'tumor_histologic_subtype': 'urothelial',\n  'tumor_necrosis': True,\n  'tumor_isup_grade': 4,\n  'clavien_surgical_complications': '0',\n  'er_visit': False,\n  'readmission': False,\n  'estimated_blood_loss': 100,\n  'surgery_type': 'robotic',\n  'surgical_procedure': 'radical_nephrectomy',\n  'surgical_approach': 'Transperitoneal',\n  'operative_time': 149,\n  'cytoreductive': False,\n  'positive_resection_margins': False,\n  'last_preop_egfr': {'value': 49.0, 'days_before_nephrectomy': 1},\n  'first_postop_egfr': {'value': None, 'days_before_nephrectomy': None},\n  'last_postop_egfr': {'value': None, 'days_before_nephrectomy': None},\n  'vital_status': 'dead',\n  'vital_days_after_surgery': 102,\n  'voxel_spacing': {'x_spacing': 0.767578125,\n   'y_spacing': 0.767578125,\n   'z_spacing': 3.0}},\n {'case_id': 'case_00091',\n  'age_at_nephrectomy': 27,\n  'gender': 'male',\n  'body_mass_index': 32.09,\n  'comorbidities': {'myocardial_infarction': False,\n   'congestive_heart_failure': False,\n   'peripheral_vascular_disease': False,\n   'cerebrovascular_disease': False,\n   'dementia': False,\n   'copd': False,\n   'connective_tissue_disease': False,\n   'peptic_ulcer_disease': False,\n   'uncomplicated_diabetes_mellitus': False,\n   'diabetes_mellitus_with_end_organ_damage': False,\n   'chronic_kidney_disease': False,\n   'hemiplegia_from_stroke': False,\n   'leukemia': False,\n   'malignant_lymphoma': False,\n   'localized_solid_tumor': False,\n   'metastatic_solid_tumor': False,\n   'mild_liver_disease': False,\n   'moderate_to_severe_liver_disease': False,\n   'aids': False},\n  'smoking_history': 'current_smoker',\n  'age_when_quit_smoking': 'not_applicable',\n  'pack_years': None,\n  'chewing_tobacco_use': 'never_or_not_in_last_3mo',\n  'alcohol_use': 'two_or_less_daily',\n  'intraoperative_complications': {'blood_transfusion': False,\n   'injury_to_surrounding_organ': False,\n   'cardiac_event': False},\n  'hospitalization': 2,\n  'ischemia_time': 38,\n  'radiographic_size': 3.5,\n  'pathologic_size': 2.4,\n  'malignant': True,\n  'pathology_t_stage': '1a',\n  'pathology_n_stage': 'X',\n  'pathology_m_stage': '0',\n  'tumor_histologic_subtype': 'clear_cell_rcc',\n  'tumor_necrosis': True,\n  'tumor_isup_grade': 2,\n  'clavien_surgical_complications': '0',\n  'er_visit': False,\n  'readmission': False,\n  'estimated_blood_loss': 150,\n  'surgery_type': 'robotic',\n  'surgical_procedure': 'partial_nephrectomy',\n  'surgical_approach': 'Transperitoneal',\n  'operative_time': 287,\n  'cytoreductive': False,\n  'positive_resection_margins': False,\n  'last_preop_egfr': {'value': 89.0, 'days_before_nephrectomy': 23},\n  'first_postop_egfr': {'value': None, 'days_before_nephrectomy': None},\n  'last_postop_egfr': {'value': None, 'days_before_nephrectomy': None},\n  'vital_status': 'censored',\n  'vital_days_after_surgery': 119,\n  'voxel_spacing': {'x_spacing': 0.7890625,\n   'y_spacing': 0.7890625,\n   'z_spacing': 0.5}},\n {'case_id': 'case_00092',\n  'age_at_nephrectomy': 60,\n  'gender': 'female',\n  'body_mass_index': 42.39,\n  'comorbidities': {'myocardial_infarction': False,\n   'congestive_heart_failure': False,\n   'peripheral_vascular_disease': False,\n   'cerebrovascular_disease': False,\n   'dementia': False,\n   'copd': False,\n   'connective_tissue_disease': False,\n   'peptic_ulcer_disease': False,\n   'uncomplicated_diabetes_mellitus': False,\n   'diabetes_mellitus_with_end_organ_damage': False,\n   'chronic_kidney_disease': False,\n   'hemiplegia_from_stroke': False,\n   'leukemia': False,\n   'malignant_lymphoma': False,\n   'localized_solid_tumor': False,\n   'metastatic_solid_tumor': False,\n   'mild_liver_disease': False,\n   'moderate_to_severe_liver_disease': False,\n   'aids': False},\n  'smoking_history': 'never_smoked',\n  'age_when_quit_smoking': 'not_applicable',\n  'pack_years': 0,\n  'chewing_tobacco_use': 'never_or_not_in_last_3mo',\n  'alcohol_use': 'never_or_not_in_last_3mo',\n  'intraoperative_complications': {'blood_transfusion': False,\n   'injury_to_surrounding_organ': False,\n   'cardiac_event': False},\n  'hospitalization': 2,\n  'ischemia_time': 'not_applicable',\n  'radiographic_size': 10.4,\n  'pathologic_size': 9.2,\n  'malignant': True,\n  'pathology_t_stage': '3',\n  'pathology_n_stage': 'X',\n  'pathology_m_stage': '1',\n  'tumor_histologic_subtype': 'rcc_unclassified',\n  'tumor_necrosis': True,\n  'tumor_isup_grade': 4,\n  'clavien_surgical_complications': '0',\n  'er_visit': False,\n  'readmission': False,\n  'estimated_blood_loss': 350,\n  'surgery_type': 'robotic',\n  'surgical_procedure': 'radical_nephrectomy',\n  'surgical_approach': 'Transperitoneal',\n  'operative_time': 466,\n  'cytoreductive': True,\n  'positive_resection_margins': False,\n  'last_preop_egfr': {'value': 86.0, 'days_before_nephrectomy': 23},\n  'first_postop_egfr': {'value': 64.0, 'days_before_nephrectomy': 124},\n  'last_postop_egfr': {'value': 69.0, 'days_before_nephrectomy': 1277},\n  'vital_status': 'censored',\n  'vital_days_after_surgery': 1397,\n  'voxel_spacing': {'x_spacing': 0.703125,\n   'y_spacing': 0.703125,\n   'z_spacing': 5.0}},\n {'case_id': 'case_00093',\n  'age_at_nephrectomy': 42,\n  'gender': 'male',\n  'body_mass_index': 42.4,\n  'comorbidities': {'myocardial_infarction': False,\n   'congestive_heart_failure': False,\n   'peripheral_vascular_disease': False,\n   'cerebrovascular_disease': False,\n   'dementia': False,\n   'copd': False,\n   'connective_tissue_disease': False,\n   'peptic_ulcer_disease': False,\n   'uncomplicated_diabetes_mellitus': False,\n   'diabetes_mellitus_with_end_organ_damage': False,\n   'chronic_kidney_disease': False,\n   'hemiplegia_from_stroke': False,\n   'leukemia': False,\n   'malignant_lymphoma': False,\n   'localized_solid_tumor': False,\n   'metastatic_solid_tumor': False,\n   'mild_liver_disease': False,\n   'moderate_to_severe_liver_disease': False,\n   'aids': False},\n  'smoking_history': 'never_smoked',\n  'age_when_quit_smoking': 'not_applicable',\n  'pack_years': 0,\n  'chewing_tobacco_use': 'never_or_not_in_last_3mo',\n  'alcohol_use': 'two_or_less_daily',\n  'intraoperative_complications': {'blood_transfusion': False,\n   'injury_to_surrounding_organ': False,\n   'cardiac_event': False},\n  'hospitalization': 2,\n  'ischemia_time': 27,\n  'radiographic_size': 3.3,\n  'pathologic_size': 3.2,\n  'malignant': True,\n  'pathology_t_stage': '1a',\n  'pathology_n_stage': 'X',\n  'pathology_m_stage': 'X',\n  'tumor_histologic_subtype': 'clear_cell_rcc',\n  'tumor_necrosis': False,\n  'tumor_isup_grade': 2,\n  'clavien_surgical_complications': '0',\n  'er_visit': False,\n  'readmission': False,\n  'estimated_blood_loss': 800,\n  'surgery_type': 'robotic',\n  'surgical_procedure': 'partial_nephrectomy',\n  'surgical_approach': 'Transperitoneal',\n  'operative_time': 383,\n  'cytoreductive': False,\n  'positive_resection_margins': False,\n  'last_preop_egfr': {'value': 82.0, 'days_before_nephrectomy': 54},\n  'first_postop_egfr': {'value': None, 'days_before_nephrectomy': None},\n  'last_postop_egfr': {'value': None, 'days_before_nephrectomy': None},\n  'vital_status': 'censored',\n  'vital_days_after_surgery': 1122,\n  'voxel_spacing': {'x_spacing': 0.91015625,\n   'y_spacing': 0.91015625,\n   'z_spacing': 0.5}},\n {'case_id': 'case_00094',\n  'age_at_nephrectomy': 49,\n  'gender': 'male',\n  'body_mass_index': 29.27,\n  'comorbidities': {'myocardial_infarction': False,\n   'congestive_heart_failure': False,\n   'peripheral_vascular_disease': False,\n   'cerebrovascular_disease': False,\n   'dementia': False,\n   'copd': False,\n   'connective_tissue_disease': False,\n   'peptic_ulcer_disease': False,\n   'uncomplicated_diabetes_mellitus': False,\n   'diabetes_mellitus_with_end_organ_damage': False,\n   'chronic_kidney_disease': False,\n   'hemiplegia_from_stroke': False,\n   'leukemia': False,\n   'malignant_lymphoma': False,\n   'localized_solid_tumor': False,\n   'metastatic_solid_tumor': False,\n   'mild_liver_disease': False,\n   'moderate_to_severe_liver_disease': False,\n   'aids': False},\n  'smoking_history': 'current_smoker',\n  'age_when_quit_smoking': 'not_applicable',\n  'pack_years': None,\n  'chewing_tobacco_use': 'never_or_not_in_last_3mo',\n  'alcohol_use': 'never_or_not_in_last_3mo',\n  'intraoperative_complications': {'blood_transfusion': False,\n   'injury_to_surrounding_organ': False,\n   'cardiac_event': False},\n  'hospitalization': 3,\n  'ischemia_time': 0,\n  'radiographic_size': 4.1,\n  'pathologic_size': 4.3,\n  'malignant': True,\n  'pathology_t_stage': '1b',\n  'pathology_n_stage': '0',\n  'pathology_m_stage': '0',\n  'tumor_histologic_subtype': 'papillary',\n  'tumor_necrosis': False,\n  'tumor_isup_grade': 4,\n  'clavien_surgical_complications': '0',\n  'er_visit': False,\n  'readmission': False,\n  'estimated_blood_loss': 200,\n  'surgery_type': 'open',\n  'surgical_procedure': 'partial_nephrectomy',\n  'surgical_approach': 'Retroperitoneal',\n  'operative_time': 134,\n  'cytoreductive': False,\n  'positive_resection_margins': False,\n  'last_preop_egfr': {'value': None, 'days_before_nephrectomy': None},\n  'first_postop_egfr': {'value': None, 'days_before_nephrectomy': None},\n  'last_postop_egfr': {'value': None, 'days_before_nephrectomy': None},\n  'vital_status': 'dead',\n  'vital_days_after_surgery': 48,\n  'voxel_spacing': {'x_spacing': 0.703125,\n   'y_spacing': 0.703125,\n   'z_spacing': 5.0}},\n {'case_id': 'case_00095',\n  'age_at_nephrectomy': 73,\n  'gender': 'male',\n  'body_mass_index': 34.98,\n  'comorbidities': {'myocardial_infarction': False,\n   'congestive_heart_failure': False,\n   'peripheral_vascular_disease': False,\n   'cerebrovascular_disease': False,\n   'dementia': False,\n   'copd': False,\n   'connective_tissue_disease': False,\n   'peptic_ulcer_disease': False,\n   'uncomplicated_diabetes_mellitus': False,\n   'diabetes_mellitus_with_end_organ_damage': False,\n   'chronic_kidney_disease': False,\n   'hemiplegia_from_stroke': False,\n   'leukemia': False,\n   'malignant_lymphoma': False,\n   'localized_solid_tumor': False,\n   'metastatic_solid_tumor': False,\n   'mild_liver_disease': False,\n   'moderate_to_severe_liver_disease': False,\n   'aids': False},\n  'smoking_history': 'never_smoked',\n  'age_when_quit_smoking': 'not_applicable',\n  'pack_years': 0,\n  'chewing_tobacco_use': 'never_or_not_in_last_3mo',\n  'alcohol_use': 'never_or_not_in_last_3mo',\n  'intraoperative_complications': {'blood_transfusion': False,\n   'injury_to_surrounding_organ': False,\n   'cardiac_event': False},\n  'hospitalization': 5,\n  'ischemia_time': 13,\n  'radiographic_size': 4.5,\n  'pathologic_size': 5.0,\n  'malignant': True,\n  'pathology_t_stage': '1b',\n  'pathology_n_stage': '0',\n  'pathology_m_stage': '0',\n  'tumor_histologic_subtype': 'clear_cell_rcc',\n  'tumor_necrosis': False,\n  'tumor_isup_grade': 2,\n  'clavien_surgical_complications': '0',\n  'er_visit': False,\n  'readmission': False,\n  'estimated_blood_loss': 400,\n  'surgery_type': 'robotic',\n  'surgical_procedure': 'partial_nephrectomy',\n  'surgical_approach': 'Transperitoneal',\n  'operative_time': 171,\n  'cytoreductive': False,\n  'positive_resection_margins': False,\n  'last_preop_egfr': {'value': None, 'days_before_nephrectomy': None},\n  'first_postop_egfr': {'value': 58.0, 'days_before_nephrectomy': 932},\n  'last_postop_egfr': {'value': 58.0, 'days_before_nephrectomy': 932},\n  'vital_status': 'censored',\n  'vital_days_after_surgery': 965,\n  'voxel_spacing': {'x_spacing': 0.93359375,\n   'y_spacing': 0.93359375,\n   'z_spacing': 1.5}},\n {'case_id': 'case_00096',\n  'age_at_nephrectomy': 59,\n  'gender': 'female',\n  'body_mass_index': 24.23,\n  'comorbidities': {'myocardial_infarction': False,\n   'congestive_heart_failure': False,\n   'peripheral_vascular_disease': False,\n   'cerebrovascular_disease': False,\n   'dementia': False,\n   'copd': False,\n   'connective_tissue_disease': False,\n   'peptic_ulcer_disease': False,\n   'uncomplicated_diabetes_mellitus': False,\n   'diabetes_mellitus_with_end_organ_damage': False,\n   'chronic_kidney_disease': False,\n   'hemiplegia_from_stroke': False,\n   'leukemia': False,\n   'malignant_lymphoma': False,\n   'localized_solid_tumor': False,\n   'metastatic_solid_tumor': False,\n   'mild_liver_disease': False,\n   'moderate_to_severe_liver_disease': False,\n   'aids': False},\n  'smoking_history': 'never_smoked',\n  'age_when_quit_smoking': 'not_applicable',\n  'pack_years': 0,\n  'chewing_tobacco_use': 'never_or_not_in_last_3mo',\n  'alcohol_use': 'two_or_less_daily',\n  'intraoperative_complications': {'blood_transfusion': False,\n   'injury_to_surrounding_organ': False,\n   'cardiac_event': False},\n  'hospitalization': 2,\n  'ischemia_time': 14,\n  'radiographic_size': 2.5,\n  'pathologic_size': 2.2,\n  'malignant': True,\n  'pathology_t_stage': '1a',\n  'pathology_n_stage': 'X',\n  'pathology_m_stage': '0',\n  'tumor_histologic_subtype': 'clear_cell_rcc',\n  'tumor_necrosis': True,\n  'tumor_isup_grade': 3,\n  'clavien_surgical_complications': '1',\n  'er_visit': False,\n  'readmission': False,\n  'estimated_blood_loss': 140,\n  'surgery_type': 'robotic',\n  'surgical_procedure': 'partial_nephrectomy',\n  'surgical_approach': 'Transperitoneal',\n  'operative_time': 194,\n  'cytoreductive': False,\n  'positive_resection_margins': False,\n  'last_preop_egfr': {'value': '>=90', 'days_before_nephrectomy': 41},\n  'first_postop_egfr': {'value': 78.0, 'days_before_nephrectomy': 197},\n  'last_postop_egfr': {'value': 78.0, 'days_before_nephrectomy': 197},\n  'vital_status': 'censored',\n  'vital_days_after_surgery': 197,\n  'voxel_spacing': {'x_spacing': 0.73828125,\n   'y_spacing': 0.73828125,\n   'z_spacing': 0.5}},\n {'case_id': 'case_00097',\n  'age_at_nephrectomy': 75,\n  'gender': 'female',\n  'body_mass_index': 34.33,\n  'comorbidities': {'myocardial_infarction': False,\n   'congestive_heart_failure': False,\n   'peripheral_vascular_disease': False,\n   'cerebrovascular_disease': False,\n   'dementia': False,\n   'copd': False,\n   'connective_tissue_disease': False,\n   'peptic_ulcer_disease': False,\n   'uncomplicated_diabetes_mellitus': False,\n   'diabetes_mellitus_with_end_organ_damage': False,\n   'chronic_kidney_disease': False,\n   'hemiplegia_from_stroke': False,\n   'leukemia': False,\n   'malignant_lymphoma': False,\n   'localized_solid_tumor': True,\n   'metastatic_solid_tumor': False,\n   'mild_liver_disease': False,\n   'moderate_to_severe_liver_disease': False,\n   'aids': False},\n  'smoking_history': 'never_smoked',\n  'age_when_quit_smoking': 'not_applicable',\n  'pack_years': 0,\n  'chewing_tobacco_use': 'never_or_not_in_last_3mo',\n  'alcohol_use': 'never_or_not_in_last_3mo',\n  'intraoperative_complications': {'blood_transfusion': False,\n   'injury_to_surrounding_organ': False,\n   'cardiac_event': False},\n  'hospitalization': 2,\n  'ischemia_time': 22,\n  'radiographic_size': 3.2,\n  'pathologic_size': 3.0,\n  'malignant': True,\n  'pathology_t_stage': '1a',\n  'pathology_n_stage': 'X',\n  'pathology_m_stage': 'X',\n  'tumor_histologic_subtype': 'clear_cell_rcc',\n  'tumor_necrosis': False,\n  'tumor_isup_grade': 2,\n  'clavien_surgical_complications': '0',\n  'er_visit': False,\n  'readmission': False,\n  'estimated_blood_loss': 300,\n  'surgery_type': 'robotic',\n  'surgical_procedure': 'partial_nephrectomy',\n  'surgical_approach': 'Transperitoneal',\n  'operative_time': 145,\n  'cytoreductive': False,\n  'positive_resection_margins': False,\n  'last_preop_egfr': {'value': 49.0, 'days_before_nephrectomy': 65},\n  'first_postop_egfr': {'value': 79.0, 'days_before_nephrectomy': 1076},\n  'last_postop_egfr': {'value': 79.0, 'days_before_nephrectomy': 1076},\n  'vital_status': 'censored',\n  'vital_days_after_surgery': 1057,\n  'voxel_spacing': {'x_spacing': 0.7409999966621399,\n   'y_spacing': 0.7409999966621399,\n   'z_spacing': 5.0}},\n {'case_id': 'case_00098',\n  'age_at_nephrectomy': 62,\n  'gender': 'female',\n  'body_mass_index': 23.72,\n  'comorbidities': {'myocardial_infarction': True,\n   'congestive_heart_failure': False,\n   'peripheral_vascular_disease': False,\n   'cerebrovascular_disease': False,\n   'dementia': False,\n   'copd': False,\n   'connective_tissue_disease': False,\n   'peptic_ulcer_disease': False,\n   'uncomplicated_diabetes_mellitus': False,\n   'diabetes_mellitus_with_end_organ_damage': False,\n   'chronic_kidney_disease': False,\n   'hemiplegia_from_stroke': False,\n   'leukemia': False,\n   'malignant_lymphoma': False,\n   'localized_solid_tumor': False,\n   'metastatic_solid_tumor': True,\n   'mild_liver_disease': False,\n   'moderate_to_severe_liver_disease': False,\n   'aids': False},\n  'smoking_history': 'never_smoked',\n  'age_when_quit_smoking': 'not_applicable',\n  'pack_years': 0,\n  'chewing_tobacco_use': 'never_or_not_in_last_3mo',\n  'alcohol_use': 'two_or_less_daily',\n  'intraoperative_complications': {'blood_transfusion': False,\n   'injury_to_surrounding_organ': False,\n   'cardiac_event': False},\n  'hospitalization': 1,\n  'ischemia_time': 29,\n  'radiographic_size': 3.7,\n  'pathologic_size': 3.5,\n  'malignant': True,\n  'pathology_t_stage': '1a',\n  'pathology_n_stage': 'X',\n  'pathology_m_stage': 'X',\n  'tumor_histologic_subtype': 'clear_cell_rcc',\n  'tumor_necrosis': False,\n  'tumor_isup_grade': 3,\n  'clavien_surgical_complications': '0',\n  'er_visit': False,\n  'readmission': False,\n  'estimated_blood_loss': 150,\n  'surgery_type': 'robotic',\n  'surgical_procedure': 'partial_nephrectomy',\n  'surgical_approach': 'Transperitoneal',\n  'operative_time': 141,\n  'cytoreductive': False,\n  'positive_resection_margins': False,\n  'last_preop_egfr': {'value': '>=90', 'days_before_nephrectomy': 26},\n  'first_postop_egfr': {'value': None, 'days_before_nephrectomy': None},\n  'last_postop_egfr': {'value': None, 'days_before_nephrectomy': None},\n  'vital_status': 'censored',\n  'vital_days_after_surgery': 428,\n  'voxel_spacing': {'x_spacing': 0.69921875,\n   'y_spacing': 0.69921875,\n   'z_spacing': 1.0}},\n {'case_id': 'case_00099',\n  'age_at_nephrectomy': 56,\n  'gender': 'male',\n  'body_mass_index': 24.39,\n  'comorbidities': {'myocardial_infarction': False,\n   'congestive_heart_failure': False,\n   'peripheral_vascular_disease': False,\n   'cerebrovascular_disease': False,\n   'dementia': False,\n   'copd': False,\n   'connective_tissue_disease': False,\n   'peptic_ulcer_disease': True,\n   'uncomplicated_diabetes_mellitus': False,\n   'diabetes_mellitus_with_end_organ_damage': False,\n   'chronic_kidney_disease': False,\n   'hemiplegia_from_stroke': False,\n   'leukemia': False,\n   'malignant_lymphoma': False,\n   'localized_solid_tumor': False,\n   'metastatic_solid_tumor': False,\n   'mild_liver_disease': False,\n   'moderate_to_severe_liver_disease': False,\n   'aids': False},\n  'smoking_history': 'never_smoked',\n  'age_when_quit_smoking': 'not_applicable',\n  'pack_years': 0,\n  'chewing_tobacco_use': 'never_or_not_in_last_3mo',\n  'alcohol_use': 'two_or_less_daily',\n  'intraoperative_complications': {'blood_transfusion': False,\n   'injury_to_surrounding_organ': False,\n   'cardiac_event': False},\n  'hospitalization': 1,\n  'ischemia_time': 21,\n  'radiographic_size': 6.0,\n  'pathologic_size': 6.5,\n  'malignant': True,\n  'pathology_t_stage': '1b',\n  'pathology_n_stage': 'X',\n  'pathology_m_stage': 'X',\n  'tumor_histologic_subtype': 'papillary',\n  'tumor_necrosis': False,\n  'tumor_isup_grade': 2,\n  'clavien_surgical_complications': '0',\n  'er_visit': False,\n  'readmission': False,\n  'estimated_blood_loss': 73,\n  'surgery_type': 'robotic',\n  'surgical_procedure': 'partial_nephrectomy',\n  'surgical_approach': 'Transperitoneal',\n  'operative_time': 193,\n  'cytoreductive': False,\n  'positive_resection_margins': True,\n  'last_preop_egfr': {'value': 71.0, 'days_before_nephrectomy': 21},\n  'first_postop_egfr': {'value': 87.0, 'days_before_nephrectomy': 97},\n  'last_postop_egfr': {'value': 69.0, 'days_before_nephrectomy': 834},\n  'vital_status': 'censored',\n  'vital_days_after_surgery': 1086,\n  'voxel_spacing': {'x_spacing': 0.7070310115814209,\n   'y_spacing': 0.7070310115814209,\n   'z_spacing': 5.0}},\n {'case_id': 'case_00100',\n  'age_at_nephrectomy': 60,\n  'gender': 'female',\n  'body_mass_index': 35.91,\n  'comorbidities': {'myocardial_infarction': False,\n   'congestive_heart_failure': False,\n   'peripheral_vascular_disease': False,\n   'cerebrovascular_disease': False,\n   'dementia': False,\n   'copd': False,\n   'connective_tissue_disease': False,\n   'peptic_ulcer_disease': False,\n   'uncomplicated_diabetes_mellitus': True,\n   'diabetes_mellitus_with_end_organ_damage': False,\n   'chronic_kidney_disease': False,\n   'hemiplegia_from_stroke': False,\n   'leukemia': False,\n   'malignant_lymphoma': False,\n   'localized_solid_tumor': False,\n   'metastatic_solid_tumor': False,\n   'mild_liver_disease': False,\n   'moderate_to_severe_liver_disease': False,\n   'aids': False},\n  'smoking_history': 'never_smoked',\n  'age_when_quit_smoking': 'not_applicable',\n  'pack_years': 0,\n  'chewing_tobacco_use': 'never_or_not_in_last_3mo',\n  'alcohol_use': 'two_or_less_daily',\n  'intraoperative_complications': {'blood_transfusion': False,\n   'injury_to_surrounding_organ': False,\n   'cardiac_event': False},\n  'hospitalization': 1,\n  'ischemia_time': 12,\n  'radiographic_size': 1.5,\n  'pathologic_size': 1.5,\n  'malignant': True,\n  'pathology_t_stage': '1a',\n  'pathology_n_stage': 'X',\n  'pathology_m_stage': 'X',\n  'tumor_histologic_subtype': 'clear_cell_rcc',\n  'tumor_necrosis': False,\n  'tumor_isup_grade': 2,\n  'clavien_surgical_complications': '0',\n  'er_visit': False,\n  'readmission': False,\n  'estimated_blood_loss': 100,\n  'surgery_type': 'robotic',\n  'surgical_procedure': 'partial_nephrectomy',\n  'surgical_approach': 'Transperitoneal',\n  'operative_time': 114,\n  'cytoreductive': False,\n  'positive_resection_margins': False,\n  'last_preop_egfr': {'value': None, 'days_before_nephrectomy': None},\n  'first_postop_egfr': {'value': '>=90', 'days_before_nephrectomy': 745},\n  'last_postop_egfr': {'value': '>=90', 'days_before_nephrectomy': 745},\n  'vital_status': 'censored',\n  'vital_days_after_surgery': 745,\n  'voxel_spacing': {'x_spacing': 0.82421875,\n   'y_spacing': 0.82421875,\n   'z_spacing': 1.0}},\n {'case_id': 'case_00101',\n  'age_at_nephrectomy': 32,\n  'gender': 'male',\n  'body_mass_index': 25.7,\n  'comorbidities': {'myocardial_infarction': False,\n   'congestive_heart_failure': False,\n   'peripheral_vascular_disease': False,\n   'cerebrovascular_disease': False,\n   'dementia': False,\n   'copd': False,\n   'connective_tissue_disease': False,\n   'peptic_ulcer_disease': False,\n   'uncomplicated_diabetes_mellitus': False,\n   'diabetes_mellitus_with_end_organ_damage': False,\n   'chronic_kidney_disease': False,\n   'hemiplegia_from_stroke': False,\n   'leukemia': False,\n   'malignant_lymphoma': False,\n   'localized_solid_tumor': False,\n   'metastatic_solid_tumor': False,\n   'mild_liver_disease': False,\n   'moderate_to_severe_liver_disease': False,\n   'aids': False},\n  'smoking_history': 'never_smoked',\n  'age_when_quit_smoking': 'not_applicable',\n  'pack_years': 0,\n  'chewing_tobacco_use': 'never_or_not_in_last_3mo',\n  'alcohol_use': 'two_or_less_daily',\n  'intraoperative_complications': {'blood_transfusion': False,\n   'injury_to_surrounding_organ': False,\n   'cardiac_event': False},\n  'hospitalization': 2,\n  'ischemia_time': None,\n  'radiographic_size': 2.1,\n  'pathologic_size': 1.5,\n  'malignant': True,\n  'pathology_t_stage': '1a',\n  'pathology_n_stage': 'X',\n  'pathology_m_stage': 'X',\n  'tumor_histologic_subtype': 'clear_cell_rcc',\n  'tumor_necrosis': False,\n  'tumor_isup_grade': 2,\n  'clavien_surgical_complications': '0',\n  'er_visit': False,\n  'readmission': False,\n  'estimated_blood_loss': 100,\n  'surgery_type': 'robotic',\n  'surgical_procedure': 'partial_nephrectomy',\n  'surgical_approach': 'Transperitoneal',\n  'operative_time': 272,\n  'cytoreductive': False,\n  'positive_resection_margins': False,\n  'last_preop_egfr': {'value': '>=90', 'days_before_nephrectomy': 7},\n  'first_postop_egfr': {'value': '>=90', 'days_before_nephrectomy': 1727},\n  'last_postop_egfr': {'value': '>=90', 'days_before_nephrectomy': 1727},\n  'vital_status': 'censored',\n  'vital_days_after_surgery': 2108,\n  'voxel_spacing': {'x_spacing': 0.771484375,\n   'y_spacing': 0.771484375,\n   'z_spacing': 0.5}},\n {'case_id': 'case_00102',\n  'age_at_nephrectomy': 80,\n  'gender': 'female',\n  'body_mass_index': 27.14,\n  'comorbidities': {'myocardial_infarction': False,\n   'congestive_heart_failure': False,\n   'peripheral_vascular_disease': False,\n   'cerebrovascular_disease': False,\n   'dementia': False,\n   'copd': False,\n   'connective_tissue_disease': False,\n   'peptic_ulcer_disease': False,\n   'uncomplicated_diabetes_mellitus': False,\n   'diabetes_mellitus_with_end_organ_damage': False,\n   'chronic_kidney_disease': False,\n   'hemiplegia_from_stroke': False,\n   'leukemia': False,\n   'malignant_lymphoma': False,\n   'localized_solid_tumor': True,\n   'metastatic_solid_tumor': False,\n   'mild_liver_disease': False,\n   'moderate_to_severe_liver_disease': False,\n   'aids': False},\n  'smoking_history': 'previous_smoker',\n  'age_when_quit_smoking': None,\n  'pack_years': None,\n  'chewing_tobacco_use': 'never_or_not_in_last_3mo',\n  'alcohol_use': 'more_than_two_daily',\n  'intraoperative_complications': {'blood_transfusion': False,\n   'injury_to_surrounding_organ': False,\n   'cardiac_event': False},\n  'hospitalization': 5,\n  'ischemia_time': 'not_applicable',\n  'radiographic_size': 13.1,\n  'pathologic_size': 11.2,\n  'malignant': True,\n  'pathology_t_stage': '3',\n  'pathology_n_stage': 'X',\n  'pathology_m_stage': 'X',\n  'tumor_histologic_subtype': 'chromophobe',\n  'tumor_necrosis': True,\n  'tumor_isup_grade': None,\n  'clavien_surgical_complications': '0',\n  'er_visit': False,\n  'readmission': False,\n  'estimated_blood_loss': 500,\n  'surgery_type': 'robotic',\n  'surgical_procedure': 'radical_nephrectomy',\n  'surgical_approach': 'Transperitoneal',\n  'operative_time': 530,\n  'cytoreductive': False,\n  'positive_resection_margins': False,\n  'last_preop_egfr': {'value': 63.0, 'days_before_nephrectomy': 5},\n  'first_postop_egfr': {'value': 35.0, 'days_before_nephrectomy': 135},\n  'last_postop_egfr': {'value': 33.0, 'days_before_nephrectomy': 621},\n  'vital_status': 'censored',\n  'vital_days_after_surgery': 790,\n  'voxel_spacing': {'x_spacing': 0.83984375,\n   'y_spacing': 0.83984375,\n   'z_spacing': 1.0}},\n {'case_id': 'case_00103',\n  'age_at_nephrectomy': 61,\n  'gender': 'male',\n  'body_mass_index': 27.35,\n  'comorbidities': {'myocardial_infarction': False,\n   'congestive_heart_failure': False,\n   'peripheral_vascular_disease': False,\n   'cerebrovascular_disease': False,\n   'dementia': False,\n   'copd': False,\n   'connective_tissue_disease': False,\n   'peptic_ulcer_disease': False,\n   'uncomplicated_diabetes_mellitus': False,\n   'diabetes_mellitus_with_end_organ_damage': False,\n   'chronic_kidney_disease': False,\n   'hemiplegia_from_stroke': False,\n   'leukemia': False,\n   'malignant_lymphoma': False,\n   'localized_solid_tumor': False,\n   'metastatic_solid_tumor': False,\n   'mild_liver_disease': False,\n   'moderate_to_severe_liver_disease': False,\n   'aids': False},\n  'smoking_history': 'previous_smoker',\n  'age_when_quit_smoking': '43',\n  'pack_years': '75',\n  'chewing_tobacco_use': 'never_or_not_in_last_3mo',\n  'alcohol_use': 'never_or_not_in_last_3mo',\n  'intraoperative_complications': {'blood_transfusion': False,\n   'injury_to_surrounding_organ': False,\n   'cardiac_event': False},\n  'hospitalization': 2,\n  'ischemia_time': 0,\n  'radiographic_size': 2.0,\n  'pathologic_size': 3.0,\n  'malignant': True,\n  'pathology_t_stage': '1a',\n  'pathology_n_stage': '0',\n  'pathology_m_stage': '0',\n  'tumor_histologic_subtype': 'papillary',\n  'tumor_necrosis': False,\n  'tumor_isup_grade': 2,\n  'clavien_surgical_complications': '0',\n  'er_visit': False,\n  'readmission': False,\n  'estimated_blood_loss': 50,\n  'surgery_type': 'robotic',\n  'surgical_procedure': 'partial_nephrectomy',\n  'surgical_approach': 'Retroperitoneal',\n  'operative_time': 177,\n  'cytoreductive': False,\n  'positive_resection_margins': False,\n  'last_preop_egfr': {'value': 70.0, 'days_before_nephrectomy': 19},\n  'first_postop_egfr': {'value': 74.0, 'days_before_nephrectomy': 100},\n  'last_postop_egfr': {'value': 59.0, 'days_before_nephrectomy': 973},\n  'vital_status': 'censored',\n  'vital_days_after_surgery': 1066,\n  'voxel_spacing': {'x_spacing': 0.828125,\n   'y_spacing': 0.828125,\n   'z_spacing': 0.5}},\n {'case_id': 'case_00104',\n  'age_at_nephrectomy': 73,\n  'gender': 'male',\n  'body_mass_index': 35.48,\n  'comorbidities': {'myocardial_infarction': False,\n   'congestive_heart_failure': False,\n   'peripheral_vascular_disease': False,\n   'cerebrovascular_disease': False,\n   'dementia': False,\n   'copd': False,\n   'connective_tissue_disease': False,\n   'peptic_ulcer_disease': False,\n   'uncomplicated_diabetes_mellitus': False,\n   'diabetes_mellitus_with_end_organ_damage': False,\n   'chronic_kidney_disease': False,\n   'hemiplegia_from_stroke': False,\n   'leukemia': False,\n   'malignant_lymphoma': False,\n   'localized_solid_tumor': False,\n   'metastatic_solid_tumor': False,\n   'mild_liver_disease': False,\n   'moderate_to_severe_liver_disease': False,\n   'aids': False},\n  'smoking_history': 'previous_smoker',\n  'age_when_quit_smoking': None,\n  'pack_years': None,\n  'chewing_tobacco_use': 'never_or_not_in_last_3mo',\n  'alcohol_use': 'never_or_not_in_last_3mo',\n  'intraoperative_complications': {'blood_transfusion': False,\n   'injury_to_surrounding_organ': False,\n   'cardiac_event': False},\n  'hospitalization': 6,\n  'ischemia_time': 'not_applicable',\n  'radiographic_size': 5.0,\n  'pathologic_size': 4.3,\n  'malignant': False,\n  'pathology_t_stage': '0',\n  'pathology_n_stage': 'X',\n  'pathology_m_stage': 'X',\n  'tumor_histologic_subtype': 'oncocytoma',\n  'tumor_necrosis': None,\n  'tumor_isup_grade': None,\n  'clavien_surgical_complications': '0',\n  'er_visit': True,\n  'readmission': False,\n  'estimated_blood_loss': 2000,\n  'surgery_type': 'open',\n  'surgical_procedure': 'radical_nephrectomy',\n  'surgical_approach': 'Transperitoneal',\n  'operative_time': 586,\n  'cytoreductive': False,\n  'positive_resection_margins': False,\n  'last_preop_egfr': {'value': 75.0, 'days_before_nephrectomy': 7},\n  'first_postop_egfr': {'value': 36.0, 'days_before_nephrectomy': 157},\n  'last_postop_egfr': {'value': 32.0, 'days_before_nephrectomy': 2349},\n  'vital_status': 'censored',\n  'vital_days_after_surgery': 2349,\n  'voxel_spacing': {'x_spacing': 0.78125,\n   'y_spacing': 0.78125,\n   'z_spacing': 5.0}},\n {'case_id': 'case_00105',\n  'age_at_nephrectomy': 68,\n  'gender': 'female',\n  'body_mass_index': 25.97,\n  'comorbidities': {'myocardial_infarction': False,\n   'congestive_heart_failure': False,\n   'peripheral_vascular_disease': False,\n   'cerebrovascular_disease': False,\n   'dementia': False,\n   'copd': False,\n   'connective_tissue_disease': False,\n   'peptic_ulcer_disease': False,\n   'uncomplicated_diabetes_mellitus': False,\n   'diabetes_mellitus_with_end_organ_damage': False,\n   'chronic_kidney_disease': False,\n   'hemiplegia_from_stroke': False,\n   'leukemia': False,\n   'malignant_lymphoma': False,\n   'localized_solid_tumor': False,\n   'metastatic_solid_tumor': False,\n   'mild_liver_disease': False,\n   'moderate_to_severe_liver_disease': False,\n   'aids': False},\n  'smoking_history': 'previous_smoker',\n  'age_when_quit_smoking': '35',\n  'pack_years': '20',\n  'chewing_tobacco_use': 'never_or_not_in_last_3mo',\n  'alcohol_use': 'never_or_not_in_last_3mo',\n  'intraoperative_complications': {'blood_transfusion': False,\n   'injury_to_surrounding_organ': False,\n   'cardiac_event': False},\n  'hospitalization': 3,\n  'ischemia_time': 'not_applicable',\n  'radiographic_size': 5.5,\n  'pathologic_size': 6.0,\n  'malignant': True,\n  'pathology_t_stage': '3',\n  'pathology_n_stage': 'X',\n  'pathology_m_stage': '1',\n  'tumor_histologic_subtype': 'clear_cell_rcc',\n  'tumor_necrosis': True,\n  'tumor_isup_grade': 3,\n  'clavien_surgical_complications': '0',\n  'er_visit': False,\n  'readmission': False,\n  'estimated_blood_loss': 150,\n  'surgery_type': 'robotic',\n  'surgical_procedure': 'radical_nephrectomy',\n  'surgical_approach': 'Transperitoneal',\n  'operative_time': 234,\n  'cytoreductive': True,\n  'positive_resection_margins': False,\n  'last_preop_egfr': {'value': 82.0, 'days_before_nephrectomy': 3},\n  'first_postop_egfr': {'value': 52.0, 'days_before_nephrectomy': 172},\n  'last_postop_egfr': {'value': 53.0, 'days_before_nephrectomy': 394},\n  'vital_status': 'censored',\n  'vital_days_after_surgery': 423,\n  'voxel_spacing': {'x_spacing': 0.892578125,\n   'y_spacing': 0.892578125,\n   'z_spacing': 3.0}},\n {'case_id': 'case_00106',\n  'age_at_nephrectomy': 41,\n  'gender': 'male',\n  'body_mass_index': 31.93,\n  'comorbidities': {'myocardial_infarction': False,\n   'congestive_heart_failure': False,\n   'peripheral_vascular_disease': False,\n   'cerebrovascular_disease': False,\n   'dementia': False,\n   'copd': False,\n   'connective_tissue_disease': False,\n   'peptic_ulcer_disease': False,\n   'uncomplicated_diabetes_mellitus': False,\n   'diabetes_mellitus_with_end_organ_damage': False,\n   'chronic_kidney_disease': False,\n   'hemiplegia_from_stroke': False,\n   'leukemia': False,\n   'malignant_lymphoma': False,\n   'localized_solid_tumor': False,\n   'metastatic_solid_tumor': False,\n   'mild_liver_disease': False,\n   'moderate_to_severe_liver_disease': False,\n   'aids': False},\n  'smoking_history': 'previous_smoker',\n  'age_when_quit_smoking': None,\n  'pack_years': None,\n  'chewing_tobacco_use': 'never_or_not_in_last_3mo',\n  'alcohol_use': 'more_than_two_daily',\n  'intraoperative_complications': {'blood_transfusion': False,\n   'injury_to_surrounding_organ': False,\n   'cardiac_event': False},\n  'hospitalization': 1,\n  'ischemia_time': 21,\n  'radiographic_size': 1.9,\n  'pathologic_size': 2.0,\n  'malignant': True,\n  'pathology_t_stage': '1a',\n  'pathology_n_stage': '0',\n  'pathology_m_stage': '0',\n  'tumor_histologic_subtype': 'multilocular_cystic_rcc',\n  'tumor_necrosis': False,\n  'tumor_isup_grade': 1,\n  'clavien_surgical_complications': '0',\n  'er_visit': False,\n  'readmission': False,\n  'estimated_blood_loss': 40,\n  'surgery_type': 'robotic',\n  'surgical_procedure': 'partial_nephrectomy',\n  'surgical_approach': 'Retroperitoneal',\n  'operative_time': 154,\n  'cytoreductive': False,\n  'positive_resection_margins': False,\n  'last_preop_egfr': {'value': '>=90', 'days_before_nephrectomy': 18},\n  'first_postop_egfr': {'value': '>=90', 'days_before_nephrectomy': 125},\n  'last_postop_egfr': {'value': '>=90', 'days_before_nephrectomy': 2037},\n  'vital_status': 'censored',\n  'vital_days_after_surgery': 2037,\n  'voxel_spacing': {'x_spacing': 0.806640625,\n   'y_spacing': 0.806640625,\n   'z_spacing': 5.0}},\n {'case_id': 'case_00107',\n  'age_at_nephrectomy': 49,\n  'gender': 'female',\n  'body_mass_index': 25.45,\n  'comorbidities': {'myocardial_infarction': False,\n   'congestive_heart_failure': False,\n   'peripheral_vascular_disease': False,\n   'cerebrovascular_disease': False,\n   'dementia': False,\n   'copd': False,\n   'connective_tissue_disease': False,\n   'peptic_ulcer_disease': False,\n   'uncomplicated_diabetes_mellitus': False,\n   'diabetes_mellitus_with_end_organ_damage': False,\n   'chronic_kidney_disease': False,\n   'hemiplegia_from_stroke': False,\n   'leukemia': False,\n   'malignant_lymphoma': False,\n   'localized_solid_tumor': False,\n   'metastatic_solid_tumor': True,\n   'mild_liver_disease': False,\n   'moderate_to_severe_liver_disease': False,\n   'aids': False},\n  'smoking_history': 'never_smoked',\n  'age_when_quit_smoking': 'not_applicable',\n  'pack_years': 0,\n  'chewing_tobacco_use': 'never_or_not_in_last_3mo',\n  'alcohol_use': 'never_or_not_in_last_3mo',\n  'intraoperative_complications': {'blood_transfusion': False,\n   'injury_to_surrounding_organ': False,\n   'cardiac_event': False},\n  'hospitalization': 5,\n  'ischemia_time': 'not_applicable',\n  'radiographic_size': 9.0,\n  'pathologic_size': 9.2,\n  'malignant': True,\n  'pathology_t_stage': '3',\n  'pathology_n_stage': '0',\n  'pathology_m_stage': '1',\n  'tumor_histologic_subtype': 'clear_cell_rcc',\n  'tumor_necrosis': False,\n  'tumor_isup_grade': 3,\n  'clavien_surgical_complications': '0',\n  'er_visit': False,\n  'readmission': False,\n  'estimated_blood_loss': 500,\n  'surgery_type': 'open',\n  'surgical_procedure': 'radical_nephrectomy',\n  'surgical_approach': 'Retroperitoneal',\n  'operative_time': None,\n  'cytoreductive': True,\n  'positive_resection_margins': False,\n  'last_preop_egfr': {'value': 75.0, 'days_before_nephrectomy': 19},\n  'first_postop_egfr': {'value': 54.0, 'days_before_nephrectomy': 90},\n  'last_postop_egfr': {'value': '>=90', 'days_before_nephrectomy': 641},\n  'vital_status': 'dead',\n  'vital_days_after_surgery': 642,\n  'voxel_spacing': {'x_spacing': 0.7167969942092896,\n   'y_spacing': 0.7167969942092896,\n   'z_spacing': 5.0}},\n {'case_id': 'case_00108',\n  'age_at_nephrectomy': 53,\n  'gender': 'male',\n  'body_mass_index': 32.27,\n  'comorbidities': {'myocardial_infarction': False,\n   'congestive_heart_failure': False,\n   'peripheral_vascular_disease': False,\n   'cerebrovascular_disease': False,\n   'dementia': False,\n   'copd': False,\n   'connective_tissue_disease': False,\n   'peptic_ulcer_disease': False,\n   'uncomplicated_diabetes_mellitus': True,\n   'diabetes_mellitus_with_end_organ_damage': False,\n   'chronic_kidney_disease': False,\n   'hemiplegia_from_stroke': False,\n   'leukemia': False,\n   'malignant_lymphoma': False,\n   'localized_solid_tumor': False,\n   'metastatic_solid_tumor': False,\n   'mild_liver_disease': False,\n   'moderate_to_severe_liver_disease': False,\n   'aids': False},\n  'smoking_history': 'previous_smoker',\n  'age_when_quit_smoking': '31',\n  'pack_years': None,\n  'chewing_tobacco_use': 'never_or_not_in_last_3mo',\n  'alcohol_use': 'two_or_less_daily',\n  'intraoperative_complications': {'blood_transfusion': False,\n   'injury_to_surrounding_organ': False,\n   'cardiac_event': False},\n  'hospitalization': 2,\n  'ischemia_time': 'not_applicable',\n  'radiographic_size': 10.0,\n  'pathologic_size': 7.2,\n  'malignant': True,\n  'pathology_t_stage': '3',\n  'pathology_n_stage': '0',\n  'pathology_m_stage': '0',\n  'tumor_histologic_subtype': 'papillary',\n  'tumor_necrosis': True,\n  'tumor_isup_grade': 2,\n  'clavien_surgical_complications': '0',\n  'er_visit': False,\n  'readmission': False,\n  'estimated_blood_loss': 5,\n  'surgery_type': 'laparoscopic',\n  'surgical_procedure': 'radical_nephrectomy',\n  'surgical_approach': 'Transperitoneal',\n  'operative_time': 229,\n  'cytoreductive': False,\n  'positive_resection_margins': False,\n  'last_preop_egfr': {'value': 71.0, 'days_before_nephrectomy': 3},\n  'first_postop_egfr': {'value': 53.0, 'days_before_nephrectomy': 2317},\n  'last_postop_egfr': {'value': 53.0, 'days_before_nephrectomy': 2317},\n  'vital_status': 'censored',\n  'vital_days_after_surgery': 2335,\n  'voxel_spacing': {'x_spacing': 0.865234375,\n   'y_spacing': 0.865234375,\n   'z_spacing': 5.0}},\n {'case_id': 'case_00109',\n  'age_at_nephrectomy': 86,\n  'gender': 'female',\n  'body_mass_index': 20.16,\n  'comorbidities': {'myocardial_infarction': False,\n   'congestive_heart_failure': False,\n   'peripheral_vascular_disease': False,\n   'cerebrovascular_disease': False,\n   'dementia': False,\n   'copd': False,\n   'connective_tissue_disease': False,\n   'peptic_ulcer_disease': False,\n   'uncomplicated_diabetes_mellitus': False,\n   'diabetes_mellitus_with_end_organ_damage': False,\n   'chronic_kidney_disease': False,\n   'hemiplegia_from_stroke': False,\n   'leukemia': False,\n   'malignant_lymphoma': False,\n   'localized_solid_tumor': True,\n   'metastatic_solid_tumor': False,\n   'mild_liver_disease': False,\n   'moderate_to_severe_liver_disease': False,\n   'aids': False},\n  'smoking_history': 'never_smoked',\n  'age_when_quit_smoking': 'not_applicable',\n  'pack_years': 0,\n  'chewing_tobacco_use': 'never_or_not_in_last_3mo',\n  'alcohol_use': 'more_than_two_daily',\n  'intraoperative_complications': {'blood_transfusion': False,\n   'injury_to_surrounding_organ': False,\n   'cardiac_event': False},\n  'hospitalization': 1,\n  'ischemia_time': 'not_applicable',\n  'radiographic_size': 6.0,\n  'pathologic_size': 6.0,\n  'malignant': True,\n  'pathology_t_stage': '3',\n  'pathology_n_stage': '0',\n  'pathology_m_stage': '0',\n  'tumor_histologic_subtype': 'clear_cell_rcc',\n  'tumor_necrosis': True,\n  'tumor_isup_grade': 3,\n  'clavien_surgical_complications': '0',\n  'er_visit': False,\n  'readmission': False,\n  'estimated_blood_loss': 100,\n  'surgery_type': 'robotic',\n  'surgical_procedure': 'radical_nephrectomy',\n  'surgical_approach': 'Transperitoneal',\n  'operative_time': 256,\n  'cytoreductive': False,\n  'positive_resection_margins': False,\n  'last_preop_egfr': {'value': 77.0, 'days_before_nephrectomy': 13},\n  'first_postop_egfr': {'value': 68.0, 'days_before_nephrectomy': 990},\n  'last_postop_egfr': {'value': 68.0, 'days_before_nephrectomy': 990},\n  'vital_status': 'censored',\n  'vital_days_after_surgery': 1016,\n  'voxel_spacing': {'x_spacing': 0.5859379768371582,\n   'y_spacing': 0.5859379768371582,\n   'z_spacing': 2.5}},\n {'case_id': 'case_00110',\n  'age_at_nephrectomy': 82,\n  'gender': 'male',\n  'body_mass_index': 34.67,\n  'comorbidities': {'myocardial_infarction': False,\n   'congestive_heart_failure': False,\n   'peripheral_vascular_disease': False,\n   'cerebrovascular_disease': False,\n   'dementia': False,\n   'copd': False,\n   'connective_tissue_disease': False,\n   'peptic_ulcer_disease': False,\n   'uncomplicated_diabetes_mellitus': False,\n   'diabetes_mellitus_with_end_organ_damage': False,\n   'chronic_kidney_disease': False,\n   'hemiplegia_from_stroke': False,\n   'leukemia': False,\n   'malignant_lymphoma': False,\n   'localized_solid_tumor': False,\n   'metastatic_solid_tumor': False,\n   'mild_liver_disease': False,\n   'moderate_to_severe_liver_disease': False,\n   'aids': False},\n  'smoking_history': 'previous_smoker',\n  'age_when_quit_smoking': '51',\n  'pack_years': None,\n  'chewing_tobacco_use': 'never_or_not_in_last_3mo',\n  'alcohol_use': 'never_or_not_in_last_3mo',\n  'intraoperative_complications': {'blood_transfusion': False,\n   'injury_to_surrounding_organ': False,\n   'cardiac_event': False},\n  'hospitalization': 6,\n  'ischemia_time': 30,\n  'radiographic_size': 3.8,\n  'pathologic_size': 3.6,\n  'malignant': True,\n  'pathology_t_stage': '1a',\n  'pathology_n_stage': '0',\n  'pathology_m_stage': '0',\n  'tumor_histologic_subtype': 'clear_cell_rcc',\n  'tumor_necrosis': False,\n  'tumor_isup_grade': 4,\n  'clavien_surgical_complications': '1',\n  'er_visit': False,\n  'readmission': True,\n  'estimated_blood_loss': 150,\n  'surgery_type': 'open',\n  'surgical_procedure': 'partial_nephrectomy',\n  'surgical_approach': 'Retroperitoneal',\n  'operative_time': 247,\n  'cytoreductive': False,\n  'positive_resection_margins': False,\n  'last_preop_egfr': {'value': 45.0, 'days_before_nephrectomy': 10},\n  'first_postop_egfr': {'value': None, 'days_before_nephrectomy': None},\n  'last_postop_egfr': {'value': None, 'days_before_nephrectomy': None},\n  'vital_status': 'censored',\n  'vital_days_after_surgery': 9,\n  'voxel_spacing': {'x_spacing': 0.830078125,\n   'y_spacing': 0.830078125,\n   'z_spacing': 5.0}},\n {'case_id': 'case_00111',\n  'age_at_nephrectomy': 62,\n  'gender': 'female',\n  'body_mass_index': 35.99,\n  'comorbidities': {'myocardial_infarction': False,\n   'congestive_heart_failure': False,\n   'peripheral_vascular_disease': True,\n   'cerebrovascular_disease': False,\n   'dementia': False,\n   'copd': False,\n   'connective_tissue_disease': False,\n   'peptic_ulcer_disease': False,\n   'uncomplicated_diabetes_mellitus': True,\n   'diabetes_mellitus_with_end_organ_damage': False,\n   'chronic_kidney_disease': False,\n   'hemiplegia_from_stroke': False,\n   'leukemia': False,\n   'malignant_lymphoma': False,\n   'localized_solid_tumor': False,\n   'metastatic_solid_tumor': False,\n   'mild_liver_disease': False,\n   'moderate_to_severe_liver_disease': False,\n   'aids': False},\n  'smoking_history': 'never_smoked',\n  'age_when_quit_smoking': 'not_applicable',\n  'pack_years': 0,\n  'chewing_tobacco_use': 'never_or_not_in_last_3mo',\n  'alcohol_use': 'two_or_less_daily',\n  'intraoperative_complications': {'blood_transfusion': False,\n   'injury_to_surrounding_organ': False,\n   'cardiac_event': False},\n  'hospitalization': 4,\n  'ischemia_time': 'not_applicable',\n  'radiographic_size': 4.0,\n  'pathologic_size': 4.5,\n  'malignant': True,\n  'pathology_t_stage': '1b',\n  'pathology_n_stage': 'X',\n  'pathology_m_stage': '0',\n  'tumor_histologic_subtype': 'clear_cell_rcc',\n  'tumor_necrosis': False,\n  'tumor_isup_grade': 2,\n  'clavien_surgical_complications': '0',\n  'er_visit': False,\n  'readmission': False,\n  'estimated_blood_loss': 300,\n  'surgery_type': 'open',\n  'surgical_procedure': 'radical_nephrectomy',\n  'surgical_approach': 'Retroperitoneal',\n  'operative_time': 271,\n  'cytoreductive': False,\n  'positive_resection_margins': False,\n  'last_preop_egfr': {'value': 72.0, 'days_before_nephrectomy': 1},\n  'first_postop_egfr': {'value': 27.0, 'days_before_nephrectomy': 184},\n  'last_postop_egfr': {'value': 27.0, 'days_before_nephrectomy': 184},\n  'vital_status': 'censored',\n  'vital_days_after_surgery': 184,\n  'voxel_spacing': {'x_spacing': 0.7421879768371582,\n   'y_spacing': 0.7421879768371582,\n   'z_spacing': 2.5}},\n {'case_id': 'case_00112',\n  'age_at_nephrectomy': 68,\n  'gender': 'male',\n  'body_mass_index': 23.87,\n  'comorbidities': {'myocardial_infarction': False,\n   'congestive_heart_failure': False,\n   'peripheral_vascular_disease': False,\n   'cerebrovascular_disease': False,\n   'dementia': False,\n   'copd': False,\n   'connective_tissue_disease': False,\n   'peptic_ulcer_disease': False,\n   'uncomplicated_diabetes_mellitus': False,\n   'diabetes_mellitus_with_end_organ_damage': False,\n   'chronic_kidney_disease': False,\n   'hemiplegia_from_stroke': False,\n   'leukemia': False,\n   'malignant_lymphoma': False,\n   'localized_solid_tumor': False,\n   'metastatic_solid_tumor': False,\n   'mild_liver_disease': False,\n   'moderate_to_severe_liver_disease': False,\n   'aids': False},\n  'smoking_history': 'never_smoked',\n  'age_when_quit_smoking': 'not_applicable',\n  'pack_years': 0,\n  'chewing_tobacco_use': 'never_or_not_in_last_3mo',\n  'alcohol_use': 'two_or_less_daily',\n  'intraoperative_complications': {'blood_transfusion': False,\n   'injury_to_surrounding_organ': False,\n   'cardiac_event': False},\n  'hospitalization': 2,\n  'ischemia_time': 40,\n  'radiographic_size': 5.7,\n  'pathologic_size': 5.2,\n  'malignant': True,\n  'pathology_t_stage': '1b',\n  'pathology_n_stage': 'X',\n  'pathology_m_stage': '1',\n  'tumor_histologic_subtype': 'clear_cell_rcc',\n  'tumor_necrosis': True,\n  'tumor_isup_grade': 4,\n  'clavien_surgical_complications': '0',\n  'er_visit': False,\n  'readmission': False,\n  'estimated_blood_loss': 200,\n  'surgery_type': 'robotic',\n  'surgical_procedure': 'partial_nephrectomy',\n  'surgical_approach': 'Transperitoneal',\n  'operative_time': 276,\n  'cytoreductive': True,\n  'positive_resection_margins': False,\n  'last_preop_egfr': {'value': None, 'days_before_nephrectomy': None},\n  'first_postop_egfr': {'value': 85.0, 'days_before_nephrectomy': 86},\n  'last_postop_egfr': {'value': '>=90', 'days_before_nephrectomy': 699},\n  'vital_status': 'dead',\n  'vital_days_after_surgery': 729,\n  'voxel_spacing': {'x_spacing': 0.7421875,\n   'y_spacing': 0.7421875,\n   'z_spacing': 2.0}},\n {'case_id': 'case_00113',\n  'age_at_nephrectomy': 67,\n  'gender': 'male',\n  'body_mass_index': 20.13,\n  'comorbidities': {'myocardial_infarction': True,\n   'congestive_heart_failure': False,\n   'peripheral_vascular_disease': False,\n   'cerebrovascular_disease': False,\n   'dementia': False,\n   'copd': False,\n   'connective_tissue_disease': False,\n   'peptic_ulcer_disease': False,\n   'uncomplicated_diabetes_mellitus': False,\n   'diabetes_mellitus_with_end_organ_damage': False,\n   'chronic_kidney_disease': False,\n   'hemiplegia_from_stroke': False,\n   'leukemia': False,\n   'malignant_lymphoma': False,\n   'localized_solid_tumor': False,\n   'metastatic_solid_tumor': True,\n   'mild_liver_disease': False,\n   'moderate_to_severe_liver_disease': False,\n   'aids': False},\n  'smoking_history': 'current_smoker',\n  'age_when_quit_smoking': 'not_applicable',\n  'pack_years': None,\n  'chewing_tobacco_use': 'never_or_not_in_last_3mo',\n  'alcohol_use': 'never_or_not_in_last_3mo',\n  'intraoperative_complications': {'blood_transfusion': True,\n   'injury_to_surrounding_organ': False,\n   'cardiac_event': False},\n  'hospitalization': 4,\n  'ischemia_time': 'not_applicable',\n  'radiographic_size': 6.3,\n  'pathologic_size': 5.5,\n  'malignant': True,\n  'pathology_t_stage': '1b',\n  'pathology_n_stage': '1',\n  'pathology_m_stage': '1',\n  'tumor_histologic_subtype': 'clear_cell_rcc',\n  'tumor_necrosis': True,\n  'tumor_isup_grade': 4,\n  'clavien_surgical_complications': '0',\n  'er_visit': False,\n  'readmission': False,\n  'estimated_blood_loss': 900,\n  'surgery_type': 'laparoscopic',\n  'surgical_procedure': 'radical_nephrectomy',\n  'surgical_approach': 'Transperitoneal',\n  'operative_time': 280,\n  'cytoreductive': True,\n  'positive_resection_margins': False,\n  'last_preop_egfr': {'value': 90.0, 'days_before_nephrectomy': 21},\n  'first_postop_egfr': {'value': 70.0, 'days_before_nephrectomy': 78},\n  'last_postop_egfr': {'value': 47.0, 'days_before_nephrectomy': 268},\n  'vital_status': 'dead',\n  'vital_days_after_surgery': 323,\n  'voxel_spacing': {'x_spacing': 0.701171875,\n   'y_spacing': 0.701171875,\n   'z_spacing': 5.0}},\n {'case_id': 'case_00114',\n  'age_at_nephrectomy': 54,\n  'gender': 'male',\n  'body_mass_index': 35.11,\n  'comorbidities': {'myocardial_infarction': False,\n   'congestive_heart_failure': False,\n   'peripheral_vascular_disease': False,\n   'cerebrovascular_disease': False,\n   'dementia': False,\n   'copd': False,\n   'connective_tissue_disease': False,\n   'peptic_ulcer_disease': False,\n   'uncomplicated_diabetes_mellitus': False,\n   'diabetes_mellitus_with_end_organ_damage': False,\n   'chronic_kidney_disease': False,\n   'hemiplegia_from_stroke': False,\n   'leukemia': False,\n   'malignant_lymphoma': False,\n   'localized_solid_tumor': False,\n   'metastatic_solid_tumor': False,\n   'mild_liver_disease': False,\n   'moderate_to_severe_liver_disease': False,\n   'aids': False},\n  'smoking_history': 'never_smoked',\n  'age_when_quit_smoking': 'not_applicable',\n  'pack_years': 0,\n  'chewing_tobacco_use': 'never_or_not_in_last_3mo',\n  'alcohol_use': 'two_or_less_daily',\n  'intraoperative_complications': {'blood_transfusion': False,\n   'injury_to_surrounding_organ': False,\n   'cardiac_event': False},\n  'hospitalization': 5,\n  'ischemia_time': 'not_applicable',\n  'radiographic_size': 16.2,\n  'pathologic_size': 16.0,\n  'malignant': True,\n  'pathology_t_stage': '4',\n  'pathology_n_stage': '1',\n  'pathology_m_stage': 'X',\n  'tumor_histologic_subtype': 'clear_cell_rcc',\n  'tumor_necrosis': True,\n  'tumor_isup_grade': 4,\n  'clavien_surgical_complications': '1',\n  'er_visit': True,\n  'readmission': False,\n  'estimated_blood_loss': 500,\n  'surgery_type': 'open',\n  'surgical_procedure': 'radical_nephrectomy',\n  'surgical_approach': 'Retroperitoneal',\n  'operative_time': 257,\n  'cytoreductive': False,\n  'positive_resection_margins': False,\n  'last_preop_egfr': {'value': 74.0, 'days_before_nephrectomy': 63},\n  'first_postop_egfr': {'value': 42.0, 'days_before_nephrectomy': 293},\n  'last_postop_egfr': {'value': 42.0, 'days_before_nephrectomy': 293},\n  'vital_status': 'dead',\n  'vital_days_after_surgery': 473,\n  'voxel_spacing': {'x_spacing': 0.80859375,\n   'y_spacing': 0.80859375,\n   'z_spacing': 1.0}},\n {'case_id': 'case_00115',\n  'age_at_nephrectomy': 61,\n  'gender': 'female',\n  'body_mass_index': 20.93,\n  'comorbidities': {'myocardial_infarction': False,\n   'congestive_heart_failure': False,\n   'peripheral_vascular_disease': False,\n   'cerebrovascular_disease': False,\n   'dementia': False,\n   'copd': False,\n   'connective_tissue_disease': False,\n   'peptic_ulcer_disease': False,\n   'uncomplicated_diabetes_mellitus': False,\n   'diabetes_mellitus_with_end_organ_damage': False,\n   'chronic_kidney_disease': False,\n   'hemiplegia_from_stroke': False,\n   'leukemia': False,\n   'malignant_lymphoma': False,\n   'localized_solid_tumor': False,\n   'metastatic_solid_tumor': False,\n   'mild_liver_disease': False,\n   'moderate_to_severe_liver_disease': False,\n   'aids': False},\n  'smoking_history': 'never_smoked',\n  'age_when_quit_smoking': 'not_applicable',\n  'pack_years': 0,\n  'chewing_tobacco_use': 'never_or_not_in_last_3mo',\n  'alcohol_use': 'never_or_not_in_last_3mo',\n  'intraoperative_complications': {'blood_transfusion': False,\n   'injury_to_surrounding_organ': False,\n   'cardiac_event': False},\n  'hospitalization': 2,\n  'ischemia_time': 18,\n  'radiographic_size': 2.8,\n  'pathologic_size': 3.0,\n  'malignant': True,\n  'pathology_t_stage': '1a',\n  'pathology_n_stage': 'X',\n  'pathology_m_stage': 'X',\n  'tumor_histologic_subtype': 'clear_cell_rcc',\n  'tumor_necrosis': False,\n  'tumor_isup_grade': 2,\n  'clavien_surgical_complications': '0',\n  'er_visit': False,\n  'readmission': False,\n  'estimated_blood_loss': 100,\n  'surgery_type': 'robotic',\n  'surgical_procedure': 'partial_nephrectomy',\n  'surgical_approach': 'Transperitoneal',\n  'operative_time': 215,\n  'cytoreductive': False,\n  'positive_resection_margins': False,\n  'last_preop_egfr': {'value': 80.0, 'days_before_nephrectomy': 2},\n  'first_postop_egfr': {'value': None, 'days_before_nephrectomy': None},\n  'last_postop_egfr': {'value': None, 'days_before_nephrectomy': None},\n  'vital_status': 'censored',\n  'vital_days_after_surgery': 22,\n  'voxel_spacing': {'x_spacing': 0.703125,\n   'y_spacing': 0.703125,\n   'z_spacing': 0.5}},\n {'case_id': 'case_00116',\n  'age_at_nephrectomy': 83,\n  'gender': 'female',\n  'body_mass_index': 21.89,\n  'comorbidities': {'myocardial_infarction': False,\n   'congestive_heart_failure': False,\n   'peripheral_vascular_disease': False,\n   'cerebrovascular_disease': False,\n   'dementia': False,\n   'copd': False,\n   'connective_tissue_disease': False,\n   'peptic_ulcer_disease': False,\n   'uncomplicated_diabetes_mellitus': False,\n   'diabetes_mellitus_with_end_organ_damage': False,\n   'chronic_kidney_disease': False,\n   'hemiplegia_from_stroke': False,\n   'leukemia': False,\n   'malignant_lymphoma': False,\n   'localized_solid_tumor': False,\n   'metastatic_solid_tumor': False,\n   'mild_liver_disease': False,\n   'moderate_to_severe_liver_disease': False,\n   'aids': False},\n  'smoking_history': 'never_smoked',\n  'age_when_quit_smoking': 'not_applicable',\n  'pack_years': 0,\n  'chewing_tobacco_use': 'never_or_not_in_last_3mo',\n  'alcohol_use': 'never_or_not_in_last_3mo',\n  'intraoperative_complications': {'blood_transfusion': False,\n   'injury_to_surrounding_organ': False,\n   'cardiac_event': False},\n  'hospitalization': 3,\n  'ischemia_time': 'not_applicable',\n  'radiographic_size': 5.6,\n  'pathologic_size': 4.7,\n  'malignant': False,\n  'pathology_t_stage': '0',\n  'pathology_n_stage': '0',\n  'pathology_m_stage': '0',\n  'tumor_histologic_subtype': 'oncocytoma',\n  'tumor_necrosis': None,\n  'tumor_isup_grade': None,\n  'clavien_surgical_complications': '0',\n  'er_visit': False,\n  'readmission': False,\n  'estimated_blood_loss': 50,\n  'surgery_type': 'robotic',\n  'surgical_procedure': 'radical_nephrectomy',\n  'surgical_approach': 'Transperitoneal',\n  'operative_time': 314,\n  'cytoreductive': False,\n  'positive_resection_margins': False,\n  'last_preop_egfr': {'value': 76.0, 'days_before_nephrectomy': 2},\n  'first_postop_egfr': {'value': None, 'days_before_nephrectomy': None},\n  'last_postop_egfr': {'value': None, 'days_before_nephrectomy': None},\n  'vital_status': 'censored',\n  'vital_days_after_surgery': 15,\n  'voxel_spacing': {'x_spacing': 0.671875,\n   'y_spacing': 0.671875,\n   'z_spacing': 0.5}},\n {'case_id': 'case_00117',\n  'age_at_nephrectomy': 40,\n  'gender': 'female',\n  'body_mass_index': 39.84,\n  'comorbidities': {'myocardial_infarction': False,\n   'congestive_heart_failure': False,\n   'peripheral_vascular_disease': False,\n   'cerebrovascular_disease': False,\n   'dementia': False,\n   'copd': False,\n   'connective_tissue_disease': False,\n   'peptic_ulcer_disease': False,\n   'uncomplicated_diabetes_mellitus': False,\n   'diabetes_mellitus_with_end_organ_damage': False,\n   'chronic_kidney_disease': False,\n   'hemiplegia_from_stroke': False,\n   'leukemia': False,\n   'malignant_lymphoma': False,\n   'localized_solid_tumor': False,\n   'metastatic_solid_tumor': False,\n   'mild_liver_disease': False,\n   'moderate_to_severe_liver_disease': False,\n   'aids': False},\n  'smoking_history': 'never_smoked',\n  'age_when_quit_smoking': 'not_applicable',\n  'pack_years': 0,\n  'chewing_tobacco_use': 'never_or_not_in_last_3mo',\n  'alcohol_use': 'two_or_less_daily',\n  'intraoperative_complications': {'blood_transfusion': False,\n   'injury_to_surrounding_organ': False,\n   'cardiac_event': False},\n  'hospitalization': 3,\n  'ischemia_time': 0,\n  'radiographic_size': 4.0,\n  'pathologic_size': 4.3,\n  'malignant': True,\n  'pathology_t_stage': '1b',\n  'pathology_n_stage': '0',\n  'pathology_m_stage': '0',\n  'tumor_histologic_subtype': 'clear_cell_rcc',\n  'tumor_necrosis': False,\n  'tumor_isup_grade': 2,\n  'clavien_surgical_complications': '3b',\n  'er_visit': False,\n  'readmission': True,\n  'estimated_blood_loss': 200,\n  'surgery_type': 'open',\n  'surgical_procedure': 'partial_nephrectomy',\n  'surgical_approach': 'Retroperitoneal',\n  'operative_time': 218,\n  'cytoreductive': False,\n  'positive_resection_margins': False,\n  'last_preop_egfr': {'value': None, 'days_before_nephrectomy': None},\n  'first_postop_egfr': {'value': 69.0, 'days_before_nephrectomy': 99},\n  'last_postop_egfr': {'value': 81.0, 'days_before_nephrectomy': 1457},\n  'vital_status': 'censored',\n  'vital_days_after_surgery': 785,\n  'voxel_spacing': {'x_spacing': 0.8457030057907104,\n   'y_spacing': 0.8457030057907104,\n   'z_spacing': 2.5}},\n {'case_id': 'case_00118',\n  'age_at_nephrectomy': 35,\n  'gender': 'male',\n  'body_mass_index': 44.32,\n  'comorbidities': {'myocardial_infarction': False,\n   'congestive_heart_failure': False,\n   'peripheral_vascular_disease': False,\n   'cerebrovascular_disease': False,\n   'dementia': False,\n   'copd': False,\n   'connective_tissue_disease': False,\n   'peptic_ulcer_disease': False,\n   'uncomplicated_diabetes_mellitus': False,\n   'diabetes_mellitus_with_end_organ_damage': False,\n   'chronic_kidney_disease': False,\n   'hemiplegia_from_stroke': False,\n   'leukemia': False,\n   'malignant_lymphoma': False,\n   'localized_solid_tumor': False,\n   'metastatic_solid_tumor': False,\n   'mild_liver_disease': False,\n   'moderate_to_severe_liver_disease': False,\n   'aids': False},\n  'smoking_history': 'previous_smoker',\n  'age_when_quit_smoking': None,\n  'pack_years': None,\n  'chewing_tobacco_use': 'never_or_not_in_last_3mo',\n  'alcohol_use': 'two_or_less_daily',\n  'intraoperative_complications': {'blood_transfusion': False,\n   'injury_to_surrounding_organ': False,\n   'cardiac_event': False},\n  'hospitalization': 3,\n  'ischemia_time': 15,\n  'radiographic_size': 3.8,\n  'pathologic_size': 3.1,\n  'malignant': True,\n  'pathology_t_stage': '1a',\n  'pathology_n_stage': 'X',\n  'pathology_m_stage': 'X',\n  'tumor_histologic_subtype': 'clear_cell_rcc',\n  'tumor_necrosis': True,\n  'tumor_isup_grade': 2,\n  'clavien_surgical_complications': '0',\n  'er_visit': False,\n  'readmission': False,\n  'estimated_blood_loss': 250,\n  'surgery_type': 'open',\n  'surgical_procedure': 'partial_nephrectomy',\n  'surgical_approach': 'Retroperitoneal',\n  'operative_time': 186,\n  'cytoreductive': False,\n  'positive_resection_margins': False,\n  'last_preop_egfr': {'value': None, 'days_before_nephrectomy': None},\n  'first_postop_egfr': {'value': 75.0, 'days_before_nephrectomy': 1358},\n  'last_postop_egfr': {'value': 75.0, 'days_before_nephrectomy': 1358},\n  'vital_status': 'censored',\n  'vital_days_after_surgery': 980,\n  'voxel_spacing': {'x_spacing': 0.85546875,\n   'y_spacing': 0.85546875,\n   'z_spacing': 0.5}},\n {'case_id': 'case_00119',\n  'age_at_nephrectomy': 62,\n  'gender': 'male',\n  'body_mass_index': 26.47,\n  'comorbidities': {'myocardial_infarction': False,\n   'congestive_heart_failure': False,\n   'peripheral_vascular_disease': False,\n   'cerebrovascular_disease': False,\n   'dementia': False,\n   'copd': False,\n   'connective_tissue_disease': False,\n   'peptic_ulcer_disease': False,\n   'uncomplicated_diabetes_mellitus': True,\n   'diabetes_mellitus_with_end_organ_damage': False,\n   'chronic_kidney_disease': False,\n   'hemiplegia_from_stroke': False,\n   'leukemia': False,\n   'malignant_lymphoma': False,\n   'localized_solid_tumor': False,\n   'metastatic_solid_tumor': False,\n   'mild_liver_disease': False,\n   'moderate_to_severe_liver_disease': False,\n   'aids': False},\n  'smoking_history': 'previous_smoker',\n  'age_when_quit_smoking': '32',\n  'pack_years': None,\n  'chewing_tobacco_use': 'never_or_not_in_last_3mo',\n  'alcohol_use': 'two_or_less_daily',\n  'intraoperative_complications': {'blood_transfusion': False,\n   'injury_to_surrounding_organ': False,\n   'cardiac_event': False},\n  'hospitalization': 2,\n  'ischemia_time': 39,\n  'radiographic_size': 7.7,\n  'pathologic_size': 7.5,\n  'malignant': True,\n  'pathology_t_stage': '2a',\n  'pathology_n_stage': 'X',\n  'pathology_m_stage': 'X',\n  'tumor_histologic_subtype': 'clear_cell_rcc',\n  'tumor_necrosis': True,\n  'tumor_isup_grade': 2,\n  'clavien_surgical_complications': '0',\n  'er_visit': False,\n  'readmission': False,\n  'estimated_blood_loss': 500,\n  'surgery_type': 'robotic',\n  'surgical_procedure': 'partial_nephrectomy',\n  'surgical_approach': 'Transperitoneal',\n  'operative_time': 209,\n  'cytoreductive': False,\n  'positive_resection_margins': False,\n  'last_preop_egfr': {'value': '>=90', 'days_before_nephrectomy': 3},\n  'first_postop_egfr': {'value': '>=90', 'days_before_nephrectomy': 111},\n  'last_postop_egfr': {'value': 88.0, 'days_before_nephrectomy': 2091},\n  'vital_status': 'censored',\n  'vital_days_after_surgery': 1944,\n  'voxel_spacing': {'x_spacing': 0.76171875,\n   'y_spacing': 0.76171875,\n   'z_spacing': 5.0}},\n {'case_id': 'case_00120',\n  'age_at_nephrectomy': 60,\n  'gender': 'male',\n  'body_mass_index': 39.82,\n  'comorbidities': {'myocardial_infarction': False,\n   'congestive_heart_failure': False,\n   'peripheral_vascular_disease': False,\n   'cerebrovascular_disease': False,\n   'dementia': False,\n   'copd': False,\n   'connective_tissue_disease': False,\n   'peptic_ulcer_disease': False,\n   'uncomplicated_diabetes_mellitus': True,\n   'diabetes_mellitus_with_end_organ_damage': False,\n   'chronic_kidney_disease': True,\n   'hemiplegia_from_stroke': False,\n   'leukemia': False,\n   'malignant_lymphoma': False,\n   'localized_solid_tumor': False,\n   'metastatic_solid_tumor': False,\n   'mild_liver_disease': False,\n   'moderate_to_severe_liver_disease': False,\n   'aids': False},\n  'smoking_history': 'previous_smoker',\n  'age_when_quit_smoking': None,\n  'pack_years': None,\n  'chewing_tobacco_use': 'never_or_not_in_last_3mo',\n  'alcohol_use': 'two_or_less_daily',\n  'intraoperative_complications': {'blood_transfusion': False,\n   'injury_to_surrounding_organ': False,\n   'cardiac_event': False},\n  'hospitalization': 2,\n  'ischemia_time': 'not_applicable',\n  'radiographic_size': 2.0,\n  'pathologic_size': 1.8,\n  'malignant': True,\n  'pathology_t_stage': '1a',\n  'pathology_n_stage': 'X',\n  'pathology_m_stage': 'X',\n  'tumor_histologic_subtype': 'clear_cell_papillary_rcc',\n  'tumor_necrosis': False,\n  'tumor_isup_grade': 2,\n  'clavien_surgical_complications': '0',\n  'er_visit': False,\n  'readmission': False,\n  'estimated_blood_loss': 100,\n  'surgery_type': 'laparoscopic',\n  'surgical_procedure': 'radical_nephrectomy',\n  'surgical_approach': 'Transperitoneal',\n  'operative_time': 220,\n  'cytoreductive': False,\n  'positive_resection_margins': False,\n  'last_preop_egfr': {'value': 17.0, 'days_before_nephrectomy': 47},\n  'first_postop_egfr': {'value': None, 'days_before_nephrectomy': None},\n  'last_postop_egfr': {'value': None, 'days_before_nephrectomy': None},\n  'vital_status': 'censored',\n  'vital_days_after_surgery': 182,\n  'voxel_spacing': {'x_spacing': 0.83203125,\n   'y_spacing': 0.83203125,\n   'z_spacing': 1.0}},\n {'case_id': 'case_00121',\n  'age_at_nephrectomy': 66,\n  'gender': 'female',\n  'body_mass_index': 26.57,\n  'comorbidities': {'myocardial_infarction': False,\n   'congestive_heart_failure': False,\n   'peripheral_vascular_disease': False,\n   'cerebrovascular_disease': False,\n   'dementia': False,\n   'copd': False,\n   'connective_tissue_disease': False,\n   'peptic_ulcer_disease': False,\n   'uncomplicated_diabetes_mellitus': False,\n   'diabetes_mellitus_with_end_organ_damage': False,\n   'chronic_kidney_disease': False,\n   'hemiplegia_from_stroke': False,\n   'leukemia': False,\n   'malignant_lymphoma': False,\n   'localized_solid_tumor': True,\n   'metastatic_solid_tumor': False,\n   'mild_liver_disease': False,\n   'moderate_to_severe_liver_disease': False,\n   'aids': False},\n  'smoking_history': 'never_smoked',\n  'age_when_quit_smoking': 'not_applicable',\n  'pack_years': 0,\n  'chewing_tobacco_use': 'never_or_not_in_last_3mo',\n  'alcohol_use': 'never_or_not_in_last_3mo',\n  'intraoperative_complications': {'blood_transfusion': False,\n   'injury_to_surrounding_organ': False,\n   'cardiac_event': False},\n  'hospitalization': 2,\n  'ischemia_time': None,\n  'radiographic_size': 2.0,\n  'pathologic_size': 2.1,\n  'malignant': True,\n  'pathology_t_stage': '3',\n  'pathology_n_stage': 'X',\n  'pathology_m_stage': 'X',\n  'tumor_histologic_subtype': 'clear_cell_rcc',\n  'tumor_necrosis': True,\n  'tumor_isup_grade': 2,\n  'clavien_surgical_complications': '0',\n  'er_visit': False,\n  'readmission': False,\n  'estimated_blood_loss': 250,\n  'surgery_type': 'robotic',\n  'surgical_procedure': 'partial_nephrectomy',\n  'surgical_approach': 'Transperitoneal',\n  'operative_time': 235,\n  'cytoreductive': False,\n  'positive_resection_margins': False,\n  'last_preop_egfr': {'value': 47.0, 'days_before_nephrectomy': 72},\n  'first_postop_egfr': {'value': None, 'days_before_nephrectomy': None},\n  'last_postop_egfr': {'value': None, 'days_before_nephrectomy': None},\n  'vital_status': 'censored',\n  'vital_days_after_surgery': 358,\n  'voxel_spacing': {'x_spacing': 0.6859999895095825,\n   'y_spacing': 0.6859999895095825,\n   'z_spacing': 5.0}},\n {'case_id': 'case_00122',\n  'age_at_nephrectomy': 68,\n  'gender': 'female',\n  'body_mass_index': 31.52,\n  'comorbidities': {'myocardial_infarction': False,\n   'congestive_heart_failure': False,\n   'peripheral_vascular_disease': False,\n   'cerebrovascular_disease': False,\n   'dementia': False,\n   'copd': False,\n   'connective_tissue_disease': False,\n   'peptic_ulcer_disease': False,\n   'uncomplicated_diabetes_mellitus': True,\n   'diabetes_mellitus_with_end_organ_damage': False,\n   'chronic_kidney_disease': False,\n   'hemiplegia_from_stroke': False,\n   'leukemia': True,\n   'malignant_lymphoma': False,\n   'localized_solid_tumor': False,\n   'metastatic_solid_tumor': False,\n   'mild_liver_disease': False,\n   'moderate_to_severe_liver_disease': False,\n   'aids': False},\n  'smoking_history': 'never_smoked',\n  'age_when_quit_smoking': 'not_applicable',\n  'pack_years': 0,\n  'chewing_tobacco_use': 'never_or_not_in_last_3mo',\n  'alcohol_use': 'never_or_not_in_last_3mo',\n  'intraoperative_complications': {'blood_transfusion': False,\n   'injury_to_surrounding_organ': False,\n   'cardiac_event': False},\n  'hospitalization': 6,\n  'ischemia_time': 16,\n  'radiographic_size': 4.0,\n  'pathologic_size': 4.5,\n  'malignant': True,\n  'pathology_t_stage': '3',\n  'pathology_n_stage': '0',\n  'pathology_m_stage': '0',\n  'tumor_histologic_subtype': 'clear_cell_rcc',\n  'tumor_necrosis': False,\n  'tumor_isup_grade': 1,\n  'clavien_surgical_complications': '3a',\n  'er_visit': True,\n  'readmission': True,\n  'estimated_blood_loss': 200,\n  'surgery_type': 'robotic',\n  'surgical_procedure': 'partial_nephrectomy',\n  'surgical_approach': 'Transperitoneal',\n  'operative_time': 224,\n  'cytoreductive': False,\n  'positive_resection_margins': False,\n  'last_preop_egfr': {'value': '>=90', 'days_before_nephrectomy': 31},\n  'first_postop_egfr': {'value': 72.0, 'days_before_nephrectomy': 96},\n  'last_postop_egfr': {'value': 84.0, 'days_before_nephrectomy': 472},\n  'vital_status': 'dead',\n  'vital_days_after_surgery': 478,\n  'voxel_spacing': {'x_spacing': 0.72265625,\n   'y_spacing': 0.72265625,\n   'z_spacing': 5.0}},\n {'case_id': 'case_00123',\n  'age_at_nephrectomy': 46,\n  'gender': 'male',\n  'body_mass_index': 28.73,\n  'comorbidities': {'myocardial_infarction': False,\n   'congestive_heart_failure': False,\n   'peripheral_vascular_disease': False,\n   'cerebrovascular_disease': False,\n   'dementia': False,\n   'copd': False,\n   'connective_tissue_disease': False,\n   'peptic_ulcer_disease': False,\n   'uncomplicated_diabetes_mellitus': True,\n   'diabetes_mellitus_with_end_organ_damage': False,\n   'chronic_kidney_disease': False,\n   'hemiplegia_from_stroke': False,\n   'leukemia': False,\n   'malignant_lymphoma': False,\n   'localized_solid_tumor': False,\n   'metastatic_solid_tumor': False,\n   'mild_liver_disease': False,\n   'moderate_to_severe_liver_disease': False,\n   'aids': False},\n  'smoking_history': 'never_smoked',\n  'age_when_quit_smoking': 'not_applicable',\n  'pack_years': 0,\n  'chewing_tobacco_use': 'never_or_not_in_last_3mo',\n  'alcohol_use': 'never_or_not_in_last_3mo',\n  'intraoperative_complications': {'blood_transfusion': False,\n   'injury_to_surrounding_organ': False,\n   'cardiac_event': False},\n  'hospitalization': 1,\n  'ischemia_time': 11,\n  'radiographic_size': 1.7,\n  'pathologic_size': 1.5,\n  'malignant': True,\n  'pathology_t_stage': '1a',\n  'pathology_n_stage': '0',\n  'pathology_m_stage': '0',\n  'tumor_histologic_subtype': 'clear_cell_rcc',\n  'tumor_necrosis': False,\n  'tumor_isup_grade': 2,\n  'clavien_surgical_complications': '0',\n  'er_visit': False,\n  'readmission': False,\n  'estimated_blood_loss': 50,\n  'surgery_type': 'robotic',\n  'surgical_procedure': 'partial_nephrectomy',\n  'surgical_approach': 'Transperitoneal',\n  'operative_time': 247,\n  'cytoreductive': False,\n  'positive_resection_margins': False,\n  'last_preop_egfr': {'value': 82.0, 'days_before_nephrectomy': 1},\n  'first_postop_egfr': {'value': None, 'days_before_nephrectomy': None},\n  'last_postop_egfr': {'value': None, 'days_before_nephrectomy': None},\n  'vital_status': 'censored',\n  'vital_days_after_surgery': 8,\n  'voxel_spacing': {'x_spacing': 0.8691409826278687,\n   'y_spacing': 0.8691409826278687,\n   'z_spacing': 1.25}},\n {'case_id': 'case_00124',\n  'age_at_nephrectomy': 64,\n  'gender': 'male',\n  'body_mass_index': 26.78,\n  'comorbidities': {'myocardial_infarction': False,\n   'congestive_heart_failure': False,\n   'peripheral_vascular_disease': False,\n   'cerebrovascular_disease': False,\n   'dementia': False,\n   'copd': False,\n   'connective_tissue_disease': False,\n   'peptic_ulcer_disease': False,\n   'uncomplicated_diabetes_mellitus': False,\n   'diabetes_mellitus_with_end_organ_damage': False,\n   'chronic_kidney_disease': False,\n   'hemiplegia_from_stroke': False,\n   'leukemia': False,\n   'malignant_lymphoma': False,\n   'localized_solid_tumor': True,\n   'metastatic_solid_tumor': False,\n   'mild_liver_disease': False,\n   'moderate_to_severe_liver_disease': False,\n   'aids': False},\n  'smoking_history': 'previous_smoker',\n  'age_when_quit_smoking': '50',\n  'pack_years': '45',\n  'chewing_tobacco_use': 'never_or_not_in_last_3mo',\n  'alcohol_use': 'never_or_not_in_last_3mo',\n  'intraoperative_complications': {'blood_transfusion': False,\n   'injury_to_surrounding_organ': False,\n   'cardiac_event': False},\n  'hospitalization': 11,\n  'ischemia_time': None,\n  'radiographic_size': 2.1,\n  'pathologic_size': 2.3,\n  'malignant': True,\n  'pathology_t_stage': '1a',\n  'pathology_n_stage': 'X',\n  'pathology_m_stage': 'X',\n  'tumor_histologic_subtype': 'papillary',\n  'tumor_necrosis': False,\n  'tumor_isup_grade': 1,\n  'clavien_surgical_complications': '3a',\n  'er_visit': True,\n  'readmission': False,\n  'estimated_blood_loss': 300,\n  'surgery_type': 'open',\n  'surgical_procedure': 'partial_nephrectomy',\n  'surgical_approach': 'Retroperitoneal',\n  'operative_time': 442,\n  'cytoreductive': False,\n  'positive_resection_margins': False,\n  'last_preop_egfr': {'value': None, 'days_before_nephrectomy': None},\n  'first_postop_egfr': {'value': 90.0, 'days_before_nephrectomy': 150},\n  'last_postop_egfr': {'value': 81.0, 'days_before_nephrectomy': 421},\n  'vital_status': 'censored',\n  'vital_days_after_surgery': 505,\n  'voxel_spacing': {'x_spacing': 0.703125,\n   'y_spacing': 0.703125,\n   'z_spacing': 2.5}},\n {'case_id': 'case_00125',\n  'age_at_nephrectomy': 46,\n  'gender': 'male',\n  'body_mass_index': 37.56,\n  'comorbidities': {'myocardial_infarction': False,\n   'congestive_heart_failure': False,\n   'peripheral_vascular_disease': False,\n   'cerebrovascular_disease': False,\n   'dementia': False,\n   'copd': False,\n   'connective_tissue_disease': False,\n   'peptic_ulcer_disease': False,\n   'uncomplicated_diabetes_mellitus': False,\n   'diabetes_mellitus_with_end_organ_damage': False,\n   'chronic_kidney_disease': False,\n   'hemiplegia_from_stroke': False,\n   'leukemia': False,\n   'malignant_lymphoma': False,\n   'localized_solid_tumor': False,\n   'metastatic_solid_tumor': False,\n   'mild_liver_disease': False,\n   'moderate_to_severe_liver_disease': False,\n   'aids': False},\n  'smoking_history': 'current_smoker',\n  'age_when_quit_smoking': 'not_applicable',\n  'pack_years': '36',\n  'chewing_tobacco_use': 'never_or_not_in_last_3mo',\n  'alcohol_use': 'never_or_not_in_last_3mo',\n  'intraoperative_complications': {'blood_transfusion': False,\n   'injury_to_surrounding_organ': False,\n   'cardiac_event': False},\n  'hospitalization': 5,\n  'ischemia_time': 14,\n  'radiographic_size': 3.0,\n  'pathologic_size': 2.2,\n  'malignant': True,\n  'pathology_t_stage': '1a',\n  'pathology_n_stage': 'X',\n  'pathology_m_stage': 'X',\n  'tumor_histologic_subtype': 'clear_cell_rcc',\n  'tumor_necrosis': False,\n  'tumor_isup_grade': 2,\n  'clavien_surgical_complications': '1',\n  'er_visit': False,\n  'readmission': True,\n  'estimated_blood_loss': 50,\n  'surgery_type': 'open',\n  'surgical_procedure': 'partial_nephrectomy',\n  'surgical_approach': 'Retroperitoneal',\n  'operative_time': 242,\n  'cytoreductive': False,\n  'positive_resection_margins': False,\n  'last_preop_egfr': {'value': '>=90', 'days_before_nephrectomy': 7},\n  'first_postop_egfr': {'value': None, 'days_before_nephrectomy': None},\n  'last_postop_egfr': {'value': None, 'days_before_nephrectomy': None},\n  'vital_status': 'dead',\n  'vital_days_after_surgery': 1054,\n  'voxel_spacing': {'x_spacing': 0.9765625,\n   'y_spacing': 0.9765625,\n   'z_spacing': 3.0}},\n {'case_id': 'case_00126',\n  'age_at_nephrectomy': 67,\n  'gender': 'male',\n  'body_mass_index': 42.83,\n  'comorbidities': {'myocardial_infarction': True,\n   'congestive_heart_failure': True,\n   'peripheral_vascular_disease': False,\n   'cerebrovascular_disease': False,\n   'dementia': False,\n   'copd': False,\n   'connective_tissue_disease': False,\n   'peptic_ulcer_disease': False,\n   'uncomplicated_diabetes_mellitus': True,\n   'diabetes_mellitus_with_end_organ_damage': False,\n   'chronic_kidney_disease': False,\n   'hemiplegia_from_stroke': False,\n   'leukemia': False,\n   'malignant_lymphoma': False,\n   'localized_solid_tumor': False,\n   'metastatic_solid_tumor': False,\n   'mild_liver_disease': False,\n   'moderate_to_severe_liver_disease': False,\n   'aids': False},\n  'smoking_history': 'previous_smoker',\n  'age_when_quit_smoking': '29',\n  'pack_years': '20',\n  'chewing_tobacco_use': 'never_or_not_in_last_3mo',\n  'alcohol_use': 'two_or_less_daily',\n  'intraoperative_complications': {'blood_transfusion': False,\n   'injury_to_surrounding_organ': False,\n   'cardiac_event': False},\n  'hospitalization': 4,\n  'ischemia_time': 'not_applicable',\n  'radiographic_size': 5.0,\n  'pathologic_size': 4.5,\n  'malignant': True,\n  'pathology_t_stage': '1b',\n  'pathology_n_stage': 'X',\n  'pathology_m_stage': 'X',\n  'tumor_histologic_subtype': 'clear_cell_rcc',\n  'tumor_necrosis': False,\n  'tumor_isup_grade': 3,\n  'clavien_surgical_complications': '0',\n  'er_visit': False,\n  'readmission': False,\n  'estimated_blood_loss': 750,\n  'surgery_type': 'open',\n  'surgical_procedure': 'radical_nephrectomy',\n  'surgical_approach': 'Transperitoneal',\n  'operative_time': 360,\n  'cytoreductive': False,\n  'positive_resection_margins': False,\n  'last_preop_egfr': {'value': '>=90', 'days_before_nephrectomy': 24},\n  'first_postop_egfr': {'value': 73.0, 'days_before_nephrectomy': 158},\n  'last_postop_egfr': {'value': 83.0, 'days_before_nephrectomy': 2584},\n  'vital_status': 'censored',\n  'vital_days_after_surgery': 2611,\n  'voxel_spacing': {'x_spacing': 0.94140625,\n   'y_spacing': 0.94140625,\n   'z_spacing': 5.0}},\n {'case_id': 'case_00127',\n  'age_at_nephrectomy': 46,\n  'gender': 'male',\n  'body_mass_index': 37.3,\n  'comorbidities': {'myocardial_infarction': False,\n   'congestive_heart_failure': False,\n   'peripheral_vascular_disease': False,\n   'cerebrovascular_disease': False,\n   'dementia': False,\n   'copd': False,\n   'connective_tissue_disease': False,\n   'peptic_ulcer_disease': False,\n   'uncomplicated_diabetes_mellitus': False,\n   'diabetes_mellitus_with_end_organ_damage': False,\n   'chronic_kidney_disease': False,\n   'hemiplegia_from_stroke': False,\n   'leukemia': False,\n   'malignant_lymphoma': False,\n   'localized_solid_tumor': False,\n   'metastatic_solid_tumor': False,\n   'mild_liver_disease': False,\n   'moderate_to_severe_liver_disease': False,\n   'aids': False},\n  'smoking_history': 'never_smoked',\n  'age_when_quit_smoking': 'not_applicable',\n  'pack_years': 0,\n  'chewing_tobacco_use': 'never_or_not_in_last_3mo',\n  'alcohol_use': 'two_or_less_daily',\n  'intraoperative_complications': {'blood_transfusion': False,\n   'injury_to_surrounding_organ': False,\n   'cardiac_event': False},\n  'hospitalization': 2,\n  'ischemia_time': 32,\n  'radiographic_size': 2.7,\n  'pathologic_size': 1.9,\n  'malignant': True,\n  'pathology_t_stage': '1a',\n  'pathology_n_stage': 'X',\n  'pathology_m_stage': 'X',\n  'tumor_histologic_subtype': 'clear_cell_rcc',\n  'tumor_necrosis': False,\n  'tumor_isup_grade': 1,\n  'clavien_surgical_complications': '2',\n  'er_visit': True,\n  'readmission': False,\n  'estimated_blood_loss': 180,\n  'surgery_type': 'robotic',\n  'surgical_procedure': 'partial_nephrectomy',\n  'surgical_approach': 'Transperitoneal',\n  'operative_time': 222,\n  'cytoreductive': False,\n  'positive_resection_margins': False,\n  'last_preop_egfr': {'value': '>=90', 'days_before_nephrectomy': 50},\n  'first_postop_egfr': {'value': 89.0, 'days_before_nephrectomy': 198},\n  'last_postop_egfr': {'value': 89.0, 'days_before_nephrectomy': 198},\n  'vital_status': 'censored',\n  'vital_days_after_surgery': 198,\n  'voxel_spacing': {'x_spacing': 0.9765625,\n   'y_spacing': 0.9765625,\n   'z_spacing': 3.0}},\n {'case_id': 'case_00128',\n  'age_at_nephrectomy': 60,\n  'gender': 'male',\n  'body_mass_index': 38.54,\n  'comorbidities': {'myocardial_infarction': True,\n   'congestive_heart_failure': False,\n   'peripheral_vascular_disease': False,\n   'cerebrovascular_disease': False,\n   'dementia': False,\n   'copd': False,\n   'connective_tissue_disease': False,\n   'peptic_ulcer_disease': False,\n   'uncomplicated_diabetes_mellitus': False,\n   'diabetes_mellitus_with_end_organ_damage': False,\n   'chronic_kidney_disease': False,\n   'hemiplegia_from_stroke': False,\n   'leukemia': False,\n   'malignant_lymphoma': False,\n   'localized_solid_tumor': False,\n   'metastatic_solid_tumor': False,\n   'mild_liver_disease': False,\n   'moderate_to_severe_liver_disease': False,\n   'aids': False},\n  'smoking_history': 'never_smoked',\n  'age_when_quit_smoking': 'not_applicable',\n  'pack_years': 0,\n  'chewing_tobacco_use': 'never_or_not_in_last_3mo',\n  'alcohol_use': 'more_than_two_daily',\n  'intraoperative_complications': {'blood_transfusion': False,\n   'injury_to_surrounding_organ': False,\n   'cardiac_event': False},\n  'hospitalization': 7,\n  'ischemia_time': 34,\n  'radiographic_size': 2.6,\n  'pathologic_size': 4.2,\n  'malignant': True,\n  'pathology_t_stage': '1b',\n  'pathology_n_stage': '0',\n  'pathology_m_stage': '0',\n  'tumor_histologic_subtype': 'clear_cell_rcc',\n  'tumor_necrosis': False,\n  'tumor_isup_grade': 2,\n  'clavien_surgical_complications': '1',\n  'er_visit': False,\n  'readmission': False,\n  'estimated_blood_loss': 300,\n  'surgery_type': 'open',\n  'surgical_procedure': 'partial_nephrectomy',\n  'surgical_approach': 'Retroperitoneal',\n  'operative_time': 218,\n  'cytoreductive': False,\n  'positive_resection_margins': False,\n  'last_preop_egfr': {'value': 82.0, 'days_before_nephrectomy': 2},\n  'first_postop_egfr': {'value': 71.0, 'days_before_nephrectomy': 76},\n  'last_postop_egfr': {'value': 62.0, 'days_before_nephrectomy': 467},\n  'vital_status': 'censored',\n  'vital_days_after_surgery': 480,\n  'voxel_spacing': {'x_spacing': 0.8789060115814209,\n   'y_spacing': 0.8789060115814209,\n   'z_spacing': 2.5}},\n {'case_id': 'case_00129',\n  'age_at_nephrectomy': 47,\n  'gender': 'male',\n  'body_mass_index': 28.19,\n  'comorbidities': {'myocardial_infarction': False,\n   'congestive_heart_failure': False,\n   'peripheral_vascular_disease': False,\n   'cerebrovascular_disease': False,\n   'dementia': False,\n   'copd': False,\n   'connective_tissue_disease': False,\n   'peptic_ulcer_disease': False,\n   'uncomplicated_diabetes_mellitus': False,\n   'diabetes_mellitus_with_end_organ_damage': False,\n   'chronic_kidney_disease': False,\n   'hemiplegia_from_stroke': False,\n   'leukemia': False,\n   'malignant_lymphoma': False,\n   'localized_solid_tumor': False,\n   'metastatic_solid_tumor': False,\n   'mild_liver_disease': False,\n   'moderate_to_severe_liver_disease': False,\n   'aids': False},\n  'smoking_history': 'current_smoker',\n  'age_when_quit_smoking': 'not_applicable',\n  'pack_years': None,\n  'chewing_tobacco_use': 'never_or_not_in_last_3mo',\n  'alcohol_use': 'more_than_two_daily',\n  'intraoperative_complications': {'blood_transfusion': False,\n   'injury_to_surrounding_organ': False,\n   'cardiac_event': False},\n  'hospitalization': 5,\n  'ischemia_time': 43,\n  'radiographic_size': 2.6,\n  'pathologic_size': 2.8,\n  'malignant': True,\n  'pathology_t_stage': '1a',\n  'pathology_n_stage': '0',\n  'pathology_m_stage': '0',\n  'tumor_histologic_subtype': 'clear_cell_rcc',\n  'tumor_necrosis': False,\n  'tumor_isup_grade': 2,\n  'clavien_surgical_complications': '0',\n  'er_visit': False,\n  'readmission': False,\n  'estimated_blood_loss': 50,\n  'surgery_type': 'robotic',\n  'surgical_procedure': 'partial_nephrectomy',\n  'surgical_approach': 'Transperitoneal',\n  'operative_time': 320,\n  'cytoreductive': False,\n  'positive_resection_margins': False,\n  'last_preop_egfr': {'value': '>=90', 'days_before_nephrectomy': 77},\n  'first_postop_egfr': {'value': '>=90', 'days_before_nephrectomy': 578},\n  'last_postop_egfr': {'value': '>=90', 'days_before_nephrectomy': 578},\n  'vital_status': 'censored',\n  'vital_days_after_surgery': 584,\n  'voxel_spacing': {'x_spacing': 0.736328125,\n   'y_spacing': 0.736328125,\n   'z_spacing': 5.0}},\n {'case_id': 'case_00130',\n  'age_at_nephrectomy': 73,\n  'gender': 'female',\n  'body_mass_index': 23.02,\n  'comorbidities': {'myocardial_infarction': False,\n   'congestive_heart_failure': False,\n   'peripheral_vascular_disease': False,\n   'cerebrovascular_disease': False,\n   'dementia': False,\n   'copd': False,\n   'connective_tissue_disease': False,\n   'peptic_ulcer_disease': False,\n   'uncomplicated_diabetes_mellitus': False,\n   'diabetes_mellitus_with_end_organ_damage': False,\n   'chronic_kidney_disease': False,\n   'hemiplegia_from_stroke': False,\n   'leukemia': False,\n   'malignant_lymphoma': False,\n   'localized_solid_tumor': False,\n   'metastatic_solid_tumor': False,\n   'mild_liver_disease': False,\n   'moderate_to_severe_liver_disease': False,\n   'aids': False},\n  'smoking_history': 'never_smoked',\n  'age_when_quit_smoking': 'not_applicable',\n  'pack_years': 0,\n  'chewing_tobacco_use': 'never_or_not_in_last_3mo',\n  'alcohol_use': 'never_or_not_in_last_3mo',\n  'intraoperative_complications': {'blood_transfusion': False,\n   'injury_to_surrounding_organ': False,\n   'cardiac_event': False},\n  'hospitalization': 3,\n  'ischemia_time': 'not_applicable',\n  'radiographic_size': 4.5,\n  'pathologic_size': 5.7,\n  'malignant': True,\n  'pathology_t_stage': '1b',\n  'pathology_n_stage': '0',\n  'pathology_m_stage': '0',\n  'tumor_histologic_subtype': 'papillary',\n  'tumor_necrosis': False,\n  'tumor_isup_grade': 2,\n  'clavien_surgical_complications': '0',\n  'er_visit': False,\n  'readmission': False,\n  'estimated_blood_loss': 25,\n  'surgery_type': 'laparoscopic',\n  'surgical_procedure': 'radical_nephrectomy',\n  'surgical_approach': 'Transperitoneal',\n  'operative_time': 174,\n  'cytoreductive': False,\n  'positive_resection_margins': False,\n  'last_preop_egfr': {'value': 54.0, 'days_before_nephrectomy': 5},\n  'first_postop_egfr': {'value': None, 'days_before_nephrectomy': None},\n  'last_postop_egfr': {'value': None, 'days_before_nephrectomy': None},\n  'vital_status': 'censored',\n  'vital_days_after_surgery': 16,\n  'voxel_spacing': {'x_spacing': 0.546875,\n   'y_spacing': 0.546875,\n   'z_spacing': 3.0}},\n {'case_id': 'case_00131',\n  'age_at_nephrectomy': 42,\n  'gender': 'male',\n  'body_mass_index': 26.64,\n  'comorbidities': {'myocardial_infarction': False,\n   'congestive_heart_failure': False,\n   'peripheral_vascular_disease': False,\n   'cerebrovascular_disease': False,\n   'dementia': False,\n   'copd': False,\n   'connective_tissue_disease': False,\n   'peptic_ulcer_disease': False,\n   'uncomplicated_diabetes_mellitus': False,\n   'diabetes_mellitus_with_end_organ_damage': False,\n   'chronic_kidney_disease': False,\n   'hemiplegia_from_stroke': False,\n   'leukemia': False,\n   'malignant_lymphoma': False,\n   'localized_solid_tumor': False,\n   'metastatic_solid_tumor': False,\n   'mild_liver_disease': False,\n   'moderate_to_severe_liver_disease': False,\n   'aids': False},\n  'smoking_history': 'never_smoked',\n  'age_when_quit_smoking': 'not_applicable',\n  'pack_years': 0,\n  'chewing_tobacco_use': 'never_or_not_in_last_3mo',\n  'alcohol_use': 'never_or_not_in_last_3mo',\n  'intraoperative_complications': {'blood_transfusion': False,\n   'injury_to_surrounding_organ': False,\n   'cardiac_event': False},\n  'hospitalization': 5,\n  'ischemia_time': None,\n  'radiographic_size': 5.0,\n  'pathologic_size': 4.5,\n  'malignant': True,\n  'pathology_t_stage': '1b',\n  'pathology_n_stage': '0',\n  'pathology_m_stage': '0',\n  'tumor_histologic_subtype': 'clear_cell_rcc',\n  'tumor_necrosis': False,\n  'tumor_isup_grade': 3,\n  'clavien_surgical_complications': '0',\n  'er_visit': False,\n  'readmission': False,\n  'estimated_blood_loss': 400,\n  'surgery_type': 'open',\n  'surgical_procedure': 'partial_nephrectomy',\n  'surgical_approach': 'Retroperitoneal',\n  'operative_time': 331,\n  'cytoreductive': False,\n  'positive_resection_margins': False,\n  'last_preop_egfr': {'value': 84.0, 'days_before_nephrectomy': 13},\n  'first_postop_egfr': {'value': 75.0, 'days_before_nephrectomy': 200},\n  'last_postop_egfr': {'value': 90.0, 'days_before_nephrectomy': 2430},\n  'vital_status': 'censored',\n  'vital_days_after_surgery': 2437,\n  'voxel_spacing': {'x_spacing': 0.6679999828338623,\n   'y_spacing': 0.6679999828338623,\n   'z_spacing': 3.0}},\n {'case_id': 'case_00132',\n  'age_at_nephrectomy': 47,\n  'gender': 'female',\n  'body_mass_index': 30.59,\n  'comorbidities': {'myocardial_infarction': False,\n   'congestive_heart_failure': False,\n   'peripheral_vascular_disease': False,\n   'cerebrovascular_disease': False,\n   'dementia': False,\n   'copd': False,\n   'connective_tissue_disease': False,\n   'peptic_ulcer_disease': False,\n   'uncomplicated_diabetes_mellitus': False,\n   'diabetes_mellitus_with_end_organ_damage': False,\n   'chronic_kidney_disease': False,\n   'hemiplegia_from_stroke': False,\n   'leukemia': False,\n   'malignant_lymphoma': False,\n   'localized_solid_tumor': False,\n   'metastatic_solid_tumor': False,\n   'mild_liver_disease': False,\n   'moderate_to_severe_liver_disease': False,\n   'aids': False},\n  'smoking_history': 'never_smoked',\n  'age_when_quit_smoking': 'not_applicable',\n  'pack_years': 0,\n  'chewing_tobacco_use': 'never_or_not_in_last_3mo',\n  'alcohol_use': 'two_or_less_daily',\n  'intraoperative_complications': {'blood_transfusion': False,\n   'injury_to_surrounding_organ': False,\n   'cardiac_event': False},\n  'hospitalization': 4,\n  'ischemia_time': 19,\n  'radiographic_size': 2.0,\n  'pathologic_size': 2.0,\n  'malignant': True,\n  'pathology_t_stage': '1a',\n  'pathology_n_stage': 'X',\n  'pathology_m_stage': 'X',\n  'tumor_histologic_subtype': 'clear_cell_rcc',\n  'tumor_necrosis': None,\n  'tumor_isup_grade': 2,\n  'clavien_surgical_complications': '1',\n  'er_visit': False,\n  'readmission': False,\n  'estimated_blood_loss': 20,\n  'surgery_type': 'robotic',\n  'surgical_procedure': 'partial_nephrectomy',\n  'surgical_approach': 'Transperitoneal',\n  'operative_time': 216,\n  'cytoreductive': False,\n  'positive_resection_margins': False,\n  'last_preop_egfr': {'value': 77.0, 'days_before_nephrectomy': 35},\n  'first_postop_egfr': {'value': 88.0, 'days_before_nephrectomy': 2393},\n  'last_postop_egfr': {'value': 88.0, 'days_before_nephrectomy': 2393},\n  'vital_status': 'censored',\n  'vital_days_after_surgery': 2393,\n  'voxel_spacing': {'x_spacing': 0.712890625,\n   'y_spacing': 0.712890625,\n   'z_spacing': 0.5}},\n {'case_id': 'case_00133',\n  'age_at_nephrectomy': 67,\n  'gender': 'female',\n  'body_mass_index': 35.19,\n  'comorbidities': {'myocardial_infarction': False,\n   'congestive_heart_failure': False,\n   'peripheral_vascular_disease': False,\n   'cerebrovascular_disease': False,\n   'dementia': False,\n   'copd': False,\n   'connective_tissue_disease': False,\n   'peptic_ulcer_disease': False,\n   'uncomplicated_diabetes_mellitus': False,\n   'diabetes_mellitus_with_end_organ_damage': False,\n   'chronic_kidney_disease': False,\n   'hemiplegia_from_stroke': False,\n   'leukemia': False,\n   'malignant_lymphoma': False,\n   'localized_solid_tumor': True,\n   'metastatic_solid_tumor': False,\n   'mild_liver_disease': False,\n   'moderate_to_severe_liver_disease': False,\n   'aids': False},\n  'smoking_history': 'previous_smoker',\n  'age_when_quit_smoking': '39',\n  'pack_years': None,\n  'chewing_tobacco_use': 'never_or_not_in_last_3mo',\n  'alcohol_use': 'never_or_not_in_last_3mo',\n  'intraoperative_complications': {'blood_transfusion': False,\n   'injury_to_surrounding_organ': False,\n   'cardiac_event': False},\n  'hospitalization': 3,\n  'ischemia_time': 'not_applicable',\n  'radiographic_size': 4.8,\n  'pathologic_size': 4.5,\n  'malignant': False,\n  'pathology_t_stage': '0',\n  'pathology_n_stage': '0',\n  'pathology_m_stage': '0',\n  'tumor_histologic_subtype': 'mest',\n  'tumor_necrosis': None,\n  'tumor_isup_grade': None,\n  'clavien_surgical_complications': '0',\n  'er_visit': False,\n  'readmission': False,\n  'estimated_blood_loss': 20,\n  'surgery_type': 'laparoscopic',\n  'surgical_procedure': 'radical_nephrectomy',\n  'surgical_approach': 'Transperitoneal',\n  'operative_time': 175,\n  'cytoreductive': False,\n  'positive_resection_margins': False,\n  'last_preop_egfr': {'value': 64.0, 'days_before_nephrectomy': 26},\n  'first_postop_egfr': {'value': None, 'days_before_nephrectomy': None},\n  'last_postop_egfr': {'value': None, 'days_before_nephrectomy': None},\n  'vital_status': 'censored',\n  'vital_days_after_surgery': 16,\n  'voxel_spacing': {'x_spacing': 0.8496090173721313,\n   'y_spacing': 0.8496090173721313,\n   'z_spacing': 2.5}},\n {'case_id': 'case_00134',\n  'age_at_nephrectomy': 53,\n  'gender': 'female',\n  'body_mass_index': 49.61,\n  'comorbidities': {'myocardial_infarction': False,\n   'congestive_heart_failure': True,\n   'peripheral_vascular_disease': False,\n   'cerebrovascular_disease': False,\n   'dementia': False,\n   'copd': True,\n   'connective_tissue_disease': False,\n   'peptic_ulcer_disease': False,\n   'uncomplicated_diabetes_mellitus': False,\n   'diabetes_mellitus_with_end_organ_damage': True,\n   'chronic_kidney_disease': True,\n   'hemiplegia_from_stroke': False,\n   'leukemia': False,\n   'malignant_lymphoma': False,\n   'localized_solid_tumor': False,\n   'metastatic_solid_tumor': False,\n   'mild_liver_disease': False,\n   'moderate_to_severe_liver_disease': False,\n   'aids': False},\n  'smoking_history': 'previous_smoker',\n  'age_when_quit_smoking': '54',\n  'pack_years': '45',\n  'chewing_tobacco_use': 'never_or_not_in_last_3mo',\n  'alcohol_use': 'two_or_less_daily',\n  'intraoperative_complications': {'blood_transfusion': False,\n   'injury_to_surrounding_organ': False,\n   'cardiac_event': False},\n  'hospitalization': 5,\n  'ischemia_time': 'not_applicable',\n  'radiographic_size': 5.1,\n  'pathologic_size': 4.3,\n  'malignant': True,\n  'pathology_t_stage': '1b',\n  'pathology_n_stage': 'X',\n  'pathology_m_stage': 'X',\n  'tumor_histologic_subtype': 'clear_cell_rcc',\n  'tumor_necrosis': False,\n  'tumor_isup_grade': 1,\n  'clavien_surgical_complications': '0',\n  'er_visit': False,\n  'readmission': False,\n  'estimated_blood_loss': 100,\n  'surgery_type': 'laparoscopic',\n  'surgical_procedure': 'radical_nephrectomy',\n  'surgical_approach': 'Transperitoneal',\n  'operative_time': 392,\n  'cytoreductive': False,\n  'positive_resection_margins': False,\n  'last_preop_egfr': {'value': 66.0, 'days_before_nephrectomy': 55},\n  'first_postop_egfr': {'value': 35.0, 'days_before_nephrectomy': 113},\n  'last_postop_egfr': {'value': 35.0, 'days_before_nephrectomy': 2499},\n  'vital_status': 'censored',\n  'vital_days_after_surgery': 2539,\n  'voxel_spacing': {'x_spacing': 0.947265625,\n   'y_spacing': 0.947265625,\n   'z_spacing': 3.0}},\n {'case_id': 'case_00135',\n  'age_at_nephrectomy': 48,\n  'gender': 'female',\n  'body_mass_index': 33.41,\n  'comorbidities': {'myocardial_infarction': False,\n   'congestive_heart_failure': False,\n   'peripheral_vascular_disease': False,\n   'cerebrovascular_disease': False,\n   'dementia': False,\n   'copd': False,\n   'connective_tissue_disease': False,\n   'peptic_ulcer_disease': False,\n   'uncomplicated_diabetes_mellitus': False,\n   'diabetes_mellitus_with_end_organ_damage': False,\n   'chronic_kidney_disease': False,\n   'hemiplegia_from_stroke': False,\n   'leukemia': False,\n   'malignant_lymphoma': False,\n   'localized_solid_tumor': False,\n   'metastatic_solid_tumor': False,\n   'mild_liver_disease': False,\n   'moderate_to_severe_liver_disease': False,\n   'aids': False},\n  'smoking_history': 'never_smoked',\n  'age_when_quit_smoking': 'not_applicable',\n  'pack_years': 0,\n  'chewing_tobacco_use': 'never_or_not_in_last_3mo',\n  'alcohol_use': 'never_or_not_in_last_3mo',\n  'intraoperative_complications': {'blood_transfusion': False,\n   'injury_to_surrounding_organ': False,\n   'cardiac_event': False},\n  'hospitalization': 2,\n  'ischemia_time': 'not_applicable',\n  'radiographic_size': 11.5,\n  'pathologic_size': 11.5,\n  'malignant': True,\n  'pathology_t_stage': '2b',\n  'pathology_n_stage': '0',\n  'pathology_m_stage': '0',\n  'tumor_histologic_subtype': 'chromophobe',\n  'tumor_necrosis': True,\n  'tumor_isup_grade': None,\n  'clavien_surgical_complications': '0',\n  'er_visit': False,\n  'readmission': False,\n  'estimated_blood_loss': 250,\n  'surgery_type': 'robotic',\n  'surgical_procedure': 'radical_nephrectomy',\n  'surgical_approach': 'Transperitoneal',\n  'operative_time': 183,\n  'cytoreductive': False,\n  'positive_resection_margins': False,\n  'last_preop_egfr': {'value': 68.0, 'days_before_nephrectomy': 3},\n  'first_postop_egfr': {'value': 53.0, 'days_before_nephrectomy': 105},\n  'last_postop_egfr': {'value': 44.0, 'days_before_nephrectomy': 353},\n  'vital_status': 'censored',\n  'vital_days_after_surgery': 353,\n  'voxel_spacing': {'x_spacing': 0.837890625,\n   'y_spacing': 0.837890625,\n   'z_spacing': 0.5}},\n {'case_id': 'case_00136',\n  'age_at_nephrectomy': 52,\n  'gender': 'male',\n  'body_mass_index': 26.26,\n  'comorbidities': {'myocardial_infarction': False,\n   'congestive_heart_failure': False,\n   'peripheral_vascular_disease': False,\n   'cerebrovascular_disease': False,\n   'dementia': False,\n   'copd': False,\n   'connective_tissue_disease': False,\n   'peptic_ulcer_disease': False,\n   'uncomplicated_diabetes_mellitus': False,\n   'diabetes_mellitus_with_end_organ_damage': False,\n   'chronic_kidney_disease': False,\n   'hemiplegia_from_stroke': False,\n   'leukemia': False,\n   'malignant_lymphoma': False,\n   'localized_solid_tumor': False,\n   'metastatic_solid_tumor': False,\n   'mild_liver_disease': False,\n   'moderate_to_severe_liver_disease': False,\n   'aids': False},\n  'smoking_history': 'never_smoked',\n  'age_when_quit_smoking': 'not_applicable',\n  'pack_years': 0,\n  'chewing_tobacco_use': 'never_or_not_in_last_3mo',\n  'alcohol_use': 'never_or_not_in_last_3mo',\n  'intraoperative_complications': {'blood_transfusion': False,\n   'injury_to_surrounding_organ': False,\n   'cardiac_event': False},\n  'hospitalization': 4,\n  'ischemia_time': 22,\n  'radiographic_size': 2.3,\n  'pathologic_size': 2.3,\n  'malignant': True,\n  'pathology_t_stage': '1a',\n  'pathology_n_stage': '0',\n  'pathology_m_stage': '0',\n  'tumor_histologic_subtype': 'clear_cell_rcc',\n  'tumor_necrosis': False,\n  'tumor_isup_grade': 2,\n  'clavien_surgical_complications': '4',\n  'er_visit': True,\n  'readmission': False,\n  'estimated_blood_loss': 460,\n  'surgery_type': 'robotic',\n  'surgical_procedure': 'partial_nephrectomy',\n  'surgical_approach': 'Transperitoneal',\n  'operative_time': 204,\n  'cytoreductive': False,\n  'positive_resection_margins': False,\n  'last_preop_egfr': {'value': 89.0, 'days_before_nephrectomy': 1},\n  'first_postop_egfr': {'value': 75.0, 'days_before_nephrectomy': 745},\n  'last_postop_egfr': {'value': 75.0, 'days_before_nephrectomy': 745},\n  'vital_status': 'censored',\n  'vital_days_after_surgery': 775,\n  'voxel_spacing': {'x_spacing': 0.68359375,\n   'y_spacing': 0.68359375,\n   'z_spacing': 5.0}},\n {'case_id': 'case_00137',\n  'age_at_nephrectomy': 67,\n  'gender': 'female',\n  'body_mass_index': 28.5,\n  'comorbidities': {'myocardial_infarction': False,\n   'congestive_heart_failure': False,\n   'peripheral_vascular_disease': False,\n   'cerebrovascular_disease': False,\n   'dementia': False,\n   'copd': False,\n   'connective_tissue_disease': False,\n   'peptic_ulcer_disease': False,\n   'uncomplicated_diabetes_mellitus': False,\n   'diabetes_mellitus_with_end_organ_damage': False,\n   'chronic_kidney_disease': True,\n   'hemiplegia_from_stroke': False,\n   'leukemia': False,\n   'malignant_lymphoma': True,\n   'localized_solid_tumor': False,\n   'metastatic_solid_tumor': False,\n   'mild_liver_disease': False,\n   'moderate_to_severe_liver_disease': True,\n   'aids': False},\n  'smoking_history': 'never_smoked',\n  'age_when_quit_smoking': 'not_applicable',\n  'pack_years': 0,\n  'chewing_tobacco_use': 'never_or_not_in_last_3mo',\n  'alcohol_use': 'never_or_not_in_last_3mo',\n  'intraoperative_complications': {'blood_transfusion': False,\n   'injury_to_surrounding_organ': False,\n   'cardiac_event': False},\n  'hospitalization': 23,\n  'ischemia_time': 17,\n  'radiographic_size': 1.66,\n  'pathologic_size': 1.2,\n  'malignant': False,\n  'pathology_t_stage': '0',\n  'pathology_n_stage': '0',\n  'pathology_m_stage': '0',\n  'tumor_histologic_subtype': 'angiomyolipoma',\n  'tumor_necrosis': None,\n  'tumor_isup_grade': None,\n  'clavien_surgical_complications': '4',\n  'er_visit': False,\n  'readmission': False,\n  'estimated_blood_loss': 500,\n  'surgery_type': 'robotic',\n  'surgical_procedure': 'partial_nephrectomy',\n  'surgical_approach': 'Transperitoneal',\n  'operative_time': 188,\n  'cytoreductive': False,\n  'positive_resection_margins': False,\n  'last_preop_egfr': {'value': 56.0, 'days_before_nephrectomy': 28},\n  'first_postop_egfr': {'value': 42.0, 'days_before_nephrectomy': 84},\n  'last_postop_egfr': {'value': 46.0, 'days_before_nephrectomy': 1487},\n  'vital_status': 'censored',\n  'vital_days_after_surgery': 1536,\n  'voxel_spacing': {'x_spacing': 0.7421875,\n   'y_spacing': 0.7421875,\n   'z_spacing': 2.5}},\n {'case_id': 'case_00138',\n  'age_at_nephrectomy': 69,\n  'gender': 'female',\n  'body_mass_index': 45.6,\n  'comorbidities': {'myocardial_infarction': False,\n   'congestive_heart_failure': False,\n   'peripheral_vascular_disease': True,\n   'cerebrovascular_disease': True,\n   'dementia': False,\n   'copd': False,\n   'connective_tissue_disease': True,\n   'peptic_ulcer_disease': False,\n   'uncomplicated_diabetes_mellitus': False,\n   'diabetes_mellitus_with_end_organ_damage': False,\n   'chronic_kidney_disease': False,\n   'hemiplegia_from_stroke': False,\n   'leukemia': False,\n   'malignant_lymphoma': False,\n   'localized_solid_tumor': False,\n   'metastatic_solid_tumor': False,\n   'mild_liver_disease': False,\n   'moderate_to_severe_liver_disease': False,\n   'aids': False},\n  'smoking_history': 'current_smoker',\n  'age_when_quit_smoking': 'not_applicable',\n  'pack_years': None,\n  'chewing_tobacco_use': 'never_or_not_in_last_3mo',\n  'alcohol_use': 'never_or_not_in_last_3mo',\n  'intraoperative_complications': {'blood_transfusion': False,\n   'injury_to_surrounding_organ': False,\n   'cardiac_event': False},\n  'hospitalization': 2,\n  'ischemia_time': 20,\n  'radiographic_size': 3.48,\n  'pathologic_size': 3.5,\n  'malignant': True,\n  'pathology_t_stage': '1a',\n  'pathology_n_stage': '0',\n  'pathology_m_stage': '0',\n  'tumor_histologic_subtype': 'clear_cell_rcc',\n  'tumor_necrosis': False,\n  'tumor_isup_grade': 2,\n  'clavien_surgical_complications': '0',\n  'er_visit': False,\n  'readmission': False,\n  'estimated_blood_loss': 150,\n  'surgery_type': 'robotic',\n  'surgical_procedure': 'partial_nephrectomy',\n  'surgical_approach': 'Transperitoneal',\n  'operative_time': 144,\n  'cytoreductive': False,\n  'positive_resection_margins': False,\n  'last_preop_egfr': {'value': 85.0, 'days_before_nephrectomy': 1},\n  'first_postop_egfr': {'value': '>=90', 'days_before_nephrectomy': 1104},\n  'last_postop_egfr': {'value': '>=90', 'days_before_nephrectomy': 1104},\n  'vital_status': 'censored',\n  'vital_days_after_surgery': 1105,\n  'voxel_spacing': {'x_spacing': 0.68359375,\n   'y_spacing': 0.68359375,\n   'z_spacing': 3.0}},\n {'case_id': 'case_00139',\n  'age_at_nephrectomy': 58,\n  'gender': 'male',\n  'body_mass_index': 27.12,\n  'comorbidities': {'myocardial_infarction': False,\n   'congestive_heart_failure': False,\n   'peripheral_vascular_disease': False,\n   'cerebrovascular_disease': False,\n   'dementia': False,\n   'copd': False,\n   'connective_tissue_disease': False,\n   'peptic_ulcer_disease': False,\n   'uncomplicated_diabetes_mellitus': False,\n   'diabetes_mellitus_with_end_organ_damage': False,\n   'chronic_kidney_disease': False,\n   'hemiplegia_from_stroke': False,\n   'leukemia': False,\n   'malignant_lymphoma': False,\n   'localized_solid_tumor': False,\n   'metastatic_solid_tumor': False,\n   'mild_liver_disease': False,\n   'moderate_to_severe_liver_disease': False,\n   'aids': False},\n  'smoking_history': 'never_smoked',\n  'age_when_quit_smoking': 'not_applicable',\n  'pack_years': 0,\n  'chewing_tobacco_use': 'never_or_not_in_last_3mo',\n  'alcohol_use': 'two_or_less_daily',\n  'intraoperative_complications': {'blood_transfusion': True,\n   'injury_to_surrounding_organ': False,\n   'cardiac_event': False},\n  'hospitalization': 6,\n  'ischemia_time': 'not_applicable',\n  'radiographic_size': 12.7,\n  'pathologic_size': 13.6,\n  'malignant': True,\n  'pathology_t_stage': '3',\n  'pathology_n_stage': '1',\n  'pathology_m_stage': 'X',\n  'tumor_histologic_subtype': 'chromophobe',\n  'tumor_necrosis': True,\n  'tumor_isup_grade': None,\n  'clavien_surgical_complications': '2',\n  'er_visit': False,\n  'readmission': False,\n  'estimated_blood_loss': 1000,\n  'surgery_type': 'open',\n  'surgical_procedure': 'radical_nephrectomy',\n  'surgical_approach': 'Transperitoneal',\n  'operative_time': 553,\n  'cytoreductive': False,\n  'positive_resection_margins': False,\n  'last_preop_egfr': {'value': 53.0, 'days_before_nephrectomy': 3},\n  'first_postop_egfr': {'value': 48.0, 'days_before_nephrectomy': 168},\n  'last_postop_egfr': {'value': 56.0, 'days_before_nephrectomy': 2425},\n  'vital_status': 'censored',\n  'vital_days_after_surgery': 2425,\n  'voxel_spacing': {'x_spacing': 0.80078125,\n   'y_spacing': 0.80078125,\n   'z_spacing': 5.0}},\n {'case_id': 'case_00140',\n  'age_at_nephrectomy': 58,\n  'gender': 'male',\n  'body_mass_index': 32.4,\n  'comorbidities': {'myocardial_infarction': False,\n   'congestive_heart_failure': False,\n   'peripheral_vascular_disease': False,\n   'cerebrovascular_disease': False,\n   'dementia': False,\n   'copd': False,\n   'connective_tissue_disease': False,\n   'peptic_ulcer_disease': False,\n   'uncomplicated_diabetes_mellitus': False,\n   'diabetes_mellitus_with_end_organ_damage': False,\n   'chronic_kidney_disease': False,\n   'hemiplegia_from_stroke': False,\n   'leukemia': False,\n   'malignant_lymphoma': False,\n   'localized_solid_tumor': False,\n   'metastatic_solid_tumor': False,\n   'mild_liver_disease': False,\n   'moderate_to_severe_liver_disease': False,\n   'aids': False},\n  'smoking_history': 'never_smoked',\n  'age_when_quit_smoking': 'not_applicable',\n  'pack_years': 0,\n  'chewing_tobacco_use': 'never_or_not_in_last_3mo',\n  'alcohol_use': 'two_or_less_daily',\n  'intraoperative_complications': {'blood_transfusion': False,\n   'injury_to_surrounding_organ': True,\n   'cardiac_event': False},\n  'hospitalization': 2,\n  'ischemia_time': None,\n  'radiographic_size': 2.4,\n  'pathologic_size': 2.2,\n  'malignant': True,\n  'pathology_t_stage': '1a',\n  'pathology_n_stage': '0',\n  'pathology_m_stage': '0',\n  'tumor_histologic_subtype': 'clear_cell_rcc',\n  'tumor_necrosis': False,\n  'tumor_isup_grade': 3,\n  'clavien_surgical_complications': '0',\n  'er_visit': False,\n  'readmission': False,\n  'estimated_blood_loss': 500,\n  'surgery_type': 'open',\n  'surgical_procedure': 'partial_nephrectomy',\n  'surgical_approach': 'Transperitoneal',\n  'operative_time': 323,\n  'cytoreductive': False,\n  'positive_resection_margins': False,\n  'last_preop_egfr': {'value': None, 'days_before_nephrectomy': None},\n  'first_postop_egfr': {'value': 84.0, 'days_before_nephrectomy': 198},\n  'last_postop_egfr': {'value': '>=90', 'days_before_nephrectomy': 1531},\n  'vital_status': 'censored',\n  'vital_days_after_surgery': 1554,\n  'voxel_spacing': {'x_spacing': 0.82421875,\n   'y_spacing': 0.82421875,\n   'z_spacing': 1.0}},\n {'case_id': 'case_00141',\n  'age_at_nephrectomy': 52,\n  'gender': 'male',\n  'body_mass_index': 29.82,\n  'comorbidities': {'myocardial_infarction': False,\n   'congestive_heart_failure': False,\n   'peripheral_vascular_disease': False,\n   'cerebrovascular_disease': False,\n   'dementia': False,\n   'copd': False,\n   'connective_tissue_disease': False,\n   'peptic_ulcer_disease': False,\n   'uncomplicated_diabetes_mellitus': False,\n   'diabetes_mellitus_with_end_organ_damage': False,\n   'chronic_kidney_disease': False,\n   'hemiplegia_from_stroke': False,\n   'leukemia': False,\n   'malignant_lymphoma': False,\n   'localized_solid_tumor': False,\n   'metastatic_solid_tumor': False,\n   'mild_liver_disease': False,\n   'moderate_to_severe_liver_disease': False,\n   'aids': False},\n  'smoking_history': 'current_smoker',\n  'age_when_quit_smoking': 'not_applicable',\n  'pack_years': None,\n  'chewing_tobacco_use': 'never_or_not_in_last_3mo',\n  'alcohol_use': 'two_or_less_daily',\n  'intraoperative_complications': {'blood_transfusion': False,\n   'injury_to_surrounding_organ': False,\n   'cardiac_event': False},\n  'hospitalization': 2,\n  'ischemia_time': 22,\n  'radiographic_size': 2.0,\n  'pathologic_size': 1.5,\n  'malignant': True,\n  'pathology_t_stage': '1a',\n  'pathology_n_stage': '0',\n  'pathology_m_stage': '0',\n  'tumor_histologic_subtype': 'clear_cell_rcc',\n  'tumor_necrosis': False,\n  'tumor_isup_grade': 2,\n  'clavien_surgical_complications': '0',\n  'er_visit': False,\n  'readmission': False,\n  'estimated_blood_loss': 120,\n  'surgery_type': 'robotic',\n  'surgical_procedure': 'partial_nephrectomy',\n  'surgical_approach': 'Transperitoneal',\n  'operative_time': 282,\n  'cytoreductive': False,\n  'positive_resection_margins': False,\n  'last_preop_egfr': {'value': None, 'days_before_nephrectomy': None},\n  'first_postop_egfr': {'value': None, 'days_before_nephrectomy': None},\n  'last_postop_egfr': {'value': None, 'days_before_nephrectomy': None},\n  'vital_status': 'censored',\n  'vital_days_after_surgery': 211,\n  'voxel_spacing': {'x_spacing': 0.712890625,\n   'y_spacing': 0.712890625,\n   'z_spacing': 0.5}},\n {'case_id': 'case_00142',\n  'age_at_nephrectomy': 65,\n  'gender': 'male',\n  'body_mass_index': 24.01,\n  'comorbidities': {'myocardial_infarction': False,\n   'congestive_heart_failure': False,\n   'peripheral_vascular_disease': False,\n   'cerebrovascular_disease': False,\n   'dementia': False,\n   'copd': False,\n   'connective_tissue_disease': False,\n   'peptic_ulcer_disease': False,\n   'uncomplicated_diabetes_mellitus': False,\n   'diabetes_mellitus_with_end_organ_damage': False,\n   'chronic_kidney_disease': False,\n   'hemiplegia_from_stroke': False,\n   'leukemia': False,\n   'malignant_lymphoma': False,\n   'localized_solid_tumor': False,\n   'metastatic_solid_tumor': False,\n   'mild_liver_disease': False,\n   'moderate_to_severe_liver_disease': False,\n   'aids': False},\n  'smoking_history': 'previous_smoker',\n  'age_when_quit_smoking': None,\n  'pack_years': None,\n  'chewing_tobacco_use': 'never_or_not_in_last_3mo',\n  'alcohol_use': 'two_or_less_daily',\n  'intraoperative_complications': {'blood_transfusion': False,\n   'injury_to_surrounding_organ': False,\n   'cardiac_event': False},\n  'hospitalization': 6,\n  'ischemia_time': 20,\n  'radiographic_size': 4.7,\n  'pathologic_size': 4.5,\n  'malignant': True,\n  'pathology_t_stage': '1b',\n  'pathology_n_stage': '0',\n  'pathology_m_stage': '0',\n  'tumor_histologic_subtype': 'clear_cell_rcc',\n  'tumor_necrosis': True,\n  'tumor_isup_grade': 2,\n  'clavien_surgical_complications': '2',\n  'er_visit': True,\n  'readmission': False,\n  'estimated_blood_loss': 250,\n  'surgery_type': 'open',\n  'surgical_procedure': 'partial_nephrectomy',\n  'surgical_approach': 'Retroperitoneal',\n  'operative_time': 280,\n  'cytoreductive': False,\n  'positive_resection_margins': False,\n  'last_preop_egfr': {'value': 56.0, 'days_before_nephrectomy': 83},\n  'first_postop_egfr': {'value': 64.0, 'days_before_nephrectomy': 190},\n  'last_postop_egfr': {'value': 66.0, 'days_before_nephrectomy': 743},\n  'vital_status': 'censored',\n  'vital_days_after_surgery': 743,\n  'voxel_spacing': {'x_spacing': 0.80859375,\n   'y_spacing': 0.80859375,\n   'z_spacing': 1.0}},\n {'case_id': 'case_00143',\n  'age_at_nephrectomy': 60,\n  'gender': 'male',\n  'body_mass_index': 33.41,\n  'comorbidities': {'myocardial_infarction': False,\n   'congestive_heart_failure': False,\n   'peripheral_vascular_disease': False,\n   'cerebrovascular_disease': False,\n   'dementia': False,\n   'copd': False,\n   'connective_tissue_disease': False,\n   'peptic_ulcer_disease': False,\n   'uncomplicated_diabetes_mellitus': False,\n   'diabetes_mellitus_with_end_organ_damage': False,\n   'chronic_kidney_disease': False,\n   'hemiplegia_from_stroke': False,\n   'leukemia': False,\n   'malignant_lymphoma': False,\n   'localized_solid_tumor': False,\n   'metastatic_solid_tumor': True,\n   'mild_liver_disease': False,\n   'moderate_to_severe_liver_disease': False,\n   'aids': False},\n  'smoking_history': 'previous_smoker',\n  'age_when_quit_smoking': '22',\n  'pack_years': None,\n  'chewing_tobacco_use': 'never_or_not_in_last_3mo',\n  'alcohol_use': 'two_or_less_daily',\n  'intraoperative_complications': {'blood_transfusion': False,\n   'injury_to_surrounding_organ': False,\n   'cardiac_event': False},\n  'hospitalization': 11,\n  'ischemia_time': 'not_applicable',\n  'radiographic_size': 4.4,\n  'pathologic_size': 3.8,\n  'malignant': True,\n  'pathology_t_stage': '1a',\n  'pathology_n_stage': 'X',\n  'pathology_m_stage': 'X',\n  'tumor_histologic_subtype': 'clear_cell_rcc',\n  'tumor_necrosis': False,\n  'tumor_isup_grade': 2,\n  'clavien_surgical_complications': '1',\n  'er_visit': False,\n  'readmission': True,\n  'estimated_blood_loss': 400,\n  'surgery_type': 'open',\n  'surgical_procedure': 'radical_nephrectomy',\n  'surgical_approach': 'Transperitoneal',\n  'operative_time': 132,\n  'cytoreductive': False,\n  'positive_resection_margins': False,\n  'last_preop_egfr': {'value': 56.0, 'days_before_nephrectomy': 6},\n  'first_postop_egfr': {'value': 35.0, 'days_before_nephrectomy': 124},\n  'last_postop_egfr': {'value': 33.0, 'days_before_nephrectomy': 391},\n  'vital_status': 'censored',\n  'vital_days_after_surgery': 393,\n  'voxel_spacing': {'x_spacing': 0.91796875,\n   'y_spacing': 0.91796875,\n   'z_spacing': 5.0}},\n {'case_id': 'case_00144',\n  'age_at_nephrectomy': 58,\n  'gender': 'female',\n  'body_mass_index': 30.15,\n  'comorbidities': {'myocardial_infarction': False,\n   'congestive_heart_failure': False,\n   'peripheral_vascular_disease': False,\n   'cerebrovascular_disease': False,\n   'dementia': False,\n   'copd': True,\n   'connective_tissue_disease': False,\n   'peptic_ulcer_disease': False,\n   'uncomplicated_diabetes_mellitus': True,\n   'diabetes_mellitus_with_end_organ_damage': False,\n   'chronic_kidney_disease': False,\n   'hemiplegia_from_stroke': False,\n   'leukemia': False,\n   'malignant_lymphoma': False,\n   'localized_solid_tumor': False,\n   'metastatic_solid_tumor': False,\n   'mild_liver_disease': False,\n   'moderate_to_severe_liver_disease': False,\n   'aids': False},\n  'smoking_history': 'current_smoker',\n  'age_when_quit_smoking': 'not_applicable',\n  'pack_years': '115',\n  'chewing_tobacco_use': 'never_or_not_in_last_3mo',\n  'alcohol_use': 'never_or_not_in_last_3mo',\n  'intraoperative_complications': {'blood_transfusion': False,\n   'injury_to_surrounding_organ': False,\n   'cardiac_event': False},\n  'hospitalization': 4,\n  'ischemia_time': 15,\n  'radiographic_size': 3.8,\n  'pathologic_size': 4.0,\n  'malignant': True,\n  'pathology_t_stage': '1a',\n  'pathology_n_stage': '0',\n  'pathology_m_stage': 'X',\n  'tumor_histologic_subtype': 'clear_cell_rcc',\n  'tumor_necrosis': False,\n  'tumor_isup_grade': 2,\n  'clavien_surgical_complications': '1',\n  'er_visit': False,\n  'readmission': False,\n  'estimated_blood_loss': 125,\n  'surgery_type': 'laparoscopic',\n  'surgical_procedure': 'partial_nephrectomy',\n  'surgical_approach': 'Transperitoneal',\n  'operative_time': 220,\n  'cytoreductive': False,\n  'positive_resection_margins': True,\n  'last_preop_egfr': {'value': 74.0, 'days_before_nephrectomy': 55},\n  'first_postop_egfr': {'value': None, 'days_before_nephrectomy': None},\n  'last_postop_egfr': {'value': None, 'days_before_nephrectomy': None},\n  'vital_status': 'censored',\n  'vital_days_after_surgery': 1007,\n  'voxel_spacing': {'x_spacing': 0.791015625,\n   'y_spacing': 0.791015625,\n   'z_spacing': 2.5}},\n {'case_id': 'case_00145',\n  'age_at_nephrectomy': 76,\n  'gender': 'female',\n  'body_mass_index': 48.24,\n  'comorbidities': {'myocardial_infarction': False,\n   'congestive_heart_failure': False,\n   'peripheral_vascular_disease': False,\n   'cerebrovascular_disease': False,\n   'dementia': False,\n   'copd': False,\n   'connective_tissue_disease': False,\n   'peptic_ulcer_disease': False,\n   'uncomplicated_diabetes_mellitus': False,\n   'diabetes_mellitus_with_end_organ_damage': False,\n   'chronic_kidney_disease': False,\n   'hemiplegia_from_stroke': False,\n   'leukemia': False,\n   'malignant_lymphoma': False,\n   'localized_solid_tumor': False,\n   'metastatic_solid_tumor': False,\n   'mild_liver_disease': False,\n   'moderate_to_severe_liver_disease': False,\n   'aids': False},\n  'smoking_history': 'never_smoked',\n  'age_when_quit_smoking': 'not_applicable',\n  'pack_years': 0,\n  'chewing_tobacco_use': 'never_or_not_in_last_3mo',\n  'alcohol_use': 'two_or_less_daily',\n  'intraoperative_complications': {'blood_transfusion': False,\n   'injury_to_surrounding_organ': False,\n   'cardiac_event': False},\n  'hospitalization': 6,\n  'ischemia_time': 'not_applicable',\n  'radiographic_size': 8.7,\n  'pathologic_size': 7.0,\n  'malignant': True,\n  'pathology_t_stage': '2a',\n  'pathology_n_stage': 'X',\n  'pathology_m_stage': '0',\n  'tumor_histologic_subtype': 'clear_cell_rcc',\n  'tumor_necrosis': True,\n  'tumor_isup_grade': 2,\n  'clavien_surgical_complications': '4',\n  'er_visit': False,\n  'readmission': True,\n  'estimated_blood_loss': 500,\n  'surgery_type': 'open',\n  'surgical_procedure': 'radical_nephrectomy',\n  'surgical_approach': 'Transperitoneal',\n  'operative_time': 238,\n  'cytoreductive': False,\n  'positive_resection_margins': False,\n  'last_preop_egfr': {'value': 77.0, 'days_before_nephrectomy': 75},\n  'first_postop_egfr': {'value': None, 'days_before_nephrectomy': None},\n  'last_postop_egfr': {'value': None, 'days_before_nephrectomy': None},\n  'vital_status': 'censored',\n  'vital_days_after_surgery': 1624,\n  'voxel_spacing': {'x_spacing': 0.9765625,\n   'y_spacing': 0.9765625,\n   'z_spacing': 3.0}},\n {'case_id': 'case_00146',\n  'age_at_nephrectomy': 48,\n  'gender': 'female',\n  'body_mass_index': 39.87,\n  'comorbidities': {'myocardial_infarction': False,\n   'congestive_heart_failure': False,\n   'peripheral_vascular_disease': False,\n   'cerebrovascular_disease': False,\n   'dementia': False,\n   'copd': False,\n   'connective_tissue_disease': False,\n   'peptic_ulcer_disease': False,\n   'uncomplicated_diabetes_mellitus': False,\n   'diabetes_mellitus_with_end_organ_damage': False,\n   'chronic_kidney_disease': False,\n   'hemiplegia_from_stroke': False,\n   'leukemia': False,\n   'malignant_lymphoma': False,\n   'localized_solid_tumor': False,\n   'metastatic_solid_tumor': False,\n   'mild_liver_disease': False,\n   'moderate_to_severe_liver_disease': False,\n   'aids': False},\n  'smoking_history': 'previous_smoker',\n  'age_when_quit_smoking': '38',\n  'pack_years': '5',\n  'chewing_tobacco_use': 'never_or_not_in_last_3mo',\n  'alcohol_use': 'two_or_less_daily',\n  'intraoperative_complications': {'blood_transfusion': False,\n   'injury_to_surrounding_organ': False,\n   'cardiac_event': False},\n  'hospitalization': 0,\n  'ischemia_time': 17,\n  'radiographic_size': 2.8,\n  'pathologic_size': 3.3,\n  'malignant': True,\n  'pathology_t_stage': '1a',\n  'pathology_n_stage': '0',\n  'pathology_m_stage': '0',\n  'tumor_histologic_subtype': 'papillary',\n  'tumor_necrosis': False,\n  'tumor_isup_grade': 1,\n  'clavien_surgical_complications': '0',\n  'er_visit': False,\n  'readmission': False,\n  'estimated_blood_loss': 100,\n  'surgery_type': 'robotic',\n  'surgical_procedure': 'partial_nephrectomy',\n  'surgical_approach': 'Transperitoneal',\n  'operative_time': 381,\n  'cytoreductive': False,\n  'positive_resection_margins': False,\n  'last_preop_egfr': {'value': None, 'days_before_nephrectomy': None},\n  'first_postop_egfr': {'value': 82.0, 'days_before_nephrectomy': 170},\n  'last_postop_egfr': {'value': '>=90', 'days_before_nephrectomy': 1731},\n  'vital_status': 'censored',\n  'vital_days_after_surgery': 1738,\n  'voxel_spacing': {'x_spacing': 0.703125,\n   'y_spacing': 0.703125,\n   'z_spacing': 0.5}},\n {'case_id': 'case_00147',\n  'age_at_nephrectomy': 72,\n  'gender': 'male',\n  'body_mass_index': 42.57,\n  'comorbidities': {'myocardial_infarction': False,\n   'congestive_heart_failure': False,\n   'peripheral_vascular_disease': False,\n   'cerebrovascular_disease': False,\n   'dementia': False,\n   'copd': False,\n   'connective_tissue_disease': False,\n   'peptic_ulcer_disease': False,\n   'uncomplicated_diabetes_mellitus': True,\n   'diabetes_mellitus_with_end_organ_damage': False,\n   'chronic_kidney_disease': False,\n   'hemiplegia_from_stroke': False,\n   'leukemia': False,\n   'malignant_lymphoma': False,\n   'localized_solid_tumor': False,\n   'metastatic_solid_tumor': False,\n   'mild_liver_disease': False,\n   'moderate_to_severe_liver_disease': False,\n   'aids': False},\n  'smoking_history': 'never_smoked',\n  'age_when_quit_smoking': 'not_applicable',\n  'pack_years': 0,\n  'chewing_tobacco_use': 'never_or_not_in_last_3mo',\n  'alcohol_use': 'two_or_less_daily',\n  'intraoperative_complications': {'blood_transfusion': False,\n   'injury_to_surrounding_organ': False,\n   'cardiac_event': False},\n  'hospitalization': 6,\n  'ischemia_time': 25,\n  'radiographic_size': 4.0,\n  'pathologic_size': 3.0,\n  'malignant': True,\n  'pathology_t_stage': '1a',\n  'pathology_n_stage': '0',\n  'pathology_m_stage': '0',\n  'tumor_histologic_subtype': 'clear_cell_rcc',\n  'tumor_necrosis': False,\n  'tumor_isup_grade': 1,\n  'clavien_surgical_complications': '0',\n  'er_visit': False,\n  'readmission': False,\n  'estimated_blood_loss': 1000,\n  'surgery_type': 'open',\n  'surgical_procedure': 'partial_nephrectomy',\n  'surgical_approach': 'Retroperitoneal',\n  'operative_time': 400,\n  'cytoreductive': False,\n  'positive_resection_margins': False,\n  'last_preop_egfr': {'value': None, 'days_before_nephrectomy': None},\n  'first_postop_egfr': {'value': None, 'days_before_nephrectomy': None},\n  'last_postop_egfr': {'value': None, 'days_before_nephrectomy': None},\n  'vital_status': 'censored',\n  'vital_days_after_surgery': 16,\n  'voxel_spacing': {'x_spacing': 0.9765625,\n   'y_spacing': 0.9765625,\n   'z_spacing': 5.0}},\n {'case_id': 'case_00148',\n  'age_at_nephrectomy': 50,\n  'gender': 'male',\n  'body_mass_index': 40.45,\n  'comorbidities': {'myocardial_infarction': False,\n   'congestive_heart_failure': False,\n   'peripheral_vascular_disease': True,\n   'cerebrovascular_disease': False,\n   'dementia': False,\n   'copd': False,\n   'connective_tissue_disease': False,\n   'peptic_ulcer_disease': False,\n   'uncomplicated_diabetes_mellitus': False,\n   'diabetes_mellitus_with_end_organ_damage': False,\n   'chronic_kidney_disease': False,\n   'hemiplegia_from_stroke': False,\n   'leukemia': False,\n   'malignant_lymphoma': False,\n   'localized_solid_tumor': False,\n   'metastatic_solid_tumor': False,\n   'mild_liver_disease': False,\n   'moderate_to_severe_liver_disease': False,\n   'aids': False},\n  'smoking_history': 'current_smoker',\n  'age_when_quit_smoking': 'not_applicable',\n  'pack_years': None,\n  'chewing_tobacco_use': 'never_or_not_in_last_3mo',\n  'alcohol_use': 'never_or_not_in_last_3mo',\n  'intraoperative_complications': {'blood_transfusion': False,\n   'injury_to_surrounding_organ': False,\n   'cardiac_event': False},\n  'hospitalization': 4,\n  'ischemia_time': 54,\n  'radiographic_size': 4.0,\n  'pathologic_size': 3.2,\n  'malignant': True,\n  'pathology_t_stage': '1a',\n  'pathology_n_stage': 'X',\n  'pathology_m_stage': 'X',\n  'tumor_histologic_subtype': 'clear_cell_rcc',\n  'tumor_necrosis': True,\n  'tumor_isup_grade': 2,\n  'clavien_surgical_complications': '0',\n  'er_visit': False,\n  'readmission': False,\n  'estimated_blood_loss': 800,\n  'surgery_type': 'robotic',\n  'surgical_procedure': 'partial_nephrectomy',\n  'surgical_approach': 'Transperitoneal',\n  'operative_time': 236,\n  'cytoreductive': False,\n  'positive_resection_margins': False,\n  'last_preop_egfr': {'value': '>=90', 'days_before_nephrectomy': 5},\n  'first_postop_egfr': {'value': '>=90', 'days_before_nephrectomy': 139},\n  'last_postop_egfr': {'value': 86.0, 'days_before_nephrectomy': 984},\n  'vital_status': 'censored',\n  'vital_days_after_surgery': 1050,\n  'voxel_spacing': {'x_spacing': 0.90625,\n   'y_spacing': 0.90625,\n   'z_spacing': 5.0}},\n {'case_id': 'case_00149',\n  'age_at_nephrectomy': 57,\n  'gender': 'male',\n  'body_mass_index': 29.47,\n  'comorbidities': {'myocardial_infarction': False,\n   'congestive_heart_failure': False,\n   'peripheral_vascular_disease': False,\n   'cerebrovascular_disease': False,\n   'dementia': False,\n   'copd': False,\n   'connective_tissue_disease': False,\n   'peptic_ulcer_disease': False,\n   'uncomplicated_diabetes_mellitus': True,\n   'diabetes_mellitus_with_end_organ_damage': False,\n   'chronic_kidney_disease': False,\n   'hemiplegia_from_stroke': False,\n   'leukemia': False,\n   'malignant_lymphoma': False,\n   'localized_solid_tumor': False,\n   'metastatic_solid_tumor': False,\n   'mild_liver_disease': False,\n   'moderate_to_severe_liver_disease': False,\n   'aids': False},\n  'smoking_history': 'never_smoked',\n  'age_when_quit_smoking': 'not_applicable',\n  'pack_years': 0,\n  'chewing_tobacco_use': 'never_or_not_in_last_3mo',\n  'alcohol_use': 'never_or_not_in_last_3mo',\n  'intraoperative_complications': {'blood_transfusion': False,\n   'injury_to_surrounding_organ': False,\n   'cardiac_event': False},\n  'hospitalization': 4,\n  'ischemia_time': 23,\n  'radiographic_size': 7.8,\n  'pathologic_size': 6.5,\n  'malignant': True,\n  'pathology_t_stage': '1b',\n  'pathology_n_stage': 'X',\n  'pathology_m_stage': 'X',\n  'tumor_histologic_subtype': 'clear_cell_rcc',\n  'tumor_necrosis': False,\n  'tumor_isup_grade': 2,\n  'clavien_surgical_complications': '0',\n  'er_visit': False,\n  'readmission': False,\n  'estimated_blood_loss': 1200,\n  'surgery_type': 'robotic',\n  'surgical_procedure': 'partial_nephrectomy',\n  'surgical_approach': 'Transperitoneal',\n  'operative_time': 270,\n  'cytoreductive': False,\n  'positive_resection_margins': False,\n  'last_preop_egfr': {'value': None, 'days_before_nephrectomy': None},\n  'first_postop_egfr': {'value': 77.0, 'days_before_nephrectomy': 737},\n  'last_postop_egfr': {'value': 77.0, 'days_before_nephrectomy': 737},\n  'vital_status': 'censored',\n  'vital_days_after_surgery': 737,\n  'voxel_spacing': {'x_spacing': 0.796875,\n   'y_spacing': 0.796875,\n   'z_spacing': 3.0}},\n {'case_id': 'case_00150',\n  'age_at_nephrectomy': 62,\n  'gender': 'female',\n  'body_mass_index': 37.67,\n  'comorbidities': {'myocardial_infarction': False,\n   'congestive_heart_failure': False,\n   'peripheral_vascular_disease': False,\n   'cerebrovascular_disease': False,\n   'dementia': False,\n   'copd': False,\n   'connective_tissue_disease': False,\n   'peptic_ulcer_disease': False,\n   'uncomplicated_diabetes_mellitus': False,\n   'diabetes_mellitus_with_end_organ_damage': False,\n   'chronic_kidney_disease': False,\n   'hemiplegia_from_stroke': False,\n   'leukemia': False,\n   'malignant_lymphoma': False,\n   'localized_solid_tumor': False,\n   'metastatic_solid_tumor': False,\n   'mild_liver_disease': True,\n   'moderate_to_severe_liver_disease': False,\n   'aids': False},\n  'smoking_history': 'never_smoked',\n  'age_when_quit_smoking': 'not_applicable',\n  'pack_years': 0,\n  'chewing_tobacco_use': 'never_or_not_in_last_3mo',\n  'alcohol_use': 'never_or_not_in_last_3mo',\n  'intraoperative_complications': {'blood_transfusion': False,\n   'injury_to_surrounding_organ': False,\n   'cardiac_event': False},\n  'hospitalization': 3,\n  'ischemia_time': 27,\n  'radiographic_size': 3.26,\n  'pathologic_size': 2.4,\n  'malignant': True,\n  'pathology_t_stage': '1a',\n  'pathology_n_stage': 'X',\n  'pathology_m_stage': 'X',\n  'tumor_histologic_subtype': 'clear_cell_rcc',\n  'tumor_necrosis': False,\n  'tumor_isup_grade': 2,\n  'clavien_surgical_complications': '0',\n  'er_visit': False,\n  'readmission': False,\n  'estimated_blood_loss': 100,\n  'surgery_type': 'robotic',\n  'surgical_procedure': 'partial_nephrectomy',\n  'surgical_approach': 'Transperitoneal',\n  'operative_time': 152,\n  'cytoreductive': False,\n  'positive_resection_margins': False,\n  'last_preop_egfr': {'value': None, 'days_before_nephrectomy': None},\n  'first_postop_egfr': {'value': '>=90', 'days_before_nephrectomy': 979},\n  'last_postop_egfr': {'value': '>=90', 'days_before_nephrectomy': 979},\n  'vital_status': 'censored',\n  'vital_days_after_surgery': 979,\n  'voxel_spacing': {'x_spacing': 0.7421879768371582,\n   'y_spacing': 0.7421879768371582,\n   'z_spacing': 2.5}},\n {'case_id': 'case_00151',\n  'age_at_nephrectomy': 76,\n  'gender': 'male',\n  'body_mass_index': 30.56,\n  'comorbidities': {'myocardial_infarction': False,\n   'congestive_heart_failure': False,\n   'peripheral_vascular_disease': False,\n   'cerebrovascular_disease': False,\n   'dementia': False,\n   'copd': False,\n   'connective_tissue_disease': False,\n   'peptic_ulcer_disease': False,\n   'uncomplicated_diabetes_mellitus': True,\n   'diabetes_mellitus_with_end_organ_damage': False,\n   'chronic_kidney_disease': True,\n   'hemiplegia_from_stroke': False,\n   'leukemia': False,\n   'malignant_lymphoma': False,\n   'localized_solid_tumor': False,\n   'metastatic_solid_tumor': False,\n   'mild_liver_disease': False,\n   'moderate_to_severe_liver_disease': False,\n   'aids': False},\n  'smoking_history': 'never_smoked',\n  'age_when_quit_smoking': 'not_applicable',\n  'pack_years': 0,\n  'chewing_tobacco_use': 'never_or_not_in_last_3mo',\n  'alcohol_use': 'never_or_not_in_last_3mo',\n  'intraoperative_complications': {'blood_transfusion': False,\n   'injury_to_surrounding_organ': False,\n   'cardiac_event': False},\n  'hospitalization': 5,\n  'ischemia_time': 'not_applicable',\n  'radiographic_size': 3.9,\n  'pathologic_size': 7.0,\n  'malignant': True,\n  'pathology_t_stage': '3',\n  'pathology_n_stage': 'X',\n  'pathology_m_stage': '0',\n  'tumor_histologic_subtype': 'clear_cell_rcc',\n  'tumor_necrosis': False,\n  'tumor_isup_grade': 3,\n  'clavien_surgical_complications': None,\n  'er_visit': None,\n  'readmission': None,\n  'estimated_blood_loss': 1500,\n  'surgery_type': 'open',\n  'surgical_procedure': 'radical_nephrectomy',\n  'surgical_approach': 'Transperitoneal',\n  'operative_time': 497,\n  'cytoreductive': False,\n  'positive_resection_margins': False,\n  'last_preop_egfr': {'value': 69.0, 'days_before_nephrectomy': 37},\n  'first_postop_egfr': {'value': None, 'days_before_nephrectomy': None},\n  'last_postop_egfr': {'value': None, 'days_before_nephrectomy': None},\n  'vital_status': 'censored',\n  'vital_days_after_surgery': 15,\n  'voxel_spacing': {'x_spacing': 0.810546875,\n   'y_spacing': 0.810546875,\n   'z_spacing': 0.5}},\n {'case_id': 'case_00152',\n  'age_at_nephrectomy': 53,\n  'gender': 'male',\n  'body_mass_index': 30.0,\n  'comorbidities': {'myocardial_infarction': False,\n   'congestive_heart_failure': False,\n   'peripheral_vascular_disease': False,\n   'cerebrovascular_disease': False,\n   'dementia': False,\n   'copd': True,\n   'connective_tissue_disease': False,\n   'peptic_ulcer_disease': False,\n   'uncomplicated_diabetes_mellitus': False,\n   'diabetes_mellitus_with_end_organ_damage': False,\n   'chronic_kidney_disease': False,\n   'hemiplegia_from_stroke': False,\n   'leukemia': False,\n   'malignant_lymphoma': False,\n   'localized_solid_tumor': False,\n   'metastatic_solid_tumor': False,\n   'mild_liver_disease': False,\n   'moderate_to_severe_liver_disease': False,\n   'aids': False},\n  'smoking_history': 'current_smoker',\n  'age_when_quit_smoking': 'not_applicable',\n  'pack_years': '30',\n  'chewing_tobacco_use': 'never_or_not_in_last_3mo',\n  'alcohol_use': 'never_or_not_in_last_3mo',\n  'intraoperative_complications': {'blood_transfusion': False,\n   'injury_to_surrounding_organ': False,\n   'cardiac_event': False},\n  'hospitalization': 1,\n  'ischemia_time': 16,\n  'radiographic_size': 2.8,\n  'pathologic_size': 2.5,\n  'malignant': True,\n  'pathology_t_stage': '1a',\n  'pathology_n_stage': '0',\n  'pathology_m_stage': '0',\n  'tumor_histologic_subtype': 'clear_cell_rcc',\n  'tumor_necrosis': False,\n  'tumor_isup_grade': 1,\n  'clavien_surgical_complications': '0',\n  'er_visit': False,\n  'readmission': False,\n  'estimated_blood_loss': 50,\n  'surgery_type': 'robotic',\n  'surgical_procedure': 'partial_nephrectomy',\n  'surgical_approach': 'Transperitoneal',\n  'operative_time': 194,\n  'cytoreductive': False,\n  'positive_resection_margins': False,\n  'last_preop_egfr': {'value': 78.0, 'days_before_nephrectomy': 44},\n  'first_postop_egfr': {'value': 63.0, 'days_before_nephrectomy': 1025},\n  'last_postop_egfr': {'value': 63.0, 'days_before_nephrectomy': 1025},\n  'vital_status': 'censored',\n  'vital_days_after_surgery': 1028,\n  'voxel_spacing': {'x_spacing': 0.72265625,\n   'y_spacing': 0.72265625,\n   'z_spacing': 5.0}},\n {'case_id': 'case_00153',\n  'age_at_nephrectomy': 59,\n  'gender': 'female',\n  'body_mass_index': 42.91,\n  'comorbidities': {'myocardial_infarction': False,\n   'congestive_heart_failure': False,\n   'peripheral_vascular_disease': False,\n   'cerebrovascular_disease': False,\n   'dementia': False,\n   'copd': False,\n   'connective_tissue_disease': False,\n   'peptic_ulcer_disease': False,\n   'uncomplicated_diabetes_mellitus': False,\n   'diabetes_mellitus_with_end_organ_damage': False,\n   'chronic_kidney_disease': False,\n   'hemiplegia_from_stroke': False,\n   'leukemia': False,\n   'malignant_lymphoma': False,\n   'localized_solid_tumor': False,\n   'metastatic_solid_tumor': False,\n   'mild_liver_disease': False,\n   'moderate_to_severe_liver_disease': False,\n   'aids': False},\n  'smoking_history': 'never_smoked',\n  'age_when_quit_smoking': 'not_applicable',\n  'pack_years': 0,\n  'chewing_tobacco_use': 'never_or_not_in_last_3mo',\n  'alcohol_use': 'never_or_not_in_last_3mo',\n  'intraoperative_complications': {'blood_transfusion': False,\n   'injury_to_surrounding_organ': False,\n   'cardiac_event': False},\n  'hospitalization': 2,\n  'ischemia_time': 25,\n  'radiographic_size': 4.3,\n  'pathologic_size': 3.6,\n  'malignant': True,\n  'pathology_t_stage': '1a',\n  'pathology_n_stage': 'X',\n  'pathology_m_stage': 'X',\n  'tumor_histologic_subtype': 'chromophobe',\n  'tumor_necrosis': True,\n  'tumor_isup_grade': None,\n  'clavien_surgical_complications': '0',\n  'er_visit': False,\n  'readmission': False,\n  'estimated_blood_loss': 200,\n  'surgery_type': 'robotic',\n  'surgical_procedure': 'partial_nephrectomy',\n  'surgical_approach': 'Transperitoneal',\n  'operative_time': 183,\n  'cytoreductive': False,\n  'positive_resection_margins': False,\n  'last_preop_egfr': {'value': None, 'days_before_nephrectomy': None},\n  'first_postop_egfr': {'value': 71.0, 'days_before_nephrectomy': 110},\n  'last_postop_egfr': {'value': 79.0, 'days_before_nephrectomy': 656},\n  'vital_status': 'censored',\n  'vital_days_after_surgery': 657,\n  'voxel_spacing': {'x_spacing': 0.6640625,\n   'y_spacing': 0.6640625,\n   'z_spacing': 3.0}},\n {'case_id': 'case_00154',\n  'age_at_nephrectomy': 78,\n  'gender': 'male',\n  'body_mass_index': 32.41,\n  'comorbidities': {'myocardial_infarction': False,\n   'congestive_heart_failure': False,\n   'peripheral_vascular_disease': False,\n   'cerebrovascular_disease': False,\n   'dementia': False,\n   'copd': False,\n   'connective_tissue_disease': False,\n   'peptic_ulcer_disease': False,\n   'uncomplicated_diabetes_mellitus': False,\n   'diabetes_mellitus_with_end_organ_damage': False,\n   'chronic_kidney_disease': False,\n   'hemiplegia_from_stroke': False,\n   'leukemia': False,\n   'malignant_lymphoma': False,\n   'localized_solid_tumor': False,\n   'metastatic_solid_tumor': False,\n   'mild_liver_disease': False,\n   'moderate_to_severe_liver_disease': False,\n   'aids': False},\n  'smoking_history': 'never_smoked',\n  'age_when_quit_smoking': 'not_applicable',\n  'pack_years': 0,\n  'chewing_tobacco_use': 'never_or_not_in_last_3mo',\n  'alcohol_use': 'never_or_not_in_last_3mo',\n  'intraoperative_complications': {'blood_transfusion': False,\n   'injury_to_surrounding_organ': False,\n   'cardiac_event': False},\n  'hospitalization': 4,\n  'ischemia_time': 22,\n  'radiographic_size': 3.0,\n  'pathologic_size': 3.6,\n  'malignant': True,\n  'pathology_t_stage': '1a',\n  'pathology_n_stage': '0',\n  'pathology_m_stage': '0',\n  'tumor_histologic_subtype': 'clear_cell_rcc',\n  'tumor_necrosis': False,\n  'tumor_isup_grade': 2,\n  'clavien_surgical_complications': '0',\n  'er_visit': False,\n  'readmission': False,\n  'estimated_blood_loss': 200,\n  'surgery_type': 'robotic',\n  'surgical_procedure': 'partial_nephrectomy',\n  'surgical_approach': 'Transperitoneal',\n  'operative_time': 237,\n  'cytoreductive': False,\n  'positive_resection_margins': False,\n  'last_preop_egfr': {'value': 65.0, 'days_before_nephrectomy': 61},\n  'first_postop_egfr': {'value': None, 'days_before_nephrectomy': None},\n  'last_postop_egfr': {'value': None, 'days_before_nephrectomy': None},\n  'vital_status': 'censored',\n  'vital_days_after_surgery': 30,\n  'voxel_spacing': {'x_spacing': 0.9375,\n   'y_spacing': 0.9375,\n   'z_spacing': 0.5}},\n {'case_id': 'case_00155',\n  'age_at_nephrectomy': 68,\n  'gender': 'female',\n  'body_mass_index': 31.2,\n  'comorbidities': {'myocardial_infarction': False,\n   'congestive_heart_failure': False,\n   'peripheral_vascular_disease': False,\n   'cerebrovascular_disease': False,\n   'dementia': False,\n   'copd': False,\n   'connective_tissue_disease': False,\n   'peptic_ulcer_disease': False,\n   'uncomplicated_diabetes_mellitus': False,\n   'diabetes_mellitus_with_end_organ_damage': False,\n   'chronic_kidney_disease': False,\n   'hemiplegia_from_stroke': False,\n   'leukemia': False,\n   'malignant_lymphoma': False,\n   'localized_solid_tumor': False,\n   'metastatic_solid_tumor': False,\n   'mild_liver_disease': False,\n   'moderate_to_severe_liver_disease': False,\n   'aids': False},\n  'smoking_history': 'never_smoked',\n  'age_when_quit_smoking': 'not_applicable',\n  'pack_years': 0,\n  'chewing_tobacco_use': 'never_or_not_in_last_3mo',\n  'alcohol_use': 'never_or_not_in_last_3mo',\n  'intraoperative_complications': {'blood_transfusion': False,\n   'injury_to_surrounding_organ': False,\n   'cardiac_event': False},\n  'hospitalization': 3,\n  'ischemia_time': 0,\n  'radiographic_size': 2.2,\n  'pathologic_size': 3.2,\n  'malignant': False,\n  'pathology_t_stage': '0',\n  'pathology_n_stage': 'X',\n  'pathology_m_stage': 'X',\n  'tumor_histologic_subtype': 'oncocytoma',\n  'tumor_necrosis': None,\n  'tumor_isup_grade': None,\n  'clavien_surgical_complications': '0',\n  'er_visit': False,\n  'readmission': False,\n  'estimated_blood_loss': 150,\n  'surgery_type': 'robotic',\n  'surgical_procedure': 'partial_nephrectomy',\n  'surgical_approach': 'Transperitoneal',\n  'operative_time': 276,\n  'cytoreductive': False,\n  'positive_resection_margins': False,\n  'last_preop_egfr': {'value': 50.0, 'days_before_nephrectomy': 20},\n  'first_postop_egfr': {'value': None, 'days_before_nephrectomy': None},\n  'last_postop_egfr': {'value': None, 'days_before_nephrectomy': None},\n  'vital_status': 'censored',\n  'vital_days_after_surgery': 15,\n  'voxel_spacing': {'x_spacing': 0.810546875,\n   'y_spacing': 0.810546875,\n   'z_spacing': 0.5}},\n {'case_id': 'case_00156',\n  'age_at_nephrectomy': 61,\n  'gender': 'female',\n  'body_mass_index': 35.73,\n  'comorbidities': {'myocardial_infarction': False,\n   'congestive_heart_failure': False,\n   'peripheral_vascular_disease': False,\n   'cerebrovascular_disease': False,\n   'dementia': False,\n   'copd': False,\n   'connective_tissue_disease': False,\n   'peptic_ulcer_disease': False,\n   'uncomplicated_diabetes_mellitus': False,\n   'diabetes_mellitus_with_end_organ_damage': False,\n   'chronic_kidney_disease': False,\n   'hemiplegia_from_stroke': False,\n   'leukemia': False,\n   'malignant_lymphoma': False,\n   'localized_solid_tumor': False,\n   'metastatic_solid_tumor': False,\n   'mild_liver_disease': False,\n   'moderate_to_severe_liver_disease': False,\n   'aids': False},\n  'smoking_history': 'current_smoker',\n  'age_when_quit_smoking': 'not_applicable',\n  'pack_years': '40',\n  'chewing_tobacco_use': 'never_or_not_in_last_3mo',\n  'alcohol_use': 'two_or_less_daily',\n  'intraoperative_complications': {'blood_transfusion': False,\n   'injury_to_surrounding_organ': False,\n   'cardiac_event': False},\n  'hospitalization': 1,\n  'ischemia_time': 12,\n  'radiographic_size': 1.6,\n  'pathologic_size': 1.8,\n  'malignant': False,\n  'pathology_t_stage': '0',\n  'pathology_n_stage': '0',\n  'pathology_m_stage': '0',\n  'tumor_histologic_subtype': 'oncocytoma',\n  'tumor_necrosis': None,\n  'tumor_isup_grade': None,\n  'clavien_surgical_complications': '1',\n  'er_visit': False,\n  'readmission': True,\n  'estimated_blood_loss': 100,\n  'surgery_type': 'robotic',\n  'surgical_procedure': 'partial_nephrectomy',\n  'surgical_approach': 'Transperitoneal',\n  'operative_time': 167,\n  'cytoreductive': False,\n  'positive_resection_margins': False,\n  'last_preop_egfr': {'value': 64.0, 'days_before_nephrectomy': 12},\n  'first_postop_egfr': {'value': 76.0, 'days_before_nephrectomy': 644},\n  'last_postop_egfr': {'value': 76.0, 'days_before_nephrectomy': 644},\n  'vital_status': 'censored',\n  'vital_days_after_surgery': 643,\n  'voxel_spacing': {'x_spacing': 0.9765625,\n   'y_spacing': 0.9765625,\n   'z_spacing': 0.5}},\n {'case_id': 'case_00157',\n  'age_at_nephrectomy': 74,\n  'gender': 'female',\n  'body_mass_index': 36.7,\n  'comorbidities': {'myocardial_infarction': False,\n   'congestive_heart_failure': False,\n   'peripheral_vascular_disease': False,\n   'cerebrovascular_disease': False,\n   'dementia': False,\n   'copd': False,\n   'connective_tissue_disease': False,\n   'peptic_ulcer_disease': False,\n   'uncomplicated_diabetes_mellitus': True,\n   'diabetes_mellitus_with_end_organ_damage': False,\n   'chronic_kidney_disease': False,\n   'hemiplegia_from_stroke': False,\n   'leukemia': False,\n   'malignant_lymphoma': False,\n   'localized_solid_tumor': True,\n   'metastatic_solid_tumor': False,\n   'mild_liver_disease': False,\n   'moderate_to_severe_liver_disease': False,\n   'aids': False},\n  'smoking_history': 'previous_smoker',\n  'age_when_quit_smoking': None,\n  'pack_years': None,\n  'chewing_tobacco_use': 'never_or_not_in_last_3mo',\n  'alcohol_use': 'two_or_less_daily',\n  'intraoperative_complications': {'blood_transfusion': False,\n   'injury_to_surrounding_organ': False,\n   'cardiac_event': False},\n  'hospitalization': 1,\n  'ischemia_time': 20,\n  'radiographic_size': 4.7,\n  'pathologic_size': 6.1,\n  'malignant': True,\n  'pathology_t_stage': '3',\n  'pathology_n_stage': 'X',\n  'pathology_m_stage': 'X',\n  'tumor_histologic_subtype': 'chromophobe',\n  'tumor_necrosis': False,\n  'tumor_isup_grade': None,\n  'clavien_surgical_complications': '0',\n  'er_visit': False,\n  'readmission': False,\n  'estimated_blood_loss': 50,\n  'surgery_type': 'robotic',\n  'surgical_procedure': 'partial_nephrectomy',\n  'surgical_approach': 'Transperitoneal',\n  'operative_time': 234,\n  'cytoreductive': False,\n  'positive_resection_margins': False,\n  'last_preop_egfr': {'value': 54.0, 'days_before_nephrectomy': 40},\n  'first_postop_egfr': {'value': 60.0, 'days_before_nephrectomy': 135},\n  'last_postop_egfr': {'value': 71.0, 'days_before_nephrectomy': 373},\n  'vital_status': 'censored',\n  'vital_days_after_surgery': 373,\n  'voxel_spacing': {'x_spacing': 0.8515625,\n   'y_spacing': 0.8515625,\n   'z_spacing': 0.5}},\n {'case_id': 'case_00158',\n  'age_at_nephrectomy': 64,\n  'gender': 'male',\n  'body_mass_index': 32.37,\n  'comorbidities': {'myocardial_infarction': False,\n   'congestive_heart_failure': False,\n   'peripheral_vascular_disease': True,\n   'cerebrovascular_disease': False,\n   'dementia': False,\n   'copd': False,\n   'connective_tissue_disease': False,\n   'peptic_ulcer_disease': False,\n   'uncomplicated_diabetes_mellitus': False,\n   'diabetes_mellitus_with_end_organ_damage': False,\n   'chronic_kidney_disease': False,\n   'hemiplegia_from_stroke': False,\n   'leukemia': False,\n   'malignant_lymphoma': False,\n   'localized_solid_tumor': True,\n   'metastatic_solid_tumor': False,\n   'mild_liver_disease': False,\n   'moderate_to_severe_liver_disease': False,\n   'aids': False},\n  'smoking_history': 'never_smoked',\n  'age_when_quit_smoking': 'not_applicable',\n  'pack_years': 0,\n  'chewing_tobacco_use': 'never_or_not_in_last_3mo',\n  'alcohol_use': 'two_or_less_daily',\n  'intraoperative_complications': {'blood_transfusion': False,\n   'injury_to_surrounding_organ': False,\n   'cardiac_event': False},\n  'hospitalization': 4,\n  'ischemia_time': None,\n  'radiographic_size': 1.9,\n  'pathologic_size': 1.8,\n  'malignant': True,\n  'pathology_t_stage': '1a',\n  'pathology_n_stage': 'X',\n  'pathology_m_stage': 'X',\n  'tumor_histologic_subtype': 'papillary',\n  'tumor_necrosis': False,\n  'tumor_isup_grade': 2,\n  'clavien_surgical_complications': '0',\n  'er_visit': False,\n  'readmission': False,\n  'estimated_blood_loss': 700,\n  'surgery_type': 'robotic',\n  'surgical_procedure': 'partial_nephrectomy',\n  'surgical_approach': 'Transperitoneal',\n  'operative_time': 183,\n  'cytoreductive': False,\n  'positive_resection_margins': False,\n  'last_preop_egfr': {'value': 60.0, 'days_before_nephrectomy': 2},\n  'first_postop_egfr': {'value': None, 'days_before_nephrectomy': None},\n  'last_postop_egfr': {'value': None, 'days_before_nephrectomy': None},\n  'vital_status': 'censored',\n  'vital_days_after_surgery': 0,\n  'voxel_spacing': {'x_spacing': 0.703125,\n   'y_spacing': 0.703125,\n   'z_spacing': 0.5}},\n {'case_id': 'case_00159',\n  'age_at_nephrectomy': 41,\n  'gender': 'female',\n  'body_mass_index': 29.8,\n  'comorbidities': {'myocardial_infarction': False,\n   'congestive_heart_failure': False,\n   'peripheral_vascular_disease': False,\n   'cerebrovascular_disease': False,\n   'dementia': False,\n   'copd': False,\n   'connective_tissue_disease': False,\n   'peptic_ulcer_disease': False,\n   'uncomplicated_diabetes_mellitus': False,\n   'diabetes_mellitus_with_end_organ_damage': False,\n   'chronic_kidney_disease': False,\n   'hemiplegia_from_stroke': False,\n   'leukemia': False,\n   'malignant_lymphoma': False,\n   'localized_solid_tumor': False,\n   'metastatic_solid_tumor': False,\n   'mild_liver_disease': False,\n   'moderate_to_severe_liver_disease': False,\n   'aids': False},\n  'smoking_history': 'never_smoked',\n  'age_when_quit_smoking': 'not_applicable',\n  'pack_years': 0,\n  'chewing_tobacco_use': 'never_or_not_in_last_3mo',\n  'alcohol_use': 'two_or_less_daily',\n  'intraoperative_complications': {'blood_transfusion': False,\n   'injury_to_surrounding_organ': False,\n   'cardiac_event': False},\n  'hospitalization': 3,\n  'ischemia_time': 24,\n  'radiographic_size': 5.4,\n  'pathologic_size': 6.2,\n  'malignant': True,\n  'pathology_t_stage': '1b',\n  'pathology_n_stage': 'X',\n  'pathology_m_stage': 'X',\n  'tumor_histologic_subtype': 'chromophobe',\n  'tumor_necrosis': False,\n  'tumor_isup_grade': None,\n  'clavien_surgical_complications': '1',\n  'er_visit': False,\n  'readmission': False,\n  'estimated_blood_loss': 300,\n  'surgery_type': 'robotic',\n  'surgical_procedure': 'partial_nephrectomy',\n  'surgical_approach': 'Transperitoneal',\n  'operative_time': 280,\n  'cytoreductive': False,\n  'positive_resection_margins': False,\n  'last_preop_egfr': {'value': None, 'days_before_nephrectomy': None},\n  'first_postop_egfr': {'value': None, 'days_before_nephrectomy': None},\n  'last_postop_egfr': {'value': None, 'days_before_nephrectomy': None},\n  'vital_status': 'censored',\n  'vital_days_after_surgery': 1058,\n  'voxel_spacing': {'x_spacing': 0.765625,\n   'y_spacing': 0.765625,\n   'z_spacing': 0.5}},\n {'case_id': 'case_00160',\n  'age_at_nephrectomy': 17,\n  'gender': 'male',\n  'body_mass_index': 26.48,\n  'comorbidities': {'myocardial_infarction': False,\n   'congestive_heart_failure': False,\n   'peripheral_vascular_disease': False,\n   'cerebrovascular_disease': False,\n   'dementia': False,\n   'copd': False,\n   'connective_tissue_disease': False,\n   'peptic_ulcer_disease': False,\n   'uncomplicated_diabetes_mellitus': False,\n   'diabetes_mellitus_with_end_organ_damage': False,\n   'chronic_kidney_disease': False,\n   'hemiplegia_from_stroke': False,\n   'leukemia': False,\n   'malignant_lymphoma': False,\n   'localized_solid_tumor': False,\n   'metastatic_solid_tumor': False,\n   'mild_liver_disease': False,\n   'moderate_to_severe_liver_disease': False,\n   'aids': False},\n  'smoking_history': 'never_smoked',\n  'age_when_quit_smoking': 'not_applicable',\n  'pack_years': 0,\n  'chewing_tobacco_use': 'never_or_not_in_last_3mo',\n  'alcohol_use': 'never_or_not_in_last_3mo',\n  'intraoperative_complications': {'blood_transfusion': False,\n   'injury_to_surrounding_organ': False,\n   'cardiac_event': False},\n  'hospitalization': 4,\n  'ischemia_time': None,\n  'radiographic_size': 4.5,\n  'pathologic_size': 4.5,\n  'malignant': True,\n  'pathology_t_stage': '1b',\n  'pathology_n_stage': '0',\n  'pathology_m_stage': '0',\n  'tumor_histologic_subtype': 'papillary',\n  'tumor_necrosis': True,\n  'tumor_isup_grade': 3,\n  'clavien_surgical_complications': '0',\n  'er_visit': False,\n  'readmission': False,\n  'estimated_blood_loss': 1500,\n  'surgery_type': 'laparoscopic',\n  'surgical_procedure': 'partial_nephrectomy',\n  'surgical_approach': 'Transperitoneal',\n  'operative_time': 382,\n  'cytoreductive': False,\n  'positive_resection_margins': True,\n  'last_preop_egfr': {'value': '>=90', 'days_before_nephrectomy': 7},\n  'first_postop_egfr': {'value': '>=90', 'days_before_nephrectomy': 499},\n  'last_postop_egfr': {'value': '>=90', 'days_before_nephrectomy': 499},\n  'vital_status': 'censored',\n  'vital_days_after_surgery': 499,\n  'voxel_spacing': {'x_spacing': 0.451171875,\n   'y_spacing': 0.451171875,\n   'z_spacing': 1.0}},\n {'case_id': 'case_00161',\n  'age_at_nephrectomy': 73,\n  'gender': 'male',\n  'body_mass_index': 28.83,\n  'comorbidities': {'myocardial_infarction': False,\n   'congestive_heart_failure': False,\n   'peripheral_vascular_disease': False,\n   'cerebrovascular_disease': False,\n   'dementia': False,\n   'copd': False,\n   'connective_tissue_disease': False,\n   'peptic_ulcer_disease': False,\n   'uncomplicated_diabetes_mellitus': False,\n   'diabetes_mellitus_with_end_organ_damage': False,\n   'chronic_kidney_disease': False,\n   'hemiplegia_from_stroke': False,\n   'leukemia': False,\n   'malignant_lymphoma': False,\n   'localized_solid_tumor': True,\n   'metastatic_solid_tumor': False,\n   'mild_liver_disease': False,\n   'moderate_to_severe_liver_disease': False,\n   'aids': False},\n  'smoking_history': 'previous_smoker',\n  'age_when_quit_smoking': '22',\n  'pack_years': None,\n  'chewing_tobacco_use': 'never_or_not_in_last_3mo',\n  'alcohol_use': 'never_or_not_in_last_3mo',\n  'intraoperative_complications': {'blood_transfusion': False,\n   'injury_to_surrounding_organ': False,\n   'cardiac_event': False},\n  'hospitalization': 1,\n  'ischemia_time': 23,\n  'radiographic_size': 4.3,\n  'pathologic_size': 4.5,\n  'malignant': True,\n  'pathology_t_stage': '1b',\n  'pathology_n_stage': 'X',\n  'pathology_m_stage': 'X',\n  'tumor_histologic_subtype': 'clear_cell_rcc',\n  'tumor_necrosis': False,\n  'tumor_isup_grade': 2,\n  'clavien_surgical_complications': '0',\n  'er_visit': False,\n  'readmission': False,\n  'estimated_blood_loss': 300,\n  'surgery_type': 'robotic',\n  'surgical_procedure': 'partial_nephrectomy',\n  'surgical_approach': 'Transperitoneal',\n  'operative_time': 258,\n  'cytoreductive': False,\n  'positive_resection_margins': False,\n  'last_preop_egfr': {'value': 50.0, 'days_before_nephrectomy': 1},\n  'first_postop_egfr': {'value': 49.0, 'days_before_nephrectomy': 191},\n  'last_postop_egfr': {'value': 42.0, 'days_before_nephrectomy': 1304},\n  'vital_status': 'censored',\n  'vital_days_after_surgery': 1304,\n  'voxel_spacing': {'x_spacing': 0.87109375,\n   'y_spacing': 0.87109375,\n   'z_spacing': 5.0}},\n {'case_id': 'case_00162',\n  'age_at_nephrectomy': 11,\n  'gender': 'male',\n  'body_mass_index': 40.83,\n  'comorbidities': {'myocardial_infarction': False,\n   'congestive_heart_failure': False,\n   'peripheral_vascular_disease': False,\n   'cerebrovascular_disease': False,\n   'dementia': False,\n   'copd': False,\n   'connective_tissue_disease': False,\n   'peptic_ulcer_disease': False,\n   'uncomplicated_diabetes_mellitus': False,\n   'diabetes_mellitus_with_end_organ_damage': False,\n   'chronic_kidney_disease': False,\n   'hemiplegia_from_stroke': False,\n   'leukemia': False,\n   'malignant_lymphoma': False,\n   'localized_solid_tumor': False,\n   'metastatic_solid_tumor': False,\n   'mild_liver_disease': False,\n   'moderate_to_severe_liver_disease': False,\n   'aids': False},\n  'smoking_history': 'never_smoked',\n  'age_when_quit_smoking': 'not_applicable',\n  'pack_years': 0,\n  'chewing_tobacco_use': 'never_or_not_in_last_3mo',\n  'alcohol_use': 'never_or_not_in_last_3mo',\n  'intraoperative_complications': {'blood_transfusion': False,\n   'injury_to_surrounding_organ': False,\n   'cardiac_event': False},\n  'hospitalization': 4,\n  'ischemia_time': 10,\n  'radiographic_size': 4.7,\n  'pathologic_size': 4.3,\n  'malignant': True,\n  'pathology_t_stage': '1b',\n  'pathology_n_stage': '0',\n  'pathology_m_stage': '0',\n  'tumor_histologic_subtype': 'papillary',\n  'tumor_necrosis': True,\n  'tumor_isup_grade': 3,\n  'clavien_surgical_complications': '0',\n  'er_visit': False,\n  'readmission': False,\n  'estimated_blood_loss': 400,\n  'surgery_type': 'open',\n  'surgical_procedure': 'partial_nephrectomy',\n  'surgical_approach': 'Retroperitoneal',\n  'operative_time': 278,\n  'cytoreductive': False,\n  'positive_resection_margins': False,\n  'last_preop_egfr': {'value': None, 'days_before_nephrectomy': None},\n  'first_postop_egfr': {'value': 'age<16', 'days_before_nephrectomy': 1800},\n  'last_postop_egfr': {'value': 'age<16', 'days_before_nephrectomy': 1800},\n  'vital_status': 'censored',\n  'vital_days_after_surgery': 2528,\n  'voxel_spacing': {'x_spacing': 0.55078125,\n   'y_spacing': 0.55078125,\n   'z_spacing': 5.0}},\n {'case_id': 'case_00163',\n  'age_at_nephrectomy': 47,\n  'gender': 'male',\n  'body_mass_index': 35.98,\n  'comorbidities': {'myocardial_infarction': False,\n   'congestive_heart_failure': True,\n   'peripheral_vascular_disease': False,\n   'cerebrovascular_disease': False,\n   'dementia': False,\n   'copd': False,\n   'connective_tissue_disease': False,\n   'peptic_ulcer_disease': False,\n   'uncomplicated_diabetes_mellitus': True,\n   'diabetes_mellitus_with_end_organ_damage': False,\n   'chronic_kidney_disease': False,\n   'hemiplegia_from_stroke': False,\n   'leukemia': False,\n   'malignant_lymphoma': False,\n   'localized_solid_tumor': False,\n   'metastatic_solid_tumor': False,\n   'mild_liver_disease': False,\n   'moderate_to_severe_liver_disease': False,\n   'aids': False},\n  'smoking_history': 'current_smoker',\n  'age_when_quit_smoking': 'not_applicable',\n  'pack_years': None,\n  'chewing_tobacco_use': 'never_or_not_in_last_3mo',\n  'alcohol_use': 'two_or_less_daily',\n  'intraoperative_complications': {'blood_transfusion': False,\n   'injury_to_surrounding_organ': False,\n   'cardiac_event': False},\n  'hospitalization': 4,\n  'ischemia_time': 21,\n  'radiographic_size': 4.9,\n  'pathologic_size': 3.5,\n  'malignant': True,\n  'pathology_t_stage': '1a',\n  'pathology_n_stage': 'X',\n  'pathology_m_stage': 'X',\n  'tumor_histologic_subtype': 'clear_cell_rcc',\n  'tumor_necrosis': False,\n  'tumor_isup_grade': 1,\n  'clavien_surgical_complications': '0',\n  'er_visit': False,\n  'readmission': False,\n  'estimated_blood_loss': 450,\n  'surgery_type': 'open',\n  'surgical_procedure': 'partial_nephrectomy',\n  'surgical_approach': 'Transperitoneal',\n  'operative_time': 245,\n  'cytoreductive': False,\n  'positive_resection_margins': False,\n  'last_preop_egfr': {'value': '>=90', 'days_before_nephrectomy': 34},\n  'first_postop_egfr': {'value': None, 'days_before_nephrectomy': None},\n  'last_postop_egfr': {'value': None, 'days_before_nephrectomy': None},\n  'vital_status': 'censored',\n  'vital_days_after_surgery': 15,\n  'voxel_spacing': {'x_spacing': 0.9375,\n   'y_spacing': 0.9375,\n   'z_spacing': 5.0}},\n {'case_id': 'case_00164',\n  'age_at_nephrectomy': 51,\n  'gender': 'female',\n  'body_mass_index': 26.7,\n  'comorbidities': {'myocardial_infarction': False,\n   'congestive_heart_failure': False,\n   'peripheral_vascular_disease': False,\n   'cerebrovascular_disease': False,\n   'dementia': False,\n   'copd': False,\n   'connective_tissue_disease': False,\n   'peptic_ulcer_disease': False,\n   'uncomplicated_diabetes_mellitus': False,\n   'diabetes_mellitus_with_end_organ_damage': False,\n   'chronic_kidney_disease': False,\n   'hemiplegia_from_stroke': False,\n   'leukemia': False,\n   'malignant_lymphoma': False,\n   'localized_solid_tumor': True,\n   'metastatic_solid_tumor': False,\n   'mild_liver_disease': True,\n   'moderate_to_severe_liver_disease': False,\n   'aids': False},\n  'smoking_history': 'previous_smoker',\n  'age_when_quit_smoking': '47',\n  'pack_years': '38',\n  'chewing_tobacco_use': 'never_or_not_in_last_3mo',\n  'alcohol_use': 'more_than_two_daily',\n  'intraoperative_complications': {'blood_transfusion': False,\n   'injury_to_surrounding_organ': False,\n   'cardiac_event': False},\n  'hospitalization': 3,\n  'ischemia_time': 35,\n  'radiographic_size': 1.8,\n  'pathologic_size': 2.0,\n  'malignant': True,\n  'pathology_t_stage': '1a',\n  'pathology_n_stage': '0',\n  'pathology_m_stage': '0',\n  'tumor_histologic_subtype': 'clear_cell_rcc',\n  'tumor_necrosis': False,\n  'tumor_isup_grade': 1,\n  'clavien_surgical_complications': '0',\n  'er_visit': False,\n  'readmission': False,\n  'estimated_blood_loss': 50,\n  'surgery_type': 'robotic',\n  'surgical_procedure': 'partial_nephrectomy',\n  'surgical_approach': 'Transperitoneal',\n  'operative_time': None,\n  'cytoreductive': False,\n  'positive_resection_margins': False,\n  'last_preop_egfr': {'value': 59.0, 'days_before_nephrectomy': 2},\n  'first_postop_egfr': {'value': 41.0, 'days_before_nephrectomy': 187},\n  'last_postop_egfr': {'value': 73.0, 'days_before_nephrectomy': 3070},\n  'vital_status': 'censored',\n  'vital_days_after_surgery': 3070,\n  'voxel_spacing': {'x_spacing': 0.69140625,\n   'y_spacing': 0.69140625,\n   'z_spacing': 5.0}},\n {'case_id': 'case_00165',\n  'age_at_nephrectomy': 68,\n  'gender': 'male',\n  'body_mass_index': 35.99,\n  'comorbidities': {'myocardial_infarction': False,\n   'congestive_heart_failure': False,\n   'peripheral_vascular_disease': False,\n   'cerebrovascular_disease': False,\n   'dementia': False,\n   'copd': True,\n   'connective_tissue_disease': False,\n   'peptic_ulcer_disease': False,\n   'uncomplicated_diabetes_mellitus': False,\n   'diabetes_mellitus_with_end_organ_damage': False,\n   'chronic_kidney_disease': False,\n   'hemiplegia_from_stroke': False,\n   'leukemia': False,\n   'malignant_lymphoma': False,\n   'localized_solid_tumor': True,\n   'metastatic_solid_tumor': False,\n   'mild_liver_disease': False,\n   'moderate_to_severe_liver_disease': False,\n   'aids': False},\n  'smoking_history': 'never_smoked',\n  'age_when_quit_smoking': 'not_applicable',\n  'pack_years': 0,\n  'chewing_tobacco_use': 'never_or_not_in_last_3mo',\n  'alcohol_use': 'two_or_less_daily',\n  'intraoperative_complications': {'blood_transfusion': False,\n   'injury_to_surrounding_organ': False,\n   'cardiac_event': False},\n  'hospitalization': 2,\n  'ischemia_time': 0,\n  'radiographic_size': 1.4,\n  'pathologic_size': 1.3,\n  'malignant': True,\n  'pathology_t_stage': '1a',\n  'pathology_n_stage': 'X',\n  'pathology_m_stage': 'X',\n  'tumor_histologic_subtype': 'clear_cell_rcc',\n  'tumor_necrosis': False,\n  'tumor_isup_grade': 2,\n  'clavien_surgical_complications': '0',\n  'er_visit': False,\n  'readmission': False,\n  'estimated_blood_loss': 0,\n  'surgery_type': 'robotic',\n  'surgical_procedure': 'partial_nephrectomy',\n  'surgical_approach': 'Transperitoneal',\n  'operative_time': 181,\n  'cytoreductive': False,\n  'positive_resection_margins': False,\n  'last_preop_egfr': {'value': 67.0, 'days_before_nephrectomy': 1},\n  'first_postop_egfr': {'value': 60.0, 'days_before_nephrectomy': 149},\n  'last_postop_egfr': {'value': 82.0, 'days_before_nephrectomy': 552},\n  'vital_status': 'censored',\n  'vital_days_after_surgery': 552,\n  'voxel_spacing': {'x_spacing': 0.970703125,\n   'y_spacing': 0.970703125,\n   'z_spacing': 1.0}},\n {'case_id': 'case_00166',\n  'age_at_nephrectomy': 45,\n  'gender': 'female',\n  'body_mass_index': 31.57,\n  'comorbidities': {'myocardial_infarction': False,\n   'congestive_heart_failure': False,\n   'peripheral_vascular_disease': False,\n   'cerebrovascular_disease': False,\n   'dementia': False,\n   'copd': False,\n   'connective_tissue_disease': False,\n   'peptic_ulcer_disease': False,\n   'uncomplicated_diabetes_mellitus': False,\n   'diabetes_mellitus_with_end_organ_damage': False,\n   'chronic_kidney_disease': False,\n   'hemiplegia_from_stroke': False,\n   'leukemia': False,\n   'malignant_lymphoma': False,\n   'localized_solid_tumor': False,\n   'metastatic_solid_tumor': False,\n   'mild_liver_disease': False,\n   'moderate_to_severe_liver_disease': False,\n   'aids': False},\n  'smoking_history': 'current_smoker',\n  'age_when_quit_smoking': 'not_applicable',\n  'pack_years': '10',\n  'chewing_tobacco_use': 'never_or_not_in_last_3mo',\n  'alcohol_use': 'never_or_not_in_last_3mo',\n  'intraoperative_complications': {'blood_transfusion': False,\n   'injury_to_surrounding_organ': False,\n   'cardiac_event': False},\n  'hospitalization': 3,\n  'ischemia_time': None,\n  'radiographic_size': 4.7,\n  'pathologic_size': 3.6,\n  'malignant': True,\n  'pathology_t_stage': '1a',\n  'pathology_n_stage': '0',\n  'pathology_m_stage': '0',\n  'tumor_histologic_subtype': 'clear_cell_rcc',\n  'tumor_necrosis': False,\n  'tumor_isup_grade': 2,\n  'clavien_surgical_complications': '0',\n  'er_visit': False,\n  'readmission': False,\n  'estimated_blood_loss': 700,\n  'surgery_type': 'open',\n  'surgical_procedure': 'partial_nephrectomy',\n  'surgical_approach': 'Retroperitoneal',\n  'operative_time': 209,\n  'cytoreductive': False,\n  'positive_resection_margins': False,\n  'last_preop_egfr': {'value': 86.0, 'days_before_nephrectomy': 10},\n  'first_postop_egfr': {'value': None, 'days_before_nephrectomy': None},\n  'last_postop_egfr': {'value': None, 'days_before_nephrectomy': None},\n  'vital_status': 'censored',\n  'vital_days_after_surgery': 86,\n  'voxel_spacing': {'x_spacing': 0.7139999866485596,\n   'y_spacing': 0.7139999866485596,\n   'z_spacing': 3.0}},\n {'case_id': 'case_00167',\n  'age_at_nephrectomy': 27,\n  'gender': 'female',\n  'body_mass_index': 35.01,\n  'comorbidities': {'myocardial_infarction': False,\n   'congestive_heart_failure': False,\n   'peripheral_vascular_disease': True,\n   'cerebrovascular_disease': False,\n   'dementia': False,\n   'copd': False,\n   'connective_tissue_disease': False,\n   'peptic_ulcer_disease': False,\n   'uncomplicated_diabetes_mellitus': True,\n   'diabetes_mellitus_with_end_organ_damage': False,\n   'chronic_kidney_disease': False,\n   'hemiplegia_from_stroke': False,\n   'leukemia': False,\n   'malignant_lymphoma': False,\n   'localized_solid_tumor': False,\n   'metastatic_solid_tumor': False,\n   'mild_liver_disease': False,\n   'moderate_to_severe_liver_disease': False,\n   'aids': False},\n  'smoking_history': 'never_smoked',\n  'age_when_quit_smoking': 'not_applicable',\n  'pack_years': 0,\n  'chewing_tobacco_use': 'never_or_not_in_last_3mo',\n  'alcohol_use': 'two_or_less_daily',\n  'intraoperative_complications': {'blood_transfusion': False,\n   'injury_to_surrounding_organ': False,\n   'cardiac_event': False},\n  'hospitalization': 3,\n  'ischemia_time': 0,\n  'radiographic_size': 2.0,\n  'pathologic_size': 2.4,\n  'malignant': True,\n  'pathology_t_stage': '1a',\n  'pathology_n_stage': 'X',\n  'pathology_m_stage': 'X',\n  'tumor_histologic_subtype': 'clear_cell_rcc',\n  'tumor_necrosis': False,\n  'tumor_isup_grade': 2,\n  'clavien_surgical_complications': '2',\n  'er_visit': False,\n  'readmission': True,\n  'estimated_blood_loss': 50,\n  'surgery_type': 'robotic',\n  'surgical_procedure': 'partial_nephrectomy',\n  'surgical_approach': 'Transperitoneal',\n  'operative_time': 138,\n  'cytoreductive': False,\n  'positive_resection_margins': False,\n  'last_preop_egfr': {'value': None, 'days_before_nephrectomy': None},\n  'first_postop_egfr': {'value': '>=90', 'days_before_nephrectomy': 1101},\n  'last_postop_egfr': {'value': '>=90', 'days_before_nephrectomy': 1101},\n  'vital_status': 'censored',\n  'vital_days_after_surgery': 1347,\n  'voxel_spacing': {'x_spacing': 0.8730000257492065,\n   'y_spacing': 0.8730000257492065,\n   'z_spacing': 5.0}},\n {'case_id': 'case_00168',\n  'age_at_nephrectomy': 61,\n  'gender': 'female',\n  'body_mass_index': 24.05,\n  'comorbidities': {'myocardial_infarction': False,\n   'congestive_heart_failure': False,\n   'peripheral_vascular_disease': False,\n   'cerebrovascular_disease': False,\n   'dementia': False,\n   'copd': False,\n   'connective_tissue_disease': False,\n   'peptic_ulcer_disease': False,\n   'uncomplicated_diabetes_mellitus': False,\n   'diabetes_mellitus_with_end_organ_damage': False,\n   'chronic_kidney_disease': False,\n   'hemiplegia_from_stroke': False,\n   'leukemia': False,\n   'malignant_lymphoma': False,\n   'localized_solid_tumor': False,\n   'metastatic_solid_tumor': False,\n   'mild_liver_disease': False,\n   'moderate_to_severe_liver_disease': False,\n   'aids': False},\n  'smoking_history': 'previous_smoker',\n  'age_when_quit_smoking': '41',\n  'pack_years': None,\n  'chewing_tobacco_use': 'never_or_not_in_last_3mo',\n  'alcohol_use': 'two_or_less_daily',\n  'intraoperative_complications': {'blood_transfusion': False,\n   'injury_to_surrounding_organ': False,\n   'cardiac_event': False},\n  'hospitalization': 5,\n  'ischemia_time': 20,\n  'radiographic_size': 4.4,\n  'pathologic_size': 3.9,\n  'malignant': True,\n  'pathology_t_stage': '1a',\n  'pathology_n_stage': '0',\n  'pathology_m_stage': '0',\n  'tumor_histologic_subtype': 'clear_cell_rcc',\n  'tumor_necrosis': False,\n  'tumor_isup_grade': 2,\n  'clavien_surgical_complications': '0',\n  'er_visit': False,\n  'readmission': False,\n  'estimated_blood_loss': 250,\n  'surgery_type': 'open',\n  'surgical_procedure': 'partial_nephrectomy',\n  'surgical_approach': 'Retroperitoneal',\n  'operative_time': 158,\n  'cytoreductive': False,\n  'positive_resection_margins': False,\n  'last_preop_egfr': {'value': 46.0, 'days_before_nephrectomy': 19},\n  'first_postop_egfr': {'value': None, 'days_before_nephrectomy': None},\n  'last_postop_egfr': {'value': None, 'days_before_nephrectomy': None},\n  'vital_status': 'censored',\n  'vital_days_after_surgery': 30,\n  'voxel_spacing': {'x_spacing': 0.7753909826278687,\n   'y_spacing': 0.7753909826278687,\n   'z_spacing': 5.0}},\n {'case_id': 'case_00169',\n  'age_at_nephrectomy': 62,\n  'gender': 'male',\n  'body_mass_index': 25.71,\n  'comorbidities': {'myocardial_infarction': False,\n   'congestive_heart_failure': False,\n   'peripheral_vascular_disease': False,\n   'cerebrovascular_disease': False,\n   'dementia': False,\n   'copd': False,\n   'connective_tissue_disease': False,\n   'peptic_ulcer_disease': False,\n   'uncomplicated_diabetes_mellitus': False,\n   'diabetes_mellitus_with_end_organ_damage': False,\n   'chronic_kidney_disease': False,\n   'hemiplegia_from_stroke': False,\n   'leukemia': False,\n   'malignant_lymphoma': False,\n   'localized_solid_tumor': True,\n   'metastatic_solid_tumor': False,\n   'mild_liver_disease': False,\n   'moderate_to_severe_liver_disease': False,\n   'aids': False},\n  'smoking_history': 'never_smoked',\n  'age_when_quit_smoking': 'not_applicable',\n  'pack_years': 0,\n  'chewing_tobacco_use': 'never_or_not_in_last_3mo',\n  'alcohol_use': 'two_or_less_daily',\n  'intraoperative_complications': {'blood_transfusion': False,\n   'injury_to_surrounding_organ': False,\n   'cardiac_event': False},\n  'hospitalization': 1,\n  'ischemia_time': 20,\n  'radiographic_size': 3.5,\n  'pathologic_size': 3.3,\n  'malignant': True,\n  'pathology_t_stage': '1a',\n  'pathology_n_stage': '0',\n  'pathology_m_stage': '0',\n  'tumor_histologic_subtype': 'clear_cell_rcc',\n  'tumor_necrosis': False,\n  'tumor_isup_grade': 2,\n  'clavien_surgical_complications': '0',\n  'er_visit': False,\n  'readmission': False,\n  'estimated_blood_loss': 200,\n  'surgery_type': 'robotic',\n  'surgical_procedure': 'partial_nephrectomy',\n  'surgical_approach': 'Transperitoneal',\n  'operative_time': 238,\n  'cytoreductive': False,\n  'positive_resection_margins': False,\n  'last_preop_egfr': {'value': None, 'days_before_nephrectomy': None},\n  'first_postop_egfr': {'value': 59.0, 'days_before_nephrectomy': 223},\n  'last_postop_egfr': {'value': 59.0, 'days_before_nephrectomy': 223},\n  'vital_status': 'censored',\n  'vital_days_after_surgery': 233,\n  'voxel_spacing': {'x_spacing': 0.7549999952316284,\n   'y_spacing': 0.7549999952316284,\n   'z_spacing': 5.0}},\n {'case_id': 'case_00170',\n  'age_at_nephrectomy': 71,\n  'gender': 'male',\n  'body_mass_index': 24.39,\n  'comorbidities': {'myocardial_infarction': False,\n   'congestive_heart_failure': False,\n   'peripheral_vascular_disease': False,\n   'cerebrovascular_disease': False,\n   'dementia': False,\n   'copd': False,\n   'connective_tissue_disease': False,\n   'peptic_ulcer_disease': False,\n   'uncomplicated_diabetes_mellitus': False,\n   'diabetes_mellitus_with_end_organ_damage': False,\n   'chronic_kidney_disease': False,\n   'hemiplegia_from_stroke': False,\n   'leukemia': False,\n   'malignant_lymphoma': False,\n   'localized_solid_tumor': True,\n   'metastatic_solid_tumor': False,\n   'mild_liver_disease': False,\n   'moderate_to_severe_liver_disease': False,\n   'aids': False},\n  'smoking_history': 'previous_smoker',\n  'age_when_quit_smoking': '71',\n  'pack_years': '49',\n  'chewing_tobacco_use': 'never_or_not_in_last_3mo',\n  'alcohol_use': 'never_or_not_in_last_3mo',\n  'intraoperative_complications': {'blood_transfusion': False,\n   'injury_to_surrounding_organ': False,\n   'cardiac_event': False},\n  'hospitalization': 2,\n  'ischemia_time': 21,\n  'radiographic_size': 4.1,\n  'pathologic_size': 4.0,\n  'malignant': True,\n  'pathology_t_stage': '1a',\n  'pathology_n_stage': 'X',\n  'pathology_m_stage': 'X',\n  'tumor_histologic_subtype': 'papillary',\n  'tumor_necrosis': None,\n  'tumor_isup_grade': 3,\n  'clavien_surgical_complications': '0',\n  'er_visit': False,\n  'readmission': False,\n  'estimated_blood_loss': 100,\n  'surgery_type': 'robotic',\n  'surgical_procedure': 'partial_nephrectomy',\n  'surgical_approach': 'Transperitoneal',\n  'operative_time': 255,\n  'cytoreductive': False,\n  'positive_resection_margins': False,\n  'last_preop_egfr': {'value': None, 'days_before_nephrectomy': None},\n  'first_postop_egfr': {'value': None, 'days_before_nephrectomy': None},\n  'last_postop_egfr': {'value': None, 'days_before_nephrectomy': None},\n  'vital_status': 'censored',\n  'vital_days_after_surgery': 11,\n  'voxel_spacing': {'x_spacing': 0.9765625,\n   'y_spacing': 0.9765625,\n   'z_spacing': 2.0}},\n {'case_id': 'case_00171',\n  'age_at_nephrectomy': 50,\n  'gender': 'male',\n  'body_mass_index': 24.45,\n  'comorbidities': {'myocardial_infarction': False,\n   'congestive_heart_failure': False,\n   'peripheral_vascular_disease': False,\n   'cerebrovascular_disease': False,\n   'dementia': False,\n   'copd': False,\n   'connective_tissue_disease': False,\n   'peptic_ulcer_disease': False,\n   'uncomplicated_diabetes_mellitus': False,\n   'diabetes_mellitus_with_end_organ_damage': False,\n   'chronic_kidney_disease': False,\n   'hemiplegia_from_stroke': False,\n   'leukemia': False,\n   'malignant_lymphoma': False,\n   'localized_solid_tumor': False,\n   'metastatic_solid_tumor': False,\n   'mild_liver_disease': False,\n   'moderate_to_severe_liver_disease': False,\n   'aids': False},\n  'smoking_history': 'current_smoker',\n  'age_when_quit_smoking': 'not_applicable',\n  'pack_years': '30',\n  'chewing_tobacco_use': 'never_or_not_in_last_3mo',\n  'alcohol_use': 'more_than_two_daily',\n  'intraoperative_complications': {'blood_transfusion': False,\n   'injury_to_surrounding_organ': False,\n   'cardiac_event': False},\n  'hospitalization': 5,\n  'ischemia_time': 'not_applicable',\n  'radiographic_size': 6.5,\n  'pathologic_size': 6.5,\n  'malignant': True,\n  'pathology_t_stage': '3',\n  'pathology_n_stage': 'X',\n  'pathology_m_stage': 'X',\n  'tumor_histologic_subtype': 'clear_cell_rcc',\n  'tumor_necrosis': False,\n  'tumor_isup_grade': 2,\n  'clavien_surgical_complications': '0',\n  'er_visit': False,\n  'readmission': False,\n  'estimated_blood_loss': 100,\n  'surgery_type': 'laparoscopic',\n  'surgical_procedure': 'radical_nephrectomy',\n  'surgical_approach': 'Transperitoneal',\n  'operative_time': 133,\n  'cytoreductive': False,\n  'positive_resection_margins': False,\n  'last_preop_egfr': {'value': '>=90', 'days_before_nephrectomy': 1},\n  'first_postop_egfr': {'value': 77.0, 'days_before_nephrectomy': 2503},\n  'last_postop_egfr': {'value': 77.0, 'days_before_nephrectomy': 2503},\n  'vital_status': 'censored',\n  'vital_days_after_surgery': 2900,\n  'voxel_spacing': {'x_spacing': 0.759765625,\n   'y_spacing': 0.759765625,\n   'z_spacing': 5.0}},\n {'case_id': 'case_00172',\n  'age_at_nephrectomy': 76,\n  'gender': 'male',\n  'body_mass_index': 26.65,\n  'comorbidities': {'myocardial_infarction': False,\n   'congestive_heart_failure': False,\n   'peripheral_vascular_disease': False,\n   'cerebrovascular_disease': False,\n   'dementia': False,\n   'copd': False,\n   'connective_tissue_disease': False,\n   'peptic_ulcer_disease': False,\n   'uncomplicated_diabetes_mellitus': False,\n   'diabetes_mellitus_with_end_organ_damage': False,\n   'chronic_kidney_disease': False,\n   'hemiplegia_from_stroke': False,\n   'leukemia': False,\n   'malignant_lymphoma': False,\n   'localized_solid_tumor': True,\n   'metastatic_solid_tumor': False,\n   'mild_liver_disease': False,\n   'moderate_to_severe_liver_disease': False,\n   'aids': False},\n  'smoking_history': 'previous_smoker',\n  'age_when_quit_smoking': None,\n  'pack_years': None,\n  'chewing_tobacco_use': 'never_or_not_in_last_3mo',\n  'alcohol_use': 'two_or_less_daily',\n  'intraoperative_complications': {'blood_transfusion': False,\n   'injury_to_surrounding_organ': False,\n   'cardiac_event': False},\n  'hospitalization': 1,\n  'ischemia_time': 'not_applicable',\n  'radiographic_size': 10.9,\n  'pathologic_size': 10.0,\n  'malignant': True,\n  'pathology_t_stage': '3',\n  'pathology_n_stage': 'X',\n  'pathology_m_stage': 'X',\n  'tumor_histologic_subtype': 'clear_cell_rcc',\n  'tumor_necrosis': False,\n  'tumor_isup_grade': 2,\n  'clavien_surgical_complications': '0',\n  'er_visit': False,\n  'readmission': False,\n  'estimated_blood_loss': 75,\n  'surgery_type': 'laparoscopic',\n  'surgical_procedure': 'radical_nephrectomy',\n  'surgical_approach': 'Transperitoneal',\n  'operative_time': 257,\n  'cytoreductive': False,\n  'positive_resection_margins': False,\n  'last_preop_egfr': {'value': 73.0, 'days_before_nephrectomy': 12},\n  'first_postop_egfr': {'value': 44.0, 'days_before_nephrectomy': 121},\n  'last_postop_egfr': {'value': 59.0, 'days_before_nephrectomy': 401},\n  'vital_status': 'censored',\n  'vital_days_after_surgery': 401,\n  'voxel_spacing': {'x_spacing': 0.765999972820282,\n   'y_spacing': 0.765999972820282,\n   'z_spacing': 5.0}},\n {'case_id': 'case_00173',\n  'age_at_nephrectomy': 51,\n  'gender': 'female',\n  'body_mass_index': 31.76,\n  'comorbidities': {'myocardial_infarction': False,\n   'congestive_heart_failure': False,\n   'peripheral_vascular_disease': False,\n   'cerebrovascular_disease': False,\n   'dementia': False,\n   'copd': False,\n   'connective_tissue_disease': False,\n   'peptic_ulcer_disease': False,\n   'uncomplicated_diabetes_mellitus': False,\n   'diabetes_mellitus_with_end_organ_damage': False,\n   'chronic_kidney_disease': False,\n   'hemiplegia_from_stroke': False,\n   'leukemia': False,\n   'malignant_lymphoma': False,\n   'localized_solid_tumor': False,\n   'metastatic_solid_tumor': False,\n   'mild_liver_disease': False,\n   'moderate_to_severe_liver_disease': False,\n   'aids': False},\n  'smoking_history': 'current_smoker',\n  'age_when_quit_smoking': 'not_applicable',\n  'pack_years': '35',\n  'chewing_tobacco_use': 'never_or_not_in_last_3mo',\n  'alcohol_use': 'never_or_not_in_last_3mo',\n  'intraoperative_complications': {'blood_transfusion': False,\n   'injury_to_surrounding_organ': False,\n   'cardiac_event': False},\n  'hospitalization': 6,\n  'ischemia_time': 34,\n  'radiographic_size': 2.5,\n  'pathologic_size': 2.0,\n  'malignant': True,\n  'pathology_t_stage': '1a',\n  'pathology_n_stage': '0',\n  'pathology_m_stage': '0',\n  'tumor_histologic_subtype': 'clear_cell_rcc',\n  'tumor_necrosis': False,\n  'tumor_isup_grade': 1,\n  'clavien_surgical_complications': '2',\n  'er_visit': True,\n  'readmission': False,\n  'estimated_blood_loss': 800,\n  'surgery_type': 'open',\n  'surgical_procedure': 'partial_nephrectomy',\n  'surgical_approach': 'Transperitoneal',\n  'operative_time': 316,\n  'cytoreductive': False,\n  'positive_resection_margins': False,\n  'last_preop_egfr': {'value': 81.0, 'days_before_nephrectomy': 75},\n  'first_postop_egfr': {'value': 84.0, 'days_before_nephrectomy': 1087},\n  'last_postop_egfr': {'value': 84.0, 'days_before_nephrectomy': 1087},\n  'vital_status': 'censored',\n  'vital_days_after_surgery': 1722,\n  'voxel_spacing': {'x_spacing': 0.82421875,\n   'y_spacing': 0.82421875,\n   'z_spacing': 5.0}},\n {'case_id': 'case_00174',\n  'age_at_nephrectomy': 62,\n  'gender': 'female',\n  'body_mass_index': 37.18,\n  'comorbidities': {'myocardial_infarction': False,\n   'congestive_heart_failure': False,\n   'peripheral_vascular_disease': False,\n   'cerebrovascular_disease': False,\n   'dementia': False,\n   'copd': False,\n   'connective_tissue_disease': False,\n   'peptic_ulcer_disease': False,\n   'uncomplicated_diabetes_mellitus': False,\n   'diabetes_mellitus_with_end_organ_damage': False,\n   'chronic_kidney_disease': False,\n   'hemiplegia_from_stroke': False,\n   'leukemia': False,\n   'malignant_lymphoma': False,\n   'localized_solid_tumor': False,\n   'metastatic_solid_tumor': False,\n   'mild_liver_disease': False,\n   'moderate_to_severe_liver_disease': False,\n   'aids': False},\n  'smoking_history': 'never_smoked',\n  'age_when_quit_smoking': 'not_applicable',\n  'pack_years': 0,\n  'chewing_tobacco_use': 'never_or_not_in_last_3mo',\n  'alcohol_use': 'two_or_less_daily',\n  'intraoperative_complications': {'blood_transfusion': False,\n   'injury_to_surrounding_organ': False,\n   'cardiac_event': False},\n  'hospitalization': 2,\n  'ischemia_time': 20,\n  'radiographic_size': 2.6,\n  'pathologic_size': 3.0,\n  'malignant': True,\n  'pathology_t_stage': '1a',\n  'pathology_n_stage': 'X',\n  'pathology_m_stage': 'X',\n  'tumor_histologic_subtype': 'clear_cell_rcc',\n  'tumor_necrosis': False,\n  'tumor_isup_grade': 2,\n  'clavien_surgical_complications': '0',\n  'er_visit': False,\n  'readmission': False,\n  'estimated_blood_loss': 350,\n  'surgery_type': 'robotic',\n  'surgical_procedure': 'partial_nephrectomy',\n  'surgical_approach': 'Transperitoneal',\n  'operative_time': 190,\n  'cytoreductive': False,\n  'positive_resection_margins': False,\n  'last_preop_egfr': {'value': 54.0, 'days_before_nephrectomy': 7},\n  'first_postop_egfr': {'value': 54.0, 'days_before_nephrectomy': 84},\n  'last_postop_egfr': {'value': 51.0, 'days_before_nephrectomy': 1800},\n  'vital_status': 'censored',\n  'vital_days_after_surgery': 1765,\n  'voxel_spacing': {'x_spacing': 0.736328125,\n   'y_spacing': 0.736328125,\n   'z_spacing': 3.0}},\n {'case_id': 'case_00175',\n  'age_at_nephrectomy': 66,\n  'gender': 'male',\n  'body_mass_index': 29.3,\n  'comorbidities': {'myocardial_infarction': False,\n   'congestive_heart_failure': False,\n   'peripheral_vascular_disease': False,\n   'cerebrovascular_disease': False,\n   'dementia': False,\n   'copd': False,\n   'connective_tissue_disease': False,\n   'peptic_ulcer_disease': False,\n   'uncomplicated_diabetes_mellitus': False,\n   'diabetes_mellitus_with_end_organ_damage': False,\n   'chronic_kidney_disease': False,\n   'hemiplegia_from_stroke': False,\n   'leukemia': False,\n   'malignant_lymphoma': False,\n   'localized_solid_tumor': False,\n   'metastatic_solid_tumor': False,\n   'mild_liver_disease': False,\n   'moderate_to_severe_liver_disease': False,\n   'aids': False},\n  'smoking_history': 'previous_smoker',\n  'age_when_quit_smoking': None,\n  'pack_years': None,\n  'chewing_tobacco_use': 'never_or_not_in_last_3mo',\n  'alcohol_use': 'two_or_less_daily',\n  'intraoperative_complications': {'blood_transfusion': False,\n   'injury_to_surrounding_organ': False,\n   'cardiac_event': False},\n  'hospitalization': 3,\n  'ischemia_time': 38,\n  'radiographic_size': 2.6,\n  'pathologic_size': 2.3,\n  'malignant': True,\n  'pathology_t_stage': '1a',\n  'pathology_n_stage': '0',\n  'pathology_m_stage': '0',\n  'tumor_histologic_subtype': 'clear_cell_rcc',\n  'tumor_necrosis': False,\n  'tumor_isup_grade': 2,\n  'clavien_surgical_complications': '0',\n  'er_visit': False,\n  'readmission': False,\n  'estimated_blood_loss': 450,\n  'surgery_type': 'open',\n  'surgical_procedure': 'partial_nephrectomy',\n  'surgical_approach': 'Retroperitoneal',\n  'operative_time': 240,\n  'cytoreductive': False,\n  'positive_resection_margins': False,\n  'last_preop_egfr': {'value': 78.0, 'days_before_nephrectomy': 7},\n  'first_postop_egfr': {'value': 64.0, 'days_before_nephrectomy': 100},\n  'last_postop_egfr': {'value': 78.0, 'days_before_nephrectomy': 1890},\n  'vital_status': 'censored',\n  'vital_days_after_surgery': 1919,\n  'voxel_spacing': {'x_spacing': 0.73046875,\n   'y_spacing': 0.73046875,\n   'z_spacing': 5.0}},\n {'case_id': 'case_00176',\n  'age_at_nephrectomy': 69,\n  'gender': 'male',\n  'body_mass_index': 38.82,\n  'comorbidities': {'myocardial_infarction': False,\n   'congestive_heart_failure': False,\n   'peripheral_vascular_disease': False,\n   'cerebrovascular_disease': False,\n   'dementia': False,\n   'copd': False,\n   'connective_tissue_disease': False,\n   'peptic_ulcer_disease': False,\n   'uncomplicated_diabetes_mellitus': False,\n   'diabetes_mellitus_with_end_organ_damage': False,\n   'chronic_kidney_disease': False,\n   'hemiplegia_from_stroke': False,\n   'leukemia': False,\n   'malignant_lymphoma': False,\n   'localized_solid_tumor': False,\n   'metastatic_solid_tumor': False,\n   'mild_liver_disease': False,\n   'moderate_to_severe_liver_disease': False,\n   'aids': False},\n  'smoking_history': 'previous_smoker',\n  'age_when_quit_smoking': '24',\n  'pack_years': '9',\n  'chewing_tobacco_use': 'never_or_not_in_last_3mo',\n  'alcohol_use': 'never_or_not_in_last_3mo',\n  'intraoperative_complications': {'blood_transfusion': False,\n   'injury_to_surrounding_organ': False,\n   'cardiac_event': False},\n  'hospitalization': 3,\n  'ischemia_time': 'not_applicable',\n  'radiographic_size': 4.9,\n  'pathologic_size': 4.5,\n  'malignant': False,\n  'pathology_t_stage': '0',\n  'pathology_n_stage': '0',\n  'pathology_m_stage': '0',\n  'tumor_histologic_subtype': 'angiomyolipoma',\n  'tumor_necrosis': None,\n  'tumor_isup_grade': None,\n  'clavien_surgical_complications': '0',\n  'er_visit': False,\n  'readmission': False,\n  'estimated_blood_loss': 150,\n  'surgery_type': 'robotic',\n  'surgical_procedure': 'radical_nephrectomy',\n  'surgical_approach': 'Transperitoneal',\n  'operative_time': 249,\n  'cytoreductive': False,\n  'positive_resection_margins': False,\n  'last_preop_egfr': {'value': 84.0, 'days_before_nephrectomy': 12},\n  'first_postop_egfr': {'value': 43.0, 'days_before_nephrectomy': 168},\n  'last_postop_egfr': {'value': 44.0, 'days_before_nephrectomy': 426},\n  'vital_status': 'censored',\n  'vital_days_after_surgery': 765,\n  'voxel_spacing': {'x_spacing': 0.9765625,\n   'y_spacing': 0.9765625,\n   'z_spacing': 5.0}},\n {'case_id': 'case_00177',\n  'age_at_nephrectomy': 66,\n  'gender': 'female',\n  'body_mass_index': 26.76,\n  'comorbidities': {'myocardial_infarction': False,\n   'congestive_heart_failure': False,\n   'peripheral_vascular_disease': False,\n   'cerebrovascular_disease': False,\n   'dementia': False,\n   'copd': False,\n   'connective_tissue_disease': False,\n   'peptic_ulcer_disease': False,\n   'uncomplicated_diabetes_mellitus': False,\n   'diabetes_mellitus_with_end_organ_damage': False,\n   'chronic_kidney_disease': False,\n   'hemiplegia_from_stroke': False,\n   'leukemia': False,\n   'malignant_lymphoma': False,\n   'localized_solid_tumor': False,\n   'metastatic_solid_tumor': False,\n   'mild_liver_disease': False,\n   'moderate_to_severe_liver_disease': False,\n   'aids': False},\n  'smoking_history': 'never_smoked',\n  'age_when_quit_smoking': 'not_applicable',\n  'pack_years': 0,\n  'chewing_tobacco_use': 'never_or_not_in_last_3mo',\n  'alcohol_use': 'never_or_not_in_last_3mo',\n  'intraoperative_complications': {'blood_transfusion': False,\n   'injury_to_surrounding_organ': False,\n   'cardiac_event': False},\n  'hospitalization': 3,\n  'ischemia_time': 'not_applicable',\n  'radiographic_size': 4.5,\n  'pathologic_size': 4.2,\n  'malignant': True,\n  'pathology_t_stage': '3',\n  'pathology_n_stage': '0',\n  'pathology_m_stage': '0',\n  'tumor_histologic_subtype': 'clear_cell_rcc',\n  'tumor_necrosis': False,\n  'tumor_isup_grade': 2,\n  'clavien_surgical_complications': '0',\n  'er_visit': False,\n  'readmission': False,\n  'estimated_blood_loss': 25,\n  'surgery_type': 'laparoscopic',\n  'surgical_procedure': 'radical_nephrectomy',\n  'surgical_approach': 'Retroperitoneal',\n  'operative_time': 91,\n  'cytoreductive': False,\n  'positive_resection_margins': False,\n  'last_preop_egfr': {'value': 63.0, 'days_before_nephrectomy': 14},\n  'first_postop_egfr': {'value': 38.0, 'days_before_nephrectomy': 749},\n  'last_postop_egfr': {'value': 38.0, 'days_before_nephrectomy': 749},\n  'vital_status': 'censored',\n  'vital_days_after_surgery': 749,\n  'voxel_spacing': {'x_spacing': 0.673828125,\n   'y_spacing': 0.673828125,\n   'z_spacing': 5.0}},\n {'case_id': 'case_00178',\n  'age_at_nephrectomy': 51,\n  'gender': 'male',\n  'body_mass_index': 20.78,\n  'comorbidities': {'myocardial_infarction': False,\n   'congestive_heart_failure': False,\n   'peripheral_vascular_disease': False,\n   'cerebrovascular_disease': False,\n   'dementia': False,\n   'copd': False,\n   'connective_tissue_disease': False,\n   'peptic_ulcer_disease': False,\n   'uncomplicated_diabetes_mellitus': False,\n   'diabetes_mellitus_with_end_organ_damage': False,\n   'chronic_kidney_disease': False,\n   'hemiplegia_from_stroke': False,\n   'leukemia': False,\n   'malignant_lymphoma': False,\n   'localized_solid_tumor': False,\n   'metastatic_solid_tumor': False,\n   'mild_liver_disease': False,\n   'moderate_to_severe_liver_disease': False,\n   'aids': False},\n  'smoking_history': 'previous_smoker',\n  'age_when_quit_smoking': '43',\n  'pack_years': '18',\n  'chewing_tobacco_use': 'never_or_not_in_last_3mo',\n  'alcohol_use': 'never_or_not_in_last_3mo',\n  'intraoperative_complications': {'blood_transfusion': False,\n   'injury_to_surrounding_organ': False,\n   'cardiac_event': False},\n  'hospitalization': 4,\n  'ischemia_time': 'not_applicable',\n  'radiographic_size': 9.2,\n  'pathologic_size': 11.6,\n  'malignant': True,\n  'pathology_t_stage': '3',\n  'pathology_n_stage': 'X',\n  'pathology_m_stage': '1',\n  'tumor_histologic_subtype': 'clear_cell_rcc',\n  'tumor_necrosis': True,\n  'tumor_isup_grade': 4,\n  'clavien_surgical_complications': '0',\n  'er_visit': False,\n  'readmission': False,\n  'estimated_blood_loss': 50,\n  'surgery_type': 'laparoscopic',\n  'surgical_procedure': 'radical_nephrectomy',\n  'surgical_approach': 'Transperitoneal',\n  'operative_time': 239,\n  'cytoreductive': True,\n  'positive_resection_margins': False,\n  'last_preop_egfr': {'value': '>=90', 'days_before_nephrectomy': 7},\n  'first_postop_egfr': {'value': 57.0, 'days_before_nephrectomy': 126},\n  'last_postop_egfr': {'value': 69.0, 'days_before_nephrectomy': 1853},\n  'vital_status': 'censored',\n  'vital_days_after_surgery': 1895,\n  'voxel_spacing': {'x_spacing': 0.865234375,\n   'y_spacing': 0.865234375,\n   'z_spacing': 5.0}},\n {'case_id': 'case_00179',\n  'age_at_nephrectomy': 65,\n  'gender': 'male',\n  'body_mass_index': 27.53,\n  'comorbidities': {'myocardial_infarction': False,\n   'congestive_heart_failure': False,\n   'peripheral_vascular_disease': False,\n   'cerebrovascular_disease': False,\n   'dementia': False,\n   'copd': False,\n   'connective_tissue_disease': False,\n   'peptic_ulcer_disease': False,\n   'uncomplicated_diabetes_mellitus': False,\n   'diabetes_mellitus_with_end_organ_damage': False,\n   'chronic_kidney_disease': False,\n   'hemiplegia_from_stroke': False,\n   'leukemia': False,\n   'malignant_lymphoma': False,\n   'localized_solid_tumor': False,\n   'metastatic_solid_tumor': True,\n   'mild_liver_disease': False,\n   'moderate_to_severe_liver_disease': False,\n   'aids': False},\n  'smoking_history': 'current_smoker',\n  'age_when_quit_smoking': 'not_applicable',\n  'pack_years': '20',\n  'chewing_tobacco_use': 'never_or_not_in_last_3mo',\n  'alcohol_use': 'more_than_two_daily',\n  'intraoperative_complications': {'blood_transfusion': False,\n   'injury_to_surrounding_organ': False,\n   'cardiac_event': False},\n  'hospitalization': 4,\n  'ischemia_time': 'not_applicable',\n  'radiographic_size': 9.0,\n  'pathologic_size': 5.0,\n  'malignant': True,\n  'pathology_t_stage': '3',\n  'pathology_n_stage': '0',\n  'pathology_m_stage': '1',\n  'tumor_histologic_subtype': 'clear_cell_rcc',\n  'tumor_necrosis': True,\n  'tumor_isup_grade': 4,\n  'clavien_surgical_complications': '0',\n  'er_visit': False,\n  'readmission': False,\n  'estimated_blood_loss': 25,\n  'surgery_type': 'laparoscopic',\n  'surgical_procedure': 'radical_nephrectomy',\n  'surgical_approach': 'Transperitoneal',\n  'operative_time': 212,\n  'cytoreductive': True,\n  'positive_resection_margins': False,\n  'last_preop_egfr': {'value': '>=90', 'days_before_nephrectomy': 1},\n  'first_postop_egfr': {'value': 66.0, 'days_before_nephrectomy': 77},\n  'last_postop_egfr': {'value': 66.0, 'days_before_nephrectomy': 77},\n  'vital_status': 'dead',\n  'vital_days_after_surgery': 182,\n  'voxel_spacing': {'x_spacing': 0.7421875,\n   'y_spacing': 0.7421875,\n   'z_spacing': 5.0}},\n {'case_id': 'case_00180',\n  'age_at_nephrectomy': 82,\n  'gender': 'male',\n  'body_mass_index': 24.53,\n  'comorbidities': {'myocardial_infarction': False,\n   'congestive_heart_failure': False,\n   'peripheral_vascular_disease': False,\n   'cerebrovascular_disease': False,\n   'dementia': False,\n   'copd': False,\n   'connective_tissue_disease': False,\n   'peptic_ulcer_disease': False,\n   'uncomplicated_diabetes_mellitus': False,\n   'diabetes_mellitus_with_end_organ_damage': False,\n   'chronic_kidney_disease': False,\n   'hemiplegia_from_stroke': False,\n   'leukemia': False,\n   'malignant_lymphoma': False,\n   'localized_solid_tumor': False,\n   'metastatic_solid_tumor': False,\n   'mild_liver_disease': False,\n   'moderate_to_severe_liver_disease': False,\n   'aids': False},\n  'smoking_history': 'previous_smoker',\n  'age_when_quit_smoking': None,\n  'pack_years': None,\n  'chewing_tobacco_use': 'never_or_not_in_last_3mo',\n  'alcohol_use': 'never_or_not_in_last_3mo',\n  'intraoperative_complications': {'blood_transfusion': False,\n   'injury_to_surrounding_organ': False,\n   'cardiac_event': False},\n  'hospitalization': 9,\n  'ischemia_time': 'not_applicable',\n  'radiographic_size': 5.9,\n  'pathologic_size': 5.7,\n  'malignant': True,\n  'pathology_t_stage': '3',\n  'pathology_n_stage': '1',\n  'pathology_m_stage': '1',\n  'tumor_histologic_subtype': 'clear_cell_rcc',\n  'tumor_necrosis': False,\n  'tumor_isup_grade': 4,\n  'clavien_surgical_complications': '1',\n  'er_visit': False,\n  'readmission': False,\n  'estimated_blood_loss': 400,\n  'surgery_type': 'open',\n  'surgical_procedure': 'radical_nephrectomy',\n  'surgical_approach': 'Transperitoneal',\n  'operative_time': 369,\n  'cytoreductive': True,\n  'positive_resection_margins': False,\n  'last_preop_egfr': {'value': 57.0, 'days_before_nephrectomy': 16},\n  'first_postop_egfr': {'value': 40.0, 'days_before_nephrectomy': 103},\n  'last_postop_egfr': {'value': 42.0, 'days_before_nephrectomy': 1678},\n  'vital_status': 'dead',\n  'vital_days_after_surgery': 2000,\n  'voxel_spacing': {'x_spacing': 0.7409999966621399,\n   'y_spacing': 0.7409999966621399,\n   'z_spacing': 3.0}},\n {'case_id': 'case_00181',\n  'age_at_nephrectomy': 45,\n  'gender': 'male',\n  'body_mass_index': 23.64,\n  'comorbidities': {'myocardial_infarction': False,\n   'congestive_heart_failure': False,\n   'peripheral_vascular_disease': False,\n   'cerebrovascular_disease': False,\n   'dementia': False,\n   'copd': False,\n   'connective_tissue_disease': False,\n   'peptic_ulcer_disease': False,\n   'uncomplicated_diabetes_mellitus': False,\n   'diabetes_mellitus_with_end_organ_damage': False,\n   'chronic_kidney_disease': False,\n   'hemiplegia_from_stroke': False,\n   'leukemia': False,\n   'malignant_lymphoma': False,\n   'localized_solid_tumor': False,\n   'metastatic_solid_tumor': False,\n   'mild_liver_disease': False,\n   'moderate_to_severe_liver_disease': False,\n   'aids': False},\n  'smoking_history': 'never_smoked',\n  'age_when_quit_smoking': 'not_applicable',\n  'pack_years': 0,\n  'chewing_tobacco_use': 'never_or_not_in_last_3mo',\n  'alcohol_use': 'two_or_less_daily',\n  'intraoperative_complications': {'blood_transfusion': False,\n   'injury_to_surrounding_organ': False,\n   'cardiac_event': False},\n  'hospitalization': 6,\n  'ischemia_time': 'not_applicable',\n  'radiographic_size': 12.5,\n  'pathologic_size': 13.0,\n  'malignant': True,\n  'pathology_t_stage': '4',\n  'pathology_n_stage': '0',\n  'pathology_m_stage': 'X',\n  'tumor_histologic_subtype': 'chromophobe',\n  'tumor_necrosis': True,\n  'tumor_isup_grade': None,\n  'clavien_surgical_complications': '1',\n  'er_visit': True,\n  'readmission': False,\n  'estimated_blood_loss': 450,\n  'surgery_type': 'open',\n  'surgical_procedure': 'radical_nephrectomy',\n  'surgical_approach': 'Transperitoneal',\n  'operative_time': 198,\n  'cytoreductive': False,\n  'positive_resection_margins': False,\n  'last_preop_egfr': {'value': '>=90', 'days_before_nephrectomy': 4},\n  'first_postop_egfr': {'value': None, 'days_before_nephrectomy': None},\n  'last_postop_egfr': {'value': None, 'days_before_nephrectomy': None},\n  'vital_status': 'dead',\n  'vital_days_after_surgery': 177,\n  'voxel_spacing': {'x_spacing': 0.693359375,\n   'y_spacing': 0.693359375,\n   'z_spacing': 5.0}},\n {'case_id': 'case_00182',\n  'age_at_nephrectomy': 65,\n  'gender': 'female',\n  'body_mass_index': 43.35,\n  'comorbidities': {'myocardial_infarction': False,\n   'congestive_heart_failure': False,\n   'peripheral_vascular_disease': False,\n   'cerebrovascular_disease': False,\n   'dementia': False,\n   'copd': False,\n   'connective_tissue_disease': False,\n   'peptic_ulcer_disease': False,\n   'uncomplicated_diabetes_mellitus': False,\n   'diabetes_mellitus_with_end_organ_damage': False,\n   'chronic_kidney_disease': False,\n   'hemiplegia_from_stroke': False,\n   'leukemia': False,\n   'malignant_lymphoma': False,\n   'localized_solid_tumor': False,\n   'metastatic_solid_tumor': False,\n   'mild_liver_disease': False,\n   'moderate_to_severe_liver_disease': False,\n   'aids': False},\n  'smoking_history': 'never_smoked',\n  'age_when_quit_smoking': 'not_applicable',\n  'pack_years': 0,\n  'chewing_tobacco_use': 'never_or_not_in_last_3mo',\n  'alcohol_use': 'never_or_not_in_last_3mo',\n  'intraoperative_complications': {'blood_transfusion': False,\n   'injury_to_surrounding_organ': False,\n   'cardiac_event': False},\n  'hospitalization': 10,\n  'ischemia_time': 16,\n  'radiographic_size': 2.1,\n  'pathologic_size': 2.3,\n  'malignant': True,\n  'pathology_t_stage': '1a',\n  'pathology_n_stage': '0',\n  'pathology_m_stage': 'X',\n  'tumor_histologic_subtype': 'clear_cell_rcc',\n  'tumor_necrosis': False,\n  'tumor_isup_grade': 2,\n  'clavien_surgical_complications': '2',\n  'er_visit': False,\n  'readmission': False,\n  'estimated_blood_loss': 200,\n  'surgery_type': 'open',\n  'surgical_procedure': 'partial_nephrectomy',\n  'surgical_approach': 'Retroperitoneal',\n  'operative_time': 226,\n  'cytoreductive': False,\n  'positive_resection_margins': False,\n  'last_preop_egfr': {'value': '>=90', 'days_before_nephrectomy': 62},\n  'first_postop_egfr': {'value': None, 'days_before_nephrectomy': None},\n  'last_postop_egfr': {'value': None, 'days_before_nephrectomy': None},\n  'vital_status': 'censored',\n  'vital_days_after_surgery': 1226,\n  'voxel_spacing': {'x_spacing': 0.9375,\n   'y_spacing': 0.9375,\n   'z_spacing': 5.0}},\n {'case_id': 'case_00183',\n  'age_at_nephrectomy': 63,\n  'gender': 'male',\n  'body_mass_index': 27.65,\n  'comorbidities': {'myocardial_infarction': False,\n   'congestive_heart_failure': False,\n   'peripheral_vascular_disease': False,\n   'cerebrovascular_disease': False,\n   'dementia': False,\n   'copd': False,\n   'connective_tissue_disease': False,\n   'peptic_ulcer_disease': False,\n   'uncomplicated_diabetes_mellitus': True,\n   'diabetes_mellitus_with_end_organ_damage': False,\n   'chronic_kidney_disease': False,\n   'hemiplegia_from_stroke': False,\n   'leukemia': False,\n   'malignant_lymphoma': False,\n   'localized_solid_tumor': False,\n   'metastatic_solid_tumor': False,\n   'mild_liver_disease': False,\n   'moderate_to_severe_liver_disease': False,\n   'aids': False},\n  'smoking_history': 'never_smoked',\n  'age_when_quit_smoking': 'not_applicable',\n  'pack_years': 0,\n  'chewing_tobacco_use': 'never_or_not_in_last_3mo',\n  'alcohol_use': 'never_or_not_in_last_3mo',\n  'intraoperative_complications': {'blood_transfusion': False,\n   'injury_to_surrounding_organ': False,\n   'cardiac_event': False},\n  'hospitalization': 3,\n  'ischemia_time': 18,\n  'radiographic_size': 3.7,\n  'pathologic_size': 2.8,\n  'malignant': True,\n  'pathology_t_stage': '1a',\n  'pathology_n_stage': 'X',\n  'pathology_m_stage': 'X',\n  'tumor_histologic_subtype': 'clear_cell_papillary_rcc',\n  'tumor_necrosis': False,\n  'tumor_isup_grade': 1,\n  'clavien_surgical_complications': '2',\n  'er_visit': False,\n  'readmission': False,\n  'estimated_blood_loss': 75,\n  'surgery_type': 'robotic',\n  'surgical_procedure': 'partial_nephrectomy',\n  'surgical_approach': 'Retroperitoneal',\n  'operative_time': 211,\n  'cytoreductive': False,\n  'positive_resection_margins': False,\n  'last_preop_egfr': {'value': None, 'days_before_nephrectomy': None},\n  'first_postop_egfr': {'value': 44.0, 'days_before_nephrectomy': 1083},\n  'last_postop_egfr': {'value': 44.0, 'days_before_nephrectomy': 1083},\n  'vital_status': 'censored',\n  'vital_days_after_surgery': 1092,\n  'voxel_spacing': {'x_spacing': 0.70703125,\n   'y_spacing': 0.70703125,\n   'z_spacing': 1.5}},\n {'case_id': 'case_00184',\n  'age_at_nephrectomy': 38,\n  'gender': 'male',\n  'body_mass_index': 38.13,\n  'comorbidities': {'myocardial_infarction': False,\n   'congestive_heart_failure': False,\n   'peripheral_vascular_disease': False,\n   'cerebrovascular_disease': False,\n   'dementia': False,\n   'copd': False,\n   'connective_tissue_disease': False,\n   'peptic_ulcer_disease': False,\n   'uncomplicated_diabetes_mellitus': False,\n   'diabetes_mellitus_with_end_organ_damage': False,\n   'chronic_kidney_disease': True,\n   'hemiplegia_from_stroke': False,\n   'leukemia': False,\n   'malignant_lymphoma': False,\n   'localized_solid_tumor': False,\n   'metastatic_solid_tumor': False,\n   'mild_liver_disease': True,\n   'moderate_to_severe_liver_disease': False,\n   'aids': False},\n  'smoking_history': 'previous_smoker',\n  'age_when_quit_smoking': None,\n  'pack_years': None,\n  'chewing_tobacco_use': 'never_or_not_in_last_3mo',\n  'alcohol_use': 'never_or_not_in_last_3mo',\n  'intraoperative_complications': {'blood_transfusion': False,\n   'injury_to_surrounding_organ': False,\n   'cardiac_event': False},\n  'hospitalization': 6,\n  'ischemia_time': 'not_applicable',\n  'radiographic_size': 3.1,\n  'pathologic_size': 4.2,\n  'malignant': True,\n  'pathology_t_stage': '1b',\n  'pathology_n_stage': 'X',\n  'pathology_m_stage': '1',\n  'tumor_histologic_subtype': 'clear_cell_rcc',\n  'tumor_necrosis': False,\n  'tumor_isup_grade': 2,\n  'clavien_surgical_complications': '0',\n  'er_visit': False,\n  'readmission': False,\n  'estimated_blood_loss': 700,\n  'surgery_type': 'open',\n  'surgical_procedure': 'radical_nephrectomy',\n  'surgical_approach': 'Transperitoneal',\n  'operative_time': 493,\n  'cytoreductive': True,\n  'positive_resection_margins': False,\n  'last_preop_egfr': {'value': 75.0, 'days_before_nephrectomy': 45},\n  'first_postop_egfr': {'value': 46.0, 'days_before_nephrectomy': 76},\n  'last_postop_egfr': {'value': 5.0, 'days_before_nephrectomy': 229},\n  'vital_status': 'censored',\n  'vital_days_after_surgery': 894,\n  'voxel_spacing': {'x_spacing': 0.83984375,\n   'y_spacing': 0.83984375,\n   'z_spacing': 5.0}},\n {'case_id': 'case_00185',\n  'age_at_nephrectomy': 65,\n  'gender': 'male',\n  'body_mass_index': 34.12,\n  'comorbidities': {'myocardial_infarction': False,\n   'congestive_heart_failure': False,\n   'peripheral_vascular_disease': False,\n   'cerebrovascular_disease': False,\n   'dementia': False,\n   'copd': False,\n   'connective_tissue_disease': False,\n   'peptic_ulcer_disease': False,\n   'uncomplicated_diabetes_mellitus': True,\n   'diabetes_mellitus_with_end_organ_damage': False,\n   'chronic_kidney_disease': False,\n   'hemiplegia_from_stroke': False,\n   'leukemia': False,\n   'malignant_lymphoma': False,\n   'localized_solid_tumor': True,\n   'metastatic_solid_tumor': False,\n   'mild_liver_disease': False,\n   'moderate_to_severe_liver_disease': False,\n   'aids': False},\n  'smoking_history': 'never_smoked',\n  'age_when_quit_smoking': 'not_applicable',\n  'pack_years': 0,\n  'chewing_tobacco_use': 'never_or_not_in_last_3mo',\n  'alcohol_use': 'never_or_not_in_last_3mo',\n  'intraoperative_complications': {'blood_transfusion': False,\n   'injury_to_surrounding_organ': False,\n   'cardiac_event': False},\n  'hospitalization': 5,\n  'ischemia_time': 54,\n  'radiographic_size': 4.5,\n  'pathologic_size': 4.5,\n  'malignant': True,\n  'pathology_t_stage': '1b',\n  'pathology_n_stage': '0',\n  'pathology_m_stage': 'X',\n  'tumor_histologic_subtype': 'clear_cell_rcc',\n  'tumor_necrosis': False,\n  'tumor_isup_grade': 1,\n  'clavien_surgical_complications': '2',\n  'er_visit': False,\n  'readmission': False,\n  'estimated_blood_loss': 300,\n  'surgery_type': 'open',\n  'surgical_procedure': 'partial_nephrectomy',\n  'surgical_approach': 'Retroperitoneal',\n  'operative_time': 266,\n  'cytoreductive': False,\n  'positive_resection_margins': False,\n  'last_preop_egfr': {'value': 58.0, 'days_before_nephrectomy': 25},\n  'first_postop_egfr': {'value': None, 'days_before_nephrectomy': None},\n  'last_postop_egfr': {'value': None, 'days_before_nephrectomy': None},\n  'vital_status': 'censored',\n  'vital_days_after_surgery': 0,\n  'voxel_spacing': {'x_spacing': 0.9121090173721313,\n   'y_spacing': 0.9121090173721313,\n   'z_spacing': 2.5}},\n {'case_id': 'case_00186',\n  'age_at_nephrectomy': 56,\n  'gender': 'male',\n  'body_mass_index': 21.77,\n  'comorbidities': {'myocardial_infarction': False,\n   'congestive_heart_failure': False,\n   'peripheral_vascular_disease': False,\n   'cerebrovascular_disease': False,\n   'dementia': False,\n   'copd': False,\n   'connective_tissue_disease': False,\n   'peptic_ulcer_disease': False,\n   'uncomplicated_diabetes_mellitus': False,\n   'diabetes_mellitus_with_end_organ_damage': False,\n   'chronic_kidney_disease': False,\n   'hemiplegia_from_stroke': False,\n   'leukemia': False,\n   'malignant_lymphoma': False,\n   'localized_solid_tumor': False,\n   'metastatic_solid_tumor': False,\n   'mild_liver_disease': False,\n   'moderate_to_severe_liver_disease': False,\n   'aids': False},\n  'smoking_history': 'current_smoker',\n  'age_when_quit_smoking': 'not_applicable',\n  'pack_years': '10',\n  'chewing_tobacco_use': 'never_or_not_in_last_3mo',\n  'alcohol_use': 'two_or_less_daily',\n  'intraoperative_complications': {'blood_transfusion': False,\n   'injury_to_surrounding_organ': False,\n   'cardiac_event': False},\n  'hospitalization': 4,\n  'ischemia_time': 'not_applicable',\n  'radiographic_size': 9.1,\n  'pathologic_size': 9.1,\n  'malignant': True,\n  'pathology_t_stage': '2a',\n  'pathology_n_stage': '0',\n  'pathology_m_stage': '0',\n  'tumor_histologic_subtype': 'clear_cell_rcc',\n  'tumor_necrosis': True,\n  'tumor_isup_grade': 4,\n  'clavien_surgical_complications': '0',\n  'er_visit': False,\n  'readmission': False,\n  'estimated_blood_loss': 100,\n  'surgery_type': 'laparoscopic',\n  'surgical_procedure': 'radical_nephrectomy',\n  'surgical_approach': 'Transperitoneal',\n  'operative_time': 208,\n  'cytoreductive': False,\n  'positive_resection_margins': False,\n  'last_preop_egfr': {'value': '>=90', 'days_before_nephrectomy': 26},\n  'first_postop_egfr': {'value': 76.0, 'days_before_nephrectomy': 698},\n  'last_postop_egfr': {'value': 76.0, 'days_before_nephrectomy': 698},\n  'vital_status': 'censored',\n  'vital_days_after_surgery': 698,\n  'voxel_spacing': {'x_spacing': 0.734375,\n   'y_spacing': 0.734375,\n   'z_spacing': 5.0}},\n {'case_id': 'case_00187',\n  'age_at_nephrectomy': 37,\n  'gender': 'female',\n  'body_mass_index': 26.42,\n  'comorbidities': {'myocardial_infarction': False,\n   'congestive_heart_failure': False,\n   'peripheral_vascular_disease': False,\n   'cerebrovascular_disease': False,\n   'dementia': False,\n   'copd': False,\n   'connective_tissue_disease': False,\n   'peptic_ulcer_disease': False,\n   'uncomplicated_diabetes_mellitus': False,\n   'diabetes_mellitus_with_end_organ_damage': False,\n   'chronic_kidney_disease': False,\n   'hemiplegia_from_stroke': False,\n   'leukemia': False,\n   'malignant_lymphoma': False,\n   'localized_solid_tumor': False,\n   'metastatic_solid_tumor': False,\n   'mild_liver_disease': False,\n   'moderate_to_severe_liver_disease': False,\n   'aids': False},\n  'smoking_history': 'never_smoked',\n  'age_when_quit_smoking': 'not_applicable',\n  'pack_years': 0,\n  'chewing_tobacco_use': 'never_or_not_in_last_3mo',\n  'alcohol_use': 'never_or_not_in_last_3mo',\n  'intraoperative_complications': {'blood_transfusion': False,\n   'injury_to_surrounding_organ': False,\n   'cardiac_event': False},\n  'hospitalization': 3,\n  'ischemia_time': 20,\n  'radiographic_size': 8.7,\n  'pathologic_size': 8.7,\n  'malignant': True,\n  'pathology_t_stage': '2a',\n  'pathology_n_stage': '0',\n  'pathology_m_stage': '0',\n  'tumor_histologic_subtype': 'chromophobe',\n  'tumor_necrosis': False,\n  'tumor_isup_grade': None,\n  'clavien_surgical_complications': '0',\n  'er_visit': False,\n  'readmission': False,\n  'estimated_blood_loss': 70,\n  'surgery_type': 'robotic',\n  'surgical_procedure': 'partial_nephrectomy',\n  'surgical_approach': 'Transperitoneal',\n  'operative_time': 185,\n  'cytoreductive': False,\n  'positive_resection_margins': False,\n  'last_preop_egfr': {'value': None, 'days_before_nephrectomy': None},\n  'first_postop_egfr': {'value': '>=90', 'days_before_nephrectomy': 126},\n  'last_postop_egfr': {'value': '>=90', 'days_before_nephrectomy': 640},\n  'vital_status': 'censored',\n  'vital_days_after_surgery': 980,\n  'voxel_spacing': {'x_spacing': 0.625, 'y_spacing': 0.625, 'z_spacing': 5.0}},\n {'case_id': 'case_00188',\n  'age_at_nephrectomy': 68,\n  'gender': 'female',\n  'body_mass_index': 23.12,\n  'comorbidities': {'myocardial_infarction': False,\n   'congestive_heart_failure': False,\n   'peripheral_vascular_disease': False,\n   'cerebrovascular_disease': False,\n   'dementia': False,\n   'copd': False,\n   'connective_tissue_disease': False,\n   'peptic_ulcer_disease': False,\n   'uncomplicated_diabetes_mellitus': False,\n   'diabetes_mellitus_with_end_organ_damage': False,\n   'chronic_kidney_disease': False,\n   'hemiplegia_from_stroke': False,\n   'leukemia': False,\n   'malignant_lymphoma': False,\n   'localized_solid_tumor': False,\n   'metastatic_solid_tumor': False,\n   'mild_liver_disease': False,\n   'moderate_to_severe_liver_disease': False,\n   'aids': False},\n  'smoking_history': 'never_smoked',\n  'age_when_quit_smoking': 'not_applicable',\n  'pack_years': 0,\n  'chewing_tobacco_use': 'never_or_not_in_last_3mo',\n  'alcohol_use': 'two_or_less_daily',\n  'intraoperative_complications': {'blood_transfusion': False,\n   'injury_to_surrounding_organ': False,\n   'cardiac_event': False},\n  'hospitalization': 9,\n  'ischemia_time': 20,\n  'radiographic_size': 1.5,\n  'pathologic_size': 1.0,\n  'malignant': False,\n  'pathology_t_stage': '0',\n  'pathology_n_stage': '0',\n  'pathology_m_stage': '0',\n  'tumor_histologic_subtype': 'oncocytoma',\n  'tumor_necrosis': None,\n  'tumor_isup_grade': None,\n  'clavien_surgical_complications': '3b',\n  'er_visit': False,\n  'readmission': False,\n  'estimated_blood_loss': 100,\n  'surgery_type': 'robotic',\n  'surgical_procedure': 'partial_nephrectomy',\n  'surgical_approach': 'Transperitoneal',\n  'operative_time': 169,\n  'cytoreductive': False,\n  'positive_resection_margins': False,\n  'last_preop_egfr': {'value': 80.0, 'days_before_nephrectomy': 5},\n  'first_postop_egfr': {'value': 80.0, 'days_before_nephrectomy': 92},\n  'last_postop_egfr': {'value': 73.0, 'days_before_nephrectomy': 1367},\n  'vital_status': 'censored',\n  'vital_days_after_surgery': 1529,\n  'voxel_spacing': {'x_spacing': 0.6796875,\n   'y_spacing': 0.6796875,\n   'z_spacing': 1.0}},\n {'case_id': 'case_00189',\n  'age_at_nephrectomy': 41,\n  'gender': 'male',\n  'body_mass_index': 22.36,\n  'comorbidities': {'myocardial_infarction': False,\n   'congestive_heart_failure': False,\n   'peripheral_vascular_disease': False,\n   'cerebrovascular_disease': False,\n   'dementia': False,\n   'copd': False,\n   'connective_tissue_disease': False,\n   'peptic_ulcer_disease': False,\n   'uncomplicated_diabetes_mellitus': False,\n   'diabetes_mellitus_with_end_organ_damage': False,\n   'chronic_kidney_disease': False,\n   'hemiplegia_from_stroke': False,\n   'leukemia': False,\n   'malignant_lymphoma': False,\n   'localized_solid_tumor': False,\n   'metastatic_solid_tumor': False,\n   'mild_liver_disease': False,\n   'moderate_to_severe_liver_disease': False,\n   'aids': False},\n  'smoking_history': 'never_smoked',\n  'age_when_quit_smoking': 'not_applicable',\n  'pack_years': 0,\n  'chewing_tobacco_use': 'never_or_not_in_last_3mo',\n  'alcohol_use': 'never_or_not_in_last_3mo',\n  'intraoperative_complications': {'blood_transfusion': False,\n   'injury_to_surrounding_organ': False,\n   'cardiac_event': False},\n  'hospitalization': 5,\n  'ischemia_time': 'not_applicable',\n  'radiographic_size': 9.3,\n  'pathologic_size': 8.9,\n  'malignant': True,\n  'pathology_t_stage': '2a',\n  'pathology_n_stage': 'X',\n  'pathology_m_stage': '1',\n  'tumor_histologic_subtype': 'clear_cell_rcc',\n  'tumor_necrosis': False,\n  'tumor_isup_grade': 4,\n  'clavien_surgical_complications': '0',\n  'er_visit': False,\n  'readmission': True,\n  'estimated_blood_loss': 200,\n  'surgery_type': 'open',\n  'surgical_procedure': 'radical_nephrectomy',\n  'surgical_approach': 'Retroperitoneal',\n  'operative_time': 283,\n  'cytoreductive': True,\n  'positive_resection_margins': False,\n  'last_preop_egfr': {'value': '>=90', 'days_before_nephrectomy': 13},\n  'first_postop_egfr': {'value': 62.0, 'days_before_nephrectomy': 89},\n  'last_postop_egfr': {'value': 35.0, 'days_before_nephrectomy': 385},\n  'vital_status': 'dead',\n  'vital_days_after_surgery': 391,\n  'voxel_spacing': {'x_spacing': 0.7421875,\n   'y_spacing': 0.7421875,\n   'z_spacing': 5.0}},\n {'case_id': 'case_00190',\n  'age_at_nephrectomy': 48,\n  'gender': 'male',\n  'body_mass_index': 27.67,\n  'comorbidities': {'myocardial_infarction': False,\n   'congestive_heart_failure': False,\n   'peripheral_vascular_disease': False,\n   'cerebrovascular_disease': False,\n   'dementia': False,\n   'copd': False,\n   'connective_tissue_disease': False,\n   'peptic_ulcer_disease': False,\n   'uncomplicated_diabetes_mellitus': False,\n   'diabetes_mellitus_with_end_organ_damage': False,\n   'chronic_kidney_disease': False,\n   'hemiplegia_from_stroke': False,\n   'leukemia': False,\n   'malignant_lymphoma': False,\n   'localized_solid_tumor': False,\n   'metastatic_solid_tumor': False,\n   'mild_liver_disease': False,\n   'moderate_to_severe_liver_disease': False,\n   'aids': False},\n  'smoking_history': 'current_smoker',\n  'age_when_quit_smoking': 'not_applicable',\n  'pack_years': '25',\n  'chewing_tobacco_use': 'never_or_not_in_last_3mo',\n  'alcohol_use': 'two_or_less_daily',\n  'intraoperative_complications': {'blood_transfusion': False,\n   'injury_to_surrounding_organ': False,\n   'cardiac_event': False},\n  'hospitalization': 1,\n  'ischemia_time': 'not_applicable',\n  'radiographic_size': 3.5,\n  'pathologic_size': 3.1,\n  'malignant': True,\n  'pathology_t_stage': '1a',\n  'pathology_n_stage': 'X',\n  'pathology_m_stage': 'X',\n  'tumor_histologic_subtype': 'clear_cell_rcc',\n  'tumor_necrosis': False,\n  'tumor_isup_grade': 3,\n  'clavien_surgical_complications': '0',\n  'er_visit': False,\n  'readmission': False,\n  'estimated_blood_loss': 50,\n  'surgery_type': 'laparoscopic',\n  'surgical_procedure': 'radical_nephrectomy',\n  'surgical_approach': 'Transperitoneal',\n  'operative_time': 143,\n  'cytoreductive': False,\n  'positive_resection_margins': False,\n  'last_preop_egfr': {'value': None, 'days_before_nephrectomy': None},\n  'first_postop_egfr': {'value': 61.0, 'days_before_nephrectomy': 407},\n  'last_postop_egfr': {'value': 61.0, 'days_before_nephrectomy': 407},\n  'vital_status': 'censored',\n  'vital_days_after_surgery': 434,\n  'voxel_spacing': {'x_spacing': 0.72265625,\n   'y_spacing': 0.72265625,\n   'z_spacing': 3.0}},\n {'case_id': 'case_00191',\n  'age_at_nephrectomy': 49,\n  'gender': 'male',\n  'body_mass_index': 24.07,\n  'comorbidities': {'myocardial_infarction': False,\n   'congestive_heart_failure': False,\n   'peripheral_vascular_disease': False,\n   'cerebrovascular_disease': False,\n   'dementia': False,\n   'copd': False,\n   'connective_tissue_disease': False,\n   'peptic_ulcer_disease': False,\n   'uncomplicated_diabetes_mellitus': False,\n   'diabetes_mellitus_with_end_organ_damage': False,\n   'chronic_kidney_disease': False,\n   'hemiplegia_from_stroke': False,\n   'leukemia': False,\n   'malignant_lymphoma': False,\n   'localized_solid_tumor': False,\n   'metastatic_solid_tumor': False,\n   'mild_liver_disease': True,\n   'moderate_to_severe_liver_disease': False,\n   'aids': False},\n  'smoking_history': 'current_smoker',\n  'age_when_quit_smoking': 'not_applicable',\n  'pack_years': '25',\n  'chewing_tobacco_use': 'never_or_not_in_last_3mo',\n  'alcohol_use': 'more_than_two_daily',\n  'intraoperative_complications': {'blood_transfusion': False,\n   'injury_to_surrounding_organ': False,\n   'cardiac_event': False},\n  'hospitalization': 7,\n  'ischemia_time': 0,\n  'radiographic_size': 1.6,\n  'pathologic_size': 0.8,\n  'malignant': True,\n  'pathology_t_stage': '1a',\n  'pathology_n_stage': 'X',\n  'pathology_m_stage': 'X',\n  'tumor_histologic_subtype': 'clear_cell_rcc',\n  'tumor_necrosis': False,\n  'tumor_isup_grade': 1,\n  'clavien_surgical_complications': '1',\n  'er_visit': False,\n  'readmission': False,\n  'estimated_blood_loss': 150,\n  'surgery_type': 'robotic',\n  'surgical_procedure': 'partial_nephrectomy',\n  'surgical_approach': 'Transperitoneal',\n  'operative_time': 223,\n  'cytoreductive': False,\n  'positive_resection_margins': False,\n  'last_preop_egfr': {'value': '>=90', 'days_before_nephrectomy': 47},\n  'first_postop_egfr': {'value': None, 'days_before_nephrectomy': None},\n  'last_postop_egfr': {'value': None, 'days_before_nephrectomy': None},\n  'vital_status': 'censored',\n  'vital_days_after_surgery': 394,\n  'voxel_spacing': {'x_spacing': 0.7421879768371582,\n   'y_spacing': 0.7421879768371582,\n   'z_spacing': 1.25}},\n {'case_id': 'case_00192',\n  'age_at_nephrectomy': 61,\n  'gender': 'male',\n  'body_mass_index': 28.75,\n  'comorbidities': {'myocardial_infarction': False,\n   'congestive_heart_failure': False,\n   'peripheral_vascular_disease': False,\n   'cerebrovascular_disease': False,\n   'dementia': False,\n   'copd': True,\n   'connective_tissue_disease': False,\n   'peptic_ulcer_disease': False,\n   'uncomplicated_diabetes_mellitus': False,\n   'diabetes_mellitus_with_end_organ_damage': True,\n   'chronic_kidney_disease': False,\n   'hemiplegia_from_stroke': False,\n   'leukemia': False,\n   'malignant_lymphoma': False,\n   'localized_solid_tumor': True,\n   'metastatic_solid_tumor': False,\n   'mild_liver_disease': False,\n   'moderate_to_severe_liver_disease': False,\n   'aids': False},\n  'smoking_history': 'previous_smoker',\n  'age_when_quit_smoking': '59',\n  'pack_years': None,\n  'chewing_tobacco_use': 'never_or_not_in_last_3mo',\n  'alcohol_use': 'two_or_less_daily',\n  'intraoperative_complications': {'blood_transfusion': False,\n   'injury_to_surrounding_organ': False,\n   'cardiac_event': False},\n  'hospitalization': 2,\n  'ischemia_time': 'not_applicable',\n  'radiographic_size': 12.0,\n  'pathologic_size': 10.9,\n  'malignant': True,\n  'pathology_t_stage': '3',\n  'pathology_n_stage': '0',\n  'pathology_m_stage': '0',\n  'tumor_histologic_subtype': 'clear_cell_rcc',\n  'tumor_necrosis': True,\n  'tumor_isup_grade': 3,\n  'clavien_surgical_complications': '3a',\n  'er_visit': False,\n  'readmission': True,\n  'estimated_blood_loss': 300,\n  'surgery_type': 'robotic',\n  'surgical_procedure': 'radical_nephrectomy',\n  'surgical_approach': 'Transperitoneal',\n  'operative_time': 459,\n  'cytoreductive': False,\n  'positive_resection_margins': False,\n  'last_preop_egfr': {'value': 63.0, 'days_before_nephrectomy': 50},\n  'first_postop_egfr': {'value': 44.0, 'days_before_nephrectomy': 79},\n  'last_postop_egfr': {'value': 61.0, 'days_before_nephrectomy': 1358},\n  'vital_status': 'censored',\n  'vital_days_after_surgery': 1400,\n  'voxel_spacing': {'x_spacing': 0.78125,\n   'y_spacing': 0.78125,\n   'z_spacing': 5.0}},\n {'case_id': 'case_00193',\n  'age_at_nephrectomy': 71,\n  'gender': 'female',\n  'body_mass_index': 29.99,\n  'comorbidities': {'myocardial_infarction': False,\n   'congestive_heart_failure': False,\n   'peripheral_vascular_disease': False,\n   'cerebrovascular_disease': False,\n   'dementia': False,\n   'copd': False,\n   'connective_tissue_disease': False,\n   'peptic_ulcer_disease': False,\n   'uncomplicated_diabetes_mellitus': False,\n   'diabetes_mellitus_with_end_organ_damage': False,\n   'chronic_kidney_disease': False,\n   'hemiplegia_from_stroke': False,\n   'leukemia': False,\n   'malignant_lymphoma': False,\n   'localized_solid_tumor': False,\n   'metastatic_solid_tumor': False,\n   'mild_liver_disease': False,\n   'moderate_to_severe_liver_disease': False,\n   'aids': False},\n  'smoking_history': 'never_smoked',\n  'age_when_quit_smoking': 'not_applicable',\n  'pack_years': 0,\n  'chewing_tobacco_use': 'never_or_not_in_last_3mo',\n  'alcohol_use': 'never_or_not_in_last_3mo',\n  'intraoperative_complications': {'blood_transfusion': False,\n   'injury_to_surrounding_organ': False,\n   'cardiac_event': False},\n  'hospitalization': 8,\n  'ischemia_time': 27,\n  'radiographic_size': 3.1,\n  'pathologic_size': 2.2,\n  'malignant': True,\n  'pathology_t_stage': '1a',\n  'pathology_n_stage': 'X',\n  'pathology_m_stage': '0',\n  'tumor_histologic_subtype': 'clear_cell_rcc',\n  'tumor_necrosis': False,\n  'tumor_isup_grade': 2,\n  'clavien_surgical_complications': '3a',\n  'er_visit': False,\n  'readmission': True,\n  'estimated_blood_loss': 50,\n  'surgery_type': 'open',\n  'surgical_procedure': 'partial_nephrectomy',\n  'surgical_approach': 'Retroperitoneal',\n  'operative_time': 235,\n  'cytoreductive': False,\n  'positive_resection_margins': False,\n  'last_preop_egfr': {'value': 55.0, 'days_before_nephrectomy': 76},\n  'first_postop_egfr': {'value': 54.0, 'days_before_nephrectomy': 76},\n  'last_postop_egfr': {'value': 54.0, 'days_before_nephrectomy': 76},\n  'vital_status': 'dead',\n  'vital_days_after_surgery': 2479,\n  'voxel_spacing': {'x_spacing': 0.703125,\n   'y_spacing': 0.703125,\n   'z_spacing': 1.25}},\n {'case_id': 'case_00194',\n  'age_at_nephrectomy': 73,\n  'gender': 'male',\n  'body_mass_index': 27.8,\n  'comorbidities': {'myocardial_infarction': False,\n   'congestive_heart_failure': False,\n   'peripheral_vascular_disease': False,\n   'cerebrovascular_disease': False,\n   'dementia': False,\n   'copd': False,\n   'connective_tissue_disease': False,\n   'peptic_ulcer_disease': False,\n   'uncomplicated_diabetes_mellitus': False,\n   'diabetes_mellitus_with_end_organ_damage': False,\n   'chronic_kidney_disease': False,\n   'hemiplegia_from_stroke': False,\n   'leukemia': False,\n   'malignant_lymphoma': False,\n   'localized_solid_tumor': False,\n   'metastatic_solid_tumor': True,\n   'mild_liver_disease': False,\n   'moderate_to_severe_liver_disease': False,\n   'aids': False},\n  'smoking_history': 'never_smoked',\n  'age_when_quit_smoking': 'not_applicable',\n  'pack_years': 0,\n  'chewing_tobacco_use': 'never_or_not_in_last_3mo',\n  'alcohol_use': 'two_or_less_daily',\n  'intraoperative_complications': {'blood_transfusion': False,\n   'injury_to_surrounding_organ': False,\n   'cardiac_event': False},\n  'hospitalization': 2,\n  'ischemia_time': 10,\n  'radiographic_size': 1.6,\n  'pathologic_size': 2.1,\n  'malignant': True,\n  'pathology_t_stage': '3',\n  'pathology_n_stage': 'X',\n  'pathology_m_stage': 'X',\n  'tumor_histologic_subtype': 'clear_cell_rcc',\n  'tumor_necrosis': False,\n  'tumor_isup_grade': 3,\n  'clavien_surgical_complications': '0',\n  'er_visit': False,\n  'readmission': False,\n  'estimated_blood_loss': 10,\n  'surgery_type': 'robotic',\n  'surgical_procedure': 'partial_nephrectomy',\n  'surgical_approach': 'Retroperitoneal',\n  'operative_time': 154,\n  'cytoreductive': False,\n  'positive_resection_margins': False,\n  'last_preop_egfr': {'value': None, 'days_before_nephrectomy': None},\n  'first_postop_egfr': {'value': 63.0, 'days_before_nephrectomy': 154},\n  'last_postop_egfr': {'value': 63.0, 'days_before_nephrectomy': 154},\n  'vital_status': 'censored',\n  'vital_days_after_surgery': 155,\n  'voxel_spacing': {'x_spacing': 0.75, 'y_spacing': 0.75, 'z_spacing': 5.0}},\n {'case_id': 'case_00195',\n  'age_at_nephrectomy': 65,\n  'gender': 'male',\n  'body_mass_index': 28.8,\n  'comorbidities': {'myocardial_infarction': False,\n   'congestive_heart_failure': False,\n   'peripheral_vascular_disease': False,\n   'cerebrovascular_disease': False,\n   'dementia': False,\n   'copd': False,\n   'connective_tissue_disease': False,\n   'peptic_ulcer_disease': False,\n   'uncomplicated_diabetes_mellitus': False,\n   'diabetes_mellitus_with_end_organ_damage': False,\n   'chronic_kidney_disease': False,\n   'hemiplegia_from_stroke': False,\n   'leukemia': False,\n   'malignant_lymphoma': False,\n   'localized_solid_tumor': False,\n   'metastatic_solid_tumor': False,\n   'mild_liver_disease': False,\n   'moderate_to_severe_liver_disease': False,\n   'aids': False},\n  'smoking_history': 'previous_smoker',\n  'age_when_quit_smoking': '30',\n  'pack_years': None,\n  'chewing_tobacco_use': 'never_or_not_in_last_3mo',\n  'alcohol_use': 'two_or_less_daily',\n  'intraoperative_complications': {'blood_transfusion': False,\n   'injury_to_surrounding_organ': False,\n   'cardiac_event': False},\n  'hospitalization': 3,\n  'ischemia_time': 26,\n  'radiographic_size': 5.6,\n  'pathologic_size': 6.3,\n  'malignant': True,\n  'pathology_t_stage': '1b',\n  'pathology_n_stage': 'X',\n  'pathology_m_stage': 'X',\n  'tumor_histologic_subtype': 'clear_cell_rcc',\n  'tumor_necrosis': False,\n  'tumor_isup_grade': 2,\n  'clavien_surgical_complications': '0',\n  'er_visit': False,\n  'readmission': False,\n  'estimated_blood_loss': 500,\n  'surgery_type': 'robotic',\n  'surgical_procedure': 'partial_nephrectomy',\n  'surgical_approach': 'Transperitoneal',\n  'operative_time': 365,\n  'cytoreductive': False,\n  'positive_resection_margins': False,\n  'last_preop_egfr': {'value': 83.0, 'days_before_nephrectomy': 16},\n  'first_postop_egfr': {'value': 69.0, 'days_before_nephrectomy': 100},\n  'last_postop_egfr': {'value': 69.0, 'days_before_nephrectomy': 100},\n  'vital_status': 'dead',\n  'vital_days_after_surgery': 953,\n  'voxel_spacing': {'x_spacing': 0.763671875,\n   'y_spacing': 0.763671875,\n   'z_spacing': 5.0}},\n {'case_id': 'case_00196',\n  'age_at_nephrectomy': 57,\n  'gender': 'male',\n  'body_mass_index': 27.64,\n  'comorbidities': {'myocardial_infarction': False,\n   'congestive_heart_failure': False,\n   'peripheral_vascular_disease': False,\n   'cerebrovascular_disease': False,\n   'dementia': False,\n   'copd': False,\n   'connective_tissue_disease': False,\n   'peptic_ulcer_disease': False,\n   'uncomplicated_diabetes_mellitus': False,\n   'diabetes_mellitus_with_end_organ_damage': False,\n   'chronic_kidney_disease': False,\n   'hemiplegia_from_stroke': False,\n   'leukemia': False,\n   'malignant_lymphoma': False,\n   'localized_solid_tumor': False,\n   'metastatic_solid_tumor': False,\n   'mild_liver_disease': False,\n   'moderate_to_severe_liver_disease': False,\n   'aids': False},\n  'smoking_history': 'previous_smoker',\n  'age_when_quit_smoking': '37',\n  'pack_years': '5',\n  'chewing_tobacco_use': 'never_or_not_in_last_3mo',\n  'alcohol_use': 'two_or_less_daily',\n  'intraoperative_complications': {'blood_transfusion': False,\n   'injury_to_surrounding_organ': False,\n   'cardiac_event': False},\n  'hospitalization': 1,\n  'ischemia_time': 29,\n  'radiographic_size': 3.8,\n  'pathologic_size': 4.7,\n  'malignant': True,\n  'pathology_t_stage': '1b',\n  'pathology_n_stage': 'X',\n  'pathology_m_stage': 'X',\n  'tumor_histologic_subtype': 'clear_cell_rcc',\n  'tumor_necrosis': False,\n  'tumor_isup_grade': 2,\n  'clavien_surgical_complications': '0',\n  'er_visit': False,\n  'readmission': False,\n  'estimated_blood_loss': 50,\n  'surgery_type': 'robotic',\n  'surgical_procedure': 'partial_nephrectomy',\n  'surgical_approach': 'Transperitoneal',\n  'operative_time': 368,\n  'cytoreductive': False,\n  'positive_resection_margins': False,\n  'last_preop_egfr': {'value': 70.0, 'days_before_nephrectomy': 38},\n  'first_postop_egfr': {'value': 80.0, 'days_before_nephrectomy': 2380},\n  'last_postop_egfr': {'value': 80.0, 'days_before_nephrectomy': 2380},\n  'vital_status': 'censored',\n  'vital_days_after_surgery': 2380,\n  'voxel_spacing': {'x_spacing': 0.818359375,\n   'y_spacing': 0.818359375,\n   'z_spacing': 3.0}},\n {'case_id': 'case_00197',\n  'age_at_nephrectomy': 84,\n  'gender': 'male',\n  'body_mass_index': 31.15,\n  'comorbidities': {'myocardial_infarction': False,\n   'congestive_heart_failure': False,\n   'peripheral_vascular_disease': False,\n   'cerebrovascular_disease': False,\n   'dementia': False,\n   'copd': False,\n   'connective_tissue_disease': False,\n   'peptic_ulcer_disease': False,\n   'uncomplicated_diabetes_mellitus': True,\n   'diabetes_mellitus_with_end_organ_damage': False,\n   'chronic_kidney_disease': True,\n   'hemiplegia_from_stroke': False,\n   'leukemia': False,\n   'malignant_lymphoma': False,\n   'localized_solid_tumor': True,\n   'metastatic_solid_tumor': False,\n   'mild_liver_disease': False,\n   'moderate_to_severe_liver_disease': False,\n   'aids': False},\n  'smoking_history': 'previous_smoker',\n  'age_when_quit_smoking': '48',\n  'pack_years': None,\n  'chewing_tobacco_use': 'never_or_not_in_last_3mo',\n  'alcohol_use': 'never_or_not_in_last_3mo',\n  'intraoperative_complications': {'blood_transfusion': False,\n   'injury_to_surrounding_organ': False,\n   'cardiac_event': False},\n  'hospitalization': 7,\n  'ischemia_time': 'not_applicable',\n  'radiographic_size': 10.3,\n  'pathologic_size': 7.6,\n  'malignant': True,\n  'pathology_t_stage': '3',\n  'pathology_n_stage': 'X',\n  'pathology_m_stage': 'X',\n  'tumor_histologic_subtype': 'clear_cell_rcc',\n  'tumor_necrosis': False,\n  'tumor_isup_grade': 3,\n  'clavien_surgical_complications': '0',\n  'er_visit': True,\n  'readmission': False,\n  'estimated_blood_loss': 220,\n  'surgery_type': 'robotic',\n  'surgical_procedure': 'radical_nephrectomy',\n  'surgical_approach': 'Transperitoneal',\n  'operative_time': 242,\n  'cytoreductive': False,\n  'positive_resection_margins': False,\n  'last_preop_egfr': {'value': None, 'days_before_nephrectomy': None},\n  'first_postop_egfr': {'value': 25.0, 'days_before_nephrectomy': 100},\n  'last_postop_egfr': {'value': 28.0, 'days_before_nephrectomy': 737},\n  'vital_status': 'censored',\n  'vital_days_after_surgery': 737,\n  'voxel_spacing': {'x_spacing': 0.873046875,\n   'y_spacing': 0.873046875,\n   'z_spacing': 3.0}},\n {'case_id': 'case_00198',\n  'age_at_nephrectomy': 79,\n  'gender': 'male',\n  'body_mass_index': 26.3,\n  'comorbidities': {'myocardial_infarction': False,\n   'congestive_heart_failure': False,\n   'peripheral_vascular_disease': False,\n   'cerebrovascular_disease': False,\n   'dementia': False,\n   'copd': False,\n   'connective_tissue_disease': False,\n   'peptic_ulcer_disease': False,\n   'uncomplicated_diabetes_mellitus': False,\n   'diabetes_mellitus_with_end_organ_damage': False,\n   'chronic_kidney_disease': False,\n   'hemiplegia_from_stroke': False,\n   'leukemia': False,\n   'malignant_lymphoma': False,\n   'localized_solid_tumor': False,\n   'metastatic_solid_tumor': False,\n   'mild_liver_disease': False,\n   'moderate_to_severe_liver_disease': False,\n   'aids': False},\n  'smoking_history': 'never_smoked',\n  'age_when_quit_smoking': 'not_applicable',\n  'pack_years': 0,\n  'chewing_tobacco_use': 'never_or_not_in_last_3mo',\n  'alcohol_use': 'never_or_not_in_last_3mo',\n  'intraoperative_complications': {'blood_transfusion': False,\n   'injury_to_surrounding_organ': False,\n   'cardiac_event': False},\n  'hospitalization': 1,\n  'ischemia_time': 10,\n  'radiographic_size': 1.7,\n  'pathologic_size': 2.0,\n  'malignant': True,\n  'pathology_t_stage': '3',\n  'pathology_n_stage': '0',\n  'pathology_m_stage': '0',\n  'tumor_histologic_subtype': 'clear_cell_rcc',\n  'tumor_necrosis': False,\n  'tumor_isup_grade': 3,\n  'clavien_surgical_complications': '0',\n  'er_visit': False,\n  'readmission': False,\n  'estimated_blood_loss': 120,\n  'surgery_type': 'robotic',\n  'surgical_procedure': 'partial_nephrectomy',\n  'surgical_approach': 'Transperitoneal',\n  'operative_time': 105,\n  'cytoreductive': False,\n  'positive_resection_margins': False,\n  'last_preop_egfr': {'value': None, 'days_before_nephrectomy': None},\n  'first_postop_egfr': {'value': 60.0, 'days_before_nephrectomy': 100},\n  'last_postop_egfr': {'value': 72.0, 'days_before_nephrectomy': 722},\n  'vital_status': 'censored',\n  'vital_days_after_surgery': 883,\n  'voxel_spacing': {'x_spacing': 0.732421875,\n   'y_spacing': 0.732421875,\n   'z_spacing': 2.5}},\n {'case_id': 'case_00199',\n  'age_at_nephrectomy': 63,\n  'gender': 'male',\n  'body_mass_index': 22.13,\n  'comorbidities': {'myocardial_infarction': False,\n   'congestive_heart_failure': False,\n   'peripheral_vascular_disease': False,\n   'cerebrovascular_disease': False,\n   'dementia': False,\n   'copd': False,\n   'connective_tissue_disease': False,\n   'peptic_ulcer_disease': False,\n   'uncomplicated_diabetes_mellitus': False,\n   'diabetes_mellitus_with_end_organ_damage': False,\n   'chronic_kidney_disease': False,\n   'hemiplegia_from_stroke': False,\n   'leukemia': False,\n   'malignant_lymphoma': False,\n   'localized_solid_tumor': False,\n   'metastatic_solid_tumor': False,\n   'mild_liver_disease': False,\n   'moderate_to_severe_liver_disease': False,\n   'aids': False},\n  'smoking_history': 'current_smoker',\n  'age_when_quit_smoking': 'not_applicable',\n  'pack_years': '45',\n  'chewing_tobacco_use': 'never_or_not_in_last_3mo',\n  'alcohol_use': 'never_or_not_in_last_3mo',\n  'intraoperative_complications': {'blood_transfusion': False,\n   'injury_to_surrounding_organ': False,\n   'cardiac_event': False},\n  'hospitalization': 1,\n  'ischemia_time': 'not_applicable',\n  'radiographic_size': 6.7,\n  'pathologic_size': 6.0,\n  'malignant': True,\n  'pathology_t_stage': '3',\n  'pathology_n_stage': '0',\n  'pathology_m_stage': '0',\n  'tumor_histologic_subtype': 'clear_cell_rcc',\n  'tumor_necrosis': True,\n  'tumor_isup_grade': 3,\n  'clavien_surgical_complications': '0',\n  'er_visit': False,\n  'readmission': False,\n  'estimated_blood_loss': 73,\n  'surgery_type': 'laparoscopic',\n  'surgical_procedure': 'radical_nephrectomy',\n  'surgical_approach': 'Transperitoneal',\n  'operative_time': 97,\n  'cytoreductive': False,\n  'positive_resection_margins': False,\n  'last_preop_egfr': {'value': 80.0, 'days_before_nephrectomy': 6},\n  'first_postop_egfr': {'value': 47.0, 'days_before_nephrectomy': 127},\n  'last_postop_egfr': {'value': 54.0, 'days_before_nephrectomy': 357},\n  'vital_status': 'censored',\n  'vital_days_after_surgery': 357,\n  'voxel_spacing': {'x_spacing': 0.7421879768371582,\n   'y_spacing': 0.7421879768371582,\n   'z_spacing': 2.5}},\n {'case_id': 'case_00200',\n  'age_at_nephrectomy': 75,\n  'gender': 'male',\n  'body_mass_index': 32.09,\n  'comorbidities': {'myocardial_infarction': False,\n   'congestive_heart_failure': False,\n   'peripheral_vascular_disease': False,\n   'cerebrovascular_disease': False,\n   'dementia': False,\n   'copd': False,\n   'connective_tissue_disease': False,\n   'peptic_ulcer_disease': False,\n   'uncomplicated_diabetes_mellitus': True,\n   'diabetes_mellitus_with_end_organ_damage': False,\n   'chronic_kidney_disease': True,\n   'hemiplegia_from_stroke': False,\n   'leukemia': False,\n   'malignant_lymphoma': False,\n   'localized_solid_tumor': False,\n   'metastatic_solid_tumor': False,\n   'mild_liver_disease': False,\n   'moderate_to_severe_liver_disease': False,\n   'aids': False},\n  'smoking_history': 'never_smoked',\n  'age_when_quit_smoking': 'not_applicable',\n  'pack_years': 0,\n  'chewing_tobacco_use': 'never_or_not_in_last_3mo',\n  'alcohol_use': 'never_or_not_in_last_3mo',\n  'intraoperative_complications': {'blood_transfusion': False,\n   'injury_to_surrounding_organ': False,\n   'cardiac_event': False},\n  'hospitalization': 7,\n  'ischemia_time': 50,\n  'radiographic_size': 5.7,\n  'pathologic_size': 5.9,\n  'malignant': True,\n  'pathology_t_stage': '1b',\n  'pathology_n_stage': '0',\n  'pathology_m_stage': '0',\n  'tumor_histologic_subtype': 'clear_cell_papillary_rcc',\n  'tumor_necrosis': False,\n  'tumor_isup_grade': 2,\n  'clavien_surgical_complications': '0',\n  'er_visit': False,\n  'readmission': False,\n  'estimated_blood_loss': 500,\n  'surgery_type': 'open',\n  'surgical_procedure': 'partial_nephrectomy',\n  'surgical_approach': 'Transperitoneal',\n  'operative_time': 253,\n  'cytoreductive': False,\n  'positive_resection_margins': False,\n  'last_preop_egfr': {'value': None, 'days_before_nephrectomy': None},\n  'first_postop_egfr': {'value': None, 'days_before_nephrectomy': None},\n  'last_postop_egfr': {'value': None, 'days_before_nephrectomy': None},\n  'vital_status': 'censored',\n  'vital_days_after_surgery': 19,\n  'voxel_spacing': {'x_spacing': 0.7421875,\n   'y_spacing': 0.7421875,\n   'z_spacing': 4.0}},\n {'case_id': 'case_00201',\n  'age_at_nephrectomy': 54,\n  'gender': 'male',\n  'body_mass_index': 35.23,\n  'comorbidities': {'myocardial_infarction': False,\n   'congestive_heart_failure': False,\n   'peripheral_vascular_disease': False,\n   'cerebrovascular_disease': False,\n   'dementia': False,\n   'copd': False,\n   'connective_tissue_disease': False,\n   'peptic_ulcer_disease': False,\n   'uncomplicated_diabetes_mellitus': False,\n   'diabetes_mellitus_with_end_organ_damage': False,\n   'chronic_kidney_disease': False,\n   'hemiplegia_from_stroke': False,\n   'leukemia': False,\n   'malignant_lymphoma': False,\n   'localized_solid_tumor': False,\n   'metastatic_solid_tumor': False,\n   'mild_liver_disease': False,\n   'moderate_to_severe_liver_disease': False,\n   'aids': False},\n  'smoking_history': 'never_smoked',\n  'age_when_quit_smoking': 'not_applicable',\n  'pack_years': 0,\n  'chewing_tobacco_use': 'never_or_not_in_last_3mo',\n  'alcohol_use': 'two_or_less_daily',\n  'intraoperative_complications': {'blood_transfusion': False,\n   'injury_to_surrounding_organ': False,\n   'cardiac_event': False},\n  'hospitalization': 2,\n  'ischemia_time': 18,\n  'radiographic_size': 2.1,\n  'pathologic_size': 3.3,\n  'malignant': True,\n  'pathology_t_stage': '1a',\n  'pathology_n_stage': '0',\n  'pathology_m_stage': '0',\n  'tumor_histologic_subtype': 'clear_cell_rcc',\n  'tumor_necrosis': False,\n  'tumor_isup_grade': 2,\n  'clavien_surgical_complications': '0',\n  'er_visit': False,\n  'readmission': False,\n  'estimated_blood_loss': 300,\n  'surgery_type': 'robotic',\n  'surgical_procedure': 'partial_nephrectomy',\n  'surgical_approach': 'Transperitoneal',\n  'operative_time': 218,\n  'cytoreductive': False,\n  'positive_resection_margins': False,\n  'last_preop_egfr': {'value': None, 'days_before_nephrectomy': None},\n  'first_postop_egfr': {'value': '>=90', 'days_before_nephrectomy': 170},\n  'last_postop_egfr': {'value': '>=90', 'days_before_nephrectomy': 1080},\n  'vital_status': 'censored',\n  'vital_days_after_surgery': 1080,\n  'voxel_spacing': {'x_spacing': 0.78125,\n   'y_spacing': 0.78125,\n   'z_spacing': 2.5}},\n {'case_id': 'case_00202',\n  'age_at_nephrectomy': 56,\n  'gender': 'female',\n  'body_mass_index': 31.75,\n  'comorbidities': {'myocardial_infarction': False,\n   'congestive_heart_failure': False,\n   'peripheral_vascular_disease': False,\n   'cerebrovascular_disease': False,\n   'dementia': False,\n   'copd': False,\n   'connective_tissue_disease': False,\n   'peptic_ulcer_disease': False,\n   'uncomplicated_diabetes_mellitus': False,\n   'diabetes_mellitus_with_end_organ_damage': False,\n   'chronic_kidney_disease': False,\n   'hemiplegia_from_stroke': False,\n   'leukemia': False,\n   'malignant_lymphoma': False,\n   'localized_solid_tumor': False,\n   'metastatic_solid_tumor': False,\n   'mild_liver_disease': False,\n   'moderate_to_severe_liver_disease': False,\n   'aids': False},\n  'smoking_history': 'previous_smoker',\n  'age_when_quit_smoking': '45',\n  'pack_years': None,\n  'chewing_tobacco_use': 'never_or_not_in_last_3mo',\n  'alcohol_use': 'two_or_less_daily',\n  'intraoperative_complications': {'blood_transfusion': False,\n   'injury_to_surrounding_organ': False,\n   'cardiac_event': False},\n  'hospitalization': 2,\n  'ischemia_time': 24,\n  'radiographic_size': 6.0,\n  'pathologic_size': 9.5,\n  'malignant': False,\n  'pathology_t_stage': '0',\n  'pathology_n_stage': '0',\n  'pathology_m_stage': '0',\n  'tumor_histologic_subtype': 'oncocytoma',\n  'tumor_necrosis': None,\n  'tumor_isup_grade': None,\n  'clavien_surgical_complications': '0',\n  'er_visit': False,\n  'readmission': False,\n  'estimated_blood_loss': 750,\n  'surgery_type': 'robotic',\n  'surgical_procedure': 'partial_nephrectomy',\n  'surgical_approach': 'Transperitoneal',\n  'operative_time': 284,\n  'cytoreductive': False,\n  'positive_resection_margins': True,\n  'last_preop_egfr': {'value': 76.0, 'days_before_nephrectomy': 50},\n  'first_postop_egfr': {'value': 78.0, 'days_before_nephrectomy': 1275},\n  'last_postop_egfr': {'value': 78.0, 'days_before_nephrectomy': 1275},\n  'vital_status': 'censored',\n  'vital_days_after_surgery': 1147,\n  'voxel_spacing': {'x_spacing': 0.8984379768371582,\n   'y_spacing': 0.8984379768371582,\n   'z_spacing': 1.25}},\n {'case_id': 'case_00203',\n  'age_at_nephrectomy': 81,\n  'gender': 'female',\n  'body_mass_index': 16.2,\n  'comorbidities': {'myocardial_infarction': False,\n   'congestive_heart_failure': False,\n   'peripheral_vascular_disease': False,\n   'cerebrovascular_disease': False,\n   'dementia': False,\n   'copd': True,\n   'connective_tissue_disease': False,\n   'peptic_ulcer_disease': False,\n   'uncomplicated_diabetes_mellitus': False,\n   'diabetes_mellitus_with_end_organ_damage': False,\n   'chronic_kidney_disease': False,\n   'hemiplegia_from_stroke': False,\n   'leukemia': False,\n   'malignant_lymphoma': True,\n   'localized_solid_tumor': False,\n   'metastatic_solid_tumor': False,\n   'mild_liver_disease': False,\n   'moderate_to_severe_liver_disease': False,\n   'aids': False},\n  'smoking_history': 'previous_smoker',\n  'age_when_quit_smoking': '48',\n  'pack_years': '20',\n  'chewing_tobacco_use': 'never_or_not_in_last_3mo',\n  'alcohol_use': 'two_or_less_daily',\n  'intraoperative_complications': {'blood_transfusion': False,\n   'injury_to_surrounding_organ': False,\n   'cardiac_event': False},\n  'hospitalization': 2,\n  'ischemia_time': 8,\n  'radiographic_size': 2.4,\n  'pathologic_size': 2.4,\n  'malignant': True,\n  'pathology_t_stage': '1a',\n  'pathology_n_stage': '1',\n  'pathology_m_stage': '0',\n  'tumor_histologic_subtype': 'clear_cell_rcc',\n  'tumor_necrosis': False,\n  'tumor_isup_grade': 2,\n  'clavien_surgical_complications': '0',\n  'er_visit': False,\n  'readmission': False,\n  'estimated_blood_loss': 50,\n  'surgery_type': 'robotic',\n  'surgical_procedure': 'partial_nephrectomy',\n  'surgical_approach': 'Transperitoneal',\n  'operative_time': 64,\n  'cytoreductive': False,\n  'positive_resection_margins': False,\n  'last_preop_egfr': {'value': 50.0, 'days_before_nephrectomy': 13},\n  'first_postop_egfr': {'value': 54.0, 'days_before_nephrectomy': 1206},\n  'last_postop_egfr': {'value': 54.0, 'days_before_nephrectomy': 1206},\n  'vital_status': 'censored',\n  'vital_days_after_surgery': 1307,\n  'voxel_spacing': {'x_spacing': 0.63671875,\n   'y_spacing': 0.63671875,\n   'z_spacing': 1.0}},\n {'case_id': 'case_00204',\n  'age_at_nephrectomy': 63,\n  'gender': 'male',\n  'body_mass_index': 30.81,\n  'comorbidities': {'myocardial_infarction': False,\n   'congestive_heart_failure': False,\n   'peripheral_vascular_disease': False,\n   'cerebrovascular_disease': True,\n   'dementia': False,\n   'copd': False,\n   'connective_tissue_disease': False,\n   'peptic_ulcer_disease': False,\n   'uncomplicated_diabetes_mellitus': False,\n   'diabetes_mellitus_with_end_organ_damage': False,\n   'chronic_kidney_disease': False,\n   'hemiplegia_from_stroke': True,\n   'leukemia': False,\n   'malignant_lymphoma': False,\n   'localized_solid_tumor': False,\n   'metastatic_solid_tumor': False,\n   'mild_liver_disease': False,\n   'moderate_to_severe_liver_disease': False,\n   'aids': False},\n  'smoking_history': 'current_smoker',\n  'age_when_quit_smoking': 'not_applicable',\n  'pack_years': '40',\n  'chewing_tobacco_use': 'never_or_not_in_last_3mo',\n  'alcohol_use': 'two_or_less_daily',\n  'intraoperative_complications': {'blood_transfusion': False,\n   'injury_to_surrounding_organ': False,\n   'cardiac_event': False},\n  'hospitalization': 28,\n  'ischemia_time': 5,\n  'radiographic_size': 5.2,\n  'pathologic_size': 5.2,\n  'malignant': True,\n  'pathology_t_stage': '1b',\n  'pathology_n_stage': '0',\n  'pathology_m_stage': '0',\n  'tumor_histologic_subtype': 'clear_cell_rcc',\n  'tumor_necrosis': False,\n  'tumor_isup_grade': 2,\n  'clavien_surgical_complications': '4',\n  'er_visit': False,\n  'readmission': True,\n  'estimated_blood_loss': 250,\n  'surgery_type': 'open',\n  'surgical_procedure': 'partial_nephrectomy',\n  'surgical_approach': 'Transperitoneal',\n  'operative_time': 156,\n  'cytoreductive': False,\n  'positive_resection_margins': True,\n  'last_preop_egfr': {'value': 85.0, 'days_before_nephrectomy': 6},\n  'first_postop_egfr': {'value': 49.0, 'days_before_nephrectomy': 96},\n  'last_postop_egfr': {'value': 46.0, 'days_before_nephrectomy': 1315},\n  'vital_status': 'censored',\n  'vital_days_after_surgery': 1315,\n  'voxel_spacing': {'x_spacing': 0.875, 'y_spacing': 0.875, 'z_spacing': 3.0}},\n {'case_id': 'case_00205',\n  'age_at_nephrectomy': 67,\n  'gender': 'female',\n  'body_mass_index': 31.09,\n  'comorbidities': {'myocardial_infarction': False,\n   'congestive_heart_failure': False,\n   'peripheral_vascular_disease': False,\n   'cerebrovascular_disease': False,\n   'dementia': False,\n   'copd': False,\n   'connective_tissue_disease': False,\n   'peptic_ulcer_disease': False,\n   'uncomplicated_diabetes_mellitus': False,\n   'diabetes_mellitus_with_end_organ_damage': False,\n   'chronic_kidney_disease': False,\n   'hemiplegia_from_stroke': False,\n   'leukemia': False,\n   'malignant_lymphoma': False,\n   'localized_solid_tumor': False,\n   'metastatic_solid_tumor': False,\n   'mild_liver_disease': False,\n   'moderate_to_severe_liver_disease': False,\n   'aids': False},\n  'smoking_history': 'previous_smoker',\n  'age_when_quit_smoking': None,\n  'pack_years': None,\n  'chewing_tobacco_use': 'never_or_not_in_last_3mo',\n  'alcohol_use': 'two_or_less_daily',\n  'intraoperative_complications': {'blood_transfusion': False,\n   'injury_to_surrounding_organ': False,\n   'cardiac_event': False},\n  'hospitalization': 2,\n  'ischemia_time': 0,\n  'radiographic_size': 2.0,\n  'pathologic_size': 1.7,\n  'malignant': False,\n  'pathology_t_stage': '0',\n  'pathology_n_stage': 'X',\n  'pathology_m_stage': 'X',\n  'tumor_histologic_subtype': 'angiomyolipoma',\n  'tumor_necrosis': None,\n  'tumor_isup_grade': None,\n  'clavien_surgical_complications': '1',\n  'er_visit': False,\n  'readmission': False,\n  'estimated_blood_loss': 222,\n  'surgery_type': 'robotic',\n  'surgical_procedure': 'partial_nephrectomy',\n  'surgical_approach': 'Transperitoneal',\n  'operative_time': 179,\n  'cytoreductive': False,\n  'positive_resection_margins': False,\n  'last_preop_egfr': {'value': 60.0, 'days_before_nephrectomy': 6},\n  'first_postop_egfr': {'value': 59.0, 'days_before_nephrectomy': 843},\n  'last_postop_egfr': {'value': 59.0, 'days_before_nephrectomy': 843},\n  'vital_status': 'censored',\n  'vital_days_after_surgery': 843,\n  'voxel_spacing': {'x_spacing': 0.78125,\n   'y_spacing': 0.78125,\n   'z_spacing': 5.0}},\n {'case_id': 'case_00206',\n  'age_at_nephrectomy': 66,\n  'gender': 'female',\n  'body_mass_index': 42.9,\n  'comorbidities': {'myocardial_infarction': False,\n   'congestive_heart_failure': False,\n   'peripheral_vascular_disease': False,\n   'cerebrovascular_disease': False,\n   'dementia': False,\n   'copd': False,\n   'connective_tissue_disease': False,\n   'peptic_ulcer_disease': False,\n   'uncomplicated_diabetes_mellitus': False,\n   'diabetes_mellitus_with_end_organ_damage': False,\n   'chronic_kidney_disease': False,\n   'hemiplegia_from_stroke': False,\n   'leukemia': False,\n   'malignant_lymphoma': False,\n   'localized_solid_tumor': False,\n   'metastatic_solid_tumor': False,\n   'mild_liver_disease': False,\n   'moderate_to_severe_liver_disease': False,\n   'aids': False},\n  'smoking_history': 'previous_smoker',\n  'age_when_quit_smoking': '22',\n  'pack_years': '2',\n  'chewing_tobacco_use': 'never_or_not_in_last_3mo',\n  'alcohol_use': 'two_or_less_daily',\n  'intraoperative_complications': {'blood_transfusion': False,\n   'injury_to_surrounding_organ': False,\n   'cardiac_event': False},\n  'hospitalization': 2,\n  'ischemia_time': 'not_applicable',\n  'radiographic_size': 4.6,\n  'pathologic_size': 3.9,\n  'malignant': True,\n  'pathology_t_stage': '1a',\n  'pathology_n_stage': 'X',\n  'pathology_m_stage': 'X',\n  'tumor_histologic_subtype': 'clear_cell_rcc',\n  'tumor_necrosis': False,\n  'tumor_isup_grade': 2,\n  'clavien_surgical_complications': '0',\n  'er_visit': False,\n  'readmission': False,\n  'estimated_blood_loss': 150,\n  'surgery_type': 'laparoscopic',\n  'surgical_procedure': 'radical_nephrectomy',\n  'surgical_approach': 'Transperitoneal',\n  'operative_time': 186,\n  'cytoreductive': False,\n  'positive_resection_margins': False,\n  'last_preop_egfr': {'value': 70.0, 'days_before_nephrectomy': 1},\n  'first_postop_egfr': {'value': 43.0, 'days_before_nephrectomy': 254},\n  'last_postop_egfr': {'value': 43.0, 'days_before_nephrectomy': 254},\n  'vital_status': 'censored',\n  'vital_days_after_surgery': 800,\n  'voxel_spacing': {'x_spacing': 0.970703125,\n   'y_spacing': 0.970703125,\n   'z_spacing': 5.0}},\n {'case_id': 'case_00207',\n  'age_at_nephrectomy': 65,\n  'gender': 'male',\n  'body_mass_index': 27.5,\n  'comorbidities': {'myocardial_infarction': False,\n   'congestive_heart_failure': False,\n   'peripheral_vascular_disease': False,\n   'cerebrovascular_disease': False,\n   'dementia': False,\n   'copd': False,\n   'connective_tissue_disease': False,\n   'peptic_ulcer_disease': False,\n   'uncomplicated_diabetes_mellitus': True,\n   'diabetes_mellitus_with_end_organ_damage': False,\n   'chronic_kidney_disease': True,\n   'hemiplegia_from_stroke': False,\n   'leukemia': False,\n   'malignant_lymphoma': False,\n   'localized_solid_tumor': False,\n   'metastatic_solid_tumor': True,\n   'mild_liver_disease': False,\n   'moderate_to_severe_liver_disease': False,\n   'aids': False},\n  'smoking_history': 'never_smoked',\n  'age_when_quit_smoking': 'not_applicable',\n  'pack_years': 0,\n  'chewing_tobacco_use': 'never_or_not_in_last_3mo',\n  'alcohol_use': 'two_or_less_daily',\n  'intraoperative_complications': {'blood_transfusion': False,\n   'injury_to_surrounding_organ': False,\n   'cardiac_event': False},\n  'hospitalization': 2,\n  'ischemia_time': 'not_applicable',\n  'radiographic_size': 2.4,\n  'pathologic_size': 7.7,\n  'malignant': True,\n  'pathology_t_stage': '3',\n  'pathology_n_stage': 'X',\n  'pathology_m_stage': '1',\n  'tumor_histologic_subtype': 'clear_cell_rcc',\n  'tumor_necrosis': False,\n  'tumor_isup_grade': 3,\n  'clavien_surgical_complications': '0',\n  'er_visit': False,\n  'readmission': False,\n  'estimated_blood_loss': 400,\n  'surgery_type': 'robotic',\n  'surgical_procedure': 'radical_nephrectomy',\n  'surgical_approach': 'Transperitoneal',\n  'operative_time': 188,\n  'cytoreductive': True,\n  'positive_resection_margins': False,\n  'last_preop_egfr': {'value': 54.0, 'days_before_nephrectomy': 25},\n  'first_postop_egfr': {'value': 28.0, 'days_before_nephrectomy': 100},\n  'last_postop_egfr': {'value': 28.0, 'days_before_nephrectomy': 841},\n  'vital_status': 'dead',\n  'vital_days_after_surgery': 892,\n  'voxel_spacing': {'x_spacing': 0.75390625,\n   'y_spacing': 0.75390625,\n   'z_spacing': 5.0}},\n {'case_id': 'case_00208',\n  'age_at_nephrectomy': 73,\n  'gender': 'male',\n  'body_mass_index': 30.85,\n  'comorbidities': {'myocardial_infarction': False,\n   'congestive_heart_failure': False,\n   'peripheral_vascular_disease': False,\n   'cerebrovascular_disease': False,\n   'dementia': False,\n   'copd': False,\n   'connective_tissue_disease': False,\n   'peptic_ulcer_disease': False,\n   'uncomplicated_diabetes_mellitus': True,\n   'diabetes_mellitus_with_end_organ_damage': False,\n   'chronic_kidney_disease': False,\n   'hemiplegia_from_stroke': False,\n   'leukemia': False,\n   'malignant_lymphoma': False,\n   'localized_solid_tumor': True,\n   'metastatic_solid_tumor': False,\n   'mild_liver_disease': False,\n   'moderate_to_severe_liver_disease': False,\n   'aids': False},\n  'smoking_history': 'previous_smoker',\n  'age_when_quit_smoking': None,\n  'pack_years': '64',\n  'chewing_tobacco_use': 'never_or_not_in_last_3mo',\n  'alcohol_use': 'two_or_less_daily',\n  'intraoperative_complications': {'blood_transfusion': False,\n   'injury_to_surrounding_organ': False,\n   'cardiac_event': False},\n  'hospitalization': 8,\n  'ischemia_time': 29,\n  'radiographic_size': 3.9,\n  'pathologic_size': 3.2,\n  'malignant': True,\n  'pathology_t_stage': '1b',\n  'pathology_n_stage': 'X',\n  'pathology_m_stage': '0',\n  'tumor_histologic_subtype': 'clear_cell_rcc',\n  'tumor_necrosis': False,\n  'tumor_isup_grade': 2,\n  'clavien_surgical_complications': '1',\n  'er_visit': False,\n  'readmission': False,\n  'estimated_blood_loss': 50,\n  'surgery_type': 'robotic',\n  'surgical_procedure': 'partial_nephrectomy',\n  'surgical_approach': 'Transperitoneal',\n  'operative_time': 613,\n  'cytoreductive': False,\n  'positive_resection_margins': False,\n  'last_preop_egfr': {'value': 44.0, 'days_before_nephrectomy': 13},\n  'first_postop_egfr': {'value': 42.0, 'days_before_nephrectomy': 80},\n  'last_postop_egfr': {'value': 32.0, 'days_before_nephrectomy': 1030},\n  'vital_status': 'censored',\n  'vital_days_after_surgery': 1057,\n  'voxel_spacing': {'x_spacing': 0.884765625,\n   'y_spacing': 0.884765625,\n   'z_spacing': 5.0}},\n {'case_id': 'case_00209',\n  'age_at_nephrectomy': 44,\n  'gender': 'male',\n  'body_mass_index': 41.63,\n  'comorbidities': {'myocardial_infarction': False,\n   'congestive_heart_failure': False,\n   'peripheral_vascular_disease': False,\n   'cerebrovascular_disease': False,\n   'dementia': False,\n   'copd': False,\n   'connective_tissue_disease': False,\n   'peptic_ulcer_disease': False,\n   'uncomplicated_diabetes_mellitus': False,\n   'diabetes_mellitus_with_end_organ_damage': False,\n   'chronic_kidney_disease': False,\n   'hemiplegia_from_stroke': False,\n   'leukemia': False,\n   'malignant_lymphoma': False,\n   'localized_solid_tumor': False,\n   'metastatic_solid_tumor': False,\n   'mild_liver_disease': False,\n   'moderate_to_severe_liver_disease': False,\n   'aids': False},\n  'smoking_history': 'never_smoked',\n  'age_when_quit_smoking': 'not_applicable',\n  'pack_years': 0,\n  'chewing_tobacco_use': 'never_or_not_in_last_3mo',\n  'alcohol_use': 'two_or_less_daily',\n  'intraoperative_complications': {'blood_transfusion': False,\n   'injury_to_surrounding_organ': False,\n   'cardiac_event': False},\n  'hospitalization': 1,\n  'ischemia_time': 3,\n  'radiographic_size': 1.5,\n  'pathologic_size': 1.9,\n  'malignant': True,\n  'pathology_t_stage': '1a',\n  'pathology_n_stage': '0',\n  'pathology_m_stage': '0',\n  'tumor_histologic_subtype': 'papillary',\n  'tumor_necrosis': False,\n  'tumor_isup_grade': 1,\n  'clavien_surgical_complications': '0',\n  'er_visit': False,\n  'readmission': False,\n  'estimated_blood_loss': 25,\n  'surgery_type': 'robotic',\n  'surgical_procedure': 'partial_nephrectomy',\n  'surgical_approach': 'Transperitoneal',\n  'operative_time': 140,\n  'cytoreductive': False,\n  'positive_resection_margins': False,\n  'last_preop_egfr': {'value': 81.0, 'days_before_nephrectomy': 15},\n  'first_postop_egfr': {'value': 73.0, 'days_before_nephrectomy': 115},\n  'last_postop_egfr': {'value': 79.0, 'days_before_nephrectomy': 1233},\n  'vital_status': 'censored',\n  'vital_days_after_surgery': 1319,\n  'voxel_spacing': {'x_spacing': 0.78125,\n   'y_spacing': 0.78125,\n   'z_spacing': 5.0}},\n {'case_id': 'case_00210',\n  'age_at_nephrectomy': 45,\n  'gender': 'male',\n  'body_mass_index': 31.66,\n  'comorbidities': {'myocardial_infarction': False,\n   'congestive_heart_failure': False,\n   'peripheral_vascular_disease': False,\n   'cerebrovascular_disease': False,\n   'dementia': False,\n   'copd': False,\n   'connective_tissue_disease': False,\n   'peptic_ulcer_disease': False,\n   'uncomplicated_diabetes_mellitus': False,\n   'diabetes_mellitus_with_end_organ_damage': False,\n   'chronic_kidney_disease': False,\n   'hemiplegia_from_stroke': False,\n   'leukemia': False,\n   'malignant_lymphoma': False,\n   'localized_solid_tumor': False,\n   'metastatic_solid_tumor': False,\n   'mild_liver_disease': False,\n   'moderate_to_severe_liver_disease': False,\n   'aids': False},\n  'smoking_history': 'previous_smoker',\n  'age_when_quit_smoking': None,\n  'pack_years': None,\n  'chewing_tobacco_use': 'never_or_not_in_last_3mo',\n  'alcohol_use': 'two_or_less_daily',\n  'intraoperative_complications': {'blood_transfusion': False,\n   'injury_to_surrounding_organ': False,\n   'cardiac_event': False},\n  'hospitalization': 2,\n  'ischemia_time': 'not_applicable',\n  'radiographic_size': 8.8,\n  'pathologic_size': 4.1,\n  'malignant': True,\n  'pathology_t_stage': '3',\n  'pathology_n_stage': 'X',\n  'pathology_m_stage': 'X',\n  'tumor_histologic_subtype': 'clear_cell_rcc',\n  'tumor_necrosis': False,\n  'tumor_isup_grade': 4,\n  'clavien_surgical_complications': '0',\n  'er_visit': False,\n  'readmission': False,\n  'estimated_blood_loss': 150,\n  'surgery_type': 'robotic',\n  'surgical_procedure': 'radical_nephrectomy',\n  'surgical_approach': 'Transperitoneal',\n  'operative_time': 180,\n  'cytoreductive': False,\n  'positive_resection_margins': False,\n  'last_preop_egfr': {'value': 64.0, 'days_before_nephrectomy': 7},\n  'first_postop_egfr': {'value': None, 'days_before_nephrectomy': None},\n  'last_postop_egfr': {'value': None, 'days_before_nephrectomy': None},\n  'vital_status': 'censored',\n  'vital_days_after_surgery': '48',\n  'voxel_spacing': {'x_spacing': 0.8671875,\n   'y_spacing': 0.8671875,\n   'z_spacing': 5.0}},\n {'case_id': 'case_00211',\n  'age_at_nephrectomy': 28,\n  'gender': 'female',\n  'body_mass_index': 37.75,\n  'comorbidities': {'myocardial_infarction': False,\n   'congestive_heart_failure': False,\n   'peripheral_vascular_disease': False,\n   'cerebrovascular_disease': False,\n   'dementia': False,\n   'copd': False,\n   'connective_tissue_disease': False,\n   'peptic_ulcer_disease': False,\n   'uncomplicated_diabetes_mellitus': False,\n   'diabetes_mellitus_with_end_organ_damage': False,\n   'chronic_kidney_disease': False,\n   'hemiplegia_from_stroke': False,\n   'leukemia': False,\n   'malignant_lymphoma': False,\n   'localized_solid_tumor': False,\n   'metastatic_solid_tumor': False,\n   'mild_liver_disease': False,\n   'moderate_to_severe_liver_disease': False,\n   'aids': False},\n  'smoking_history': 'never_smoked',\n  'age_when_quit_smoking': 'not_applicable',\n  'pack_years': 0,\n  'chewing_tobacco_use': 'never_or_not_in_last_3mo',\n  'alcohol_use': 'two_or_less_daily',\n  'intraoperative_complications': {'blood_transfusion': False,\n   'injury_to_surrounding_organ': False,\n   'cardiac_event': False},\n  'hospitalization': 1,\n  'ischemia_time': 'not_applicable',\n  'radiographic_size': 14.2,\n  'pathologic_size': 6.2,\n  'malignant': False,\n  'pathology_t_stage': '0',\n  'pathology_n_stage': 'X',\n  'pathology_m_stage': 'X',\n  'tumor_histologic_subtype': 'mest',\n  'tumor_necrosis': None,\n  'tumor_isup_grade': None,\n  'clavien_surgical_complications': '0',\n  'er_visit': False,\n  'readmission': False,\n  'estimated_blood_loss': 81,\n  'surgery_type': 'robotic',\n  'surgical_procedure': 'radical_nephrectomy',\n  'surgical_approach': 'Transperitoneal',\n  'operative_time': 304,\n  'cytoreductive': False,\n  'positive_resection_margins': False,\n  'last_preop_egfr': {'value': 60.0, 'days_before_nephrectomy': 13},\n  'first_postop_egfr': {'value': 50.0, 'days_before_nephrectomy': 163},\n  'last_postop_egfr': {'value': 50.0, 'days_before_nephrectomy': 163},\n  'vital_status': 'censored',\n  'vital_days_after_surgery': '191',\n  'voxel_spacing': {'x_spacing': 0.861328125,\n   'y_spacing': 0.861328125,\n   'z_spacing': 3.0}},\n {'case_id': 'case_00212',\n  'age_at_nephrectomy': 36,\n  'gender': 'male',\n  'body_mass_index': 26.35,\n  'comorbidities': {'myocardial_infarction': False,\n   'congestive_heart_failure': False,\n   'peripheral_vascular_disease': False,\n   'cerebrovascular_disease': False,\n   'dementia': False,\n   'copd': False,\n   'connective_tissue_disease': False,\n   'peptic_ulcer_disease': False,\n   'uncomplicated_diabetes_mellitus': False,\n   'diabetes_mellitus_with_end_organ_damage': False,\n   'chronic_kidney_disease': False,\n   'hemiplegia_from_stroke': False,\n   'leukemia': False,\n   'malignant_lymphoma': False,\n   'localized_solid_tumor': False,\n   'metastatic_solid_tumor': False,\n   'mild_liver_disease': False,\n   'moderate_to_severe_liver_disease': False,\n   'aids': False},\n  'smoking_history': 'never_smoked',\n  'age_when_quit_smoking': 'not_applicable',\n  'pack_years': 0,\n  'chewing_tobacco_use': 'never_or_not_in_last_3mo',\n  'alcohol_use': 'never_or_not_in_last_3mo',\n  'intraoperative_complications': {'blood_transfusion': False,\n   'injury_to_surrounding_organ': False,\n   'cardiac_event': False},\n  'hospitalization': 1,\n  'ischemia_time': 38,\n  'radiographic_size': 1.8,\n  'pathologic_size': 1.9,\n  'malignant': True,\n  'pathology_t_stage': '1a',\n  'pathology_n_stage': 'X',\n  'pathology_m_stage': 'X',\n  'tumor_histologic_subtype': 'clear_cell_rcc',\n  'tumor_necrosis': False,\n  'tumor_isup_grade': 1,\n  'clavien_surgical_complications': '0',\n  'er_visit': False,\n  'readmission': False,\n  'estimated_blood_loss': 600,\n  'surgery_type': 'robotic',\n  'surgical_procedure': 'partial_nephrectomy',\n  'surgical_approach': 'Transperitoneal',\n  'operative_time': 230,\n  'cytoreductive': False,\n  'positive_resection_margins': False,\n  'last_preop_egfr': {'value': None, 'days_before_nephrectomy': None},\n  'first_postop_egfr': {'value': '>=90', 'days_before_nephrectomy': 387},\n  'last_postop_egfr': {'value': '>=90', 'days_before_nephrectomy': 387},\n  'vital_status': 'censored',\n  'vital_days_after_surgery': '387',\n  'voxel_spacing': {'x_spacing': 0.7421875,\n   'y_spacing': 0.7421875,\n   'z_spacing': 3.0}},\n {'case_id': 'case_00213',\n  'age_at_nephrectomy': 60,\n  'gender': 'male',\n  'body_mass_index': 22.01,\n  'comorbidities': {'myocardial_infarction': False,\n   'congestive_heart_failure': False,\n   'peripheral_vascular_disease': False,\n   'cerebrovascular_disease': False,\n   'dementia': False,\n   'copd': False,\n   'connective_tissue_disease': False,\n   'peptic_ulcer_disease': False,\n   'uncomplicated_diabetes_mellitus': False,\n   'diabetes_mellitus_with_end_organ_damage': False,\n   'chronic_kidney_disease': False,\n   'hemiplegia_from_stroke': False,\n   'leukemia': False,\n   'malignant_lymphoma': False,\n   'localized_solid_tumor': False,\n   'metastatic_solid_tumor': False,\n   'mild_liver_disease': False,\n   'moderate_to_severe_liver_disease': False,\n   'aids': False},\n  'smoking_history': 'previous_smoker',\n  'age_when_quit_smoking': '59',\n  'pack_years': None,\n  'chewing_tobacco_use': 'never_or_not_in_last_3mo',\n  'alcohol_use': 'never_or_not_in_last_3mo',\n  'intraoperative_complications': {'blood_transfusion': False,\n   'injury_to_surrounding_organ': False,\n   'cardiac_event': False},\n  'hospitalization': 2,\n  'ischemia_time': 0,\n  'radiographic_size': 1.6,\n  'pathologic_size': 1.5,\n  'malignant': True,\n  'pathology_t_stage': '1a',\n  'pathology_n_stage': 'X',\n  'pathology_m_stage': 'X',\n  'tumor_histologic_subtype': 'chromophobe',\n  'tumor_necrosis': False,\n  'tumor_isup_grade': None,\n  'clavien_surgical_complications': '0',\n  'er_visit': False,\n  'readmission': True,\n  'estimated_blood_loss': 300,\n  'surgery_type': 'robotic',\n  'surgical_procedure': 'partial_nephrectomy',\n  'surgical_approach': 'Transperitoneal',\n  'operative_time': 221,\n  'cytoreductive': False,\n  'positive_resection_margins': False,\n  'last_preop_egfr': {'value': 90.0, 'days_before_nephrectomy': 1},\n  'first_postop_egfr': {'value': None, 'days_before_nephrectomy': None},\n  'last_postop_egfr': {'value': None, 'days_before_nephrectomy': None},\n  'vital_status': 'censored',\n  'vital_days_after_surgery': '35',\n  'voxel_spacing': {'x_spacing': 0.7734375,\n   'y_spacing': 0.7734375,\n   'z_spacing': 1.0}},\n {'case_id': 'case_00214',\n  'age_at_nephrectomy': 66,\n  'gender': 'male',\n  'body_mass_index': 38.64,\n  'comorbidities': {'myocardial_infarction': False,\n   'congestive_heart_failure': False,\n   'peripheral_vascular_disease': False,\n   'cerebrovascular_disease': False,\n   'dementia': False,\n   'copd': False,\n   'connective_tissue_disease': False,\n   'peptic_ulcer_disease': False,\n   'uncomplicated_diabetes_mellitus': False,\n   'diabetes_mellitus_with_end_organ_damage': False,\n   'chronic_kidney_disease': False,\n   'hemiplegia_from_stroke': False,\n   'leukemia': False,\n   'malignant_lymphoma': False,\n   'localized_solid_tumor': False,\n   'metastatic_solid_tumor': False,\n   'mild_liver_disease': False,\n   'moderate_to_severe_liver_disease': False,\n   'aids': False},\n  'smoking_history': 'never_smoked',\n  'age_when_quit_smoking': 'not_applicable',\n  'pack_years': 0,\n  'chewing_tobacco_use': 'never_or_not_in_last_3mo',\n  'alcohol_use': 'two_or_less_daily',\n  'intraoperative_complications': {'blood_transfusion': False,\n   'injury_to_surrounding_organ': False,\n   'cardiac_event': False},\n  'hospitalization': 3,\n  'ischemia_time': 25,\n  'radiographic_size': 3.4,\n  'pathologic_size': 3.5,\n  'malignant': True,\n  'pathology_t_stage': '1a',\n  'pathology_n_stage': 'X',\n  'pathology_m_stage': 'X',\n  'tumor_histologic_subtype': 'clear_cell_rcc',\n  'tumor_necrosis': False,\n  'tumor_isup_grade': 3,\n  'clavien_surgical_complications': '0',\n  'er_visit': False,\n  'readmission': False,\n  'estimated_blood_loss': 400,\n  'surgery_type': 'robotic',\n  'surgical_procedure': 'partial_nephrectomy',\n  'surgical_approach': 'Transperitoneal',\n  'operative_time': 332,\n  'cytoreductive': False,\n  'positive_resection_margins': False,\n  'last_preop_egfr': {'value': 72.0, 'days_before_nephrectomy': 14},\n  'first_postop_egfr': {'value': 44.0, 'days_before_nephrectomy': 118},\n  'last_postop_egfr': {'value': 55.0, 'days_before_nephrectomy': 366},\n  'vital_status': 'censored',\n  'vital_days_after_surgery': '457',\n  'voxel_spacing': {'x_spacing': 0.953125,\n   'y_spacing': 0.953125,\n   'z_spacing': 1.0}},\n {'case_id': 'case_00215',\n  'age_at_nephrectomy': 75,\n  'gender': 'male',\n  'body_mass_index': 31.82,\n  'comorbidities': {'myocardial_infarction': False,\n   'congestive_heart_failure': False,\n   'peripheral_vascular_disease': False,\n   'cerebrovascular_disease': False,\n   'dementia': False,\n   'copd': False,\n   'connective_tissue_disease': False,\n   'peptic_ulcer_disease': False,\n   'uncomplicated_diabetes_mellitus': False,\n   'diabetes_mellitus_with_end_organ_damage': False,\n   'chronic_kidney_disease': False,\n   'hemiplegia_from_stroke': False,\n   'leukemia': False,\n   'malignant_lymphoma': False,\n   'localized_solid_tumor': False,\n   'metastatic_solid_tumor': False,\n   'mild_liver_disease': False,\n   'moderate_to_severe_liver_disease': False,\n   'aids': False},\n  'smoking_history': 'never_smoked',\n  'age_when_quit_smoking': 'not_applicable',\n  'pack_years': 0,\n  'chewing_tobacco_use': 'never_or_not_in_last_3mo',\n  'alcohol_use': 'never_or_not_in_last_3mo',\n  'intraoperative_complications': {'blood_transfusion': False,\n   'injury_to_surrounding_organ': False,\n   'cardiac_event': False},\n  'hospitalization': 1,\n  'ischemia_time': 'not_applicable',\n  'radiographic_size': 3.3,\n  'pathologic_size': 5.1,\n  'malignant': True,\n  'pathology_t_stage': '3',\n  'pathology_n_stage': '1',\n  'pathology_m_stage': '1',\n  'tumor_histologic_subtype': 'papillary',\n  'tumor_necrosis': True,\n  'tumor_isup_grade': 3,\n  'clavien_surgical_complications': '0',\n  'er_visit': False,\n  'readmission': False,\n  'estimated_blood_loss': 100,\n  'surgery_type': 'laparoscopic',\n  'surgical_procedure': 'radical_nephrectomy',\n  'surgical_approach': 'Transperitoneal',\n  'operative_time': 380,\n  'cytoreductive': False,\n  'positive_resection_margins': False,\n  'last_preop_egfr': {'value': 54.0, 'days_before_nephrectomy': 38},\n  'first_postop_egfr': {'value': 30.0, 'days_before_nephrectomy': 160},\n  'last_postop_egfr': {'value': 33.0, 'days_before_nephrectomy': 565},\n  'vital_status': 'censored',\n  'vital_days_after_surgery': '570',\n  'voxel_spacing': {'x_spacing': 0.9375,\n   'y_spacing': 0.9375,\n   'z_spacing': 3.75}},\n {'case_id': 'case_00216',\n  'age_at_nephrectomy': 50,\n  'gender': 'male',\n  'body_mass_index': 29.29,\n  'comorbidities': {'myocardial_infarction': False,\n   'congestive_heart_failure': False,\n   'peripheral_vascular_disease': False,\n   'cerebrovascular_disease': False,\n   'dementia': False,\n   'copd': False,\n   'connective_tissue_disease': False,\n   'peptic_ulcer_disease': False,\n   'uncomplicated_diabetes_mellitus': False,\n   'diabetes_mellitus_with_end_organ_damage': False,\n   'chronic_kidney_disease': False,\n   'hemiplegia_from_stroke': False,\n   'leukemia': False,\n   'malignant_lymphoma': False,\n   'localized_solid_tumor': False,\n   'metastatic_solid_tumor': False,\n   'mild_liver_disease': False,\n   'moderate_to_severe_liver_disease': False,\n   'aids': False},\n  'smoking_history': 'never_smoked',\n  'age_when_quit_smoking': 'not_applicable',\n  'pack_years': 0,\n  'chewing_tobacco_use': 'never_or_not_in_last_3mo',\n  'alcohol_use': 'two_or_less_daily',\n  'intraoperative_complications': {'blood_transfusion': False,\n   'injury_to_surrounding_organ': False,\n   'cardiac_event': False},\n  'hospitalization': 3,\n  'ischemia_time': 28,\n  'radiographic_size': 4.2,\n  'pathologic_size': 5.0,\n  'malignant': True,\n  'pathology_t_stage': '1b',\n  'pathology_n_stage': 'X',\n  'pathology_m_stage': '0',\n  'tumor_histologic_subtype': 'chromophobe',\n  'tumor_necrosis': False,\n  'tumor_isup_grade': None,\n  'clavien_surgical_complications': '0',\n  'er_visit': False,\n  'readmission': False,\n  'estimated_blood_loss': 200,\n  'surgery_type': 'robotic',\n  'surgical_procedure': 'partial_nephrectomy',\n  'surgical_approach': 'Transperitoneal',\n  'operative_time': 299,\n  'cytoreductive': False,\n  'positive_resection_margins': False,\n  'last_preop_egfr': {'value': '>=90', 'days_before_nephrectomy': 14},\n  'first_postop_egfr': {'value': '>=90', 'days_before_nephrectomy': 93},\n  'last_postop_egfr': {'value': '>=90', 'days_before_nephrectomy': 289},\n  'vital_status': 'censored',\n  'vital_days_after_surgery': '289',\n  'voxel_spacing': {'x_spacing': 0.82421875,\n   'y_spacing': 0.82421875,\n   'z_spacing': 0.5}},\n {'case_id': 'case_00217',\n  'age_at_nephrectomy': 83,\n  'gender': 'male',\n  'body_mass_index': 29.86,\n  'comorbidities': {'myocardial_infarction': False,\n   'congestive_heart_failure': False,\n   'peripheral_vascular_disease': False,\n   'cerebrovascular_disease': False,\n   'dementia': False,\n   'copd': False,\n   'connective_tissue_disease': False,\n   'peptic_ulcer_disease': False,\n   'uncomplicated_diabetes_mellitus': False,\n   'diabetes_mellitus_with_end_organ_damage': False,\n   'chronic_kidney_disease': False,\n   'hemiplegia_from_stroke': False,\n   'leukemia': False,\n   'malignant_lymphoma': False,\n   'localized_solid_tumor': False,\n   'metastatic_solid_tumor': False,\n   'mild_liver_disease': False,\n   'moderate_to_severe_liver_disease': False,\n   'aids': False},\n  'smoking_history': 'previous_smoker',\n  'age_when_quit_smoking': None,\n  'pack_years': None,\n  'chewing_tobacco_use': 'never_or_not_in_last_3mo',\n  'alcohol_use': 'two_or_less_daily',\n  'intraoperative_complications': {'blood_transfusion': False,\n   'injury_to_surrounding_organ': False,\n   'cardiac_event': False},\n  'hospitalization': 7,\n  'ischemia_time': 'not_applicable',\n  'radiographic_size': 4.1,\n  'pathologic_size': 3.5,\n  'malignant': True,\n  'pathology_t_stage': '3',\n  'pathology_n_stage': 'X',\n  'pathology_m_stage': 'X',\n  'tumor_histologic_subtype': 'clear_cell_rcc',\n  'tumor_necrosis': False,\n  'tumor_isup_grade': 3,\n  'clavien_surgical_complications': '0',\n  'er_visit': False,\n  'readmission': False,\n  'estimated_blood_loss': 300,\n  'surgery_type': 'open',\n  'surgical_procedure': 'radical_nephrectomy',\n  'surgical_approach': 'Transperitoneal',\n  'operative_time': 105,\n  'cytoreductive': False,\n  'positive_resection_margins': False,\n  'last_preop_egfr': {'value': None, 'days_before_nephrectomy': None},\n  'first_postop_egfr': {'value': 30.0, 'days_before_nephrectomy': 132},\n  'last_postop_egfr': {'value': 30.0, 'days_before_nephrectomy': 132},\n  'vital_status': 'censored',\n  'vital_days_after_surgery': '362',\n  'voxel_spacing': {'x_spacing': 0.79296875,\n   'y_spacing': 0.79296875,\n   'z_spacing': 3.0}},\n {'case_id': 'case_00218',\n  'age_at_nephrectomy': 61,\n  'gender': 'male',\n  'body_mass_index': 37.42,\n  'comorbidities': {'myocardial_infarction': False,\n   'congestive_heart_failure': False,\n   'peripheral_vascular_disease': False,\n   'cerebrovascular_disease': False,\n   'dementia': False,\n   'copd': False,\n   'connective_tissue_disease': False,\n   'peptic_ulcer_disease': False,\n   'uncomplicated_diabetes_mellitus': False,\n   'diabetes_mellitus_with_end_organ_damage': False,\n   'chronic_kidney_disease': False,\n   'hemiplegia_from_stroke': False,\n   'leukemia': False,\n   'malignant_lymphoma': False,\n   'localized_solid_tumor': False,\n   'metastatic_solid_tumor': False,\n   'mild_liver_disease': False,\n   'moderate_to_severe_liver_disease': False,\n   'aids': False},\n  'smoking_history': 'never_smoked',\n  'age_when_quit_smoking': 'not_applicable',\n  'pack_years': 0,\n  'chewing_tobacco_use': 'never_or_not_in_last_3mo',\n  'alcohol_use': 'two_or_less_daily',\n  'intraoperative_complications': {'blood_transfusion': False,\n   'injury_to_surrounding_organ': False,\n   'cardiac_event': False},\n  'hospitalization': 1,\n  'ischemia_time': 19,\n  'radiographic_size': 3.2,\n  'pathologic_size': 3.0,\n  'malignant': True,\n  'pathology_t_stage': '1a',\n  'pathology_n_stage': 'X',\n  'pathology_m_stage': 'X',\n  'tumor_histologic_subtype': 'clear_cell_rcc',\n  'tumor_necrosis': False,\n  'tumor_isup_grade': 2,\n  'clavien_surgical_complications': '0',\n  'er_visit': False,\n  'readmission': False,\n  'estimated_blood_loss': 700,\n  'surgery_type': 'robotic',\n  'surgical_procedure': 'partial_nephrectomy',\n  'surgical_approach': 'Transperitoneal',\n  'operative_time': 233,\n  'cytoreductive': False,\n  'positive_resection_margins': False,\n  'last_preop_egfr': {'value': 86.0, 'days_before_nephrectomy': 14},\n  'first_postop_egfr': {'value': 87.0, 'days_before_nephrectomy': 205},\n  'last_postop_egfr': {'value': 87.0, 'days_before_nephrectomy': 205},\n  'vital_status': 'censored',\n  'vital_days_after_surgery': '400',\n  'voxel_spacing': {'x_spacing': 0.859375,\n   'y_spacing': 0.859375,\n   'z_spacing': 3.0}},\n {'case_id': 'case_00219',\n  'age_at_nephrectomy': 54,\n  'gender': 'female',\n  'body_mass_index': 36.1,\n  'comorbidities': {'myocardial_infarction': False,\n   'congestive_heart_failure': False,\n   'peripheral_vascular_disease': False,\n   'cerebrovascular_disease': False,\n   'dementia': False,\n   'copd': False,\n   'connective_tissue_disease': False,\n   'peptic_ulcer_disease': False,\n   'uncomplicated_diabetes_mellitus': True,\n   'diabetes_mellitus_with_end_organ_damage': False,\n   'chronic_kidney_disease': False,\n   'hemiplegia_from_stroke': False,\n   'leukemia': False,\n   'malignant_lymphoma': False,\n   'localized_solid_tumor': False,\n   'metastatic_solid_tumor': False,\n   'mild_liver_disease': False,\n   'moderate_to_severe_liver_disease': False,\n   'aids': False},\n  'smoking_history': 'previous_smoker',\n  'age_when_quit_smoking': '49',\n  'pack_years': '35',\n  'chewing_tobacco_use': 'never_or_not_in_last_3mo',\n  'alcohol_use': '',\n  'intraoperative_complications': {'blood_transfusion': False,\n   'injury_to_surrounding_organ': False,\n   'cardiac_event': False},\n  'hospitalization': 1,\n  'ischemia_time': 'not_applicable',\n  'radiographic_size': 10.4,\n  'pathologic_size': 8.1,\n  'malignant': True,\n  'pathology_t_stage': '2a',\n  'pathology_n_stage': '0',\n  'pathology_m_stage': '0',\n  'tumor_histologic_subtype': 'clear_cell_rcc',\n  'tumor_necrosis': False,\n  'tumor_isup_grade': 2,\n  'clavien_surgical_complications': '0',\n  'er_visit': False,\n  'readmission': False,\n  'estimated_blood_loss': 50,\n  'surgery_type': 'robotic',\n  'surgical_procedure': 'radical_nephrectomy',\n  'surgical_approach': 'Transperitoneal',\n  'operative_time': 209,\n  'cytoreductive': False,\n  'positive_resection_margins': False,\n  'last_preop_egfr': {'value': 69.0, 'days_before_nephrectomy': 11},\n  'first_postop_egfr': {'value': 41.0, 'days_before_nephrectomy': 97},\n  'last_postop_egfr': {'value': 42.0, 'days_before_nephrectomy': 458},\n  'vital_status': 'censored',\n  'vital_days_after_surgery': '458',\n  'voxel_spacing': {'x_spacing': 0.85546875,\n   'y_spacing': 0.85546875,\n   'z_spacing': 3.0}},\n {'case_id': 'case_00220',\n  'age_at_nephrectomy': 59,\n  'gender': 'male',\n  'body_mass_index': 33.45,\n  'comorbidities': {'myocardial_infarction': False,\n   'congestive_heart_failure': False,\n   'peripheral_vascular_disease': False,\n   'cerebrovascular_disease': False,\n   'dementia': False,\n   'copd': False,\n   'connective_tissue_disease': False,\n   'peptic_ulcer_disease': False,\n   'uncomplicated_diabetes_mellitus': False,\n   'diabetes_mellitus_with_end_organ_damage': False,\n   'chronic_kidney_disease': False,\n   'hemiplegia_from_stroke': False,\n   'leukemia': False,\n   'malignant_lymphoma': False,\n   'localized_solid_tumor': False,\n   'metastatic_solid_tumor': False,\n   'mild_liver_disease': False,\n   'moderate_to_severe_liver_disease': False,\n   'aids': False},\n  'smoking_history': 'previous_smoker',\n  'age_when_quit_smoking': None,\n  'pack_years': None,\n  'chewing_tobacco_use': 'quit_in_last_3mo',\n  'alcohol_use': 'two_or_less_daily',\n  'intraoperative_complications': {'blood_transfusion': False,\n   'injury_to_surrounding_organ': False,\n   'cardiac_event': False},\n  'hospitalization': 1,\n  'ischemia_time': 22,\n  'radiographic_size': 3.4,\n  'pathologic_size': 3.5,\n  'malignant': True,\n  'pathology_t_stage': '1a',\n  'pathology_n_stage': 'X',\n  'pathology_m_stage': 'X',\n  'tumor_histologic_subtype': 'clear_cell_rcc',\n  'tumor_necrosis': False,\n  'tumor_isup_grade': 2,\n  'clavien_surgical_complications': '0',\n  'er_visit': False,\n  'readmission': False,\n  'estimated_blood_loss': 300,\n  'surgery_type': 'robotic',\n  'surgical_procedure': 'partial_nephrectomy',\n  'surgical_approach': 'Transperitoneal',\n  'operative_time': 239,\n  'cytoreductive': False,\n  'positive_resection_margins': False,\n  'last_preop_egfr': {'value': None, 'days_before_nephrectomy': None},\n  'first_postop_egfr': {'value': 62.0, 'days_before_nephrectomy': 191},\n  'last_postop_egfr': {'value': 62.0, 'days_before_nephrectomy': 191},\n  'vital_status': 'censored',\n  'vital_days_after_surgery': '191',\n  'voxel_spacing': {'x_spacing': 0.78125,\n   'y_spacing': 0.78125,\n   'z_spacing': 3.0}},\n {'case_id': 'case_00221',\n  'age_at_nephrectomy': 85,\n  'gender': 'male',\n  'body_mass_index': 21.75,\n  'comorbidities': {'myocardial_infarction': False,\n   'congestive_heart_failure': False,\n   'peripheral_vascular_disease': False,\n   'cerebrovascular_disease': False,\n   'dementia': False,\n   'copd': False,\n   'connective_tissue_disease': False,\n   'peptic_ulcer_disease': False,\n   'uncomplicated_diabetes_mellitus': False,\n   'diabetes_mellitus_with_end_organ_damage': False,\n   'chronic_kidney_disease': False,\n   'hemiplegia_from_stroke': False,\n   'leukemia': False,\n   'malignant_lymphoma': False,\n   'localized_solid_tumor': False,\n   'metastatic_solid_tumor': False,\n   'mild_liver_disease': False,\n   'moderate_to_severe_liver_disease': False,\n   'aids': False},\n  'smoking_history': 'previous_smoker',\n  'age_when_quit_smoking': '70',\n  'pack_years': None,\n  'chewing_tobacco_use': 'never_or_not_in_last_3mo',\n  'alcohol_use': 'two_or_less_daily',\n  'intraoperative_complications': {'blood_transfusion': False,\n   'injury_to_surrounding_organ': False,\n   'cardiac_event': False},\n  'hospitalization': 9,\n  'ischemia_time': 'not_applicable',\n  'radiographic_size': 10.0,\n  'pathologic_size': 12.6,\n  'malignant': True,\n  'pathology_t_stage': '2b',\n  'pathology_n_stage': 'X',\n  'pathology_m_stage': '1',\n  'tumor_histologic_subtype': 'clear_cell_rcc',\n  'tumor_necrosis': False,\n  'tumor_isup_grade': 3,\n  'clavien_surgical_complications': '0',\n  'er_visit': False,\n  'readmission': False,\n  'estimated_blood_loss': 250,\n  'surgery_type': 'open',\n  'surgical_procedure': 'radical_nephrectomy',\n  'surgical_approach': 'Transperitoneal',\n  'operative_time': 143,\n  'cytoreductive': True,\n  'positive_resection_margins': False,\n  'last_preop_egfr': {'value': '>=90', 'days_before_nephrectomy': 39},\n  'first_postop_egfr': {'value': 71.0, 'days_before_nephrectomy': 112},\n  'last_postop_egfr': {'value': 71.0, 'days_before_nephrectomy': 112},\n  'vital_status': 'censored',\n  'vital_days_after_surgery': '176',\n  'voxel_spacing': {'x_spacing': 0.755859375,\n   'y_spacing': 0.755859375,\n   'z_spacing': 5.0}},\n {'case_id': 'case_00222',\n  'age_at_nephrectomy': 57,\n  'gender': 'female',\n  'body_mass_index': 28.29,\n  'comorbidities': {'myocardial_infarction': False,\n   'congestive_heart_failure': True,\n   'peripheral_vascular_disease': True,\n   'cerebrovascular_disease': True,\n   'dementia': False,\n   'copd': True,\n   'connective_tissue_disease': False,\n   'peptic_ulcer_disease': False,\n   'uncomplicated_diabetes_mellitus': True,\n   'diabetes_mellitus_with_end_organ_damage': False,\n   'chronic_kidney_disease': False,\n   'hemiplegia_from_stroke': False,\n   'leukemia': False,\n   'malignant_lymphoma': False,\n   'localized_solid_tumor': False,\n   'metastatic_solid_tumor': False,\n   'mild_liver_disease': False,\n   'moderate_to_severe_liver_disease': False,\n   'aids': False},\n  'smoking_history': 'previous_smoker',\n  'age_when_quit_smoking': '56',\n  'pack_years': '35',\n  'chewing_tobacco_use': 'never_or_not_in_last_3mo',\n  'alcohol_use': 'never_or_not_in_last_3mo',\n  'intraoperative_complications': {'blood_transfusion': False,\n   'injury_to_surrounding_organ': False,\n   'cardiac_event': False},\n  'hospitalization': 0,\n  'ischemia_time': 0,\n  'radiographic_size': 6.3,\n  'pathologic_size': 6.5,\n  'malignant': True,\n  'pathology_t_stage': '3',\n  'pathology_n_stage': 'X',\n  'pathology_m_stage': '0',\n  'tumor_histologic_subtype': 'chromophobe',\n  'tumor_necrosis': False,\n  'tumor_isup_grade': None,\n  'clavien_surgical_complications': '0',\n  'er_visit': False,\n  'readmission': False,\n  'estimated_blood_loss': 50,\n  'surgery_type': 'laparoscopic',\n  'surgical_procedure': 'partial_nephrectomy',\n  'surgical_approach': 'Transperitoneal',\n  'operative_time': 141,\n  'cytoreductive': False,\n  'positive_resection_margins': False,\n  'last_preop_egfr': {'value': '>=90', 'days_before_nephrectomy': 14},\n  'first_postop_egfr': {'value': 40.0, 'days_before_nephrectomy': 100},\n  'last_postop_egfr': {'value': 55.0, 'days_before_nephrectomy': 219},\n  'vital_status': 'censored',\n  'vital_days_after_surgery': '219',\n  'voxel_spacing': {'x_spacing': 0.7421875,\n   'y_spacing': 0.7421875,\n   'z_spacing': 5.0}},\n {'case_id': 'case_00223',\n  'age_at_nephrectomy': 64,\n  'gender': 'male',\n  'body_mass_index': 33.96,\n  'comorbidities': {'myocardial_infarction': False,\n   'congestive_heart_failure': False,\n   'peripheral_vascular_disease': False,\n   'cerebrovascular_disease': False,\n   'dementia': False,\n   'copd': False,\n   'connective_tissue_disease': False,\n   'peptic_ulcer_disease': False,\n   'uncomplicated_diabetes_mellitus': False,\n   'diabetes_mellitus_with_end_organ_damage': False,\n   'chronic_kidney_disease': False,\n   'hemiplegia_from_stroke': False,\n   'leukemia': False,\n   'malignant_lymphoma': False,\n   'localized_solid_tumor': False,\n   'metastatic_solid_tumor': False,\n   'mild_liver_disease': False,\n   'moderate_to_severe_liver_disease': False,\n   'aids': False},\n  'smoking_history': 'current_smoker',\n  'age_when_quit_smoking': 'not_applicable',\n  'pack_years': None,\n  'chewing_tobacco_use': 'never_or_not_in_last_3mo',\n  'alcohol_use': 'two_or_less_daily',\n  'intraoperative_complications': {'blood_transfusion': False,\n   'injury_to_surrounding_organ': False,\n   'cardiac_event': False},\n  'hospitalization': 5,\n  'ischemia_time': 'not_applicable',\n  'radiographic_size': 12.0,\n  'pathologic_size': 12.5,\n  'malignant': True,\n  'pathology_t_stage': '3',\n  'pathology_n_stage': 'X',\n  'pathology_m_stage': 'X',\n  'tumor_histologic_subtype': 'papillary',\n  'tumor_necrosis': True,\n  'tumor_isup_grade': 4,\n  'clavien_surgical_complications': '5',\n  'er_visit': None,\n  'readmission': None,\n  'estimated_blood_loss': 150,\n  'surgery_type': 'laparoscopic',\n  'surgical_procedure': 'radical_nephrectomy',\n  'surgical_approach': 'Transperitoneal',\n  'operative_time': 337,\n  'cytoreductive': False,\n  'positive_resection_margins': True,\n  'last_preop_egfr': {'value': 70.0, 'days_before_nephrectomy': 22},\n  'first_postop_egfr': {'value': None, 'days_before_nephrectomy': None},\n  'last_postop_egfr': {'value': None, 'days_before_nephrectomy': None},\n  'vital_status': 'dead',\n  'vital_days_after_surgery': '39',\n  'voxel_spacing': {'x_spacing': 0.94921875,\n   'y_spacing': 0.94921875,\n   'z_spacing': 3.0}},\n {'case_id': 'case_00224',\n  'age_at_nephrectomy': 50,\n  'gender': 'male',\n  'body_mass_index': 27.58,\n  'comorbidities': {'myocardial_infarction': False,\n   'congestive_heart_failure': False,\n   'peripheral_vascular_disease': False,\n   'cerebrovascular_disease': False,\n   'dementia': False,\n   'copd': False,\n   'connective_tissue_disease': False,\n   'peptic_ulcer_disease': False,\n   'uncomplicated_diabetes_mellitus': False,\n   'diabetes_mellitus_with_end_organ_damage': False,\n   'chronic_kidney_disease': False,\n   'hemiplegia_from_stroke': False,\n   'leukemia': False,\n   'malignant_lymphoma': False,\n   'localized_solid_tumor': False,\n   'metastatic_solid_tumor': False,\n   'mild_liver_disease': False,\n   'moderate_to_severe_liver_disease': False,\n   'aids': False},\n  'smoking_history': 'previous_smoker',\n  'age_when_quit_smoking': None,\n  'pack_years': None,\n  'chewing_tobacco_use': 'never_or_not_in_last_3mo',\n  'alcohol_use': 'two_or_less_daily',\n  'intraoperative_complications': {'blood_transfusion': False,\n   'injury_to_surrounding_organ': False,\n   'cardiac_event': False},\n  'hospitalization': 4,\n  'ischemia_time': 'not_applicable',\n  'radiographic_size': 8.1,\n  'pathologic_size': 9.1,\n  'malignant': True,\n  'pathology_t_stage': '4',\n  'pathology_n_stage': '1',\n  'pathology_m_stage': '1',\n  'tumor_histologic_subtype': 'clear_cell_rcc',\n  'tumor_necrosis': False,\n  'tumor_isup_grade': 4,\n  'clavien_surgical_complications': '0',\n  'er_visit': False,\n  'readmission': False,\n  'estimated_blood_loss': 1000,\n  'surgery_type': 'open',\n  'surgical_procedure': 'radical_nephrectomy',\n  'surgical_approach': 'Transperitoneal',\n  'operative_time': 152,\n  'cytoreductive': False,\n  'positive_resection_margins': True,\n  'last_preop_egfr': {'value': 75.0, 'days_before_nephrectomy': 13},\n  'first_postop_egfr': {'value': 47.0, 'days_before_nephrectomy': 106},\n  'last_postop_egfr': {'value': 54.0, 'days_before_nephrectomy': 253},\n  'vital_status': 'censored',\n  'vital_days_after_surgery': '255',\n  'voxel_spacing': {'x_spacing': 0.861328125,\n   'y_spacing': 0.861328125,\n   'z_spacing': 5.0}},\n {'case_id': 'case_00225',\n  'age_at_nephrectomy': 59,\n  'gender': 'male',\n  'body_mass_index': 40.18,\n  'comorbidities': {'myocardial_infarction': False,\n   'congestive_heart_failure': False,\n   'peripheral_vascular_disease': False,\n   'cerebrovascular_disease': False,\n   'dementia': False,\n   'copd': False,\n   'connective_tissue_disease': False,\n   'peptic_ulcer_disease': False,\n   'uncomplicated_diabetes_mellitus': False,\n   'diabetes_mellitus_with_end_organ_damage': False,\n   'chronic_kidney_disease': False,\n   'hemiplegia_from_stroke': False,\n   'leukemia': False,\n   'malignant_lymphoma': False,\n   'localized_solid_tumor': False,\n   'metastatic_solid_tumor': False,\n   'mild_liver_disease': False,\n   'moderate_to_severe_liver_disease': False,\n   'aids': False},\n  'smoking_history': 'never_smoked',\n  'age_when_quit_smoking': 'not_applicable',\n  'pack_years': 0,\n  'chewing_tobacco_use': 'never_or_not_in_last_3mo',\n  'alcohol_use': 'never_or_not_in_last_3mo',\n  'intraoperative_complications': {'blood_transfusion': False,\n   'injury_to_surrounding_organ': False,\n   'cardiac_event': False},\n  'hospitalization': 1,\n  'ischemia_time': 13,\n  'radiographic_size': 3.4,\n  'pathologic_size': 2.8,\n  'malignant': False,\n  'pathology_t_stage': '0',\n  'pathology_n_stage': 'X',\n  'pathology_m_stage': 'X',\n  'tumor_histologic_subtype': 'oncocytoma',\n  'tumor_necrosis': None,\n  'tumor_isup_grade': None,\n  'clavien_surgical_complications': '2',\n  'er_visit': True,\n  'readmission': False,\n  'estimated_blood_loss': 100,\n  'surgery_type': 'robotic',\n  'surgical_procedure': 'partial_nephrectomy',\n  'surgical_approach': 'Transperitoneal',\n  'operative_time': 158,\n  'cytoreductive': False,\n  'positive_resection_margins': False,\n  'last_preop_egfr': {'value': 75.0, 'days_before_nephrectomy': 17},\n  'first_postop_egfr': {'value': 77.0, 'days_before_nephrectomy': 430},\n  'last_postop_egfr': {'value': 77.0, 'days_before_nephrectomy': 430},\n  'vital_status': 'censored',\n  'vital_days_after_surgery': '444',\n  'voxel_spacing': {'x_spacing': 0.80078125,\n   'y_spacing': 0.80078125,\n   'z_spacing': 5.0}},\n {'case_id': 'case_00226',\n  'age_at_nephrectomy': 55,\n  'gender': 'female',\n  'body_mass_index': 35.0,\n  'comorbidities': {'myocardial_infarction': False,\n   'congestive_heart_failure': False,\n   'peripheral_vascular_disease': False,\n   'cerebrovascular_disease': False,\n   'dementia': False,\n   'copd': False,\n   'connective_tissue_disease': False,\n   'peptic_ulcer_disease': False,\n   'uncomplicated_diabetes_mellitus': False,\n   'diabetes_mellitus_with_end_organ_damage': False,\n   'chronic_kidney_disease': False,\n   'hemiplegia_from_stroke': False,\n   'leukemia': False,\n   'malignant_lymphoma': False,\n   'localized_solid_tumor': False,\n   'metastatic_solid_tumor': False,\n   'mild_liver_disease': False,\n   'moderate_to_severe_liver_disease': False,\n   'aids': False},\n  'smoking_history': 'previous_smoker',\n  'age_when_quit_smoking': '55',\n  'pack_years': None,\n  'chewing_tobacco_use': 'never_or_not_in_last_3mo',\n  'alcohol_use': '',\n  'intraoperative_complications': {'blood_transfusion': False,\n   'injury_to_surrounding_organ': False,\n   'cardiac_event': False},\n  'hospitalization': 1,\n  'ischemia_time': 12,\n  'radiographic_size': 2.5,\n  'pathologic_size': 2.6,\n  'malignant': True,\n  'pathology_t_stage': '1a',\n  'pathology_n_stage': 'X',\n  'pathology_m_stage': 'X',\n  'tumor_histologic_subtype': 'clear_cell_rcc',\n  'tumor_necrosis': False,\n  'tumor_isup_grade': 1,\n  'clavien_surgical_complications': '0',\n  'er_visit': False,\n  'readmission': False,\n  'estimated_blood_loss': 50,\n  'surgery_type': 'robotic',\n  'surgical_procedure': 'partial_nephrectomy',\n  'surgical_approach': 'Transperitoneal',\n  'operative_time': 119,\n  'cytoreductive': False,\n  'positive_resection_margins': False,\n  'last_preop_egfr': {'value': None, 'days_before_nephrectomy': None},\n  'first_postop_egfr': {'value': None, 'days_before_nephrectomy': None},\n  'last_postop_egfr': {'value': None, 'days_before_nephrectomy': None},\n  'vital_status': 'censored',\n  'vital_days_after_surgery': '15',\n  'voxel_spacing': {'x_spacing': 0.9375,\n   'y_spacing': 0.9375,\n   'z_spacing': 3.0}},\n {'case_id': 'case_00227',\n  'age_at_nephrectomy': 59,\n  'gender': 'male',\n  'body_mass_index': 36.02,\n  'comorbidities': {'myocardial_infarction': False,\n   'congestive_heart_failure': False,\n   'peripheral_vascular_disease': False,\n   'cerebrovascular_disease': False,\n   'dementia': False,\n   'copd': False,\n   'connective_tissue_disease': False,\n   'peptic_ulcer_disease': False,\n   'uncomplicated_diabetes_mellitus': True,\n   'diabetes_mellitus_with_end_organ_damage': False,\n   'chronic_kidney_disease': False,\n   'hemiplegia_from_stroke': False,\n   'leukemia': False,\n   'malignant_lymphoma': False,\n   'localized_solid_tumor': False,\n   'metastatic_solid_tumor': False,\n   'mild_liver_disease': False,\n   'moderate_to_severe_liver_disease': False,\n   'aids': False},\n  'smoking_history': 'current_smoker',\n  'age_when_quit_smoking': 'not_applicable',\n  'pack_years': None,\n  'chewing_tobacco_use': 'never_or_not_in_last_3mo',\n  'alcohol_use': 'never_or_not_in_last_3mo',\n  'intraoperative_complications': {'blood_transfusion': False,\n   'injury_to_surrounding_organ': False,\n   'cardiac_event': False},\n  'hospitalization': 1,\n  'ischemia_time': 11,\n  'radiographic_size': 3.0,\n  'pathologic_size': 3.6,\n  'malignant': True,\n  'pathology_t_stage': '1a',\n  'pathology_n_stage': 'X',\n  'pathology_m_stage': 'X',\n  'tumor_histologic_subtype': 'clear_cell_rcc',\n  'tumor_necrosis': False,\n  'tumor_isup_grade': 2,\n  'clavien_surgical_complications': '0',\n  'er_visit': False,\n  'readmission': False,\n  'estimated_blood_loss': 400,\n  'surgery_type': 'robotic',\n  'surgical_procedure': 'partial_nephrectomy',\n  'surgical_approach': 'Retroperitoneal',\n  'operative_time': 200,\n  'cytoreductive': False,\n  'positive_resection_margins': False,\n  'last_preop_egfr': {'value': 74.0, 'days_before_nephrectomy': 14},\n  'first_postop_egfr': {'value': 57.0, 'days_before_nephrectomy': 233},\n  'last_postop_egfr': {'value': 57.0, 'days_before_nephrectomy': 233},\n  'vital_status': 'censored',\n  'vital_days_after_surgery': '233',\n  'voxel_spacing': {'x_spacing': 0.869140625,\n   'y_spacing': 0.869140625,\n   'z_spacing': 3.0}},\n {'case_id': 'case_00228',\n  'age_at_nephrectomy': 52,\n  'gender': 'male',\n  'body_mass_index': 27.22,\n  'comorbidities': {'myocardial_infarction': False,\n   'congestive_heart_failure': False,\n   'peripheral_vascular_disease': False,\n   'cerebrovascular_disease': False,\n   'dementia': False,\n   'copd': False,\n   'connective_tissue_disease': False,\n   'peptic_ulcer_disease': False,\n   'uncomplicated_diabetes_mellitus': False,\n   'diabetes_mellitus_with_end_organ_damage': False,\n   'chronic_kidney_disease': False,\n   'hemiplegia_from_stroke': False,\n   'leukemia': False,\n   'malignant_lymphoma': False,\n   'localized_solid_tumor': False,\n   'metastatic_solid_tumor': False,\n   'mild_liver_disease': False,\n   'moderate_to_severe_liver_disease': False,\n   'aids': False},\n  'smoking_history': 'previous_smoker',\n  'age_when_quit_smoking': '42',\n  'pack_years': None,\n  'chewing_tobacco_use': 'never_or_not_in_last_3mo',\n  'alcohol_use': 'never_or_not_in_last_3mo',\n  'intraoperative_complications': {'blood_transfusion': False,\n   'injury_to_surrounding_organ': False,\n   'cardiac_event': False},\n  'hospitalization': 3,\n  'ischemia_time': 23,\n  'radiographic_size': 10.2,\n  'pathologic_size': 10.2,\n  'malignant': True,\n  'pathology_t_stage': '2b',\n  'pathology_n_stage': 'X',\n  'pathology_m_stage': 'X',\n  'tumor_histologic_subtype': 'clear_cell_papillary_rcc',\n  'tumor_necrosis': False,\n  'tumor_isup_grade': 2,\n  'clavien_surgical_complications': '0',\n  'er_visit': False,\n  'readmission': True,\n  'estimated_blood_loss': 450,\n  'surgery_type': 'robotic',\n  'surgical_procedure': 'partial_nephrectomy',\n  'surgical_approach': 'Transperitoneal',\n  'operative_time': 337,\n  'cytoreductive': False,\n  'positive_resection_margins': False,\n  'last_preop_egfr': {'value': 84.0, 'days_before_nephrectomy': 8},\n  'first_postop_egfr': {'value': 53.0, 'days_before_nephrectomy': 118},\n  'last_postop_egfr': {'value': 63.0, 'days_before_nephrectomy': 531},\n  'vital_status': 'censored',\n  'vital_days_after_surgery': '531',\n  'voxel_spacing': {'x_spacing': 0.7409999966621399,\n   'y_spacing': 0.7409999966621399,\n   'z_spacing': 5.0}},\n {'case_id': 'case_00229',\n  'age_at_nephrectomy': 53,\n  'gender': 'female',\n  'body_mass_index': 28.31,\n  'comorbidities': {'myocardial_infarction': False,\n   'congestive_heart_failure': False,\n   'peripheral_vascular_disease': False,\n   'cerebrovascular_disease': False,\n   'dementia': False,\n   'copd': False,\n   'connective_tissue_disease': False,\n   'peptic_ulcer_disease': False,\n   'uncomplicated_diabetes_mellitus': False,\n   'diabetes_mellitus_with_end_organ_damage': False,\n   'chronic_kidney_disease': False,\n   'hemiplegia_from_stroke': False,\n   'leukemia': False,\n   'malignant_lymphoma': False,\n   'localized_solid_tumor': False,\n   'metastatic_solid_tumor': False,\n   'mild_liver_disease': False,\n   'moderate_to_severe_liver_disease': False,\n   'aids': False},\n  'smoking_history': 'never_smoked',\n  'age_when_quit_smoking': 'not_applicable',\n  'pack_years': 0,\n  'chewing_tobacco_use': 'never_or_not_in_last_3mo',\n  'alcohol_use': 'never_or_not_in_last_3mo',\n  'intraoperative_complications': {'blood_transfusion': False,\n   'injury_to_surrounding_organ': False,\n   'cardiac_event': False},\n  'hospitalization': 1,\n  'ischemia_time': 11,\n  'radiographic_size': 2.2,\n  'pathologic_size': 2.1,\n  'malignant': True,\n  'pathology_t_stage': '1a',\n  'pathology_n_stage': 'X',\n  'pathology_m_stage': 'X',\n  'tumor_histologic_subtype': 'clear_cell_rcc',\n  'tumor_necrosis': False,\n  'tumor_isup_grade': 2,\n  'clavien_surgical_complications': '0',\n  'er_visit': False,\n  'readmission': False,\n  'estimated_blood_loss': 100,\n  'surgery_type': 'robotic',\n  'surgical_procedure': 'partial_nephrectomy',\n  'surgical_approach': 'Retroperitoneal',\n  'operative_time': 162,\n  'cytoreductive': False,\n  'positive_resection_margins': False,\n  'last_preop_egfr': {'value': 78.0, 'days_before_nephrectomy': 13},\n  'first_postop_egfr': {'value': 87.0, 'days_before_nephrectomy': 198},\n  'last_postop_egfr': {'value': 87.0, 'days_before_nephrectomy': 198},\n  'vital_status': 'censored',\n  'vital_days_after_surgery': '285',\n  'voxel_spacing': {'x_spacing': 0.76171875,\n   'y_spacing': 0.76171875,\n   'z_spacing': 1.0}},\n {'case_id': 'case_00230',\n  'age_at_nephrectomy': 70,\n  'gender': 'female',\n  'body_mass_index': 22.99,\n  'comorbidities': {'myocardial_infarction': False,\n   'congestive_heart_failure': False,\n   'peripheral_vascular_disease': False,\n   'cerebrovascular_disease': False,\n   'dementia': False,\n   'copd': False,\n   'connective_tissue_disease': False,\n   'peptic_ulcer_disease': False,\n   'uncomplicated_diabetes_mellitus': False,\n   'diabetes_mellitus_with_end_organ_damage': False,\n   'chronic_kidney_disease': False,\n   'hemiplegia_from_stroke': False,\n   'leukemia': False,\n   'malignant_lymphoma': False,\n   'localized_solid_tumor': True,\n   'metastatic_solid_tumor': False,\n   'mild_liver_disease': False,\n   'moderate_to_severe_liver_disease': False,\n   'aids': False},\n  'smoking_history': 'current_smoker',\n  'age_when_quit_smoking': 'not_applicable',\n  'pack_years': None,\n  'chewing_tobacco_use': 'never_or_not_in_last_3mo',\n  'alcohol_use': 'two_or_less_daily',\n  'intraoperative_complications': {'blood_transfusion': False,\n   'injury_to_surrounding_organ': False,\n   'cardiac_event': False},\n  'hospitalization': 1,\n  'ischemia_time': 'not_applicable',\n  'radiographic_size': 4.8,\n  'pathologic_size': 4.5,\n  'malignant': True,\n  'pathology_t_stage': '1b',\n  'pathology_n_stage': 'X',\n  'pathology_m_stage': 'X',\n  'tumor_histologic_subtype': 'clear_cell_rcc',\n  'tumor_necrosis': False,\n  'tumor_isup_grade': 3,\n  'clavien_surgical_complications': '2',\n  'er_visit': True,\n  'readmission': False,\n  'estimated_blood_loss': 40,\n  'surgery_type': 'laparoscopic',\n  'surgical_procedure': 'radical_nephrectomy',\n  'surgical_approach': 'Transperitoneal',\n  'operative_time': 171,\n  'cytoreductive': False,\n  'positive_resection_margins': False,\n  'last_preop_egfr': {'value': '>=90', 'days_before_nephrectomy': 11},\n  'first_postop_egfr': {'value': 55.0, 'days_before_nephrectomy': 203},\n  'last_postop_egfr': {'value': 55.0, 'days_before_nephrectomy': 203},\n  'vital_status': 'censored',\n  'vital_days_after_surgery': '285',\n  'voxel_spacing': {'x_spacing': 0.64453125,\n   'y_spacing': 0.64453125,\n   'z_spacing': 5.0}},\n {'case_id': 'case_00231',\n  'age_at_nephrectomy': 56,\n  'gender': 'male',\n  'body_mass_index': 36.72,\n  'comorbidities': {'myocardial_infarction': False,\n   'congestive_heart_failure': False,\n   'peripheral_vascular_disease': False,\n   'cerebrovascular_disease': False,\n   'dementia': False,\n   'copd': False,\n   'connective_tissue_disease': False,\n   'peptic_ulcer_disease': False,\n   'uncomplicated_diabetes_mellitus': False,\n   'diabetes_mellitus_with_end_organ_damage': False,\n   'chronic_kidney_disease': False,\n   'hemiplegia_from_stroke': False,\n   'leukemia': False,\n   'malignant_lymphoma': False,\n   'localized_solid_tumor': False,\n   'metastatic_solid_tumor': False,\n   'mild_liver_disease': False,\n   'moderate_to_severe_liver_disease': False,\n   'aids': False},\n  'smoking_history': 'previous_smoker',\n  'age_when_quit_smoking': '24',\n  'pack_years': None,\n  'chewing_tobacco_use': 'never_or_not_in_last_3mo',\n  'alcohol_use': 'never_or_not_in_last_3mo',\n  'intraoperative_complications': {'blood_transfusion': False,\n   'injury_to_surrounding_organ': False,\n   'cardiac_event': False},\n  'hospitalization': 2,\n  'ischemia_time': 18,\n  'radiographic_size': 2.2,\n  'pathologic_size': 2.3,\n  'malignant': True,\n  'pathology_t_stage': '1a',\n  'pathology_n_stage': 'X',\n  'pathology_m_stage': '0',\n  'tumor_histologic_subtype': 'clear_cell_rcc',\n  'tumor_necrosis': False,\n  'tumor_isup_grade': 3,\n  'clavien_surgical_complications': '1',\n  'er_visit': True,\n  'readmission': False,\n  'estimated_blood_loss': 280,\n  'surgery_type': 'robotic',\n  'surgical_procedure': 'partial_nephrectomy',\n  'surgical_approach': 'Transperitoneal',\n  'operative_time': 205,\n  'cytoreductive': False,\n  'positive_resection_margins': False,\n  'last_preop_egfr': {'value': 81.0, 'days_before_nephrectomy': 4},\n  'first_postop_egfr': {'value': 69.0, 'days_before_nephrectomy': 289},\n  'last_postop_egfr': {'value': 69.0, 'days_before_nephrectomy': 289},\n  'vital_status': 'censored',\n  'vital_days_after_surgery': '289',\n  'voxel_spacing': {'x_spacing': 0.921875,\n   'y_spacing': 0.921875,\n   'z_spacing': 3.0}},\n {'case_id': 'case_00232',\n  'age_at_nephrectomy': 26,\n  'gender': 'male',\n  'body_mass_index': 30.93,\n  'comorbidities': {'myocardial_infarction': False,\n   'congestive_heart_failure': False,\n   'peripheral_vascular_disease': False,\n   'cerebrovascular_disease': False,\n   'dementia': False,\n   'copd': False,\n   'connective_tissue_disease': False,\n   'peptic_ulcer_disease': False,\n   'uncomplicated_diabetes_mellitus': False,\n   'diabetes_mellitus_with_end_organ_damage': False,\n   'chronic_kidney_disease': False,\n   'hemiplegia_from_stroke': False,\n   'leukemia': False,\n   'malignant_lymphoma': False,\n   'localized_solid_tumor': False,\n   'metastatic_solid_tumor': False,\n   'mild_liver_disease': False,\n   'moderate_to_severe_liver_disease': False,\n   'aids': False},\n  'smoking_history': 'previous_smoker',\n  'age_when_quit_smoking': None,\n  'pack_years': None,\n  'chewing_tobacco_use': 'never_or_not_in_last_3mo',\n  'alcohol_use': 'two_or_less_daily',\n  'intraoperative_complications': {'blood_transfusion': False,\n   'injury_to_surrounding_organ': False,\n   'cardiac_event': False},\n  'hospitalization': 1,\n  'ischemia_time': 'not_applicable',\n  'radiographic_size': 4.4,\n  'pathologic_size': 4.5,\n  'malignant': True,\n  'pathology_t_stage': '1b',\n  'pathology_n_stage': 'X',\n  'pathology_m_stage': 'X',\n  'tumor_histologic_subtype': 'clear_cell_rcc',\n  'tumor_necrosis': False,\n  'tumor_isup_grade': 2,\n  'clavien_surgical_complications': '0',\n  'er_visit': False,\n  'readmission': False,\n  'estimated_blood_loss': 50,\n  'surgery_type': 'robotic',\n  'surgical_procedure': 'radical_nephrectomy',\n  'surgical_approach': 'Transperitoneal',\n  'operative_time': 221,\n  'cytoreductive': False,\n  'positive_resection_margins': False,\n  'last_preop_egfr': {'value': '>=90', 'days_before_nephrectomy': 1},\n  'first_postop_egfr': {'value': 82.0, 'days_before_nephrectomy': 110},\n  'last_postop_egfr': {'value': 82.0, 'days_before_nephrectomy': 110},\n  'vital_status': 'censored',\n  'vital_days_after_surgery': '195',\n  'voxel_spacing': {'x_spacing': 0.8203125,\n   'y_spacing': 0.8203125,\n   'z_spacing': 5.0}},\n {'case_id': 'case_00233',\n  'age_at_nephrectomy': 73,\n  'gender': 'male',\n  'body_mass_index': 30.71,\n  'comorbidities': {'myocardial_infarction': False,\n   'congestive_heart_failure': False,\n   'peripheral_vascular_disease': False,\n   'cerebrovascular_disease': False,\n   'dementia': False,\n   'copd': False,\n   'connective_tissue_disease': False,\n   'peptic_ulcer_disease': False,\n   'uncomplicated_diabetes_mellitus': True,\n   'diabetes_mellitus_with_end_organ_damage': False,\n   'chronic_kidney_disease': False,\n   'hemiplegia_from_stroke': False,\n   'leukemia': False,\n   'malignant_lymphoma': False,\n   'localized_solid_tumor': False,\n   'metastatic_solid_tumor': False,\n   'mild_liver_disease': False,\n   'moderate_to_severe_liver_disease': False,\n   'aids': False},\n  'smoking_history': 'previous_smoker',\n  'age_when_quit_smoking': '23',\n  'pack_years': None,\n  'chewing_tobacco_use': 'never_or_not_in_last_3mo',\n  'alcohol_use': 'never_or_not_in_last_3mo',\n  'intraoperative_complications': {'blood_transfusion': False,\n   'injury_to_surrounding_organ': False,\n   'cardiac_event': False},\n  'hospitalization': 5,\n  'ischemia_time': 'not_applicable',\n  'radiographic_size': 15.9,\n  'pathologic_size': 13.5,\n  'malignant': True,\n  'pathology_t_stage': '3',\n  'pathology_n_stage': '0',\n  'pathology_m_stage': '1',\n  'tumor_histologic_subtype': 'clear_cell_rcc',\n  'tumor_necrosis': True,\n  'tumor_isup_grade': 3,\n  'clavien_surgical_complications': '0',\n  'er_visit': False,\n  'readmission': False,\n  'estimated_blood_loss': 500,\n  'surgery_type': 'open',\n  'surgical_procedure': 'radical_nephrectomy',\n  'surgical_approach': 'Transperitoneal',\n  'operative_time': 284,\n  'cytoreductive': True,\n  'positive_resection_margins': False,\n  'last_preop_egfr': {'value': '>=90', 'days_before_nephrectomy': 5},\n  'first_postop_egfr': {'value': 37.0, 'days_before_nephrectomy': 78},\n  'last_postop_egfr': {'value': 50.0, 'days_before_nephrectomy': 548},\n  'vital_status': 'censored',\n  'vital_days_after_surgery': '554',\n  'voxel_spacing': {'x_spacing': 0.7409999966621399,\n   'y_spacing': 0.7409999966621399,\n   'z_spacing': 5.0}},\n {'case_id': 'case_00234',\n  'age_at_nephrectomy': 57,\n  'gender': 'male',\n  'body_mass_index': 30.02,\n  'comorbidities': {'myocardial_infarction': False,\n   'congestive_heart_failure': False,\n   'peripheral_vascular_disease': False,\n   'cerebrovascular_disease': False,\n   'dementia': False,\n   'copd': False,\n   'connective_tissue_disease': False,\n   'peptic_ulcer_disease': False,\n   'uncomplicated_diabetes_mellitus': False,\n   'diabetes_mellitus_with_end_organ_damage': False,\n   'chronic_kidney_disease': False,\n   'hemiplegia_from_stroke': False,\n   'leukemia': False,\n   'malignant_lymphoma': False,\n   'localized_solid_tumor': False,\n   'metastatic_solid_tumor': False,\n   'mild_liver_disease': False,\n   'moderate_to_severe_liver_disease': False,\n   'aids': False},\n  'smoking_history': 'never_smoked',\n  'age_when_quit_smoking': 'not_applicable',\n  'pack_years': 0,\n  'chewing_tobacco_use': 'never_or_not_in_last_3mo',\n  'alcohol_use': 'two_or_less_daily',\n  'intraoperative_complications': {'blood_transfusion': False,\n   'injury_to_surrounding_organ': False,\n   'cardiac_event': False},\n  'hospitalization': 1,\n  'ischemia_time': 16,\n  'radiographic_size': 2.0,\n  'pathologic_size': 2.5,\n  'malignant': True,\n  'pathology_t_stage': '1a',\n  'pathology_n_stage': 'X',\n  'pathology_m_stage': 'X',\n  'tumor_histologic_subtype': 'clear_cell_papillary_rcc',\n  'tumor_necrosis': False,\n  'tumor_isup_grade': 2,\n  'clavien_surgical_complications': '0',\n  'er_visit': False,\n  'readmission': False,\n  'estimated_blood_loss': 10,\n  'surgery_type': 'robotic',\n  'surgical_procedure': 'partial_nephrectomy',\n  'surgical_approach': 'Transperitoneal',\n  'operative_time': 110,\n  'cytoreductive': False,\n  'positive_resection_margins': False,\n  'last_preop_egfr': {'value': 77.0, 'days_before_nephrectomy': 4},\n  'first_postop_egfr': {'value': 69.0, 'days_before_nephrectomy': 187},\n  'last_postop_egfr': {'value': 69.0, 'days_before_nephrectomy': 187},\n  'vital_status': 'censored',\n  'vital_days_after_surgery': '256',\n  'voxel_spacing': {'x_spacing': 0.685546875,\n   'y_spacing': 0.685546875,\n   'z_spacing': 3.0}},\n {'case_id': 'case_00235',\n  'age_at_nephrectomy': 53,\n  'gender': 'male',\n  'body_mass_index': 37.31,\n  'comorbidities': {'myocardial_infarction': False,\n   'congestive_heart_failure': False,\n   'peripheral_vascular_disease': False,\n   'cerebrovascular_disease': False,\n   'dementia': False,\n   'copd': False,\n   'connective_tissue_disease': False,\n   'peptic_ulcer_disease': False,\n   'uncomplicated_diabetes_mellitus': True,\n   'diabetes_mellitus_with_end_organ_damage': False,\n   'chronic_kidney_disease': False,\n   'hemiplegia_from_stroke': False,\n   'leukemia': False,\n   'malignant_lymphoma': False,\n   'localized_solid_tumor': False,\n   'metastatic_solid_tumor': False,\n   'mild_liver_disease': False,\n   'moderate_to_severe_liver_disease': False,\n   'aids': False},\n  'smoking_history': 'never_smoked',\n  'age_when_quit_smoking': 'not_applicable',\n  'pack_years': 0,\n  'chewing_tobacco_use': 'quit_in_last_3mo',\n  'alcohol_use': '',\n  'intraoperative_complications': {'blood_transfusion': False,\n   'injury_to_surrounding_organ': False,\n   'cardiac_event': False},\n  'hospitalization': 1,\n  'ischemia_time': 23,\n  'radiographic_size': 4.3,\n  'pathologic_size': 3.0,\n  'malignant': True,\n  'pathology_t_stage': '1a',\n  'pathology_n_stage': 'X',\n  'pathology_m_stage': '0',\n  'tumor_histologic_subtype': 'clear_cell_rcc',\n  'tumor_necrosis': False,\n  'tumor_isup_grade': 2,\n  'clavien_surgical_complications': '0',\n  'er_visit': False,\n  'readmission': False,\n  'estimated_blood_loss': 154,\n  'surgery_type': 'robotic',\n  'surgical_procedure': 'partial_nephrectomy',\n  'surgical_approach': 'Trans_to_Retro',\n  'operative_time': 198,\n  'cytoreductive': False,\n  'positive_resection_margins': False,\n  'last_preop_egfr': {'value': None, 'days_before_nephrectomy': None},\n  'first_postop_egfr': {'value': '>=90', 'days_before_nephrectomy': 198},\n  'last_postop_egfr': {'value': '>=90', 'days_before_nephrectomy': 198},\n  'vital_status': 'censored',\n  'vital_days_after_surgery': '198',\n  'voxel_spacing': {'x_spacing': 0.78125,\n   'y_spacing': 0.78125,\n   'z_spacing': 3.0}},\n {'case_id': 'case_00236',\n  'age_at_nephrectomy': 58,\n  'gender': 'female',\n  'body_mass_index': 47.3,\n  'comorbidities': {'myocardial_infarction': False,\n   'congestive_heart_failure': False,\n   'peripheral_vascular_disease': False,\n   'cerebrovascular_disease': False,\n   'dementia': False,\n   'copd': False,\n   'connective_tissue_disease': False,\n   'peptic_ulcer_disease': False,\n   'uncomplicated_diabetes_mellitus': True,\n   'diabetes_mellitus_with_end_organ_damage': False,\n   'chronic_kidney_disease': True,\n   'hemiplegia_from_stroke': False,\n   'leukemia': False,\n   'malignant_lymphoma': False,\n   'localized_solid_tumor': False,\n   'metastatic_solid_tumor': False,\n   'mild_liver_disease': False,\n   'moderate_to_severe_liver_disease': False,\n   'aids': False},\n  'smoking_history': 'previous_smoker',\n  'age_when_quit_smoking': '30',\n  'pack_years': '15',\n  'chewing_tobacco_use': 'never_or_not_in_last_3mo',\n  'alcohol_use': 'never_or_not_in_last_3mo',\n  'intraoperative_complications': {'blood_transfusion': False,\n   'injury_to_surrounding_organ': False,\n   'cardiac_event': False},\n  'hospitalization': 4,\n  'ischemia_time': 'not_applicable',\n  'radiographic_size': 10.6,\n  'pathologic_size': 11.1,\n  'malignant': True,\n  'pathology_t_stage': '3',\n  'pathology_n_stage': 'X',\n  'pathology_m_stage': 'X',\n  'tumor_histologic_subtype': 'clear_cell_rcc',\n  'tumor_necrosis': True,\n  'tumor_isup_grade': 4,\n  'clavien_surgical_complications': '0',\n  'er_visit': True,\n  'readmission': False,\n  'estimated_blood_loss': 50,\n  'surgery_type': 'laparoscopic',\n  'surgical_procedure': 'radical_nephrectomy',\n  'surgical_approach': 'Retroperitoneal',\n  'operative_time': 139,\n  'cytoreductive': True,\n  'positive_resection_margins': False,\n  'last_preop_egfr': {'value': 56.0, 'days_before_nephrectomy': 2},\n  'first_postop_egfr': {'value': None, 'days_before_nephrectomy': None},\n  'last_postop_egfr': {'value': None, 'days_before_nephrectomy': None},\n  'vital_status': 'censored',\n  'vital_days_after_surgery': '48',\n  'voxel_spacing': {'x_spacing': 0.921875,\n   'y_spacing': 0.921875,\n   'z_spacing': 5.0}},\n {'case_id': 'case_00237',\n  'age_at_nephrectomy': 45,\n  'gender': 'female',\n  'body_mass_index': 23.35,\n  'comorbidities': {'myocardial_infarction': False,\n   'congestive_heart_failure': False,\n   'peripheral_vascular_disease': False,\n   'cerebrovascular_disease': False,\n   'dementia': False,\n   'copd': False,\n   'connective_tissue_disease': False,\n   'peptic_ulcer_disease': False,\n   'uncomplicated_diabetes_mellitus': False,\n   'diabetes_mellitus_with_end_organ_damage': False,\n   'chronic_kidney_disease': False,\n   'hemiplegia_from_stroke': False,\n   'leukemia': False,\n   'malignant_lymphoma': False,\n   'localized_solid_tumor': False,\n   'metastatic_solid_tumor': False,\n   'mild_liver_disease': False,\n   'moderate_to_severe_liver_disease': False,\n   'aids': False},\n  'smoking_history': 'never_smoked',\n  'age_when_quit_smoking': 'not_applicable',\n  'pack_years': 0,\n  'chewing_tobacco_use': 'never_or_not_in_last_3mo',\n  'alcohol_use': 'two_or_less_daily',\n  'intraoperative_complications': {'blood_transfusion': False,\n   'injury_to_surrounding_organ': False,\n   'cardiac_event': False},\n  'hospitalization': 1,\n  'ischemia_time': 'not_applicable',\n  'radiographic_size': 6.1,\n  'pathologic_size': 7.5,\n  'malignant': True,\n  'pathology_t_stage': '3',\n  'pathology_n_stage': 'X',\n  'pathology_m_stage': 'X',\n  'tumor_histologic_subtype': 'urothelial',\n  'tumor_necrosis': False,\n  'tumor_isup_grade': None,\n  'clavien_surgical_complications': '0',\n  'er_visit': False,\n  'readmission': False,\n  'estimated_blood_loss': 150,\n  'surgery_type': 'laparoscopic',\n  'surgical_procedure': 'radical_nephrectomy',\n  'surgical_approach': 'Transperitoneal',\n  'operative_time': 286,\n  'cytoreductive': False,\n  'positive_resection_margins': False,\n  'last_preop_egfr': {'value': None, 'days_before_nephrectomy': None},\n  'first_postop_egfr': {'value': None, 'days_before_nephrectomy': None},\n  'last_postop_egfr': {'value': None, 'days_before_nephrectomy': None},\n  'vital_status': 'censored',\n  'vital_days_after_surgery': '0',\n  'voxel_spacing': {'x_spacing': 0.7773439884185791,\n   'y_spacing': 0.7773439884185791,\n   'z_spacing': 2.5}},\n {'case_id': 'case_00238',\n  'age_at_nephrectomy': 73,\n  'gender': 'male',\n  'body_mass_index': 32.98,\n  'comorbidities': {'myocardial_infarction': False,\n   'congestive_heart_failure': False,\n   'peripheral_vascular_disease': False,\n   'cerebrovascular_disease': False,\n   'dementia': False,\n   'copd': False,\n   'connective_tissue_disease': False,\n   'peptic_ulcer_disease': False,\n   'uncomplicated_diabetes_mellitus': False,\n   'diabetes_mellitus_with_end_organ_damage': False,\n   'chronic_kidney_disease': False,\n   'hemiplegia_from_stroke': False,\n   'leukemia': False,\n   'malignant_lymphoma': False,\n   'localized_solid_tumor': False,\n   'metastatic_solid_tumor': False,\n   'mild_liver_disease': False,\n   'moderate_to_severe_liver_disease': False,\n   'aids': False},\n  'smoking_history': 'never_smoked',\n  'age_when_quit_smoking': 'not_applicable',\n  'pack_years': 0,\n  'chewing_tobacco_use': 'never_or_not_in_last_3mo',\n  'alcohol_use': 'two_or_less_daily',\n  'intraoperative_complications': {'blood_transfusion': False,\n   'injury_to_surrounding_organ': False,\n   'cardiac_event': False},\n  'hospitalization': 1,\n  'ischemia_time': 16,\n  'radiographic_size': 2.1,\n  'pathologic_size': 2.6,\n  'malignant': False,\n  'pathology_t_stage': '0',\n  'pathology_n_stage': 'X',\n  'pathology_m_stage': '0',\n  'tumor_histologic_subtype': 'oncocytoma',\n  'tumor_necrosis': None,\n  'tumor_isup_grade': None,\n  'clavien_surgical_complications': '0',\n  'er_visit': True,\n  'readmission': False,\n  'estimated_blood_loss': 500,\n  'surgery_type': 'robotic',\n  'surgical_procedure': 'partial_nephrectomy',\n  'surgical_approach': 'Transperitoneal',\n  'operative_time': 267,\n  'cytoreductive': False,\n  'positive_resection_margins': False,\n  'last_preop_egfr': {'value': 55.0, 'days_before_nephrectomy': 1},\n  'first_postop_egfr': {'value': 60.0, 'days_before_nephrectomy': 255},\n  'last_postop_egfr': {'value': 60.0, 'days_before_nephrectomy': 255},\n  'vital_status': 'censored',\n  'vital_days_after_surgery': '258',\n  'voxel_spacing': {'x_spacing': 0.80078125,\n   'y_spacing': 0.80078125,\n   'z_spacing': 5.0}},\n {'case_id': 'case_00239',\n  'age_at_nephrectomy': 65,\n  'gender': 'male',\n  'body_mass_index': 32.06,\n  'comorbidities': {'myocardial_infarction': False,\n   'congestive_heart_failure': False,\n   'peripheral_vascular_disease': False,\n   'cerebrovascular_disease': False,\n   'dementia': False,\n   'copd': False,\n   'connective_tissue_disease': False,\n   'peptic_ulcer_disease': False,\n   'uncomplicated_diabetes_mellitus': False,\n   'diabetes_mellitus_with_end_organ_damage': False,\n   'chronic_kidney_disease': False,\n   'hemiplegia_from_stroke': False,\n   'leukemia': False,\n   'malignant_lymphoma': False,\n   'localized_solid_tumor': False,\n   'metastatic_solid_tumor': False,\n   'mild_liver_disease': False,\n   'moderate_to_severe_liver_disease': False,\n   'aids': False},\n  'smoking_history': 'current_smoker',\n  'age_when_quit_smoking': 'not_applicable',\n  'pack_years': '63',\n  'chewing_tobacco_use': 'never_or_not_in_last_3mo',\n  'alcohol_use': 'two_or_less_daily',\n  'intraoperative_complications': {'blood_transfusion': False,\n   'injury_to_surrounding_organ': False,\n   'cardiac_event': False},\n  'hospitalization': 1,\n  'ischemia_time': 19,\n  'radiographic_size': 3.0,\n  'pathologic_size': 2.5,\n  'malignant': True,\n  'pathology_t_stage': '3',\n  'pathology_n_stage': 'X',\n  'pathology_m_stage': '1',\n  'tumor_histologic_subtype': 'clear_cell_rcc',\n  'tumor_necrosis': False,\n  'tumor_isup_grade': 2,\n  'clavien_surgical_complications': '0',\n  'er_visit': False,\n  'readmission': False,\n  'estimated_blood_loss': 75,\n  'surgery_type': 'robotic',\n  'surgical_procedure': 'partial_nephrectomy',\n  'surgical_approach': 'Transperitoneal',\n  'operative_time': 200,\n  'cytoreductive': False,\n  'positive_resection_margins': False,\n  'last_preop_egfr': {'value': '>=90', 'days_before_nephrectomy': 1},\n  'first_postop_egfr': {'value': 85.0, 'days_before_nephrectomy': 105},\n  'last_postop_egfr': {'value': 85.0, 'days_before_nephrectomy': 105},\n  'vital_status': 'censored',\n  'vital_days_after_surgery': '454',\n  'voxel_spacing': {'x_spacing': 0.8203125,\n   'y_spacing': 0.8203125,\n   'z_spacing': 5.0}},\n {'case_id': 'case_00240',\n  'age_at_nephrectomy': 44,\n  'gender': 'female',\n  'body_mass_index': 30.02,\n  'comorbidities': {'myocardial_infarction': False,\n   'congestive_heart_failure': False,\n   'peripheral_vascular_disease': False,\n   'cerebrovascular_disease': False,\n   'dementia': False,\n   'copd': False,\n   'connective_tissue_disease': False,\n   'peptic_ulcer_disease': False,\n   'uncomplicated_diabetes_mellitus': False,\n   'diabetes_mellitus_with_end_organ_damage': False,\n   'chronic_kidney_disease': False,\n   'hemiplegia_from_stroke': False,\n   'leukemia': False,\n   'malignant_lymphoma': False,\n   'localized_solid_tumor': False,\n   'metastatic_solid_tumor': False,\n   'mild_liver_disease': False,\n   'moderate_to_severe_liver_disease': False,\n   'aids': False},\n  'smoking_history': 'never_smoked',\n  'age_when_quit_smoking': 'not_applicable',\n  'pack_years': 0,\n  'chewing_tobacco_use': 'never_or_not_in_last_3mo',\n  'alcohol_use': '',\n  'intraoperative_complications': {'blood_transfusion': False,\n   'injury_to_surrounding_organ': False,\n   'cardiac_event': False},\n  'hospitalization': 1,\n  'ischemia_time': 0,\n  'radiographic_size': 2.7,\n  'pathologic_size': 2.9,\n  'malignant': True,\n  'pathology_t_stage': '1a',\n  'pathology_n_stage': 'X',\n  'pathology_m_stage': '0',\n  'tumor_histologic_subtype': 'chromophobe',\n  'tumor_necrosis': False,\n  'tumor_isup_grade': 1,\n  'clavien_surgical_complications': '0',\n  'er_visit': False,\n  'readmission': False,\n  'estimated_blood_loss': 50,\n  'surgery_type': 'robotic',\n  'surgical_procedure': 'partial_nephrectomy',\n  'surgical_approach': 'Retroperitoneal',\n  'operative_time': 162,\n  'cytoreductive': False,\n  'positive_resection_margins': False,\n  'last_preop_egfr': {'value': 79.0, 'days_before_nephrectomy': 40},\n  'first_postop_egfr': {'value': None, 'days_before_nephrectomy': None},\n  'last_postop_egfr': {'value': None, 'days_before_nephrectomy': None},\n  'vital_status': 'censored',\n  'vital_days_after_surgery': '198',\n  'voxel_spacing': {'x_spacing': 0.703125,\n   'y_spacing': 0.703125,\n   'z_spacing': 2.5}},\n {'case_id': 'case_00241',\n  'age_at_nephrectomy': 47,\n  'gender': 'male',\n  'body_mass_index': 39.94,\n  'comorbidities': {'myocardial_infarction': False,\n   'congestive_heart_failure': False,\n   'peripheral_vascular_disease': False,\n   'cerebrovascular_disease': False,\n   'dementia': False,\n   'copd': False,\n   'connective_tissue_disease': False,\n   'peptic_ulcer_disease': False,\n   'uncomplicated_diabetes_mellitus': False,\n   'diabetes_mellitus_with_end_organ_damage': False,\n   'chronic_kidney_disease': False,\n   'hemiplegia_from_stroke': False,\n   'leukemia': False,\n   'malignant_lymphoma': False,\n   'localized_solid_tumor': True,\n   'metastatic_solid_tumor': False,\n   'mild_liver_disease': False,\n   'moderate_to_severe_liver_disease': False,\n   'aids': False},\n  'smoking_history': 'previous_smoker',\n  'age_when_quit_smoking': None,\n  'pack_years': None,\n  'chewing_tobacco_use': 'never_or_not_in_last_3mo',\n  'alcohol_use': 'quit_in_last_3mo',\n  'intraoperative_complications': {'blood_transfusion': False,\n   'injury_to_surrounding_organ': False,\n   'cardiac_event': False},\n  'hospitalization': 0,\n  'ischemia_time': 'not_applicable',\n  'radiographic_size': 5.9,\n  'pathologic_size': 5.16,\n  'malignant': True,\n  'pathology_t_stage': '1b',\n  'pathology_n_stage': '0',\n  'pathology_m_stage': '0',\n  'tumor_histologic_subtype': 'clear_cell_rcc',\n  'tumor_necrosis': True,\n  'tumor_isup_grade': 3,\n  'clavien_surgical_complications': '0',\n  'er_visit': False,\n  'readmission': False,\n  'estimated_blood_loss': 100,\n  'surgery_type': 'laparoscopic',\n  'surgical_procedure': 'radical_nephrectomy',\n  'surgical_approach': 'Transperitoneal',\n  'operative_time': 218,\n  'cytoreductive': False,\n  'positive_resection_margins': False,\n  'last_preop_egfr': {'value': 85.0, 'days_before_nephrectomy': 7},\n  'first_postop_egfr': {'value': 47.0, 'days_before_nephrectomy': 177},\n  'last_postop_egfr': {'value': 54.0, 'days_before_nephrectomy': 209},\n  'vital_status': 'censored',\n  'vital_days_after_surgery': '338',\n  'voxel_spacing': {'x_spacing': 0.826171875,\n   'y_spacing': 0.826171875,\n   'z_spacing': 5.0}},\n {'case_id': 'case_00242',\n  'age_at_nephrectomy': 84,\n  'gender': 'male',\n  'body_mass_index': 26.31,\n  'comorbidities': {'myocardial_infarction': False,\n   'congestive_heart_failure': False,\n   'peripheral_vascular_disease': False,\n   'cerebrovascular_disease': False,\n   'dementia': False,\n   'copd': False,\n   'connective_tissue_disease': False,\n   'peptic_ulcer_disease': False,\n   'uncomplicated_diabetes_mellitus': False,\n   'diabetes_mellitus_with_end_organ_damage': False,\n   'chronic_kidney_disease': True,\n   'hemiplegia_from_stroke': False,\n   'leukemia': False,\n   'malignant_lymphoma': False,\n   'localized_solid_tumor': False,\n   'metastatic_solid_tumor': False,\n   'mild_liver_disease': False,\n   'moderate_to_severe_liver_disease': False,\n   'aids': False},\n  'smoking_history': 'previous_smoker',\n  'age_when_quit_smoking': '28',\n  'pack_years': None,\n  'chewing_tobacco_use': 'never_or_not_in_last_3mo',\n  'alcohol_use': 'two_or_less_daily',\n  'intraoperative_complications': {'blood_transfusion': False,\n   'injury_to_surrounding_organ': False,\n   'cardiac_event': False},\n  'hospitalization': 3,\n  'ischemia_time': 'not_applicable',\n  'radiographic_size': 5.7,\n  'pathologic_size': 5.5,\n  'malignant': True,\n  'pathology_t_stage': '1b',\n  'pathology_n_stage': 'X',\n  'pathology_m_stage': '0',\n  'tumor_histologic_subtype': 'clear_cell_rcc',\n  'tumor_necrosis': False,\n  'tumor_isup_grade': 2,\n  'clavien_surgical_complications': '0',\n  'er_visit': False,\n  'readmission': False,\n  'estimated_blood_loss': 100,\n  'surgery_type': 'robotic',\n  'surgical_procedure': 'radical_nephrectomy',\n  'surgical_approach': 'Transperitoneal',\n  'operative_time': 90,\n  'cytoreductive': False,\n  'positive_resection_margins': False,\n  'last_preop_egfr': {'value': 70.0, 'days_before_nephrectomy': 1},\n  'first_postop_egfr': {'value': None, 'days_before_nephrectomy': None},\n  'last_postop_egfr': {'value': None, 'days_before_nephrectomy': None},\n  'vital_status': 'censored',\n  'vital_days_after_surgery': '17',\n  'voxel_spacing': {'x_spacing': 0.76171875,\n   'y_spacing': 0.76171875,\n   'z_spacing': 5.0}},\n {'case_id': 'case_00243',\n  'age_at_nephrectomy': 57,\n  'gender': 'male',\n  'body_mass_index': 35.61,\n  'comorbidities': {'myocardial_infarction': False,\n   'congestive_heart_failure': False,\n   'peripheral_vascular_disease': False,\n   'cerebrovascular_disease': False,\n   'dementia': False,\n   'copd': False,\n   'connective_tissue_disease': False,\n   'peptic_ulcer_disease': False,\n   'uncomplicated_diabetes_mellitus': False,\n   'diabetes_mellitus_with_end_organ_damage': False,\n   'chronic_kidney_disease': False,\n   'hemiplegia_from_stroke': False,\n   'leukemia': False,\n   'malignant_lymphoma': False,\n   'localized_solid_tumor': False,\n   'metastatic_solid_tumor': False,\n   'mild_liver_disease': False,\n   'moderate_to_severe_liver_disease': False,\n   'aids': False},\n  'smoking_history': 'never_smoked',\n  'age_when_quit_smoking': 'not_applicable',\n  'pack_years': 0,\n  'chewing_tobacco_use': 'never_or_not_in_last_3mo',\n  'alcohol_use': 'two_or_less_daily',\n  'intraoperative_complications': {'blood_transfusion': False,\n   'injury_to_surrounding_organ': False,\n   'cardiac_event': False},\n  'hospitalization': 2,\n  'ischemia_time': 44,\n  'radiographic_size': 4.5,\n  'pathologic_size': 4.5,\n  'malignant': True,\n  'pathology_t_stage': '1b',\n  'pathology_n_stage': 'X',\n  'pathology_m_stage': 'X',\n  'tumor_histologic_subtype': 'clear_cell_rcc',\n  'tumor_necrosis': None,\n  'tumor_isup_grade': 2,\n  'clavien_surgical_complications': '0',\n  'er_visit': True,\n  'readmission': True,\n  'estimated_blood_loss': 600,\n  'surgery_type': 'robotic',\n  'surgical_procedure': 'partial_nephrectomy',\n  'surgical_approach': 'Transperitoneal',\n  'operative_time': 272,\n  'cytoreductive': False,\n  'positive_resection_margins': False,\n  'last_preop_egfr': {'value': 84.0, 'days_before_nephrectomy': 23},\n  'first_postop_egfr': {'value': '>=90', 'days_before_nephrectomy': 371},\n  'last_postop_egfr': {'value': '>=90', 'days_before_nephrectomy': 371},\n  'vital_status': 'censored',\n  'vital_days_after_surgery': '390',\n  'voxel_spacing': {'x_spacing': 0.873046875,\n   'y_spacing': 0.873046875,\n   'z_spacing': 5.0}},\n {'case_id': 'case_00244',\n  'age_at_nephrectomy': 63,\n  'gender': 'male',\n  'body_mass_index': 26.55,\n  'comorbidities': {'myocardial_infarction': False,\n   'congestive_heart_failure': False,\n   'peripheral_vascular_disease': False,\n   'cerebrovascular_disease': False,\n   'dementia': False,\n   'copd': False,\n   'connective_tissue_disease': False,\n   'peptic_ulcer_disease': False,\n   'uncomplicated_diabetes_mellitus': False,\n   'diabetes_mellitus_with_end_organ_damage': False,\n   'chronic_kidney_disease': False,\n   'hemiplegia_from_stroke': False,\n   'leukemia': False,\n   'malignant_lymphoma': False,\n   'localized_solid_tumor': True,\n   'metastatic_solid_tumor': False,\n   'mild_liver_disease': False,\n   'moderate_to_severe_liver_disease': False,\n   'aids': False},\n  'smoking_history': 'never_smoked',\n  'age_when_quit_smoking': 'not_applicable',\n  'pack_years': 0,\n  'chewing_tobacco_use': 'never_or_not_in_last_3mo',\n  'alcohol_use': 'more_than_two_daily',\n  'intraoperative_complications': {'blood_transfusion': False,\n   'injury_to_surrounding_organ': False,\n   'cardiac_event': False},\n  'hospitalization': 0,\n  'ischemia_time': 22,\n  'radiographic_size': 2.5,\n  'pathologic_size': 4.9,\n  'malignant': True,\n  'pathology_t_stage': '1b',\n  'pathology_n_stage': '0',\n  'pathology_m_stage': '0',\n  'tumor_histologic_subtype': 'papillary',\n  'tumor_necrosis': True,\n  'tumor_isup_grade': None,\n  'clavien_surgical_complications': '0',\n  'er_visit': False,\n  'readmission': False,\n  'estimated_blood_loss': 200,\n  'surgery_type': 'robotic',\n  'surgical_procedure': 'partial_nephrectomy',\n  'surgical_approach': 'Retroperitoneal',\n  'operative_time': 205,\n  'cytoreductive': False,\n  'positive_resection_margins': False,\n  'last_preop_egfr': {'value': '>=90', 'days_before_nephrectomy': 67},\n  'first_postop_egfr': {'value': 83.0, 'days_before_nephrectomy': 149},\n  'last_postop_egfr': {'value': 85.0, 'days_before_nephrectomy': 443},\n  'vital_status': 'censored',\n  'vital_days_after_surgery': '443',\n  'voxel_spacing': {'x_spacing': 0.703125,\n   'y_spacing': 0.703125,\n   'z_spacing': 2.0}},\n {'case_id': 'case_00245',\n  'age_at_nephrectomy': 53,\n  'gender': 'female',\n  'body_mass_index': 55.39,\n  'comorbidities': {'myocardial_infarction': False,\n   'congestive_heart_failure': False,\n   'peripheral_vascular_disease': False,\n   'cerebrovascular_disease': False,\n   'dementia': False,\n   'copd': False,\n   'connective_tissue_disease': False,\n   'peptic_ulcer_disease': False,\n   'uncomplicated_diabetes_mellitus': False,\n   'diabetes_mellitus_with_end_organ_damage': False,\n   'chronic_kidney_disease': False,\n   'hemiplegia_from_stroke': False,\n   'leukemia': False,\n   'malignant_lymphoma': False,\n   'localized_solid_tumor': False,\n   'metastatic_solid_tumor': False,\n   'mild_liver_disease': False,\n   'moderate_to_severe_liver_disease': False,\n   'aids': False},\n  'smoking_history': 'previous_smoker',\n  'age_when_quit_smoking': '33',\n  'pack_years': None,\n  'chewing_tobacco_use': 'never_or_not_in_last_3mo',\n  'alcohol_use': '',\n  'intraoperative_complications': {'blood_transfusion': False,\n   'injury_to_surrounding_organ': False,\n   'cardiac_event': False},\n  'hospitalization': 3,\n  'ischemia_time': 'not_applicable',\n  'radiographic_size': 11.8,\n  'pathologic_size': 11.5,\n  'malignant': True,\n  'pathology_t_stage': '3',\n  'pathology_n_stage': '1',\n  'pathology_m_stage': '1',\n  'tumor_histologic_subtype': 'clear_cell_rcc',\n  'tumor_necrosis': True,\n  'tumor_isup_grade': 2,\n  'clavien_surgical_complications': '0',\n  'er_visit': False,\n  'readmission': False,\n  'estimated_blood_loss': 700,\n  'surgery_type': 'open',\n  'surgical_procedure': 'radical_nephrectomy',\n  'surgical_approach': 'Retroperitoneal',\n  'operative_time': 278,\n  'cytoreductive': True,\n  'positive_resection_margins': False,\n  'last_preop_egfr': {'value': None, 'days_before_nephrectomy': None},\n  'first_postop_egfr': {'value': None, 'days_before_nephrectomy': None},\n  'last_postop_egfr': {'value': None, 'days_before_nephrectomy': None},\n  'vital_status': 'dead',\n  'vital_days_after_surgery': '108',\n  'voxel_spacing': {'x_spacing': 0.9760000109672546,\n   'y_spacing': 0.9760000109672546,\n   'z_spacing': 3.0}},\n {'case_id': 'case_00246',\n  'age_at_nephrectomy': 67,\n  'gender': 'female',\n  'body_mass_index': 26.25,\n  'comorbidities': {'myocardial_infarction': False,\n   'congestive_heart_failure': False,\n   'peripheral_vascular_disease': False,\n   'cerebrovascular_disease': False,\n   'dementia': False,\n   'copd': False,\n   'connective_tissue_disease': False,\n   'peptic_ulcer_disease': False,\n   'uncomplicated_diabetes_mellitus': False,\n   'diabetes_mellitus_with_end_organ_damage': False,\n   'chronic_kidney_disease': False,\n   'hemiplegia_from_stroke': False,\n   'leukemia': False,\n   'malignant_lymphoma': False,\n   'localized_solid_tumor': True,\n   'metastatic_solid_tumor': False,\n   'mild_liver_disease': False,\n   'moderate_to_severe_liver_disease': False,\n   'aids': False},\n  'smoking_history': 'previous_smoker',\n  'age_when_quit_smoking': '0',\n  'pack_years': '10',\n  'chewing_tobacco_use': 'never_or_not_in_last_3mo',\n  'alcohol_use': 'never_or_not_in_last_3mo',\n  'intraoperative_complications': {'blood_transfusion': False,\n   'injury_to_surrounding_organ': False,\n   'cardiac_event': False},\n  'hospitalization': 3,\n  'ischemia_time': 'not_applicable',\n  'radiographic_size': 7.7,\n  'pathologic_size': 12.5,\n  'malignant': True,\n  'pathology_t_stage': '3',\n  'pathology_n_stage': 'X',\n  'pathology_m_stage': '1',\n  'tumor_histologic_subtype': 'clear_cell_rcc',\n  'tumor_necrosis': True,\n  'tumor_isup_grade': 4,\n  'clavien_surgical_complications': '0',\n  'er_visit': False,\n  'readmission': False,\n  'estimated_blood_loss': 100,\n  'surgery_type': 'robotic',\n  'surgical_procedure': 'radical_nephrectomy',\n  'surgical_approach': 'Transperitoneal',\n  'operative_time': 296,\n  'cytoreductive': True,\n  'positive_resection_margins': False,\n  'last_preop_egfr': {'value': 52.0, 'days_before_nephrectomy': 11},\n  'first_postop_egfr': {'value': 38.0, 'days_before_nephrectomy': 77},\n  'last_postop_egfr': {'value': 46.0, 'days_before_nephrectomy': 568},\n  'vital_status': 'censored',\n  'vital_days_after_surgery': '568',\n  'voxel_spacing': {'x_spacing': 0.7109375,\n   'y_spacing': 0.7109375,\n   'z_spacing': 1.0}},\n {'case_id': 'case_00247',\n  'age_at_nephrectomy': 85,\n  'gender': 'female',\n  'body_mass_index': 28.82,\n  'comorbidities': {'myocardial_infarction': False,\n   'congestive_heart_failure': False,\n   'peripheral_vascular_disease': False,\n   'cerebrovascular_disease': False,\n   'dementia': False,\n   'copd': False,\n   'connective_tissue_disease': False,\n   'peptic_ulcer_disease': True,\n   'uncomplicated_diabetes_mellitus': False,\n   'diabetes_mellitus_with_end_organ_damage': False,\n   'chronic_kidney_disease': True,\n   'hemiplegia_from_stroke': False,\n   'leukemia': False,\n   'malignant_lymphoma': False,\n   'localized_solid_tumor': True,\n   'metastatic_solid_tumor': False,\n   'mild_liver_disease': False,\n   'moderate_to_severe_liver_disease': False,\n   'aids': False},\n  'smoking_history': 'previous_smoker',\n  'age_when_quit_smoking': '66',\n  'pack_years': None,\n  'chewing_tobacco_use': 'never_or_not_in_last_3mo',\n  'alcohol_use': 'more_than_two_daily',\n  'intraoperative_complications': {'blood_transfusion': False,\n   'injury_to_surrounding_organ': False,\n   'cardiac_event': False},\n  'hospitalization': 0,\n  'ischemia_time': 'not_applicable',\n  'radiographic_size': 4.0,\n  'pathologic_size': 3.0,\n  'malignant': True,\n  'pathology_t_stage': '1a',\n  'pathology_n_stage': 'X',\n  'pathology_m_stage': '0',\n  'tumor_histologic_subtype': 'clear_cell_rcc',\n  'tumor_necrosis': False,\n  'tumor_isup_grade': 3,\n  'clavien_surgical_complications': '0',\n  'er_visit': True,\n  'readmission': False,\n  'estimated_blood_loss': 10,\n  'surgery_type': 'laparoscopic',\n  'surgical_procedure': 'radical_nephrectomy',\n  'surgical_approach': 'Transperitoneal',\n  'operative_time': 136,\n  'cytoreductive': False,\n  'positive_resection_margins': False,\n  'last_preop_egfr': {'value': 47.0, 'days_before_nephrectomy': 37},\n  'first_postop_egfr': {'value': None, 'days_before_nephrectomy': None},\n  'last_postop_egfr': {'value': None, 'days_before_nephrectomy': None},\n  'vital_status': 'dead',\n  'vital_days_after_surgery': '187',\n  'voxel_spacing': {'x_spacing': 0.947265625,\n   'y_spacing': 0.947265625,\n   'z_spacing': 2.0}},\n {'case_id': 'case_00248',\n  'age_at_nephrectomy': 65,\n  'gender': 'male',\n  'body_mass_index': 36.68,\n  'comorbidities': {'myocardial_infarction': False,\n   'congestive_heart_failure': False,\n   'peripheral_vascular_disease': False,\n   'cerebrovascular_disease': False,\n   'dementia': False,\n   'copd': False,\n   'connective_tissue_disease': False,\n   'peptic_ulcer_disease': False,\n   'uncomplicated_diabetes_mellitus': True,\n   'diabetes_mellitus_with_end_organ_damage': False,\n   'chronic_kidney_disease': True,\n   'hemiplegia_from_stroke': False,\n   'leukemia': False,\n   'malignant_lymphoma': False,\n   'localized_solid_tumor': False,\n   'metastatic_solid_tumor': True,\n   'mild_liver_disease': False,\n   'moderate_to_severe_liver_disease': False,\n   'aids': False},\n  'smoking_history': 'previous_smoker',\n  'age_when_quit_smoking': '20',\n  'pack_years': None,\n  'chewing_tobacco_use': 'never_or_not_in_last_3mo',\n  'alcohol_use': 'two_or_less_daily',\n  'intraoperative_complications': {'blood_transfusion': True,\n   'injury_to_surrounding_organ': False,\n   'cardiac_event': False},\n  'hospitalization': 15,\n  'ischemia_time': 'not_applicable',\n  'radiographic_size': 10.0,\n  'pathologic_size': 4.4,\n  'malignant': True,\n  'pathology_t_stage': '3',\n  'pathology_n_stage': '1',\n  'pathology_m_stage': '1',\n  'tumor_histologic_subtype': 'clear_cell_rcc',\n  'tumor_necrosis': True,\n  'tumor_isup_grade': 4,\n  'clavien_surgical_complications': '0',\n  'er_visit': False,\n  'readmission': True,\n  'estimated_blood_loss': 2000,\n  'surgery_type': 'open',\n  'surgical_procedure': 'radical_nephrectomy',\n  'surgical_approach': 'Retroperitoneal',\n  'operative_time': 356,\n  'cytoreductive': True,\n  'positive_resection_margins': False,\n  'last_preop_egfr': {'value': 48.0, 'days_before_nephrectomy': 36},\n  'first_postop_egfr': {'value': None, 'days_before_nephrectomy': None},\n  'last_postop_egfr': {'value': None, 'days_before_nephrectomy': None},\n  'vital_status': 'dead',\n  'vital_days_after_surgery': '94',\n  'voxel_spacing': {'x_spacing': 0.9765625,\n   'y_spacing': 0.9765625,\n   'z_spacing': 5.0}},\n {'case_id': 'case_00249',\n  'age_at_nephrectomy': 50,\n  'gender': 'male',\n  'body_mass_index': 25.6,\n  'comorbidities': {'myocardial_infarction': False,\n   'congestive_heart_failure': False,\n   'peripheral_vascular_disease': False,\n   'cerebrovascular_disease': False,\n   'dementia': False,\n   'copd': False,\n   'connective_tissue_disease': False,\n   'peptic_ulcer_disease': False,\n   'uncomplicated_diabetes_mellitus': False,\n   'diabetes_mellitus_with_end_organ_damage': False,\n   'chronic_kidney_disease': False,\n   'hemiplegia_from_stroke': False,\n   'leukemia': False,\n   'malignant_lymphoma': False,\n   'localized_solid_tumor': False,\n   'metastatic_solid_tumor': False,\n   'mild_liver_disease': False,\n   'moderate_to_severe_liver_disease': False,\n   'aids': False},\n  'smoking_history': 'previous_smoker',\n  'age_when_quit_smoking': '29',\n  'pack_years': None,\n  'chewing_tobacco_use': 'never_or_not_in_last_3mo',\n  'alcohol_use': 'two_or_less_daily',\n  'intraoperative_complications': {'blood_transfusion': False,\n   'injury_to_surrounding_organ': False,\n   'cardiac_event': False},\n  'hospitalization': 1,\n  'ischemia_time': None,\n  'radiographic_size': 9.4,\n  'pathologic_size': 7.5,\n  'malignant': True,\n  'pathology_t_stage': '3',\n  'pathology_n_stage': '0',\n  'pathology_m_stage': '0',\n  'tumor_histologic_subtype': 'clear_cell_papillary_rcc',\n  'tumor_necrosis': True,\n  'tumor_isup_grade': 3,\n  'clavien_surgical_complications': '0',\n  'er_visit': False,\n  'readmission': False,\n  'estimated_blood_loss': 25,\n  'surgery_type': 'robotic',\n  'surgical_procedure': 'partial_nephrectomy',\n  'surgical_approach': 'Transperitoneal',\n  'operative_time': 140,\n  'cytoreductive': False,\n  'positive_resection_margins': False,\n  'last_preop_egfr': {'value': 71.0, 'days_before_nephrectomy': 1},\n  'first_postop_egfr': {'value': 49.0, 'days_before_nephrectomy': 100},\n  'last_postop_egfr': {'value': 49.0, 'days_before_nephrectomy': 100},\n  'vital_status': 'censored',\n  'vital_days_after_surgery': '120',\n  'voxel_spacing': {'x_spacing': 0.78515625,\n   'y_spacing': 0.78515625,\n   'z_spacing': 1.0}},\n {'case_id': 'case_00250',\n  'age_at_nephrectomy': 61,\n  'gender': 'male',\n  'body_mass_index': 29.35,\n  'comorbidities': {'myocardial_infarction': False,\n   'congestive_heart_failure': False,\n   'peripheral_vascular_disease': False,\n   'cerebrovascular_disease': False,\n   'dementia': False,\n   'copd': False,\n   'connective_tissue_disease': False,\n   'peptic_ulcer_disease': False,\n   'uncomplicated_diabetes_mellitus': True,\n   'diabetes_mellitus_with_end_organ_damage': False,\n   'chronic_kidney_disease': False,\n   'hemiplegia_from_stroke': False,\n   'leukemia': False,\n   'malignant_lymphoma': False,\n   'localized_solid_tumor': False,\n   'metastatic_solid_tumor': False,\n   'mild_liver_disease': False,\n   'moderate_to_severe_liver_disease': False,\n   'aids': False},\n  'smoking_history': 'previous_smoker',\n  'age_when_quit_smoking': None,\n  'pack_years': None,\n  'chewing_tobacco_use': 'never_or_not_in_last_3mo',\n  'alcohol_use': 'never_or_not_in_last_3mo',\n  'intraoperative_complications': {'blood_transfusion': False,\n   'injury_to_surrounding_organ': False,\n   'cardiac_event': False},\n  'hospitalization': 2,\n  'ischemia_time': 0,\n  'radiographic_size': 3.9,\n  'pathologic_size': 3.5,\n  'malignant': True,\n  'pathology_t_stage': '3',\n  'pathology_n_stage': 'X',\n  'pathology_m_stage': '0',\n  'tumor_histologic_subtype': 'chromophobe',\n  'tumor_necrosis': False,\n  'tumor_isup_grade': None,\n  'clavien_surgical_complications': '0',\n  'er_visit': False,\n  'readmission': False,\n  'estimated_blood_loss': 200,\n  'surgery_type': 'robotic',\n  'surgical_procedure': 'partial_nephrectomy',\n  'surgical_approach': 'Transperitoneal',\n  'operative_time': 249,\n  'cytoreductive': False,\n  'positive_resection_margins': False,\n  'last_preop_egfr': {'value': None, 'days_before_nephrectomy': None},\n  'first_postop_egfr': {'value': '>=90', 'days_before_nephrectomy': 108},\n  'last_postop_egfr': {'value': '>=90', 'days_before_nephrectomy': 108},\n  'vital_status': 'censored',\n  'vital_days_after_surgery': '108',\n  'voxel_spacing': {'x_spacing': 0.8223433494567871,\n   'y_spacing': 0.8223433494567871,\n   'z_spacing': 3.0}},\n {'case_id': 'case_00251',\n  'age_at_nephrectomy': 59,\n  'gender': 'male',\n  'body_mass_index': 22.9,\n  'comorbidities': {'myocardial_infarction': False,\n   'congestive_heart_failure': False,\n   'peripheral_vascular_disease': False,\n   'cerebrovascular_disease': False,\n   'dementia': False,\n   'copd': False,\n   'connective_tissue_disease': False,\n   'peptic_ulcer_disease': False,\n   'uncomplicated_diabetes_mellitus': False,\n   'diabetes_mellitus_with_end_organ_damage': False,\n   'chronic_kidney_disease': False,\n   'hemiplegia_from_stroke': False,\n   'leukemia': False,\n   'malignant_lymphoma': False,\n   'localized_solid_tumor': False,\n   'metastatic_solid_tumor': False,\n   'mild_liver_disease': False,\n   'moderate_to_severe_liver_disease': False,\n   'aids': False},\n  'smoking_history': 'current_smoker',\n  'age_when_quit_smoking': 'not_applicable',\n  'pack_years': '25',\n  'chewing_tobacco_use': 'never_or_not_in_last_3mo',\n  'alcohol_use': 'more_than_two_daily',\n  'intraoperative_complications': {'blood_transfusion': False,\n   'injury_to_surrounding_organ': False,\n   'cardiac_event': False},\n  'hospitalization': 2,\n  'ischemia_time': 0,\n  'radiographic_size': 5.1,\n  'pathologic_size': 1.7,\n  'malignant': True,\n  'pathology_t_stage': '1a',\n  'pathology_n_stage': 'X',\n  'pathology_m_stage': '0',\n  'tumor_histologic_subtype': 'clear_cell_rcc',\n  'tumor_necrosis': False,\n  'tumor_isup_grade': 3,\n  'clavien_surgical_complications': '0',\n  'er_visit': False,\n  'readmission': False,\n  'estimated_blood_loss': 350,\n  'surgery_type': 'robotic',\n  'surgical_procedure': 'partial_nephrectomy',\n  'surgical_approach': 'Transperitoneal',\n  'operative_time': 192,\n  'cytoreductive': False,\n  'positive_resection_margins': False,\n  'last_preop_egfr': {'value': 56.0, 'days_before_nephrectomy': 10},\n  'first_postop_egfr': {'value': 69.0, 'days_before_nephrectomy': 131},\n  'last_postop_egfr': {'value': 69.0, 'days_before_nephrectomy': 131},\n  'vital_status': 'censored',\n  'vital_days_after_surgery': '180',\n  'voxel_spacing': {'x_spacing': 0.6796875,\n   'y_spacing': 0.6796875,\n   'z_spacing': 5.0}},\n {'case_id': 'case_00252',\n  'age_at_nephrectomy': 65,\n  'gender': 'male',\n  'body_mass_index': 28.52,\n  'comorbidities': {'myocardial_infarction': False,\n   'congestive_heart_failure': False,\n   'peripheral_vascular_disease': False,\n   'cerebrovascular_disease': False,\n   'dementia': False,\n   'copd': False,\n   'connective_tissue_disease': False,\n   'peptic_ulcer_disease': False,\n   'uncomplicated_diabetes_mellitus': False,\n   'diabetes_mellitus_with_end_organ_damage': False,\n   'chronic_kidney_disease': False,\n   'hemiplegia_from_stroke': False,\n   'leukemia': False,\n   'malignant_lymphoma': False,\n   'localized_solid_tumor': False,\n   'metastatic_solid_tumor': False,\n   'mild_liver_disease': False,\n   'moderate_to_severe_liver_disease': False,\n   'aids': False},\n  'smoking_history': 'previous_smoker',\n  'age_when_quit_smoking': None,\n  'pack_years': None,\n  'chewing_tobacco_use': 'never_or_not_in_last_3mo',\n  'alcohol_use': 'two_or_less_daily',\n  'intraoperative_complications': {'blood_transfusion': False,\n   'injury_to_surrounding_organ': False,\n   'cardiac_event': False},\n  'hospitalization': 2,\n  'ischemia_time': 'not_applicable',\n  'radiographic_size': 10.0,\n  'pathologic_size': 8.4,\n  'malignant': True,\n  'pathology_t_stage': '3',\n  'pathology_n_stage': 'X',\n  'pathology_m_stage': '0',\n  'tumor_histologic_subtype': 'clear_cell_rcc',\n  'tumor_necrosis': False,\n  'tumor_isup_grade': 3,\n  'clavien_surgical_complications': '0',\n  'er_visit': False,\n  'readmission': False,\n  'estimated_blood_loss': 100,\n  'surgery_type': 'robotic',\n  'surgical_procedure': 'radical_nephrectomy',\n  'surgical_approach': 'Transperitoneal',\n  'operative_time': 169,\n  'cytoreductive': False,\n  'positive_resection_margins': False,\n  'last_preop_egfr': {'value': 60.0, 'days_before_nephrectomy': 5},\n  'first_postop_egfr': {'value': 38.0, 'days_before_nephrectomy': 127},\n  'last_postop_egfr': {'value': 45.0, 'days_before_nephrectomy': 267},\n  'vital_status': 'censored',\n  'vital_days_after_surgery': '267',\n  'voxel_spacing': {'x_spacing': 0.853515625,\n   'y_spacing': 0.853515625,\n   'z_spacing': 5.0}},\n {'case_id': 'case_00253',\n  'age_at_nephrectomy': 56,\n  'gender': 'female',\n  'body_mass_index': 23.23,\n  'comorbidities': {'myocardial_infarction': False,\n   'congestive_heart_failure': False,\n   'peripheral_vascular_disease': False,\n   'cerebrovascular_disease': False,\n   'dementia': False,\n   'copd': False,\n   'connective_tissue_disease': False,\n   'peptic_ulcer_disease': False,\n   'uncomplicated_diabetes_mellitus': False,\n   'diabetes_mellitus_with_end_organ_damage': False,\n   'chronic_kidney_disease': False,\n   'hemiplegia_from_stroke': False,\n   'leukemia': False,\n   'malignant_lymphoma': False,\n   'localized_solid_tumor': True,\n   'metastatic_solid_tumor': False,\n   'mild_liver_disease': False,\n   'moderate_to_severe_liver_disease': False,\n   'aids': False},\n  'smoking_history': 'never_smoked',\n  'age_when_quit_smoking': 'not_applicable',\n  'pack_years': 0,\n  'chewing_tobacco_use': 'never_or_not_in_last_3mo',\n  'alcohol_use': 'two_or_less_daily',\n  'intraoperative_complications': {'blood_transfusion': False,\n   'injury_to_surrounding_organ': False,\n   'cardiac_event': False},\n  'hospitalization': 0,\n  'ischemia_time': 17,\n  'radiographic_size': 5.7,\n  'pathologic_size': 6.5,\n  'malignant': False,\n  'pathology_t_stage': '0',\n  'pathology_n_stage': '0',\n  'pathology_m_stage': '0',\n  'tumor_histologic_subtype': 'oncocytoma',\n  'tumor_necrosis': None,\n  'tumor_isup_grade': None,\n  'clavien_surgical_complications': '0',\n  'er_visit': False,\n  'readmission': False,\n  'estimated_blood_loss': 600,\n  'surgery_type': 'robotic',\n  'surgical_procedure': 'partial_nephrectomy',\n  'surgical_approach': 'Transperitoneal',\n  'operative_time': 262,\n  'cytoreductive': False,\n  'positive_resection_margins': False,\n  'last_preop_egfr': {'value': '>=90', 'days_before_nephrectomy': 6},\n  'first_postop_egfr': {'value': 51.0, 'days_before_nephrectomy': 92},\n  'last_postop_egfr': {'value': 89.0, 'days_before_nephrectomy': 307},\n  'vital_status': 'censored',\n  'vital_days_after_surgery': '316',\n  'voxel_spacing': {'x_spacing': 0.763671875,\n   'y_spacing': 0.763671875,\n   'z_spacing': 1.0}},\n {'case_id': 'case_00254',\n  'age_at_nephrectomy': 61,\n  'gender': 'male',\n  'body_mass_index': 26.89,\n  'comorbidities': {'myocardial_infarction': False,\n   'congestive_heart_failure': False,\n   'peripheral_vascular_disease': False,\n   'cerebrovascular_disease': False,\n   'dementia': False,\n   'copd': False,\n   'connective_tissue_disease': False,\n   'peptic_ulcer_disease': False,\n   'uncomplicated_diabetes_mellitus': False,\n   'diabetes_mellitus_with_end_organ_damage': False,\n   'chronic_kidney_disease': False,\n   'hemiplegia_from_stroke': False,\n   'leukemia': False,\n   'malignant_lymphoma': False,\n   'localized_solid_tumor': False,\n   'metastatic_solid_tumor': False,\n   'mild_liver_disease': False,\n   'moderate_to_severe_liver_disease': False,\n   'aids': False},\n  'smoking_history': 'never_smoked',\n  'age_when_quit_smoking': 'not_applicable',\n  'pack_years': 0,\n  'chewing_tobacco_use': 'never_or_not_in_last_3mo',\n  'alcohol_use': 'two_or_less_daily',\n  'intraoperative_complications': {'blood_transfusion': False,\n   'injury_to_surrounding_organ': False,\n   'cardiac_event': False},\n  'hospitalization': 1,\n  'ischemia_time': 15,\n  'radiographic_size': 2.6,\n  'pathologic_size': 2.0,\n  'malignant': True,\n  'pathology_t_stage': '1a',\n  'pathology_n_stage': 'X',\n  'pathology_m_stage': '0',\n  'tumor_histologic_subtype': 'clear_cell_rcc',\n  'tumor_necrosis': False,\n  'tumor_isup_grade': 2,\n  'clavien_surgical_complications': '0',\n  'er_visit': False,\n  'readmission': False,\n  'estimated_blood_loss': 100,\n  'surgery_type': 'robotic',\n  'surgical_procedure': 'partial_nephrectomy',\n  'surgical_approach': 'Retroperitoneal',\n  'operative_time': 152,\n  'cytoreductive': False,\n  'positive_resection_margins': False,\n  'last_preop_egfr': {'value': 80.0, 'days_before_nephrectomy': 68},\n  'first_postop_egfr': {'value': '>=90', 'days_before_nephrectomy': 198},\n  'last_postop_egfr': {'value': '>=90', 'days_before_nephrectomy': 198},\n  'vital_status': 'censored',\n  'vital_days_after_surgery': '226',\n  'voxel_spacing': {'x_spacing': 0.75390625,\n   'y_spacing': 0.75390625,\n   'z_spacing': 1.0}},\n {'case_id': 'case_00255',\n  'age_at_nephrectomy': 43,\n  'gender': 'female',\n  'body_mass_index': 47.28,\n  'comorbidities': {'myocardial_infarction': False,\n   'congestive_heart_failure': False,\n   'peripheral_vascular_disease': False,\n   'cerebrovascular_disease': False,\n   'dementia': False,\n   'copd': False,\n   'connective_tissue_disease': False,\n   'peptic_ulcer_disease': False,\n   'uncomplicated_diabetes_mellitus': False,\n   'diabetes_mellitus_with_end_organ_damage': False,\n   'chronic_kidney_disease': False,\n   'hemiplegia_from_stroke': False,\n   'leukemia': False,\n   'malignant_lymphoma': False,\n   'localized_solid_tumor': False,\n   'metastatic_solid_tumor': False,\n   'mild_liver_disease': False,\n   'moderate_to_severe_liver_disease': False,\n   'aids': False},\n  'smoking_history': 'never_smoked',\n  'age_when_quit_smoking': 'not_applicable',\n  'pack_years': 0,\n  'chewing_tobacco_use': 'never_or_not_in_last_3mo',\n  'alcohol_use': 'never_or_not_in_last_3mo',\n  'intraoperative_complications': {'blood_transfusion': False,\n   'injury_to_surrounding_organ': False,\n   'cardiac_event': False},\n  'hospitalization': 3,\n  'ischemia_time': 20,\n  'radiographic_size': 4.6,\n  'pathologic_size': 4.5,\n  'malignant': True,\n  'pathology_t_stage': '1b',\n  'pathology_n_stage': '0',\n  'pathology_m_stage': '0',\n  'tumor_histologic_subtype': 'clear_cell_rcc',\n  'tumor_necrosis': False,\n  'tumor_isup_grade': 1,\n  'clavien_surgical_complications': '0',\n  'er_visit': False,\n  'readmission': False,\n  'estimated_blood_loss': 100,\n  'surgery_type': 'robotic',\n  'surgical_procedure': 'partial_nephrectomy',\n  'surgical_approach': 'Retroperitoneal',\n  'operative_time': 319,\n  'cytoreductive': False,\n  'positive_resection_margins': False,\n  'last_preop_egfr': {'value': None, 'days_before_nephrectomy': None},\n  'first_postop_egfr': {'value': '>=90', 'days_before_nephrectomy': 209},\n  'last_postop_egfr': {'value': '>=90', 'days_before_nephrectomy': 209},\n  'vital_status': 'censored',\n  'vital_days_after_surgery': '209',\n  'voxel_spacing': {'x_spacing': 0.8203120231628418,\n   'y_spacing': 0.8203120231628418,\n   'z_spacing': 2.5}},\n {'case_id': 'case_00256',\n  'age_at_nephrectomy': 69,\n  'gender': 'male',\n  'body_mass_index': 38.29,\n  'comorbidities': {'myocardial_infarction': False,\n   'congestive_heart_failure': False,\n   'peripheral_vascular_disease': False,\n   'cerebrovascular_disease': False,\n   'dementia': False,\n   'copd': False,\n   'connective_tissue_disease': False,\n   'peptic_ulcer_disease': False,\n   'uncomplicated_diabetes_mellitus': False,\n   'diabetes_mellitus_with_end_organ_damage': False,\n   'chronic_kidney_disease': False,\n   'hemiplegia_from_stroke': False,\n   'leukemia': False,\n   'malignant_lymphoma': False,\n   'localized_solid_tumor': False,\n   'metastatic_solid_tumor': False,\n   'mild_liver_disease': False,\n   'moderate_to_severe_liver_disease': False,\n   'aids': False},\n  'smoking_history': 'never_smoked',\n  'age_when_quit_smoking': 'not_applicable',\n  'pack_years': 0,\n  'chewing_tobacco_use': 'never_or_not_in_last_3mo',\n  'alcohol_use': 'never_or_not_in_last_3mo',\n  'intraoperative_complications': {'blood_transfusion': False,\n   'injury_to_surrounding_organ': False,\n   'cardiac_event': False},\n  'hospitalization': 5,\n  'ischemia_time': 23,\n  'radiographic_size': 3.2,\n  'pathologic_size': 2.6,\n  'malignant': True,\n  'pathology_t_stage': '1a',\n  'pathology_n_stage': '0',\n  'pathology_m_stage': '0',\n  'tumor_histologic_subtype': 'clear_cell_rcc',\n  'tumor_necrosis': False,\n  'tumor_isup_grade': 2,\n  'clavien_surgical_complications': '0',\n  'er_visit': False,\n  'readmission': False,\n  'estimated_blood_loss': 150,\n  'surgery_type': 'robotic',\n  'surgical_procedure': 'partial_nephrectomy',\n  'surgical_approach': 'Transperitoneal',\n  'operative_time': 193,\n  'cytoreductive': False,\n  'positive_resection_margins': False,\n  'last_preop_egfr': {'value': '>=90', 'days_before_nephrectomy': 14},\n  'first_postop_egfr': {'value': None, 'days_before_nephrectomy': None},\n  'last_postop_egfr': {'value': None, 'days_before_nephrectomy': None},\n  'vital_status': 'censored',\n  'vital_days_after_surgery': '13',\n  'voxel_spacing': {'x_spacing': 0.9042969942092896,\n   'y_spacing': 0.9042969942092896,\n   'z_spacing': 3.75}},\n {'case_id': 'case_00257',\n  'age_at_nephrectomy': 69,\n  'gender': 'female',\n  'body_mass_index': 25.3,\n  'comorbidities': {'myocardial_infarction': False,\n   'congestive_heart_failure': False,\n   'peripheral_vascular_disease': False,\n   'cerebrovascular_disease': False,\n   'dementia': False,\n   'copd': False,\n   'connective_tissue_disease': False,\n   'peptic_ulcer_disease': False,\n   'uncomplicated_diabetes_mellitus': False,\n   'diabetes_mellitus_with_end_organ_damage': False,\n   'chronic_kidney_disease': False,\n   'hemiplegia_from_stroke': False,\n   'leukemia': False,\n   'malignant_lymphoma': False,\n   'localized_solid_tumor': True,\n   'metastatic_solid_tumor': False,\n   'mild_liver_disease': False,\n   'moderate_to_severe_liver_disease': False,\n   'aids': False},\n  'smoking_history': 'previous_smoker',\n  'age_when_quit_smoking': '26',\n  'pack_years': None,\n  'chewing_tobacco_use': 'never_or_not_in_last_3mo',\n  'alcohol_use': 'two_or_less_daily',\n  'intraoperative_complications': {'blood_transfusion': False,\n   'injury_to_surrounding_organ': False,\n   'cardiac_event': False},\n  'hospitalization': 2,\n  'ischemia_time': 27,\n  'radiographic_size': 2.4,\n  'pathologic_size': 2.4,\n  'malignant': True,\n  'pathology_t_stage': '1a',\n  'pathology_n_stage': '0',\n  'pathology_m_stage': '0',\n  'tumor_histologic_subtype': 'clear_cell_rcc',\n  'tumor_necrosis': False,\n  'tumor_isup_grade': 2,\n  'clavien_surgical_complications': '0',\n  'er_visit': False,\n  'readmission': False,\n  'estimated_blood_loss': 200,\n  'surgery_type': 'robotic',\n  'surgical_procedure': 'partial_nephrectomy',\n  'surgical_approach': 'Transperitoneal',\n  'operative_time': 184,\n  'cytoreductive': False,\n  'positive_resection_margins': True,\n  'last_preop_egfr': {'value': '>=90', 'days_before_nephrectomy': 6},\n  'first_postop_egfr': {'value': '>=90', 'days_before_nephrectomy': 190},\n  'last_postop_egfr': {'value': '>=90', 'days_before_nephrectomy': 190},\n  'vital_status': 'censored',\n  'vital_days_after_surgery': '192',\n  'voxel_spacing': {'x_spacing': 0.64453125,\n   'y_spacing': 0.64453125,\n   'z_spacing': 5.0}},\n {'case_id': 'case_00258',\n  'age_at_nephrectomy': 66,\n  'gender': 'male',\n  'body_mass_index': 33.83,\n  'comorbidities': {'myocardial_infarction': False,\n   'congestive_heart_failure': False,\n   'peripheral_vascular_disease': False,\n   'cerebrovascular_disease': False,\n   'dementia': False,\n   'copd': False,\n   'connective_tissue_disease': False,\n   'peptic_ulcer_disease': False,\n   'uncomplicated_diabetes_mellitus': True,\n   'diabetes_mellitus_with_end_organ_damage': False,\n   'chronic_kidney_disease': False,\n   'hemiplegia_from_stroke': False,\n   'leukemia': False,\n   'malignant_lymphoma': False,\n   'localized_solid_tumor': False,\n   'metastatic_solid_tumor': False,\n   'mild_liver_disease': False,\n   'moderate_to_severe_liver_disease': False,\n   'aids': False},\n  'smoking_history': 'never_smoked',\n  'age_when_quit_smoking': 'not_applicable',\n  'pack_years': 0,\n  'chewing_tobacco_use': 'never_or_not_in_last_3mo',\n  'alcohol_use': 'never_or_not_in_last_3mo',\n  'intraoperative_complications': {'blood_transfusion': False,\n   'injury_to_surrounding_organ': False,\n   'cardiac_event': False},\n  'hospitalization': 1,\n  'ischemia_time': 'not_applicable',\n  'radiographic_size': 5.0,\n  'pathologic_size': 4.5,\n  'malignant': False,\n  'pathology_t_stage': '0',\n  'pathology_n_stage': '0',\n  'pathology_m_stage': '0',\n  'tumor_histologic_subtype': 'oncocytoma',\n  'tumor_necrosis': None,\n  'tumor_isup_grade': None,\n  'clavien_surgical_complications': '0',\n  'er_visit': False,\n  'readmission': False,\n  'estimated_blood_loss': 75,\n  'surgery_type': 'laparoscopic',\n  'surgical_procedure': 'radical_nephrectomy',\n  'surgical_approach': 'Transperitoneal',\n  'operative_time': 153,\n  'cytoreductive': False,\n  'positive_resection_margins': False,\n  'last_preop_egfr': {'value': None, 'days_before_nephrectomy': None},\n  'first_postop_egfr': {'value': None, 'days_before_nephrectomy': None},\n  'last_postop_egfr': {'value': None, 'days_before_nephrectomy': None},\n  'vital_status': 'censored',\n  'vital_days_after_surgery': '0',\n  'voxel_spacing': {'x_spacing': 0.7699999809265137,\n   'y_spacing': 0.7699999809265137,\n   'z_spacing': 3.0}},\n {'case_id': 'case_00259',\n  'age_at_nephrectomy': 76,\n  'gender': 'female',\n  'body_mass_index': 26.14,\n  'comorbidities': {'myocardial_infarction': False,\n   'congestive_heart_failure': False,\n   'peripheral_vascular_disease': False,\n   'cerebrovascular_disease': False,\n   'dementia': False,\n   'copd': False,\n   'connective_tissue_disease': False,\n   'peptic_ulcer_disease': False,\n   'uncomplicated_diabetes_mellitus': False,\n   'diabetes_mellitus_with_end_organ_damage': False,\n   'chronic_kidney_disease': False,\n   'hemiplegia_from_stroke': False,\n   'leukemia': False,\n   'malignant_lymphoma': False,\n   'localized_solid_tumor': True,\n   'metastatic_solid_tumor': False,\n   'mild_liver_disease': False,\n   'moderate_to_severe_liver_disease': False,\n   'aids': False},\n  'smoking_history': 'previous_smoker',\n  'age_when_quit_smoking': '71',\n  'pack_years': None,\n  'chewing_tobacco_use': 'never_or_not_in_last_3mo',\n  'alcohol_use': 'never_or_not_in_last_3mo',\n  'intraoperative_complications': {'blood_transfusion': False,\n   'injury_to_surrounding_organ': False,\n   'cardiac_event': False},\n  'hospitalization': 1,\n  'ischemia_time': 'not_applicable',\n  'radiographic_size': 4.3,\n  'pathologic_size': 4.5,\n  'malignant': True,\n  'pathology_t_stage': '1b',\n  'pathology_n_stage': '0',\n  'pathology_m_stage': '0',\n  'tumor_histologic_subtype': 'clear_cell_rcc',\n  'tumor_necrosis': False,\n  'tumor_isup_grade': 2,\n  'clavien_surgical_complications': '0',\n  'er_visit': False,\n  'readmission': False,\n  'estimated_blood_loss': 100,\n  'surgery_type': 'laparoscopic',\n  'surgical_procedure': 'radical_nephrectomy',\n  'surgical_approach': 'Transperitoneal',\n  'operative_time': 157,\n  'cytoreductive': False,\n  'positive_resection_margins': False,\n  'last_preop_egfr': {'value': 79.0, 'days_before_nephrectomy': 3},\n  'first_postop_egfr': {'value': 40.0, 'days_before_nephrectomy': 164},\n  'last_postop_egfr': {'value': 42.0, 'days_before_nephrectomy': 292},\n  'vital_status': 'censored',\n  'vital_days_after_surgery': '416',\n  'voxel_spacing': {'x_spacing': 0.77734375,\n   'y_spacing': 0.77734375,\n   'z_spacing': 5.0}},\n {'case_id': 'case_00260',\n  'age_at_nephrectomy': 71,\n  'gender': 'female',\n  'body_mass_index': 30.67,\n  'comorbidities': {'myocardial_infarction': True,\n   'congestive_heart_failure': False,\n   'peripheral_vascular_disease': False,\n   'cerebrovascular_disease': False,\n   'dementia': True,\n   'copd': False,\n   'connective_tissue_disease': False,\n   'peptic_ulcer_disease': False,\n   'uncomplicated_diabetes_mellitus': False,\n   'diabetes_mellitus_with_end_organ_damage': False,\n   'chronic_kidney_disease': False,\n   'hemiplegia_from_stroke': False,\n   'leukemia': False,\n   'malignant_lymphoma': False,\n   'localized_solid_tumor': False,\n   'metastatic_solid_tumor': False,\n   'mild_liver_disease': False,\n   'moderate_to_severe_liver_disease': False,\n   'aids': False},\n  'smoking_history': 'previous_smoker',\n  'age_when_quit_smoking': '31',\n  'pack_years': '10',\n  'chewing_tobacco_use': 'never_or_not_in_last_3mo',\n  'alcohol_use': 'two_or_less_daily',\n  'intraoperative_complications': {'blood_transfusion': False,\n   'injury_to_surrounding_organ': False,\n   'cardiac_event': False},\n  'hospitalization': 1,\n  'ischemia_time': 'not_applicable',\n  'radiographic_size': 5.2,\n  'pathologic_size': 5.2,\n  'malignant': True,\n  'pathology_t_stage': '3',\n  'pathology_n_stage': '0',\n  'pathology_m_stage': '0',\n  'tumor_histologic_subtype': 'papillary',\n  'tumor_necrosis': False,\n  'tumor_isup_grade': 3,\n  'clavien_surgical_complications': '0',\n  'er_visit': False,\n  'readmission': False,\n  'estimated_blood_loss': 250,\n  'surgery_type': 'laparoscopic',\n  'surgical_procedure': 'radical_nephrectomy',\n  'surgical_approach': 'Transperitoneal',\n  'operative_time': 452,\n  'cytoreductive': False,\n  'positive_resection_margins': False,\n  'last_preop_egfr': {'value': 70.0, 'days_before_nephrectomy': 63},\n  'first_postop_egfr': {'value': 40.0, 'days_before_nephrectomy': 97},\n  'last_postop_egfr': {'value': 40.0, 'days_before_nephrectomy': 389},\n  'vital_status': 'censored',\n  'vital_days_after_surgery': '479',\n  'voxel_spacing': {'x_spacing': 0.75, 'y_spacing': 0.75, 'z_spacing': 5.0}},\n {'case_id': 'case_00261',\n  'age_at_nephrectomy': 61,\n  'gender': 'male',\n  'body_mass_index': 25.41,\n  'comorbidities': {'myocardial_infarction': False,\n   'congestive_heart_failure': False,\n   'peripheral_vascular_disease': False,\n   'cerebrovascular_disease': False,\n   'dementia': False,\n   'copd': False,\n   'connective_tissue_disease': False,\n   'peptic_ulcer_disease': False,\n   'uncomplicated_diabetes_mellitus': False,\n   'diabetes_mellitus_with_end_organ_damage': False,\n   'chronic_kidney_disease': False,\n   'hemiplegia_from_stroke': False,\n   'leukemia': False,\n   'malignant_lymphoma': False,\n   'localized_solid_tumor': False,\n   'metastatic_solid_tumor': False,\n   'mild_liver_disease': False,\n   'moderate_to_severe_liver_disease': False,\n   'aids': False},\n  'smoking_history': 'never_smoked',\n  'age_when_quit_smoking': 'not_applicable',\n  'pack_years': 0,\n  'chewing_tobacco_use': 'never_or_not_in_last_3mo',\n  'alcohol_use': 'never_or_not_in_last_3mo',\n  'intraoperative_complications': {'blood_transfusion': False,\n   'injury_to_surrounding_organ': False,\n   'cardiac_event': False},\n  'hospitalization': 2,\n  'ischemia_time': 20,\n  'radiographic_size': 5.7,\n  'pathologic_size': 5.7,\n  'malignant': True,\n  'pathology_t_stage': '1b',\n  'pathology_n_stage': '0',\n  'pathology_m_stage': '0',\n  'tumor_histologic_subtype': 'papillary',\n  'tumor_necrosis': False,\n  'tumor_isup_grade': 3,\n  'clavien_surgical_complications': '0',\n  'er_visit': False,\n  'readmission': False,\n  'estimated_blood_loss': 150,\n  'surgery_type': 'robotic',\n  'surgical_procedure': 'partial_nephrectomy',\n  'surgical_approach': 'Transperitoneal',\n  'operative_time': 225,\n  'cytoreductive': False,\n  'positive_resection_margins': False,\n  'last_preop_egfr': {'value': 84.0, 'days_before_nephrectomy': 15},\n  'first_postop_egfr': {'value': 68.0, 'days_before_nephrectomy': 77},\n  'last_postop_egfr': {'value': 60.0, 'days_before_nephrectomy': 485},\n  'vital_status': 'censored',\n  'vital_days_after_surgery': '1100',\n  'voxel_spacing': {'x_spacing': 0.84375,\n   'y_spacing': 0.84375,\n   'z_spacing': 0.5}},\n {'case_id': 'case_00262',\n  'age_at_nephrectomy': 64,\n  'gender': 'female',\n  'body_mass_index': 25.3,\n  'comorbidities': {'myocardial_infarction': False,\n   'congestive_heart_failure': False,\n   'peripheral_vascular_disease': False,\n   'cerebrovascular_disease': False,\n   'dementia': False,\n   'copd': False,\n   'connective_tissue_disease': False,\n   'peptic_ulcer_disease': False,\n   'uncomplicated_diabetes_mellitus': True,\n   'diabetes_mellitus_with_end_organ_damage': False,\n   'chronic_kidney_disease': False,\n   'hemiplegia_from_stroke': False,\n   'leukemia': False,\n   'malignant_lymphoma': False,\n   'localized_solid_tumor': False,\n   'metastatic_solid_tumor': True,\n   'mild_liver_disease': False,\n   'moderate_to_severe_liver_disease': False,\n   'aids': False},\n  'smoking_history': 'previous_smoker',\n  'age_when_quit_smoking': '50',\n  'pack_years': '90',\n  'chewing_tobacco_use': 'never_or_not_in_last_3mo',\n  'alcohol_use': 'never_or_not_in_last_3mo',\n  'intraoperative_complications': {'blood_transfusion': True,\n   'injury_to_surrounding_organ': False,\n   'cardiac_event': False},\n  'hospitalization': 7,\n  'ischemia_time': 'not_applicable',\n  'radiographic_size': 13.3,\n  'pathologic_size': 12.4,\n  'malignant': True,\n  'pathology_t_stage': '3',\n  'pathology_n_stage': 'X',\n  'pathology_m_stage': '1',\n  'tumor_histologic_subtype': 'clear_cell_rcc',\n  'tumor_necrosis': False,\n  'tumor_isup_grade': 3,\n  'clavien_surgical_complications': '0',\n  'er_visit': False,\n  'readmission': False,\n  'estimated_blood_loss': 2850,\n  'surgery_type': 'open',\n  'surgical_procedure': 'radical_nephrectomy',\n  'surgical_approach': 'Transperitoneal',\n  'operative_time': 519,\n  'cytoreductive': True,\n  'positive_resection_margins': False,\n  'last_preop_egfr': {'value': '>=90', 'days_before_nephrectomy': 19},\n  'first_postop_egfr': {'value': 48.0, 'days_before_nephrectomy': 97},\n  'last_postop_egfr': {'value': 53.0, 'days_before_nephrectomy': 278},\n  'vital_status': 'dead',\n  'vital_days_after_surgery': '279',\n  'voxel_spacing': {'x_spacing': 0.681640625,\n   'y_spacing': 0.681640625,\n   'z_spacing': 5.0}},\n {'case_id': 'case_00263',\n  'age_at_nephrectomy': 68,\n  'gender': 'male',\n  'body_mass_index': 36.36,\n  'comorbidities': {'myocardial_infarction': True,\n   'congestive_heart_failure': False,\n   'peripheral_vascular_disease': False,\n   'cerebrovascular_disease': False,\n   'dementia': False,\n   'copd': False,\n   'connective_tissue_disease': False,\n   'peptic_ulcer_disease': False,\n   'uncomplicated_diabetes_mellitus': False,\n   'diabetes_mellitus_with_end_organ_damage': False,\n   'chronic_kidney_disease': False,\n   'hemiplegia_from_stroke': False,\n   'leukemia': False,\n   'malignant_lymphoma': False,\n   'localized_solid_tumor': False,\n   'metastatic_solid_tumor': False,\n   'mild_liver_disease': False,\n   'moderate_to_severe_liver_disease': False,\n   'aids': False},\n  'smoking_history': 'previous_smoker',\n  'age_when_quit_smoking': None,\n  'pack_years': None,\n  'chewing_tobacco_use': 'never_or_not_in_last_3mo',\n  'alcohol_use': 'two_or_less_daily',\n  'intraoperative_complications': {'blood_transfusion': False,\n   'injury_to_surrounding_organ': False,\n   'cardiac_event': False},\n  'hospitalization': 3,\n  'ischemia_time': 'not_applicable',\n  'radiographic_size': 8.0,\n  'pathologic_size': 8.0,\n  'malignant': True,\n  'pathology_t_stage': '2a',\n  'pathology_n_stage': 'X',\n  'pathology_m_stage': 'X',\n  'tumor_histologic_subtype': 'clear_cell_rcc',\n  'tumor_necrosis': True,\n  'tumor_isup_grade': 3,\n  'clavien_surgical_complications': '0',\n  'er_visit': False,\n  'readmission': False,\n  'estimated_blood_loss': 250,\n  'surgery_type': 'robotic',\n  'surgical_procedure': 'radical_nephrectomy',\n  'surgical_approach': 'Transperitoneal',\n  'operative_time': 237,\n  'cytoreductive': False,\n  'positive_resection_margins': False,\n  'last_preop_egfr': {'value': 80.0, 'days_before_nephrectomy': 1},\n  'first_postop_egfr': {'value': 48.0, 'days_before_nephrectomy': 177},\n  'last_postop_egfr': {'value': 69.0, 'days_before_nephrectomy': 1674},\n  'vital_status': 'censored',\n  'vital_days_after_surgery': '1673',\n  'voxel_spacing': {'x_spacing': 0.7890625,\n   'y_spacing': 0.7890625,\n   'z_spacing': 0.5}},\n {'case_id': 'case_00264',\n  'age_at_nephrectomy': 55,\n  'gender': 'female',\n  'body_mass_index': 21.28,\n  'comorbidities': {'myocardial_infarction': False,\n   'congestive_heart_failure': False,\n   'peripheral_vascular_disease': False,\n   'cerebrovascular_disease': False,\n   'dementia': False,\n   'copd': False,\n   'connective_tissue_disease': False,\n   'peptic_ulcer_disease': False,\n   'uncomplicated_diabetes_mellitus': False,\n   'diabetes_mellitus_with_end_organ_damage': False,\n   'chronic_kidney_disease': False,\n   'hemiplegia_from_stroke': False,\n   'leukemia': False,\n   'malignant_lymphoma': False,\n   'localized_solid_tumor': False,\n   'metastatic_solid_tumor': False,\n   'mild_liver_disease': False,\n   'moderate_to_severe_liver_disease': False,\n   'aids': False},\n  'smoking_history': 'never_smoked',\n  'age_when_quit_smoking': 'not_applicable',\n  'pack_years': 0,\n  'chewing_tobacco_use': 'never_or_not_in_last_3mo',\n  'alcohol_use': 'never_or_not_in_last_3mo',\n  'intraoperative_complications': {'blood_transfusion': False,\n   'injury_to_surrounding_organ': False,\n   'cardiac_event': False},\n  'hospitalization': 2,\n  'ischemia_time': None,\n  'radiographic_size': 1.9,\n  'pathologic_size': 4.2,\n  'malignant': True,\n  'pathology_t_stage': '1b',\n  'pathology_n_stage': 'X',\n  'pathology_m_stage': 'X',\n  'tumor_histologic_subtype': 'papillary',\n  'tumor_necrosis': False,\n  'tumor_isup_grade': 3,\n  'clavien_surgical_complications': '1',\n  'er_visit': False,\n  'readmission': False,\n  'estimated_blood_loss': 210,\n  'surgery_type': 'robotic',\n  'surgical_procedure': 'partial_nephrectomy',\n  'surgical_approach': 'Transperitoneal',\n  'operative_time': 145,\n  'cytoreductive': False,\n  'positive_resection_margins': False,\n  'last_preop_egfr': {'value': 86.0, 'days_before_nephrectomy': 13},\n  'first_postop_egfr': {'value': 85.0, 'days_before_nephrectomy': 97},\n  'last_postop_egfr': {'value': '>=90', 'days_before_nephrectomy': 1458},\n  'vital_status': 'censored',\n  'vital_days_after_surgery': '1458',\n  'voxel_spacing': {'x_spacing': 0.7265625,\n   'y_spacing': 0.7265625,\n   'z_spacing': 1.0}},\n {'case_id': 'case_00265',\n  'age_at_nephrectomy': 67,\n  'gender': 'male',\n  'body_mass_index': 24.55,\n  'comorbidities': {'myocardial_infarction': False,\n   'congestive_heart_failure': False,\n   'peripheral_vascular_disease': True,\n   'cerebrovascular_disease': False,\n   'dementia': False,\n   'copd': False,\n   'connective_tissue_disease': False,\n   'peptic_ulcer_disease': False,\n   'uncomplicated_diabetes_mellitus': False,\n   'diabetes_mellitus_with_end_organ_damage': False,\n   'chronic_kidney_disease': False,\n   'hemiplegia_from_stroke': False,\n   'leukemia': False,\n   'malignant_lymphoma': False,\n   'localized_solid_tumor': False,\n   'metastatic_solid_tumor': False,\n   'mild_liver_disease': False,\n   'moderate_to_severe_liver_disease': False,\n   'aids': False},\n  'smoking_history': 'current_smoker',\n  'age_when_quit_smoking': 'not_applicable',\n  'pack_years': None,\n  'chewing_tobacco_use': 'never_or_not_in_last_3mo',\n  'alcohol_use': 'never_or_not_in_last_3mo',\n  'intraoperative_complications': {'blood_transfusion': False,\n   'injury_to_surrounding_organ': False,\n   'cardiac_event': False},\n  'hospitalization': 1,\n  'ischemia_time': 16,\n  'radiographic_size': 3.9,\n  'pathologic_size': 3.5,\n  'malignant': True,\n  'pathology_t_stage': '1a',\n  'pathology_n_stage': '0',\n  'pathology_m_stage': '0',\n  'tumor_histologic_subtype': 'clear_cell_rcc',\n  'tumor_necrosis': False,\n  'tumor_isup_grade': 2,\n  'clavien_surgical_complications': '0',\n  'er_visit': False,\n  'readmission': False,\n  'estimated_blood_loss': 200,\n  'surgery_type': 'robotic',\n  'surgical_procedure': 'partial_nephrectomy',\n  'surgical_approach': 'Transperitoneal',\n  'operative_time': 242,\n  'cytoreductive': False,\n  'positive_resection_margins': False,\n  'last_preop_egfr': {'value': 69.0, 'days_before_nephrectomy': 14},\n  'first_postop_egfr': {'value': 67.0, 'days_before_nephrectomy': 116},\n  'last_postop_egfr': {'value': 46.0, 'days_before_nephrectomy': 923},\n  'vital_status': 'censored',\n  'vital_days_after_surgery': '1015',\n  'voxel_spacing': {'x_spacing': 0.703125,\n   'y_spacing': 0.703125,\n   'z_spacing': 5.0}},\n {'case_id': 'case_00266',\n  'age_at_nephrectomy': 78,\n  'gender': 'female',\n  'body_mass_index': 20.14,\n  'comorbidities': {'myocardial_infarction': False,\n   'congestive_heart_failure': False,\n   'peripheral_vascular_disease': False,\n   'cerebrovascular_disease': False,\n   'dementia': False,\n   'copd': False,\n   'connective_tissue_disease': False,\n   'peptic_ulcer_disease': False,\n   'uncomplicated_diabetes_mellitus': False,\n   'diabetes_mellitus_with_end_organ_damage': False,\n   'chronic_kidney_disease': False,\n   'hemiplegia_from_stroke': False,\n   'leukemia': False,\n   'malignant_lymphoma': False,\n   'localized_solid_tumor': False,\n   'metastatic_solid_tumor': False,\n   'mild_liver_disease': False,\n   'moderate_to_severe_liver_disease': False,\n   'aids': False},\n  'smoking_history': 'never_smoked',\n  'age_when_quit_smoking': 'not_applicable',\n  'pack_years': 0,\n  'chewing_tobacco_use': 'never_or_not_in_last_3mo',\n  'alcohol_use': 'never_or_not_in_last_3mo',\n  'intraoperative_complications': {'blood_transfusion': False,\n   'injury_to_surrounding_organ': False,\n   'cardiac_event': False},\n  'hospitalization': 1,\n  'ischemia_time': 15,\n  'radiographic_size': 4.3,\n  'pathologic_size': 4.8,\n  'malignant': True,\n  'pathology_t_stage': '1b',\n  'pathology_n_stage': 'X',\n  'pathology_m_stage': 'X',\n  'tumor_histologic_subtype': 'clear_cell_rcc',\n  'tumor_necrosis': False,\n  'tumor_isup_grade': 2,\n  'clavien_surgical_complications': '0',\n  'er_visit': False,\n  'readmission': False,\n  'estimated_blood_loss': 200,\n  'surgery_type': 'robotic',\n  'surgical_procedure': 'partial_nephrectomy',\n  'surgical_approach': 'Transperitoneal',\n  'operative_time': 199,\n  'cytoreductive': False,\n  'positive_resection_margins': False,\n  'last_preop_egfr': {'value': None, 'days_before_nephrectomy': None},\n  'first_postop_egfr': {'value': 81.0, 'days_before_nephrectomy': 106},\n  'last_postop_egfr': {'value': '>=90', 'days_before_nephrectomy': 1142},\n  'vital_status': 'censored',\n  'vital_days_after_surgery': '1204',\n  'voxel_spacing': {'x_spacing': 0.666015625,\n   'y_spacing': 0.666015625,\n   'z_spacing': 5.0}},\n {'case_id': 'case_00267',\n  'age_at_nephrectomy': 64,\n  'gender': 'female',\n  'body_mass_index': 27.4,\n  'comorbidities': {'myocardial_infarction': False,\n   'congestive_heart_failure': False,\n   'peripheral_vascular_disease': False,\n   'cerebrovascular_disease': False,\n   'dementia': False,\n   'copd': False,\n   'connective_tissue_disease': False,\n   'peptic_ulcer_disease': False,\n   'uncomplicated_diabetes_mellitus': True,\n   'diabetes_mellitus_with_end_organ_damage': False,\n   'chronic_kidney_disease': False,\n   'hemiplegia_from_stroke': False,\n   'leukemia': False,\n   'malignant_lymphoma': False,\n   'localized_solid_tumor': True,\n   'metastatic_solid_tumor': False,\n   'mild_liver_disease': False,\n   'moderate_to_severe_liver_disease': False,\n   'aids': False},\n  'smoking_history': 'never_smoked',\n  'age_when_quit_smoking': 'not_applicable',\n  'pack_years': 0,\n  'chewing_tobacco_use': 'never_or_not_in_last_3mo',\n  'alcohol_use': 'two_or_less_daily',\n  'intraoperative_complications': {'blood_transfusion': False,\n   'injury_to_surrounding_organ': False,\n   'cardiac_event': False},\n  'hospitalization': 5,\n  'ischemia_time': 24,\n  'radiographic_size': 2.8,\n  'pathologic_size': 2.6,\n  'malignant': True,\n  'pathology_t_stage': '1a',\n  'pathology_n_stage': '0',\n  'pathology_m_stage': '0',\n  'tumor_histologic_subtype': 'chromophobe',\n  'tumor_necrosis': False,\n  'tumor_isup_grade': None,\n  'clavien_surgical_complications': '1',\n  'er_visit': True,\n  'readmission': False,\n  'estimated_blood_loss': 250,\n  'surgery_type': 'open',\n  'surgical_procedure': 'partial_nephrectomy',\n  'surgical_approach': 'Transperitoneal',\n  'operative_time': 249,\n  'cytoreductive': False,\n  'positive_resection_margins': False,\n  'last_preop_egfr': {'value': '>=90', 'days_before_nephrectomy': 48},\n  'first_postop_egfr': {'value': 78.0, 'days_before_nephrectomy': 92},\n  'last_postop_egfr': {'value': 75.0, 'days_before_nephrectomy': 2458},\n  'vital_status': 'censored',\n  'vital_days_after_surgery': '2812',\n  'voxel_spacing': {'x_spacing': 0.72265625,\n   'y_spacing': 0.72265625,\n   'z_spacing': 5.0}},\n {'case_id': 'case_00268',\n  'age_at_nephrectomy': 38,\n  'gender': 'male',\n  'body_mass_index': 27.32,\n  'comorbidities': {'myocardial_infarction': False,\n   'congestive_heart_failure': False,\n   'peripheral_vascular_disease': False,\n   'cerebrovascular_disease': False,\n   'dementia': False,\n   'copd': False,\n   'connective_tissue_disease': False,\n   'peptic_ulcer_disease': False,\n   'uncomplicated_diabetes_mellitus': False,\n   'diabetes_mellitus_with_end_organ_damage': False,\n   'chronic_kidney_disease': False,\n   'hemiplegia_from_stroke': False,\n   'leukemia': False,\n   'malignant_lymphoma': False,\n   'localized_solid_tumor': False,\n   'metastatic_solid_tumor': False,\n   'mild_liver_disease': False,\n   'moderate_to_severe_liver_disease': False,\n   'aids': False},\n  'smoking_history': 'never_smoked',\n  'age_when_quit_smoking': 'not_applicable',\n  'pack_years': 0,\n  'chewing_tobacco_use': 'never_or_not_in_last_3mo',\n  'alcohol_use': 'two_or_less_daily',\n  'intraoperative_complications': {'blood_transfusion': False,\n   'injury_to_surrounding_organ': False,\n   'cardiac_event': False},\n  'hospitalization': 4,\n  'ischemia_time': 15,\n  'radiographic_size': 3.9,\n  'pathologic_size': 4.0,\n  'malignant': True,\n  'pathology_t_stage': '1a',\n  'pathology_n_stage': '0',\n  'pathology_m_stage': '0',\n  'tumor_histologic_subtype': 'clear_cell_rcc',\n  'tumor_necrosis': False,\n  'tumor_isup_grade': 1,\n  'clavien_surgical_complications': '0',\n  'er_visit': False,\n  'readmission': False,\n  'estimated_blood_loss': 200,\n  'surgery_type': 'open',\n  'surgical_procedure': 'partial_nephrectomy',\n  'surgical_approach': 'Retroperitoneal',\n  'operative_time': 210,\n  'cytoreductive': False,\n  'positive_resection_margins': False,\n  'last_preop_egfr': {'value': None, 'days_before_nephrectomy': None},\n  'first_postop_egfr': {'value': 83.0, 'days_before_nephrectomy': 915},\n  'last_postop_egfr': {'value': 83.0, 'days_before_nephrectomy': 915},\n  'vital_status': 'censored',\n  'vital_days_after_surgery': '917',\n  'voxel_spacing': {'x_spacing': 0.673828125,\n   'y_spacing': 0.673828125,\n   'z_spacing': 0.800000011920929}},\n {'case_id': 'case_00269',\n  'age_at_nephrectomy': 75,\n  'gender': 'male',\n  'body_mass_index': 37.27,\n  'comorbidities': {'myocardial_infarction': False,\n   'congestive_heart_failure': False,\n   'peripheral_vascular_disease': True,\n   'cerebrovascular_disease': True,\n   'dementia': False,\n   'copd': False,\n   'connective_tissue_disease': False,\n   'peptic_ulcer_disease': False,\n   'uncomplicated_diabetes_mellitus': True,\n   'diabetes_mellitus_with_end_organ_damage': False,\n   'chronic_kidney_disease': False,\n   'hemiplegia_from_stroke': False,\n   'leukemia': False,\n   'malignant_lymphoma': False,\n   'localized_solid_tumor': True,\n   'metastatic_solid_tumor': False,\n   'mild_liver_disease': False,\n   'moderate_to_severe_liver_disease': False,\n   'aids': False},\n  'smoking_history': 'previous_smoker',\n  'age_when_quit_smoking': '48',\n  'pack_years': '45',\n  'chewing_tobacco_use': 'quit_in_last_3mo',\n  'alcohol_use': 'never_or_not_in_last_3mo',\n  'intraoperative_complications': {'blood_transfusion': False,\n   'injury_to_surrounding_organ': False,\n   'cardiac_event': False},\n  'hospitalization': 59,\n  'ischemia_time': None,\n  'radiographic_size': 4.8,\n  'pathologic_size': 5.2,\n  'malignant': True,\n  'pathology_t_stage': '1b',\n  'pathology_n_stage': '0',\n  'pathology_m_stage': '0',\n  'tumor_histologic_subtype': 'clear_cell_rcc',\n  'tumor_necrosis': False,\n  'tumor_isup_grade': 3,\n  'clavien_surgical_complications': '4',\n  'er_visit': False,\n  'readmission': True,\n  'estimated_blood_loss': 200,\n  'surgery_type': 'robotic',\n  'surgical_procedure': 'partial_nephrectomy',\n  'surgical_approach': 'Transperitoneal',\n  'operative_time': 203,\n  'cytoreductive': False,\n  'positive_resection_margins': False,\n  'last_preop_egfr': {'value': 51.0, 'days_before_nephrectomy': 27},\n  'first_postop_egfr': {'value': None, 'days_before_nephrectomy': None},\n  'last_postop_egfr': {'value': None, 'days_before_nephrectomy': None},\n  'vital_status': 'dead',\n  'vital_days_after_surgery': '117',\n  'voxel_spacing': {'x_spacing': 0.896484375,\n   'y_spacing': 0.896484375,\n   'z_spacing': 5.0}},\n {'case_id': 'case_00270',\n  'age_at_nephrectomy': 66,\n  'gender': 'male',\n  'body_mass_index': 28.23,\n  'comorbidities': {'myocardial_infarction': False,\n   'congestive_heart_failure': False,\n   'peripheral_vascular_disease': False,\n   'cerebrovascular_disease': False,\n   'dementia': False,\n   'copd': False,\n   'connective_tissue_disease': False,\n   'peptic_ulcer_disease': False,\n   'uncomplicated_diabetes_mellitus': True,\n   'diabetes_mellitus_with_end_organ_damage': False,\n   'chronic_kidney_disease': True,\n   'hemiplegia_from_stroke': False,\n   'leukemia': False,\n   'malignant_lymphoma': False,\n   'localized_solid_tumor': True,\n   'metastatic_solid_tumor': False,\n   'mild_liver_disease': False,\n   'moderate_to_severe_liver_disease': False,\n   'aids': False},\n  'smoking_history': 'never_smoked',\n  'age_when_quit_smoking': 'not_applicable',\n  'pack_years': 0,\n  'chewing_tobacco_use': 'never_or_not_in_last_3mo',\n  'alcohol_use': 'two_or_less_daily',\n  'intraoperative_complications': {'blood_transfusion': False,\n   'injury_to_surrounding_organ': False,\n   'cardiac_event': False},\n  'hospitalization': 4,\n  'ischemia_time': 'not_applicable',\n  'radiographic_size': 4.2,\n  'pathologic_size': 5.5,\n  'malignant': True,\n  'pathology_t_stage': '3',\n  'pathology_n_stage': 'X',\n  'pathology_m_stage': 'X',\n  'tumor_histologic_subtype': 'clear_cell_rcc',\n  'tumor_necrosis': False,\n  'tumor_isup_grade': 2,\n  'clavien_surgical_complications': '0',\n  'er_visit': False,\n  'readmission': False,\n  'estimated_blood_loss': 150,\n  'surgery_type': 'laparoscopic',\n  'surgical_procedure': 'radical_nephrectomy',\n  'surgical_approach': 'Transperitoneal',\n  'operative_time': 89,\n  'cytoreductive': False,\n  'positive_resection_margins': False,\n  'last_preop_egfr': {'value': 64.0, 'days_before_nephrectomy': 73},\n  'first_postop_egfr': {'value': 40.0, 'days_before_nephrectomy': 82},\n  'last_postop_egfr': {'value': 63.0, 'days_before_nephrectomy': 599},\n  'vital_status': 'dead',\n  'vital_days_after_surgery': '657',\n  'voxel_spacing': {'x_spacing': 0.72265625,\n   'y_spacing': 0.72265625,\n   'z_spacing': 5.0}},\n {'case_id': 'case_00271',\n  'age_at_nephrectomy': 55,\n  'gender': 'female',\n  'body_mass_index': 18.42,\n  'comorbidities': {'myocardial_infarction': False,\n   'congestive_heart_failure': False,\n   'peripheral_vascular_disease': False,\n   'cerebrovascular_disease': False,\n   'dementia': False,\n   'copd': False,\n   'connective_tissue_disease': False,\n   'peptic_ulcer_disease': False,\n   'uncomplicated_diabetes_mellitus': True,\n   'diabetes_mellitus_with_end_organ_damage': False,\n   'chronic_kidney_disease': False,\n   'hemiplegia_from_stroke': False,\n   'leukemia': False,\n   'malignant_lymphoma': False,\n   'localized_solid_tumor': False,\n   'metastatic_solid_tumor': False,\n   'mild_liver_disease': False,\n   'moderate_to_severe_liver_disease': False,\n   'aids': False},\n  'smoking_history': 'previous_smoker',\n  'age_when_quit_smoking': '55',\n  'pack_years': None,\n  'chewing_tobacco_use': 'never_or_not_in_last_3mo',\n  'alcohol_use': 'never_or_not_in_last_3mo',\n  'intraoperative_complications': {'blood_transfusion': False,\n   'injury_to_surrounding_organ': False,\n   'cardiac_event': False},\n  'hospitalization': 5,\n  'ischemia_time': 27,\n  'radiographic_size': 5.86,\n  'pathologic_size': 6.5,\n  'malignant': True,\n  'pathology_t_stage': '1b',\n  'pathology_n_stage': 'X',\n  'pathology_m_stage': 'X',\n  'tumor_histologic_subtype': 'clear_cell_rcc',\n  'tumor_necrosis': False,\n  'tumor_isup_grade': 2,\n  'clavien_surgical_complications': '1',\n  'er_visit': False,\n  'readmission': False,\n  'estimated_blood_loss': 200,\n  'surgery_type': 'robotic',\n  'surgical_procedure': 'partial_nephrectomy',\n  'surgical_approach': 'Transperitoneal',\n  'operative_time': 329,\n  'cytoreductive': False,\n  'positive_resection_margins': False,\n  'last_preop_egfr': {'value': 73.0, 'days_before_nephrectomy': 27},\n  'first_postop_egfr': {'value': None, 'days_before_nephrectomy': None},\n  'last_postop_egfr': {'value': None, 'days_before_nephrectomy': None},\n  'vital_status': 'dead',\n  'vital_days_after_surgery': '121',\n  'voxel_spacing': {'x_spacing': 0.60546875,\n   'y_spacing': 0.60546875,\n   'z_spacing': 0.5}},\n {'case_id': 'case_00272',\n  'age_at_nephrectomy': 51,\n  'gender': 'female',\n  'body_mass_index': 30.6,\n  'comorbidities': {'myocardial_infarction': True,\n   'congestive_heart_failure': False,\n   'peripheral_vascular_disease': False,\n   'cerebrovascular_disease': False,\n   'dementia': False,\n   'copd': True,\n   'connective_tissue_disease': False,\n   'peptic_ulcer_disease': False,\n   'uncomplicated_diabetes_mellitus': False,\n   'diabetes_mellitus_with_end_organ_damage': False,\n   'chronic_kidney_disease': True,\n   'hemiplegia_from_stroke': False,\n   'leukemia': False,\n   'malignant_lymphoma': False,\n   'localized_solid_tumor': False,\n   'metastatic_solid_tumor': False,\n   'mild_liver_disease': False,\n   'moderate_to_severe_liver_disease': False,\n   'aids': False},\n  'smoking_history': 'current_smoker',\n  'age_when_quit_smoking': 'not_applicable',\n  'pack_years': None,\n  'chewing_tobacco_use': 'never_or_not_in_last_3mo',\n  'alcohol_use': 'never_or_not_in_last_3mo',\n  'intraoperative_complications': {'blood_transfusion': False,\n   'injury_to_surrounding_organ': False,\n   'cardiac_event': False},\n  'hospitalization': 3,\n  'ischemia_time': 0,\n  'radiographic_size': 2.1,\n  'pathologic_size': 2.7,\n  'malignant': True,\n  'pathology_t_stage': '1a',\n  'pathology_n_stage': '0',\n  'pathology_m_stage': '0',\n  'tumor_histologic_subtype': 'clear_cell_rcc',\n  'tumor_necrosis': False,\n  'tumor_isup_grade': 3,\n  'clavien_surgical_complications': '0',\n  'er_visit': False,\n  'readmission': False,\n  'estimated_blood_loss': 120,\n  'surgery_type': 'robotic',\n  'surgical_procedure': 'partial_nephrectomy',\n  'surgical_approach': 'Transperitoneal',\n  'operative_time': 363,\n  'cytoreductive': False,\n  'positive_resection_margins': False,\n  'last_preop_egfr': {'value': 44.0, 'days_before_nephrectomy': 7},\n  'first_postop_egfr': {'value': 37.0, 'days_before_nephrectomy': 119},\n  'last_postop_egfr': {'value': 29.0, 'days_before_nephrectomy': 2381},\n  'vital_status': 'censored',\n  'vital_days_after_surgery': '2464',\n  'voxel_spacing': {'x_spacing': 0.896484375,\n   'y_spacing': 0.896484375,\n   'z_spacing': 0.5}},\n {'case_id': 'case_00273',\n  'age_at_nephrectomy': 57,\n  'gender': 'female',\n  'body_mass_index': 20.99,\n  'comorbidities': {'myocardial_infarction': False,\n   'congestive_heart_failure': False,\n   'peripheral_vascular_disease': False,\n   'cerebrovascular_disease': False,\n   'dementia': False,\n   'copd': False,\n   'connective_tissue_disease': False,\n   'peptic_ulcer_disease': False,\n   'uncomplicated_diabetes_mellitus': False,\n   'diabetes_mellitus_with_end_organ_damage': False,\n   'chronic_kidney_disease': False,\n   'hemiplegia_from_stroke': False,\n   'leukemia': False,\n   'malignant_lymphoma': False,\n   'localized_solid_tumor': False,\n   'metastatic_solid_tumor': True,\n   'mild_liver_disease': False,\n   'moderate_to_severe_liver_disease': False,\n   'aids': False},\n  'smoking_history': 'never_smoked',\n  'age_when_quit_smoking': 'not_applicable',\n  'pack_years': 0,\n  'chewing_tobacco_use': 'never_or_not_in_last_3mo',\n  'alcohol_use': 'never_or_not_in_last_3mo',\n  'intraoperative_complications': {'blood_transfusion': False,\n   'injury_to_surrounding_organ': False,\n   'cardiac_event': False},\n  'hospitalization': 1,\n  'ischemia_time': 17,\n  'radiographic_size': 3.2,\n  'pathologic_size': 4.0,\n  'malignant': True,\n  'pathology_t_stage': '1a',\n  'pathology_n_stage': '0',\n  'pathology_m_stage': '0',\n  'tumor_histologic_subtype': 'clear_cell_rcc',\n  'tumor_necrosis': False,\n  'tumor_isup_grade': 2,\n  'clavien_surgical_complications': '0',\n  'er_visit': False,\n  'readmission': False,\n  'estimated_blood_loss': 100,\n  'surgery_type': 'robotic',\n  'surgical_procedure': 'partial_nephrectomy',\n  'surgical_approach': 'Transperitoneal',\n  'operative_time': 247,\n  'cytoreductive': False,\n  'positive_resection_margins': False,\n  'last_preop_egfr': {'value': 67.0, 'days_before_nephrectomy': 11},\n  'first_postop_egfr': {'value': 49.0, 'days_before_nephrectomy': 112},\n  'last_postop_egfr': {'value': 65.0, 'days_before_nephrectomy': 1007},\n  'vital_status': 'censored',\n  'vital_days_after_surgery': '1011',\n  'voxel_spacing': {'x_spacing': 0.69921875,\n   'y_spacing': 0.69921875,\n   'z_spacing': 1.0}},\n {'case_id': 'case_00274',\n  'age_at_nephrectomy': 74,\n  'gender': 'male',\n  'body_mass_index': 25.4,\n  'comorbidities': {'myocardial_infarction': True,\n   'congestive_heart_failure': False,\n   'peripheral_vascular_disease': False,\n   'cerebrovascular_disease': False,\n   'dementia': False,\n   'copd': False,\n   'connective_tissue_disease': False,\n   'peptic_ulcer_disease': False,\n   'uncomplicated_diabetes_mellitus': True,\n   'diabetes_mellitus_with_end_organ_damage': False,\n   'chronic_kidney_disease': False,\n   'hemiplegia_from_stroke': False,\n   'leukemia': False,\n   'malignant_lymphoma': False,\n   'localized_solid_tumor': True,\n   'metastatic_solid_tumor': False,\n   'mild_liver_disease': False,\n   'moderate_to_severe_liver_disease': False,\n   'aids': False},\n  'smoking_history': 'previous_smoker',\n  'age_when_quit_smoking': '24',\n  'pack_years': None,\n  'chewing_tobacco_use': 'never_or_not_in_last_3mo',\n  'alcohol_use': 'two_or_less_daily',\n  'intraoperative_complications': {'blood_transfusion': False,\n   'injury_to_surrounding_organ': True,\n   'cardiac_event': False},\n  'hospitalization': 4,\n  'ischemia_time': 'not_applicable',\n  'radiographic_size': 12.0,\n  'pathologic_size': 11.1,\n  'malignant': True,\n  'pathology_t_stage': '3',\n  'pathology_n_stage': '0',\n  'pathology_m_stage': '1',\n  'tumor_histologic_subtype': 'clear_cell_rcc',\n  'tumor_necrosis': False,\n  'tumor_isup_grade': 3,\n  'clavien_surgical_complications': '0',\n  'er_visit': False,\n  'readmission': False,\n  'estimated_blood_loss': 800,\n  'surgery_type': 'open',\n  'surgical_procedure': 'radical_nephrectomy',\n  'surgical_approach': 'Transperitoneal',\n  'operative_time': 224,\n  'cytoreductive': True,\n  'positive_resection_margins': False,\n  'last_preop_egfr': {'value': 52.0, 'days_before_nephrectomy': 16},\n  'first_postop_egfr': {'value': 43.0, 'days_before_nephrectomy': 119},\n  'last_postop_egfr': {'value': 50.0, 'days_before_nephrectomy': 748},\n  'vital_status': 'censored',\n  'vital_days_after_surgery': '748',\n  'voxel_spacing': {'x_spacing': 0.86328125,\n   'y_spacing': 0.86328125,\n   'z_spacing': 5.0}},\n {'case_id': 'case_00275',\n  'age_at_nephrectomy': 72,\n  'gender': 'male',\n  'body_mass_index': 37.92,\n  'comorbidities': {'myocardial_infarction': False,\n   'congestive_heart_failure': False,\n   'peripheral_vascular_disease': False,\n   'cerebrovascular_disease': False,\n   'dementia': False,\n   'copd': False,\n   'connective_tissue_disease': False,\n   'peptic_ulcer_disease': False,\n   'uncomplicated_diabetes_mellitus': False,\n   'diabetes_mellitus_with_end_organ_damage': False,\n   'chronic_kidney_disease': False,\n   'hemiplegia_from_stroke': False,\n   'leukemia': False,\n   'malignant_lymphoma': False,\n   'localized_solid_tumor': False,\n   'metastatic_solid_tumor': False,\n   'mild_liver_disease': False,\n   'moderate_to_severe_liver_disease': False,\n   'aids': False},\n  'smoking_history': 'previous_smoker',\n  'age_when_quit_smoking': '60',\n  'pack_years': None,\n  'chewing_tobacco_use': 'never_or_not_in_last_3mo',\n  'alcohol_use': 'two_or_less_daily',\n  'intraoperative_complications': {'blood_transfusion': False,\n   'injury_to_surrounding_organ': False,\n   'cardiac_event': False},\n  'hospitalization': 4,\n  'ischemia_time': 'not_applicable',\n  'radiographic_size': 6.3,\n  'pathologic_size': 5.4,\n  'malignant': False,\n  'pathology_t_stage': '0',\n  'pathology_n_stage': '0',\n  'pathology_m_stage': '0',\n  'tumor_histologic_subtype': 'oncocytoma',\n  'tumor_necrosis': None,\n  'tumor_isup_grade': None,\n  'clavien_surgical_complications': '0',\n  'er_visit': False,\n  'readmission': False,\n  'estimated_blood_loss': 150,\n  'surgery_type': 'robotic',\n  'surgical_procedure': 'radical_nephrectomy',\n  'surgical_approach': 'Transperitoneal',\n  'operative_time': 613,\n  'cytoreductive': False,\n  'positive_resection_margins': False,\n  'last_preop_egfr': {'value': 89.0, 'days_before_nephrectomy': 37},\n  'first_postop_egfr': {'value': 68.0, 'days_before_nephrectomy': 1349},\n  'last_postop_egfr': {'value': 68.0, 'days_before_nephrectomy': 1349},\n  'vital_status': 'censored',\n  'vital_days_after_surgery': '1350',\n  'voxel_spacing': {'x_spacing': 0.958984375,\n   'y_spacing': 0.958984375,\n   'z_spacing': 5.0}},\n {'case_id': 'case_00276',\n  'age_at_nephrectomy': 65,\n  'gender': 'male',\n  'body_mass_index': 31.09,\n  'comorbidities': {'myocardial_infarction': False,\n   'congestive_heart_failure': False,\n   'peripheral_vascular_disease': False,\n   'cerebrovascular_disease': False,\n   'dementia': False,\n   'copd': False,\n   'connective_tissue_disease': False,\n   'peptic_ulcer_disease': False,\n   'uncomplicated_diabetes_mellitus': False,\n   'diabetes_mellitus_with_end_organ_damage': False,\n   'chronic_kidney_disease': False,\n   'hemiplegia_from_stroke': False,\n   'leukemia': False,\n   'malignant_lymphoma': False,\n   'localized_solid_tumor': False,\n   'metastatic_solid_tumor': False,\n   'mild_liver_disease': False,\n   'moderate_to_severe_liver_disease': False,\n   'aids': False},\n  'smoking_history': 'previous_smoker',\n  'age_when_quit_smoking': '61',\n  'pack_years': '15',\n  'chewing_tobacco_use': 'never_or_not_in_last_3mo',\n  'alcohol_use': 'two_or_less_daily',\n  'intraoperative_complications': {'blood_transfusion': False,\n   'injury_to_surrounding_organ': False,\n   'cardiac_event': False},\n  'hospitalization': 1,\n  'ischemia_time': 23,\n  'radiographic_size': 2.9,\n  'pathologic_size': 2.3,\n  'malignant': True,\n  'pathology_t_stage': '1a',\n  'pathology_n_stage': '0',\n  'pathology_m_stage': '0',\n  'tumor_histologic_subtype': 'clear_cell_rcc',\n  'tumor_necrosis': False,\n  'tumor_isup_grade': 3,\n  'clavien_surgical_complications': '0',\n  'er_visit': False,\n  'readmission': False,\n  'estimated_blood_loss': 400,\n  'surgery_type': 'robotic',\n  'surgical_procedure': 'partial_nephrectomy',\n  'surgical_approach': 'Transperitoneal',\n  'operative_time': 96,\n  'cytoreductive': False,\n  'positive_resection_margins': False,\n  'last_preop_egfr': {'value': 66.0, 'days_before_nephrectomy': 57},\n  'first_postop_egfr': {'value': None, 'days_before_nephrectomy': None},\n  'last_postop_egfr': {'value': None, 'days_before_nephrectomy': None},\n  'vital_status': 'censored',\n  'vital_days_after_surgery': '1093',\n  'voxel_spacing': {'x_spacing': 0.85546875,\n   'y_spacing': 0.85546875,\n   'z_spacing': 0.5}},\n {'case_id': 'case_00277',\n  'age_at_nephrectomy': 78,\n  'gender': 'female',\n  'body_mass_index': 25.29,\n  'comorbidities': {'myocardial_infarction': False,\n   'congestive_heart_failure': False,\n   'peripheral_vascular_disease': False,\n   'cerebrovascular_disease': False,\n   'dementia': False,\n   'copd': False,\n   'connective_tissue_disease': False,\n   'peptic_ulcer_disease': False,\n   'uncomplicated_diabetes_mellitus': False,\n   'diabetes_mellitus_with_end_organ_damage': False,\n   'chronic_kidney_disease': False,\n   'hemiplegia_from_stroke': False,\n   'leukemia': False,\n   'malignant_lymphoma': False,\n   'localized_solid_tumor': False,\n   'metastatic_solid_tumor': False,\n   'mild_liver_disease': False,\n   'moderate_to_severe_liver_disease': False,\n   'aids': False},\n  'smoking_history': 'previous_smoker',\n  'age_when_quit_smoking': '73',\n  'pack_years': None,\n  'chewing_tobacco_use': 'never_or_not_in_last_3mo',\n  'alcohol_use': 'two_or_less_daily',\n  'intraoperative_complications': {'blood_transfusion': False,\n   'injury_to_surrounding_organ': False,\n   'cardiac_event': False},\n  'hospitalization': 2,\n  'ischemia_time': 'not_applicable',\n  'radiographic_size': 3.6,\n  'pathologic_size': 2.5,\n  'malignant': True,\n  'pathology_t_stage': '3',\n  'pathology_n_stage': '0',\n  'pathology_m_stage': 'X',\n  'tumor_histologic_subtype': 'urothelial',\n  'tumor_necrosis': False,\n  'tumor_isup_grade': None,\n  'clavien_surgical_complications': '1',\n  'er_visit': True,\n  'readmission': False,\n  'estimated_blood_loss': 80,\n  'surgery_type': 'laparoscopic',\n  'surgical_procedure': 'radical_nephrectomy',\n  'surgical_approach': 'Transperitoneal',\n  'operative_time': 140,\n  'cytoreductive': False,\n  'positive_resection_margins': False,\n  'last_preop_egfr': {'value': 77.0, 'days_before_nephrectomy': 10},\n  'first_postop_egfr': {'value': 73.0, 'days_before_nephrectomy': 116},\n  'last_postop_egfr': {'value': 62.0, 'days_before_nephrectomy': 286},\n  'vital_status': 'dead',\n  'vital_days_after_surgery': '612',\n  'voxel_spacing': {'x_spacing': 0.625, 'y_spacing': 0.625, 'z_spacing': 5.0}},\n {'case_id': 'case_00278',\n  'age_at_nephrectomy': 78,\n  'gender': 'female',\n  'body_mass_index': 27.77,\n  'comorbidities': {'myocardial_infarction': False,\n   'congestive_heart_failure': False,\n   'peripheral_vascular_disease': False,\n   'cerebrovascular_disease': False,\n   'dementia': False,\n   'copd': False,\n   'connective_tissue_disease': False,\n   'peptic_ulcer_disease': False,\n   'uncomplicated_diabetes_mellitus': True,\n   'diabetes_mellitus_with_end_organ_damage': False,\n   'chronic_kidney_disease': False,\n   'hemiplegia_from_stroke': False,\n   'leukemia': False,\n   'malignant_lymphoma': False,\n   'localized_solid_tumor': False,\n   'metastatic_solid_tumor': False,\n   'mild_liver_disease': False,\n   'moderate_to_severe_liver_disease': False,\n   'aids': False},\n  'smoking_history': 'never_smoked',\n  'age_when_quit_smoking': 'not_applicable',\n  'pack_years': 0,\n  'chewing_tobacco_use': 'never_or_not_in_last_3mo',\n  'alcohol_use': 'never_or_not_in_last_3mo',\n  'intraoperative_complications': {'blood_transfusion': False,\n   'injury_to_surrounding_organ': False,\n   'cardiac_event': False},\n  'hospitalization': 3,\n  'ischemia_time': 'not_applicable',\n  'radiographic_size': 9.4,\n  'pathologic_size': 7.2,\n  'malignant': True,\n  'pathology_t_stage': '2a',\n  'pathology_n_stage': 'X',\n  'pathology_m_stage': 'X',\n  'tumor_histologic_subtype': 'clear_cell_rcc',\n  'tumor_necrosis': True,\n  'tumor_isup_grade': 4,\n  'clavien_surgical_complications': '0',\n  'er_visit': False,\n  'readmission': False,\n  'estimated_blood_loss': 50,\n  'surgery_type': 'laparoscopic',\n  'surgical_procedure': 'radical_nephrectomy',\n  'surgical_approach': 'Transperitoneal',\n  'operative_time': 216,\n  'cytoreductive': False,\n  'positive_resection_margins': False,\n  'last_preop_egfr': {'value': None, 'days_before_nephrectomy': None},\n  'first_postop_egfr': {'value': 49.0, 'days_before_nephrectomy': 219},\n  'last_postop_egfr': {'value': 49.0, 'days_before_nephrectomy': 219},\n  'vital_status': 'censored',\n  'vital_days_after_surgery': '303',\n  'voxel_spacing': {'x_spacing': 0.6640625,\n   'y_spacing': 0.6640625,\n   'z_spacing': 2.5}},\n {'case_id': 'case_00279',\n  'age_at_nephrectomy': 68,\n  'gender': 'female',\n  'body_mass_index': 21.56,\n  'comorbidities': {'myocardial_infarction': False,\n   'congestive_heart_failure': False,\n   'peripheral_vascular_disease': False,\n   'cerebrovascular_disease': False,\n   'dementia': False,\n   'copd': False,\n   'connective_tissue_disease': False,\n   'peptic_ulcer_disease': False,\n   'uncomplicated_diabetes_mellitus': False,\n   'diabetes_mellitus_with_end_organ_damage': False,\n   'chronic_kidney_disease': False,\n   'hemiplegia_from_stroke': False,\n   'leukemia': False,\n   'malignant_lymphoma': False,\n   'localized_solid_tumor': False,\n   'metastatic_solid_tumor': False,\n   'mild_liver_disease': False,\n   'moderate_to_severe_liver_disease': False,\n   'aids': False},\n  'smoking_history': 'never_smoked',\n  'age_when_quit_smoking': 'not_applicable',\n  'pack_years': 0,\n  'chewing_tobacco_use': 'never_or_not_in_last_3mo',\n  'alcohol_use': 'two_or_less_daily',\n  'intraoperative_complications': {'blood_transfusion': False,\n   'injury_to_surrounding_organ': False,\n   'cardiac_event': False},\n  'hospitalization': 1,\n  'ischemia_time': 'not_applicable',\n  'radiographic_size': 6.6,\n  'pathologic_size': 6.5,\n  'malignant': False,\n  'pathology_t_stage': '0',\n  'pathology_n_stage': '0',\n  'pathology_m_stage': '0',\n  'tumor_histologic_subtype': 'oncocytoma',\n  'tumor_necrosis': None,\n  'tumor_isup_grade': None,\n  'clavien_surgical_complications': '0',\n  'er_visit': False,\n  'readmission': False,\n  'estimated_blood_loss': 50,\n  'surgery_type': 'laparoscopic',\n  'surgical_procedure': 'radical_nephrectomy',\n  'surgical_approach': 'Transperitoneal',\n  'operative_time': 238,\n  'cytoreductive': False,\n  'positive_resection_margins': False,\n  'last_preop_egfr': {'value': 88.0, 'days_before_nephrectomy': 8},\n  'first_postop_egfr': {'value': 51.0, 'days_before_nephrectomy': 85},\n  'last_postop_egfr': {'value': 44.0, 'days_before_nephrectomy': 386},\n  'vital_status': 'censored',\n  'vital_days_after_surgery': '1121',\n  'voxel_spacing': {'x_spacing': 0.5370000004768372,\n   'y_spacing': 0.5370000004768372,\n   'z_spacing': 3.0}},\n {'case_id': 'case_00280',\n  'age_at_nephrectomy': 75,\n  'gender': 'male',\n  'body_mass_index': 26.94,\n  'comorbidities': {'myocardial_infarction': False,\n   'congestive_heart_failure': False,\n   'peripheral_vascular_disease': False,\n   'cerebrovascular_disease': False,\n   'dementia': False,\n   'copd': False,\n   'connective_tissue_disease': False,\n   'peptic_ulcer_disease': False,\n   'uncomplicated_diabetes_mellitus': False,\n   'diabetes_mellitus_with_end_organ_damage': False,\n   'chronic_kidney_disease': False,\n   'hemiplegia_from_stroke': False,\n   'leukemia': False,\n   'malignant_lymphoma': False,\n   'localized_solid_tumor': False,\n   'metastatic_solid_tumor': False,\n   'mild_liver_disease': False,\n   'moderate_to_severe_liver_disease': False,\n   'aids': False},\n  'smoking_history': 'never_smoked',\n  'age_when_quit_smoking': 'not_applicable',\n  'pack_years': 0,\n  'chewing_tobacco_use': 'never_or_not_in_last_3mo',\n  'alcohol_use': 'two_or_less_daily',\n  'intraoperative_complications': {'blood_transfusion': False,\n   'injury_to_surrounding_organ': False,\n   'cardiac_event': False},\n  'hospitalization': 1,\n  'ischemia_time': 'not_applicable',\n  'radiographic_size': 11.0,\n  'pathologic_size': 9.8,\n  'malignant': True,\n  'pathology_t_stage': '2a',\n  'pathology_n_stage': 'X',\n  'pathology_m_stage': '1',\n  'tumor_histologic_subtype': 'clear_cell_rcc',\n  'tumor_necrosis': True,\n  'tumor_isup_grade': 4,\n  'clavien_surgical_complications': '0',\n  'er_visit': False,\n  'readmission': False,\n  'estimated_blood_loss': 50,\n  'surgery_type': 'robotic',\n  'surgical_procedure': 'radical_nephrectomy',\n  'surgical_approach': 'Transperitoneal',\n  'operative_time': 298,\n  'cytoreductive': True,\n  'positive_resection_margins': False,\n  'last_preop_egfr': {'value': 82.0, 'days_before_nephrectomy': 9},\n  'first_postop_egfr': {'value': 50.0, 'days_before_nephrectomy': 83},\n  'last_postop_egfr': {'value': 45.0, 'days_before_nephrectomy': 1424},\n  'vital_status': 'censored',\n  'vital_days_after_surgery': '1447',\n  'voxel_spacing': {'x_spacing': 0.7578125,\n   'y_spacing': 0.7578125,\n   'z_spacing': 5.0}},\n {'case_id': 'case_00281',\n  'age_at_nephrectomy': 53,\n  'gender': 'male',\n  'body_mass_index': 27.72,\n  'comorbidities': {'myocardial_infarction': False,\n   'congestive_heart_failure': False,\n   'peripheral_vascular_disease': False,\n   'cerebrovascular_disease': False,\n   'dementia': False,\n   'copd': False,\n   'connective_tissue_disease': False,\n   'peptic_ulcer_disease': False,\n   'uncomplicated_diabetes_mellitus': False,\n   'diabetes_mellitus_with_end_organ_damage': False,\n   'chronic_kidney_disease': False,\n   'hemiplegia_from_stroke': False,\n   'leukemia': False,\n   'malignant_lymphoma': False,\n   'localized_solid_tumor': False,\n   'metastatic_solid_tumor': False,\n   'mild_liver_disease': False,\n   'moderate_to_severe_liver_disease': False,\n   'aids': False},\n  'smoking_history': 'never_smoked',\n  'age_when_quit_smoking': 'not_applicable',\n  'pack_years': 0,\n  'chewing_tobacco_use': 'never_or_not_in_last_3mo',\n  'alcohol_use': 'never_or_not_in_last_3mo',\n  'intraoperative_complications': {'blood_transfusion': False,\n   'injury_to_surrounding_organ': False,\n   'cardiac_event': False},\n  'hospitalization': 4,\n  'ischemia_time': 'not_applicable',\n  'radiographic_size': 6.1,\n  'pathologic_size': 11.2,\n  'malignant': True,\n  'pathology_t_stage': '4',\n  'pathology_n_stage': '1',\n  'pathology_m_stage': '1',\n  'tumor_histologic_subtype': 'clear_cell_rcc',\n  'tumor_necrosis': True,\n  'tumor_isup_grade': 4,\n  'clavien_surgical_complications': '0',\n  'er_visit': False,\n  'readmission': False,\n  'estimated_blood_loss': 1100,\n  'surgery_type': 'open',\n  'surgical_procedure': 'radical_nephrectomy',\n  'surgical_approach': 'Transperitoneal',\n  'operative_time': 256,\n  'cytoreductive': True,\n  'positive_resection_margins': False,\n  'last_preop_egfr': {'value': 78.0, 'days_before_nephrectomy': 13},\n  'first_postop_egfr': {'value': 48.0, 'days_before_nephrectomy': 81},\n  'last_postop_egfr': {'value': '>=90', 'days_before_nephrectomy': 495},\n  'vital_status': 'dead',\n  'vital_days_after_surgery': '497',\n  'voxel_spacing': {'x_spacing': 0.81640625,\n   'y_spacing': 0.81640625,\n   'z_spacing': 1.0}},\n {'case_id': 'case_00282',\n  'age_at_nephrectomy': 57,\n  'gender': 'female',\n  'body_mass_index': 26.65,\n  'comorbidities': {'myocardial_infarction': False,\n   'congestive_heart_failure': False,\n   'peripheral_vascular_disease': False,\n   'cerebrovascular_disease': False,\n   'dementia': False,\n   'copd': False,\n   'connective_tissue_disease': False,\n   'peptic_ulcer_disease': False,\n   'uncomplicated_diabetes_mellitus': False,\n   'diabetes_mellitus_with_end_organ_damage': False,\n   'chronic_kidney_disease': False,\n   'hemiplegia_from_stroke': False,\n   'leukemia': False,\n   'malignant_lymphoma': False,\n   'localized_solid_tumor': False,\n   'metastatic_solid_tumor': False,\n   'mild_liver_disease': False,\n   'moderate_to_severe_liver_disease': False,\n   'aids': False},\n  'smoking_history': 'previous_smoker',\n  'age_when_quit_smoking': '57',\n  'pack_years': '40',\n  'chewing_tobacco_use': 'never_or_not_in_last_3mo',\n  'alcohol_use': 'more_than_two_daily',\n  'intraoperative_complications': {'blood_transfusion': False,\n   'injury_to_surrounding_organ': False,\n   'cardiac_event': False},\n  'hospitalization': 2,\n  'ischemia_time': 'not_applicable',\n  'radiographic_size': 8.1,\n  'pathologic_size': 7.3,\n  'malignant': True,\n  'pathology_t_stage': '2a',\n  'pathology_n_stage': '0',\n  'pathology_m_stage': '0',\n  'tumor_histologic_subtype': 'chromophobe',\n  'tumor_necrosis': True,\n  'tumor_isup_grade': None,\n  'clavien_surgical_complications': '0',\n  'er_visit': False,\n  'readmission': False,\n  'estimated_blood_loss': 80,\n  'surgery_type': 'laparoscopic',\n  'surgical_procedure': 'radical_nephrectomy',\n  'surgical_approach': 'Transperitoneal',\n  'operative_time': 198,\n  'cytoreductive': False,\n  'positive_resection_margins': False,\n  'last_preop_egfr': {'value': 89.0, 'days_before_nephrectomy': 12},\n  'first_postop_egfr': {'value': 60.0, 'days_before_nephrectomy': 84},\n  'last_postop_egfr': {'value': 68.0, 'days_before_nephrectomy': 910},\n  'vital_status': 'censored',\n  'vital_days_after_surgery': '730',\n  'voxel_spacing': {'x_spacing': 0.689453125,\n   'y_spacing': 0.689453125,\n   'z_spacing': 5.0}},\n {'case_id': 'case_00283',\n  'age_at_nephrectomy': 60,\n  'gender': 'male',\n  'body_mass_index': 28.81,\n  'comorbidities': {'myocardial_infarction': False,\n   'congestive_heart_failure': False,\n   'peripheral_vascular_disease': False,\n   'cerebrovascular_disease': False,\n   'dementia': False,\n   'copd': False,\n   'connective_tissue_disease': False,\n   'peptic_ulcer_disease': False,\n   'uncomplicated_diabetes_mellitus': False,\n   'diabetes_mellitus_with_end_organ_damage': False,\n   'chronic_kidney_disease': False,\n   'hemiplegia_from_stroke': False,\n   'leukemia': False,\n   'malignant_lymphoma': False,\n   'localized_solid_tumor': False,\n   'metastatic_solid_tumor': False,\n   'mild_liver_disease': False,\n   'moderate_to_severe_liver_disease': False,\n   'aids': False},\n  'smoking_history': 'previous_smoker',\n  'age_when_quit_smoking': None,\n  'pack_years': None,\n  'chewing_tobacco_use': 'never_or_not_in_last_3mo',\n  'alcohol_use': 'two_or_less_daily',\n  'intraoperative_complications': {'blood_transfusion': False,\n   'injury_to_surrounding_organ': False,\n   'cardiac_event': False},\n  'hospitalization': 2,\n  'ischemia_time': 'not_applicable',\n  'radiographic_size': 5.7,\n  'pathologic_size': 5.5,\n  'malignant': True,\n  'pathology_t_stage': '3',\n  'pathology_n_stage': 'X',\n  'pathology_m_stage': '1',\n  'tumor_histologic_subtype': 'clear_cell_rcc',\n  'tumor_necrosis': True,\n  'tumor_isup_grade': 4,\n  'clavien_surgical_complications': '2',\n  'er_visit': True,\n  'readmission': False,\n  'estimated_blood_loss': 50,\n  'surgery_type': 'laparoscopic',\n  'surgical_procedure': 'radical_nephrectomy',\n  'surgical_approach': 'Transperitoneal',\n  'operative_time': 163,\n  'cytoreductive': True,\n  'positive_resection_margins': False,\n  'last_preop_egfr': {'value': 78.0, 'days_before_nephrectomy': 61},\n  'first_postop_egfr': {'value': 61.0, 'days_before_nephrectomy': 91},\n  'last_postop_egfr': {'value': 48.0, 'days_before_nephrectomy': 1577},\n  'vital_status': 'censored',\n  'vital_days_after_surgery': '1577',\n  'voxel_spacing': {'x_spacing': 0.775390625,\n   'y_spacing': 0.775390625,\n   'z_spacing': 1.0}},\n {'case_id': 'case_00284',\n  'age_at_nephrectomy': 72,\n  'gender': 'female',\n  'body_mass_index': 25.42,\n  'comorbidities': {'myocardial_infarction': False,\n   'congestive_heart_failure': False,\n   'peripheral_vascular_disease': False,\n   'cerebrovascular_disease': True,\n   'dementia': False,\n   'copd': False,\n   'connective_tissue_disease': False,\n   'peptic_ulcer_disease': False,\n   'uncomplicated_diabetes_mellitus': True,\n   'diabetes_mellitus_with_end_organ_damage': False,\n   'chronic_kidney_disease': False,\n   'hemiplegia_from_stroke': False,\n   'leukemia': False,\n   'malignant_lymphoma': False,\n   'localized_solid_tumor': False,\n   'metastatic_solid_tumor': False,\n   'mild_liver_disease': False,\n   'moderate_to_severe_liver_disease': False,\n   'aids': False},\n  'smoking_history': 'never_smoked',\n  'age_when_quit_smoking': 'not_applicable',\n  'pack_years': 0,\n  'chewing_tobacco_use': 'never_or_not_in_last_3mo',\n  'alcohol_use': 'never_or_not_in_last_3mo',\n  'intraoperative_complications': {'blood_transfusion': False,\n   'injury_to_surrounding_organ': False,\n   'cardiac_event': False},\n  'hospitalization': 5,\n  'ischemia_time': 33,\n  'radiographic_size': 6.5,\n  'pathologic_size': 5.0,\n  'malignant': True,\n  'pathology_t_stage': '1b',\n  'pathology_n_stage': '0',\n  'pathology_m_stage': '0',\n  'tumor_histologic_subtype': 'clear_cell_rcc',\n  'tumor_necrosis': False,\n  'tumor_isup_grade': 3,\n  'clavien_surgical_complications': '0',\n  'er_visit': False,\n  'readmission': False,\n  'estimated_blood_loss': 300,\n  'surgery_type': 'open',\n  'surgical_procedure': 'partial_nephrectomy',\n  'surgical_approach': 'Retroperitoneal',\n  'operative_time': 185,\n  'cytoreductive': False,\n  'positive_resection_margins': False,\n  'last_preop_egfr': {'value': 68.0, 'days_before_nephrectomy': 14},\n  'first_postop_egfr': {'value': 46.0, 'days_before_nephrectomy': 75},\n  'last_postop_egfr': {'value': 50.0, 'days_before_nephrectomy': 1574},\n  'vital_status': 'dead',\n  'vital_days_after_surgery': '1600',\n  'voxel_spacing': {'x_spacing': 0.734375,\n   'y_spacing': 0.734375,\n   'z_spacing': 2.5}},\n {'case_id': 'case_00285',\n  'age_at_nephrectomy': 48,\n  'gender': 'male',\n  'body_mass_index': 24.37,\n  'comorbidities': {'myocardial_infarction': False,\n   'congestive_heart_failure': False,\n   'peripheral_vascular_disease': False,\n   'cerebrovascular_disease': False,\n   'dementia': False,\n   'copd': False,\n   'connective_tissue_disease': False,\n   'peptic_ulcer_disease': True,\n   'uncomplicated_diabetes_mellitus': False,\n   'diabetes_mellitus_with_end_organ_damage': False,\n   'chronic_kidney_disease': False,\n   'hemiplegia_from_stroke': False,\n   'leukemia': False,\n   'malignant_lymphoma': False,\n   'localized_solid_tumor': False,\n   'metastatic_solid_tumor': False,\n   'mild_liver_disease': False,\n   'moderate_to_severe_liver_disease': False,\n   'aids': False},\n  'smoking_history': 'previous_smoker',\n  'age_when_quit_smoking': '47',\n  'pack_years': '30',\n  'chewing_tobacco_use': 'never_or_not_in_last_3mo',\n  'alcohol_use': 'two_or_less_daily',\n  'intraoperative_complications': {'blood_transfusion': False,\n   'injury_to_surrounding_organ': False,\n   'cardiac_event': False},\n  'hospitalization': 4,\n  'ischemia_time': 'not_applicable',\n  'radiographic_size': 2.7,\n  'pathologic_size': 4.5,\n  'malignant': True,\n  'pathology_t_stage': '3',\n  'pathology_n_stage': 'X',\n  'pathology_m_stage': '1',\n  'tumor_histologic_subtype': 'clear_cell_rcc',\n  'tumor_necrosis': True,\n  'tumor_isup_grade': 3,\n  'clavien_surgical_complications': '0',\n  'er_visit': True,\n  'readmission': False,\n  'estimated_blood_loss': 200,\n  'surgery_type': 'laparoscopic',\n  'surgical_procedure': 'radical_nephrectomy',\n  'surgical_approach': 'Transperitoneal',\n  'operative_time': 215,\n  'cytoreductive': True,\n  'positive_resection_margins': False,\n  'last_preop_egfr': {'value': '>=90', 'days_before_nephrectomy': 3},\n  'first_postop_egfr': {'value': 57.0, 'days_before_nephrectomy': 105},\n  'last_postop_egfr': {'value': '>=90', 'days_before_nephrectomy': 396},\n  'vital_status': 'dead',\n  'vital_days_after_surgery': '396',\n  'voxel_spacing': {'x_spacing': 0.650390625,\n   'y_spacing': 0.650390625,\n   'z_spacing': 5.0}},\n {'case_id': 'case_00286',\n  'age_at_nephrectomy': 45,\n  'gender': 'male',\n  'body_mass_index': 55.0,\n  'comorbidities': {'myocardial_infarction': False,\n   'congestive_heart_failure': False,\n   'peripheral_vascular_disease': False,\n   'cerebrovascular_disease': False,\n   'dementia': False,\n   'copd': False,\n   'connective_tissue_disease': False,\n   'peptic_ulcer_disease': False,\n   'uncomplicated_diabetes_mellitus': False,\n   'diabetes_mellitus_with_end_organ_damage': False,\n   'chronic_kidney_disease': False,\n   'hemiplegia_from_stroke': False,\n   'leukemia': False,\n   'malignant_lymphoma': False,\n   'localized_solid_tumor': False,\n   'metastatic_solid_tumor': False,\n   'mild_liver_disease': False,\n   'moderate_to_severe_liver_disease': False,\n   'aids': False},\n  'smoking_history': 'never_smoked',\n  'age_when_quit_smoking': 'not_applicable',\n  'pack_years': 0,\n  'chewing_tobacco_use': 'never_or_not_in_last_3mo',\n  'alcohol_use': 'never_or_not_in_last_3mo',\n  'intraoperative_complications': {'blood_transfusion': False,\n   'injury_to_surrounding_organ': False,\n   'cardiac_event': False},\n  'hospitalization': 3,\n  'ischemia_time': 'not_applicable',\n  'radiographic_size': 12.1,\n  'pathologic_size': 10.0,\n  'malignant': True,\n  'pathology_t_stage': '3',\n  'pathology_n_stage': '0',\n  'pathology_m_stage': 'X',\n  'tumor_histologic_subtype': 'clear_cell_rcc',\n  'tumor_necrosis': True,\n  'tumor_isup_grade': 2,\n  'clavien_surgical_complications': '0',\n  'er_visit': False,\n  'readmission': False,\n  'estimated_blood_loss': 300,\n  'surgery_type': 'laparoscopic',\n  'surgical_procedure': 'radical_nephrectomy',\n  'surgical_approach': 'Transperitoneal',\n  'operative_time': 182,\n  'cytoreductive': False,\n  'positive_resection_margins': False,\n  'last_preop_egfr': {'value': 70.0, 'days_before_nephrectomy': 6},\n  'first_postop_egfr': {'value': 64.0, 'days_before_nephrectomy': 881},\n  'last_postop_egfr': {'value': 64.0, 'days_before_nephrectomy': 881},\n  'vital_status': 'censored',\n  'vital_days_after_surgery': '973',\n  'voxel_spacing': {'x_spacing': 0.8203125,\n   'y_spacing': 0.8203125,\n   'z_spacing': 5.0}},\n {'case_id': 'case_00287',\n  'age_at_nephrectomy': 59,\n  'gender': 'male',\n  'body_mass_index': 23.0,\n  'comorbidities': {'myocardial_infarction': False,\n   'congestive_heart_failure': False,\n   'peripheral_vascular_disease': False,\n   'cerebrovascular_disease': False,\n   'dementia': False,\n   'copd': False,\n   'connective_tissue_disease': False,\n   'peptic_ulcer_disease': False,\n   'uncomplicated_diabetes_mellitus': False,\n   'diabetes_mellitus_with_end_organ_damage': False,\n   'chronic_kidney_disease': False,\n   'hemiplegia_from_stroke': False,\n   'leukemia': False,\n   'malignant_lymphoma': False,\n   'localized_solid_tumor': False,\n   'metastatic_solid_tumor': False,\n   'mild_liver_disease': False,\n   'moderate_to_severe_liver_disease': False,\n   'aids': False},\n  'smoking_history': 'previous_smoker',\n  'age_when_quit_smoking': '59',\n  'pack_years': '5',\n  'chewing_tobacco_use': 'never_or_not_in_last_3mo',\n  'alcohol_use': 'two_or_less_daily',\n  'intraoperative_complications': {'blood_transfusion': False,\n   'injury_to_surrounding_organ': False,\n   'cardiac_event': False},\n  'hospitalization': 1,\n  'ischemia_time': 24,\n  'radiographic_size': 3.5,\n  'pathologic_size': 3.5,\n  'malignant': True,\n  'pathology_t_stage': '1a',\n  'pathology_n_stage': 'X',\n  'pathology_m_stage': 'X',\n  'tumor_histologic_subtype': 'clear_cell_rcc',\n  'tumor_necrosis': False,\n  'tumor_isup_grade': 1,\n  'clavien_surgical_complications': '0',\n  'er_visit': False,\n  'readmission': False,\n  'estimated_blood_loss': 150,\n  'surgery_type': 'robotic',\n  'surgical_procedure': 'partial_nephrectomy',\n  'surgical_approach': 'Retroperitoneal',\n  'operative_time': 186,\n  'cytoreductive': False,\n  'positive_resection_margins': False,\n  'last_preop_egfr': {'value': None, 'days_before_nephrectomy': None},\n  'first_postop_egfr': {'value': '>=90', 'days_before_nephrectomy': 195},\n  'last_postop_egfr': {'value': '>=90', 'days_before_nephrectomy': 580},\n  'vital_status': 'censored',\n  'vital_days_after_surgery': '580',\n  'voxel_spacing': {'x_spacing': 0.736328125,\n   'y_spacing': 0.736328125,\n   'z_spacing': 3.0}},\n {'case_id': 'case_00288',\n  'age_at_nephrectomy': 60,\n  'gender': 'female',\n  'body_mass_index': 31.14,\n  'comorbidities': {'myocardial_infarction': False,\n   'congestive_heart_failure': False,\n   'peripheral_vascular_disease': False,\n   'cerebrovascular_disease': False,\n   'dementia': False,\n   'copd': False,\n   'connective_tissue_disease': False,\n   'peptic_ulcer_disease': False,\n   'uncomplicated_diabetes_mellitus': False,\n   'diabetes_mellitus_with_end_organ_damage': False,\n   'chronic_kidney_disease': False,\n   'hemiplegia_from_stroke': False,\n   'leukemia': False,\n   'malignant_lymphoma': False,\n   'localized_solid_tumor': False,\n   'metastatic_solid_tumor': False,\n   'mild_liver_disease': False,\n   'moderate_to_severe_liver_disease': False,\n   'aids': False},\n  'smoking_history': 'current_smoker',\n  'age_when_quit_smoking': 'not_applicable',\n  'pack_years': None,\n  'chewing_tobacco_use': 'quit_in_last_3mo',\n  'alcohol_use': 'two_or_less_daily',\n  'intraoperative_complications': {'blood_transfusion': False,\n   'injury_to_surrounding_organ': False,\n   'cardiac_event': False},\n  'hospitalization': 3,\n  'ischemia_time': 'not_applicable',\n  'radiographic_size': 6.9,\n  'pathologic_size': 7.0,\n  'malignant': True,\n  'pathology_t_stage': '1b',\n  'pathology_n_stage': 'X',\n  'pathology_m_stage': 'X',\n  'tumor_histologic_subtype': 'other',\n  'tumor_necrosis': True,\n  'tumor_isup_grade': 4,\n  'clavien_surgical_complications': '0',\n  'er_visit': False,\n  'readmission': False,\n  'estimated_blood_loss': 175,\n  'surgery_type': 'laparoscopic',\n  'surgical_procedure': 'radical_nephrectomy',\n  'surgical_approach': 'Transperitoneal',\n  'operative_time': 98,\n  'cytoreductive': False,\n  'positive_resection_margins': False,\n  'last_preop_egfr': {'value': 45.0, 'days_before_nephrectomy': 36},\n  'first_postop_egfr': {'value': 37.0, 'days_before_nephrectomy': 356},\n  'last_postop_egfr': {'value': 37.0, 'days_before_nephrectomy': 356},\n  'vital_status': 'censored',\n  'vital_days_after_surgery': '418',\n  'voxel_spacing': {'x_spacing': 0.83984375,\n   'y_spacing': 0.83984375,\n   'z_spacing': 1.0}},\n {'case_id': 'case_00289',\n  'age_at_nephrectomy': 64,\n  'gender': 'male',\n  'body_mass_index': 33.4,\n  'comorbidities': {'myocardial_infarction': False,\n   'congestive_heart_failure': False,\n   'peripheral_vascular_disease': False,\n   'cerebrovascular_disease': False,\n   'dementia': False,\n   'copd': False,\n   'connective_tissue_disease': False,\n   'peptic_ulcer_disease': False,\n   'uncomplicated_diabetes_mellitus': False,\n   'diabetes_mellitus_with_end_organ_damage': False,\n   'chronic_kidney_disease': False,\n   'hemiplegia_from_stroke': False,\n   'leukemia': False,\n   'malignant_lymphoma': False,\n   'localized_solid_tumor': False,\n   'metastatic_solid_tumor': False,\n   'mild_liver_disease': False,\n   'moderate_to_severe_liver_disease': False,\n   'aids': False},\n  'smoking_history': 'never_smoked',\n  'age_when_quit_smoking': 'not_applicable',\n  'pack_years': 0,\n  'chewing_tobacco_use': 'never_or_not_in_last_3mo',\n  'alcohol_use': 'never_or_not_in_last_3mo',\n  'intraoperative_complications': {'blood_transfusion': False,\n   'injury_to_surrounding_organ': False,\n   'cardiac_event': False},\n  'hospitalization': 5,\n  'ischemia_time': 17,\n  'radiographic_size': 1.3,\n  'pathologic_size': 1.5,\n  'malignant': True,\n  'pathology_t_stage': '1a',\n  'pathology_n_stage': '0',\n  'pathology_m_stage': 'X',\n  'tumor_histologic_subtype': 'clear_cell_rcc',\n  'tumor_necrosis': False,\n  'tumor_isup_grade': 2,\n  'clavien_surgical_complications': '1',\n  'er_visit': False,\n  'readmission': True,\n  'estimated_blood_loss': 1900,\n  'surgery_type': 'open',\n  'surgical_procedure': 'partial_nephrectomy',\n  'surgical_approach': 'Retroperitoneal',\n  'operative_time': 243,\n  'cytoreductive': False,\n  'positive_resection_margins': False,\n  'last_preop_egfr': {'value': None, 'days_before_nephrectomy': None},\n  'first_postop_egfr': {'value': 73.0, 'days_before_nephrectomy': 2963},\n  'last_postop_egfr': {'value': 73.0, 'days_before_nephrectomy': 2963},\n  'vital_status': 'censored',\n  'vital_days_after_surgery': '2963',\n  'voxel_spacing': {'x_spacing': 0.77734375,\n   'y_spacing': 0.77734375,\n   'z_spacing': 5.0}},\n {'case_id': 'case_00290',\n  'age_at_nephrectomy': 58,\n  'gender': 'female',\n  'body_mass_index': 31.09,\n  'comorbidities': {'myocardial_infarction': False,\n   'congestive_heart_failure': False,\n   'peripheral_vascular_disease': False,\n   'cerebrovascular_disease': False,\n   'dementia': False,\n   'copd': False,\n   'connective_tissue_disease': False,\n   'peptic_ulcer_disease': True,\n   'uncomplicated_diabetes_mellitus': True,\n   'diabetes_mellitus_with_end_organ_damage': False,\n   'chronic_kidney_disease': False,\n   'hemiplegia_from_stroke': False,\n   'leukemia': False,\n   'malignant_lymphoma': False,\n   'localized_solid_tumor': False,\n   'metastatic_solid_tumor': False,\n   'mild_liver_disease': False,\n   'moderate_to_severe_liver_disease': False,\n   'aids': False},\n  'smoking_history': 'previous_smoker',\n  'age_when_quit_smoking': '51',\n  'pack_years': '60',\n  'chewing_tobacco_use': 'never_or_not_in_last_3mo',\n  'alcohol_use': 'never_or_not_in_last_3mo',\n  'intraoperative_complications': {'blood_transfusion': False,\n   'injury_to_surrounding_organ': False,\n   'cardiac_event': False},\n  'hospitalization': 4,\n  'ischemia_time': 28,\n  'radiographic_size': 2.7,\n  'pathologic_size': 2.1,\n  'malignant': True,\n  'pathology_t_stage': '1a',\n  'pathology_n_stage': 'X',\n  'pathology_m_stage': 'X',\n  'tumor_histologic_subtype': 'clear_cell_rcc',\n  'tumor_necrosis': False,\n  'tumor_isup_grade': 1,\n  'clavien_surgical_complications': '0',\n  'er_visit': False,\n  'readmission': False,\n  'estimated_blood_loss': 100,\n  'surgery_type': 'open',\n  'surgical_procedure': 'partial_nephrectomy',\n  'surgical_approach': 'Retroperitoneal',\n  'operative_time': 318,\n  'cytoreductive': False,\n  'positive_resection_margins': False,\n  'last_preop_egfr': {'value': 64.0, 'days_before_nephrectomy': 22},\n  'first_postop_egfr': {'value': 21.0, 'days_before_nephrectomy': 2422},\n  'last_postop_egfr': {'value': 21.0, 'days_before_nephrectomy': 2422},\n  'vital_status': 'censored',\n  'vital_days_after_surgery': '2527',\n  'voxel_spacing': {'x_spacing': 0.8359375,\n   'y_spacing': 0.8359375,\n   'z_spacing': 0.5}},\n {'case_id': 'case_00291',\n  'age_at_nephrectomy': 65,\n  'gender': 'male',\n  'body_mass_index': 28.58,\n  'comorbidities': {'myocardial_infarction': False,\n   'congestive_heart_failure': True,\n   'peripheral_vascular_disease': False,\n   'cerebrovascular_disease': False,\n   'dementia': False,\n   'copd': False,\n   'connective_tissue_disease': False,\n   'peptic_ulcer_disease': False,\n   'uncomplicated_diabetes_mellitus': True,\n   'diabetes_mellitus_with_end_organ_damage': False,\n   'chronic_kidney_disease': False,\n   'hemiplegia_from_stroke': False,\n   'leukemia': False,\n   'malignant_lymphoma': False,\n   'localized_solid_tumor': False,\n   'metastatic_solid_tumor': True,\n   'mild_liver_disease': False,\n   'moderate_to_severe_liver_disease': False,\n   'aids': False},\n  'smoking_history': 'previous_smoker',\n  'age_when_quit_smoking': None,\n  'pack_years': None,\n  'chewing_tobacco_use': 'never_or_not_in_last_3mo',\n  'alcohol_use': 'two_or_less_daily',\n  'intraoperative_complications': {'blood_transfusion': False,\n   'injury_to_surrounding_organ': False,\n   'cardiac_event': False},\n  'hospitalization': 5,\n  'ischemia_time': 'not_applicable',\n  'radiographic_size': 7.6,\n  'pathologic_size': 7.5,\n  'malignant': True,\n  'pathology_t_stage': '3',\n  'pathology_n_stage': '2',\n  'pathology_m_stage': '1',\n  'tumor_histologic_subtype': 'collecting_duct_undefined',\n  'tumor_necrosis': True,\n  'tumor_isup_grade': 4,\n  'clavien_surgical_complications': '0',\n  'er_visit': False,\n  'readmission': False,\n  'estimated_blood_loss': 700,\n  'surgery_type': 'open',\n  'surgical_procedure': 'radical_nephrectomy',\n  'surgical_approach': 'Transperitoneal',\n  'operative_time': 195,\n  'cytoreductive': True,\n  'positive_resection_margins': False,\n  'last_preop_egfr': {'value': '>=90', 'days_before_nephrectomy': 35},\n  'first_postop_egfr': {'value': 84.0, 'days_before_nephrectomy': 91},\n  'last_postop_egfr': {'value': 84.0, 'days_before_nephrectomy': 91},\n  'vital_status': 'dead',\n  'vital_days_after_surgery': '139',\n  'voxel_spacing': {'x_spacing': 0.8203125,\n   'y_spacing': 0.8203125,\n   'z_spacing': 5.0}},\n {'case_id': 'case_00292',\n  'age_at_nephrectomy': 53,\n  'gender': 'male',\n  'body_mass_index': 31.97,\n  'comorbidities': {'myocardial_infarction': False,\n   'congestive_heart_failure': False,\n   'peripheral_vascular_disease': False,\n   'cerebrovascular_disease': False,\n   'dementia': False,\n   'copd': False,\n   'connective_tissue_disease': False,\n   'peptic_ulcer_disease': False,\n   'uncomplicated_diabetes_mellitus': True,\n   'diabetes_mellitus_with_end_organ_damage': False,\n   'chronic_kidney_disease': False,\n   'hemiplegia_from_stroke': False,\n   'leukemia': False,\n   'malignant_lymphoma': False,\n   'localized_solid_tumor': False,\n   'metastatic_solid_tumor': False,\n   'mild_liver_disease': False,\n   'moderate_to_severe_liver_disease': False,\n   'aids': False},\n  'smoking_history': 'never_smoked',\n  'age_when_quit_smoking': 'not_applicable',\n  'pack_years': 0,\n  'chewing_tobacco_use': 'never_or_not_in_last_3mo',\n  'alcohol_use': 'two_or_less_daily',\n  'intraoperative_complications': {'blood_transfusion': False,\n   'injury_to_surrounding_organ': False,\n   'cardiac_event': False},\n  'hospitalization': 5,\n  'ischemia_time': 'not_applicable',\n  'radiographic_size': 12.0,\n  'pathologic_size': 15.8,\n  'malignant': True,\n  'pathology_t_stage': '3',\n  'pathology_n_stage': 'X',\n  'pathology_m_stage': 'X',\n  'tumor_histologic_subtype': 'clear_cell_rcc',\n  'tumor_necrosis': True,\n  'tumor_isup_grade': 3,\n  'clavien_surgical_complications': '0',\n  'er_visit': False,\n  'readmission': False,\n  'estimated_blood_loss': 250,\n  'surgery_type': 'open',\n  'surgical_procedure': 'radical_nephrectomy',\n  'surgical_approach': 'Retroperitoneal',\n  'operative_time': 227,\n  'cytoreductive': False,\n  'positive_resection_margins': False,\n  'last_preop_egfr': {'value': 72.0, 'days_before_nephrectomy': 33},\n  'first_postop_egfr': {'value': None, 'days_before_nephrectomy': None},\n  'last_postop_egfr': {'value': None, 'days_before_nephrectomy': None},\n  'vital_status': 'censored',\n  'vital_days_after_surgery': '72',\n  'voxel_spacing': {'x_spacing': 0.890625,\n   'y_spacing': 0.890625,\n   'z_spacing': 5.0}},\n {'case_id': 'case_00293',\n  'age_at_nephrectomy': 29,\n  'gender': 'female',\n  'body_mass_index': 26.07,\n  'comorbidities': {'myocardial_infarction': False,\n   'congestive_heart_failure': False,\n   'peripheral_vascular_disease': False,\n   'cerebrovascular_disease': False,\n   'dementia': False,\n   'copd': False,\n   'connective_tissue_disease': False,\n   'peptic_ulcer_disease': False,\n   'uncomplicated_diabetes_mellitus': False,\n   'diabetes_mellitus_with_end_organ_damage': False,\n   'chronic_kidney_disease': False,\n   'hemiplegia_from_stroke': False,\n   'leukemia': False,\n   'malignant_lymphoma': False,\n   'localized_solid_tumor': False,\n   'metastatic_solid_tumor': False,\n   'mild_liver_disease': False,\n   'moderate_to_severe_liver_disease': False,\n   'aids': False},\n  'smoking_history': 'never_smoked',\n  'age_when_quit_smoking': 'not_applicable',\n  'pack_years': 0,\n  'chewing_tobacco_use': 'never_or_not_in_last_3mo',\n  'alcohol_use': 'never_or_not_in_last_3mo',\n  'intraoperative_complications': {'blood_transfusion': False,\n   'injury_to_surrounding_organ': False,\n   'cardiac_event': False},\n  'hospitalization': 8,\n  'ischemia_time': 59,\n  'radiographic_size': 7.3,\n  'pathologic_size': 7.3,\n  'malignant': True,\n  'pathology_t_stage': '2a',\n  'pathology_n_stage': '0',\n  'pathology_m_stage': 'X',\n  'tumor_histologic_subtype': 'chromophobe',\n  'tumor_necrosis': None,\n  'tumor_isup_grade': None,\n  'clavien_surgical_complications': '3b',\n  'er_visit': False,\n  'readmission': False,\n  'estimated_blood_loss': 500,\n  'surgery_type': 'open',\n  'surgical_procedure': 'partial_nephrectomy',\n  'surgical_approach': 'Transperitoneal',\n  'operative_time': 359,\n  'cytoreductive': False,\n  'positive_resection_margins': False,\n  'last_preop_egfr': {'value': 76.0, 'days_before_nephrectomy': 28},\n  'first_postop_egfr': {'value': 64.0, 'days_before_nephrectomy': 904},\n  'last_postop_egfr': {'value': 64.0, 'days_before_nephrectomy': 904},\n  'vital_status': 'censored',\n  'vital_days_after_surgery': '904',\n  'voxel_spacing': {'x_spacing': 0.703125,\n   'y_spacing': 0.703125,\n   'z_spacing': 0.5}},\n {'case_id': 'case_00294',\n  'age_at_nephrectomy': 68,\n  'gender': 'male',\n  'body_mass_index': 24.86,\n  'comorbidities': {'myocardial_infarction': False,\n   'congestive_heart_failure': False,\n   'peripheral_vascular_disease': False,\n   'cerebrovascular_disease': True,\n   'dementia': False,\n   'copd': False,\n   'connective_tissue_disease': False,\n   'peptic_ulcer_disease': False,\n   'uncomplicated_diabetes_mellitus': False,\n   'diabetes_mellitus_with_end_organ_damage': False,\n   'chronic_kidney_disease': False,\n   'hemiplegia_from_stroke': False,\n   'leukemia': False,\n   'malignant_lymphoma': False,\n   'localized_solid_tumor': True,\n   'metastatic_solid_tumor': True,\n   'mild_liver_disease': False,\n   'moderate_to_severe_liver_disease': False,\n   'aids': False},\n  'smoking_history': 'never_smoked',\n  'age_when_quit_smoking': 'not_applicable',\n  'pack_years': 0,\n  'chewing_tobacco_use': 'never_or_not_in_last_3mo',\n  'alcohol_use': 'never_or_not_in_last_3mo',\n  'intraoperative_complications': {'blood_transfusion': False,\n   'injury_to_surrounding_organ': False,\n   'cardiac_event': False},\n  'hospitalization': 3,\n  'ischemia_time': 15,\n  'radiographic_size': 3.3,\n  'pathologic_size': 3.2,\n  'malignant': True,\n  'pathology_t_stage': '1a',\n  'pathology_n_stage': '0',\n  'pathology_m_stage': '0',\n  'tumor_histologic_subtype': 'clear_cell_rcc',\n  'tumor_necrosis': False,\n  'tumor_isup_grade': 3,\n  'clavien_surgical_complications': '0',\n  'er_visit': False,\n  'readmission': False,\n  'estimated_blood_loss': 150,\n  'surgery_type': 'open',\n  'surgical_procedure': 'partial_nephrectomy',\n  'surgical_approach': 'Transperitoneal',\n  'operative_time': 260,\n  'cytoreductive': False,\n  'positive_resection_margins': False,\n  'last_preop_egfr': {'value': None, 'days_before_nephrectomy': None},\n  'first_postop_egfr': {'value': 33.0, 'days_before_nephrectomy': 120},\n  'last_postop_egfr': {'value': 46.0, 'days_before_nephrectomy': 404},\n  'vital_status': 'censored',\n  'vital_days_after_surgery': '404',\n  'voxel_spacing': {'x_spacing': 0.767578125,\n   'y_spacing': 0.767578125,\n   'z_spacing': 0.5}},\n {'case_id': 'case_00295',\n  'age_at_nephrectomy': 48,\n  'gender': 'male',\n  'body_mass_index': 43.9,\n  'comorbidities': {'myocardial_infarction': False,\n   'congestive_heart_failure': False,\n   'peripheral_vascular_disease': False,\n   'cerebrovascular_disease': False,\n   'dementia': False,\n   'copd': False,\n   'connective_tissue_disease': False,\n   'peptic_ulcer_disease': False,\n   'uncomplicated_diabetes_mellitus': False,\n   'diabetes_mellitus_with_end_organ_damage': False,\n   'chronic_kidney_disease': False,\n   'hemiplegia_from_stroke': False,\n   'leukemia': False,\n   'malignant_lymphoma': False,\n   'localized_solid_tumor': False,\n   'metastatic_solid_tumor': False,\n   'mild_liver_disease': False,\n   'moderate_to_severe_liver_disease': False,\n   'aids': False},\n  'smoking_history': 'current_smoker',\n  'age_when_quit_smoking': 'not_applicable',\n  'pack_years': None,\n  'chewing_tobacco_use': 'never_or_not_in_last_3mo',\n  'alcohol_use': 'two_or_less_daily',\n  'intraoperative_complications': {'blood_transfusion': False,\n   'injury_to_surrounding_organ': False,\n   'cardiac_event': False},\n  'hospitalization': 2,\n  'ischemia_time': 30,\n  'radiographic_size': 3.3,\n  'pathologic_size': 4.6,\n  'malignant': True,\n  'pathology_t_stage': '1b',\n  'pathology_n_stage': '0',\n  'pathology_m_stage': '0',\n  'tumor_histologic_subtype': 'clear_cell_rcc',\n  'tumor_necrosis': False,\n  'tumor_isup_grade': 2,\n  'clavien_surgical_complications': '0',\n  'er_visit': False,\n  'readmission': False,\n  'estimated_blood_loss': 150,\n  'surgery_type': 'robotic',\n  'surgical_procedure': 'partial_nephrectomy',\n  'surgical_approach': 'Transperitoneal',\n  'operative_time': 280,\n  'cytoreductive': False,\n  'positive_resection_margins': False,\n  'last_preop_egfr': {'value': 87.0, 'days_before_nephrectomy': 68},\n  'first_postop_egfr': {'value': None, 'days_before_nephrectomy': None},\n  'last_postop_egfr': {'value': None, 'days_before_nephrectomy': None},\n  'vital_status': 'censored',\n  'vital_days_after_surgery': '16',\n  'voxel_spacing': {'x_spacing': 0.919921875,\n   'y_spacing': 0.919921875,\n   'z_spacing': 0.5}},\n {'case_id': 'case_00296',\n  'age_at_nephrectomy': 51,\n  'gender': 'female',\n  'body_mass_index': 17.8,\n  'comorbidities': {'myocardial_infarction': False,\n   'congestive_heart_failure': False,\n   'peripheral_vascular_disease': False,\n   'cerebrovascular_disease': False,\n   'dementia': False,\n   'copd': False,\n   'connective_tissue_disease': False,\n   'peptic_ulcer_disease': False,\n   'uncomplicated_diabetes_mellitus': False,\n   'diabetes_mellitus_with_end_organ_damage': False,\n   'chronic_kidney_disease': False,\n   'hemiplegia_from_stroke': False,\n   'leukemia': False,\n   'malignant_lymphoma': False,\n   'localized_solid_tumor': False,\n   'metastatic_solid_tumor': False,\n   'mild_liver_disease': False,\n   'moderate_to_severe_liver_disease': False,\n   'aids': False},\n  'smoking_history': 'previous_smoker',\n  'age_when_quit_smoking': '22',\n  'pack_years': None,\n  'chewing_tobacco_use': 'never_or_not_in_last_3mo',\n  'alcohol_use': 'never_or_not_in_last_3mo',\n  'intraoperative_complications': {'blood_transfusion': False,\n   'injury_to_surrounding_organ': False,\n   'cardiac_event': False},\n  'hospitalization': 3,\n  'ischemia_time': 'not_applicable',\n  'radiographic_size': 2.8,\n  'pathologic_size': 2.5,\n  'malignant': True,\n  'pathology_t_stage': '1a',\n  'pathology_n_stage': '0',\n  'pathology_m_stage': 'X',\n  'tumor_histologic_subtype': 'clear_cell_rcc',\n  'tumor_necrosis': None,\n  'tumor_isup_grade': 2,\n  'clavien_surgical_complications': '0',\n  'er_visit': False,\n  'readmission': False,\n  'estimated_blood_loss': 10,\n  'surgery_type': 'laparoscopic',\n  'surgical_procedure': 'radical_nephrectomy',\n  'surgical_approach': 'Transperitoneal',\n  'operative_time': 173,\n  'cytoreductive': False,\n  'positive_resection_margins': False,\n  'last_preop_egfr': {'value': '>=90', 'days_before_nephrectomy': 3},\n  'first_postop_egfr': {'value': 55.0, 'days_before_nephrectomy': 110},\n  'last_postop_egfr': {'value': 47.0, 'days_before_nephrectomy': 1697},\n  'vital_status': 'censored',\n  'vital_days_after_surgery': '1900',\n  'voxel_spacing': {'x_spacing': 0.62109375,\n   'y_spacing': 0.62109375,\n   'z_spacing': 5.0}},\n {'case_id': 'case_00297',\n  'age_at_nephrectomy': 64,\n  'gender': 'male',\n  'body_mass_index': 23.37,\n  'comorbidities': {'myocardial_infarction': False,\n   'congestive_heart_failure': False,\n   'peripheral_vascular_disease': True,\n   'cerebrovascular_disease': False,\n   'dementia': False,\n   'copd': False,\n   'connective_tissue_disease': False,\n   'peptic_ulcer_disease': False,\n   'uncomplicated_diabetes_mellitus': False,\n   'diabetes_mellitus_with_end_organ_damage': False,\n   'chronic_kidney_disease': True,\n   'hemiplegia_from_stroke': False,\n   'leukemia': False,\n   'malignant_lymphoma': False,\n   'localized_solid_tumor': False,\n   'metastatic_solid_tumor': False,\n   'mild_liver_disease': False,\n   'moderate_to_severe_liver_disease': False,\n   'aids': False},\n  'smoking_history': 'previous_smoker',\n  'age_when_quit_smoking': '35',\n  'pack_years': None,\n  'chewing_tobacco_use': 'never_or_not_in_last_3mo',\n  'alcohol_use': 'never_or_not_in_last_3mo',\n  'intraoperative_complications': {'blood_transfusion': False,\n   'injury_to_surrounding_organ': False,\n   'cardiac_event': False},\n  'hospitalization': 4,\n  'ischemia_time': 18,\n  'radiographic_size': 4.2,\n  'pathologic_size': 4.1,\n  'malignant': True,\n  'pathology_t_stage': '1b',\n  'pathology_n_stage': 'X',\n  'pathology_m_stage': 'X',\n  'tumor_histologic_subtype': 'clear_cell_rcc',\n  'tumor_necrosis': False,\n  'tumor_isup_grade': 3,\n  'clavien_surgical_complications': '0',\n  'er_visit': False,\n  'readmission': False,\n  'estimated_blood_loss': 200,\n  'surgery_type': 'open',\n  'surgical_procedure': 'partial_nephrectomy',\n  'surgical_approach': 'Retroperitoneal',\n  'operative_time': 164,\n  'cytoreductive': False,\n  'positive_resection_margins': False,\n  'last_preop_egfr': {'value': 50.0, 'days_before_nephrectomy': 15},\n  'first_postop_egfr': {'value': 37.0, 'days_before_nephrectomy': 75},\n  'last_postop_egfr': {'value': 33.0, 'days_before_nephrectomy': 736},\n  'vital_status': 'censored',\n  'vital_days_after_surgery': '764',\n  'voxel_spacing': {'x_spacing': 0.7400000095367432,\n   'y_spacing': 0.7400000095367432,\n   'z_spacing': 5.0}},\n {'case_id': 'case_00298',\n  'age_at_nephrectomy': 40,\n  'gender': 'male',\n  'body_mass_index': 22.45,\n  'comorbidities': {'myocardial_infarction': False,\n   'congestive_heart_failure': False,\n   'peripheral_vascular_disease': False,\n   'cerebrovascular_disease': False,\n   'dementia': False,\n   'copd': False,\n   'connective_tissue_disease': False,\n   'peptic_ulcer_disease': False,\n   'uncomplicated_diabetes_mellitus': False,\n   'diabetes_mellitus_with_end_organ_damage': False,\n   'chronic_kidney_disease': False,\n   'hemiplegia_from_stroke': False,\n   'leukemia': False,\n   'malignant_lymphoma': False,\n   'localized_solid_tumor': False,\n   'metastatic_solid_tumor': False,\n   'mild_liver_disease': False,\n   'moderate_to_severe_liver_disease': False,\n   'aids': False},\n  'smoking_history': 'previous_smoker',\n  'age_when_quit_smoking': None,\n  'pack_years': None,\n  'chewing_tobacco_use': 'never_or_not_in_last_3mo',\n  'alcohol_use': 'two_or_less_daily',\n  'intraoperative_complications': {'blood_transfusion': False,\n   'injury_to_surrounding_organ': False,\n   'cardiac_event': False},\n  'hospitalization': 2,\n  'ischemia_time': 'not_applicable',\n  'radiographic_size': 5.9,\n  'pathologic_size': 4.8,\n  'malignant': True,\n  'pathology_t_stage': '3',\n  'pathology_n_stage': 'X',\n  'pathology_m_stage': 'X',\n  'tumor_histologic_subtype': 'clear_cell_rcc',\n  'tumor_necrosis': False,\n  'tumor_isup_grade': 3,\n  'clavien_surgical_complications': '0',\n  'er_visit': False,\n  'readmission': False,\n  'estimated_blood_loss': 800,\n  'surgery_type': 'robotic',\n  'surgical_procedure': 'radical_nephrectomy',\n  'surgical_approach': 'Transperitoneal',\n  'operative_time': 142,\n  'cytoreductive': False,\n  'positive_resection_margins': False,\n  'last_preop_egfr': {'value': None, 'days_before_nephrectomy': None},\n  'first_postop_egfr': {'value': 86.0, 'days_before_nephrectomy': 87},\n  'last_postop_egfr': {'value': 86.0, 'days_before_nephrectomy': 87},\n  'vital_status': 'censored',\n  'vital_days_after_surgery': '87',\n  'voxel_spacing': {'x_spacing': 0.734375,\n   'y_spacing': 0.734375,\n   'z_spacing': 0.5}},\n {'case_id': 'case_00299',\n  'age_at_nephrectomy': 71,\n  'gender': 'transgender_male_to_female',\n  'body_mass_index': 25.92,\n  'comorbidities': {'myocardial_infarction': False,\n   'congestive_heart_failure': False,\n   'peripheral_vascular_disease': False,\n   'cerebrovascular_disease': False,\n   'dementia': False,\n   'copd': False,\n   'connective_tissue_disease': False,\n   'peptic_ulcer_disease': False,\n   'uncomplicated_diabetes_mellitus': False,\n   'diabetes_mellitus_with_end_organ_damage': False,\n   'chronic_kidney_disease': True,\n   'hemiplegia_from_stroke': False,\n   'leukemia': False,\n   'malignant_lymphoma': False,\n   'localized_solid_tumor': True,\n   'metastatic_solid_tumor': False,\n   'mild_liver_disease': False,\n   'moderate_to_severe_liver_disease': False,\n   'aids': False},\n  'smoking_history': 'previous_smoker',\n  'age_when_quit_smoking': None,\n  'pack_years': None,\n  'chewing_tobacco_use': 'never_or_not_in_last_3mo',\n  'alcohol_use': 'two_or_less_daily',\n  'intraoperative_complications': {'blood_transfusion': False,\n   'injury_to_surrounding_organ': False,\n   'cardiac_event': False},\n  'hospitalization': 1,\n  'ischemia_time': 0,\n  'radiographic_size': 1.5,\n  'pathologic_size': 1.7,\n  'malignant': True,\n  'pathology_t_stage': '1a',\n  'pathology_n_stage': 'X',\n  'pathology_m_stage': 'X',\n  'tumor_histologic_subtype': 'papillary',\n  'tumor_necrosis': None,\n  'tumor_isup_grade': None,\n  'clavien_surgical_complications': '0',\n  'er_visit': False,\n  'readmission': False,\n  'estimated_blood_loss': 75,\n  'surgery_type': 'robotic',\n  'surgical_procedure': 'partial_nephrectomy',\n  'surgical_approach': 'Transperitoneal',\n  'operative_time': 142,\n  'cytoreductive': False,\n  'positive_resection_margins': True,\n  'last_preop_egfr': {'value': 45.0, 'days_before_nephrectomy': 1},\n  'first_postop_egfr': {'value': None, 'days_before_nephrectomy': None},\n  'last_postop_egfr': {'value': None, 'days_before_nephrectomy': None},\n  'vital_status': 'censored',\n  'vital_days_after_surgery': '51',\n  'voxel_spacing': {'x_spacing': 0.751953125,\n   'y_spacing': 0.751953125,\n   'z_spacing': 0.5}}]"
     },
     "execution_count": 19,
     "metadata": {},
     "output_type": "execute_result"
    }
   ],
   "source": [
    "contents"
   ],
   "metadata": {
    "collapsed": false
   }
  },
  {
   "cell_type": "code",
   "execution_count": 14,
   "outputs": [],
   "source": [
    "import pandas as pd"
   ],
   "metadata": {
    "collapsed": false
   }
  },
  {
   "cell_type": "code",
   "execution_count": 21,
   "outputs": [],
   "source": [
    "df = pd.read_json('/Users/joonasariva/Documents/PHD/kits21/kits21/data/kits.json')"
   ],
   "metadata": {
    "collapsed": false
   }
  },
  {
   "cell_type": "code",
   "execution_count": 22,
   "outputs": [
    {
     "data": {
      "text/plain": "      case_id  age_at_nephrectomy  gender  body_mass_index  \\\n0  case_00000                  49    male            29.47   \n1  case_00001                  50    male            33.71   \n2  case_00002                  74    male            28.13   \n3  case_00003                  44  female            38.69   \n4  case_00004                  73    male            28.59   \n\n                                       comorbidities  smoking_history  \\\n0  {'myocardial_infarction': False, 'congestive_h...     never_smoked   \n1  {'myocardial_infarction': False, 'congestive_h...  previous_smoker   \n2  {'myocardial_infarction': False, 'congestive_h...   current_smoker   \n3  {'myocardial_infarction': False, 'congestive_h...  previous_smoker   \n4  {'myocardial_infarction': False, 'congestive_h...  previous_smoker   \n\n  age_when_quit_smoking  pack_years       chewing_tobacco_use  \\\n0        not_applicable         0.0  never_or_not_in_last_3mo   \n1                    33         7.0  never_or_not_in_last_3mo   \n2        not_applicable        50.0  never_or_not_in_last_3mo   \n3                  None         NaN  never_or_not_in_last_3mo   \n4                    55         NaN  never_or_not_in_last_3mo   \n\n                alcohol_use  ... surgical_approach operative_time  \\\n0         two_or_less_daily  ...   Transperitoneal          324.0   \n1         two_or_less_daily  ...   Retroperitoneal          293.0   \n2  never_or_not_in_last_3mo  ...   Transperitoneal          229.0   \n3         two_or_less_daily  ...   Transperitoneal          180.0   \n4  never_or_not_in_last_3mo  ...   Transperitoneal          123.0   \n\n  cytoreductive  positive_resection_margins  \\\n0         False                       False   \n1         False                       False   \n2         False                       False   \n3         False                       False   \n4         False                       False   \n\n                                    last_preop_egfr  \\\n0    {'value': 77.0, 'days_before_nephrectomy': 54}   \n1     {'value': 67.0, 'days_before_nephrectomy': 1}   \n2  {'value': None, 'days_before_nephrectomy': None}   \n3    {'value': 86.0, 'days_before_nephrectomy': 61}   \n4  {'value': None, 'days_before_nephrectomy': None}   \n\n                                 first_postop_egfr  \\\n0  {'value': 76.0, 'days_before_nephrectomy': 184}   \n1  {'value': 58.0, 'days_before_nephrectomy': 117}   \n2   {'value': 85.0, 'days_before_nephrectomy': 76}   \n3  {'value': 80.0, 'days_before_nephrectomy': 114}   \n4  {'value': 45.0, 'days_before_nephrectomy': 500}   \n\n                                    last_postop_egfr vital_status  \\\n0  {'value': '>=90', 'days_before_nephrectomy': 1...     censored   \n1   {'value': 56.0, 'days_before_nephrectomy': 1401}     censored   \n2   {'value': 83.0, 'days_before_nephrectomy': 1185}     censored   \n3    {'value': 80.0, 'days_before_nephrectomy': 114}     censored   \n4    {'value': 45.0, 'days_before_nephrectomy': 500}     censored   \n\n  vital_days_after_surgery                                      voxel_spacing  \n0                     1420  {'x_spacing': 0.9199218750000001, 'y_spacing':...  \n1                     1401  {'x_spacing': 0.798828125, 'y_spacing': 0.7988...  \n2                     1185  {'x_spacing': 0.9394531250000001, 'y_spacing':...  \n3                      114  {'x_spacing': 0.85546875, 'y_spacing': 0.85546...  \n4                      500  {'x_spacing': 0.9765625, 'y_spacing': 0.976562...  \n\n[5 rows x 38 columns]",
      "text/html": "<div>\n<style scoped>\n    .dataframe tbody tr th:only-of-type {\n        vertical-align: middle;\n    }\n\n    .dataframe tbody tr th {\n        vertical-align: top;\n    }\n\n    .dataframe thead th {\n        text-align: right;\n    }\n</style>\n<table border=\"1\" class=\"dataframe\">\n  <thead>\n    <tr style=\"text-align: right;\">\n      <th></th>\n      <th>case_id</th>\n      <th>age_at_nephrectomy</th>\n      <th>gender</th>\n      <th>body_mass_index</th>\n      <th>comorbidities</th>\n      <th>smoking_history</th>\n      <th>age_when_quit_smoking</th>\n      <th>pack_years</th>\n      <th>chewing_tobacco_use</th>\n      <th>alcohol_use</th>\n      <th>...</th>\n      <th>surgical_approach</th>\n      <th>operative_time</th>\n      <th>cytoreductive</th>\n      <th>positive_resection_margins</th>\n      <th>last_preop_egfr</th>\n      <th>first_postop_egfr</th>\n      <th>last_postop_egfr</th>\n      <th>vital_status</th>\n      <th>vital_days_after_surgery</th>\n      <th>voxel_spacing</th>\n    </tr>\n  </thead>\n  <tbody>\n    <tr>\n      <th>0</th>\n      <td>case_00000</td>\n      <td>49</td>\n      <td>male</td>\n      <td>29.47</td>\n      <td>{'myocardial_infarction': False, 'congestive_h...</td>\n      <td>never_smoked</td>\n      <td>not_applicable</td>\n      <td>0.0</td>\n      <td>never_or_not_in_last_3mo</td>\n      <td>two_or_less_daily</td>\n      <td>...</td>\n      <td>Transperitoneal</td>\n      <td>324.0</td>\n      <td>False</td>\n      <td>False</td>\n      <td>{'value': 77.0, 'days_before_nephrectomy': 54}</td>\n      <td>{'value': 76.0, 'days_before_nephrectomy': 184}</td>\n      <td>{'value': '&gt;=90', 'days_before_nephrectomy': 1...</td>\n      <td>censored</td>\n      <td>1420</td>\n      <td>{'x_spacing': 0.9199218750000001, 'y_spacing':...</td>\n    </tr>\n    <tr>\n      <th>1</th>\n      <td>case_00001</td>\n      <td>50</td>\n      <td>male</td>\n      <td>33.71</td>\n      <td>{'myocardial_infarction': False, 'congestive_h...</td>\n      <td>previous_smoker</td>\n      <td>33</td>\n      <td>7.0</td>\n      <td>never_or_not_in_last_3mo</td>\n      <td>two_or_less_daily</td>\n      <td>...</td>\n      <td>Retroperitoneal</td>\n      <td>293.0</td>\n      <td>False</td>\n      <td>False</td>\n      <td>{'value': 67.0, 'days_before_nephrectomy': 1}</td>\n      <td>{'value': 58.0, 'days_before_nephrectomy': 117}</td>\n      <td>{'value': 56.0, 'days_before_nephrectomy': 1401}</td>\n      <td>censored</td>\n      <td>1401</td>\n      <td>{'x_spacing': 0.798828125, 'y_spacing': 0.7988...</td>\n    </tr>\n    <tr>\n      <th>2</th>\n      <td>case_00002</td>\n      <td>74</td>\n      <td>male</td>\n      <td>28.13</td>\n      <td>{'myocardial_infarction': False, 'congestive_h...</td>\n      <td>current_smoker</td>\n      <td>not_applicable</td>\n      <td>50.0</td>\n      <td>never_or_not_in_last_3mo</td>\n      <td>never_or_not_in_last_3mo</td>\n      <td>...</td>\n      <td>Transperitoneal</td>\n      <td>229.0</td>\n      <td>False</td>\n      <td>False</td>\n      <td>{'value': None, 'days_before_nephrectomy': None}</td>\n      <td>{'value': 85.0, 'days_before_nephrectomy': 76}</td>\n      <td>{'value': 83.0, 'days_before_nephrectomy': 1185}</td>\n      <td>censored</td>\n      <td>1185</td>\n      <td>{'x_spacing': 0.9394531250000001, 'y_spacing':...</td>\n    </tr>\n    <tr>\n      <th>3</th>\n      <td>case_00003</td>\n      <td>44</td>\n      <td>female</td>\n      <td>38.69</td>\n      <td>{'myocardial_infarction': False, 'congestive_h...</td>\n      <td>previous_smoker</td>\n      <td>None</td>\n      <td>NaN</td>\n      <td>never_or_not_in_last_3mo</td>\n      <td>two_or_less_daily</td>\n      <td>...</td>\n      <td>Transperitoneal</td>\n      <td>180.0</td>\n      <td>False</td>\n      <td>False</td>\n      <td>{'value': 86.0, 'days_before_nephrectomy': 61}</td>\n      <td>{'value': 80.0, 'days_before_nephrectomy': 114}</td>\n      <td>{'value': 80.0, 'days_before_nephrectomy': 114}</td>\n      <td>censored</td>\n      <td>114</td>\n      <td>{'x_spacing': 0.85546875, 'y_spacing': 0.85546...</td>\n    </tr>\n    <tr>\n      <th>4</th>\n      <td>case_00004</td>\n      <td>73</td>\n      <td>male</td>\n      <td>28.59</td>\n      <td>{'myocardial_infarction': False, 'congestive_h...</td>\n      <td>previous_smoker</td>\n      <td>55</td>\n      <td>NaN</td>\n      <td>never_or_not_in_last_3mo</td>\n      <td>never_or_not_in_last_3mo</td>\n      <td>...</td>\n      <td>Transperitoneal</td>\n      <td>123.0</td>\n      <td>False</td>\n      <td>False</td>\n      <td>{'value': None, 'days_before_nephrectomy': None}</td>\n      <td>{'value': 45.0, 'days_before_nephrectomy': 500}</td>\n      <td>{'value': 45.0, 'days_before_nephrectomy': 500}</td>\n      <td>censored</td>\n      <td>500</td>\n      <td>{'x_spacing': 0.9765625, 'y_spacing': 0.976562...</td>\n    </tr>\n  </tbody>\n</table>\n<p>5 rows × 38 columns</p>\n</div>"
     },
     "execution_count": 22,
     "metadata": {},
     "output_type": "execute_result"
    }
   ],
   "source": [
    "df.head()"
   ],
   "metadata": {
    "collapsed": false
   }
  },
  {
   "cell_type": "code",
   "execution_count": 28,
   "outputs": [
    {
     "data": {
      "application/vnd.plotly.v1+json": {
       "data": [
        {
         "alignmentgroup": "True",
         "hovertemplate": "pathology_t_stage=%{x}<br>count=%{y}<extra></extra>",
         "legendgroup": "",
         "marker": {
          "color": "#636efa",
          "pattern": {
           "shape": ""
          }
         },
         "name": "",
         "offsetgroup": "",
         "orientation": "v",
         "showlegend": false,
         "textposition": "auto",
         "x": [
          "1a",
          "1a",
          "3",
          "1a",
          "1a",
          "3",
          "1a",
          "1a",
          "3",
          "1a",
          "1a",
          "1b",
          "3",
          "1b",
          "1a",
          "1a",
          "1b",
          "0",
          "1a",
          "0",
          "0",
          "1a",
          "1a",
          "1a",
          "1b",
          "2b",
          "2a",
          "1a",
          "2a",
          "1b",
          "3",
          "0",
          "1a",
          "1a",
          "1b",
          "1a",
          "3",
          "2a",
          "1b",
          "1a",
          "1a",
          "1a",
          "0",
          "0",
          "3",
          "1b",
          "1b",
          "3",
          "1b",
          "1a",
          "1a",
          "1b",
          "1a",
          "1b",
          "1a",
          "3",
          "2b",
          "3",
          "3",
          "1a",
          "1b",
          "1b",
          "1a",
          "3",
          "1a",
          "1a",
          "3",
          "3",
          "1b",
          "1a",
          "3",
          "1a",
          "1a",
          "3",
          "3",
          "1a",
          "1a",
          "0",
          "3",
          "3",
          "3",
          "1a",
          "0",
          "1a",
          "3",
          "1a",
          "1a",
          "1a",
          "2a",
          "1b",
          "4",
          "1a",
          "3",
          "1a",
          "1b",
          "1b",
          "1a",
          "1a",
          "1a",
          "1b",
          "1a",
          "1a",
          "3",
          "1a",
          "0",
          "3",
          "1a",
          "3",
          "3",
          "3",
          "1a",
          "1b",
          "1b",
          "1b",
          "4",
          "1a",
          "0",
          "1b",
          "1a",
          "2a",
          "1a",
          "3",
          "3",
          "1a",
          "1a",
          "1a",
          "1b",
          "1a",
          "1b",
          "1a",
          "1b",
          "1b",
          "1a",
          "0",
          "1b",
          "2b",
          "1a",
          "0",
          "1a",
          "3",
          "1a",
          "1a",
          "1b",
          "1a",
          "1a",
          "2a",
          "1a",
          "1a",
          "1a",
          "1b",
          "1a",
          "3",
          "1a",
          "1a",
          "1a",
          "0",
          "0",
          "3",
          "1a",
          "1b",
          "1b",
          "1b",
          "1b",
          "1a",
          "1a",
          "1a",
          "1a",
          "1a",
          "1a",
          "1a",
          "1a",
          "3",
          "3",
          "1a",
          "1a",
          "1a",
          "0",
          "3",
          "3",
          "3",
          "3",
          "4",
          "1a",
          "1a",
          "1b",
          "1b",
          "2a",
          "2a",
          "0",
          "2a",
          "1a",
          "1a",
          "3",
          "1a",
          "3",
          "1b",
          "1b",
          "3",
          "3",
          "3",
          "1b",
          "1a",
          "0",
          "1a",
          "1b",
          "0",
          "1a",
          "3",
          "1b",
          "1a",
          "3",
          "0",
          "1a",
          "1a",
          "1a",
          "3",
          "1b",
          "3",
          "1a",
          "2a",
          "1a",
          "2b",
          "3",
          "3",
          "4",
          "0",
          "1a",
          "1a",
          "2b",
          "1a",
          "1b",
          "1a",
          "1b",
          "3",
          "1a",
          "1a",
          "3",
          "3",
          "0",
          "3",
          "1a",
          "1b",
          "1b",
          "1b",
          "1b",
          "3",
          "3",
          "1a",
          "3",
          "3",
          "3",
          "1a",
          "3",
          "0",
          "1a",
          "1b",
          "1a",
          "1a",
          "0",
          "1b",
          "3",
          "1b",
          "3",
          "2a",
          "1b",
          "1a",
          "1b",
          "1a",
          "1a",
          "1b",
          "3",
          "1b",
          "1a",
          "1a",
          "3",
          "0",
          "1a",
          "3",
          "2a",
          "0",
          "2a",
          "4",
          "2a",
          "3",
          "1b",
          "3",
          "3",
          "1a",
          "1b",
          "1a",
          "1a",
          "3",
          "3",
          "2a",
          "1a",
          "1b",
          "1a",
          "1b",
          "3",
          "1a"
         ],
         "xaxis": "x",
         "y": [
          1,
          1,
          1,
          1,
          1,
          1,
          1,
          1,
          1,
          1,
          1,
          1,
          1,
          1,
          1,
          1,
          1,
          1,
          1,
          1,
          1,
          1,
          1,
          1,
          1,
          1,
          1,
          1,
          1,
          1,
          1,
          1,
          1,
          1,
          1,
          1,
          1,
          1,
          1,
          1,
          1,
          1,
          1,
          1,
          1,
          1,
          1,
          1,
          1,
          1,
          1,
          1,
          1,
          1,
          1,
          1,
          1,
          1,
          1,
          1,
          1,
          1,
          1,
          1,
          1,
          1,
          1,
          1,
          1,
          1,
          1,
          1,
          1,
          1,
          1,
          1,
          1,
          1,
          1,
          1,
          1,
          1,
          1,
          1,
          1,
          1,
          1,
          1,
          1,
          1,
          1,
          1,
          1,
          1,
          1,
          1,
          1,
          1,
          1,
          1,
          1,
          1,
          1,
          1,
          1,
          1,
          1,
          1,
          1,
          1,
          1,
          1,
          1,
          1,
          1,
          1,
          1,
          1,
          1,
          1,
          1,
          1,
          1,
          1,
          1,
          1,
          1,
          1,
          1,
          1,
          1,
          1,
          1,
          1,
          1,
          1,
          1,
          1,
          1,
          1,
          1,
          1,
          1,
          1,
          1,
          1,
          1,
          1,
          1,
          1,
          1,
          1,
          1,
          1,
          1,
          1,
          1,
          1,
          1,
          1,
          1,
          1,
          1,
          1,
          1,
          1,
          1,
          1,
          1,
          1,
          1,
          1,
          1,
          1,
          1,
          1,
          1,
          1,
          1,
          1,
          1,
          1,
          1,
          1,
          1,
          1,
          1,
          1,
          1,
          1,
          1,
          1,
          1,
          1,
          1,
          1,
          1,
          1,
          1,
          1,
          1,
          1,
          1,
          1,
          1,
          1,
          1,
          1,
          1,
          1,
          1,
          1,
          1,
          1,
          1,
          1,
          1,
          1,
          1,
          1,
          1,
          1,
          1,
          1,
          1,
          1,
          1,
          1,
          1,
          1,
          1,
          1,
          1,
          1,
          1,
          1,
          1,
          1,
          1,
          1,
          1,
          1,
          1,
          1,
          1,
          1,
          1,
          1,
          1,
          1,
          1,
          1,
          1,
          1,
          1,
          1,
          1,
          1,
          1,
          1,
          1,
          1,
          1,
          1,
          1,
          1,
          1,
          1,
          1,
          1,
          1,
          1,
          1,
          1,
          1,
          1,
          1,
          1,
          1,
          1,
          1,
          1,
          1,
          1,
          1,
          1,
          1,
          1,
          1,
          1,
          1,
          1,
          1,
          1,
          1,
          1,
          1,
          1,
          1,
          1
         ],
         "yaxis": "y",
         "type": "bar"
        }
       ],
       "layout": {
        "template": {
         "data": {
          "histogram2dcontour": [
           {
            "type": "histogram2dcontour",
            "colorbar": {
             "outlinewidth": 0,
             "ticks": ""
            },
            "colorscale": [
             [
              0.0,
              "#0d0887"
             ],
             [
              0.1111111111111111,
              "#46039f"
             ],
             [
              0.2222222222222222,
              "#7201a8"
             ],
             [
              0.3333333333333333,
              "#9c179e"
             ],
             [
              0.4444444444444444,
              "#bd3786"
             ],
             [
              0.5555555555555556,
              "#d8576b"
             ],
             [
              0.6666666666666666,
              "#ed7953"
             ],
             [
              0.7777777777777778,
              "#fb9f3a"
             ],
             [
              0.8888888888888888,
              "#fdca26"
             ],
             [
              1.0,
              "#f0f921"
             ]
            ]
           }
          ],
          "choropleth": [
           {
            "type": "choropleth",
            "colorbar": {
             "outlinewidth": 0,
             "ticks": ""
            }
           }
          ],
          "histogram2d": [
           {
            "type": "histogram2d",
            "colorbar": {
             "outlinewidth": 0,
             "ticks": ""
            },
            "colorscale": [
             [
              0.0,
              "#0d0887"
             ],
             [
              0.1111111111111111,
              "#46039f"
             ],
             [
              0.2222222222222222,
              "#7201a8"
             ],
             [
              0.3333333333333333,
              "#9c179e"
             ],
             [
              0.4444444444444444,
              "#bd3786"
             ],
             [
              0.5555555555555556,
              "#d8576b"
             ],
             [
              0.6666666666666666,
              "#ed7953"
             ],
             [
              0.7777777777777778,
              "#fb9f3a"
             ],
             [
              0.8888888888888888,
              "#fdca26"
             ],
             [
              1.0,
              "#f0f921"
             ]
            ]
           }
          ],
          "heatmap": [
           {
            "type": "heatmap",
            "colorbar": {
             "outlinewidth": 0,
             "ticks": ""
            },
            "colorscale": [
             [
              0.0,
              "#0d0887"
             ],
             [
              0.1111111111111111,
              "#46039f"
             ],
             [
              0.2222222222222222,
              "#7201a8"
             ],
             [
              0.3333333333333333,
              "#9c179e"
             ],
             [
              0.4444444444444444,
              "#bd3786"
             ],
             [
              0.5555555555555556,
              "#d8576b"
             ],
             [
              0.6666666666666666,
              "#ed7953"
             ],
             [
              0.7777777777777778,
              "#fb9f3a"
             ],
             [
              0.8888888888888888,
              "#fdca26"
             ],
             [
              1.0,
              "#f0f921"
             ]
            ]
           }
          ],
          "heatmapgl": [
           {
            "type": "heatmapgl",
            "colorbar": {
             "outlinewidth": 0,
             "ticks": ""
            },
            "colorscale": [
             [
              0.0,
              "#0d0887"
             ],
             [
              0.1111111111111111,
              "#46039f"
             ],
             [
              0.2222222222222222,
              "#7201a8"
             ],
             [
              0.3333333333333333,
              "#9c179e"
             ],
             [
              0.4444444444444444,
              "#bd3786"
             ],
             [
              0.5555555555555556,
              "#d8576b"
             ],
             [
              0.6666666666666666,
              "#ed7953"
             ],
             [
              0.7777777777777778,
              "#fb9f3a"
             ],
             [
              0.8888888888888888,
              "#fdca26"
             ],
             [
              1.0,
              "#f0f921"
             ]
            ]
           }
          ],
          "contourcarpet": [
           {
            "type": "contourcarpet",
            "colorbar": {
             "outlinewidth": 0,
             "ticks": ""
            }
           }
          ],
          "contour": [
           {
            "type": "contour",
            "colorbar": {
             "outlinewidth": 0,
             "ticks": ""
            },
            "colorscale": [
             [
              0.0,
              "#0d0887"
             ],
             [
              0.1111111111111111,
              "#46039f"
             ],
             [
              0.2222222222222222,
              "#7201a8"
             ],
             [
              0.3333333333333333,
              "#9c179e"
             ],
             [
              0.4444444444444444,
              "#bd3786"
             ],
             [
              0.5555555555555556,
              "#d8576b"
             ],
             [
              0.6666666666666666,
              "#ed7953"
             ],
             [
              0.7777777777777778,
              "#fb9f3a"
             ],
             [
              0.8888888888888888,
              "#fdca26"
             ],
             [
              1.0,
              "#f0f921"
             ]
            ]
           }
          ],
          "surface": [
           {
            "type": "surface",
            "colorbar": {
             "outlinewidth": 0,
             "ticks": ""
            },
            "colorscale": [
             [
              0.0,
              "#0d0887"
             ],
             [
              0.1111111111111111,
              "#46039f"
             ],
             [
              0.2222222222222222,
              "#7201a8"
             ],
             [
              0.3333333333333333,
              "#9c179e"
             ],
             [
              0.4444444444444444,
              "#bd3786"
             ],
             [
              0.5555555555555556,
              "#d8576b"
             ],
             [
              0.6666666666666666,
              "#ed7953"
             ],
             [
              0.7777777777777778,
              "#fb9f3a"
             ],
             [
              0.8888888888888888,
              "#fdca26"
             ],
             [
              1.0,
              "#f0f921"
             ]
            ]
           }
          ],
          "mesh3d": [
           {
            "type": "mesh3d",
            "colorbar": {
             "outlinewidth": 0,
             "ticks": ""
            }
           }
          ],
          "scatter": [
           {
            "fillpattern": {
             "fillmode": "overlay",
             "size": 10,
             "solidity": 0.2
            },
            "type": "scatter"
           }
          ],
          "parcoords": [
           {
            "type": "parcoords",
            "line": {
             "colorbar": {
              "outlinewidth": 0,
              "ticks": ""
             }
            }
           }
          ],
          "scatterpolargl": [
           {
            "type": "scatterpolargl",
            "marker": {
             "colorbar": {
              "outlinewidth": 0,
              "ticks": ""
             }
            }
           }
          ],
          "bar": [
           {
            "error_x": {
             "color": "#2a3f5f"
            },
            "error_y": {
             "color": "#2a3f5f"
            },
            "marker": {
             "line": {
              "color": "#E5ECF6",
              "width": 0.5
             },
             "pattern": {
              "fillmode": "overlay",
              "size": 10,
              "solidity": 0.2
             }
            },
            "type": "bar"
           }
          ],
          "scattergeo": [
           {
            "type": "scattergeo",
            "marker": {
             "colorbar": {
              "outlinewidth": 0,
              "ticks": ""
             }
            }
           }
          ],
          "scatterpolar": [
           {
            "type": "scatterpolar",
            "marker": {
             "colorbar": {
              "outlinewidth": 0,
              "ticks": ""
             }
            }
           }
          ],
          "histogram": [
           {
            "marker": {
             "pattern": {
              "fillmode": "overlay",
              "size": 10,
              "solidity": 0.2
             }
            },
            "type": "histogram"
           }
          ],
          "scattergl": [
           {
            "type": "scattergl",
            "marker": {
             "colorbar": {
              "outlinewidth": 0,
              "ticks": ""
             }
            }
           }
          ],
          "scatter3d": [
           {
            "type": "scatter3d",
            "line": {
             "colorbar": {
              "outlinewidth": 0,
              "ticks": ""
             }
            },
            "marker": {
             "colorbar": {
              "outlinewidth": 0,
              "ticks": ""
             }
            }
           }
          ],
          "scattermapbox": [
           {
            "type": "scattermapbox",
            "marker": {
             "colorbar": {
              "outlinewidth": 0,
              "ticks": ""
             }
            }
           }
          ],
          "scatterternary": [
           {
            "type": "scatterternary",
            "marker": {
             "colorbar": {
              "outlinewidth": 0,
              "ticks": ""
             }
            }
           }
          ],
          "scattercarpet": [
           {
            "type": "scattercarpet",
            "marker": {
             "colorbar": {
              "outlinewidth": 0,
              "ticks": ""
             }
            }
           }
          ],
          "carpet": [
           {
            "aaxis": {
             "endlinecolor": "#2a3f5f",
             "gridcolor": "white",
             "linecolor": "white",
             "minorgridcolor": "white",
             "startlinecolor": "#2a3f5f"
            },
            "baxis": {
             "endlinecolor": "#2a3f5f",
             "gridcolor": "white",
             "linecolor": "white",
             "minorgridcolor": "white",
             "startlinecolor": "#2a3f5f"
            },
            "type": "carpet"
           }
          ],
          "table": [
           {
            "cells": {
             "fill": {
              "color": "#EBF0F8"
             },
             "line": {
              "color": "white"
             }
            },
            "header": {
             "fill": {
              "color": "#C8D4E3"
             },
             "line": {
              "color": "white"
             }
            },
            "type": "table"
           }
          ],
          "barpolar": [
           {
            "marker": {
             "line": {
              "color": "#E5ECF6",
              "width": 0.5
             },
             "pattern": {
              "fillmode": "overlay",
              "size": 10,
              "solidity": 0.2
             }
            },
            "type": "barpolar"
           }
          ],
          "pie": [
           {
            "automargin": true,
            "type": "pie"
           }
          ]
         },
         "layout": {
          "autotypenumbers": "strict",
          "colorway": [
           "#636efa",
           "#EF553B",
           "#00cc96",
           "#ab63fa",
           "#FFA15A",
           "#19d3f3",
           "#FF6692",
           "#B6E880",
           "#FF97FF",
           "#FECB52"
          ],
          "font": {
           "color": "#2a3f5f"
          },
          "hovermode": "closest",
          "hoverlabel": {
           "align": "left"
          },
          "paper_bgcolor": "white",
          "plot_bgcolor": "#E5ECF6",
          "polar": {
           "bgcolor": "#E5ECF6",
           "angularaxis": {
            "gridcolor": "white",
            "linecolor": "white",
            "ticks": ""
           },
           "radialaxis": {
            "gridcolor": "white",
            "linecolor": "white",
            "ticks": ""
           }
          },
          "ternary": {
           "bgcolor": "#E5ECF6",
           "aaxis": {
            "gridcolor": "white",
            "linecolor": "white",
            "ticks": ""
           },
           "baxis": {
            "gridcolor": "white",
            "linecolor": "white",
            "ticks": ""
           },
           "caxis": {
            "gridcolor": "white",
            "linecolor": "white",
            "ticks": ""
           }
          },
          "coloraxis": {
           "colorbar": {
            "outlinewidth": 0,
            "ticks": ""
           }
          },
          "colorscale": {
           "sequential": [
            [
             0.0,
             "#0d0887"
            ],
            [
             0.1111111111111111,
             "#46039f"
            ],
            [
             0.2222222222222222,
             "#7201a8"
            ],
            [
             0.3333333333333333,
             "#9c179e"
            ],
            [
             0.4444444444444444,
             "#bd3786"
            ],
            [
             0.5555555555555556,
             "#d8576b"
            ],
            [
             0.6666666666666666,
             "#ed7953"
            ],
            [
             0.7777777777777778,
             "#fb9f3a"
            ],
            [
             0.8888888888888888,
             "#fdca26"
            ],
            [
             1.0,
             "#f0f921"
            ]
           ],
           "sequentialminus": [
            [
             0.0,
             "#0d0887"
            ],
            [
             0.1111111111111111,
             "#46039f"
            ],
            [
             0.2222222222222222,
             "#7201a8"
            ],
            [
             0.3333333333333333,
             "#9c179e"
            ],
            [
             0.4444444444444444,
             "#bd3786"
            ],
            [
             0.5555555555555556,
             "#d8576b"
            ],
            [
             0.6666666666666666,
             "#ed7953"
            ],
            [
             0.7777777777777778,
             "#fb9f3a"
            ],
            [
             0.8888888888888888,
             "#fdca26"
            ],
            [
             1.0,
             "#f0f921"
            ]
           ],
           "diverging": [
            [
             0,
             "#8e0152"
            ],
            [
             0.1,
             "#c51b7d"
            ],
            [
             0.2,
             "#de77ae"
            ],
            [
             0.3,
             "#f1b6da"
            ],
            [
             0.4,
             "#fde0ef"
            ],
            [
             0.5,
             "#f7f7f7"
            ],
            [
             0.6,
             "#e6f5d0"
            ],
            [
             0.7,
             "#b8e186"
            ],
            [
             0.8,
             "#7fbc41"
            ],
            [
             0.9,
             "#4d9221"
            ],
            [
             1,
             "#276419"
            ]
           ]
          },
          "xaxis": {
           "gridcolor": "white",
           "linecolor": "white",
           "ticks": "",
           "title": {
            "standoff": 15
           },
           "zerolinecolor": "white",
           "automargin": true,
           "zerolinewidth": 2
          },
          "yaxis": {
           "gridcolor": "white",
           "linecolor": "white",
           "ticks": "",
           "title": {
            "standoff": 15
           },
           "zerolinecolor": "white",
           "automargin": true,
           "zerolinewidth": 2
          },
          "scene": {
           "xaxis": {
            "backgroundcolor": "#E5ECF6",
            "gridcolor": "white",
            "linecolor": "white",
            "showbackground": true,
            "ticks": "",
            "zerolinecolor": "white",
            "gridwidth": 2
           },
           "yaxis": {
            "backgroundcolor": "#E5ECF6",
            "gridcolor": "white",
            "linecolor": "white",
            "showbackground": true,
            "ticks": "",
            "zerolinecolor": "white",
            "gridwidth": 2
           },
           "zaxis": {
            "backgroundcolor": "#E5ECF6",
            "gridcolor": "white",
            "linecolor": "white",
            "showbackground": true,
            "ticks": "",
            "zerolinecolor": "white",
            "gridwidth": 2
           }
          },
          "shapedefaults": {
           "line": {
            "color": "#2a3f5f"
           }
          },
          "annotationdefaults": {
           "arrowcolor": "#2a3f5f",
           "arrowhead": 0,
           "arrowwidth": 1
          },
          "geo": {
           "bgcolor": "white",
           "landcolor": "#E5ECF6",
           "subunitcolor": "white",
           "showland": true,
           "showlakes": true,
           "lakecolor": "white"
          },
          "title": {
           "x": 0.05
          },
          "mapbox": {
           "style": "light"
          }
         }
        },
        "xaxis": {
         "anchor": "y",
         "domain": [
          0.0,
          1.0
         ],
         "title": {
          "text": "pathology_t_stage"
         }
        },
        "yaxis": {
         "anchor": "x",
         "domain": [
          0.0,
          1.0
         ],
         "title": {
          "text": "count"
         }
        },
        "legend": {
         "tracegroupgap": 0
        },
        "margin": {
         "t": 60
        },
        "barmode": "relative"
       },
       "config": {
        "plotlyServerURL": "https://plot.ly"
       }
      },
      "text/html": "<div>                            <div id=\"fb8574bd-50e0-4454-9a78-0efcb4938725\" class=\"plotly-graph-div\" style=\"height:525px; width:100%;\"></div>            <script type=\"text/javascript\">                require([\"plotly\"], function(Plotly) {                    window.PLOTLYENV=window.PLOTLYENV || {};                                    if (document.getElementById(\"fb8574bd-50e0-4454-9a78-0efcb4938725\")) {                    Plotly.newPlot(                        \"fb8574bd-50e0-4454-9a78-0efcb4938725\",                        [{\"alignmentgroup\":\"True\",\"hovertemplate\":\"pathology_t_stage=%{x}<br>count=%{y}<extra></extra>\",\"legendgroup\":\"\",\"marker\":{\"color\":\"#636efa\",\"pattern\":{\"shape\":\"\"}},\"name\":\"\",\"offsetgroup\":\"\",\"orientation\":\"v\",\"showlegend\":false,\"textposition\":\"auto\",\"x\":[\"1a\",\"1a\",\"3\",\"1a\",\"1a\",\"3\",\"1a\",\"1a\",\"3\",\"1a\",\"1a\",\"1b\",\"3\",\"1b\",\"1a\",\"1a\",\"1b\",\"0\",\"1a\",\"0\",\"0\",\"1a\",\"1a\",\"1a\",\"1b\",\"2b\",\"2a\",\"1a\",\"2a\",\"1b\",\"3\",\"0\",\"1a\",\"1a\",\"1b\",\"1a\",\"3\",\"2a\",\"1b\",\"1a\",\"1a\",\"1a\",\"0\",\"0\",\"3\",\"1b\",\"1b\",\"3\",\"1b\",\"1a\",\"1a\",\"1b\",\"1a\",\"1b\",\"1a\",\"3\",\"2b\",\"3\",\"3\",\"1a\",\"1b\",\"1b\",\"1a\",\"3\",\"1a\",\"1a\",\"3\",\"3\",\"1b\",\"1a\",\"3\",\"1a\",\"1a\",\"3\",\"3\",\"1a\",\"1a\",\"0\",\"3\",\"3\",\"3\",\"1a\",\"0\",\"1a\",\"3\",\"1a\",\"1a\",\"1a\",\"2a\",\"1b\",\"4\",\"1a\",\"3\",\"1a\",\"1b\",\"1b\",\"1a\",\"1a\",\"1a\",\"1b\",\"1a\",\"1a\",\"3\",\"1a\",\"0\",\"3\",\"1a\",\"3\",\"3\",\"3\",\"1a\",\"1b\",\"1b\",\"1b\",\"4\",\"1a\",\"0\",\"1b\",\"1a\",\"2a\",\"1a\",\"3\",\"3\",\"1a\",\"1a\",\"1a\",\"1b\",\"1a\",\"1b\",\"1a\",\"1b\",\"1b\",\"1a\",\"0\",\"1b\",\"2b\",\"1a\",\"0\",\"1a\",\"3\",\"1a\",\"1a\",\"1b\",\"1a\",\"1a\",\"2a\",\"1a\",\"1a\",\"1a\",\"1b\",\"1a\",\"3\",\"1a\",\"1a\",\"1a\",\"0\",\"0\",\"3\",\"1a\",\"1b\",\"1b\",\"1b\",\"1b\",\"1a\",\"1a\",\"1a\",\"1a\",\"1a\",\"1a\",\"1a\",\"1a\",\"3\",\"3\",\"1a\",\"1a\",\"1a\",\"0\",\"3\",\"3\",\"3\",\"3\",\"4\",\"1a\",\"1a\",\"1b\",\"1b\",\"2a\",\"2a\",\"0\",\"2a\",\"1a\",\"1a\",\"3\",\"1a\",\"3\",\"1b\",\"1b\",\"3\",\"3\",\"3\",\"1b\",\"1a\",\"0\",\"1a\",\"1b\",\"0\",\"1a\",\"3\",\"1b\",\"1a\",\"3\",\"0\",\"1a\",\"1a\",\"1a\",\"3\",\"1b\",\"3\",\"1a\",\"2a\",\"1a\",\"2b\",\"3\",\"3\",\"4\",\"0\",\"1a\",\"1a\",\"2b\",\"1a\",\"1b\",\"1a\",\"1b\",\"3\",\"1a\",\"1a\",\"3\",\"3\",\"0\",\"3\",\"1a\",\"1b\",\"1b\",\"1b\",\"1b\",\"3\",\"3\",\"1a\",\"3\",\"3\",\"3\",\"1a\",\"3\",\"0\",\"1a\",\"1b\",\"1a\",\"1a\",\"0\",\"1b\",\"3\",\"1b\",\"3\",\"2a\",\"1b\",\"1a\",\"1b\",\"1a\",\"1a\",\"1b\",\"3\",\"1b\",\"1a\",\"1a\",\"3\",\"0\",\"1a\",\"3\",\"2a\",\"0\",\"2a\",\"4\",\"2a\",\"3\",\"1b\",\"3\",\"3\",\"1a\",\"1b\",\"1a\",\"1a\",\"3\",\"3\",\"2a\",\"1a\",\"1b\",\"1a\",\"1b\",\"3\",\"1a\"],\"xaxis\":\"x\",\"y\":[1,1,1,1,1,1,1,1,1,1,1,1,1,1,1,1,1,1,1,1,1,1,1,1,1,1,1,1,1,1,1,1,1,1,1,1,1,1,1,1,1,1,1,1,1,1,1,1,1,1,1,1,1,1,1,1,1,1,1,1,1,1,1,1,1,1,1,1,1,1,1,1,1,1,1,1,1,1,1,1,1,1,1,1,1,1,1,1,1,1,1,1,1,1,1,1,1,1,1,1,1,1,1,1,1,1,1,1,1,1,1,1,1,1,1,1,1,1,1,1,1,1,1,1,1,1,1,1,1,1,1,1,1,1,1,1,1,1,1,1,1,1,1,1,1,1,1,1,1,1,1,1,1,1,1,1,1,1,1,1,1,1,1,1,1,1,1,1,1,1,1,1,1,1,1,1,1,1,1,1,1,1,1,1,1,1,1,1,1,1,1,1,1,1,1,1,1,1,1,1,1,1,1,1,1,1,1,1,1,1,1,1,1,1,1,1,1,1,1,1,1,1,1,1,1,1,1,1,1,1,1,1,1,1,1,1,1,1,1,1,1,1,1,1,1,1,1,1,1,1,1,1,1,1,1,1,1,1,1,1,1,1,1,1,1,1,1,1,1,1,1,1,1,1,1,1,1,1,1,1,1,1,1,1,1,1,1,1,1,1,1,1,1,1,1,1,1,1,1,1],\"yaxis\":\"y\",\"type\":\"bar\"}],                        {\"template\":{\"data\":{\"histogram2dcontour\":[{\"type\":\"histogram2dcontour\",\"colorbar\":{\"outlinewidth\":0,\"ticks\":\"\"},\"colorscale\":[[0.0,\"#0d0887\"],[0.1111111111111111,\"#46039f\"],[0.2222222222222222,\"#7201a8\"],[0.3333333333333333,\"#9c179e\"],[0.4444444444444444,\"#bd3786\"],[0.5555555555555556,\"#d8576b\"],[0.6666666666666666,\"#ed7953\"],[0.7777777777777778,\"#fb9f3a\"],[0.8888888888888888,\"#fdca26\"],[1.0,\"#f0f921\"]]}],\"choropleth\":[{\"type\":\"choropleth\",\"colorbar\":{\"outlinewidth\":0,\"ticks\":\"\"}}],\"histogram2d\":[{\"type\":\"histogram2d\",\"colorbar\":{\"outlinewidth\":0,\"ticks\":\"\"},\"colorscale\":[[0.0,\"#0d0887\"],[0.1111111111111111,\"#46039f\"],[0.2222222222222222,\"#7201a8\"],[0.3333333333333333,\"#9c179e\"],[0.4444444444444444,\"#bd3786\"],[0.5555555555555556,\"#d8576b\"],[0.6666666666666666,\"#ed7953\"],[0.7777777777777778,\"#fb9f3a\"],[0.8888888888888888,\"#fdca26\"],[1.0,\"#f0f921\"]]}],\"heatmap\":[{\"type\":\"heatmap\",\"colorbar\":{\"outlinewidth\":0,\"ticks\":\"\"},\"colorscale\":[[0.0,\"#0d0887\"],[0.1111111111111111,\"#46039f\"],[0.2222222222222222,\"#7201a8\"],[0.3333333333333333,\"#9c179e\"],[0.4444444444444444,\"#bd3786\"],[0.5555555555555556,\"#d8576b\"],[0.6666666666666666,\"#ed7953\"],[0.7777777777777778,\"#fb9f3a\"],[0.8888888888888888,\"#fdca26\"],[1.0,\"#f0f921\"]]}],\"heatmapgl\":[{\"type\":\"heatmapgl\",\"colorbar\":{\"outlinewidth\":0,\"ticks\":\"\"},\"colorscale\":[[0.0,\"#0d0887\"],[0.1111111111111111,\"#46039f\"],[0.2222222222222222,\"#7201a8\"],[0.3333333333333333,\"#9c179e\"],[0.4444444444444444,\"#bd3786\"],[0.5555555555555556,\"#d8576b\"],[0.6666666666666666,\"#ed7953\"],[0.7777777777777778,\"#fb9f3a\"],[0.8888888888888888,\"#fdca26\"],[1.0,\"#f0f921\"]]}],\"contourcarpet\":[{\"type\":\"contourcarpet\",\"colorbar\":{\"outlinewidth\":0,\"ticks\":\"\"}}],\"contour\":[{\"type\":\"contour\",\"colorbar\":{\"outlinewidth\":0,\"ticks\":\"\"},\"colorscale\":[[0.0,\"#0d0887\"],[0.1111111111111111,\"#46039f\"],[0.2222222222222222,\"#7201a8\"],[0.3333333333333333,\"#9c179e\"],[0.4444444444444444,\"#bd3786\"],[0.5555555555555556,\"#d8576b\"],[0.6666666666666666,\"#ed7953\"],[0.7777777777777778,\"#fb9f3a\"],[0.8888888888888888,\"#fdca26\"],[1.0,\"#f0f921\"]]}],\"surface\":[{\"type\":\"surface\",\"colorbar\":{\"outlinewidth\":0,\"ticks\":\"\"},\"colorscale\":[[0.0,\"#0d0887\"],[0.1111111111111111,\"#46039f\"],[0.2222222222222222,\"#7201a8\"],[0.3333333333333333,\"#9c179e\"],[0.4444444444444444,\"#bd3786\"],[0.5555555555555556,\"#d8576b\"],[0.6666666666666666,\"#ed7953\"],[0.7777777777777778,\"#fb9f3a\"],[0.8888888888888888,\"#fdca26\"],[1.0,\"#f0f921\"]]}],\"mesh3d\":[{\"type\":\"mesh3d\",\"colorbar\":{\"outlinewidth\":0,\"ticks\":\"\"}}],\"scatter\":[{\"fillpattern\":{\"fillmode\":\"overlay\",\"size\":10,\"solidity\":0.2},\"type\":\"scatter\"}],\"parcoords\":[{\"type\":\"parcoords\",\"line\":{\"colorbar\":{\"outlinewidth\":0,\"ticks\":\"\"}}}],\"scatterpolargl\":[{\"type\":\"scatterpolargl\",\"marker\":{\"colorbar\":{\"outlinewidth\":0,\"ticks\":\"\"}}}],\"bar\":[{\"error_x\":{\"color\":\"#2a3f5f\"},\"error_y\":{\"color\":\"#2a3f5f\"},\"marker\":{\"line\":{\"color\":\"#E5ECF6\",\"width\":0.5},\"pattern\":{\"fillmode\":\"overlay\",\"size\":10,\"solidity\":0.2}},\"type\":\"bar\"}],\"scattergeo\":[{\"type\":\"scattergeo\",\"marker\":{\"colorbar\":{\"outlinewidth\":0,\"ticks\":\"\"}}}],\"scatterpolar\":[{\"type\":\"scatterpolar\",\"marker\":{\"colorbar\":{\"outlinewidth\":0,\"ticks\":\"\"}}}],\"histogram\":[{\"marker\":{\"pattern\":{\"fillmode\":\"overlay\",\"size\":10,\"solidity\":0.2}},\"type\":\"histogram\"}],\"scattergl\":[{\"type\":\"scattergl\",\"marker\":{\"colorbar\":{\"outlinewidth\":0,\"ticks\":\"\"}}}],\"scatter3d\":[{\"type\":\"scatter3d\",\"line\":{\"colorbar\":{\"outlinewidth\":0,\"ticks\":\"\"}},\"marker\":{\"colorbar\":{\"outlinewidth\":0,\"ticks\":\"\"}}}],\"scattermapbox\":[{\"type\":\"scattermapbox\",\"marker\":{\"colorbar\":{\"outlinewidth\":0,\"ticks\":\"\"}}}],\"scatterternary\":[{\"type\":\"scatterternary\",\"marker\":{\"colorbar\":{\"outlinewidth\":0,\"ticks\":\"\"}}}],\"scattercarpet\":[{\"type\":\"scattercarpet\",\"marker\":{\"colorbar\":{\"outlinewidth\":0,\"ticks\":\"\"}}}],\"carpet\":[{\"aaxis\":{\"endlinecolor\":\"#2a3f5f\",\"gridcolor\":\"white\",\"linecolor\":\"white\",\"minorgridcolor\":\"white\",\"startlinecolor\":\"#2a3f5f\"},\"baxis\":{\"endlinecolor\":\"#2a3f5f\",\"gridcolor\":\"white\",\"linecolor\":\"white\",\"minorgridcolor\":\"white\",\"startlinecolor\":\"#2a3f5f\"},\"type\":\"carpet\"}],\"table\":[{\"cells\":{\"fill\":{\"color\":\"#EBF0F8\"},\"line\":{\"color\":\"white\"}},\"header\":{\"fill\":{\"color\":\"#C8D4E3\"},\"line\":{\"color\":\"white\"}},\"type\":\"table\"}],\"barpolar\":[{\"marker\":{\"line\":{\"color\":\"#E5ECF6\",\"width\":0.5},\"pattern\":{\"fillmode\":\"overlay\",\"size\":10,\"solidity\":0.2}},\"type\":\"barpolar\"}],\"pie\":[{\"automargin\":true,\"type\":\"pie\"}]},\"layout\":{\"autotypenumbers\":\"strict\",\"colorway\":[\"#636efa\",\"#EF553B\",\"#00cc96\",\"#ab63fa\",\"#FFA15A\",\"#19d3f3\",\"#FF6692\",\"#B6E880\",\"#FF97FF\",\"#FECB52\"],\"font\":{\"color\":\"#2a3f5f\"},\"hovermode\":\"closest\",\"hoverlabel\":{\"align\":\"left\"},\"paper_bgcolor\":\"white\",\"plot_bgcolor\":\"#E5ECF6\",\"polar\":{\"bgcolor\":\"#E5ECF6\",\"angularaxis\":{\"gridcolor\":\"white\",\"linecolor\":\"white\",\"ticks\":\"\"},\"radialaxis\":{\"gridcolor\":\"white\",\"linecolor\":\"white\",\"ticks\":\"\"}},\"ternary\":{\"bgcolor\":\"#E5ECF6\",\"aaxis\":{\"gridcolor\":\"white\",\"linecolor\":\"white\",\"ticks\":\"\"},\"baxis\":{\"gridcolor\":\"white\",\"linecolor\":\"white\",\"ticks\":\"\"},\"caxis\":{\"gridcolor\":\"white\",\"linecolor\":\"white\",\"ticks\":\"\"}},\"coloraxis\":{\"colorbar\":{\"outlinewidth\":0,\"ticks\":\"\"}},\"colorscale\":{\"sequential\":[[0.0,\"#0d0887\"],[0.1111111111111111,\"#46039f\"],[0.2222222222222222,\"#7201a8\"],[0.3333333333333333,\"#9c179e\"],[0.4444444444444444,\"#bd3786\"],[0.5555555555555556,\"#d8576b\"],[0.6666666666666666,\"#ed7953\"],[0.7777777777777778,\"#fb9f3a\"],[0.8888888888888888,\"#fdca26\"],[1.0,\"#f0f921\"]],\"sequentialminus\":[[0.0,\"#0d0887\"],[0.1111111111111111,\"#46039f\"],[0.2222222222222222,\"#7201a8\"],[0.3333333333333333,\"#9c179e\"],[0.4444444444444444,\"#bd3786\"],[0.5555555555555556,\"#d8576b\"],[0.6666666666666666,\"#ed7953\"],[0.7777777777777778,\"#fb9f3a\"],[0.8888888888888888,\"#fdca26\"],[1.0,\"#f0f921\"]],\"diverging\":[[0,\"#8e0152\"],[0.1,\"#c51b7d\"],[0.2,\"#de77ae\"],[0.3,\"#f1b6da\"],[0.4,\"#fde0ef\"],[0.5,\"#f7f7f7\"],[0.6,\"#e6f5d0\"],[0.7,\"#b8e186\"],[0.8,\"#7fbc41\"],[0.9,\"#4d9221\"],[1,\"#276419\"]]},\"xaxis\":{\"gridcolor\":\"white\",\"linecolor\":\"white\",\"ticks\":\"\",\"title\":{\"standoff\":15},\"zerolinecolor\":\"white\",\"automargin\":true,\"zerolinewidth\":2},\"yaxis\":{\"gridcolor\":\"white\",\"linecolor\":\"white\",\"ticks\":\"\",\"title\":{\"standoff\":15},\"zerolinecolor\":\"white\",\"automargin\":true,\"zerolinewidth\":2},\"scene\":{\"xaxis\":{\"backgroundcolor\":\"#E5ECF6\",\"gridcolor\":\"white\",\"linecolor\":\"white\",\"showbackground\":true,\"ticks\":\"\",\"zerolinecolor\":\"white\",\"gridwidth\":2},\"yaxis\":{\"backgroundcolor\":\"#E5ECF6\",\"gridcolor\":\"white\",\"linecolor\":\"white\",\"showbackground\":true,\"ticks\":\"\",\"zerolinecolor\":\"white\",\"gridwidth\":2},\"zaxis\":{\"backgroundcolor\":\"#E5ECF6\",\"gridcolor\":\"white\",\"linecolor\":\"white\",\"showbackground\":true,\"ticks\":\"\",\"zerolinecolor\":\"white\",\"gridwidth\":2}},\"shapedefaults\":{\"line\":{\"color\":\"#2a3f5f\"}},\"annotationdefaults\":{\"arrowcolor\":\"#2a3f5f\",\"arrowhead\":0,\"arrowwidth\":1},\"geo\":{\"bgcolor\":\"white\",\"landcolor\":\"#E5ECF6\",\"subunitcolor\":\"white\",\"showland\":true,\"showlakes\":true,\"lakecolor\":\"white\"},\"title\":{\"x\":0.05},\"mapbox\":{\"style\":\"light\"}}},\"xaxis\":{\"anchor\":\"y\",\"domain\":[0.0,1.0],\"title\":{\"text\":\"pathology_t_stage\"}},\"yaxis\":{\"anchor\":\"x\",\"domain\":[0.0,1.0],\"title\":{\"text\":\"count\"}},\"legend\":{\"tracegroupgap\":0},\"margin\":{\"t\":60},\"barmode\":\"relative\"},                        {\"responsive\": true}                    ).then(function(){\n                            \nvar gd = document.getElementById('fb8574bd-50e0-4454-9a78-0efcb4938725');\nvar x = new MutationObserver(function (mutations, observer) {{\n        var display = window.getComputedStyle(gd).display;\n        if (!display || display === 'none') {{\n            console.log([gd, 'removed!']);\n            Plotly.purge(gd);\n            observer.disconnect();\n        }}\n}});\n\n// Listen for the removal of the full notebook cells\nvar notebookContainer = gd.closest('#notebook-container');\nif (notebookContainer) {{\n    x.observe(notebookContainer, {childList: true});\n}}\n\n// Listen for the clearing of the current output cell\nvar outputEl = gd.closest('.output');\nif (outputEl) {{\n    x.observe(outputEl, {childList: true});\n}}\n\n                        })                };                });            </script>        </div>"
     },
     "metadata": {},
     "output_type": "display_data"
    }
   ],
   "source": [
    "import plotly.express as px\n",
    "\n",
    "fig = px.bar(df, x = 'pathology_t_stage')\n",
    "fig.show()"
   ],
   "metadata": {
    "collapsed": false
   }
  },
  {
   "cell_type": "code",
   "execution_count": 27,
   "outputs": [
    {
     "data": {
      "application/vnd.plotly.v1+json": {
       "data": [
        {
         "alignmentgroup": "True",
         "hovertemplate": "pathology_m_stage=%{x}<br>count=%{y}<extra></extra>",
         "legendgroup": "",
         "marker": {
          "color": "#636efa",
          "pattern": {
           "shape": ""
          }
         },
         "name": "",
         "offsetgroup": "",
         "orientation": "v",
         "showlegend": false,
         "textposition": "auto",
         "x": [
          "0",
          "X",
          "0",
          "0",
          "X",
          "X",
          "X",
          "X",
          "1",
          "X",
          "0",
          "0",
          "1",
          "0",
          "X",
          "0",
          "0",
          "0",
          "X",
          "X",
          "0",
          "0",
          "0",
          "0",
          "0",
          "X",
          "0",
          "X",
          "0",
          "X",
          "1",
          "0",
          "X",
          "0",
          "0",
          "0",
          "X",
          "0",
          "0",
          "0",
          "X",
          "X",
          "0",
          "X",
          "1",
          "X",
          "X",
          "X",
          "X",
          "X",
          "X",
          "0",
          "X",
          "X",
          "X",
          "X",
          "X",
          "X",
          "X",
          "0",
          "X",
          "X",
          "X",
          "X",
          "X",
          "X",
          "X",
          "1",
          "X",
          "X",
          "1",
          "X",
          "0",
          "0",
          "X",
          "0",
          "X",
          "X",
          "0",
          "0",
          "X",
          "0",
          "0",
          "X",
          "X",
          "0",
          "X",
          "0",
          "X",
          "0",
          "X",
          "0",
          "1",
          "X",
          "0",
          "0",
          "0",
          "X",
          "X",
          "X",
          "X",
          "X",
          "X",
          "0",
          "X",
          "1",
          "0",
          "1",
          "0",
          "0",
          "0",
          "0",
          "1",
          "1",
          "X",
          "X",
          "0",
          "0",
          "X",
          "X",
          "X",
          "X",
          "0",
          "0",
          "X",
          "X",
          "X",
          "X",
          "0",
          "0",
          "0",
          "0",
          "X",
          "0",
          "X",
          "0",
          "0",
          "0",
          "0",
          "X",
          "0",
          "0",
          "0",
          "X",
          "X",
          "0",
          "0",
          "0",
          "X",
          "X",
          "X",
          "0",
          "0",
          "X",
          "0",
          "X",
          "0",
          "X",
          "X",
          "X",
          "0",
          "X",
          "0",
          "X",
          "0",
          "X",
          "0",
          "X",
          "0",
          "0",
          "X",
          "X",
          "X",
          "0",
          "X",
          "0",
          "0",
          "0",
          "1",
          "1",
          "1",
          "X",
          "X",
          "X",
          "1",
          "X",
          "0",
          "0",
          "0",
          "1",
          "X",
          "X",
          "0",
          "0",
          "X",
          "X",
          "X",
          "X",
          "0",
          "0",
          "0",
          "0",
          "0",
          "0",
          "0",
          "X",
          "X",
          "1",
          "0",
          "0",
          "X",
          "X",
          "X",
          "X",
          "X",
          "1",
          "0",
          "X",
          "X",
          "0",
          "X",
          "1",
          "0",
          "X",
          "1",
          "X",
          "X",
          "X",
          "X",
          "X",
          "X",
          "0",
          "X",
          "1",
          "X",
          "0",
          "X",
          "X",
          "0",
          "1",
          "0",
          "0",
          "0",
          "X",
          "0",
          "1",
          "1",
          "0",
          "1",
          "0",
          "0",
          "0",
          "0",
          "0",
          "0",
          "0",
          "0",
          "0",
          "0",
          "0",
          "0",
          "0",
          "1",
          "X",
          "X",
          "0",
          "X",
          "0",
          "0",
          "0",
          "X",
          "X",
          "0",
          "0",
          "1",
          "0",
          "0",
          "X",
          "X",
          "0",
          "1",
          "1",
          "0",
          "1",
          "0",
          "1",
          "X",
          "X",
          "X",
          "X",
          "X",
          "1",
          "X",
          "X",
          "0",
          "0",
          "X",
          "X",
          "X",
          "X"
         ],
         "xaxis": "x",
         "y": [
          1,
          1,
          1,
          1,
          1,
          1,
          1,
          1,
          1,
          1,
          1,
          1,
          1,
          1,
          1,
          1,
          1,
          1,
          1,
          1,
          1,
          1,
          1,
          1,
          1,
          1,
          1,
          1,
          1,
          1,
          1,
          1,
          1,
          1,
          1,
          1,
          1,
          1,
          1,
          1,
          1,
          1,
          1,
          1,
          1,
          1,
          1,
          1,
          1,
          1,
          1,
          1,
          1,
          1,
          1,
          1,
          1,
          1,
          1,
          1,
          1,
          1,
          1,
          1,
          1,
          1,
          1,
          1,
          1,
          1,
          1,
          1,
          1,
          1,
          1,
          1,
          1,
          1,
          1,
          1,
          1,
          1,
          1,
          1,
          1,
          1,
          1,
          1,
          1,
          1,
          1,
          1,
          1,
          1,
          1,
          1,
          1,
          1,
          1,
          1,
          1,
          1,
          1,
          1,
          1,
          1,
          1,
          1,
          1,
          1,
          1,
          1,
          1,
          1,
          1,
          1,
          1,
          1,
          1,
          1,
          1,
          1,
          1,
          1,
          1,
          1,
          1,
          1,
          1,
          1,
          1,
          1,
          1,
          1,
          1,
          1,
          1,
          1,
          1,
          1,
          1,
          1,
          1,
          1,
          1,
          1,
          1,
          1,
          1,
          1,
          1,
          1,
          1,
          1,
          1,
          1,
          1,
          1,
          1,
          1,
          1,
          1,
          1,
          1,
          1,
          1,
          1,
          1,
          1,
          1,
          1,
          1,
          1,
          1,
          1,
          1,
          1,
          1,
          1,
          1,
          1,
          1,
          1,
          1,
          1,
          1,
          1,
          1,
          1,
          1,
          1,
          1,
          1,
          1,
          1,
          1,
          1,
          1,
          1,
          1,
          1,
          1,
          1,
          1,
          1,
          1,
          1,
          1,
          1,
          1,
          1,
          1,
          1,
          1,
          1,
          1,
          1,
          1,
          1,
          1,
          1,
          1,
          1,
          1,
          1,
          1,
          1,
          1,
          1,
          1,
          1,
          1,
          1,
          1,
          1,
          1,
          1,
          1,
          1,
          1,
          1,
          1,
          1,
          1,
          1,
          1,
          1,
          1,
          1,
          1,
          1,
          1,
          1,
          1,
          1,
          1,
          1,
          1,
          1,
          1,
          1,
          1,
          1,
          1,
          1,
          1,
          1,
          1,
          1,
          1,
          1,
          1,
          1,
          1,
          1,
          1,
          1,
          1,
          1,
          1,
          1,
          1,
          1,
          1,
          1,
          1,
          1,
          1,
          1,
          1,
          1,
          1,
          1,
          1,
          1,
          1,
          1,
          1,
          1,
          1
         ],
         "yaxis": "y",
         "type": "bar"
        }
       ],
       "layout": {
        "template": {
         "data": {
          "histogram2dcontour": [
           {
            "type": "histogram2dcontour",
            "colorbar": {
             "outlinewidth": 0,
             "ticks": ""
            },
            "colorscale": [
             [
              0.0,
              "#0d0887"
             ],
             [
              0.1111111111111111,
              "#46039f"
             ],
             [
              0.2222222222222222,
              "#7201a8"
             ],
             [
              0.3333333333333333,
              "#9c179e"
             ],
             [
              0.4444444444444444,
              "#bd3786"
             ],
             [
              0.5555555555555556,
              "#d8576b"
             ],
             [
              0.6666666666666666,
              "#ed7953"
             ],
             [
              0.7777777777777778,
              "#fb9f3a"
             ],
             [
              0.8888888888888888,
              "#fdca26"
             ],
             [
              1.0,
              "#f0f921"
             ]
            ]
           }
          ],
          "choropleth": [
           {
            "type": "choropleth",
            "colorbar": {
             "outlinewidth": 0,
             "ticks": ""
            }
           }
          ],
          "histogram2d": [
           {
            "type": "histogram2d",
            "colorbar": {
             "outlinewidth": 0,
             "ticks": ""
            },
            "colorscale": [
             [
              0.0,
              "#0d0887"
             ],
             [
              0.1111111111111111,
              "#46039f"
             ],
             [
              0.2222222222222222,
              "#7201a8"
             ],
             [
              0.3333333333333333,
              "#9c179e"
             ],
             [
              0.4444444444444444,
              "#bd3786"
             ],
             [
              0.5555555555555556,
              "#d8576b"
             ],
             [
              0.6666666666666666,
              "#ed7953"
             ],
             [
              0.7777777777777778,
              "#fb9f3a"
             ],
             [
              0.8888888888888888,
              "#fdca26"
             ],
             [
              1.0,
              "#f0f921"
             ]
            ]
           }
          ],
          "heatmap": [
           {
            "type": "heatmap",
            "colorbar": {
             "outlinewidth": 0,
             "ticks": ""
            },
            "colorscale": [
             [
              0.0,
              "#0d0887"
             ],
             [
              0.1111111111111111,
              "#46039f"
             ],
             [
              0.2222222222222222,
              "#7201a8"
             ],
             [
              0.3333333333333333,
              "#9c179e"
             ],
             [
              0.4444444444444444,
              "#bd3786"
             ],
             [
              0.5555555555555556,
              "#d8576b"
             ],
             [
              0.6666666666666666,
              "#ed7953"
             ],
             [
              0.7777777777777778,
              "#fb9f3a"
             ],
             [
              0.8888888888888888,
              "#fdca26"
             ],
             [
              1.0,
              "#f0f921"
             ]
            ]
           }
          ],
          "heatmapgl": [
           {
            "type": "heatmapgl",
            "colorbar": {
             "outlinewidth": 0,
             "ticks": ""
            },
            "colorscale": [
             [
              0.0,
              "#0d0887"
             ],
             [
              0.1111111111111111,
              "#46039f"
             ],
             [
              0.2222222222222222,
              "#7201a8"
             ],
             [
              0.3333333333333333,
              "#9c179e"
             ],
             [
              0.4444444444444444,
              "#bd3786"
             ],
             [
              0.5555555555555556,
              "#d8576b"
             ],
             [
              0.6666666666666666,
              "#ed7953"
             ],
             [
              0.7777777777777778,
              "#fb9f3a"
             ],
             [
              0.8888888888888888,
              "#fdca26"
             ],
             [
              1.0,
              "#f0f921"
             ]
            ]
           }
          ],
          "contourcarpet": [
           {
            "type": "contourcarpet",
            "colorbar": {
             "outlinewidth": 0,
             "ticks": ""
            }
           }
          ],
          "contour": [
           {
            "type": "contour",
            "colorbar": {
             "outlinewidth": 0,
             "ticks": ""
            },
            "colorscale": [
             [
              0.0,
              "#0d0887"
             ],
             [
              0.1111111111111111,
              "#46039f"
             ],
             [
              0.2222222222222222,
              "#7201a8"
             ],
             [
              0.3333333333333333,
              "#9c179e"
             ],
             [
              0.4444444444444444,
              "#bd3786"
             ],
             [
              0.5555555555555556,
              "#d8576b"
             ],
             [
              0.6666666666666666,
              "#ed7953"
             ],
             [
              0.7777777777777778,
              "#fb9f3a"
             ],
             [
              0.8888888888888888,
              "#fdca26"
             ],
             [
              1.0,
              "#f0f921"
             ]
            ]
           }
          ],
          "surface": [
           {
            "type": "surface",
            "colorbar": {
             "outlinewidth": 0,
             "ticks": ""
            },
            "colorscale": [
             [
              0.0,
              "#0d0887"
             ],
             [
              0.1111111111111111,
              "#46039f"
             ],
             [
              0.2222222222222222,
              "#7201a8"
             ],
             [
              0.3333333333333333,
              "#9c179e"
             ],
             [
              0.4444444444444444,
              "#bd3786"
             ],
             [
              0.5555555555555556,
              "#d8576b"
             ],
             [
              0.6666666666666666,
              "#ed7953"
             ],
             [
              0.7777777777777778,
              "#fb9f3a"
             ],
             [
              0.8888888888888888,
              "#fdca26"
             ],
             [
              1.0,
              "#f0f921"
             ]
            ]
           }
          ],
          "mesh3d": [
           {
            "type": "mesh3d",
            "colorbar": {
             "outlinewidth": 0,
             "ticks": ""
            }
           }
          ],
          "scatter": [
           {
            "fillpattern": {
             "fillmode": "overlay",
             "size": 10,
             "solidity": 0.2
            },
            "type": "scatter"
           }
          ],
          "parcoords": [
           {
            "type": "parcoords",
            "line": {
             "colorbar": {
              "outlinewidth": 0,
              "ticks": ""
             }
            }
           }
          ],
          "scatterpolargl": [
           {
            "type": "scatterpolargl",
            "marker": {
             "colorbar": {
              "outlinewidth": 0,
              "ticks": ""
             }
            }
           }
          ],
          "bar": [
           {
            "error_x": {
             "color": "#2a3f5f"
            },
            "error_y": {
             "color": "#2a3f5f"
            },
            "marker": {
             "line": {
              "color": "#E5ECF6",
              "width": 0.5
             },
             "pattern": {
              "fillmode": "overlay",
              "size": 10,
              "solidity": 0.2
             }
            },
            "type": "bar"
           }
          ],
          "scattergeo": [
           {
            "type": "scattergeo",
            "marker": {
             "colorbar": {
              "outlinewidth": 0,
              "ticks": ""
             }
            }
           }
          ],
          "scatterpolar": [
           {
            "type": "scatterpolar",
            "marker": {
             "colorbar": {
              "outlinewidth": 0,
              "ticks": ""
             }
            }
           }
          ],
          "histogram": [
           {
            "marker": {
             "pattern": {
              "fillmode": "overlay",
              "size": 10,
              "solidity": 0.2
             }
            },
            "type": "histogram"
           }
          ],
          "scattergl": [
           {
            "type": "scattergl",
            "marker": {
             "colorbar": {
              "outlinewidth": 0,
              "ticks": ""
             }
            }
           }
          ],
          "scatter3d": [
           {
            "type": "scatter3d",
            "line": {
             "colorbar": {
              "outlinewidth": 0,
              "ticks": ""
             }
            },
            "marker": {
             "colorbar": {
              "outlinewidth": 0,
              "ticks": ""
             }
            }
           }
          ],
          "scattermapbox": [
           {
            "type": "scattermapbox",
            "marker": {
             "colorbar": {
              "outlinewidth": 0,
              "ticks": ""
             }
            }
           }
          ],
          "scatterternary": [
           {
            "type": "scatterternary",
            "marker": {
             "colorbar": {
              "outlinewidth": 0,
              "ticks": ""
             }
            }
           }
          ],
          "scattercarpet": [
           {
            "type": "scattercarpet",
            "marker": {
             "colorbar": {
              "outlinewidth": 0,
              "ticks": ""
             }
            }
           }
          ],
          "carpet": [
           {
            "aaxis": {
             "endlinecolor": "#2a3f5f",
             "gridcolor": "white",
             "linecolor": "white",
             "minorgridcolor": "white",
             "startlinecolor": "#2a3f5f"
            },
            "baxis": {
             "endlinecolor": "#2a3f5f",
             "gridcolor": "white",
             "linecolor": "white",
             "minorgridcolor": "white",
             "startlinecolor": "#2a3f5f"
            },
            "type": "carpet"
           }
          ],
          "table": [
           {
            "cells": {
             "fill": {
              "color": "#EBF0F8"
             },
             "line": {
              "color": "white"
             }
            },
            "header": {
             "fill": {
              "color": "#C8D4E3"
             },
             "line": {
              "color": "white"
             }
            },
            "type": "table"
           }
          ],
          "barpolar": [
           {
            "marker": {
             "line": {
              "color": "#E5ECF6",
              "width": 0.5
             },
             "pattern": {
              "fillmode": "overlay",
              "size": 10,
              "solidity": 0.2
             }
            },
            "type": "barpolar"
           }
          ],
          "pie": [
           {
            "automargin": true,
            "type": "pie"
           }
          ]
         },
         "layout": {
          "autotypenumbers": "strict",
          "colorway": [
           "#636efa",
           "#EF553B",
           "#00cc96",
           "#ab63fa",
           "#FFA15A",
           "#19d3f3",
           "#FF6692",
           "#B6E880",
           "#FF97FF",
           "#FECB52"
          ],
          "font": {
           "color": "#2a3f5f"
          },
          "hovermode": "closest",
          "hoverlabel": {
           "align": "left"
          },
          "paper_bgcolor": "white",
          "plot_bgcolor": "#E5ECF6",
          "polar": {
           "bgcolor": "#E5ECF6",
           "angularaxis": {
            "gridcolor": "white",
            "linecolor": "white",
            "ticks": ""
           },
           "radialaxis": {
            "gridcolor": "white",
            "linecolor": "white",
            "ticks": ""
           }
          },
          "ternary": {
           "bgcolor": "#E5ECF6",
           "aaxis": {
            "gridcolor": "white",
            "linecolor": "white",
            "ticks": ""
           },
           "baxis": {
            "gridcolor": "white",
            "linecolor": "white",
            "ticks": ""
           },
           "caxis": {
            "gridcolor": "white",
            "linecolor": "white",
            "ticks": ""
           }
          },
          "coloraxis": {
           "colorbar": {
            "outlinewidth": 0,
            "ticks": ""
           }
          },
          "colorscale": {
           "sequential": [
            [
             0.0,
             "#0d0887"
            ],
            [
             0.1111111111111111,
             "#46039f"
            ],
            [
             0.2222222222222222,
             "#7201a8"
            ],
            [
             0.3333333333333333,
             "#9c179e"
            ],
            [
             0.4444444444444444,
             "#bd3786"
            ],
            [
             0.5555555555555556,
             "#d8576b"
            ],
            [
             0.6666666666666666,
             "#ed7953"
            ],
            [
             0.7777777777777778,
             "#fb9f3a"
            ],
            [
             0.8888888888888888,
             "#fdca26"
            ],
            [
             1.0,
             "#f0f921"
            ]
           ],
           "sequentialminus": [
            [
             0.0,
             "#0d0887"
            ],
            [
             0.1111111111111111,
             "#46039f"
            ],
            [
             0.2222222222222222,
             "#7201a8"
            ],
            [
             0.3333333333333333,
             "#9c179e"
            ],
            [
             0.4444444444444444,
             "#bd3786"
            ],
            [
             0.5555555555555556,
             "#d8576b"
            ],
            [
             0.6666666666666666,
             "#ed7953"
            ],
            [
             0.7777777777777778,
             "#fb9f3a"
            ],
            [
             0.8888888888888888,
             "#fdca26"
            ],
            [
             1.0,
             "#f0f921"
            ]
           ],
           "diverging": [
            [
             0,
             "#8e0152"
            ],
            [
             0.1,
             "#c51b7d"
            ],
            [
             0.2,
             "#de77ae"
            ],
            [
             0.3,
             "#f1b6da"
            ],
            [
             0.4,
             "#fde0ef"
            ],
            [
             0.5,
             "#f7f7f7"
            ],
            [
             0.6,
             "#e6f5d0"
            ],
            [
             0.7,
             "#b8e186"
            ],
            [
             0.8,
             "#7fbc41"
            ],
            [
             0.9,
             "#4d9221"
            ],
            [
             1,
             "#276419"
            ]
           ]
          },
          "xaxis": {
           "gridcolor": "white",
           "linecolor": "white",
           "ticks": "",
           "title": {
            "standoff": 15
           },
           "zerolinecolor": "white",
           "automargin": true,
           "zerolinewidth": 2
          },
          "yaxis": {
           "gridcolor": "white",
           "linecolor": "white",
           "ticks": "",
           "title": {
            "standoff": 15
           },
           "zerolinecolor": "white",
           "automargin": true,
           "zerolinewidth": 2
          },
          "scene": {
           "xaxis": {
            "backgroundcolor": "#E5ECF6",
            "gridcolor": "white",
            "linecolor": "white",
            "showbackground": true,
            "ticks": "",
            "zerolinecolor": "white",
            "gridwidth": 2
           },
           "yaxis": {
            "backgroundcolor": "#E5ECF6",
            "gridcolor": "white",
            "linecolor": "white",
            "showbackground": true,
            "ticks": "",
            "zerolinecolor": "white",
            "gridwidth": 2
           },
           "zaxis": {
            "backgroundcolor": "#E5ECF6",
            "gridcolor": "white",
            "linecolor": "white",
            "showbackground": true,
            "ticks": "",
            "zerolinecolor": "white",
            "gridwidth": 2
           }
          },
          "shapedefaults": {
           "line": {
            "color": "#2a3f5f"
           }
          },
          "annotationdefaults": {
           "arrowcolor": "#2a3f5f",
           "arrowhead": 0,
           "arrowwidth": 1
          },
          "geo": {
           "bgcolor": "white",
           "landcolor": "#E5ECF6",
           "subunitcolor": "white",
           "showland": true,
           "showlakes": true,
           "lakecolor": "white"
          },
          "title": {
           "x": 0.05
          },
          "mapbox": {
           "style": "light"
          }
         }
        },
        "xaxis": {
         "anchor": "y",
         "domain": [
          0.0,
          1.0
         ],
         "title": {
          "text": "pathology_m_stage"
         }
        },
        "yaxis": {
         "anchor": "x",
         "domain": [
          0.0,
          1.0
         ],
         "title": {
          "text": "count"
         }
        },
        "legend": {
         "tracegroupgap": 0
        },
        "margin": {
         "t": 60
        },
        "barmode": "relative"
       },
       "config": {
        "plotlyServerURL": "https://plot.ly"
       }
      },
      "text/html": "<div>                            <div id=\"a21d99db-840c-48da-b665-a9ffa766a320\" class=\"plotly-graph-div\" style=\"height:525px; width:100%;\"></div>            <script type=\"text/javascript\">                require([\"plotly\"], function(Plotly) {                    window.PLOTLYENV=window.PLOTLYENV || {};                                    if (document.getElementById(\"a21d99db-840c-48da-b665-a9ffa766a320\")) {                    Plotly.newPlot(                        \"a21d99db-840c-48da-b665-a9ffa766a320\",                        [{\"alignmentgroup\":\"True\",\"hovertemplate\":\"pathology_m_stage=%{x}<br>count=%{y}<extra></extra>\",\"legendgroup\":\"\",\"marker\":{\"color\":\"#636efa\",\"pattern\":{\"shape\":\"\"}},\"name\":\"\",\"offsetgroup\":\"\",\"orientation\":\"v\",\"showlegend\":false,\"textposition\":\"auto\",\"x\":[\"0\",\"X\",\"0\",\"0\",\"X\",\"X\",\"X\",\"X\",\"1\",\"X\",\"0\",\"0\",\"1\",\"0\",\"X\",\"0\",\"0\",\"0\",\"X\",\"X\",\"0\",\"0\",\"0\",\"0\",\"0\",\"X\",\"0\",\"X\",\"0\",\"X\",\"1\",\"0\",\"X\",\"0\",\"0\",\"0\",\"X\",\"0\",\"0\",\"0\",\"X\",\"X\",\"0\",\"X\",\"1\",\"X\",\"X\",\"X\",\"X\",\"X\",\"X\",\"0\",\"X\",\"X\",\"X\",\"X\",\"X\",\"X\",\"X\",\"0\",\"X\",\"X\",\"X\",\"X\",\"X\",\"X\",\"X\",\"1\",\"X\",\"X\",\"1\",\"X\",\"0\",\"0\",\"X\",\"0\",\"X\",\"X\",\"0\",\"0\",\"X\",\"0\",\"0\",\"X\",\"X\",\"0\",\"X\",\"0\",\"X\",\"0\",\"X\",\"0\",\"1\",\"X\",\"0\",\"0\",\"0\",\"X\",\"X\",\"X\",\"X\",\"X\",\"X\",\"0\",\"X\",\"1\",\"0\",\"1\",\"0\",\"0\",\"0\",\"0\",\"1\",\"1\",\"X\",\"X\",\"0\",\"0\",\"X\",\"X\",\"X\",\"X\",\"0\",\"0\",\"X\",\"X\",\"X\",\"X\",\"0\",\"0\",\"0\",\"0\",\"X\",\"0\",\"X\",\"0\",\"0\",\"0\",\"0\",\"X\",\"0\",\"0\",\"0\",\"X\",\"X\",\"0\",\"0\",\"0\",\"X\",\"X\",\"X\",\"0\",\"0\",\"X\",\"0\",\"X\",\"0\",\"X\",\"X\",\"X\",\"0\",\"X\",\"0\",\"X\",\"0\",\"X\",\"0\",\"X\",\"0\",\"0\",\"X\",\"X\",\"X\",\"0\",\"X\",\"0\",\"0\",\"0\",\"1\",\"1\",\"1\",\"X\",\"X\",\"X\",\"1\",\"X\",\"0\",\"0\",\"0\",\"1\",\"X\",\"X\",\"0\",\"0\",\"X\",\"X\",\"X\",\"X\",\"0\",\"0\",\"0\",\"0\",\"0\",\"0\",\"0\",\"X\",\"X\",\"1\",\"0\",\"0\",\"X\",\"X\",\"X\",\"X\",\"X\",\"1\",\"0\",\"X\",\"X\",\"0\",\"X\",\"1\",\"0\",\"X\",\"1\",\"X\",\"X\",\"X\",\"X\",\"X\",\"X\",\"0\",\"X\",\"1\",\"X\",\"0\",\"X\",\"X\",\"0\",\"1\",\"0\",\"0\",\"0\",\"X\",\"0\",\"1\",\"1\",\"0\",\"1\",\"0\",\"0\",\"0\",\"0\",\"0\",\"0\",\"0\",\"0\",\"0\",\"0\",\"0\",\"0\",\"0\",\"1\",\"X\",\"X\",\"0\",\"X\",\"0\",\"0\",\"0\",\"X\",\"X\",\"0\",\"0\",\"1\",\"0\",\"0\",\"X\",\"X\",\"0\",\"1\",\"1\",\"0\",\"1\",\"0\",\"1\",\"X\",\"X\",\"X\",\"X\",\"X\",\"1\",\"X\",\"X\",\"0\",\"0\",\"X\",\"X\",\"X\",\"X\"],\"xaxis\":\"x\",\"y\":[1,1,1,1,1,1,1,1,1,1,1,1,1,1,1,1,1,1,1,1,1,1,1,1,1,1,1,1,1,1,1,1,1,1,1,1,1,1,1,1,1,1,1,1,1,1,1,1,1,1,1,1,1,1,1,1,1,1,1,1,1,1,1,1,1,1,1,1,1,1,1,1,1,1,1,1,1,1,1,1,1,1,1,1,1,1,1,1,1,1,1,1,1,1,1,1,1,1,1,1,1,1,1,1,1,1,1,1,1,1,1,1,1,1,1,1,1,1,1,1,1,1,1,1,1,1,1,1,1,1,1,1,1,1,1,1,1,1,1,1,1,1,1,1,1,1,1,1,1,1,1,1,1,1,1,1,1,1,1,1,1,1,1,1,1,1,1,1,1,1,1,1,1,1,1,1,1,1,1,1,1,1,1,1,1,1,1,1,1,1,1,1,1,1,1,1,1,1,1,1,1,1,1,1,1,1,1,1,1,1,1,1,1,1,1,1,1,1,1,1,1,1,1,1,1,1,1,1,1,1,1,1,1,1,1,1,1,1,1,1,1,1,1,1,1,1,1,1,1,1,1,1,1,1,1,1,1,1,1,1,1,1,1,1,1,1,1,1,1,1,1,1,1,1,1,1,1,1,1,1,1,1,1,1,1,1,1,1,1,1,1,1,1,1,1,1,1,1,1,1],\"yaxis\":\"y\",\"type\":\"bar\"}],                        {\"template\":{\"data\":{\"histogram2dcontour\":[{\"type\":\"histogram2dcontour\",\"colorbar\":{\"outlinewidth\":0,\"ticks\":\"\"},\"colorscale\":[[0.0,\"#0d0887\"],[0.1111111111111111,\"#46039f\"],[0.2222222222222222,\"#7201a8\"],[0.3333333333333333,\"#9c179e\"],[0.4444444444444444,\"#bd3786\"],[0.5555555555555556,\"#d8576b\"],[0.6666666666666666,\"#ed7953\"],[0.7777777777777778,\"#fb9f3a\"],[0.8888888888888888,\"#fdca26\"],[1.0,\"#f0f921\"]]}],\"choropleth\":[{\"type\":\"choropleth\",\"colorbar\":{\"outlinewidth\":0,\"ticks\":\"\"}}],\"histogram2d\":[{\"type\":\"histogram2d\",\"colorbar\":{\"outlinewidth\":0,\"ticks\":\"\"},\"colorscale\":[[0.0,\"#0d0887\"],[0.1111111111111111,\"#46039f\"],[0.2222222222222222,\"#7201a8\"],[0.3333333333333333,\"#9c179e\"],[0.4444444444444444,\"#bd3786\"],[0.5555555555555556,\"#d8576b\"],[0.6666666666666666,\"#ed7953\"],[0.7777777777777778,\"#fb9f3a\"],[0.8888888888888888,\"#fdca26\"],[1.0,\"#f0f921\"]]}],\"heatmap\":[{\"type\":\"heatmap\",\"colorbar\":{\"outlinewidth\":0,\"ticks\":\"\"},\"colorscale\":[[0.0,\"#0d0887\"],[0.1111111111111111,\"#46039f\"],[0.2222222222222222,\"#7201a8\"],[0.3333333333333333,\"#9c179e\"],[0.4444444444444444,\"#bd3786\"],[0.5555555555555556,\"#d8576b\"],[0.6666666666666666,\"#ed7953\"],[0.7777777777777778,\"#fb9f3a\"],[0.8888888888888888,\"#fdca26\"],[1.0,\"#f0f921\"]]}],\"heatmapgl\":[{\"type\":\"heatmapgl\",\"colorbar\":{\"outlinewidth\":0,\"ticks\":\"\"},\"colorscale\":[[0.0,\"#0d0887\"],[0.1111111111111111,\"#46039f\"],[0.2222222222222222,\"#7201a8\"],[0.3333333333333333,\"#9c179e\"],[0.4444444444444444,\"#bd3786\"],[0.5555555555555556,\"#d8576b\"],[0.6666666666666666,\"#ed7953\"],[0.7777777777777778,\"#fb9f3a\"],[0.8888888888888888,\"#fdca26\"],[1.0,\"#f0f921\"]]}],\"contourcarpet\":[{\"type\":\"contourcarpet\",\"colorbar\":{\"outlinewidth\":0,\"ticks\":\"\"}}],\"contour\":[{\"type\":\"contour\",\"colorbar\":{\"outlinewidth\":0,\"ticks\":\"\"},\"colorscale\":[[0.0,\"#0d0887\"],[0.1111111111111111,\"#46039f\"],[0.2222222222222222,\"#7201a8\"],[0.3333333333333333,\"#9c179e\"],[0.4444444444444444,\"#bd3786\"],[0.5555555555555556,\"#d8576b\"],[0.6666666666666666,\"#ed7953\"],[0.7777777777777778,\"#fb9f3a\"],[0.8888888888888888,\"#fdca26\"],[1.0,\"#f0f921\"]]}],\"surface\":[{\"type\":\"surface\",\"colorbar\":{\"outlinewidth\":0,\"ticks\":\"\"},\"colorscale\":[[0.0,\"#0d0887\"],[0.1111111111111111,\"#46039f\"],[0.2222222222222222,\"#7201a8\"],[0.3333333333333333,\"#9c179e\"],[0.4444444444444444,\"#bd3786\"],[0.5555555555555556,\"#d8576b\"],[0.6666666666666666,\"#ed7953\"],[0.7777777777777778,\"#fb9f3a\"],[0.8888888888888888,\"#fdca26\"],[1.0,\"#f0f921\"]]}],\"mesh3d\":[{\"type\":\"mesh3d\",\"colorbar\":{\"outlinewidth\":0,\"ticks\":\"\"}}],\"scatter\":[{\"fillpattern\":{\"fillmode\":\"overlay\",\"size\":10,\"solidity\":0.2},\"type\":\"scatter\"}],\"parcoords\":[{\"type\":\"parcoords\",\"line\":{\"colorbar\":{\"outlinewidth\":0,\"ticks\":\"\"}}}],\"scatterpolargl\":[{\"type\":\"scatterpolargl\",\"marker\":{\"colorbar\":{\"outlinewidth\":0,\"ticks\":\"\"}}}],\"bar\":[{\"error_x\":{\"color\":\"#2a3f5f\"},\"error_y\":{\"color\":\"#2a3f5f\"},\"marker\":{\"line\":{\"color\":\"#E5ECF6\",\"width\":0.5},\"pattern\":{\"fillmode\":\"overlay\",\"size\":10,\"solidity\":0.2}},\"type\":\"bar\"}],\"scattergeo\":[{\"type\":\"scattergeo\",\"marker\":{\"colorbar\":{\"outlinewidth\":0,\"ticks\":\"\"}}}],\"scatterpolar\":[{\"type\":\"scatterpolar\",\"marker\":{\"colorbar\":{\"outlinewidth\":0,\"ticks\":\"\"}}}],\"histogram\":[{\"marker\":{\"pattern\":{\"fillmode\":\"overlay\",\"size\":10,\"solidity\":0.2}},\"type\":\"histogram\"}],\"scattergl\":[{\"type\":\"scattergl\",\"marker\":{\"colorbar\":{\"outlinewidth\":0,\"ticks\":\"\"}}}],\"scatter3d\":[{\"type\":\"scatter3d\",\"line\":{\"colorbar\":{\"outlinewidth\":0,\"ticks\":\"\"}},\"marker\":{\"colorbar\":{\"outlinewidth\":0,\"ticks\":\"\"}}}],\"scattermapbox\":[{\"type\":\"scattermapbox\",\"marker\":{\"colorbar\":{\"outlinewidth\":0,\"ticks\":\"\"}}}],\"scatterternary\":[{\"type\":\"scatterternary\",\"marker\":{\"colorbar\":{\"outlinewidth\":0,\"ticks\":\"\"}}}],\"scattercarpet\":[{\"type\":\"scattercarpet\",\"marker\":{\"colorbar\":{\"outlinewidth\":0,\"ticks\":\"\"}}}],\"carpet\":[{\"aaxis\":{\"endlinecolor\":\"#2a3f5f\",\"gridcolor\":\"white\",\"linecolor\":\"white\",\"minorgridcolor\":\"white\",\"startlinecolor\":\"#2a3f5f\"},\"baxis\":{\"endlinecolor\":\"#2a3f5f\",\"gridcolor\":\"white\",\"linecolor\":\"white\",\"minorgridcolor\":\"white\",\"startlinecolor\":\"#2a3f5f\"},\"type\":\"carpet\"}],\"table\":[{\"cells\":{\"fill\":{\"color\":\"#EBF0F8\"},\"line\":{\"color\":\"white\"}},\"header\":{\"fill\":{\"color\":\"#C8D4E3\"},\"line\":{\"color\":\"white\"}},\"type\":\"table\"}],\"barpolar\":[{\"marker\":{\"line\":{\"color\":\"#E5ECF6\",\"width\":0.5},\"pattern\":{\"fillmode\":\"overlay\",\"size\":10,\"solidity\":0.2}},\"type\":\"barpolar\"}],\"pie\":[{\"automargin\":true,\"type\":\"pie\"}]},\"layout\":{\"autotypenumbers\":\"strict\",\"colorway\":[\"#636efa\",\"#EF553B\",\"#00cc96\",\"#ab63fa\",\"#FFA15A\",\"#19d3f3\",\"#FF6692\",\"#B6E880\",\"#FF97FF\",\"#FECB52\"],\"font\":{\"color\":\"#2a3f5f\"},\"hovermode\":\"closest\",\"hoverlabel\":{\"align\":\"left\"},\"paper_bgcolor\":\"white\",\"plot_bgcolor\":\"#E5ECF6\",\"polar\":{\"bgcolor\":\"#E5ECF6\",\"angularaxis\":{\"gridcolor\":\"white\",\"linecolor\":\"white\",\"ticks\":\"\"},\"radialaxis\":{\"gridcolor\":\"white\",\"linecolor\":\"white\",\"ticks\":\"\"}},\"ternary\":{\"bgcolor\":\"#E5ECF6\",\"aaxis\":{\"gridcolor\":\"white\",\"linecolor\":\"white\",\"ticks\":\"\"},\"baxis\":{\"gridcolor\":\"white\",\"linecolor\":\"white\",\"ticks\":\"\"},\"caxis\":{\"gridcolor\":\"white\",\"linecolor\":\"white\",\"ticks\":\"\"}},\"coloraxis\":{\"colorbar\":{\"outlinewidth\":0,\"ticks\":\"\"}},\"colorscale\":{\"sequential\":[[0.0,\"#0d0887\"],[0.1111111111111111,\"#46039f\"],[0.2222222222222222,\"#7201a8\"],[0.3333333333333333,\"#9c179e\"],[0.4444444444444444,\"#bd3786\"],[0.5555555555555556,\"#d8576b\"],[0.6666666666666666,\"#ed7953\"],[0.7777777777777778,\"#fb9f3a\"],[0.8888888888888888,\"#fdca26\"],[1.0,\"#f0f921\"]],\"sequentialminus\":[[0.0,\"#0d0887\"],[0.1111111111111111,\"#46039f\"],[0.2222222222222222,\"#7201a8\"],[0.3333333333333333,\"#9c179e\"],[0.4444444444444444,\"#bd3786\"],[0.5555555555555556,\"#d8576b\"],[0.6666666666666666,\"#ed7953\"],[0.7777777777777778,\"#fb9f3a\"],[0.8888888888888888,\"#fdca26\"],[1.0,\"#f0f921\"]],\"diverging\":[[0,\"#8e0152\"],[0.1,\"#c51b7d\"],[0.2,\"#de77ae\"],[0.3,\"#f1b6da\"],[0.4,\"#fde0ef\"],[0.5,\"#f7f7f7\"],[0.6,\"#e6f5d0\"],[0.7,\"#b8e186\"],[0.8,\"#7fbc41\"],[0.9,\"#4d9221\"],[1,\"#276419\"]]},\"xaxis\":{\"gridcolor\":\"white\",\"linecolor\":\"white\",\"ticks\":\"\",\"title\":{\"standoff\":15},\"zerolinecolor\":\"white\",\"automargin\":true,\"zerolinewidth\":2},\"yaxis\":{\"gridcolor\":\"white\",\"linecolor\":\"white\",\"ticks\":\"\",\"title\":{\"standoff\":15},\"zerolinecolor\":\"white\",\"automargin\":true,\"zerolinewidth\":2},\"scene\":{\"xaxis\":{\"backgroundcolor\":\"#E5ECF6\",\"gridcolor\":\"white\",\"linecolor\":\"white\",\"showbackground\":true,\"ticks\":\"\",\"zerolinecolor\":\"white\",\"gridwidth\":2},\"yaxis\":{\"backgroundcolor\":\"#E5ECF6\",\"gridcolor\":\"white\",\"linecolor\":\"white\",\"showbackground\":true,\"ticks\":\"\",\"zerolinecolor\":\"white\",\"gridwidth\":2},\"zaxis\":{\"backgroundcolor\":\"#E5ECF6\",\"gridcolor\":\"white\",\"linecolor\":\"white\",\"showbackground\":true,\"ticks\":\"\",\"zerolinecolor\":\"white\",\"gridwidth\":2}},\"shapedefaults\":{\"line\":{\"color\":\"#2a3f5f\"}},\"annotationdefaults\":{\"arrowcolor\":\"#2a3f5f\",\"arrowhead\":0,\"arrowwidth\":1},\"geo\":{\"bgcolor\":\"white\",\"landcolor\":\"#E5ECF6\",\"subunitcolor\":\"white\",\"showland\":true,\"showlakes\":true,\"lakecolor\":\"white\"},\"title\":{\"x\":0.05},\"mapbox\":{\"style\":\"light\"}}},\"xaxis\":{\"anchor\":\"y\",\"domain\":[0.0,1.0],\"title\":{\"text\":\"pathology_m_stage\"}},\"yaxis\":{\"anchor\":\"x\",\"domain\":[0.0,1.0],\"title\":{\"text\":\"count\"}},\"legend\":{\"tracegroupgap\":0},\"margin\":{\"t\":60},\"barmode\":\"relative\"},                        {\"responsive\": true}                    ).then(function(){\n                            \nvar gd = document.getElementById('a21d99db-840c-48da-b665-a9ffa766a320');\nvar x = new MutationObserver(function (mutations, observer) {{\n        var display = window.getComputedStyle(gd).display;\n        if (!display || display === 'none') {{\n            console.log([gd, 'removed!']);\n            Plotly.purge(gd);\n            observer.disconnect();\n        }}\n}});\n\n// Listen for the removal of the full notebook cells\nvar notebookContainer = gd.closest('#notebook-container');\nif (notebookContainer) {{\n    x.observe(notebookContainer, {childList: true});\n}}\n\n// Listen for the clearing of the current output cell\nvar outputEl = gd.closest('.output');\nif (outputEl) {{\n    x.observe(outputEl, {childList: true});\n}}\n\n                        })                };                });            </script>        </div>"
     },
     "metadata": {},
     "output_type": "display_data"
    }
   ],
   "source": [
    "fig = px.bar(df, x = 'pathology_m_stage')\n",
    "fig.show()"
   ],
   "metadata": {
    "collapsed": false
   }
  },
  {
   "cell_type": "code",
   "execution_count": 29,
   "outputs": [
    {
     "data": {
      "application/vnd.plotly.v1+json": {
       "data": [
        {
         "alignmentgroup": "True",
         "hovertemplate": "pathology_n_stage=%{x}<br>count=%{y}<extra></extra>",
         "legendgroup": "",
         "marker": {
          "color": "#636efa",
          "pattern": {
           "shape": ""
          }
         },
         "name": "",
         "offsetgroup": "",
         "orientation": "v",
         "showlegend": false,
         "textposition": "auto",
         "x": [
          "0",
          "X",
          "0",
          "0",
          "X",
          "X",
          "X",
          "X",
          "X",
          "X",
          "0",
          "X",
          "X",
          "0",
          "X",
          "0",
          "0",
          "0",
          "X",
          "X",
          "0",
          "0",
          "0",
          "0",
          "0",
          "X",
          "0",
          "X",
          "X",
          "X",
          "X",
          "0",
          "X",
          "0",
          "X",
          "0",
          "X",
          "X",
          "0",
          "0",
          "X",
          "X",
          "0",
          "X",
          "X",
          "X",
          "X",
          "X",
          "0",
          "X",
          "X",
          "0",
          "X",
          "X",
          "X",
          "X",
          "X",
          "X",
          "0",
          "0",
          "X",
          "X",
          "X",
          "X",
          "X",
          "X",
          "X",
          "0",
          "X",
          "X",
          "1",
          "X",
          "X",
          "0",
          "X",
          "0",
          "X",
          "X",
          "0",
          "0",
          "X",
          "0",
          "0",
          "X",
          "X",
          "0",
          "X",
          "0",
          "0",
          "0",
          "X",
          "X",
          "X",
          "X",
          "0",
          "0",
          "X",
          "X",
          "X",
          "X",
          "X",
          "X",
          "X",
          "0",
          "X",
          "X",
          "0",
          "0",
          "0",
          "0",
          "0",
          "X",
          "X",
          "1",
          "1",
          "X",
          "0",
          "0",
          "X",
          "X",
          "X",
          "X",
          "0",
          "0",
          "X",
          "X",
          "X",
          "X",
          "0",
          "0",
          "0",
          "0",
          "X",
          "0",
          "X",
          "0",
          "0",
          "0",
          "0",
          "1",
          "0",
          "0",
          "0",
          "X",
          "0",
          "X",
          "0",
          "0",
          "X",
          "X",
          "X",
          "X",
          "0",
          "X",
          "0",
          "X",
          "0",
          "X",
          "X",
          "X",
          "0",
          "X",
          "0",
          "X",
          "0",
          "X",
          "0",
          "X",
          "0",
          "0",
          "X",
          "X",
          "X",
          "0",
          "X",
          "0",
          "0",
          "0",
          "X",
          "0",
          "1",
          "0",
          "0",
          "X",
          "X",
          "0",
          "0",
          "0",
          "0",
          "X",
          "X",
          "X",
          "0",
          "X",
          "X",
          "X",
          "X",
          "X",
          "0",
          "0",
          "0",
          "0",
          "0",
          "1",
          "0",
          "X",
          "X",
          "X",
          "X",
          "0",
          "X",
          "X",
          "X",
          "X",
          "X",
          "1",
          "X",
          "X",
          "X",
          "0",
          "X",
          "X",
          "X",
          "X",
          "1",
          "X",
          "X",
          "X",
          "X",
          "X",
          "X",
          "X",
          "X",
          "0",
          "X",
          "X",
          "X",
          "X",
          "X",
          "X",
          "X",
          "0",
          "X",
          "X",
          "0",
          "1",
          "X",
          "X",
          "1",
          "0",
          "X",
          "X",
          "X",
          "0",
          "X",
          "0",
          "0",
          "0",
          "0",
          "0",
          "0",
          "0",
          "X",
          "X",
          "X",
          "0",
          "X",
          "0",
          "0",
          "0",
          "X",
          "X",
          "0",
          "0",
          "0",
          "0",
          "0",
          "0",
          "X",
          "0",
          "X",
          "1",
          "0",
          "X",
          "0",
          "X",
          "0",
          "X",
          "X",
          "0",
          "X",
          "2",
          "X",
          "0",
          "0",
          "0",
          "0",
          "X",
          "X",
          "X"
         ],
         "xaxis": "x",
         "y": [
          1,
          1,
          1,
          1,
          1,
          1,
          1,
          1,
          1,
          1,
          1,
          1,
          1,
          1,
          1,
          1,
          1,
          1,
          1,
          1,
          1,
          1,
          1,
          1,
          1,
          1,
          1,
          1,
          1,
          1,
          1,
          1,
          1,
          1,
          1,
          1,
          1,
          1,
          1,
          1,
          1,
          1,
          1,
          1,
          1,
          1,
          1,
          1,
          1,
          1,
          1,
          1,
          1,
          1,
          1,
          1,
          1,
          1,
          1,
          1,
          1,
          1,
          1,
          1,
          1,
          1,
          1,
          1,
          1,
          1,
          1,
          1,
          1,
          1,
          1,
          1,
          1,
          1,
          1,
          1,
          1,
          1,
          1,
          1,
          1,
          1,
          1,
          1,
          1,
          1,
          1,
          1,
          1,
          1,
          1,
          1,
          1,
          1,
          1,
          1,
          1,
          1,
          1,
          1,
          1,
          1,
          1,
          1,
          1,
          1,
          1,
          1,
          1,
          1,
          1,
          1,
          1,
          1,
          1,
          1,
          1,
          1,
          1,
          1,
          1,
          1,
          1,
          1,
          1,
          1,
          1,
          1,
          1,
          1,
          1,
          1,
          1,
          1,
          1,
          1,
          1,
          1,
          1,
          1,
          1,
          1,
          1,
          1,
          1,
          1,
          1,
          1,
          1,
          1,
          1,
          1,
          1,
          1,
          1,
          1,
          1,
          1,
          1,
          1,
          1,
          1,
          1,
          1,
          1,
          1,
          1,
          1,
          1,
          1,
          1,
          1,
          1,
          1,
          1,
          1,
          1,
          1,
          1,
          1,
          1,
          1,
          1,
          1,
          1,
          1,
          1,
          1,
          1,
          1,
          1,
          1,
          1,
          1,
          1,
          1,
          1,
          1,
          1,
          1,
          1,
          1,
          1,
          1,
          1,
          1,
          1,
          1,
          1,
          1,
          1,
          1,
          1,
          1,
          1,
          1,
          1,
          1,
          1,
          1,
          1,
          1,
          1,
          1,
          1,
          1,
          1,
          1,
          1,
          1,
          1,
          1,
          1,
          1,
          1,
          1,
          1,
          1,
          1,
          1,
          1,
          1,
          1,
          1,
          1,
          1,
          1,
          1,
          1,
          1,
          1,
          1,
          1,
          1,
          1,
          1,
          1,
          1,
          1,
          1,
          1,
          1,
          1,
          1,
          1,
          1,
          1,
          1,
          1,
          1,
          1,
          1,
          1,
          1,
          1,
          1,
          1,
          1,
          1,
          1,
          1,
          1,
          1,
          1,
          1,
          1,
          1,
          1,
          1,
          1,
          1,
          1,
          1,
          1,
          1,
          1
         ],
         "yaxis": "y",
         "type": "bar"
        }
       ],
       "layout": {
        "template": {
         "data": {
          "histogram2dcontour": [
           {
            "type": "histogram2dcontour",
            "colorbar": {
             "outlinewidth": 0,
             "ticks": ""
            },
            "colorscale": [
             [
              0.0,
              "#0d0887"
             ],
             [
              0.1111111111111111,
              "#46039f"
             ],
             [
              0.2222222222222222,
              "#7201a8"
             ],
             [
              0.3333333333333333,
              "#9c179e"
             ],
             [
              0.4444444444444444,
              "#bd3786"
             ],
             [
              0.5555555555555556,
              "#d8576b"
             ],
             [
              0.6666666666666666,
              "#ed7953"
             ],
             [
              0.7777777777777778,
              "#fb9f3a"
             ],
             [
              0.8888888888888888,
              "#fdca26"
             ],
             [
              1.0,
              "#f0f921"
             ]
            ]
           }
          ],
          "choropleth": [
           {
            "type": "choropleth",
            "colorbar": {
             "outlinewidth": 0,
             "ticks": ""
            }
           }
          ],
          "histogram2d": [
           {
            "type": "histogram2d",
            "colorbar": {
             "outlinewidth": 0,
             "ticks": ""
            },
            "colorscale": [
             [
              0.0,
              "#0d0887"
             ],
             [
              0.1111111111111111,
              "#46039f"
             ],
             [
              0.2222222222222222,
              "#7201a8"
             ],
             [
              0.3333333333333333,
              "#9c179e"
             ],
             [
              0.4444444444444444,
              "#bd3786"
             ],
             [
              0.5555555555555556,
              "#d8576b"
             ],
             [
              0.6666666666666666,
              "#ed7953"
             ],
             [
              0.7777777777777778,
              "#fb9f3a"
             ],
             [
              0.8888888888888888,
              "#fdca26"
             ],
             [
              1.0,
              "#f0f921"
             ]
            ]
           }
          ],
          "heatmap": [
           {
            "type": "heatmap",
            "colorbar": {
             "outlinewidth": 0,
             "ticks": ""
            },
            "colorscale": [
             [
              0.0,
              "#0d0887"
             ],
             [
              0.1111111111111111,
              "#46039f"
             ],
             [
              0.2222222222222222,
              "#7201a8"
             ],
             [
              0.3333333333333333,
              "#9c179e"
             ],
             [
              0.4444444444444444,
              "#bd3786"
             ],
             [
              0.5555555555555556,
              "#d8576b"
             ],
             [
              0.6666666666666666,
              "#ed7953"
             ],
             [
              0.7777777777777778,
              "#fb9f3a"
             ],
             [
              0.8888888888888888,
              "#fdca26"
             ],
             [
              1.0,
              "#f0f921"
             ]
            ]
           }
          ],
          "heatmapgl": [
           {
            "type": "heatmapgl",
            "colorbar": {
             "outlinewidth": 0,
             "ticks": ""
            },
            "colorscale": [
             [
              0.0,
              "#0d0887"
             ],
             [
              0.1111111111111111,
              "#46039f"
             ],
             [
              0.2222222222222222,
              "#7201a8"
             ],
             [
              0.3333333333333333,
              "#9c179e"
             ],
             [
              0.4444444444444444,
              "#bd3786"
             ],
             [
              0.5555555555555556,
              "#d8576b"
             ],
             [
              0.6666666666666666,
              "#ed7953"
             ],
             [
              0.7777777777777778,
              "#fb9f3a"
             ],
             [
              0.8888888888888888,
              "#fdca26"
             ],
             [
              1.0,
              "#f0f921"
             ]
            ]
           }
          ],
          "contourcarpet": [
           {
            "type": "contourcarpet",
            "colorbar": {
             "outlinewidth": 0,
             "ticks": ""
            }
           }
          ],
          "contour": [
           {
            "type": "contour",
            "colorbar": {
             "outlinewidth": 0,
             "ticks": ""
            },
            "colorscale": [
             [
              0.0,
              "#0d0887"
             ],
             [
              0.1111111111111111,
              "#46039f"
             ],
             [
              0.2222222222222222,
              "#7201a8"
             ],
             [
              0.3333333333333333,
              "#9c179e"
             ],
             [
              0.4444444444444444,
              "#bd3786"
             ],
             [
              0.5555555555555556,
              "#d8576b"
             ],
             [
              0.6666666666666666,
              "#ed7953"
             ],
             [
              0.7777777777777778,
              "#fb9f3a"
             ],
             [
              0.8888888888888888,
              "#fdca26"
             ],
             [
              1.0,
              "#f0f921"
             ]
            ]
           }
          ],
          "surface": [
           {
            "type": "surface",
            "colorbar": {
             "outlinewidth": 0,
             "ticks": ""
            },
            "colorscale": [
             [
              0.0,
              "#0d0887"
             ],
             [
              0.1111111111111111,
              "#46039f"
             ],
             [
              0.2222222222222222,
              "#7201a8"
             ],
             [
              0.3333333333333333,
              "#9c179e"
             ],
             [
              0.4444444444444444,
              "#bd3786"
             ],
             [
              0.5555555555555556,
              "#d8576b"
             ],
             [
              0.6666666666666666,
              "#ed7953"
             ],
             [
              0.7777777777777778,
              "#fb9f3a"
             ],
             [
              0.8888888888888888,
              "#fdca26"
             ],
             [
              1.0,
              "#f0f921"
             ]
            ]
           }
          ],
          "mesh3d": [
           {
            "type": "mesh3d",
            "colorbar": {
             "outlinewidth": 0,
             "ticks": ""
            }
           }
          ],
          "scatter": [
           {
            "fillpattern": {
             "fillmode": "overlay",
             "size": 10,
             "solidity": 0.2
            },
            "type": "scatter"
           }
          ],
          "parcoords": [
           {
            "type": "parcoords",
            "line": {
             "colorbar": {
              "outlinewidth": 0,
              "ticks": ""
             }
            }
           }
          ],
          "scatterpolargl": [
           {
            "type": "scatterpolargl",
            "marker": {
             "colorbar": {
              "outlinewidth": 0,
              "ticks": ""
             }
            }
           }
          ],
          "bar": [
           {
            "error_x": {
             "color": "#2a3f5f"
            },
            "error_y": {
             "color": "#2a3f5f"
            },
            "marker": {
             "line": {
              "color": "#E5ECF6",
              "width": 0.5
             },
             "pattern": {
              "fillmode": "overlay",
              "size": 10,
              "solidity": 0.2
             }
            },
            "type": "bar"
           }
          ],
          "scattergeo": [
           {
            "type": "scattergeo",
            "marker": {
             "colorbar": {
              "outlinewidth": 0,
              "ticks": ""
             }
            }
           }
          ],
          "scatterpolar": [
           {
            "type": "scatterpolar",
            "marker": {
             "colorbar": {
              "outlinewidth": 0,
              "ticks": ""
             }
            }
           }
          ],
          "histogram": [
           {
            "marker": {
             "pattern": {
              "fillmode": "overlay",
              "size": 10,
              "solidity": 0.2
             }
            },
            "type": "histogram"
           }
          ],
          "scattergl": [
           {
            "type": "scattergl",
            "marker": {
             "colorbar": {
              "outlinewidth": 0,
              "ticks": ""
             }
            }
           }
          ],
          "scatter3d": [
           {
            "type": "scatter3d",
            "line": {
             "colorbar": {
              "outlinewidth": 0,
              "ticks": ""
             }
            },
            "marker": {
             "colorbar": {
              "outlinewidth": 0,
              "ticks": ""
             }
            }
           }
          ],
          "scattermapbox": [
           {
            "type": "scattermapbox",
            "marker": {
             "colorbar": {
              "outlinewidth": 0,
              "ticks": ""
             }
            }
           }
          ],
          "scatterternary": [
           {
            "type": "scatterternary",
            "marker": {
             "colorbar": {
              "outlinewidth": 0,
              "ticks": ""
             }
            }
           }
          ],
          "scattercarpet": [
           {
            "type": "scattercarpet",
            "marker": {
             "colorbar": {
              "outlinewidth": 0,
              "ticks": ""
             }
            }
           }
          ],
          "carpet": [
           {
            "aaxis": {
             "endlinecolor": "#2a3f5f",
             "gridcolor": "white",
             "linecolor": "white",
             "minorgridcolor": "white",
             "startlinecolor": "#2a3f5f"
            },
            "baxis": {
             "endlinecolor": "#2a3f5f",
             "gridcolor": "white",
             "linecolor": "white",
             "minorgridcolor": "white",
             "startlinecolor": "#2a3f5f"
            },
            "type": "carpet"
           }
          ],
          "table": [
           {
            "cells": {
             "fill": {
              "color": "#EBF0F8"
             },
             "line": {
              "color": "white"
             }
            },
            "header": {
             "fill": {
              "color": "#C8D4E3"
             },
             "line": {
              "color": "white"
             }
            },
            "type": "table"
           }
          ],
          "barpolar": [
           {
            "marker": {
             "line": {
              "color": "#E5ECF6",
              "width": 0.5
             },
             "pattern": {
              "fillmode": "overlay",
              "size": 10,
              "solidity": 0.2
             }
            },
            "type": "barpolar"
           }
          ],
          "pie": [
           {
            "automargin": true,
            "type": "pie"
           }
          ]
         },
         "layout": {
          "autotypenumbers": "strict",
          "colorway": [
           "#636efa",
           "#EF553B",
           "#00cc96",
           "#ab63fa",
           "#FFA15A",
           "#19d3f3",
           "#FF6692",
           "#B6E880",
           "#FF97FF",
           "#FECB52"
          ],
          "font": {
           "color": "#2a3f5f"
          },
          "hovermode": "closest",
          "hoverlabel": {
           "align": "left"
          },
          "paper_bgcolor": "white",
          "plot_bgcolor": "#E5ECF6",
          "polar": {
           "bgcolor": "#E5ECF6",
           "angularaxis": {
            "gridcolor": "white",
            "linecolor": "white",
            "ticks": ""
           },
           "radialaxis": {
            "gridcolor": "white",
            "linecolor": "white",
            "ticks": ""
           }
          },
          "ternary": {
           "bgcolor": "#E5ECF6",
           "aaxis": {
            "gridcolor": "white",
            "linecolor": "white",
            "ticks": ""
           },
           "baxis": {
            "gridcolor": "white",
            "linecolor": "white",
            "ticks": ""
           },
           "caxis": {
            "gridcolor": "white",
            "linecolor": "white",
            "ticks": ""
           }
          },
          "coloraxis": {
           "colorbar": {
            "outlinewidth": 0,
            "ticks": ""
           }
          },
          "colorscale": {
           "sequential": [
            [
             0.0,
             "#0d0887"
            ],
            [
             0.1111111111111111,
             "#46039f"
            ],
            [
             0.2222222222222222,
             "#7201a8"
            ],
            [
             0.3333333333333333,
             "#9c179e"
            ],
            [
             0.4444444444444444,
             "#bd3786"
            ],
            [
             0.5555555555555556,
             "#d8576b"
            ],
            [
             0.6666666666666666,
             "#ed7953"
            ],
            [
             0.7777777777777778,
             "#fb9f3a"
            ],
            [
             0.8888888888888888,
             "#fdca26"
            ],
            [
             1.0,
             "#f0f921"
            ]
           ],
           "sequentialminus": [
            [
             0.0,
             "#0d0887"
            ],
            [
             0.1111111111111111,
             "#46039f"
            ],
            [
             0.2222222222222222,
             "#7201a8"
            ],
            [
             0.3333333333333333,
             "#9c179e"
            ],
            [
             0.4444444444444444,
             "#bd3786"
            ],
            [
             0.5555555555555556,
             "#d8576b"
            ],
            [
             0.6666666666666666,
             "#ed7953"
            ],
            [
             0.7777777777777778,
             "#fb9f3a"
            ],
            [
             0.8888888888888888,
             "#fdca26"
            ],
            [
             1.0,
             "#f0f921"
            ]
           ],
           "diverging": [
            [
             0,
             "#8e0152"
            ],
            [
             0.1,
             "#c51b7d"
            ],
            [
             0.2,
             "#de77ae"
            ],
            [
             0.3,
             "#f1b6da"
            ],
            [
             0.4,
             "#fde0ef"
            ],
            [
             0.5,
             "#f7f7f7"
            ],
            [
             0.6,
             "#e6f5d0"
            ],
            [
             0.7,
             "#b8e186"
            ],
            [
             0.8,
             "#7fbc41"
            ],
            [
             0.9,
             "#4d9221"
            ],
            [
             1,
             "#276419"
            ]
           ]
          },
          "xaxis": {
           "gridcolor": "white",
           "linecolor": "white",
           "ticks": "",
           "title": {
            "standoff": 15
           },
           "zerolinecolor": "white",
           "automargin": true,
           "zerolinewidth": 2
          },
          "yaxis": {
           "gridcolor": "white",
           "linecolor": "white",
           "ticks": "",
           "title": {
            "standoff": 15
           },
           "zerolinecolor": "white",
           "automargin": true,
           "zerolinewidth": 2
          },
          "scene": {
           "xaxis": {
            "backgroundcolor": "#E5ECF6",
            "gridcolor": "white",
            "linecolor": "white",
            "showbackground": true,
            "ticks": "",
            "zerolinecolor": "white",
            "gridwidth": 2
           },
           "yaxis": {
            "backgroundcolor": "#E5ECF6",
            "gridcolor": "white",
            "linecolor": "white",
            "showbackground": true,
            "ticks": "",
            "zerolinecolor": "white",
            "gridwidth": 2
           },
           "zaxis": {
            "backgroundcolor": "#E5ECF6",
            "gridcolor": "white",
            "linecolor": "white",
            "showbackground": true,
            "ticks": "",
            "zerolinecolor": "white",
            "gridwidth": 2
           }
          },
          "shapedefaults": {
           "line": {
            "color": "#2a3f5f"
           }
          },
          "annotationdefaults": {
           "arrowcolor": "#2a3f5f",
           "arrowhead": 0,
           "arrowwidth": 1
          },
          "geo": {
           "bgcolor": "white",
           "landcolor": "#E5ECF6",
           "subunitcolor": "white",
           "showland": true,
           "showlakes": true,
           "lakecolor": "white"
          },
          "title": {
           "x": 0.05
          },
          "mapbox": {
           "style": "light"
          }
         }
        },
        "xaxis": {
         "anchor": "y",
         "domain": [
          0.0,
          1.0
         ],
         "title": {
          "text": "pathology_n_stage"
         }
        },
        "yaxis": {
         "anchor": "x",
         "domain": [
          0.0,
          1.0
         ],
         "title": {
          "text": "count"
         }
        },
        "legend": {
         "tracegroupgap": 0
        },
        "margin": {
         "t": 60
        },
        "barmode": "relative"
       },
       "config": {
        "plotlyServerURL": "https://plot.ly"
       }
      },
      "text/html": "<div>                            <div id=\"78611e23-4b1f-460e-a07f-73a9d48f0021\" class=\"plotly-graph-div\" style=\"height:525px; width:100%;\"></div>            <script type=\"text/javascript\">                require([\"plotly\"], function(Plotly) {                    window.PLOTLYENV=window.PLOTLYENV || {};                                    if (document.getElementById(\"78611e23-4b1f-460e-a07f-73a9d48f0021\")) {                    Plotly.newPlot(                        \"78611e23-4b1f-460e-a07f-73a9d48f0021\",                        [{\"alignmentgroup\":\"True\",\"hovertemplate\":\"pathology_n_stage=%{x}<br>count=%{y}<extra></extra>\",\"legendgroup\":\"\",\"marker\":{\"color\":\"#636efa\",\"pattern\":{\"shape\":\"\"}},\"name\":\"\",\"offsetgroup\":\"\",\"orientation\":\"v\",\"showlegend\":false,\"textposition\":\"auto\",\"x\":[\"0\",\"X\",\"0\",\"0\",\"X\",\"X\",\"X\",\"X\",\"X\",\"X\",\"0\",\"X\",\"X\",\"0\",\"X\",\"0\",\"0\",\"0\",\"X\",\"X\",\"0\",\"0\",\"0\",\"0\",\"0\",\"X\",\"0\",\"X\",\"X\",\"X\",\"X\",\"0\",\"X\",\"0\",\"X\",\"0\",\"X\",\"X\",\"0\",\"0\",\"X\",\"X\",\"0\",\"X\",\"X\",\"X\",\"X\",\"X\",\"0\",\"X\",\"X\",\"0\",\"X\",\"X\",\"X\",\"X\",\"X\",\"X\",\"0\",\"0\",\"X\",\"X\",\"X\",\"X\",\"X\",\"X\",\"X\",\"0\",\"X\",\"X\",\"1\",\"X\",\"X\",\"0\",\"X\",\"0\",\"X\",\"X\",\"0\",\"0\",\"X\",\"0\",\"0\",\"X\",\"X\",\"0\",\"X\",\"0\",\"0\",\"0\",\"X\",\"X\",\"X\",\"X\",\"0\",\"0\",\"X\",\"X\",\"X\",\"X\",\"X\",\"X\",\"X\",\"0\",\"X\",\"X\",\"0\",\"0\",\"0\",\"0\",\"0\",\"X\",\"X\",\"1\",\"1\",\"X\",\"0\",\"0\",\"X\",\"X\",\"X\",\"X\",\"0\",\"0\",\"X\",\"X\",\"X\",\"X\",\"0\",\"0\",\"0\",\"0\",\"X\",\"0\",\"X\",\"0\",\"0\",\"0\",\"0\",\"1\",\"0\",\"0\",\"0\",\"X\",\"0\",\"X\",\"0\",\"0\",\"X\",\"X\",\"X\",\"X\",\"0\",\"X\",\"0\",\"X\",\"0\",\"X\",\"X\",\"X\",\"0\",\"X\",\"0\",\"X\",\"0\",\"X\",\"0\",\"X\",\"0\",\"0\",\"X\",\"X\",\"X\",\"0\",\"X\",\"0\",\"0\",\"0\",\"X\",\"0\",\"1\",\"0\",\"0\",\"X\",\"X\",\"0\",\"0\",\"0\",\"0\",\"X\",\"X\",\"X\",\"0\",\"X\",\"X\",\"X\",\"X\",\"X\",\"0\",\"0\",\"0\",\"0\",\"0\",\"1\",\"0\",\"X\",\"X\",\"X\",\"X\",\"0\",\"X\",\"X\",\"X\",\"X\",\"X\",\"1\",\"X\",\"X\",\"X\",\"0\",\"X\",\"X\",\"X\",\"X\",\"1\",\"X\",\"X\",\"X\",\"X\",\"X\",\"X\",\"X\",\"X\",\"0\",\"X\",\"X\",\"X\",\"X\",\"X\",\"X\",\"X\",\"0\",\"X\",\"X\",\"0\",\"1\",\"X\",\"X\",\"1\",\"0\",\"X\",\"X\",\"X\",\"0\",\"X\",\"0\",\"0\",\"0\",\"0\",\"0\",\"0\",\"0\",\"X\",\"X\",\"X\",\"0\",\"X\",\"0\",\"0\",\"0\",\"X\",\"X\",\"0\",\"0\",\"0\",\"0\",\"0\",\"0\",\"X\",\"0\",\"X\",\"1\",\"0\",\"X\",\"0\",\"X\",\"0\",\"X\",\"X\",\"0\",\"X\",\"2\",\"X\",\"0\",\"0\",\"0\",\"0\",\"X\",\"X\",\"X\"],\"xaxis\":\"x\",\"y\":[1,1,1,1,1,1,1,1,1,1,1,1,1,1,1,1,1,1,1,1,1,1,1,1,1,1,1,1,1,1,1,1,1,1,1,1,1,1,1,1,1,1,1,1,1,1,1,1,1,1,1,1,1,1,1,1,1,1,1,1,1,1,1,1,1,1,1,1,1,1,1,1,1,1,1,1,1,1,1,1,1,1,1,1,1,1,1,1,1,1,1,1,1,1,1,1,1,1,1,1,1,1,1,1,1,1,1,1,1,1,1,1,1,1,1,1,1,1,1,1,1,1,1,1,1,1,1,1,1,1,1,1,1,1,1,1,1,1,1,1,1,1,1,1,1,1,1,1,1,1,1,1,1,1,1,1,1,1,1,1,1,1,1,1,1,1,1,1,1,1,1,1,1,1,1,1,1,1,1,1,1,1,1,1,1,1,1,1,1,1,1,1,1,1,1,1,1,1,1,1,1,1,1,1,1,1,1,1,1,1,1,1,1,1,1,1,1,1,1,1,1,1,1,1,1,1,1,1,1,1,1,1,1,1,1,1,1,1,1,1,1,1,1,1,1,1,1,1,1,1,1,1,1,1,1,1,1,1,1,1,1,1,1,1,1,1,1,1,1,1,1,1,1,1,1,1,1,1,1,1,1,1,1,1,1,1,1,1,1,1,1,1,1,1,1,1,1,1,1,1],\"yaxis\":\"y\",\"type\":\"bar\"}],                        {\"template\":{\"data\":{\"histogram2dcontour\":[{\"type\":\"histogram2dcontour\",\"colorbar\":{\"outlinewidth\":0,\"ticks\":\"\"},\"colorscale\":[[0.0,\"#0d0887\"],[0.1111111111111111,\"#46039f\"],[0.2222222222222222,\"#7201a8\"],[0.3333333333333333,\"#9c179e\"],[0.4444444444444444,\"#bd3786\"],[0.5555555555555556,\"#d8576b\"],[0.6666666666666666,\"#ed7953\"],[0.7777777777777778,\"#fb9f3a\"],[0.8888888888888888,\"#fdca26\"],[1.0,\"#f0f921\"]]}],\"choropleth\":[{\"type\":\"choropleth\",\"colorbar\":{\"outlinewidth\":0,\"ticks\":\"\"}}],\"histogram2d\":[{\"type\":\"histogram2d\",\"colorbar\":{\"outlinewidth\":0,\"ticks\":\"\"},\"colorscale\":[[0.0,\"#0d0887\"],[0.1111111111111111,\"#46039f\"],[0.2222222222222222,\"#7201a8\"],[0.3333333333333333,\"#9c179e\"],[0.4444444444444444,\"#bd3786\"],[0.5555555555555556,\"#d8576b\"],[0.6666666666666666,\"#ed7953\"],[0.7777777777777778,\"#fb9f3a\"],[0.8888888888888888,\"#fdca26\"],[1.0,\"#f0f921\"]]}],\"heatmap\":[{\"type\":\"heatmap\",\"colorbar\":{\"outlinewidth\":0,\"ticks\":\"\"},\"colorscale\":[[0.0,\"#0d0887\"],[0.1111111111111111,\"#46039f\"],[0.2222222222222222,\"#7201a8\"],[0.3333333333333333,\"#9c179e\"],[0.4444444444444444,\"#bd3786\"],[0.5555555555555556,\"#d8576b\"],[0.6666666666666666,\"#ed7953\"],[0.7777777777777778,\"#fb9f3a\"],[0.8888888888888888,\"#fdca26\"],[1.0,\"#f0f921\"]]}],\"heatmapgl\":[{\"type\":\"heatmapgl\",\"colorbar\":{\"outlinewidth\":0,\"ticks\":\"\"},\"colorscale\":[[0.0,\"#0d0887\"],[0.1111111111111111,\"#46039f\"],[0.2222222222222222,\"#7201a8\"],[0.3333333333333333,\"#9c179e\"],[0.4444444444444444,\"#bd3786\"],[0.5555555555555556,\"#d8576b\"],[0.6666666666666666,\"#ed7953\"],[0.7777777777777778,\"#fb9f3a\"],[0.8888888888888888,\"#fdca26\"],[1.0,\"#f0f921\"]]}],\"contourcarpet\":[{\"type\":\"contourcarpet\",\"colorbar\":{\"outlinewidth\":0,\"ticks\":\"\"}}],\"contour\":[{\"type\":\"contour\",\"colorbar\":{\"outlinewidth\":0,\"ticks\":\"\"},\"colorscale\":[[0.0,\"#0d0887\"],[0.1111111111111111,\"#46039f\"],[0.2222222222222222,\"#7201a8\"],[0.3333333333333333,\"#9c179e\"],[0.4444444444444444,\"#bd3786\"],[0.5555555555555556,\"#d8576b\"],[0.6666666666666666,\"#ed7953\"],[0.7777777777777778,\"#fb9f3a\"],[0.8888888888888888,\"#fdca26\"],[1.0,\"#f0f921\"]]}],\"surface\":[{\"type\":\"surface\",\"colorbar\":{\"outlinewidth\":0,\"ticks\":\"\"},\"colorscale\":[[0.0,\"#0d0887\"],[0.1111111111111111,\"#46039f\"],[0.2222222222222222,\"#7201a8\"],[0.3333333333333333,\"#9c179e\"],[0.4444444444444444,\"#bd3786\"],[0.5555555555555556,\"#d8576b\"],[0.6666666666666666,\"#ed7953\"],[0.7777777777777778,\"#fb9f3a\"],[0.8888888888888888,\"#fdca26\"],[1.0,\"#f0f921\"]]}],\"mesh3d\":[{\"type\":\"mesh3d\",\"colorbar\":{\"outlinewidth\":0,\"ticks\":\"\"}}],\"scatter\":[{\"fillpattern\":{\"fillmode\":\"overlay\",\"size\":10,\"solidity\":0.2},\"type\":\"scatter\"}],\"parcoords\":[{\"type\":\"parcoords\",\"line\":{\"colorbar\":{\"outlinewidth\":0,\"ticks\":\"\"}}}],\"scatterpolargl\":[{\"type\":\"scatterpolargl\",\"marker\":{\"colorbar\":{\"outlinewidth\":0,\"ticks\":\"\"}}}],\"bar\":[{\"error_x\":{\"color\":\"#2a3f5f\"},\"error_y\":{\"color\":\"#2a3f5f\"},\"marker\":{\"line\":{\"color\":\"#E5ECF6\",\"width\":0.5},\"pattern\":{\"fillmode\":\"overlay\",\"size\":10,\"solidity\":0.2}},\"type\":\"bar\"}],\"scattergeo\":[{\"type\":\"scattergeo\",\"marker\":{\"colorbar\":{\"outlinewidth\":0,\"ticks\":\"\"}}}],\"scatterpolar\":[{\"type\":\"scatterpolar\",\"marker\":{\"colorbar\":{\"outlinewidth\":0,\"ticks\":\"\"}}}],\"histogram\":[{\"marker\":{\"pattern\":{\"fillmode\":\"overlay\",\"size\":10,\"solidity\":0.2}},\"type\":\"histogram\"}],\"scattergl\":[{\"type\":\"scattergl\",\"marker\":{\"colorbar\":{\"outlinewidth\":0,\"ticks\":\"\"}}}],\"scatter3d\":[{\"type\":\"scatter3d\",\"line\":{\"colorbar\":{\"outlinewidth\":0,\"ticks\":\"\"}},\"marker\":{\"colorbar\":{\"outlinewidth\":0,\"ticks\":\"\"}}}],\"scattermapbox\":[{\"type\":\"scattermapbox\",\"marker\":{\"colorbar\":{\"outlinewidth\":0,\"ticks\":\"\"}}}],\"scatterternary\":[{\"type\":\"scatterternary\",\"marker\":{\"colorbar\":{\"outlinewidth\":0,\"ticks\":\"\"}}}],\"scattercarpet\":[{\"type\":\"scattercarpet\",\"marker\":{\"colorbar\":{\"outlinewidth\":0,\"ticks\":\"\"}}}],\"carpet\":[{\"aaxis\":{\"endlinecolor\":\"#2a3f5f\",\"gridcolor\":\"white\",\"linecolor\":\"white\",\"minorgridcolor\":\"white\",\"startlinecolor\":\"#2a3f5f\"},\"baxis\":{\"endlinecolor\":\"#2a3f5f\",\"gridcolor\":\"white\",\"linecolor\":\"white\",\"minorgridcolor\":\"white\",\"startlinecolor\":\"#2a3f5f\"},\"type\":\"carpet\"}],\"table\":[{\"cells\":{\"fill\":{\"color\":\"#EBF0F8\"},\"line\":{\"color\":\"white\"}},\"header\":{\"fill\":{\"color\":\"#C8D4E3\"},\"line\":{\"color\":\"white\"}},\"type\":\"table\"}],\"barpolar\":[{\"marker\":{\"line\":{\"color\":\"#E5ECF6\",\"width\":0.5},\"pattern\":{\"fillmode\":\"overlay\",\"size\":10,\"solidity\":0.2}},\"type\":\"barpolar\"}],\"pie\":[{\"automargin\":true,\"type\":\"pie\"}]},\"layout\":{\"autotypenumbers\":\"strict\",\"colorway\":[\"#636efa\",\"#EF553B\",\"#00cc96\",\"#ab63fa\",\"#FFA15A\",\"#19d3f3\",\"#FF6692\",\"#B6E880\",\"#FF97FF\",\"#FECB52\"],\"font\":{\"color\":\"#2a3f5f\"},\"hovermode\":\"closest\",\"hoverlabel\":{\"align\":\"left\"},\"paper_bgcolor\":\"white\",\"plot_bgcolor\":\"#E5ECF6\",\"polar\":{\"bgcolor\":\"#E5ECF6\",\"angularaxis\":{\"gridcolor\":\"white\",\"linecolor\":\"white\",\"ticks\":\"\"},\"radialaxis\":{\"gridcolor\":\"white\",\"linecolor\":\"white\",\"ticks\":\"\"}},\"ternary\":{\"bgcolor\":\"#E5ECF6\",\"aaxis\":{\"gridcolor\":\"white\",\"linecolor\":\"white\",\"ticks\":\"\"},\"baxis\":{\"gridcolor\":\"white\",\"linecolor\":\"white\",\"ticks\":\"\"},\"caxis\":{\"gridcolor\":\"white\",\"linecolor\":\"white\",\"ticks\":\"\"}},\"coloraxis\":{\"colorbar\":{\"outlinewidth\":0,\"ticks\":\"\"}},\"colorscale\":{\"sequential\":[[0.0,\"#0d0887\"],[0.1111111111111111,\"#46039f\"],[0.2222222222222222,\"#7201a8\"],[0.3333333333333333,\"#9c179e\"],[0.4444444444444444,\"#bd3786\"],[0.5555555555555556,\"#d8576b\"],[0.6666666666666666,\"#ed7953\"],[0.7777777777777778,\"#fb9f3a\"],[0.8888888888888888,\"#fdca26\"],[1.0,\"#f0f921\"]],\"sequentialminus\":[[0.0,\"#0d0887\"],[0.1111111111111111,\"#46039f\"],[0.2222222222222222,\"#7201a8\"],[0.3333333333333333,\"#9c179e\"],[0.4444444444444444,\"#bd3786\"],[0.5555555555555556,\"#d8576b\"],[0.6666666666666666,\"#ed7953\"],[0.7777777777777778,\"#fb9f3a\"],[0.8888888888888888,\"#fdca26\"],[1.0,\"#f0f921\"]],\"diverging\":[[0,\"#8e0152\"],[0.1,\"#c51b7d\"],[0.2,\"#de77ae\"],[0.3,\"#f1b6da\"],[0.4,\"#fde0ef\"],[0.5,\"#f7f7f7\"],[0.6,\"#e6f5d0\"],[0.7,\"#b8e186\"],[0.8,\"#7fbc41\"],[0.9,\"#4d9221\"],[1,\"#276419\"]]},\"xaxis\":{\"gridcolor\":\"white\",\"linecolor\":\"white\",\"ticks\":\"\",\"title\":{\"standoff\":15},\"zerolinecolor\":\"white\",\"automargin\":true,\"zerolinewidth\":2},\"yaxis\":{\"gridcolor\":\"white\",\"linecolor\":\"white\",\"ticks\":\"\",\"title\":{\"standoff\":15},\"zerolinecolor\":\"white\",\"automargin\":true,\"zerolinewidth\":2},\"scene\":{\"xaxis\":{\"backgroundcolor\":\"#E5ECF6\",\"gridcolor\":\"white\",\"linecolor\":\"white\",\"showbackground\":true,\"ticks\":\"\",\"zerolinecolor\":\"white\",\"gridwidth\":2},\"yaxis\":{\"backgroundcolor\":\"#E5ECF6\",\"gridcolor\":\"white\",\"linecolor\":\"white\",\"showbackground\":true,\"ticks\":\"\",\"zerolinecolor\":\"white\",\"gridwidth\":2},\"zaxis\":{\"backgroundcolor\":\"#E5ECF6\",\"gridcolor\":\"white\",\"linecolor\":\"white\",\"showbackground\":true,\"ticks\":\"\",\"zerolinecolor\":\"white\",\"gridwidth\":2}},\"shapedefaults\":{\"line\":{\"color\":\"#2a3f5f\"}},\"annotationdefaults\":{\"arrowcolor\":\"#2a3f5f\",\"arrowhead\":0,\"arrowwidth\":1},\"geo\":{\"bgcolor\":\"white\",\"landcolor\":\"#E5ECF6\",\"subunitcolor\":\"white\",\"showland\":true,\"showlakes\":true,\"lakecolor\":\"white\"},\"title\":{\"x\":0.05},\"mapbox\":{\"style\":\"light\"}}},\"xaxis\":{\"anchor\":\"y\",\"domain\":[0.0,1.0],\"title\":{\"text\":\"pathology_n_stage\"}},\"yaxis\":{\"anchor\":\"x\",\"domain\":[0.0,1.0],\"title\":{\"text\":\"count\"}},\"legend\":{\"tracegroupgap\":0},\"margin\":{\"t\":60},\"barmode\":\"relative\"},                        {\"responsive\": true}                    ).then(function(){\n                            \nvar gd = document.getElementById('78611e23-4b1f-460e-a07f-73a9d48f0021');\nvar x = new MutationObserver(function (mutations, observer) {{\n        var display = window.getComputedStyle(gd).display;\n        if (!display || display === 'none') {{\n            console.log([gd, 'removed!']);\n            Plotly.purge(gd);\n            observer.disconnect();\n        }}\n}});\n\n// Listen for the removal of the full notebook cells\nvar notebookContainer = gd.closest('#notebook-container');\nif (notebookContainer) {{\n    x.observe(notebookContainer, {childList: true});\n}}\n\n// Listen for the clearing of the current output cell\nvar outputEl = gd.closest('.output');\nif (outputEl) {{\n    x.observe(outputEl, {childList: true});\n}}\n\n                        })                };                });            </script>        </div>"
     },
     "metadata": {},
     "output_type": "display_data"
    }
   ],
   "source": [
    "fig = px.bar(df, x = 'pathology_n_stage')\n",
    "fig.show()"
   ],
   "metadata": {
    "collapsed": false
   }
  },
  {
   "cell_type": "code",
   "execution_count": null,
   "outputs": [],
   "source": [],
   "metadata": {
    "collapsed": false
   }
  }
 ],
 "metadata": {
  "kernelspec": {
   "display_name": "Python 3",
   "language": "python",
   "name": "python3"
  },
  "language_info": {
   "codemirror_mode": {
    "name": "ipython",
    "version": 2
   },
   "file_extension": ".py",
   "mimetype": "text/x-python",
   "name": "python",
   "nbconvert_exporter": "python",
   "pygments_lexer": "ipython2",
   "version": "2.7.6"
  }
 },
 "nbformat": 4,
 "nbformat_minor": 0
}
